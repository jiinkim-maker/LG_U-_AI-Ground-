{
  "cells": [
    {
      "cell_type": "markdown",
      "metadata": {
        "id": "SOKnNSACYU0-"
      },
      "source": [
        "# LGU+ 경진대회 - 베이스라인  \n",
        "- [Neural Collaborative Filtering(NCF)](https://arxiv.org/pdf/1708.05031.pdf) 논문의 NeuMF를 참고하여 side-information을 결합한 모델을 PyTorch로 구현\n",
        "- 구현된 모델의 검증 데이터셋과 리더보드의 성능을 확인"
      ]
    },
    {
      "cell_type": "markdown",
      "metadata": {
        "id": "V3D-yUWQZYZp"
      },
      "source": [
        "<참고자료>\n",
        "https://supkoon.tistory.com/28"
      ]
    },
    {
      "cell_type": "markdown",
      "metadata": {
        "id": "xxPEk5rrqI1l"
      },
      "source": [
        "베이스라인의 간단한 설명은 아래와 같습니다.\n",
        "\n",
        "데이터 전처리 파트에서는 중복된 시청이력을 삭제하고 80:20으로 학습 데이터와 검증 데이터를 생성합니다. \n",
        "\n",
        "NeuMF 모델을 참고하여 메타 정보를 결합할 수 있는 모델을 구현합니다. 그리고, 해당 모델을 학습시켜주는 코드와 추론 코드의 구현을 진행합니다. \n",
        "\n",
        "이후, 생성한 모델의 하이퍼파라미터와 optimizer, loss를 설정하고 학습을 진행합니다. \n",
        "\n",
        "마지막으로, 검증 데이터에 대해서 가장 높은 성능을 보인 가중치 파일을 불러와서 모든 유저에 대해 추천결과를 생성하고 생성된 파일을 저장합니다. \n",
        "\n",
        "이후, submission 폴더 내의 submission.csv 파일을 리더보드에 제출하면 베이스라인의 성능을 확인할 수 있습니다. 보다 자세한 내용은 baseline.ipynb 파일을 참고하시기 바랍니다. "
      ]
    },
    {
      "cell_type": "markdown",
      "metadata": {
        "id": "FvWYNisosSgO"
      },
      "source": [
        "# 논문 분석\n",
        "https://leehyejin91.github.io/post-ncf/"
      ]
    },
    {
      "cell_type": "markdown",
      "metadata": {
        "id": "iqgbGD6BfDHQ"
      },
      "source": [
        "## 목차 \n",
        "- 데이터 전처리 \n",
        "    - 기본 설정\n",
        "    - 데이터 불러오기 \n",
        "    - 학습 및 검증 데이터 생성 \n",
        "- NeuMF 구현    \n",
        "    - 모델 구현 \n",
        "    - 학습 및 추론 코드 구현\n",
        "- 모델 학습 \n",
        "    - 하이퍼파라미터 설정 & 최적화 기법 설정\n",
        "    - 모델 학습 \n",
        "    - 학습 과정 시각화 \n",
        "- 제출 \n",
        "    - 모든 유저에 대해 추천 결과 생성\n",
        "    - 저장 "
      ]
    },
    {
      "cell_type": "markdown",
      "metadata": {
        "id": "07lHW5CAYU1F"
      },
      "source": [
        "## 데이터 전처리\n",
        "### 기본 설정"
      ]
    },
    {
      "cell_type": "code",
      "execution_count": null,
      "metadata": {
        "id": "iHstgRfiYU1G"
      },
      "outputs": [],
      "source": [
        "# 패키지 로드\n",
        "import warnings\n",
        "warnings.filterwarnings('ignore')\n",
        "\n",
        "import numpy as np\n",
        "import pandas as pd\n",
        "from tqdm.notebook import tqdm\n",
        "from sklearn.model_selection import train_test_split\n",
        "from collections import defaultdict\n",
        "import os, random\n",
        "\n",
        "from scipy import sparse\n",
        "from sklearn.preprocessing import LabelEncoder\n",
        "import matplotlib.pyplot as plt\n",
        "%matplotlib inline\n",
        "\n",
        "import torch\n",
        "import torch.nn as nn\n",
        "from torch.nn.init import normal_\n",
        "from torch.utils.data import TensorDataset, DataLoader\n",
        "import torch.nn.functional as F\n",
        "\n",
        "import plotnine\n",
        "from plotnine import *"
      ]
    },
    {
      "cell_type": "code",
      "execution_count": null,
      "metadata": {
        "colab": {
          "base_uri": "https://localhost:8080/"
        },
        "id": "4LxJyhSJfv68",
        "outputId": "0edbe22a-fc11-43c2-b4cd-398c3182cd6d"
      },
      "outputs": [
        {
          "output_type": "stream",
          "name": "stdout",
          "text": [
            "Mounted at /content/drive\n"
          ]
        }
      ],
      "source": [
        "from google.colab import drive\n",
        "drive.mount('/content/drive')"
      ]
    },
    {
      "cell_type": "code",
      "execution_count": null,
      "metadata": {
        "id": "TVR2lebmfDHU"
      },
      "outputs": [],
      "source": [
        "# 하이퍼 파라미터 \n",
        "class cfg: \n",
        "    gpu_idx = 0\n",
        "    device = torch.device(\"cuda:{}\".format(gpu_idx) if torch.cuda.is_available() else \"cpu\")\n",
        "    top_k = 25\n",
        "    seed = 42\n",
        "    neg_ratio = 100     # negative sampling할 때, negative sample 활용 비율\n",
        "    test_size = 0.2"
      ]
    },
    {
      "cell_type": "code",
      "execution_count": null,
      "metadata": {
        "id": "5GrHkU7AYU1I"
      },
      "outputs": [],
      "source": [
        "# 시드 고정 \n",
        "def seed_everything(random_seed):\n",
        "    torch.manual_seed(random_seed)\n",
        "    torch.cuda.manual_seed(random_seed)\n",
        "    torch.cuda.manual_seed_all(random_seed)\n",
        "    torch.backends.cudnn.deterministic = True\n",
        "    torch.backends.cudnn.benchmark = False\n",
        "    np.random.seed(random_seed)\n",
        "    random.seed(random_seed)\n",
        "    \n",
        "seed_everything(cfg.seed)"
      ]
    },
    {
      "cell_type": "code",
      "execution_count": null,
      "metadata": {
        "id": "JyOcFCGffDHV"
      },
      "outputs": [],
      "source": [
        "# 경로 설정\n",
        "data_path = '../data'\n",
        "saved_path = './saved'\n",
        "output_path = './submission'"
      ]
    },
    {
      "cell_type": "markdown",
      "metadata": {
        "id": "huw6BwpTYU1J"
      },
      "source": [
        "### 데이터 불러오기\n",
        "- history_data : 시청 시작 데이터\n",
        "- profile_data : 프로필 정보 \n",
        "- meta_data : 콘텐츠 일반 메타 정보"
      ]
    },
    {
      "cell_type": "markdown",
      "metadata": {
        "id": "mylXz0bYeZjE"
      },
      "source": [
        "![image.png](data:image/png;base64,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)"
      ]
    },
    {
      "cell_type": "markdown",
      "metadata": {
        "id": "PRwFPaishEg3"
      },
      "source": [
        "![image.png](data:image/png;base64,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)"
      ]
    },
    {
      "cell_type": "markdown",
      "metadata": {
        "id": "XW_R0-SrbBoE"
      },
      "source": [
        "![image.png](data:image/png;base64,iVBORw0KGgoAAAANSUhEUgAAA+MAAAJSCAYAAACoZRS0AAAgAElEQVR4nOydeZwVxb32nzpndmAYkEVBEBFUkH0RRMWIehXXGDVR405WjRrcbhJxiZDlxveGm5iYuCRqJAavcYlxwajE6w5IUNAoiigi6wAzwAyznlPvH91VXVVd3af7bDOMv+9HmdPd1VX11PJ0Va+Mc85BEARBEARBEARBEETRSHR0BgiCIAiCIAiCIAjiiwZNxgmCIAiCIAiCIAiiyNBknCAIgiAIgiAIgiCKDE3GCYIgCIIgCIIgCKLI0GScIAiCIAiCIAiCIIoMTcYJgiAIgiAIgiAIosjQZJwgCIIgCIIgCIIgigxNxgmCIAiCIAiCIAiiyNBknCAIgiAIgiAIgiCKDE3GCYIgCIIgCIIgCKLI0GScIAiCIAiCIAiCIIoMTcYJgiAIgiAIgiAIosjQZJwgCIIgCIIgCIIgigxNxgmCIAiCIAiCIAiiyNBknCAIgiAIgiAIgiCKDE3GCYIgCIIgCIIgCKLI0GScIAiCIAiCIAiCIIoMTcYJgiAIgiAIgiAIosjQZJwgCIIgCIIgCIIgikxJR2dgw4YNWL9+vVwuLy/HYYcdhrKysoKmu2bNGmzbtk0uDxo0CAMHDixomnHy06dPHwwbNqwgaaVSKaxevRq7du0qSnqCjqrrzoJZx9XV1TjkkEOQTCY7MFcEQRAEQRAEQXQEHT4Zf+uttzB79my5PH36dMyfPz/jBM2c2AVNJp9//nksWLBALs+YMQMXX3wxnn32WcyfP1+unz9/flEm4w888AAWL14sly+44AKccMIJvvzMnj0bV155ZUHy0NbWhoceeggPPfRQUdITZFvXXQWzjs8//3zMmTOHJuMEQRAEQRAE8QUkq8m4eYUvLocccgh69eqV9f6Af2IXNJncs2cPXnnlFbk8adKknNLNlV27dmn5+cpXvpJTfJxzNDQ0oL29HYBztbmqqiqnOPdWUqkU3n//fbz99ttYuXIltmzZom3v378/Jk2ahEmTJuGAAw7IehLc0NCAZcuW4f3338fq1asBACNHjsTYsWMxbtw4VFRU5KyFIAiCIAiCIIiuTVaTcfMKX1weeeQRTJw4Mev9CSCdTuONN97Ar3/9ayxbtkzbNmPGDMyaNQtTpkxBIpHbawHeffdd3H777bH3E1f8i8GePXuwcOFC3HfffdiwYUNo2L/+9a8AnBNCF1xwAc4888zIJy8aGxvx4IMP4u6770Z9fb227e9//zsAYODAgbjssstw3nnn0aScIAiCIAiCIIhAOvw29b2R5uZmzJs3T7vNO4x83wLe3NyMu+66C7/61a+s2xcvXowlS5bgyiuvxKxZs3K6DbqlpUW7kh+VXK/4R4FzjhUrVuC2227DypUrY+27evVq3HTTTXjiiSdwyy23YNSoUaHhN2zYgJtvvhn//Oc/M4abO3cu3n33Xdx4443o3bt3aB7uvfdelJQ43XDKlCkYP358LB0EQRAEQRAEQeyd7BWT8cbGRrz//vvyVmwA+PTTT7UwmzZtwptvvimXS0pKMGLEiKLlsVikUincf//9gRNxQWNjI+644w5UVFTgwgsvBGOsSDksHkuXLsV1113nuxo+dOhQHH/88Rg5ciT69esHANi6dSuWLVuGl156SQu/fPlyfP/738dPf/pTHH744dZ0GhoaMH/+fN9EvFu3bhg5ciTa29uxYsUKbdvjjz+OffbZB9ddd13gM/HLly/H8uXL5fL8+fNpMk4QBEEQBEEQXxCymoxfeeWVviu9dXV1mD17Nl5++WW5Ll9XhLds2YJbbrkF77//fmCYhQsXYuHChXJ5xIgRuOOOO3JOu7Px73//G3/+85+1dWPGjMHMmTPR3NyMRYsWyeeYGxsbsWDBAhx++OE49NBD85L+kCFDcPXVV6N///6h4QYNGpSX9ILYvHkzfv3rX2sT66FDh+L666/Hsccea50An3766WhtbcWiRYvw61//GmvXrgUArF27Fvfeey8OOugg7LPPPr79XnvtNTz22GNyuVu3bvjWt76FSy+9FN27dwcA7NixA3fddRfuueceGe7JJ5/E8ccfHzjJJwiCIAiCIAjii0veroxzzpFKpbR16XQanPMueVXW5PLLL8esWbOs28rLy/OSRmtrKx5//HFtAnrCCSfgJz/5Cfr06QMA+NrXvoYbb7xRXsVds2YNnn32WQwfPjwvb+2urKzE6NGjMXTo0JzjyoWXX34Zb7zxhlweNmwYfvnLX2a83bysrAynn346+vfvr11Vf+GFF3DKKafgjDPO0MI3Nzf7btM/77zz8O1vf1ub8Pfu3RtXXnkltm/fLifuW7duxdKlSzF58mRrHxg4cCCGDBkin+v/or54jyAIgiAIgiC+iORtMr5161bf7cKfffYZ9uzZg27dusnl22+/Xfu+9Y4dOzJnsqQEQ4cOlRNOsd97770nl4cOHap9mqy6ulo+i1sMysvLc35DfCY+//xzLFmyRC5369YNF198sVYu++67L84991wsXboUjY2NAIDXX38dX/3qVzv0O+r5pKmpyXdb+MyZM2M9ljBp0iScfvrp+N3vfifXLV++HCeddJJ28qSpqQmff/65tu/06dOtV967d++OadOmaVfRP/nkE60PqBxzzDGYM2cOveiNIAiCIAiCIL6A5G22unr1at9z3KtWrcLGjRsxfPhwAEB7ezvWrl0beru5jcGDB/tuOX/ooYcwZ84cuXzGGWdYb4k3J217M2bZTZ8+HaNHj/aFGzNmDEaPHi2foV++fDk2bNjQZSbjzc3N2LRpk7Zu6NChsa78J5NJHHzwwdq6DRs2oLm5WZuMNzc3y5MagsrKysB4zRe2bd++Ha2trdbJOEEQBEEQBEEQX1xy++6VS0NDg/WN22vWrMELL7zgu309H2zfvl1bFrfEd2U++ugjbXnIkCHWW5tramowbNgwbd2aNWsKmreuQEVFhe9TcBUVFb6JdF1dXWAcGzdu1Jb322+/wCvfra2tqK+vR11dHerq6tDc3JxlzgmCIAiCIAiC2NvI+co45xyLFy/Gc889Z93+0EMPYcKECZgyZQp69OiBs846C62trXL7hx9+iCeeeCLXbKC2thYtLS0oLS3F6tWr5a3w5tX6YvLAAw9g8eLF2rpM38EOoq2tzXcCYuDAgdarweXl5ejbt6+2ztw3Wz777DP88Ic/DL21+oILLsCePXswe/bsvKRpUllZif33319b98EHH+DUU0+NfHW8tbUV77zzjrbONnHu3r07hg0bpr2YcNGiRZg6dap8eZugtrYWL774orZu+PDhgVfS//rXv8rvngPO29TNZ9YJgiAIgiAIguia5DwZX7FiBX7zm99ot/L269cPW7duBeBMPv/rv/4LP//5z3HwwQfjsssu0/b/29/+Fnsy3tzcjC1btmjrNm3ahJaWFgDOCYCo3wAvJLt27crqG902UqmU78ppR9z63NjYiGXLloWGKfQ3xisqKjBmzBitjp966ilMnz4dU6dOzfjCQM45Fi1ahEceeURbP3nyZJSWlmrrSktLMWPGDDz88MOyjT/22GNoa2vD5ZdfjmHDhiGdTmPFihW4++67tc+fDRs2DNOmTctVLkEQBEEQBEEQXZCsb1PnnGP58uW46aabtFugjz/+eNxxxx0YN26cXPf222/j8ssvxz//+U+k0+nccgxgz549WLdunbZu8+bNebv62xXparfxH3/88TjxxBPl8oYNG3DFFVfgvvvuQ0NDQ+B+27dvxz333INbb71VO4F08sknY+rUqdZ9pkyZgosvvlhb9/e//x0zZ87E8OHDccghh+Dcc8/13QVx9tlny/clEARBEARBEARBqGR1ZXzHjh1YsGAB7rnnHm1CM3DgQMyaNQuTJk3CJZdcghtvvFFuX7t2LWbNmoUTTzwRl112GSZMmJD1p7Y2btzoe376/fffx0cffYQBAwZkFWchGDVqFG644QZt3dKlS/HSSy/FjiuZTPpuoTZfLBZGIpHIyyfmonxnfNCgQdhnn32wfPlybf1zzz2HH/3oRznnAXBelHbFFVdgy5YtePvttwEA9fX1mDdvHubPn4+xY8di/Pjx8u6B+vp6LFu2zPpCv4kTJ+Kaa65Bz549rWklk0lcfvnlAIA777wzY966deuG733ve7jkkktC2/jZZ5+Na665Rr4wLuzFcARBEARBEARBdC1iTcZTqRTuv/9+/Pa3v0V9fb22rVu3brj++utx+OGHgzGGU045Bc3NzZg7d642aXzuuecwaNAgjB07NqvJOOccS5YskbfBq7zyyis45phjMG/ePMybNw+Acxt8oZ5dzsSxxx6LY489VlvX1taW1WS8tLQU++yzj7autrbW+h33lpYW1NbWauvMfbMlznfGzZMH+Z5sjho1Cv/zP/+Dn/3sZ9o7CxobG/H666/j9ddfzxjHaaedhh/84AfYb7/9QsNVVVXhmmuuwZFHHom77rpLe4Zc5cQTT8Q3v/lNjB8/PuPJj7KyMtTU1NCnzQiCIAiCIAjiC0isyXgymcSJJ56IRYsWaVc9a2pqcOONN+KUU06RE5BkMolzzjkH/fv3x9y5c7F27VoAwLhx43D++edbv9Mchdra2sDJ7AsvvIBzzjkHY8eOzSruzs6gQYO05Q8//BANDQ3o0aOHtn7Pnj1Yv369tm7w4MEFz19HMHjwYJx00kmBLxDMxIwZMzJOxAWJRAJHHHEEpk6divr6eqxduxZtbW0AnJMlQ4cORU1NTV7uQCAIgiAIgiAIomsT+zb1/fffHxdddBE++OADNDY2YsaMGfj+97+Pww47zDcJYYzhmGOOwZgxY/Doo4/igQcewEUXXYQDDjggq8yKN7e/9tprct348ePx4YcforGxEVu3bsWDDz6Igw46yPem667AIYccgmHDhsln9JcvX461a9f6Tj68//77eOutt+TyxIkTceCBBxY1rx3JiBEjcOqpp4IxJu/gqKmpAeccTz31VOzv3JswxtCrVy9MnDgx1n7V1dU4+uij5XLv3r1p4k4QBEEQBEEQX1Cyemb8uOOOw9y5czFs2DCMHDnS921mk169euEb3/gGLrnkEjDGsp6AfPzxx3jwwQflcr9+/XDllVfi4YcflldGH3vsMRx00EGYNWtW1lffOysDBw7EuHHj5GR869atWLhwIYYNGyafjd62bRseeOAB7dGA0aNH+z511pXp27cvzj33XPTq1UtbX1dXhyVLluQ8Gc+Wiy++2PciOIIgCIIgCIIgvphkNRmvqqrCl7/85fiJlWT/JbVPP/0Uc+fO1SZSJ598MqZNm4a2tja8+uqrcgJ6++23Y/fu3bjiiiuyTi8uLS0tqKurA+B8Zm3Xrl3YunUr1q1bh1WrVmHGjBk499xzc0qjqqoKp512Gp599lmp9eGHH0ZtbS3OPfdctLW14eGHH9aeZx44cCDOPPPMvJ2YSKfTaGhokFoBR/v69euRSqXw2WefYcuWLXjvvfew//7747rrrusyz0Q3Nzdj3rx5efts3vnnn485c+Z0mfIhCIIgCIIgCCI6OX9nHACef/55LFiwQC4PGDAAP/jBDwLfTh0Hzjneffdd3Hbbbdpz6uok8+ijj8ZZZ52FP/3pT3L773//e6xYsQKHH354znmIwp133hn6pu3Ro0fnJZ0pU6bgvPPOw7333ivXLV682PdZLcHXv/51jBw5Mi9pA8Dq1asjn4g59thj0dLSQpNNgiAIgiAIgiAIg7xMxvfs2YNXXnlFLk+fPj3y98Srqqq052j3228/7bb3xsZGPPDAA77PZF177bUYNWoUAOet3d/73vewbds2PPPMMwCct7ufd955efmueT6ora1FS0tLzvGUlZXh8ssvR0NDAxYuXBga9tJLL8VFF12U9SfkcqW1tRWpVKpD0iYIgiAIgiAIgujM5GUyngsnnHACTjjhhMDt3bt3x3e+8x2sXbtWfk/6+uuvx8knn6w9e96nTx/MmzcPvXv3xoIFC3DmmWfi+OOPx/PPP19wDWEcdthhGDFiBCZPnpzx2fqo1NTU4Oabb8bw4cPxxz/+ERs2bNC2Dx06FFdddRVOOumkoj43361bN4wcORLdu3fHyJEjMWTIEPkN7a5AaWkpzj//fJx66qlZ7f/kk09mPIFCEARBEARBEMQXgw6fjEdh2LBh+O53v4ubbroJV1xxBb72ta9ZJ5k1NTW49dZb8eUvfxkDBw5EVVVVQfJTXl6O//zP/8S1114bGKZ79+4oLS0tSPqAczfApZdeigsuuADr1q3Dtm3bADgvtTvggAPydjV8zJgxvrsSVBKJBHr06JG3Ew1hLF++HOecc07GcC+//HLkN53Pnj3b+h36Rx55xBdHMpnM6Zb/ZcuWZb0vQRAEQRAEQRBdi71iMg44b3A/6qijUFlZGRoukUhgwoQJBc0LY8z3be+OorS0FMOGDcOwYcMKFr/5VnKCIAiCIAiCIAgiNwoyGW9vb8euXbuy3r+8vNx3VTuRSGSciBMEQRAEQRAEQRDE3kBBJuOvv/46jj322Kz3nz17Nq688so85ojoCgwdOjRvnxWLkhZBEARBEARBEESh2GtuUyeIXr16YerUqR2dDYIgCIIgCIIgiJzp8pPxSZMmaVdT+/Tp04G5AWbOnInJkyfL5UGDBnVgbgiCIAiCIAiCIIiOIC+T8RNPPDH0jdtxyefnsAYOHIiBAwf61o8aNQo33HCDXB48eHDe0gwj6GVrZn4OOeSQguWBMYbevXtr33evrq4uWHqCTN+U7+pUV1dr+nv37q19no8gCIIgCIIgiC8OjHPOOzoTBEEQBEEQBEEQBPFF4otzWZIgCIIgCIIgCIIgOgk0GScIgiAIgiAIgiCIIkOTcYIgCIIgCIIgCIIoMjQZJwiCIAiCIAiCIIgiQ5NxgiAIgiAIgiAIgigyNBknCIIgCIIgCIIgiCJDk3GCIAiCIAiCIAiCKDI0GScIgiAIgiAIgiCIIkOTcYIgCIIgCIIgCIIoMjQZJwiCIAiCIAiCIIgiQ5NxgiAIgiAIgiAIgigyNBknCIIgCIIgCIIgiCJDk3GCIAiCIAiCIAiCKDI0GScIgiAIgiAIgiCIIkOTcYIgCIIgCIIgCIIoMjQZJwiCIAiCIAiCIIgiQ5NxgiAIgiAIgiAIgigyNBknCIIgCIIgCIIgiCJDk3GCIAiCIAiCIAiCKDI0GScIgiAIgiAIgiCIIkOTcYIgCIIgCIIgCIIoMjQZJwiCIAiCIAiCIIgiQ5NxgiAIgiAIgiAIgigyNBknCIIgCIIgCIIgiCJDk3GCIAiCIAiCIAiCKDI0GScIgiAIgiAIgiCIIkOTcYIgCIIgCIIgCIIoMjQZJwiCIAiCIAiCIIgiQ5NxgiAIgiAIgiAIgigyNBknCIIgCIIgCIIgiCJDk3GCIAiCIAiCIAiCKDI0GScIgiAIgiAIgiCIIkOTcYIgCIIgCIIgCIIoMjQZJwiCIAiCIAiCIIgiQ5NxgiAIgiAIgiAIgigyNBknCIIgCIIgCIIgiCJDk3GCIAiCIAiCIAiCKDI0GScIgiAIgiAIgiCIIkOTcYIgCIIgCIIgCIIoMgWbjHPtL9dXgns/9Q2B8YgFGa+5wbcYHGdUuJbtzqAhoiYlWLgGM8ZcNdh2yr6c5M8wDTxyqQRrCNuhSBqiEqVF2PNQIA2Zo8tIMTQU2je6ggZbrHud96l77EXeFxQsnvdloSFsh87s3wE58eWhk/l3aHqheei8vtEVNNhi7TzeFx8auwZsKZB/F9X7Opl/RyUr/3Z/5KuuuT9Up/Fvxnlok8wzHACLEIqDiXCcAyzzPtmkkx1ZaCCIrChgO84i6shtWot7b9KgRJj3bGeT2S7gfVlpIIjORXbH873J+4Li7iANuXpfB/l35x67Rs0BjV2JXCHvi56OQ7wr49z3w/idOXVraON8gFZojClpZDqjEXjaLCA/2RBHg62comqIcdosC6Jo8IfMg4bI534yh7Oe5coYV0D4OG2paBrU3ppnDVmck2Vg1t18GjSTiakhJP34GvztNVyDQqAHZ+991l3C2lIs7wuw58D8xCWuf7vrsvJv8r7cQ9hCxvUN8m9B0ECu8/p3XO/rZP6dq/cVwL+je59Y6Gxj12jeV5Cxax6v+eXmfZ3Jv/cO7wsPQd6XOR+2XfxxxJqMc3A4F9JFZ3V/c7HVTEJdYsq/Ynd1wOau5jbRIj3dEDlTw4h8ueFNP1H382mA1GDm2hZJdA1qJry8qeWUmwaZieJp4DlqsKZh0xBw8FP0yBalarBi04CIGpA3DbY66bQalDj8fS5AA7LRoPuG3noDNOTFN7LQENH7/D2wUBr0FKUGFqwhe++L69/kffnzvogarLvk4hvk35H9G9lo4PE1hLZXNbY8e5+eiWANyr/ePnE0qPtnoSGW99HYNVhDnv07cp/LUoO6R6fzb7+eLuV9xdLQKbxP1ZBf78v6NnUOgBllFhpW++HfDm2TEjCPaZir86nBv6mTa0CUNAqsQV2IG3/UNCJtCAhGGjLHHzUNdV3BNLhrQtq3ub8M1oEa9Dx0ct8g74uWRiE1RE6D/PsLqQGZ0+gs3mf175B9ckojIKlc44e2ae/T4N/UyTUgShrkfV9IDcicRrYaCu19MSfjbhQRMxQhJstCXqKPnlhQsByjzZcGe6UWUUM+6zrKCCB0S5zElMW9XEPuERpRdAUN2oLzoyi+0RU0ZAqWY7TkfZY0CqQhbGfyPksUXUGDthDsG/nT0IW8j8auGaPdW7yPxq4xo+0K3tcVNGgLnvfFfJs60/7oKXGAe2UVLVPcGh+zRaK/Di9SGoD7Bjst/uASZVzsFS1+ocGfRoAGZec4aRRKgxdTiIagpLLVIONjXgAzTzE1iIi6qoZQI8imz8XUkHufQ7CGvPgGc/MbEL+yS5Q0Qn2jK2iwwLLUENn7FA1fWO8zUrbmibzPnoGAzBVaQzwRncv78uffIZPYvc37OnjsGjWNDh+77gXeR2PXKDHn4H2xoLFrpvgzeV+sK+P2PIWVtiWolpEIcXC3AoztgXsEpuFs42wv1xC4Xz40hEQVoCF+Gk7kcTRY12ajIXyDPag1jTxpCE0j006Fbq/509BxfY40qNvI+zLHb98nX97nbS6693U2/w5NI9NOBdSQ5z5H/h0W/xdBg3+nrqAhfhphKdHYNUJUYRvsQa1pkPdFSwNF73Ml0WIMSMRt4Lt27wYDB1cSYK4SVYz6ennvN3fjYl6kaj6NPIs0mC2sbxe3JDiDOGXJOfPqStlX3Ye78TIWrsHbK98azJ1z1GB0vlw0eKELoMFo/NxdkRcNSqeIqsGfRpYa1DS0EsqsgXPmHUcyakCE9upqgHOAkhritFdDhX9Hrq32aWBmaO8Xy6CByzBKWeRJg/evP45MfS6+96kasvQNC34NhfG+wvm3nkrOGvLofXE05Obf7l4d6N958z7Fv/USKox/Z+V9esYi97lwDfDKCYqGLu192WjIh/cFacjCN0QcXcH7aOyqBYvqfVlpyOB9OWmI6H1Z+7ciuyPGrlF8I9S/c/QNuwZ45aRqiOF93bp1B0sklFRtefA2xZqMa9EwLxPNzXsAnoa1EyQA7y11tow4Be68JJI7FcnVfFtq0f2Tloui2jI1THeD3Flt7SEdOaMGJWxUDW6wOBoSYF7lh2ngSiH5NITkX9Xgc8kMGrRsx9DA1UTsGmQw5mjQvhgY2MdMDVwJwHxJyiAJuCdS7WXlafCiCtXAjGAyljANYt8MGmz7x9EgNsfQ4G+v2WiI2uesEWfQYGZoL9Tg63OIoCGi92WlIdz7mAjS6b0vWINWLnE1uPvF1hDB+/wasvHviN5XaP+WseTfv9Vy2nu8z7J/ThrMCPdC79M0iJ/ZeZ+1keTV+2jsmrV/F837gjUU1fuYo4HGroBRsHuxf4d7X2VlJUoS6pPgzIvK3I/FvTKuZdqLhQFIlpSgqrIycCdxBsPrFhxpxhx9HOBMdGbVyXXhepnpxQvGwLgThnMOpp32UR2EAwmlosSZlijC3fpRrS0t6kxqgJsveTTS8mDTsGt3IyorKlBaVuZ0dw7L3RbMWZnIkwZRJKEazM4QlI7eqhjj4nEKvb8IDUxoUYzL1+XtXdER4NY1A3jaLRKhAe4hkgHyBFEOGvx7KRrA3XBRNIht0TR4Th5Hg5pyIoaGNDhPKjnOpEEs+jXoTdHRsGvXblRWlKO0tDQrDaZvcNGqfPVg+kaQBotvMICnQ3zDWpBRNGT2Pu/0bhG8TxxQoliGosHvfVH8W89DRg3S+wrs35G8L0cNWjg3bJ69z6cBUAYZBfY+zsESndH7YmjIwfucY3YZSstKQ70vV/8uuveZ3mZ6XywNdu/j2oRPpMOBXDSgs3lfgfy7k41d7f4NGrsGaijE2FUP0xFj10J4X/HGrhwJxgI0xPe+VCqFxj3N8GtXTgIoXUDkNN4L3HwtLKRQmf5DNHA1gDz4MsA7X6MK1f/qySvnNtxCkzFY7z2D81C/NABRztE1wKcBFg3+RhFFAxcauNBgZEG4j6EBoRpYsAa1XQZqMPF20g4XWnkrGmz7M+Uv1/dT8216ua6BSw2ynLSO6x4RrBrsBGnwo2gAFDMDnIOAJdtuBlkMDTA1sKCyUjWoKcfRoB58zV5q0yCS0DX4myL3Bhm2PFgWbRrsOeLatym55qQhGoJ8g2fwDWvWubWJMaO9ZvI+b6uhQdmWN+9T8hRKRu+L4t9GHjJpkG0gmn+He1+IhkjeF1EDC9BgZoEr9RnqfWafMzXwYA2I7t9aEqHex/XfigYeWUOO3hdJgx6m4N4n0gjxvuw1ZPY+/zEoqoYM3qd6GyzeF0uD3fs0qxALufo3AJaI5n1hlqEnmIv36X/z5t+5ep8apFDep6yW+7thaOxaiLGrns+OGLuGep+Rv3ANnvdF05CPsSuz+ndk73PD6RZq2yzCGkUAACAASURBVFe56V5t3u6vmG9TNzPjrwlurOIBjYobDTiw7WkNFVKxOFEowwTtr0Sttj1m7MLypcFII1cNXNMQUk6KBs8reAQNegx+DdwX0Imfybyl1X7sS8a9tSeWBq4dO73qyKCBKX9tGmQs3lGDu2HDJydM1nW4BuZfUo9XQoOlrjNq4KZZGhrgabCXU1QNsLRXiwbbSU+LBtV0mK+1KRoSUTTofY5lo4EpmzJosPuGoUE5ekerhxjel9ZCdX7v09do8eRbgz+Y6X1ZaojgfXC9j6neZ9WgeJ9ohBE1+P0hH96nJub5d7j3JaL7hpGNvHlfmG/k2/tMLYHex+1xdAYNGfwbQCz/zqyhAN4XxTdMDQFRm95n1YAcfSNbDVn6tx6sEN4XrCGa9+Vh7CrjyeB9gRoijF2NYvDnisauOfs3N2tq7xm7+vJs0+CeBORaQdiOD+rY1U+Wk3Eva1wm4RRQQskDh3Mot6XMnC1eSK4XnsyxKBTG3Ipy/+XcO5uiHWUMlIbAhHkwJd9u/M7tIU6EngYeUYMTG+duGqKBmRq83LsaIO96YYEa1N7GNQ1aGvA0cEMDQjUwuwYvRS8bhoaEu1v4RVunBONrYHK8I174n1GDGy5QA7y6Fo0m4TXgwCYkNajLIrBFAwCpAYYGBu6/C0xJBdxrGwlDgyxBiwZfn7PEziwa1D6ntldNA6JrQFwNLI4Gr8/Jtp3BN4I0AMioQUZn0xDqG/nV0DHeF9W/Fd9QDtSZvS+KBhaoQUsD2XpfJv8O9z7f7Zh58z54c708e5+XuOff4cTzPo5g70sE+IZNQzG8L0gDVA3QNQjv45z5dBTDv7myHOYbYRoA5Nm/O8j7svLvAO9j2Y9dzQvvsTTk6t8I9r7Y/m2OXZVygpd7v/dF8u8sxq5Rvc/U4KUYqsEXbRT/DvU+GrsW0vtMDWqfkxoyeF8xxq7aewc0zFMrOllOxr3EFf1OGcnCVvoo15ZcQcqtOmrmZFthcoXzTAiXG0XzDm6JuiuqhaiGZ+5v5qYjKsxJzlEmLdRssc4ebgih13uWz6pBFpK3nYMbE3Gzx3rVG6ZBhrZoQDYaoGgQMQRo8BNfg6gDR4PImdpx1bZkxm5qUNKIoUHPtU2Dza+9fXUN3NhHiS/ACLwacH6nDQ2yJi0aRJ9LaB7gr2uRvHZLTaiGtExDM8Rg9zc06H1R+oZsDNznG6EaXN/wa9CEQpRTPA0ZfEMNZfpGkPdZllQNRpZjeF+WGqJ4n6ZB9Q1FQ1Cfi+x9Nv/uJN7n87Yw3zArIFcN3mZdgyUpq4bsvC+zBpv3eaFt/u39G0WDF67Q3qdtyuTftnLi+kBQTzGG92WhIar3eRqy9z5/PcDQwK3+zXwaonmfDO/zvrRSDwX0b1j82+Z9xthVDRvdv4O8L6Z/Q9EA3Tf8/u2RV+/rbP4tyZf36RcfTQ2dYuxq3UfPrN+/M3gfLOVk0aDkIsA38uXfNu8L05DPsavpfQj0Pnu78qsyQ2U9GTfhxpJuVc467qtUt9KZuYdoDP6bA7Q0Au9b5PovFlr6/ui9mvXFa67VbtVSijOqhoT2AgU978wIG4mCaDA7JVP+cEsyIRoCqkw1Lu0Sm245lhRsGsxyMzVwdcccNahtTalrS6c0NZjInDEeqAGynOwazOc9vb2Ydb0Zv19DQtsrOPd6bJ4Gbm4JXWbIoEHxDdXI9fgyaAjsSjbfiKLYr0FJHL6Sy4v3Baev/crG+6z1bKt9e5/L3r87o/dpN48jJw1RmpL2AGEhvE/bEfn1bzXf4d7n1+D9CPY+ETI37zNzrmrI7N/hZOV9sTRwbb0/vk7gfVwmLlJ1s6P7d3Bdm76hXxXLu4ZA7yvm2JUrf82+FIEOGLt2Zv/uHN5XCP+2+4YeaVQNcb0vm7Grmk6uY1eb96lllK33GTmVdRi2g9/PmbE63uiXx5+MOycD7B3FGUgzgCu3jyjPuspC5YB2jwv3GqRzRsx5To0xp8MzN3aGNORZJCcZT5LZGN1l53YUvXFw7lWaaB4Ag/imnNAgSzdEg+x6ETQ4+zsaRIP1NHCfBu7eC2TrCJoG5nmX/C5eFA2K4YZpAOBq8A4YzC0vXQMUDcyuQdGovkBCvDnW0+DmytXgHP/SMo0oGhzUZx6ZGtKuQXvjTHwN4gDlaBCf+7NrgEWDaK9BGqCrVTQwqwZmaJC6fBpYDA1qXesHHgRp4PpzP2qbln0Oqm+YGmDVYLZXVYOI16chzDcMDXqACBoK7X1ZaVC2BnqfoSGC96lJxtHg9z6/Bu+2Mu9fqwbmbY3nfYjk3wC3e19UDZF8Q4mCq+FFn1M05Ox9Xjn4/Ts37xNtLYr3ZaMBMf07uvd5GgrifYpveHtZvC9Qg937dA26f4d6n6ZBxuLTENv7EO59Ufw7yDfy4d9B3gfT+0I05OzfiKBB9b69Yuzq1xBn7OrzvoKOXYO8T9WQq/e5ufrCjF2df6N5n01DkcauRfY+Tymkx6jIEnTLM/Zk3Bn8+KMVcykGDu3hEOUNl/KcCYPWwVThjHGIt37KZ6rBlKGR+y9XisMrITc6Jpd95eqmYZ5DA7ymLzWIRheqwTx7GKxBZMWJg7tpmhoUq3UbT0YNcvCsdl9PAxMalJahNKWMGpxlby+vHJSDhk8Dj6RB1hNnsr/ZNcDTwKJpcDY73yX0QmbQIMspQAOUYsyogcXU4CsimVObBqZpSEfSIPPt63NBGiA18AANThClXE17gGivatnbai9Yg803/Bq8g7HpGz4NQb4RokGtB0W5roEZGmTY6BpCvS+uhsjeZ/h3RO/TY4mmIdj7lIxH9W9lYBfqfaYGeBpy8b5c/FuWXkbvY8XxPnlmI9i/C+d9ARoCvE/XoMQV5n3Sv6N6X0QNMXzD79+Zvc8LHOYbuoZQ79M0+DOetfeZGtyQ+fC+rPw7oveZ/i3X0ti1KGPXyN7nbsvkG11m7BrJ+xQNHTF2VftcDA1M09BRY1eRxbjeF8G/zTLR+of+28tzPvClwazL5vmpKPFxbYW3j9Y/zDS1gjY2MWUXBDUgI5JQDQExRNAAKC9Mlmd4LOWSUUOQCuaF41Ae5Ajq/JZ0tZ/p8GCynKJrUHe25ylIQ1jd6enqdZ32bTeygVANsNRk3jQEtyebBjPPkTRY00WIBq/NyNwZGrRggGacavTZa7D7RmYNZk0xvYTTRsbDNIT4RmYNwd4XrCHINwwNod7HrX0uVIMZSVG8z9gWy78jel/OxyC79/k1xPfv+L4R3b9DvU/bhkgaCud99jXq2mD/juh9ptf7ks1SA1PCWbxPTSIb7zPzEU1DiG9IDRG9z6rBl2yghoJ5Xyb/jut9pg/lxTf83tf1xq5iW3Zj10J5n/5zLxy7wqzr/I1d/RnJg/fF8O9o3mcnuob8jF3VJOJpMFXYNYn98jIZV+eR5gPssjMzIzvagd3IpFYgTKbh9y11v7STvhqNlwHZpLRbM4ywIg2zGDNq4JZitmmAp0FvJqIZ+TWobTxnDSxIA4+ogYVqcEi7G4wDTJAGLV0WTYO7NVyDcB+uxGLRIMtDMZ1IGgB5ppJbnhpT2rfvYBiqwXI0jqSBRdIQ1ufMVqX3uQgaRNo+DfCVnTQvwzd0Dfn2DVMDEOwbxpqQPtdRGjyiaQjzDanB2FoIDWG+4fcgLZYC+HcHep8WMqr3RdEQ0fsMDfn2PlVDZ/A+T0O490X3b7MNxtMQ7htpmNnM1Ofi+3faogEBGmAP25Hex4C8ep/RZgqjwbbf3j12VTVoRPa+CBoie1+Qhr1t7BrV+7Lzb/mLxq5ajjNr8Mopo/dZsLRi5xfP4plxG0ykwo2MMCAhsuj2fJkZ7opwtXL16fqEWglchtczy8CVgwlza8tnI16/gdYqoQwoRLC0GsILlzcN8DSI/GTSIHs2K4IGCA3Mr0FJXdcARwPTNWgqVA2yFXtthCv7CA3e+0Z1DZ7STBoSmgYRF/OyYmjgSnuNoIEp28V3Ky0a1J05eCQNMj+iFKQGr9z8GngkDcynQWRH0SDaa4AGFqRBRKn1uYSywdJeuRrW1ACpIajPaRoSSsKhGtLSOoN9Q12jfwvD1udU74urgWfSwO0aRPrRNGT2DZ9/I4IGxPfvyN7nbewa3hekwfCNUA2IoiGu96XjeZ+6t/IZnDD/zt37vH+z9T6/f4vshPg383b2e5/R5zQN8DQwu3+He1+h/DsdrgHK/poGEYvFv3Pwvoz+3VHeF8u/o3ufiLzLjF193qcQxfviaECIBkTz7yDvi+Tf3NDA7P6d09g1xPuC/Tsb71P9G1YN6s7x/BvI5H3Z+Hdxxq4271M1KGED/Nt3ssBMw91JS51l8cy4FbNwjATNPqpmSOwb9GZ09W4jvX68RM34w4tDzYGxZ8Dr9jJqcFckstHAPQ2BaViyGqghEV2DjEn1YfUBGbN4grKiHEwyamC2rVxfn7DnVazVhxJ+DSxEQyiZ2quITzumMHtAnwavy6pBg+pYuyGP6wHUA5MvszH6nOfmhgbZprneXmUhm/mwaJHLljwXSoPSF8M1+I1Y7GjYrZbnwGWbb8TyPkvUTPUNQ0Nk77P5UWG8L7/+naX3xdBg26Xg3hcUo+EbNkwNQd4XpiEYlrm9iviK4d9W7zP3ycI3VA1B3qdkyN9e/RkK9m9L5juFf+uDYnXHON5n+nnOGrR8QmlSQRoK7H2x/Lvrjl1halA35MP7VIowdrXEEF1DB3tfKNl4X8HGrsYKZbnzj11jep89SGaY0tPdfXKcjHMZsdMmmVx0NitPqXBni3gvnU+DWqaKaanXpBJci13Lgih4zcAt6ahr/Y3GPGccT0M6ggZmatAOPPrvrDTwDBrgaRB7qlrSRtaMbHoaTPO2HVQt8UfWoDQtLw/c2MuuwTa+YqYGM6Bc9hthcP6drSJu8Ttcgxq9ORrJrEENw5SUVQ0srgYWoAFMHh+ZEp8/H1xbtmnQyj1AQ3ifs2uQaTA13zYNTNNgz5fFNyxHcbO9Mni3KOXsfUrOPN9gdu9T89rB3hfFv33ep2RB15Cl98XQIBYL7X2xNWTwPjNH+dNg6axG3LlrMPfy9oni32oqxfC+MA1eGvnx77D2GqQhW++z+3cc79M1RPO+DBq05PTraJr32fx7L/C+vXPsGt/7aOxKY9f8eV+IBsP7gseuUbzP315z0RDeYizL7s4xJ+Pc+KXYJ/NsRBXEmXqbKpfFZRovM0vDDcXhyU0nVKsSQfRSc8J7BZJgvpzKNNJML0zv/YQ5atAzqGngFg1OxbMCauCeBtg1iLf7Bpxg1TUwmwZ/62UyRxk0wKJBOfZ6Ovwa1CGZTMPoyE4ahgYE1YN+W7WqwdLq5ZcYhAaRBnfr2q9BtTf9xpnMGtQ6C9agt1cvFrsGGF970DWkM2qAq8Fbl3DfSKsOTOTdQ8zToB+SMvU5U5LeXvX3bth9Qzd1U4PZ59TPeGg/ZJ/zNDAU0/usGqL6RqgGPVS+Ndi8rzP4Nwv1b2TUEOZ9WWlQvM9LI9y/Ezn7t5Z5TUOQ98X371y8T81a/r0vK/9miKlB9T5dQ1h7DdKQrfdxvXAC/dvsqoDNv6N6n7Ko5CKOBj1LmXzDfGFXsPeJ9DJryI9/e0E63vt8Ggziel++NYDGrgUau+bofbH9W62zqN7nxeLTYPiG2GL2OZGKXUOw91k1RBy7wkhD1+AhloWGmJNxZvnlJWTeYMPATZe1xqk2LMb8xwDu9rRE2p+G7YjBlSqR3+KT1ZXwGquSN84cK/AXWBYalPR0DWmrBrWhRdGAiBq0v5k0cJsGXxCApd33wFnq2gxv0QCbBhgaGNc6g0wp4C3d3mY917ab1qQGBGkIrgclFqmBhWlQxgPxNKj7qRqUjh+mwVrXQRoYEtY+52hIRNag6OcJZb2bR6O9cpGGjFmtt7h9LkgDFN8wNGRsr+ZTft6yX4PaRrLVEN37omvQnSWThvz5t8378uTfrID+zcVSiPdZ/TuzBv2QHU+DG0l4/uP4N/LjfYXxb3U/i38jgwaZBtO22DUw2edsGjJ6nzYQjKJB7XOF9m9k4X1Cg+l9ioZcvY+poeJoiOt98fybxq5iKdg37GPXeBrijl3dSMIl0Ng1C//O0fsCNaj7ddzYFXkYu/o05DR2tR7VnS3upvw8My4arVEs/uR1w2AyDNOKWcbDAHAuX37n1LVXINYTEPDCAHAfMRIpGU8kaPvbi8KuQe8odg1KAKmB5UUDTA0yDl2DbViia+ByO3P3V2tSqwd4GmDRENzUdA1cK6UADcbx3X+4j6qBGxrcfBivIuHu9owa4GkQafg0iDdyZavBzUyoBvg1iA2RNMAZvPvq2qJBv3uVW9trmAZ5W5zRGIUGpRUZeVTx+woDA2waRABxy0IWGgDotzgF+IZfgy9IBg1qGrl7n9kmmRYws/dF8+9svS9P/s3DNZhE9w2mfXbHXg/Zex+L6n2+3EbRIGKO4N8W74ukAcjs35wjd//Ol/f5B0Q27xMpRfI+S4R59W9ErIdI/o2s/bug3seD6jqTf3t1FcX7omiAooHGrpk0xBm7KnkwNET1PmO4YNEQNu4L8D4auyLq2NV8aimShly8L6qGSN4X4N8RvM+mwciAxfuYGUTBfxyyrebgSN5666232kMHRGCppMbGBiRZAiWlpXrbNNFKwzwf5W1LyMGhM4hRg3B45zjVwZPalc19vPwy9f0fShoAT3MkmJenbDWI6BNqjtQez7xmzNxNLc2tKCktQUkymb0GANx9xT93/2GikQJyMiS2cy4aZ8KnoampCbW1tWhvbUNlVZWXCdHYE16nrtu+HbW1tUi1pVBZVaUfsBj0fdX8BmmA89ZG0ZHMepB17Z7WYwmnJCPVg4gwrWtgXnQ+wrqZSES1N2fQbdegWrlfg2esmgYOJJhfA4+hwabGdWepwd/nnJjF7avCCK19LoOG1pZWlJaWIplU+4Ta5zJoCOpzARoe+d//xe23/xxba7dizJixSJQkFd9w4mpra0Pjnj3Y09iIpqY9aGtrQzKZRCKR1DRs2bIFP/jB9fjHs4twwJAh6Nu3b0YNVhjDq6+8jJtvvhErV67E9C99SdMk6Ejvs+zm06BGHtn7DA1qXedFAxw/S7Bg39DyowwQ4/k3BwLaq1+DIqBTeB+L5H16Dft/mZlWPS3M+/KjAbH926YmH97X2tqKkpISJBOJ7P1baUvtbW3Y07QH7e0plJaW+rK9detWXHH5d7B06RIcOuJQVFdXZ9CgpOX6xqpVq/DxmjWorKxCSUkJvvPtb2L58mUYNXoMunXrFqpB7cfNzc3YtXsXWltaUVlRodeDG8fLL/8fbrl5Duq2b8f4iRM18XHGfTydxje+eSmeeeZZ7Nu/PwYO3D+jb+gaoo/7Mvl3thpEkK44drVrUAQUyL+z8j5j7BrZ+zqFfyO290Xzb6/PFHXsGmXcF6AmH/4ddewqTqTbNASNXTnnaGtrR2VlFRKJpLarbDpMX8HAUBKqP6Q81EUhXIj2PRsD0ReEVZtNkCOVTgGcO5kXb5Q3I+FAOpVCGu7gMaEOr9Vgem8RqdoqnbnxOkbAoZ1OyaDBqXQ1gHeLihOXnnfxV9WeNjqFDM7jadixYzuWLVmCPc2N7pkjBjCuvdFTjYcD6NunLyZNPhyVlZWahqVL3sAtt9yMww+fgl/c/t+6BtEJ3Rzc+4d78MzTT+O0007Dtdfd4NfAGUShhGkQLztxjCC4HuRaEcT3DUBno2zrlnpgjLnl4m0wL7iJNsRh16AmKtq70MACNPhMX9PgtQCRvuc5Rn8S7VVq0G+zNTVA+6sIFi5i0QBNg5cD9aSOjMqngbk5iqBB9pkgDcDWLVvR2toCH1oXYSgrK0W/fv1RX7cDn376KQ45ZISMU3WlTz75BIueeRrL/7Uc69etA2ccAwbsj2lHHIGZJ5+GQYMHSQ2p9nZ8vv5zJJMJNLU0yaQbGnZjxYoVaNzdoLQxt524CVVVVeGoo6ajpCQJzoGGxkas+3QdqirVk1Z6uYi4fC2HM02DrR6ckMG+YfXvLL3Pd2tfmPcpMmx9Lmf/RhwNatRx/ZtF17CXep8nNqr3FViDxTdMDVzNiMxniPfJiPQ04nifV8ZiQy7eByxZ+ib+9MADGDx4MG6cc7Onwc1De3s71n36CRhjaGtrD/Tv3bt2YsuWLejZswZ9+/UB4wnpG7f/4ueoq6vDDf/5A0yeOBkff/QRGAPaU+1yvBGkQS2/Z599Gnf9/nc49JAR+J87fq37t0tjYwPWfboO2w7bLjUAwGeffYr33nvXSYXDeYbTeO34xIkT0a//vrKw1326DmVl5Wjcs8dXD3qx2jRE8z7njejZjV3V5mX3bxEsN//Ofeyqp5Tr2DUf3petf3Obb2TSYIxdVQ0mQd7X2f17rxm7Sp3Rxq5az9wbxq42D9DKj8O8LSPeZNzNiDsm8Z0hUivCqzyGtMXg9DUMt9w0B22trZgwcTK+dt7XlIhVE2T4n1/eji1bt+Loo4/BaWec7itw2emMtLyqZXBeieCdgVLzYVR7qAafJlEBvsLRNajx67dGxtDA04ByRvfz9Z/j3nvvQe32WjDOlHoQTQxIu0vMrcAx48fh0BEjtMm49y1FhtbWFtTW1irloOhy/7Q0N2tafRoUGbqviIOwegOgVzZ6OQklaj0w5xkOy70njjG66fk+Smi2PS0JJQ8sowYoGrz9VEswNLgHfbUtMQ6YD76IuvZiEvFrYxa/IkVDGhmu1TJDVMIxL/PQk50GrmlQ82jrc+EagHvvvhtrP/nYp9c9/wlRV4OHDMbNN/9Y5txLwdOwc+dO/PxnP8Gaj9agslslpkybhlR7Cu+8vQJ/eXghPlm3DldddTX222+Ao4G5b8Xlnj4OYMvmLfjjvfdi/fp18ninewwwcMAATJ4yBcmSKnlwM258gq9x2XyDMdmn1XqI633CBYK9z983ovl3Nt6XnYYg//ZSyOTfNpWZNOhx+W5dU9qFpsGoWr9/e21lb/Y+74ifCNYQ5BuZNFhaaiYN0vsC4rdpiOvfTvmyjN4X7t/eMXNn/U6s/vADpNrbdQ2Kdi5jN3Qp/v3aK6/gL3/5C2YcdxwuuOhClCaTmgau/BVpMM6gzzCCNaQ5x56GPWhubsG2bbXwfEO9K0+k4a+7N954HXff9XujFpj7hEMa4Ay33TYP/frvJ1NOiNt3uVcPmX3D0xDd+7Ibu3a093m5LYT3BY9dc/M+ptWNdyIlgoYg7+Ph3mclhgbvN41dAeQ4ds007vN7n5dw8cauQRq8TAdoEFEGNEPxIjm1z8WajKtewSAak1uh3K0IxrQH3Z336HmZlodtDqQS7hlJlsby5cvQ3NSEJUuXYOSowzB61CgzZXDOsXLVSqxbtw6DBx/gpskVQcYxBcpw3T2L4ViZWxAsDee1gd7BlYPH1pDg7lkSzSgS8N4Bq2tw2pkblsM706VqEEULT4+mgekahhw4BD+8cQ7aWtucOBMMSc6VNzF6nXT1R6tx/x/uQTKZQBIJZ8KhanD3evudd3DO2WfK+hUwnnBfkmCWk1cP8n9DAzQNAFgCDClZD07mnXLiCRE/1+vBbbyinFgaSFvqgYOBsYRnOupdDe6tHLKuZfGn5bZgDWkACe9Wf+bWtYzfrsH5T9XgtVfGFQ3gTv0aGliIhgTn8jE7hrTbr6BlnnGAu8YlNHhmkXDWWTR4ZpJBAyCvMjgaINu3mJbb+pzzJ1hD/c4d2Lxls1MdnCHN3PTliSHnb699esuycVp+2k3f03Dnb3+D1as/wKGHjsCtP56LffvvCzBg86aNuOwbl+LN11/D1ClTccYZX5banGFrQpofY2mkeRrtqTakeRqXX341+vfvJzW8/c7bePJvT6I91Y7/XbgQ99//R2c/2QWUwZishxDfCKwHu/eJIV5874vv306fS4Nl0hDkfSH+rR7qMmmA0KD1uRANzBn7h/s3h1qiALzxkaYBmoYg3wjz73x7n1OY4d7n1xDN+5wBjerfOXifqSHA+8L8O9D7VA1id1eD1+cQ6t9gXn/ya+Caf/OExfsy+TeANOfYubMe4MCGjZuculb922232meYA/y7rr4en63/FHV128HTrt+bviGuyHHPHwBPpxjE2jS0tbVg2/ZaAGnU1e9A054mVFZWgjOG7bVbndLjzhV6maziG6mWNqTS7Zh+9Jdw3AnHOXdCcif1Bxf8CR9+8AE4OL50zDQhFIwzlJSXeuXRSbxPjF0L4X3IRkNU70Mex66AX0PevC9AQ4j38ay9z9MQ7H3ZjV2dqDtw7GrxvihjV+WsQLB/O3Lij13d+ow6dk24aRR97KppiDZ2dfxbk+llwa1jMR/joi0h5m3q6oTOOzshal2Un3IugnkZVvIDAEgx52DAAPB00o3dCTv3x7fi//33L50JN7wrNpZb930LXP6j5NgtVGcMLGvQmVSKnd0G5NPgT8mngQNAOgHtCjEXE1soGpjTEd3tsvSYyINfg8yH0AClHhQN1dU9MWHiJHCuf9/SLCIOIMVTSAMoSZYAyYSiQeTBmTj16N4Dh408DOrhTRqA62Vr165Fbe1WL0Wj8fk0cLceZFviYNpz686WBLPXg9qkpE8o9cDSTvxOPp04nMBeDGo9aLcKicgtGtLuZkdD0t3f06DvZNcgtmXUoA0Oomnw9TmbBrPPMSVnmgZvZ/OWrFANbh51DaJ9u+XstlcGBh7U5wwNv7j9l2hqasKO7dvR2t6OA4cMcfsQw+cb1oPzNPbbdz8k1WctkXBMFExqaGtrw1tvLUVFRQVOO+10OREHgH33G4DvX30NfvqTufjggw9w2ukcSSSANEOauS1UNHHuxgsGxpKYOHEChh44VOa/uaUZzzzzFACgT58+OOww58RiXX0dNm3Y4HwP1VcPYb7hrwe1pqz1kA/vi+Dfjm9E0WD3PlNQ4Pr7NgAAIABJREFUNt6naQjwDZ8G7vUH3ftUDWI5ngY189E1QG7Jh/eBKxoCfINH9D7dv5PgndD7Mvo3EzUZzfuEBq7oVzWY7ZW7afu8T9EgNRrel25vx/r1nwMAmpob8dln6zF48GAjVSDFGNrb2rGtthYV5RUoKy9DTU1P5z0XWp9LuP8zwzeY21WYv4h8vqFq8LxvT8MerF27FgwMbe0pLFu6BNOP+RJSbW0466wzvcxyQE1F5CHtzkL2339/HDXtGCRLvGcqn376KWcgDmDUqLEATyPNOT54/z0oh5BO431Z+XdE78tKQ1Tvg+nfNu8rpn8DYM4EMdT7VA2Gb3gd3OZ9GTTISvIXlO59CZ/3RRm7auUY0b/zOnYVReP6d9Sxq9Lto2uI6t+IN3a19zkRxu/fIj49/yEa3DyG+3fEsSsMDSKbTPFEV6cIxhHzNnXZRZm+Vv+ldBt/STgmrfQADri3J3lBttXW4qGHFuCKy69Ejx49oH0bjlt/SpqbmrFp0ybs2r0LlZUV2G+/Aaju0QOi1WgauBJTSJYzaXBki+mau+j+43SAtObrahrcsg5wG4Ta4OTRSNGgbBJn7lVZmkTld3NTMxhnKC0pRTKZ9MJpt6wAw4cNx4/nztXKhmlxMcyf///w3KJnzRKCiI6r5eTT4LUB9VcUDWLB6XDeDSlcHBjV6hD1INPwx+Ud+OwaZF4Z4J2FE/+rLd+vwV52+dSg5CGKBkDeEghzfzjtNegWqkAN0NurjDqt7KBZg9nnwjWsemclFiz4E1LpNH57552OlSfSuPeeu7Fx4wbM+8lP0a9ffxkT42n3gOvFlEq1o7mlFSUlpejWvbvP9Gt61gBgaGhokGYM9yAApvsG484N5+LmKF2DdxSYduSROHzKVIBzvPTSS7jzzjtk7/XXg803LK6uqMpUD7LPpZ0DSGbvi+ffzi6ZvM87+Ab2ZYU43mfX4PcNmwa1z6kDarsGe76DNWjVGs2/8+V93Ns/H96n+7e4TZZpue1o74vs30C492nXH0M0cO9/Br2ugzQEed/27duxbOkSueJvTzyOb3/nuygrK5Ma4Jb3ttqt+P1dd6KiohzDhx2MSy/7Bqqre0of2tPYCMbTaGtrRTrVDpR6Qzy9TvQGbfY5zb+92yHx2uuv4f1/v4eS0hK0tbbi0b8+ggMOGIL9Bw/GBRdcJPf/8MPVWLp0qVxWu5c33kgDEJNxppQdcOutP0Y67Xj4hRecp2U+qvdxxftUDfnyvnz4t0mg98UYu0bxPt2/8+19hRu7qhqs/m31Ph7qfTYhUb2PA9qvvPg3jV2DNQDFHbtG8G9Tgy9hUQamMKPP5XBlXF8rjM+5VQRGym5I5tzuKSpFBkkntPBpnsY/X1yMseMm4KQTZyq3DDgixEV+GOm8tWwpfvvbO7B5yxYg7VRKMlmKs84+CxdccDFKS0u8Ww2U+mSMIc3VcjdvccikgTmRJQDwtIxFpsESYIzLk0ROOSW0SmVaE+FIM+UuEdnUnTXe7RJqw2JacTgN014PjY27wBlHZWUlSktLvQYlNLis//wz/On+B5Ry4uBKS03wBNZ89JE8m62VE7h7RdF7Ni1Ig6eDGXEEa2BMnwpp+4sGI0pE1rVzpcCra70eTBmMOTe1qBqcg7t7F4ThHs5Py30JXMmSkkYkDcKNQjUw8wSkLw0mNbikE25dp/0amP60TKgGOHdLaHFDCSjKiSGkz2XSkEZTSzPWrfsE7WmO1tY2Z6CaTuCTTz7Bxk2fa2+tdPwoKfMpNFSUV2LsmLF44/XXsPyttzB16hGoqKgAwJFKp/HgggfBwDF48GDlLaDerYJcFBeDM7FlTD4GYmoQiVdWVqKysgqMpVHds1o9pOj1wBXnV3xDtDG1HmCpBzFgMKfFss8xHtH7wvpcgH/zcA3C+7xyUrzP1ABE8z6tv5reF92/peoI/h3kG/50VO9DqPep/q3lE1l4H4d3SSNX78vKv3XvExps85FO632I6H3MiV8Uu1pyXgCbBr3Pcc5x/x/+gG2129C/X39s3bYVzz33LA459BCccMKJSCQAcRqLI43mllZ89tlnKGEl6NG9GlAcCADWf74enCXR0NCAltZW7G5sRFtrK8CBnTvr3cGi2/qZ204YkGYZ/JszvL18BX71q/loa2vHj26cg0cffRQrV63CT382D7+8fT4uvXSW3H3Rs89g6dIlrne6j/m4KpyUGDh3H/1x+5x67bRP334A40inOZQe6VVUBO+D4n3I6H05jF0j+3eevE/VAGbMGYo8drV6X+HGrqoG3ftEovG9z0yHxq7QNnTVsavYkHHsGuLfmTRod82oycs7ALy12V8ZNyvH/ZeDy3SU81YAgDRPus8OGN2PiUJlOPXU07D8rbewafNG/Om++zB2zBgMHDDQ6LjcsaCEI4rzFN5ZuRLzfnIb6uvqUVlVheqePdHU1ITdu3fjLw/9GZyncf75F6C8ospJW9HgeJdydkfR4AUM06BUmtCkl7zUJzaIlJzBE9M3u41WNUD1L+dJ2Q20YtQ0iPr2TESw7rPPAQZ0r+6O8vJyL25XQ2lpKXr0qEZLcwuefOoJmC+E82rVWdO9Z3dUVVRBWQUOz8T1Ew3u2UVVg4FqR0Ea0px5HUwiyoR7MWm7inoz6wHuMdtdFhp4gAYmNCQsGtSScdcIDUzvMFy9Jcesa7N3y5F9gAa36ekv+gLSPg1qnwu50hikQX3ZhaKBAX4Nsr0mvHpIexFbNcDuG926VaGktBTtzc1obm52JuMsjd27dqJndQ2SSf0TEkAaGzdsxOIXX0RJaQn69euP0WPG4Kyzz8Lq1R/gqb8/ie3bt+PII49EeyqF559/Du++uwoDBgzA1COOUKrKbYk8KTV7bYkDsvw87wO8T4U9+bcn8Kc/3Y/2VBrpdMpVqzyPp52plsUh0/adLRYF7foGZHuNUg/JWN4Xz7+z9z5NAxDN+4xjUDH82+8bjgbTN6B5n6rB4n1aOlG9LyE1QNOA/HlfVv6t+4auQXcZ6d9q8eTL+xT/Rj69zzirwGWHs2hQvM/xTRjeB+zauQsP/WUBFv3jWVTX9MQ1N1yPpW8sweNPPIp77r4b3bt3x6jRY1Hdo4dUO+TAobj11tswZMgBvjJNtbfj88/XA0ijvr4ezc3N+MXPf4a3li+TeerRo9rYz+3pWjfRNezYXo833ngNv//9neDtKZx44omYOmUqRo0ajR/+53X46MMP8c1vz8Ill1yGo6ZPR7fKbmDyM5bc0uec/511Xr2IsQXjwFlfOR2NjY0AnM++8bJy1zXz532iLYnRTSG8T/fv/HufOAJ11NjV731BY9dw74s6dlU1+L3PK+fie59MOYKGCN6XqwYau/o1GGPXaL4R5N8WDYAvR/oDH6oG8dvrczGvjNsXzALx6kg0S0exeMhdhNFNylnTt28f/GjOTfjxrXOwafMm/PxnP8HceT9Dz576QYSJB/jBsXr1asyd+2PsrKvH0KFDcfY5X8MBgw/AjrodePzxR/Gv5f/CE48/gQMGH4jjjj/eS1zrI+JWFs/GZCkFaDAPat41e6PxymTMxi/OYopnD5Ry8fV1r8QY5/INgnrh2zToJQ0Aaz76EMlEEjU9eyGZTDrRcE/DoYeOwPU33GDZl7lpCJ3iIMoxcMBAJyxXbijxlZNaf+pBQCejBubK92fNF5P54Ii9Htysi7qTE31bXYdp8DJh16ATXNcWlH4cSYN7UGQZNcC440GNztSQMArd1RCWf9cIzTOTngZlpZau3ueqKqtQWlqK5qYmNDXtQXV1T4Bz7Ny1CwceOAQlJcotHW58q1atxKpVKwEA06cfg9GjR2PixMMx+5prsfAvD2HJkjfw+uuvynqYNGkyzjjjyxgxYqSaGTi3qLuDR6X4OBjA0/i/l/6J995zn2tkwLvvrkJLWysAoF+//pg27SiAAxs2bsC///2eZs96WdnKQpQI02vNaDiiHpwXs/jr0gmjGEwE7wvzb9P7dA364CPI+3QNyvA3pD3F8z4RWeH82+tzUPybWzQE+IZRVdG8T9fg+beR42y9T+SkUN4n/DsgO7b8xfK+yP4dx/vs/h2af9d/bRr+9a/l+NsTj2PJkjdRkizBOWd/FWPHjMXoUWPQ2LQbixf/E7fdegtmzDgeF158iRudvc8JDZ+u+xT1O3cBAD75ZC02b96Io6cfgyFDDwQALHrmGaW3GbEE6Ehzjjt/8yu8+tqraG5uxsyZM3HBhZegumdP9Kiuxg9+NAcPL1yIl//vJTz9zFMYP36C++lGd6zC4Fy/060Ta9aswTNPPw2W8CaYGzduhDsMwfjxzrfJOef45+IXnboSMeTJ+7zWGtf79Ji9n2HeZ9RdNt6n9rlOMHbVnotWijc774swds3ofSJ8sb1PV5FZg6/6LVnLQUMk78vBvxFW1xbi+jc60dg1wL+1vuVLV0/Ditn+WTafNvNSDUnJS0F2Fg7xvXpnV/FGbpeE+5tz4LDDDsNXvnIO/viHe7By5Tv4858fxHe+813tVlRxkiIN4LnnFmHb1u3o2bMaF154Cb507AynMgEcevAh+M53v4Ud27dj0aKnnck49yJR27u8/T2ihgRnSKsaZFWYBWMUlnLqMOEeZjjgnm3Se6h+cPA2cdc42tvb8e9335WNT5SJLQcA0N7Wjo0bN4Exhp076/HOirfBEgwHDx+OREkJUqkUqqq6YdLkw53YZHZMDU6k4jZEDmBPUzOSiSTKy8t0DbLP66UrNJi+Y68HKPXAIN4Gyd2sidypf+PUg1ra8puiSnDvOagADYB7QBX1EK5BpOHk3TsY+zVkwKLBidpdr2jw2qsec5rr08NgDU4JpU0NsGtwd1H/WHyDBWpgrgbOnW92l5aWApyhqakZAEdzSwvSqXZU96wBU7xBDCrGjZuAM844E8mSEvTp28cdqHFMm3YkDjtsFDZv3oQtW7aiJJnEgAEDsE+fvqju0QMs4Z33LCkpQUV5BRIJBsaSUoM4aKfTaSz8y0PaWddUKoX2thQ4AyZOmowpU48A58CLL/wD//73e8oBUNVstiW9Hux17cYiKgQAc2/T0lPQqtAhz97nHZz13sfNCg/UoAYzvU/Lkld+kX2DBRyDnD4t8pGNf6s9ILJ/IzfvS3OuaFBTy5P3GTP7aP4d3fukf8PTIMYmhfK+IP+O7n0wvA/yzodM3gd1mTnH7Dt/+xus/XgN0uC4+urZmDnzFFRWVICD4YrvXY1+/fbDXx5agB11O1DTsyfq6uvBOLOcdHE0gANLlyzB7vp6ABy7d+/GkjfexKWzvoG0m9k333gDu3bWQ5QC58y72hygIcEYRo8Zi/dXr8YFX78QxxxzDKq6dXOLn2HEoSNw7fU34NhjZ6D/vv3Rt29fAAzJklIADNztc94j285J0xXLl2PVync87wPQ2tLqhmG45tprnf3Tabz88kvavCfM+9RaK5z3Jaze5/QHm/dl8m8vSKj3AZ73dYKxq3uKGsXzPr9/e+4rxl9xNQR5n7slkvfF82+f9wGKhjz4N6J5X1HHrkb2gzQUbezq/sjGvxUB4RoAOT/yClDJrBFt1pNx/fYzRQjn8J6V4drBQ71LQDUCUcTMzWUikcBJJ5+MlSvfwZtvvoEXX3wR4ydMxNQpUzwt7vNaLU3NWLfuUyRZCvvuux8OPvhg97EB52pSn/79ccTUaXjq6b9j1cp3vLOnTC1rp2LSwkxtGtxaCtMAGJUpW6d3FR+Ac8ZHbHf3ZnBOSHj7cqlBdlrmnRAVuzY0NuKqq6+AeDZKHBAY5+DijISSOZFlDuDxxx/D448/hrLycvzud3fjH88twv/+70JoZzy1e45EGhxJOGfNISYubpBTTzkF193wQ10D0zWY7dEzu4RSD/L95dKxvHrwJuJqPSp3kRj1IAzQjM898ybvqHP2EPXAmJs3zrX5k1WD/DeahgT39hC3UkbTAPg1uD1elA33DkzegcJ5litMg7PJbftcfARCGSm4TUHVIO3R1OCGUdsGmLghMEiDe4JO+gYXu6HSnYynkEZTUxPAgV27d4EDqO7RA0ntmXEn8f777otpRx2N8rISz5wZkEwmnOd+0mns07sXOICGxgY0NDYocXjt9cYb5yCZLMXgAwZLDX369sWFF12Kxsbd0sxlgbvpV3XrhqqqKpSUlIABKHMfCeEW39DqgSk+yoUe5ZZHtdExdSAlMq37hqwHNX41VeY8D+3YZnb+LbKlpaFoQJgGxPO+YA3K1R3xrKjmG7oGUQ8cQRpEg8/g34ZvRNGQi/dJDRG9zztjGsP7RN4K4N/yaxwxNGTtfRH929kUw/uYegzy+7eIW9Pgel9JSSmuvOpq3HffH3HZpZdhzJixWp/r0b0HLrtsFo468ij06dsXlVVVqKvfgTTjrj/qbYgB2LxlE9548w20pdrxzW9djn/8YxEeefSvOPa44zBs2HAnXFK5n40BCZZWPCfYv0897XTMPPkUlJWXY/PmzdhRV6fXAzgOOugggDFs2LgBnAMjDh2BP/zhj+hRXa31uQmTJ+Gq7t2kALX8RSs6cOhQVHXr7tSD29fkZ90yeJ/4tFWw96m3wubP+9Ss5dv7ovl3vseuHeV98f07K++LqqFTj13dArFo6HRjV3SysSsijl0jazDGrq63ao87ioUADVlPxpnyr5N3pkz+uKJCLaygeKAUjLPcu1dvXHjRxVj9wQfYvq0Wf/nzAhw8bLh2hjTNgebmZrS1tCHNGLp164buPXpoETEABwwZAoChpaUVTU1NqKqqcg8iSs64sHDA/15/Jhu7TYNMjRkBpGto1uk9KsQdDZp+bV9Pg1KPGhXl5Tj33K+74dwJOPciWbVqFd57712MGjUGo7Rvt3skS5Lo06c3hg8bjhnHHQ91Mi5NiDO8uPh5lCZLMHr0WNT07qXkVQhiGDlqtKHBu1IXcAeZolKtB70tSRNXyssskIDonQ6iZEqekGBemtZqMzQgjxr8de3FYzYjAGDa6XPvwK6+rVVpZroGJYdhGmQ4eaZPdyUGZbAZpsEwMu/MoL8epIYMvlFZUYGSkjKAp7GnaQ8YA3bWO7dk9uhRjUQygXQ6jVSqXWkbznDA8SZFAwdee/VV/OaOX6GpuSmwGNSz1r1674M5N9+CCeMngAGoqemF//iP/4C0aMbQ1NSETz7+GHX1dc4LlJqa8PL/vYTu3Xtgnz590KNHD4wbNwEHuJ8tCm6v7lblzWqaBm7Ug1rYFt/wFanP+5QyEgMY1fuUw3VAUQVr0LyP+bxP+loGDbb4A/3bpiEr/+b6XxHEjd899sqMZOPfUXxDjzO+93lhs/e+fPp3mPdZ48/F+5R6QIgGmYMA7/NrYIH1EMW/x4weg9t/8d8oLS8DwJFqb8emTZuwYcMGNDTsxu7du1FaUoLNmzejZ8+eqOlVg6lTp6Jvv/6oqqoAU1JJpVN47NFHsfKdtzF+wgR8+Ywz0N7eigUPPoj/+tlP8aObbsaBQw6U7ZVDeJtSGCH+nUwmnXdycI6b5vwI6z75RDoCc8tI3qkmO7KzfuZJJ+Oaa6+TcR966AgceugIGX86ncbWLVuwYcMG7G7YjcaGBrzzztv4eM3HqK7piUH7D8K4MeNRUlaCmpoav/ephaz2OWavB/8xyMlrLmNX8VtvDxH9G/nwb8X78jZ2DfI+RYPq30b+svc+ITqD9/niCdPg/KN5H1dOjuhJKAudYexqfGNd82+ZrE+D6d/Io4Yw/47ifbmPXa09G2H+zZDd2FXNoO4bigafbzglwbXy1n3RVhXZ36ZuSQbuGW95FkrtvaI45L3FzjaONMRH4p3C9DaPHHkYrrp6Nn7845uxatUq3HffH5BOOY2TuWfREskEmHu6LJVKI5VO6cLB0dzs3NbKwVBSUqLl2it4Du3ai6ZBVct9GgBxIBLnTsQQ3V+tXidx8sCYeJOoWT36vr7bPd3tFRUV+O53L/drcIv7vj/ei/feexeTJk3GJZdeGqph+peOwRFHTpNxcJkvJ/ZXX3sZyZISnPPVr2LM2HFKPrzO5nyORS9/TYN2dPG2q/XAodxuxpn3rK5ZntqiWp9OHDYNUH/Jjuu0Q3/ejDfucLcVMaaYh02DuaTeNGPToJeXWg7esu1ZNOh9DpYBkXF2MEiD13ItGsTBlctz3dAwNXBTg61MlDYd4htbt27F+vWfoaWlGc3NTUilUljyxpvYsmkjPlrzEQDn+cufzpuHbdu3YcrhU9Hm3u6oavNubXbOmI4ZMwazv38N2tMpS/68tlRXV4cFf14QosH5fvnixS/gySf/hh2129HU3ISWtha0t6VQVlaKsrIKVFVVYMDA/fGVs87CmDFjpP6gepBJKelovqHWq9a0zLbEoQxzNA2+urbWg7qP379z9z5Dg7WMTQ1238iPfwf7hqdBKXBm+kaIhiy9z+YuelMthPcp/h3T+7znTz0NtjKxtVebhnjep0aeP+/Lxb+dJeNN84kESsucqzg7d+7E3b//Pd59byV2796NlpZWtLQ0I5koQVl5KSoqKtGzZ0+MHTcO55xzLvbpsw/Ei41aWlrwh3vvxZNP/g09q3vim9/4Frp1746ZM0/B8uX/wqqVb+O/b/8Frrrq+2Bw6sIcaei6hH+LPqcfx0477TTU19crNeGNN5zvJHMAHB9+uAavvvJ/aE+llLLR62HXrl245+678O6qd7Fr9260tDSjtbUVyQRDaVkZyssr0LNnDYYPH4bzv34h+vfrD5/3BdVDiAZ/Wwo/BgV5nxi7+r1PSUpNJ5N/m/UQ6N+mknx5H5OxRfbvqN6n1Vc0/47tfRn82/Q+X736I4/pfXHHrpm9j4V5X6iGrjx2RRHHrkG+4YX3+YYmVE2TKRuYto0j9mRcidjQ5TVAwDt9I/4RgZksX3mrCBLe1QXXyMVJe8YYjj3uS3hn5Vfwtycex1NP/V3LCQdDZUUlKirKwRmwe/du1NfVo3ev3m4gJ42P1nwMgKGmpifKykq9GDgDZ97nHOQNTIEa3ImFqoEDUBu44wquBnel8ikEfdCiWjeXV6C99ERTS+D/s3fe8XYUdf//zN5+b5Kb3HuTkAohEBIiEKqgjw+IShFFmo9gxYaAFX1oUgRERX82lCKi8jxYaII80ntV6RAg9PQEkntTbm5vZ+f3x+7MfGd2Zts555aYfUHuObuzM9/3lPfO2bNnl/Pwxgzy6xixG/09iBo45NyGVmPWdggZqqtrUV1dg2eeeRpX/eZKLHzXQnzrW98JExbgecEv3Ovq6tAQ/m4M0LuCdpbXxoAYhvBreE9j4FEGIR7BANIOIqm4jES0A2egzye0tYM66yiaX3VwxhWDXp9hMl9n0NoBUQb5O9bwuhhxMNHv+MjDvsTiGWgZ4rWTgQWS0fp1WE+SIeivkgEqf/Exy8YggT0G+bhHRuopHHPqudRMZxCXWIkVDHjjjTdw7jlnkUvdOP560w0IHrnCUFVViba2VmzY0AbP8zBzxszgCQFMjQd6OBFtPW36dDQ3N8vfEKlOHArc88B9YN26tbjhpusdDAHuXXfegcsv/zUGhwYxsXEi9tx7b8zdcS6qqqvR1dWJl196Ga+//hreefsdLH3rTfz615dj4sRJRjsEfxntmLIdVM+hDHo7sPCrCrMdTG+Ig1RW97m9UYz7IgycMCDMP8IgMolzX15/G95Iw6B5I8bfMv8i3Cd6g41B1lkp3CcrL7P7khii7gsZPLMd8rgvzt8MXD6SyOU+w98g+VMGEYXNfRx6W8cwbG5vxze+fipWr16N6poazNlhB+y33/6Y0DgBnDOse+dtPPXkE1ixYjlWLF8KcODLJ52MiooqABw33ngdbr75RtTU1OCzn/s8dpm/AGA+pkyZgnPOOQefP/FzaG1tRXdPt2xr2e7hoYZrlUe9wWF647BDj0DBH1T1qvaUtcMA3HvvPXj8sUcgvRFuEO3Q2rYR3zntm1izZiWqa2owa+Ys7LvvIWhsnAif+9iwoRVPPfkkVq5cjrfeegN9/f04/fQzUY3qjO6LMlB/F+c+z+E+sa4Y93GH+8T8O+q+eIa0c9c87iMMLvfl8HdJ3IewrUvlvpLOXYn7cvobTobhm7vKxFvj3NX0d8zcVRVI6pe4T7iHgxnf8Ad5ZfwwzqwvFbTKX+8wTFaIuDJBXXwhyEUlM7ojOGc47riP4/XXX8Nrr7yqdQ2PA1VVVVi0aC8889RTWLt2DR599GHMmjULVVXV8OHjiX/9E0/88zEACO5qHJba0bEFzz37LHzuY68998bESZNA7gXiYNcZgstTFQPnDNrd9yRDdEJNGehrrqVQXcrzeDCYjE6qAg5rkzKQrBj512QI/BA0GucM3V1dePPNNzBx4kSVEffQ3NQCMI7KyirQRdzc2MbAUjOodre1g+pPdMDbGHhQ32Y7iE9zpB01BiMpHAzMo7HKADIzsAiDSKCkGBkPjFQ0jTDMOJ4h7K8AmHYm1cbgORno80NNhvAIGUjYMxhkEk7ek5NRFgZwYJdd5uFDhxwKj7FA7MzD+HENqKurRW1tQ/jTlHFoaBiHpkmT0DJ5Mm668XqtHWxt/Y8n/oWrf/sb9PX2GiMu3A/B6Bsq+Ojs6MTEiZOMyg3Hmz+Ev916C/r7+3Hsccfhs5/5PCZObIyUuWbNGlz6y5/h6aefxh+u+QPOO+97sh3k5F20g3gZfoCz3ZBRjTmmxpylHRLHXFio9HFKf6d3n+07lpQMSMOg1uXxt+k+G0P0mbI2hmLcB5lJovvoyrQMJXKfZNADKIH7mOY+5W+b+4phAJjnk3yLYBA7MjMBDz4ApvT3/ffdh1WrV2HG9Jn45je+if323x80Uw6gr/fL+Putt+LK31yBJ/71Txz+4cOx087zAA4cesjhePWV17D3Pnvjo0ceiYqKSogPC1Omboerr/49Vq1aFfwuXWBpKRhaAAAgAElEQVSGdeuF4as7kCf7+9o//g+efPKf0L8RU2yidTq2dIRTVvu874H77sbb76xBc8sUnHbat/Hudx+Aykr9vh/9ff246647cdmvLsWLi1/AK68swT777JvafWmPQVnd50NMprcG98UzpHMfK/3c1cqAHP5O8EZJ/J3eG9CRsTXMXVUCrmJN4T6accnnrkZ4ej1lnLtqgSlvmHNX0xvSkEZb63Gp/Epymbq2WMazbWH0X3kJAdkYvvU4w/TpM3D8Jz6Jn/z4B+jq6SXDMkh76OGH48kn/4UXFy/G3265GSuXL8fcneehdf264KYmA4PYfvvZOOIjH5FF3HPP3fj9764GwHDyV07BkUcdBc+jl9TGx653FagBZGUA5G/06AGMpmVGnckOFm7zI61IdmcAp2eUaCbhbkyPWIydoFwhf6FQUa4qkHHg7O+eCw4fO+ywgy2IoEQ5kFjoQVWuuvOpHUSMV0bzsJXDycsIA9P7kiV/68KhGYFecKbpjzNtWykZQBhcixITjcmVN2XQcxFnGrMwaDTmLMPor0kMMFvJwTB58mScdfY5qGBM648mH92PMU+F4mDo7+9D24YNqGDBzSKr5QmmMC5Gfp+F4G7uU6dONRgA3+dYu3YNAOCYY45Do+WDOAPH9BkzsP+734Onn34ay5ctlVsYN/qI4T7OorUvBa+NOVKPqb0hdiE/kknpb5pDvPtYcBbacJ/W5YtiUBMU90TOEp7TfVEGlsbfkiHOfe6ImObvvO6LjCq1q6YVI3/hvvC1y33im8Zyuy+XvyN5l9bfEffRIunGFO6j/l69djXAgVmzZmHBrgtBLzcVl1XW1dXjg4cciit/cwU6OjvQ29Mn/T1l6lScfsZZmDBhfPC7bsoAYMbMGZgxc6ZkkEGYIab09+pVq/DWG29i9z0WYVZ47wv7EsS+2276fWpEru+8sw68UMDkyS3YZ599gg/islqCD3e1tbU4+AMfxBWX/wo9vb3o2LIlk/tQJvcx+m+i+xz+JkEU7++M7pP7qQCYI1E299kDyuY+d7zifT5/a8E5GaQbLP4ul/uKnrtG8t42d3WOOaMctTHZfWJz5ChrMlhWq720UattzX83dVCmcPLLREXxwJjk1nRmmwWbuZQvwAAW/EIiGJzB76m4B3jwcNCBB+HFFxfj5ltuUp/nwgextzQ145Kf/BRf/9pX8dabb+CRhx/Ew488DCC4BKRh/Dh88UtfwcKF7wIQdMi3334bff39YJxj/YZW+D5HJVP+lgykY0pmg4Fx0cmCnizOPlMGDh5+Cx5OTkMBBQcNQFZFUI2qM5I+ruovHFSMCMQDGCf5hnGyML24G61PGFgIIRhEpxAFFQb6sXHzJvnt/XYzpsHjwMDAoFwv6qSiohKNjRNAfwEv5aUxMI0BYUxeyADOgrt0MyITeSkVB+MsJYOQm29ph7CFbe0Qdi5xtjzSDiJ/Y1imYUBKBi5q0MbAHAyWMWcyiM3amEvBENzwRNzbIcoA0l+FzDUGiG8egn4Y9M2AgXEO34vzBkOFp+o/liGUNAPAw32Cb38MhnB/j3OMa5yAz534BTQ01CvJk7am7eCxsD7EWGJAhVeBeTvNw8uvvIyf/vjHOP/Ci9DUNCl8XI1qh5UrluPWW28BA7DPPvuoL5YkQ3h4MbwBiKu7LAw+qQ/k8UbA4GwHi/tMf6d1XwVhEHfTFmOuOAauMUj3Jfg7zhtuf4fj2eINxRDnPjtDOdwnJlRZGBDGLMaQrR3k8SGjv9O6jzKk9ndK9/Ec/na5T4QqGJzuIww87PeCgXGOBfMX4DYAL730Ih577FEcfvgRwdNgCENXVyeuuPwyeACmTJ2KCRMb1ZgD0DRpIgCuM8DmjXAPHvwvxhzAo/3VxRDu8bFjjsbBB35AHpMYbevEeR8wZ8e58CqrsHrVatxzz7044ogjUFnhaW3d09OLP//v/2JoqIDmlkZMmTpVnY8V/hI9xukNypDBfZnnrnZvmO1QWvchl/tMfycxpHdfdgbRXyNzV9N9yOi+nAzSfRZ/53VfWeeuUAylnruGM7VM/h4dc1f1BWjRc1fD38GYS5i7Bu+UN+RCrtAytgB5vxkPyxXVIm9Pz7n8/YNuMNF5wxEIqJ/HhEeHfffdD4MDA5gxe1bQgeilGmHn+PJXvoItHVvQ3dmFOXPmqjNLHKivrcNFF30ff7vlFixdtgyDA/2oqKjA1ClT8KFDD8Pee+8TxO0FMX7sY0dj08aNqKiowMEHHYzKygrxmTiMXTSehSG8S2bAEDYaVLyy04u7aXKAkQ4uBxH1OcitGjggbx7AVQSq7oPHcWj3z+BBF+C06sHCnzpwQP52RzGIO68rBhoUx3MvLMZxH/sYxBlCjUHWSKCvBbvuiiuuvEq7FISetVQMYQcXDJBVJP/xDQbaDvEM5KYVYV7c2g5Q7UC6mWgHNUzIGTCTAcSBKRlkvUQYAlkJBnmBC5kgJzII6VvGnGxZY8yJJZFBncLVGDwSGxfPt+ZBrWgMoZzgc+UNP2QIBJLI4PKGzkBaJ/SGLx1vMgRjrH3TJlz8/QtQW1UD9Q0AbVnpZOy68F048siPoa6uLkjlA6jw8IkTPon2q67E4sWLcfwnPo4FC3bFdttth5qaGnR3d2PFyhV46803UV1VhT323BMf/8QJqqsSBtmrtE4JdzswkHaAxRvkex9fuY9e6cWINyL+FvE43WcwcDsD4xx+jPsCO6VwXwoGlzeQwX2SIW7MxTE43YdYfxfnvhwMFvfpDCAJDH+Dl8h9Dn+XwX1B3SugVP52uI/2Sek+P97fzGRgwIEHHojnn30Wj//jcfzkJ5fgT3+6FgsWLMSECRMwVBjCxg0b8corS9DevhktLS34yIc/iunTpqtGgXKfzhD1xrhx41EY8lFVXQ0GBvnjOc4c3ggZxCW6vvpe66/X34BHHnxIxqC+QaX1G/SSEz75GcyfP1+2A+PAwQcfjOefewbPPPM0fvGzn+Avf/kTFsyfj3EN41HgBXR0dOCVJS9j06ZNGD+hEYcechh23mme7m/qPtIONobM7st6DHK4D0nu4+SntuVyn9PfwhsWhrzui2OIcV8SQ7ndpzE4/R26bzTNXUV3C/urrOs4fyOl+wiD5r5RP3eNmTMh49yVuk/kmTB35aGNVVuoRWdQLcKQ95txsxTmWB+uDD6yiWJt+TBcdPHFkc0qTZCwtqYW5553vhpBxmifPn0GTv3q19DX34eBvn5UVFWivq5eu/xcDMIddtgB559/IXzuo6qqGrSTRjkMBrpdioCBM9GglvpgTK2SoROGCLylroRAOI2TRdLSYgM2wKuogLo7pcHgcZU349hhhzn41Kc/AyEfyamx6e+nbDdFi9x6uQ2D3IcbIZC+GWHQsohloJMBVzuox1VY+zGRtOuSIX0QlYKBWxgQ/UyUgUFNlh1jTp6uTsFg6a9OBhZliJRNGKIB6Ayx3nAw1NbWJjI0NDRg2vTt0Nvbh1WrVkVGkd6TgkgmNE7A0NAQCTDYcsAB70FzczOee/ZZLH7xRWxoXY/ly5eir68PEyY0orGxEQcedBD22nMvvHv//TG5ZbKjUuz14GIINph1w1UbGi4S7tMzi3rUDMLtPvLCdR0d6aRu95n7cPsmJ4MlJJMhpfvc/jbGXCyDy33hVs3f9qS5GaBdeJvCG1GGVP424yypv8vsviz+drhPT5TP3wBQV1+Pb572bey3/wF4/rlnsWz5W3jllSXo2NIOeB6aJjVhxx13xK4LF2LRoj2xxx6LUFVVpcUaYTDVGoZ+0kmnYGhoEHPn7iTDrKioCJ5G4/CGuKJAZDapqQnTZ8xAe8cWtHdsUek4gm+6gNAWyhubNm2EtjCgsbERZ5x5Np548p9Y/PwLWLp0KV577RVs2dKByorK4LFms2bjQx86FHvssQj77Lcvqqvok1poXwpXl9t9BoN84dJAGvdF+jCPhJaWwemNss9dzcVSV1b3jaC/zcBI5Nvmrmb2tjFnzPvG8txVjjkLgzbmdIZoAAh1EDM2NAbhyXAT59zVau6Fk/rgHG1traio9FBfV2fp38EK2ZdDfi7gAYTXqZA9mLykC4jUkco1rHzR+eTFI5x0BuYjuCmCUQxhIBHSkDXNcYTn+yifYGAA/CBzUceJDOL4x4GOri7U1taguqoygYGBe1ybf4v+52Lo6+1Fd08P6usbUFtXG3WghcEHhz9UiDB4nMM3OqJgYB4Lf7MWtgODOoPLIc8wJTFA5e5sB41BDpb4dhBtbWOQ+ciM/UQGs7/64BkZSANrDGFHBUrHYIw5jngGmiVdVB6EQewhXwYM4qaFnAGdHZ2oq61FVWWVGnNcnZF0M7i9EfyxeAMcvb296OnpQW1NDeobxmknBEQeg0ND6O3t0SkpMPPBeYVsFwagsrIKdbV1gMesDAW/gP6+fhSGhlDwC/B9wKtgqPQqUFlVherqalR4XjJDSdwXbQer+1ztoJfm9jcZc6qvp3ffcPo7jftc/o5znxw0NgYOwEvr70i1l4Sh5O4jE+B87jPKBmEQE95yuC+Fv83q1VCI+zo6OlFXV4tq7YOxfcylYvA5BgYGMDA4iELBh+8PgYHBq6xAhVeB2pqa4OZsCe4zqt7J4HMf7Zs2orKqCuPGjYfHvFTe6O7tQWFoUH0Tbn4ykWNajcq6+npUVVZZ/c2Zj4GBQQwODMAv+BgqFMBYcJKg0vNQVVOLqqpKC4PyBj0GDav7ACWltO5zMIzuuSsnVz0gvfs0huxz1xHzd0r3mQwA2ZTHfeFvZMfc3JW4b2ubu9oYkuauhYKPrp4eNDe1kEdpi+2CgVS4iDHXh3FjaWtbD6/CQ0NdHWApRCsQpA8iWmkwOrzKzsjY2JmRFEIL3EyYEJvz252UDLLBkcCgB4uOzi7U1daguqoqmcFVAS4GV7IIA/lXt6SxEAbLLQv1XRIYjEGldlOP00hmcPyb1NZCKIkMzuITGOLbweyv5r8ixGFjMA4ypWRQJ5v0u/AnMZg8yMCg3J6dIZIwTTuApXIfzW5Uui+nv+XrJAbDffkYSu0+8jqL+zxYGcS7fP7O4j76Oou/UWb3FedvGeYodl9HZ+C0mqqqsjCYy0j6u9TuS8MwrP4u0n2JDCPhvowM0hsoI4M1ihiGsriP+DvWGyMzd6VhupcSum8Uzl0j4SQxjKT7LAyFQgHdPb1obmpBRWWKi8/DctLdPjzFwiIvIm9kubbXahf97JkYV1C/cDJ2ZtrbgIueI1a3KUk8WFhlxiL7RRnIvywFA9d2juQby2CNIoZBBpXE4EeSm+OUMkQ/7OrtEKxJYGA8ElmQd4WlrV0M9F8LgyV/2SIpGPT3dnFZy+Cu/qq/dTHQ4EvLEF04uL2tDQbztF0WBnNJw2CWFcfgHHM52iHIICNDJF08w4i7zzhOqZ+jJDPor42ay+y+rAz2nlCc+3gkeZz7opPRHO5zMniWZKX1dzZvxPRYp/ts/o4uw+8+WyDp3FcMg7nEMURrNLb4MMN8DE5/l9l99gyz+tvuDbXkmPeVe+5atPvsJY/s3DUDgzWKGIayuG90z11JOP+2c1dzGatz11jfWXbJ/2Gc0+I4yZNr4ajXBhlT6+ggD+Y4OgZnIAeIcB9NTkzbxo3KoXMnRi+3IQw8vFREzylkUKZyMLDiGLQBm45Bd3MMQxgYqWkng8ovmUH8LiJVOzCdAYRBha8Y6G/yEhkYrAyqvuwMKi+9v+oZm0g6g6hrc8LK5eXmJEQtO1s/Kh1D/JgjLRW+CG4gk8zgxYkzjoH0SZFfsQzypbW/6gzM0g6JDJxGY/OGbUyXgwGITJAyuE/lazCIW5OysJ5UDhaGMrovs7/JIWuE3CfbOjdDifztcF8SQzb3MfnX6W+yv/QGDXHUuM/i75TuS+0NC4M5LYtjYIkMUX+XzX3E3yp4nUHtXH5/Q4slMgsmY073lXPel8p9LgbSm8fE3NVYivL3KHCfwaDyS/aGnLuqrW6GJPclzF1ZHIPD39vmru5yRmLuSsJLxZC08MiL4E3+D+NESIHVwpDkLfGDbT7E3fdE5YRNFOnEND6BqX6DAs60Kw98n1ScFEXYQuoe+DI38XsNeoYkmNeFVSAuU1I4sooDBj8nAzQGCAZGGBg3GJDIIEP1ABbH4JsMoppC6RAGuBiYi4HB91U6dVaJkz9c1jmDOvjlZyjoDL7BEB4oZL2bB0AbA0mnlngGFsYqygjKDB/9YmHwExi0MjUG1c8jDCIgY8xxlUjj0Rn88O6+8QyM4Ij+yimDCMzKYO+vEQYkMBB70fErGWR6Meai7SCeAkC9weg3QJo36LhzeUMxKJeb7jMZqDdEXC5vCAZoDEA29wXvYtxH2oEThtK4b4T9PQrcpzE4xkNuf5vui2GQK0vgPlF3MtQi3afGevA3lb/Fplzuy+tvw32l8DcSGCzuc/kbDoao+5juPslguE/2VxVrad2Xzd9AKf3taQzUfYpha5q7IjtDrPtcDBieuSsvgfu4SkfHrvpT/Nw10X3acWI0z13ZGJ276u7LPnd1u4/moTOQbdTfIrnYoDUbK+LDOFm0MxOkcIEvgRiHOD8j4gg6hqdVvcyBcTBioOAnDiE2PQulnYoTkEKK4l9ak/SVXrI2vjMy2BbOILQsE7NwNCsGpjW6ypQwMAcDp/VvYWA2BlKPaRgQ6TeEAeRsoCmFYJ0ckoyRMvIyeCQGiDkIKd3Rl8wIKQMog20hDADprwaDcdkPV1YFY+I5r3YGEhZh0KVkMnBZsCgj5syiyeBXpGLwRYwAwPywDMIgdrQykArQ/xhM9OhmYSCNZmcw8pRjVLxX/V0wBGGb3lCNIb5R4HptZ2KgBrJ5I9it1O6LMkQnHHb30VVZ3Ze1HYbF31b38WF1n/y3JO4z/G26L4ZBizC3+2IYTPeZDDHus/vbUicwajm3+/L6m1sYXO4T+Wf3hsaQ6D6Sq9Pfpvu47j4e5758DLr74HBfjL+d7iuVvy1M5EVJ3DfW564yBpU4Onc1GRBlKMfcNaP77AwZ3PdvP3ctjfu00Tgsc1fdfYlzVy4YinEfSWn4W+0cnS/k/DDOo2/lWGF6hRvFCQAW1m7QKL7R02i+qlfQ2ykA0M8URms0zF+coyT7aqfQIr0pkUGc9RXOEQxa/bJwb1mGg8FXhUQYOGHgDgYtN1gb3zZUrQzgMQwqJ8UQJI62gwCiDCgZg1jn08HCBI0+uEwGLhn0ElIzhCVbGbjJQA98zCiDMDALA03lYKDxMmhuE1SgfY9ZGOQGWdE2hlD6Doagi2djoO1GGbQkMQwQDPJoZjLYx1yUQdUUPTIGj+nhJF0xDEDgPsWgCcDFkMt9SQzUfYjsVzp/p3Bfmfwd7748/lY5ZWIog7+VN0yGoJ7jGIp3H0d69xkMLvfZ/E1TpWBIdB9PcJ+Tgba17g1RWHBxxPC6L52/ufY32d9qJWc6Q/HuI7fCov0zl/uK8fdwuS/MYKuYu6qcRtp9Ytk2d9VLyDR35cW7TzsGjcq5K48wpJ67lsp9RlNGO7JtdGZcOKeVZHRsBJ1MncQyZSjee0GfCB8GzxiTFcm5r30TF/jNC/PyaBcm3zozBBeChLvJ68CD1NpJYAYE1xeKzh+89rggYBoDLAxMMPCQAQYDuPpWiolW8WSsQT2FuXsIz9hYGMjlY9zscxpDcNlFwCCe0GdjUJ1L66CCQWZOGcJbBlsZuKMdmIUBEQbuk8ubWEFWl52BtgLXGCAZuMYQNhdh4IQBDgZAHAaDeGwMTGNQ/jUZPJ2BiFpj4DoDMYCsHpPB42qT6K/mVRgsDEacVwxO/IR9ScwoBIPsIgUZl2JAOgYy5nQGHsPAUzHAYNC84WQwvMFUGyoG8TsylzdUW4fPCMnBgCiDzX0ZGZjBACcD4da8EcSk3IdE9wUL8TdM9/nEfWKiqjPIUZ/ob0gGt/uov+PcZ/qbpfB3nPtSMMT4O5v76DRFd59iSHIfZYhzn18i9xkMLm8Y/jYSW71BrJLOfYzJOajVfU4Gt/vEt1HKG8jhb7c3ZN1Y3JfO354sK9bfGoPd30oPJXJfCfxtui+Vv2PcRxmCvVK4z/T3mJm7pnFf2PfK4D6Y7pPVO0rmrk73qdeZ3Ke1gtt98f4W7kvyd8LctQTui8z7qL9Tuy+DvzO7j6VjQBndZ16tIIqU39SrOhIPNMv9aDMuymNAW9s6VFRUoqGuVnZrgcogHuAe1go5iKnuIyo9XEkfIK/to86wyp4TzJJluaH3qIegr1YlUwaxiK00PtG0cQyCQhbN3AwgFGBAR0c3amtrUFVVmcggZOpkENWShoGkjdaTmyHCzpChHdQAEx3fuErOwmDwWoNNw0B3TskQEWpMf40wMMjfShXDQPdI7K9uhlRjjnaYEjFs6VSPNks35kyGEntDG7Xl8kaZGcjAHWn3aQxAJveV1N+j3n0l9Df4yLuPljGC/k7jPidDTn93dnahtqYW1VWVZfZ3Rm/QDgPlDRuDTJamHcKI/n3cl2PuCsS6b2ucu46I+0bN3DW4fH7b3DWGoSj3qfSZ3ZfAIJKVw32FwhC6wkebVVZUOtrBqEeW+QZueodWuZlDW6zmeqEsmiaoN51O+y0QKYODawRBdtxMBi0Z5NgN+7W6xMGjCXWgyCBPYlCqCrcZDEzuowcnGOivm+IYkMBAy7WJSmPgJgNSMWg7iOxY2nZgOgM3GGBjUCRah9W7ndSkauswL3oMzMoAB4OIixYWYaDRp2OgHJwGYjIYA5yOORcDJ0liGWjdhdszM5Bs5SbS1tkYkrzBY72hd0TdYQ6FRRjivTH8DPTEa9kYkM59zMjAzuB2n40hl79j3BdhKKX7MjDE+tsoN9bfI+k+RqLjUdhS+tucZNkY0rgvwiD2TPK3y31cZpYw5sKMRT/J6T7N30jnb9oRbQzpvcElw2hwn8ik3P4un/u2rrlrWoZY9xntH+u+cGXJ/J177hr+jKBM7ts2d40WU6q5a3pvKIZMc1ezcxrFqKEoYsx8Azfm3sShXfdvRKj9oYcXox6C+tQMIgZfOAB8lZLTvYzQ6KU0nLSd3pRqJ8aDMjgNW+/K0VWCwSjbxqDJxVd1IHzGS8TAYhh4DIOfkkGWa2HQ8mY5GZCCgcHJQPs4BIPxNKQoA7IzQGcwoxEM+tpkBvPDq/xrMohh4RpzVgZbf03B4NO1bgYhPbOtZV/yVFtLBs5TM7i9wVQZZiZpGCxF2/qr2D3qjRiG1O4jDBb3mQxx7otjcLuPp3ZfLn+Ld6Y3HAzD6e+i3VcqBhTn73zuK97fyMqQwd9W90UYjH2c7svhb3McU4bIEnWfzmC6L6e/jWiZFifNq4TuM/wNyRDnPr3YUrkvL0Os+4r2d4z7xMWno3DumtZ98l0Z/T0W567ldN+2uStlUGUkMYAyZJq72tpaMeSau5LVjCaQ21kYL7J9GLf5Xg7WEM7eTfXa9+R2k1q5HxzkIMMBRn9Mb0bDtYpjXJ1lkGflwgR0oKj2EAxMxiXWRxlIbIJBP2q7GUR5sp5Uw7BMDFxGlsTAzXpyMLCUDLJTGQyRZvHTtIObgZH1EQYOg4FHGWgjWxjENmt/1RhEf2WxDGp/nUGFEMMQnsVLxUDLyMwQciQxcIOBpWOQPc+WzMUQ3oAjK4OegAgWtK1TMkAxRPurniwzQ4ndVyxD9FiRxX1FMIgyTfelZsjuvkgZ4k9Z3JeFId59lCGXvzO5L87f6dxXlL+H1X3l9HfKdtDKyMMQ7dtR94XbMnpD8tqS5fG3WHxo3oj1t9ZfszPkdt8w+VsmyMRA+6uKL8l9UQYSm0ib0n00/OLcN7JzV1HwtrlrKd03MnNX2BiyuI8wlM193Nw36g2xOtOHca0gbl0LvaIsOXhiPT37YuRB21PCMkt+luA8gHu2YRypJnlWI3p+haszSrayJAMvgoFHk6dmUCLhxjZ6kPBhoy4PQ6SeWDyD/SCjGIjbUzAgymBDIQxmVG4GGqWbwdyGCIOj93qAfH5lGgbEM0R2ysPA8jNEFkYPJqVg8B3pLAfjrAzW/koYxHrh+yx9qUTus46HRG9YiolhiI6p0jJYrZrHfSn8bV1G2H10TVn8PczuK8rfo819af0twhhWBp+kjnNfDn97jm2m+1Iw2PoSyuXvlO4bLf4uzn06Q5L7rC1aLveNtrkrLTuX+7bNXRVDjDdG0N/m/rndlzR3LZJBrXKUE27KeJk6LcToSvItJRCvSZflqrJkKgZKavAE59LA9GvS1C7hKx6Wo10rEWynzcVI0fJ5lSKFvH6CkZvdxTFoxagYXAygDPr3Q7KIGAYxgDQGY0hzUU9OBoFqMjCdgZQRYdCgYwaIk0Hb3cJQkAz2vhTDIJNwYwsnDKotxTUp6RjCgU2TORi0/ipFivQMlsJjGSi6OfhdDFrnS2AAOdDkYTDKyM+g2svGEC3XwaBnCmYZc5G8xBaWzKCb3O4+K0MR7rMxRNyXi6EE/kZx/ra6r2T+NtwXx0D20RlUWvonkSHGfUX7W4vJ4o08/k7hPslAQ5fpy+NvuccwuU/untnfo8B9tnZI674UDLndF2GwuY/eb54r1LL5uwTu21rmrmSHkvg74o0Szl21hTIU4T6jSDuDPndlWRhkkmzukwxp3ZfAsG3uGseQw99G3rK9uL4p24dxq+zoJTgIpMDJDuGj0BjTLz1hUNf/cx/g8vmJXMs7+N8DONN+L6A/g5EhuCwhLMF4IKjqTOI0ixg4jJQB2bldDIhhgGTwDAbBEdw2gJOGUgwiGQtv229nCLJNwcDiGEJv0RvDiA5KGSL6IQwkLsg1YhAIBrMrEoawI6rObTJ4QUxJ7cC4eEoKudFMyMD0WySqMtSFZsEfCwMUA/TUAYOv1rgZSFtzeRhKzRCkycAQM+YUg2ANGeRlYeJxHDEMICNJtKHGQA+0XOXDxIVSIkvxqkgzZ6kAACAASURBVAgGZmOwecPFQOtYZ6ApVWwebYaMDHC6j0F3HyvSfTyz+0jsCe0Q575U/kYKhjj3ORly+JuZDDy9v0lcOgMM9zn8jSSGItwX8TeN3+INm78R9bd4p7kvjb9F6Bndl8ffZj2Vz31h/ohzX/jGygA7Qwn8rfJMcJ/D3yqkqL9lHiVzXxp/p3VfWn/nc9+wzF1j3OdmyOE+C0Px7kvhb56OId59kG0tIkt2n8kQ474yzF1FqmGZu4bxZZu7Jrgvh7/d7nMwlMB95Zy7yjxSu09s09tBjD5RDP0sGGST89FmdGlrW4+KCg/1dXXRjQwqUOpH0KaKvk+zaPtwBv3AXLrFlXWpGLZ0dqG2rgbVlVWJZZR6yZ0/Y+qAm5DHqGWw5eHILE0ZxdTDSDKYh99UZWRYOsijzVLnn5KhaG+UYUlk0EQ8QgxpG324/J1je7HL1shQjjzKVYZYNxbd19HZhdqaGlRXV8Xmn2UpxTEodRllWpLdx7TLQkejv60FbZu7JuaRdXuxy7a5q5HHCHljLPq7HIvIf6hQQE9PL5qaWlBZWZl6/5yXqZtI5AyIUTOxj3ogG2xXz5hFBWcvwjMiLHxGu1jS/ObJHoqIQBUZOaFhD87KYCsjDYOjV8kTOdBeWBd6AZdMx0Q+LgY9B/OETlxHF7FpeUR2CL6xS89A/mZloOk1BlffYFEGa1IGTuvWwWCbbMoDeFgGF4WZ4yQjg3zP1NiRXSmhv5oMcW1sZ0C8BYeBQeaQ2hs6g0wTw5DXG4kMLC+Dw315GBztMmL+TnSfPQ2JQCaJMKR0n9PfZphMXbKdjaHc/kZx7nNGlew+Wrz8a3OfJfai3GfmkdHf2d0n/M2N8VAEQ5H+tiSMZZBpkvxtvHa6j2Vxn365cx5vxM831Pq8/pbvx9jc1ea+YZm72oISuw6b+5hlzLmX4Zq7srQMKb0B6g2ToYi5a3QvaAzb5q4uhqj7wpGo/yTASGEtOu8344KHA2hrWxdGxLWNnKvOqFdAcNEAvbgqUj8c8oqTYBvJH0Hj0N8ycA7LYyWYLCvSCDwIWZwkk42sMXBw8fsVBph3lVCruPxXPH/ezmDWobr8RXSWvAz6iOBku15PZn9IxcAiLyNLbgbxNgODaq/0DPKy4KIYrFVYEgZVSk4GY8zZGJjMvVwMelv7qRjyecN2MZpcwiwj3sjBIOoxwhDrjTK6z8WQMOaKYoi4jzKUwH1ecf6O668o1t8x7iva3+LtWPN3pB5G2N+jwn3K3+ndl50hrfvyMQyfv139kGY5KtyXgiHSVnH+hvJGFgaX+7bNXYfZfUX6e9vcdbT6u/Tus30zbmqCxpD+O3RjYeQvAwDGUGV+JR+RanQKqgIirxjUpTWmSUn4HDz4fQQ39qFpacUzIHhsk6pKlVZfYzLYIi4Vw+DgEKqqqlFRWWnkQ/Lj4kyL0aXlSx6+Jd1W20Z7StSKQWel0NFIoya1bTPXpWDQ9snPQOshnsHMOyuDq/1HOwPCeImYrHtmYbDnQkdZb28PqqqqiZhUTBws+K201cJm/dsYbKPPwiB/U5ePITrm4hhs+ZWIwWxrzsHl76ss/TWWQeVlb2ux2dFfUzPYvSH31VaPLffRsRStgeF0Hyd5JXkD9r4UiSfZfaVlUHmMdvf19vU6nJaTYay4z4htm/uSGWT5VobR4L4khgT3jTBDevdFGf593Sf6cHb3ucYDzaM496VhGC73uRlc7vN9H/39fZa60QnNCHJ/GDeXigoPtbU1su5UFapXtuoWSTin591FSgYOn3Qg2jCI/PbSvThL1tMwFm3/BAa5pQiGLYNdqKurQ22t5Tf3MqckBtoJE0kjwyiqHz2lbRJjzTB1ye7tKVsrhULNlDE5JxTqGvqulKmrxFGOe/+YFAmr4hmibV0sg1h6e3tQW1uLurr6ZIaE/Mw9kvqrtYQUxRbXE+NTZWXIW2wWhtHqja2BIV3CfP421408Q6ndF9di8aGldx/dJ537evt6DaclRpg6RT6GUrsvzfLv7T57OGOLYXT4e9vctdTus28ujfuSytma5q55Ug4ODqC/vy8kNU9/uHLg2X8zznkAHA0tOJvAOQO4+EjKEd6+DwBUWBzQzkxw0Y3D/eEF+TEuH8guLh4I3jEgKAZiIOshcfmekX8Vg/rIzEgaLsoKGSDyj2GQFZqCIdjfDztL2HlkGTwjg9EO2o9+wi1yc5g/YRbrmbFO5sDDOgkz0R8BwMm/pAK0lTqDWbIqg67Qy3AycFNYdgbxTtZTGgZHO6g9i2GAxmDG4maAhUFIDaoMC4MUWCID2Wqpp1QMWpnRxcbA5Taan40BBoO+LRMDS8sQJYm6L4HBiDMNgznmtJ5KGXK5z85A9s7EkNYbPPJvuRjGjvty+Tul+3IxxByDXAz6inK4z+bvUruPlJbXfbEMpXZfEf5O7b7oss19xTOMCvfl8DcNtOQM2+au+d1HGYqcuw6n+0rr72Gcu5I43O5Tf7J4I/OHccaA6FkmJu/uzsABeZMOBni064UDiAHh/ekNLIAxDjDz9ygs/GgL9S8Xd59jQTZaGzD5nv6UnZZBwcVmUYZkEA2dwGAMDSeDSBXkwcMyBYOImXRcS79SZRjtwOifcIu6Th705Ic+fMxOpvInOZlbaZGqnuSfOAZaT9ZsIwzcZGA2BbgXpmccz2C2A4z3mRigM3DYGVJc3pHIYLZ1GLOquwwMOkr4JgVDAoaNwawnNwN0Buivi2FQ2WVgsJThHnPZGMwynAy2PpHVG6kZHBOYHAzSOmVhKLf7jHAzuS+GocTuy+Vvp/touhK7rxT+lo+WKYG/bVGl8UYOhtHgvlz+tpSxzX1jyH05GKJl2Ri2orlrUe7bOuauoAzb5q7OMqIMamOWMZfzburGEimDWd/Ti7jpYIoMKW6+JKDkla8lshzlxDa6yagk+3DOzhBpTQsDs6TzI+ltHdfyPtVi30nvFyyuEnS8yOlAVzFxDDaxxi3GMOAkK3vfjr7XXmdkMN+7mzkmU6ajmwza+kjHsbw2SjX7PynfOi1IYtC6fkYGM8dyMRhLMQz2rFMwWIMYZoaYfQCe3RtOBnMt9UZMIVaGiAriCho599GdZH9l0W22FSViyOU+yz65/G1dndbfKb3hyiyrN0rl76zeGAl/G8uI+NsaxCh1X7qJRjb3pVmKdl8Of0czcazN4O8Rcp9z7XDMXa2r/33mrpm9sW3uag0ki/tK8mFcXmXCQG7UQAvi0bpkdKyYNUxhmSwj+pmb7ufbj8m04sFBb53PjGSiDLMaExlszrQxQDEY3SS4869reHDnG2syW4rYTsscZURu/cgQE2V8fJb8I1JCCga6UxwDy8fAyb+OjVrBTJRhSZaPgXbwlAxWQSUdLuIZ4pZYBsDOYMbJjDszZ2BQa0vIYG5Lw2DunelgF90pK0NcSRGGFN4wwknYC5aT4qS/Zl5Gofu0fUrrvrhk8d4Q8ZBtw+5vEkJJ3UczL4P7MvrbmUWJ/K0HYZY/jO5L42/LLZTHjPtinuFdOoZyuC+bv1O5z8w+pfuS8hqV/t42d40GN0rcl8ffo8Z9ZfJ3ST6MSzZuBMIAT3zcDEhVMBzysQucA9qzd8Vl4RykQswzB8GN0UT5DB4p3whOfvDXe33kbKVPU6h0RTGAMEAxiHgEgzijYW1CzfeRGbDer6LHTC0LZ/YhuLhQP9gQ3YtZ89JMko3BOJalY7DHVQoGlpJBH4ykv5aCAWVkIEnjGMRrWxm5GCxLYp90MMj9uDYay8KQFKntoGzuVTSDNQIeu1VjSOkN25KNwd1f7REU4Q0jizHpPiOLscNA15fYff9G/o4uyQwj5r7UDPq2cjHERTEy/jbqKaO/R7s37HmNLYaS+9voINvcJ7IqD4M+5uiG0rsvn78zbLO4r3SXqdsiCAuMHL/pfuG+2g/vuUpIT0pwuo0UyrWdjDKim2DkSFbbrZzIAAuDUb6TwdgnriGdG1mKNGkWBiTfzzIpgFIwxH6MTAxlOBgi7W/uVEw7IGTIXA3DwZAeLBNDwoTItdHa1iVkSLXEzdqSSothiK+6DAwl8EYuBmRj2OY+jAn3Ja4fAwyjyt8yXVYGyyS01O4bIX87qiRNrtmXcrgvo7+3uS8pg+RQRgfDNvdtm7umKiDS1kV+GKenUxSqqijyC+vwrJK4P6AZv3Z1AMnfI2k929k1mr35oddSDl3LIilY6RjoSQ+SltnOrnEEN31zBJzc1jz2rXEGQEtk1lOqfmVLxN3bbXUVn4FrIIwsg3VhMakyMJjvXCeSExfa1mm6RaScEWKg6fIwxK3N0SEyjzkgBYPttKGbIa5Z7OGUgMGVZ7kYYsZcigiTU2xzX3JW5rqxwODMPp035LI1uC8zg7kMB8M298WGMCoZUiQqtb+tgW1zX2xW5rqx5L5IBuV233D4274kjbmMH8a58Ypp7yMdiwGchUWwYEv0NmbBGmbtjfR5cQy+F+SgJaOXEITjQD0UHvCYJdJwZ19cYw7xmZiVgQEaAycMcjsjuVk6V/SiDW7coV9vB5oHN/OXi87AIjnFLMze1kbWMgUrAYMlY2RhiIwRizOTGGy5lopBvbPmZLyy5Ru+j+lL9pK3LgZzJ8GQfLDTT+PZ+iuMFPR9OgZhGUfJxTBoYzynN1IzuHuAi0G8zeKNYFV+hrzui/0J2hh0X2TJ4b6RZii1N8T6be6j++hjLg3DWHIfjBTRLSR1CRnE22RvlM7fEffl8nc0Udn9bYy5bXNXS//M4W9brv+e7isdg9t9tiXZGxk/jKvs9KsxRKe1gCXeAZA8Sw8IHwOm7xP8nJrD81UZcSql1/uLG7bJG+UzT7U3iY2z4KN4tMJiGLRUXIbiZvA1BrW360BpDlW13vaEFfme6+9TSUqkSkIN06jI7HFE8i2SId2SHIVcuKPcTPmaDMaQL5LB1MLwMBh7lICBxTHAUXcJ+ZrrYx9xYemv7sWV0sUg3BcWlFhOzJZhYJBtbfG3K5csCzM7jV5MLm+Y6+0MpXOfqx1EmrHmvsiSyxsx7SAypSm3+TvZ365yE/I115fTG/EMY8t98lVR7ktiGGvuU/EB5WHY+ueu29xnphzuuat1j0zeiJaVxFBq9+W/TJ1F35gfQKPFE/FxCqOm69rZBgaAc4gbjXPSSziBiC6kcmRCFkTIXb3MXhV2Br2BJANxgp2B5WLQO24K45A8o792p3nw6GotPhqDvd7io7EwpBFmpIyUDDy6vTgG90HJvrCYMuLA7QzMxmAUl7ykY0hXT/kY0jV5HMzIMsR3WuZ4HZN3zOphY7D4OyZ17FqbRtSb4WKwlRGXdyncl55h7LnPsbVk7svBYBSXvGQdc+Xxd/Iyer0Rz7DNfWPTfZbVxrxUbRtD7ivX3BVJDMz5dtvcdTj9jTHt72wfxh3i4eGHTfPy7UgY2i3hGXyaBwHywrA41/cJHj3GImfMuPGekU+4nEE2EAfTg+LhWwZw3w8/rovo4hhUKpNBvBYMEAzigzqL1pO9vZj1ZYQBejtEc7F9jGcKnK6XJxPMUySQZw24rMtIaOkYRNHlYDDrqWiGuNNusDMwloEByQzcYBDbDAb3ko6BaTHQkUDrKT+DbcnEYPNlIkN0n1IxmP3VxRDtrw4GI76RYNDjyM5gxlcsgxlIaRlK4T4Hg1n6mHSfY2vJ3JeCYYTcRxlGhfvM4ujqUew+tYx+99HNW7/7XAy6N3IxmKVvZe4bOwxb39w1vftGmb/j3EcYsn0Yj8hTZcQZIH7hbQuQAaAX1OuXhHPQ62545HfeJBnUR2EuQcxkegTEB5FvolmYr8eY/miyzAwAmHofyYurv7SGghMOtqHDrS3N5D/GOkA7CeGMP8zUfsM823uuvWZhZ2euJOaKsjCEWY8Ug6PjlYVBrkzBEFnyM1Bb2MqIMvCwb1vSxTIkHRSjcarsbAy2eFNcipiRwWxrFwMdc7EMifHa+2s+Bn3fLN6wMljfF89gjWOUus96qN8a3ecodGtyn2Jwe0Md58MCyuk+8jLeffZ5RKn9ndZ99sBHp/uK9fdYcV8+f3PLOmuWasMY87d1xdbo7wzusy0j6e/07kv2t8yqTP5mNL8495Ft2S9T5+SPtb30ChD3Io/0Ce0do+Pd2EqrWM+ZvuXai2h31nXiOqvBYDuTk46BHFtSM6hNWv6CwUjKLW/c7RBd5GGDw/kEBj0Grgeohqy+U6QdSHuWhQHpGOS7EjMwW8eLFOxctJ5RSobI/jkZtMLtZdBk8gkBcW0d5qXaOl7Fan/mrNcoA1fpMzKkG3NB/nnHnHU7vVrIOubEMjq84dpeDIOWbJv7nEsm9w0jQ3SDe/n3dJ/pjRzuS2QgHWpYGJKX3O5LYhhN7ivS31qy4WCw7JPs77TewLAwjCb35fI3xsLc1e0NmWKbv52Lz+L7hs3fmT6M0zgYePg6HB2ic9JLxAFw+KBrxGuPQ317zHySFwD5QDP6P4xLKLj4jwQH45tvVR4Lb9BGb+7GmC/TiRuwcc4zMzAAYFzd/MLJQH6zTn5gHjxLnavOTRkIsjglYG8Hkphru4naU8kYKYPLHEkakSdJJNhI5raxPCwMogkTGOSgzsSQth3McZnMoMVnlqExoGwMKscYBhqgVSbG0wM0r1gYzLqjDFrcxTIwlb7UDIAcs5kY9IysDHoakjCBQQ6DRIa4MVdKBtMbdobSe4MwlNx90MsYI+7L5+98x6DSum+E/Z3SGxEGUAa7v8vvvjL5Oy+DnpGVgUUYkIohvfvImjHkvlz+zum+dAyjwH0xDMW7bxj9bYQ3atxnMESXEs5do6ElMozI3JW8S+8Nd1+K83elLVzXIh80xgH1qVeNjiBO8otqBpj3ehfbCgxgPHwImV8RRh9WAac3SRMPKmPyWdw2TvGG0wQiYh7szxnCO6iH8XJPVTZjAA8/UFOGaEkRBg4AvpeKQVzKzsnlTcHd15lZjA5J6tzeDmSLkZXYa3BwEH19fWhoaAD3fSxfsRz9/f1YuPBdYRliR6k1cgM8Eoz+B2+99Sb6+vqw/fbbY/z4CfEMISd9aJ34293VhZUrV6CmthZz5+5kZdDyE9kyqLomDOJAn4ZBK8PSDjLbBAbx2tYOzoIjDNAY1LpSMDCDgRZpZ4gudgYtYsogzGRjsLxLxaDeGAx6riVjcLovgcGy2Purm8EdpzUMC0OcN8hYL5pBz8vFEC3DUUxq9zEtWckYNJByM5AtcQwp3aczFOcNjaHs7lMMrIQMef0dXRx9CZQBGoNaV5z7hvwCVixfhr6+Prxr4W4R9xWGCuju7gbnvhZTXV0dampqtFI2b96MlSuXY9q06Zg6dTuypTTuGxwcwvLlyzA4OICFC3dT9WRpa22IGLm2tbZi7dtrMWXKFEyfPiNaXqL77AyFQgG9vb2orq5CVVU11qxZjY0bNmDuTjth/PgJub2xafMmrFqxAjNnzUZLS4vKI6M3CkMFvPnm6/ALHDvPm4fq6upt7svFkNYbKRhyuk9j2BrcF8sAjUGtK859IzZ3zTXvs+ef5L6M34zbQMwzBMy2SVvHoILiAOD5WhIxpoIO5NNzCNazEObCzIe9iZ7IYxhS/yA/yhDkV0IGbtmgVau7HezaCpaHHnwAF1/0PbS1tqKnpwe/u+pK/OgHF1nLoAwJ0eLKK36Niy86H2+88Xoyg+zv0UjfeusN/OD7F+APV18VQxENR8spJ4Mzf7MMZr6xB2VucZYax8At6+Jzs+dvZdDz0OPNweDqr5y8KSUDEMvgh5OtsczgeqRiLgbk94Yt/8QxJ/fJUEdGGbYMh5WhBG1ty79oBhLOsDMMs/vK428OY20k/1QMSX2pxP7u7+vF1Vddge9fcJ7VGyuWL8fPfnoJvn/hebjowvPw/QvPw48uvgBPP/VkpNSnnnwCZ57+bdx37z1lcd+WLVtwxWW/wvcv/J6W/0B/P/r7+tDX14e+gfBvXx/6+sL1/X3o7+tDYWgIAPDYY4/g7DO+jTvvuD2+1AQGc8y9suRl/OgHF+Ifjz8O3/fxt5tvwhmnn4Y333gjMf84fy9+4XmcccZpePLJf1lvhhW7kDK6ujrx40t+gB/84AJsbt8Ubh4B9402f6vkI+Y++y+RS8gwFtxnxknLMHfaNneNZmFhKOKbcX2t+CE8AwPXtpP9mQ8OL4yPdGnfC6/q9gEwDA0NYWioAMaAmppaiMvguaSTo8JaST5TF4kH8XGINYz5APcAX8QMMAR3RRdZBQw8GwOnDEEusgzmgTF6uS4Hgwft2eR6RUs0DTF8E9cOkeogK95883U88siD+Mopp6K2rg7dPd3o6Oiwpl+/fh0evP8+PP7Yo+ju7cZ73vM+fPiIIzBj5uwwiUrc3dmFzs4ODIUHUABYuuwtPPTg/RgYGNBZgssTwOFj0sQmHHPsf6G2thYAMDg4iPaOdnT39DgZtA3k91pmHZlJ7fUU15cQxsmc7eDYydoOLJJJDAPoiqS2JtttmTgZWCyDvnCAMweDJTwzK+2b8ewMK1cuw9lnn4n99tkP3/zO6YkMhUIB3/j6KWhv34xzz7sQCxbsWjxDlnawZcIiKQ0GsogEkVO7wYa4ZnMy0Gh54K7/ueb3uP/+e3DmWedi9933iJafmsGSPoHBuZ+LoUj3FcUQKSM9Q6y/jZ1SM4xF96VlAF2RcsxlZsjiPsJAkzP1fym80dvTi5tvvgkrVyzHl79yMqZMmSoZREqfc3T39GBLR4eVob+/HytXrMCWLR0Qc6bKykp0dGyJMPT29mDLlnb09fVmZuju7sYN1/0ZGzZuxBe/9GU0Nzer7eE+nPvo7u4Kyg4Z1q9fhxNP/JT8siS48S+H3JGLAjlO/dq38JGPfBT9/f1o79gSxOk8jia3g+mNdevX45FHHsK8+QsABPXR1aHPYcQyODiIe++5A//4xz+wZvVq7Lb7HjjwwPdj3/3eHfQupqftaO/AwMCAXLdlyxbcfPNN6O3tVldSQt0ECgDGjRuHD37oEEybPhMMwTGsq7ML/f198As8xBgB9xXh71j35WUYBe4ru7+ZnnQ43ef0t2NDKdznPAgkzpnS+JsP37yvSIZMH8blhdcWME8GyWU5DPTe54DPK4JLVrnR7Cz41Nrd3YN//eufuPQXP0dnVydqqmtw+513o7qqCjxSKAc8hvDZZWFMoeQZtA++9C/nFZDX/mv1rKKlDCphOgb7AOHagQakJMGgSoAslf4N3oh99Xa49767cdmlv0DwET+MP9w+aeJEfPs7Z2LRnntpucv9aclh/m++8QYuueRivPHqq2ie3AKPefjTH6/Bjdf9CRdf8lPsu+9+qKiokLsFv5vXL7JYvXoVbrzxLxjoH8TEiY3Q2g0MnDPMmDkDH/3o0aitqSWgHjxCTe/STxdRB5FuHitkMwmzrYyUEWymZRjtkBSCYIg8JiT6mL7oYj+6RRgcmaRmcBop3NPBYERhj8H3VKIYBtvnUgDo7evHsmVvYtq0aVYGc8ytXLECzz7zFBjz8Mbrr4cfxrMx9PX1Yc2a1WhoaMDUqduBeZ7VfWkZktqBJIxtB5koTzvQce8Dra3rseytN9Hd2aWny8DQ2dmJtrb18JiH7efsmKov5WKQTWw/BjnHnMMblCF4k9wOUW8kM8T62ygnK0M53YeEeiotg2tJ6T4HQyb3OfLQGPKOuRQMA0MDeOKJx/Hc08/g+E99Sn4Y1xlEsFxjKAwNwS/42Hnnebj69/9rjWNgcAAeAyqrqvMxiEQ8+Hb70UcexMrVq3H8CSegubklSJfgjYqKSkydPEXbtnbtGnR19WDOnDmorlax1Ycn6FUfEZnHt8OSJS/hxz+6GJs3t4frxFcmwfzulK9+HYcf/pGgPeWcLIjR12arwbJh4wb8+tKf4+6770RLSwtqa2tx7z134u677sAXv3QSjvv4J1BdTX4CwAH6VB0A6O7qxM03XY/29nY0NTejwmMAY+EH86DElsmTsfc++2H69JlazUGOn6zuiy7DfQyKdV+R/o66L4+/LQWHK4fPfVvv3DWt+5zezeLvmP5atL9ForLM+5hImPWbcfsbEae5SX7gDEXqcfrtMNP2WL16DW684S944MH70dPdS5IIXfmRfYINnK4xV1kYeKRiVbRqJSPr0zLQvOzPZ4x+5A6+gedSuLGL8TsDUWxvby9a29Zj3/3ejdmztte21dXWYfyECXSVxA9+127GA1x++aV4683X8fHjP4kPfegQVFZW4rHHHsE1f/gdrrz8Uky7+BJsv/0OBp8lfg7sudfeOOmkUyQ9La+6phr1DfW0P4KBwzfa1NbNzbidS9xIsy62PmC8c7RDfAhJDDGL9egWt2RlcItK3zNzZQZ70UtyUjcVZeBqGFoYzAxmzZ6NT3/mc+jt7cOee+0pc8rCsHTpW/jWN76KA97zXpx19rmor68vkiHdHunCcyfiXP/GhYZh9ldZpcbYTccQvHvqySfw60t/jpraOlx3481B2UUyWBfBQCVS9JjTO4/mp7IwlMMbSd9OZArQsdM29+V2H901hTd8mE+jiS4cTGO4+67b8OqrryF65oJrjpw5YxZO+NSnRSZJIdljkMfqIH/uUjt5tIxY39LSgt9f80ftqT6nfevreP65Z3DRxT/EDjvsKHevqPBUmJqe4t03MDCAtg1tqKqswvv+88CQn8sqmTx5SmS+oeVOsh8aGsLfb70FD95/L/bb99347IlfRHNzM5YvW4qrrroC1/zh95g/fyH22ntvS/2YwQUfuM8++3w0Nk7QRhoHUFVVhRkzZpi7hBFaemDRx6CYXpbafbGfgvSlTO5zZjZm3Je6IVMso2vumtZ9+jIK/W19E5POuT7KQDdl+jCuLanGIZMuBAd8Um8eZ/DDSfqLixfjkh/9AOtb16NQKGDKlKlobV1vXFYf7ki+9hY6AADui4LUFiq7SOzh7Ktu/gAAIABJREFU3+DmaWIv20fiKIMX7kMZ9HjMijEqizAE37cFwuVJ/Yq2pXjL1QHlIx89CgcddHBkt6qqKhmXDxgnE/QCF7/wHJ55+km8/+AP4cTPfxETwg/yO+wwBz09Pbj+uj/hheef1T6Me+SAIRnCD04TJ07CggULrX2FMtDtrhsZaAcwWldp+iIHImdPrYtqB2cZjnawwjgYzJvqp1pSHvuCyVoWBvOBe+kZMsWfnLU1JvMhCrHtgKC/n3zK1zA0VEBNTU1scS6GwuAgOju3oLenG5HfzeVkUO1gHg1d2aYriOZtfdapLQue7vDkZgjyHRwcQGdXJwpDg0D4JIpiGawLafOUQ80aQZw33DopgiG1NxLyhpsh3RjcGtyXzJDbfTkYonOFNAzubWLS6BPfRNpaHO9JPi8vWYIH778/3Bvo6+9Ff38/GIDxEybKgvff/z1qJwZwHswHsjLIE+8cUTeKZCyc0xgMFV6ljN33fbz04gsYHBrEmrVrsdNO8/SCQh4woLV1HZYtWwYAmDx5MsaPHx+pn8B9wf8LFyzEN775nUhclZWV9oazTBa7urtwz913o7llMi686Edoam4CAOw4Zy6qqqpx3jln4qabrpMfxrklO7WCo6amGvN2mYempma9rhxj2LPEmd0b8f525h+zRi1qfd65ayn9nS4Hd4DF+TudN4Btc9f4ZFvD3BUQV2lnaYfcH8b1SzA4geQAC+8szrn2gVp8iAWgfYh96umnsW7dO5gyZSpOOvkUtLa24je/uTxIwzxZBsDVU9QMQA/ku9mwbHEwEP1Y5CIqQ0XAAMbh8/DjuI0h3NnFwFVOpAwGcD/Ii4tUFoZwXbRzBAULBjqHl/gyHobq6mpU19RAfpNoZMhY+Cy7MB/G6EMVguWOO25DVWUVDjjgvfKDOABUVVfjmGP/C9df/xc8/dST+NhRx8qeFtS0L5FlgOR1EoPsSwwoiFo0GCiNcSNOUlv2RbuTIU1tGZXq4E7SMlVIIgO0ltPztsUfjSqGwbaBR+spDwOKZdD7q2wX4gCTQR0HLAxmOYxjqDCEjZs2YvXKleju7sZOO++MSZMmob6+Qcv17XfeAfd9TN1uO9TW1MgcBwcGsGnzJrzzzjvYsKENs2fNQsvkKWhsnIiKigr09/ejtXU9Vq1ZDcYZurq7sHz5MjQ0jEPL5MkYN25c+MsYjp6eHrS1rceqVasxONCHlubJmLX99pgwoRGVlZWSYWhoCKvCpwQ0NTWhu6sbK1etREdHB97znvdi/fp1KAwNYdr0GfL+CaJmCoUC1re2orenG1MmT8b4CY1mpce2A/c5Ojs7sGb1KqxZuwZNkyZh9vY7oKm5RdU+09thqFBAe/tmtLa2YvWqVZg2fRqmTt0OkyY1hZeScvicY8XyZVi3bh0KhQIGCwUsX7YUYAyzZs1W6XyO9vZN2LBxA1atXIGJjRMxY8ZMTJw0CXV19akYGAcGhwbR3r4Zq1auwub2TZi63XaYMmUqGidMQG1tndaX/EIB7VvasXHTRqxZtRqNEydi+ozpmNg4CbW1teDg2LxpEzZv3oxx48ZhSng3aToeNm/ehE2bN2P8+PFoaW6B5xkHnBhvaAws2d/WMZfDfWY6vSaLc18uhpK7z7K1VO7LyOAx86oywuAAifN3d08Pent7AfjY0LYBO83d2cIA+as8WsRZZ52Ls846V6b7/e+uxtW/vRIHHvxBXHLJTwAwDAwMYNPGDXjnnbcBBL9j9phvxGP3t8nQ1dWF/oEBcPjYuHkTtt9hjrUdgvyZtR0453j4kQfR2xfcZPOm6/+CA/Y/ILhHkNYOwfzi/nvvxgP33Qt4wHnnXYTDDj/CqB/KwOFVV6KmusbOoEUZvPc4tCftAMDK5cuxauUyfPbEL8gP4oJhwa4Lsdvue+DBB+9Hb28v6urq1J5MzIhpRHA+l9nOENz7yNwnvr8i3XHU2ECpo9WVzRtm2pF2X9EMw+jv9O7bNneNMKBYhnTus7SCgyFwaxaG3B/GGflXHOy5uERRO20cHj1AVhn5VFdX4z8POgjHf+IEzJs/HzfecEN4BpgFX0XLj5tM/USck2/auTpIqYJUhPTbb7lwWrEcoJdseyzKkHC3ddmJaAIhd/JpRNZT+CHf5yRke64yb1tnZqCtoC5oKnAfb69eJbcwBAdgrRxu/h4teExZU3Mztt9+e5jLhMYJWLBgAdavWx/uJA6s4XfzJgQH3l67Fg8+cJ9RSrDr/vu/B5s2bQwmIYxh9aqVGOwfUIOIRbKLEW7ctuj5M8uIT5dzTDtofJaI5EEjBiQbQ7gl8m1kQs5lY9D7q1xLhGQeVORTFWIYRJlDg0O45eabcO3//gEbN7SBg6GmtgYHHXQwvva1b2HyFPF7RIZTT/oiCn4B/++nv8S7dtsdALB+/Xr89cbrcNvtf8fmzZulG2bP3gGfOP6TOOroY7Fs2VKcf97ZWL16JRgDnn/uWXzpC59BfcM4nH7md3HYYR8GAKxcuQLX/OFq3Hv3HeDyTg3AjnN2xGdP/AI++MFDUVVVFZa7Dp884TjsuONc7L//e3D/fXejta0NzU1NuPbPN+JHP7wIzz/3LL534Q9weDjJDLwBvPPO2zj/3LPx6pIl+H+/+BX+4z/eJ+skafLBALz55hv45S9/ihcXPy9vTjRj+gx85Mij0dffDzGzF3l1dnXh5r/egFv/djPWrXsnbCGOiRMn4ZBDD8dnP/cFtLS0oLurE588/rhQeQx9/b349Cc/Dg7g93/4Ixa+azf09PbinrvuxI03XocVy5ZCPNqxob4B//mfB+HLXzlVe1yRi2GoMITbbvs//Onaa/D222vl+omTmvCBDx6CEz75aUyfMQMMDL29vXjggfvw52v/B8tXLJO9bPy4Bhx++Efx2RO/gObmZtx5x+246jeXYaed5+Gq3/5B+90n5xw/vuSHePThB3D8Jz+DU075Gjz5e1bdG/Fn2NP52zrmRpn7cjFoUYTbSuy+kfK3/aN41H107zh/b9nSjo6OTgCBW/bf/wAnA3MwAEBnZxceevB+ABzPPv0kli1dih3n7oTXXn0Fp57yRQwOFQAZib1fuBmC1Zs2bkRPTzf8oQLeXrMGe+25d8TfcjbCzb2DU/fLlr6FX/3i55jQ2IhpU6fhhReew5VXXobPf/5LaGycqDo8Axj3sGDhrnj3u98Dxjh23nmXFONBm+Bhw4YN6O3tlicyNmxoA+cFFRUDfHVJHwBg7dq14ADmL1gYYZjQOAGzZ8/GM888jXXr1mHOnDkqBZl/ileMM3T39uCxxx7F+HHjyEwtEMgu8+ajsqoKnR0dADg2bd6EwcF+Z/fW24/0LRbts0kjJM0I0lKOGffFpB5GhtK7L7u/LWEZKUbG36N97kr3Tjt3FZ9W9Yd6CbcwJ0P+y9QtxUDcgVxc1625jUH73Xe4jYPjsMMORU3NkYGEwaTIzYrRP/AxMEbys0hfyV+d9XDGbr6zMoQFiU/3ghU8vKxC3V9dnKAwP6HKetIY0oyrNFpVqXp7enD2macD4MEdS7mHjRvbEvLgWL1qBaZMmYZx48dHSqzwKtDYOAmvvbpE342FraVBBHu//PJiLP3hWyFz8HtWHt7d8PIrrsZ11/0Jryx5CQxAd08POrs6oLUfCSL9YcY8Q2ams+2brn6ztYPOIPdKdfRIz8As6+Ljja5zpyoNQzglcaaMZwhSvPLKErzy6hIcsP97sdtuu6Gzsws33vgX3H/fvaiqrMY5518QiU/ct6JQ8HHDdX/BDdf/CU3NTTjttP9Gc3MzXly8GHfddTsuv+yX2GmneZg9eza+9OWT8crLL+HGG/6MHXeci49+9Bg0jGvArru+CwDQ3dWFq668DI8+9gi2mzYd7z/4EDQ2TsArS17Gow8/jMt/9UtMmjgJ+x/wXhIMx9q31+KWW/6KOTvOwQc+dDimTJmMurp6HHHEkXj+uefwwP334bDDj9AYli9fhqVLl6J5cgv22WcfUhvJ/bCjowM/+fHFePnllzBnzly89z/eh4Zx4/DUE0/gd1dfiUb5Lbu6sulvf7sJv//tbzGhcQKOOeY47DJ/Idavfwe33/Z33HjDnwEGnHbaGaitr8PpZ3wXL7+0GA88cC+qqqpxyqnfAGMM08LfPv7jsUdx2a9/Cd/38cFDDseiRYvQ19eHu++6E3ffdSfa2trw6yuuch6oxXL/A/fit7+5DN3dPTj44A9hwa4LsWb1ajzwwL34+603o6+vF9867b/RMG48Xlz8PK76zWXYvGEzPnH8J7H77ouwdu1a3HnnbbjllpvQ0FCPk0/9OvZYtAhNzc1YvWo1li59K/gpTVgLra3r8cILz2LChInYY9GeqKqmN73S652lunwwup8rTbob6xTjvryxpU+XzhvD4e/8ni+t+2w76f5eu3oN2trWAwx44blncczRx4b9LupQ2/1ZOILLvq/5/W+xfPlS7DxvF6xbtx4XfO8cfPfcCzBr1vY4//yL4fMCwBieefop3H7b/6UB0cvhHMuXL0N7+2YMDg3ixZdexGGHfxiVlVVhqGGL8TAobS4WvF+xbBl++YuforX1HRx19LE44iNH4fzzvoubb7oRQ4ND+PKXT0bjxImk6nzsuec+OOkrpxBa18LI/6rcG274C/75+GNy/66uTvi+eh67mNbRdmpdvx51dXUYP258hKG6qhr19Q1gjGPdO2vlh3Ft7ipLC+aSmzZswq9++TNUMA8+86Ge+cNw8slfRWvrOjzy8MMAOAaHhrBp4yY0NTWl+syl9baSeCOxlDHgvuRYysMwGtwXn3dyquFznzu2kZy7mkvC3JW6jwYR8Tddp7d1xg/jJGOtBsivrWVQNBiRmFQM58E3qszDlCnbBWkYEHxD7QMIbw4iPqxSvmArGbzhbxU5Cz70yfI54DFwP7xUKrzsXDEwcKYeRSYPc06G8NfMPmUAwBj9fK3ELn9cET5OTW3WGNQ72rB6nYsPsLZ2oIcmkcTzPMyYRe/MCfT2daG9vV1bx+DL7DgPLosN4jXP/fMwXwbPM37VLS9LoAzBuoXv2h1f//o3IX8TD0AcqVsmT8YOO+wgy29rW48tW9p1vsgYEO3OoFWYdg2JqlNG6ilyB0MtV/LbKkeKpHagjaepJjJkSN+1MARna0vFoE8Lgjv3RxkiseRiUK9NBtlLc7YD40BnZwdOPPGL+MopXwviY8BO83bGOd89A7fffivOPvc8VHgVZG9BwbBhQxteefUlFPwCvvXtM/GBD3wQAMeB7/8AJjU147o/X4v77r0L3zn9LBx6yOHYbto0XH/99ZgxczaOPOpoNDTUy2j+euP1eOihB9DSMhn/c+31aGxUl45fcfmv8Mdrr8FZZ56Oe+57CDU16hvVgb5+HHLo4Tj/gotQ4VUiVAf2WLQXpk+fjscfexhbtrRjYmMwEeXcx0svLkZ/fy9O/PwX5eXYej252+HKKy7DSy8twZw5c/GTn/4Cs2bNAsDw2c+ciK+f+hU898KzMjYGoKe7G488/Ajqx9fjC1/+Co4++thwrHPMmr09Lr7ofLz68hK0t2/GpEkTceyx/4X6+nF49NFHUVtXjWOO+zg8FrhhoH8Azz77LHxewJFHHYtvfOM0+QSGhQt3w/fO/y5eevklrHvnHUybNs3OAGDNmjX43rnnoqKC4dSvfh2f/sznZILjj/8UPvOZ/8JDD96P40/4NObMqceLLy5Ga2srDjnkMJz27TNkPnssWoQLvnce7rrrTpx08lcxf/6umNLSgtfaXsdTTz2F+fMXyv763HPPorenB7Nnb4/dd19k9kRHfzUmkyRFdm9YiyJlpHGfeQiJm56OhPuGw9+G+0rKEG5I5b54hoGBATz+j0fQ29eHCq8Cr7/xGl57/TXsttvuFgaAc89YxzDQ14cbrv8Lbr75RkzdbiouvOiHuP66P+P2227FueeciXPPuxAHf/BDqAh/PtPX24vbbv+/BIZoPXV1duGJJ/6JwYEBeF4FXn5xMVasWIGddto5zEp9icIZD78dCsoYKgzhlZdfxMUXX4TVa1Zj0aJ9cNq3z0RVVSV+eell+NIXPodb/noDHn7wAZx1zrn4j/84UK8/GY3bfQxcXm5O27q5qQkzZ8+Sh6LWtnVYv349bd5wusZJOX44RxOVAtVHOMDhgXMPnqeeLCPigppIQsyNmye34Dv/fRaampoifWm7qdPxr38+jl0XBid8B/r60d7eDs4948lAkc6INN6QfS6LNyIFjaz7cjFE3OdiKJ/7aF7/bnPXJPfFMxjuG9a5a1w9mbFBd59MLDdo9aQYmBZvxg/jzPpSHZxU/qIYulJMPgHADwNi8AHxban2iTbkCL/rN++lDgS/8xGy93hYAq2s8MO35wUf/IOAKIPeEj5j2u/DkxhEpXIbg9oRnHuklChDsIE52jnsVi6hGJUiUtXX1+PHP/m5tu2Kyy7FH6+9RlvnM09VNwN23nkB2trWBc8y1bpv8OzLDRtaMc24tJRODXQGjpkzZmK33RcZ0anlcyd+Qa57+uknceH3zjEu7zAXWz0xLVt9MHOy3Z0xrV57qrh2oKNX1ZeZDz1UuBhE/7IKSWOIlsAcr8Ui+qv+rWqUgQyBjAzQGKzRGAzmQdz1mjOOhoZx+NJJp4DepGzOnLmYO3dnvPbqK1i9aqW8I6+8SAdcvufhebdlb72BPfbYA83NLaiuqsIXvvglfOGLX9IZOIfH6O2NwrrhHLff/nd4jOHkU78euTPuUUcdi6efehKvvroE//rXP8IbKgackyZNwpEfOxpeRaXG19TchEWL9sLbb6/F3XfdgeOP/xQAYGiogMcfewQN48bhkEMPoxVK+qu9HQp+Ac8//yzqaivxsaOPwYwZM2WCispK/PAnP8Nxx3wUXV2dspbqGxrw+z/YHo3EMG/eLmCeh86uDmzauAETJ00K+hLjAMKTjeSgU11TjbPOPgdnnv1dkFO1AIBp06ajsbER7Zs2YfXqVZg2bbrzGPfwQw/CYwUsWrQvDjnkcC3BnLk74sLv/wgrV6wAY8GNr/xCcMeJDW0bsHz5MsycOQtVVVXYY4898bdbb5chep6HI448Gi+//H0seWkxuro6MG78BAwODODpJ5/EwMAA9t//vZg0aRLoKdNIzdjawag7II2/3d6gieW4THQfeTeW3Ic07svOIB/FU1IGrifK6b7X33gNjz7yMObPm49DD/swLr3057j37jsxb94u4T1gZJQBCfFSX18/nn/+Odx37924//57MGPGTJx+xnex445zcdp3Tkdj40Tcecff8d/f/gYOev8HcMbpZ6G6thYAC+ce2RheXvISnn7qCSxcuBve977/xJVXXob777sHc3aciwqPPJSUBze4FV9wMAbcc/eduOii8zGpcSKOPfY4nHzK11AZ/pRn1qzZuPp31+Daa/8Hzz//DHp7egmzcYyIcV/wLXR4HxvS1sef8Gkcf8KnZR7333cPLjj/HFIGyAQ5WGZMn4n+3j50hD/vo/O+/oE+dHa2A/CN+VDYSiQvwVBXW4fdd1+EpqYmawc76uhjcdTRxwIANm7cgJO+/HkMDvRHHGG+tB1H9YX0acJA29jqjch6I9eSui87Q1r3pWMon/toXi73RRmICceSvzO6z5LS7W9mbosylH/uqiKKYxBl2Maci6Ekl6lrS/SzqHXRKiZyR051ZsPj9LBskYQApVlwQH6zzRDeaT0+DvlMvAwMYj+RWJtyipaAOGkgVli6CaOrwu1mMucdEILaIrhwdUkbj3mDkF3m74LXX1+CZUvfwm677a5uCMEZ1q9fh+XLl+OgA9+v7RPNVx1CtW1WBqZvF+yEIVbSjuq0549oPTsXx3Z5a33HMKT+zMFgOWQ50rqU42ZQl+3EMzDz0RFpDjSJBwQ7Q2Ja2ZcQ/K6uskLbVlNTg4bw5m2d5HnZHlh4I8CgnpqamrDHokV46eXFuO7Pf8TzLzyLOXPmYvfdF2GvvfZBy+TJQTQRBr13d/d0Y82aVZjYOAmzZ82OMExonICZM2fh1VeX4M0338BBBx0sR0FLcwsmNTVBPxnCUV9Xjz0W7YmHHnoAd95xG4499uOoqqrGG6+/hmXLluGg9x+MlpaWaPW5qosBGze0obNzC+rrx2HHOXMiV7M0NjZiwfxd8cwzT0YYNm3ahJde/P/snXecHVX5/z9n7pZ7t2ZLdlM2hYR0SkgjoddQQuhNUZEm2PiJAtIVha8iKqig+EUFv4CiqJTQAwk11AApQApgsklI3SSbbN+9c35/zMyZ06bee7eEPS/I3jtzzvM871M+c2buzJkl+PTT1Whs3Indu3ejcccOpNNpUNNEOm1yfYnvHU5yrbU0NWPZ8mVYtWoldjRsRePuJuze1YiNGzcCAHuOXccAAJ+sXglQA4MGDUJFZaWS9eijjxW+77e/dfv5kg8W48YbrsFee43CpEn7YsrUaRg9ajSMvDzm44gjjsJv7/w1PvvsU3y+YQPGjS+zNG7Np6AATpgz16IRdCvkmIug33yx4CmFWoZPXwzti84QVvuyxRAclmVvw+cb8LNbf4Kuri6cfubZOHb28XhxwfN45tmnMGrUaJx6xlmaKN2+ke7qwj2/vwvr16/FSXNOximnnYFxY8cDsF5reumll2HKlKl4/rlnMLCmBgn75DcOw7p19bjzjtsBCpx33tcwecpULFjwAv7z70cwfMReOPHEOUJ+d2EoKx04cxbOOOMszJx1MKZMmYaSkmIh//ARI3HF96/C2rX/xfhxE924uJedBmofnNZC8Jizdzot7M47rFQ3fBgogKVLP8BRx8zmSlE0Nu7EmjVrUJhfgNraWsGmvos6DDSYgT82Ut38WOWIpBvgxgP7Lu5ln7pN+yIyRNC+WAzKZh1D9nRDY1Fr3zdGP8NAL9O+mPqt2detc1fOZ1Be9azWnyH+aupwhwzg/KJsCYf1CzWxf86mYhh2IWe3ZYBY/xN7VXGY1kqSoNbd3QQwTOuEli1+Zhexf5Rmr+hwfvmjTotQbhwRWOIG6/Yp59czk9hXcSmFyYrZQXInhnoGfsV4l8F6zY9h/TUse4bNSp164hgckWaNLA0aLz2zwrPriQmhmJM69QVIrzKhiuydfvrZeOSRh7Fo0es4dvZsFBeXMrSHH34I7S2tmHGguLgMO/DB7Q9cdKEYHGYCAkNa1ZSwTFI7wGObxrpTLW4+jQraPqjdH3XDWL+qLydYwljTHeyCGVSWMAz8gdCLgbDhFp1BvZEoPINEzzPoDjISg5NSRSmXwaYjxACxbxPkJy3UulWGLaZTUFCAiy+5FKmiIvz9gf/De4sXY8l77+Gxx/6D4uJinPul83DhhZcI9sUHZKy0e/duUAAVFQNQVFwshA0AyWQSA8rLQSjBzh0NXM1RGAkDCcPQMABTpk5HVXU1Nm/cgFWrV2PSxEl47LH/AASYOX0mt8CYsz6DWF0sUrsdtmzbiq7OTiRTRcqrdJyQhwwZApOIDbJsyRJcddX/Q3NzM8wuEybSAOXuTCJgV9gp4L7NgbvDxjH2308/xVVXfQ+bt2wG7UojTa3HjxxNTuYXiE8DSQwAsHXrVsAgKB9QyRbEE72IfenAmQfhxpt+grvvugOffrIKn61ejQUvPo+8RB4mT52Om2++FQMGDAAIMGBABU6cewr+9c+/49PPPsG48ROwdu1afLJ6NaZPm+YuyhRKN7hjocQAhNE+fgPRZPpiaF88Bu5Y7aN92WZwd8bT76amJtz2s59izaefYNYhh+KIo45GKpnCdy//Pm684Vr88le3IZkqwvEnnCjcDcQfY4tLSnD9DTch3dWJMeMnIs9+FIQCaGtpQUNDA4qKijD3lFMxcGAN0ukuJBIG8vPzUVRS5mpYAMPuXY248cZrsWbNf3HiCXMwY9YsFKeKcell38Ett/wIP7/lR0gWFuDIo4+xJ8TU1g23tqurB+IHV14DI5FgF/Xsg5Gt3RTJVArjx00AJRRpM40zTjsTc0+aiwJ7lXX+gqlbF65u8H3Da8w5r46jzhilACFEfKUqBYYNG4YJEyfhiScex8WXXIbSUuftMtb6JcuWLsGck05GYaG7+CMBdVdBt9vamfexHzacf3z0G/abbijrz2LSaV9o3WCR+o85J6gvhvZJDFrtU32E0o0vkH6H1T5Fv1lHC5i7Ig5DJnNXtYw45jQMkMY0S/4M8U7GKQRhYedO3DPU4kjjroSY1IqZ8mPWJbAk2bBvO7d3mdYt5FZbiXktWwQGcZ/3dlY3djYwcBMghh2jCf74DQrqTix5BoeSEvc2D4HBUV4pLi4fKOyTb5eB8nltBrnh+AqX9zpxEys0gAKvvvISNm78HM3NzWhpasbOnTusxVZ27MBfH3wYhEoHHBDhwAHAWlzqqGOwcOGL+P1dd2HOnLlI5CXwwovz8eTjj2L/A6Zi3/0nc0HY/u2DL983KQw0NGzDB++/h66uLpjURGdHB1pbWrCzcSe2bNmKdfVrceFFl2DM2HF2MdOtJ74enL7E9T1+wBFO8PjY5DKEvY5NM6Ds/N7t4Hyj0ifNVTJP4QlmILEYxHryYiAa8NwzuGNDZtCKp8Rg32DqRiLpBrF/dWDDFbA6JTXZmCYACgoKccEFF+Occ76MpUs+wAfvv4933n4Ta+vX4N4//AGgBBdedAmrFbd23FRWUgoCYMfOnWhpbharl1q3je7c1QhKKCoqqrmShONQ26Gurg4TJkzCSwtexLtvvYm6oXV4/rlnMWLYcIzfZx+usglvUmwHbv/A6hrk5eWho70d27dvF/u5PU4/37TRfpLH2rB27RrceP0P0dTUhOkzZuKII47C0Lo6lBSXoqFhK3549ZVwnnlyGNzxbq094Rzwtzc04M47f4n169dh0sRJmH3CHIwYsRfKysrQ2tKC22//GT7fsN7tN0Itu9+6Hoh0AAAgAElEQVRqagaCUhM7dzags6MT+QX5gvYJuQlAiIFZMw/GzJkHYdXKFXj//ffw6qsvY/3aerz9xuv4wfcvxx//+Bfk5VuHvrlzTsa8x/6NNxa9jhNPnIsl7y9GV7oLZ519njAilDGnCTdYv6Uxp7Qd9GPuC6R98RjCaV9WGZyvMfV7bf1a/P7u3+Ldd97GxEn74tvf+R7K7JO9ffbZHxdfdCnuued3+MVtt2LLls0490vn2XbUifaYceNZXXz++Qa8+MJ8LHhxPlatWgEjkYfCggKAAh2d7ejqSmPc+Ak4/rgT8df/exBD64YFMnzyyWr87rd3YNVHH2P6tBm48KJLUZwqAggwY+YsfPWrF+C+P/0v/ufWn6BhewNOO+1MO07l3jgkEglsb2jAj398Pd5+6w3WXiZrB3V5OgrgK185H9+9/Aplh9yXnG60ds0aPPy3B9DW1obmpmbs2t2IdfXr8Nmnn+DKq68FsR9JdB5tpID9SKTbl4qKSnDc7BPxhz/8Fpdc9HV8/wdXo6KiAvXr1uLnt96C8vIynH7GmUKcFPbt/1xbm8Ta3t7WjuXLlqGkpATpdBpdXZ1oa2vHrl2N2LZtC9avW4999t0PZ5x5NpwfjaxQqKrfGu1zh1CQbjixOZ9lVSNSvmxoH78lQPtCMcjHUZkvqvb5MWSoG18g/d7z5q7eDNDYcBmUiAIZ4p2MawaRdjucwNiTm0q96AvyC6nBrSznHyp8gHKvNeHEi38AmUBcaI3ZcG2xzTID8WJwDVJCrZNzHVYgg+xT9K/dYm8uLEiioqISbyx6He++/RZSRUUoKipGUVExhg8fgckHTLF+VSLcgY477vDmKSguvPhSNLe04LFHH8GCBS+gID8fWxu2YtToMbjo4m9g8KDBUjnq4gj2Kd5+6w0sXfI+Oto7YFKTEaeSRaiqrkJNbS3a2zvAB0bgUx3a/gO14TzzScPTw5H2wCMYdIaQRyHdwSYwNmlDLhhYfIQpgyeDt+loDFSXT7Ls0/+tSQ437ngGXTtw5Zzspmmio6MDhmGgqKgIM2cdhJmzDsLZ55yL++77Ex799z8xb96j+Nr5FyAvL4856ezotE5W7VRUXIy6uuH4/PP1qK9fi/2cC1O2o8bGnVi/bh0AYPTeY4RohDEitQMhBCeffCrmP/8MPvxwOcrKy9He0YqRo0ZjxIiR4dqBS1XVVSgvr8CG9evw2aefYvqMGTBIgpXZuX0nVq1cIZRZtWolmpubUFFRiSu+fxWGD3dfb/jaa1tAqaltd0Ithe/q6rLfLw5s2bIZG9avBwBcefV1mDDRfT3QihUfoauzy64V/zR27AQ888xT2Pj5RjRs34ZBgwYLXWzR669h/fp1OOigQzC0rg6dnZ0wqYnCgkKMGz8B48ZPwOlnnoWXFizAnXfejg+XL8X69fUYuZe1tkDd8GHYd9/98fabb6KxsREvv7QQI4aPtNrVb8yx5K8UQkXxEwu9sYx1w3pWNsQxyMs/wmifpnhf0D62sxu1T/uZ4LXXXsErLy3E4UcehcsvvwJDhrqLrSYSBk6YMwclZSW47y9/Qmtri61BnAZqGD7776e445e/wHvvv4uJE/fB+V+/GEOGDLHuKKIEra0t2Ljxc7z99lv4zW9+hZdfXoAfXHUNRo/e25dh4cIX8dZbi3DccSfim9/6LgYNHsx25yUSOOPMs1FVWYUHHrgfrS2t7OKe3RuV6ksVFWHuyadh+rQD9b84UmfaRrB0yftY9NorSJtpxY6ufvPz81BeUYFt2xrw0IP/h1QyiaLiYqSKijFgwAAcM3s2agcNwpbNm+SpoRJIIpHAsccdh02bN+Lhvz+IH159BSoqKrFp00aUlZfjssu+i71Hj4V4DOLmrgCs26+tE/+tW7fgphuuQdqk6Ops545PBNU1NaitqcXY8ePdSmAWiXdfkjfr9vn2V+uDcjNy1rUvRJyObsRiiKt9IsMer31sQtY/d9V/Ds/g7cjWaj/fGobYv4wzEaXcbdriea0QGoE7dyawT4rZL2YG+BNqAgPWSud2fibOrm0C6v4iDzAxoYD7qzcFQExrATUquaGwTp4dW3zgfJweDO5GO6NpuG1JrSp2D0oaBgKw1dgZlwAkCIbzTLv8+AslwBFHHompU63XHhFCYCQMGIa1ymdeXh7y8vJQUFDgXttw7FOnPpx2ICCEYNSo0bj55lvx8ccf44P3F6O9owP77b8/9t93P1RUVYuC55STGPbdd3/ccMPN6OhoR35ePpJFSRQmU0gVJpEqLkJhfiHy8vOQn5+PVFEx3OON/hV0HLI6AJ0KtmMBUapP6K9apZEKKFfH7LZmawvIjwLImzwONm5surYWz1qzxiDs5w+7AQy6FJKB/y3Q7V9RGexkty27AUVicF5fprum6mz5cPky/OIX/4OmXbvwqzvuwqjRo0EBVFRWYPDgIaAAyorL7BW/KZLJQgAEa/77X3R0dHA2CU46+VTc8/vf4s/33oODDz4MFZUVbP9jj/4bn6xaidLSMhxoP84haLwHAwAcMGUqRowYhVWrVmLN2jUgIDjskMOQSrmrqMv15NUOeYkEJk+ZjM8++xTznngMBx92mP2Mu3WB4cYbr0Fj404QIQpLcw3DQIpbuX37ju147N//Qtrsct5QyBjy8vJAjAS6Ojuxbn09Ro9yJvaEtW9JSQmz1d7ejvnPPYtNGzfAMPK4qQHFtm3bMG/e49h71BgcevjhAIDDjzwCd/7ml/hw+XI888xTuOCCixnnqtUrcdON1yI/Lw/Tps1Ac1MTbr/9Z/jgg/dw/vkXs1+tCvILMHLUKKQKkwABiktKmY1UMokZM2fh3Xfewe9++2vUr6/Hl7/8VRQXF0sTFK/+KglygG7IJx9Kd/cZf2G0j8i/YOVA+7QMQdonuJLqSWLIuX5rgoyqffwFOj/t82I49tjjUVJSioMPPtRdD4IrkJ+fjyOPPAaTJ09BYWESyWQSTbs7AfC/HIsBv/rKy3j/g/dw0MGH4rprb0RZ+QAkhDU2gHRXF8448xzcesvNeOvN1/HGG69j1OjRcJ+rVRlOOHEOBg8ZgkMPOQxlzivHuHYoKCjAsccdj2nTZyCVKmKPk1BAuhPP2phKJXH0McfqV+WV0r+TSSx6/VVw0L7aN27cBNx11z0wzTRADPvtLwkkDAMJey6Ul5+PLZs3w6BiP6H8HY52qqyqxmXf/DaOOe54vL94MbZs2ogxY8Zhv8mTMbSuDvkJ8dEZYe5q19PAmhpce92NaGtvRyJhIJlMIlmYQqoohcJkEslkIfLzC5Cfl4/CwiRnjPKHzmjjQa0uzUa3InW6EVb7vOcC1pee1L6o+r3Ha59G6EIxhJz3OduzxiDs7/65a1wGqu4NZIj9yzgzQ9wOBEAjsNT9l/Ll7MkfrAAJy0Os141x2yirKMI6l7ziNncjPLdYGgCasPYQgAgPPrrXbFmEzmij/HY9A+UZKMdgWjuoIZUOYCCEZWL1I9KxsLkBZn1MJlPca4+EHifVkcwl7WF/CMoHDMDMWbMwc9Ys3qqYHFcsONdIVVUVDjv8CMWTrjz/FaBgr5vzYVA3SAx8WcJVmXIhwc7ndVQg/F/puRSuPBG/+gavDESZwfmmYbA+R2QQNnUPAwubdX4Sg4Hbx7RCx0BAqGFPptwi3KjFoMGDUV1VjU9Wr8LVV12BM886G3XDhmPVyhX4x8N/Q35+Ps4850usf9QNG4lUKonNmzfih1ddgaOOPhYHHXwoRowYgbPOPBsff7gMr732Cr5y3tmYfdxxqKiswpLF7+H1N15FWVkZfnLLbSgqSrkR8IPOox3yEnk446yz8Otf3gYAKCoqxqxDDkPcdvjWt76H5cuWYfXKlfj+5d/GEUcdjeLiErz+2itYseIjlJSWomn3blZbY8aORXXVQNSvW4trr70Ks2cfD0pNvLTwRaxevQoExP3lwg5+YE0NUkWFaNi6Dbfc/CMcdtiROPX001FTW4O99toL6zesw/e/fznmnDQXJcWlWLz4Hbyx6HUQw70y6jA8/th/cO///sH6PO9Z1NbWYsiQOvz857/C/9zyY/zv7+/Gxx8ux+QDpmLTpo149umn0NragsNPmIOa2lqkkkmMGr03FrwwH7/+1c/x+efrsc8++6GlpQn/ePhv2Lx5Ew477CgMHDiQ1ZVBEthvv/0xaHAtnpr3OEpLyjB58hTh+fRs6oZOv7WGe7H2sRxRdEMw6aN9fUS/De0vcBrt89DvmpoanHLKab4MhEBc74FYBDqGtJnGjh3bkU53Yfz4CSgbMACJhHIqjEReHsrLyzF+/Hi88for2L1rF8y0yV47qGOoqxuGurphUl2INUZAUFklrk1BAHFhXWaYWPUnrsUpMLEqcRA09a3rS/n5+aiq5h8PUm07G9379KxHFImp9lkCa361z8R9sM/EfZT9sh9KrHkk39b5+fk45LDD/ctq7XFvuvHSDfn+8zC6wTZqxpzznXBWA8ac95i2vvSk9oVlULz0a58u+GAG59ueMneNyaAghWDI2mrq+jZxupHo1/czoTDYezQpd2WViOLuFgDgXi1mJ3SsHHd1QBhJmqR9p5b+OSbRklWb/Ek3d1GTqxIvhghJEhrPDJr97gmKuM3Th/8mtUNFTR5+iNP+nozxbYfbGNcPf0UvU8MRTGgGdiZ+iNeOOClozIVw5TxLaBhqJkKs/00iXk3NMxLoMu2xT4Gq6oE4/+sXIb8gH4vffRe/ueNXoKBIJBIYOXIUTpo7F8cd774+rKioCBdceAnmzXscy5cvxWeffYKKykqMGDECRSUl+Oa3vovCwkK8tHAB/v63hxjj3nuPwblf/gq7U8WJ34nVY67B6uCQQw7DfX++Fzt2bMfxx51gvQYnZiopKcH1N9yMO3/9CyxbvgwPPnA/AGDo0Dp8/YJLsGnj53jqycetE2MQ1NUNxzcu+zb+ev+fsGLFR1i+bCkMYt1uf9FFl+Luu38j8ADA2LHjcOKck7FgwXx8/PGH+OjjDzHjwAMxceIkfOm8r6K5uQkfLl+Oe35/NwgoBg0eii+f91UsXPACNmxYL0wwysrKkUwmUVVVLZxIHHrY4fjmty/H3//+IF555SW88spLILB+tZpz5Fx85WsXsF/fjz9+Dnbv2oXnnnnK5rX6TvXAGsw56VR87fwLlHoaPXpvDB8+Ehs3b8LwESMwdtw4uVnUFHdoZKDfkX34b8qy9sXRDR+xypQhrA7GZAh1uMuyftunjdryiUQC++63P56c9xjmPf4oiouKMXnKNNTW1rK7fNra2rB58ya8v3gx5j3xGEpKyzBx4j7cibgmhEAGr/6qnzP5aZ/2q3DXXczk28VcUeYv5sb2k6EJPlF+ud3YuhFhQpBr3ejXPi71Nu3rn7sG2Y6aL7QU2OXjn4xTQLzU5Z4Wu0tPUGWvEIB9zzc7QSXW5mNnH4v9Ju8PgxAk8vJcWL44cU5qpcttoJIrKxYD1mm5QYh7ixnP4Ny/T0WL4im1uMVlgMKgvMDCOaKwRUKoyxCi1WRKcYdur9qz64bWYfqMmUilityY5AOQHSLxsCFu5q5Dhei4nmONMThXlv0yh0iBDP71FGDahyFs5nCOFAbBngdD7Hbw6GFZY9DZC9cOI0buhb/c/xBKS0sVMwPKK3DlVdeiubnZXf0aFL+647eglKJumPWLjkEIJh8wBSP3GoUtWzajYdtWtLS2oramFpWVVaiprUFenvtrKAFw9rnn4cgjj8GWrVuQl0hgxMiR1j5qxfSDK6/BuV/+CrZu3Yr29nZUVFRg6JA6DKypEX5ZHVhTg/vufwjJZAqDBw/2nS8V2es97NixHV8676se9RY+jRkzFj+55edYt24dtjdsRVGqGEPr6jB06DBs27YFZ5x5Nns2PJEwcORRR2HCxInYvHkztm3bivKycgytq0NFRSUOmDIV+QUFqOOeb02livD1Cy7GnDknY9v2baBp07rt1TBwwAFTcfNPf4atW7Zg85ZNSBamMGToUNTU1ODY2cejva0Nw4YPZ7ZOnHMSJk7aByUlJaiuHsi2J/LycNLcUzBt+oHYvHEDGht3oXzAAFRVVaOmtgYlJaWsgmpra3HxJZdhzkknY8eO7di+fTsqKypRUVmJmoE1KOZumXdSSWkprr7meuxu3IWikmLU1NR6V7hG+8KkYO3jxp6wLWIKo33CLcm5ZAiy6D2LiaV94UzrtU/32p9ABp+dOdBvAgJrAUVdfBQHH3wovvXty/Gne/+Ie+75HQZUVKEkVQSSlwcDFF3pNJpbWrBzewNADfzgh9fgwJmzNH7cJo2t386EQPoVyU/7tMcg2X+E5DdnqqyqwrQZB2LQoEG2G3cuGtsR+xKUJ0xyF4HKbN4X0mmkeV+0lI25a1hHceauIU33nPZ5RpIN7QvhJmrqjrlrkG4oeSKFn5n2hbGvsRf/ZJywf+BUtrPQhHWua1WOCQKDmO5JJyEATHv1cPcEzPlGAVRUVqGisgoE9jrJtr4RCpgGsVaoNO1bJkEBYoJfzMlaxdwltfbYPjittN485qy8zlWmzUDtFdRdBhKawfVNuNefEZvB2ssYiP06OD5RZzu/oJnmWQq5HVhZuwS1PlIAp5x2Ok457QyAAk3NTaiqrEZnJ/+eXyszEY27JuXw7PqsG1qHlpZm4RUfDEfDoHRcm6GwMImqyoHKbWY8A/9+Y2f8iYMmDAPhyvm8/S8Gg9ewjMYAaRLiipXYq912EHzFYnD7kL6tPRi0TkUGKm2TvwQxJAuT9gJg7iUup2Refh5GjBipOB49ZqxQB0658vIB1qutxo5TgxYOrECysBDDhg8XThhdLutRjnL7GUq/41l+fj4mTJjEFFjMa1WqaZro7OzEs888jc83rMMRRxyNOvskeefOnTj79LlobG6y15mwdMmKhdcu57k2E0cdPRs33HgzioqKMHBgDQYOrIGcBg0egkGDh4hoxMDgwUMwaNAQpa3Hj5+oZUgm9fVECEG17XvipH2Efj5y5Chunm5ZKy4uwSQ7n9zTCwryMXz4cAyX24JvFLtYMpnEXnuNYj60Y47zQGCtZo86/QHVT/tkBjFTVN1Qx2NOtM+TQYJEpgyIwYBw2sfptxx2LO2LrN+cAx/tkxkgbQul3/aYI4aB6oHVaO9oh9PWvL1kMonTzzgbJ8yZi5cXLsDixe9g4/oN2LBpIwiAqqoajB03HjMOnIUjjzyKe7QNrL8KvURulwgMifw8VA+ssn5M4RjEGYzK4Px1igwYUIGqqoEosS/EhhlzYk/XM0yZMg1Tplh3L5mmiYqqKgysqUWquJjvmhrd8GcoKytHdXU1Uknu2W8p2jAMhkFQUVGBjo4OJPIMj3bQEYbQDQ8Gf92IzpDNuWt2tI//3hu1L6R+c9rHRxRP+2QGTXUEMITVPq9jkOBLZpD6KysZoBuyiShz10y1j8pfQjIQKqxEEi9t2boJeUaCPSPJhysa53815/OoOdlO0w1azuX+Oi4nrtkp7GfIne2+AWpDCMugvZ3d6QnwZmjc1YTSsnJh0SR9L+/epKyw2Z9ip9B1qVejXAQU2bQ/A2dQYtiyZTNKS8vcOzIiJ49g/Rg8jrRxGTJvB2+G1rZWvPLyQrz7ztt44YXnUVhYiJt+/BMcNOsQgBDs2tWIq678HlqaW1ghQsQLi7Df5EDtk/OpU6fh0su+Y7+bPVspXD0IdRxigaG4fuKlGAz9KaMUry57t/Zt2bJJr2m9Qb+lMefOm3uf9olz4mDd2BMYYvnJSuou/e751Lf1u3drXzjbfYkhu7rR2dmBHTu2o7KyGnl5Cb0NjemYv4x7X1lwbveh0J3nGmyPs/Kh9Yu5CRj2ZQsQsHvF2VUy53oG5TyIJ+LCqTB3xUY+SSawT84pdf3J5bgyvgywVs10GChjcGzZl7Dgw2DKTrw6RnZTGNPqmoJhT4q4y2bK8pPZE/fw1ZMJg2ZfaAb+Iow+v3KlTnP1TQ0iCwyhay8sg0fYURn8rEdh4HRDYdAU6zYGzb7W1lY8/dQ8vPXWG6itHYSvX3ARDjhgGmOwnv3+MUzThEwF5bN12CkqKkJhslDjL0rccvK4ei6NB6GfeLSDPozu0D7vXwDEXF7aF5ZBo31ZTHuk9gmpl2sf5XNkSb99/GeifYRn6EntC2AIoxvZZQib/PU7KkNEk1lMUfTbzhlLv3te+3p27hocoX+OXq59Qo7eOHf10A2fnNqwM9E+6nrWF1FtRP5lnFLnXX7u9G/rls1I5BnsFTzObveVYXbVsGIE7L51w3lO29pJKbWe6wZgLX9u2O/uNkHtE2FWJQQwKAWFAWIv1MYfgkDtd5wRuAuqEdi/tttPkRMA1IBBKUyDAtT2wWLlG9SDgfBPHFm3nBsQGayFSExQEK7mLHtNu3ajtGwAksmk0kCefVfTDlZe3RTHp/M4jPLrDph9qTx1XTEGqeZzz6A5KGgYPIPoIQbfNukuBt+2zpDBMqbY37JlI0pLy+1fkWQGSSMyZpDjyg6DuF2tJ28GTZIYTNPErsZGGIkEysrKIjD41ZOewa+teQY1Bn8G1b43g+Oj+3UjQ4Y+pH29jaFXaF8WGbZu2YgSpmnMWESGbGsfXyOuv6xonxgEsqV9KoMc1xdV+6Iz7Pnatycw9H3t6zGGXqF9wfrd2dmJnTsaUFk50HpMJySD+u6LgOR0cutk1zZqN55hB8VemweDBUkBwHSrxXpW2moR080B69dmx4ABmNYpvXi/vZPT8gFYz3U7rOxVaMStOLamOiVwJtQUxI6J2n+sX8R5BtePDwMs+07T6BjAGNx6AsAYqFOnYFXhZoBms7Yd3AJiczt5OUN835VuaXPtS4OUM8y3Be8xEgPiMpBQDBJRThkQgoEXBcg+fBk4C5kyEKLZLDEwzfFn0PvQMfDbZAaSRQZnzHE+ssbA+1Xb2ptBY0hiIIaBARUVKCstA3T91ZOBRGbw0w1RX6MxBOoGx5DxmOvXvl7F0Ge0LwxD1rWP95tr7eMYFIvZZMie9rnVwfXXUAy9UPt4hoy1LzqD+68Pg2bMhdLvXqF93gx8nt7NEEX7+vVbCCDs3FWxqDLkWr/589FwDDTqybg0vSb8N6rJJS1WRNQ8BHyFWhuotJiaYI243whHK4ciNIL93TLrvi7C4DOKQEJlhWMQa0FmcDuCGJzDwDeqdvBQfXTEK78mCfaJJoNUb2rnC06RGNTxL+YPsh+CQScCQSmQQQ8UncErJoUB2WVAAINGp3T2dT54Z6KAc9tyxED5DhXCRxQGd6KYfQYmzzxDSB+xGJArBmdfNIZAHz2lfZqY/FJv077u0m/P/H72vWLKtfYF6XdI7fONyYMhl9ondKis64beVRgfsv1Q2pdL/UauGBBLv7188M5yoX09qt97kPbFYvCKqX/uKmYLrX1c/pD6nXPt0zAHzV0jnoz7RELhPobtVU6oKALnZF3OKb5hhAp/3HNpfhE1ooTmZKME7KKPVcA99edFh1AAlP+NngtYw+B+CcfA56GmWwf2ubi23hwTVOtXn4j91IFfZ9R5Un3IDGpwYXwEMmiMZJMBuWCQR7IPQ7SUewaWojCERHFaTWbwFz4ag4FqDWtfE5slBv3453z0JQZtofBjzpvB/upnJFu6oUlZ1z6f4PoMQ79+iyai6reXA21MERmyqBv6CUS2dAPdwtCj2pcxg/01awy51Q2HoV/7/CzvOdq3Z8xdw2tftuauUgDSdi/dUM9Hw2hfpJNxPRcVGtp7YX4493Izp/xpsZDT7j0EgPtctv1dPkl3PnMKRqh7lUG4+mpnc7K6fdNhICwuZ7vC4IYTgcHd7zAItzTJbaf40KOKybHlMMhRqfbd5PIKhXjH8gvR1f6m9aEySGKlgCMaA2dIZ6rbGajIIIfj5cMxFMggW4vIINsIxeAz31N9qAyB/TUyg0fP2CMZaPcxIIcM3D6ilvD0kSsGPqC42hedQRpzSiFkqN9SoR7Wvqzrt2ytJ7WPIhQDmwto/Pcp7dsTGLSF0Ev1u1/7+pT2xWGIon39c1fItZqRfmt9ZEv7qPgxpG5EWk1dqWyii5RqPnEGiFNf1mJmGsvMtlUR7uJomheHibYprLXSJOWiTgbZDXU2E8my60nr0XAY+Ij8GBwfxNOypC/eSVfd2nbgdgXZkHfo9vsubBDdB9stDFp9oWgMPvu7g8HDR1CVZ69QtKzRGDx6VABDxBoJyOrZq3s1g/I+0QDts3Zlty+F02/v5L1Abvcx6P30jPZFZ4imfdEZfPb3Nu2LwxCqYHgbGWkf4f73cZNd7fNJvVj7Iul3n9C+ntFvvZ/sjQe2PycMmh1Z1W+f/f1zV2VHxvrtuyNuoWhZM9LvMD66WfsiL+DmOpFOKtlXnsD57F5CIeyecTcoZTE8CcA6gTXdPHYWyn+yT47Fh/it/fzlAd40Ic4VFudKh8MSlkFwE5FBXu7D9/Tfk0FpB6cuqK7ZfS5mCFl0+bjLYB5NH+RHu5XAlyGkFU0WOR9FjzCEt6LJEsAgmYvGII2TUAziWPJLVPxHE1NcBsJt1TFo/GTCoM2nqSdfc9KY1U3gtLu49tZXlyaWoHyOnygMVgy+hyC+rbUMqu04DIHaZ//pvdrH7Q/Qvt7LwKU+qX1SiqF9gRQ50T5+azdoXyiGYO0TU4B+C+V6q/ZF1W/Vdi61T28loMdG0W/FVRYZ9hTt82yHgBRG+77w+t07tS+YwV/7op2MS3DOX+HCEOErgcL5+ZmwX7idUCh7lpuasN79Ddj3+vMn7ASw1x/nz4Gd94dbzghACFtFUXxbG/eyd2LY2a39lk+uJfnV4TUM8GGAydkTGBwOmYFyDGq9ym+cY9cDWCNSIT//l3JIfD3or8pQEdXzKp9rVL6eEsxA3a3CpswZqH37jtDiWgaxrbuNQUleDNAzKGNOUzEKgxwThO0Og3sgJAUAACAASURBVPuavvAMwpjzYSDwawfN9ggMzLuWQfWjZ1Bt6xjYJw/tk4JXYvVjcLLwmiBH6vwfzOCjGwKDd1t7M+gGo5dueDEgM4aQ2ufPoG6PzRBbN7Kn34r29Tb9VlL29FsK1VM3ssnAax9/Q2M0/dawZU2/VT+ZaF84hnjaJzAI+Xk/8bQvu/odVvv8GDLUPoGhF+i30l+zp9/9c1cdg6h9vU+/w2pfdP0WfWdD+4IZ4mqf2A7eY85L+6KdjPO25TrwLON0DIBKLcavOGfAqRBeEDSdiQtAuMPfdO0T5VYFewelfE3bq7wFgzgXCiAzQMfgVLds15+Bggi2VQZIfUA7WjQ+XE9euYn70ceqG5yaR1/KZSBq1hgMWs/2BRDim8tJ2Wfw+70wGgP0DFpRD/Lo3db8R1dvojBojzT+DErKgIFq+mvkvuTf1tq93uZ9kltI0T4uC9HktzP6uNfb1uqGUMTVsjCJejF46kaOGHS6EYNBNppNBmFrT2jfF0i/vW2LpbOr37z2cfXZ5/Rbky8SQ5gUQb+1+eP310D9Djt33cP0WzaWe+3TZM2Sbjjbv4jaly2G/rmrvTXLDOrlCaeo/5iLeZs6lYJ0HctXIzxfUyYs2eh1JUYwbTeAXXFEwjU8KonoK1YeT8SHAV4MCMkghiMwmNz1hqiPhaiJaj5pdwdtVPdr4FjogQeG0Ec/37zaC2Gh7MsMaj3FZYg0VpEFBs1kUGYIqEElRWGQLrZGTMEMgSH4LvUaxkC2GNTvfgzC2A7N4HNozkg3fPTbpxTxKOPpA8ghA6Ix9Jj2RUl9S/uiZusO7Qu2IabY+q2M4S+Sfqvfs6/f4XQjegqvfXuMfmdZ+1iOHGmfth36565K/v65a++cuzpblXEdoBsxT8bFmwqovQ3EOifmwxXe5S1YMAQcSqG+jsC+kGHd9mEtgAbnX+FyIrwrmMtHnPedES5u2z4FYVdIXAYakoH6M8AdSzIDIVaI/oJMtR/Vr/K1FpfB+2Ie4Rh0A46wP3IVO3WkXBjR+IjDIOfIhIG1teSDXY+LyqCN0Cs+N0fGDAhmCHut0HPy4cOgu9iq2ojP4OzzY+BNek/6QohkH2dw+rQ+h2Q5MgMNyRBdNxz7QQxK4H1S+ySjMbQvUwZ/7Yuh30qEPuFzObpD+7xT5trHdhOIPzIIMeZWv/10g2fY07VPcarY7A7t4+zogs2Z9kVkyLL2OfZzpX29S7/3vLlrptqns9+btE+fulv7iOYiiT9D7AXceC4WDIV1YksJ20dZL5I6BBFvMycAew6Awdo1Yr0DnLKdlIVO9VRC9XCV6GymXC4K+4KF+6y55c4iC8fAqt+fgVWSyBB8ZZTzS9Q9fKLKF6Lk0UuIy+AU0AuYPrZAhAwZwljXMcg+vC1FZND6563JX6IyqEWCGcJ48c6rZ6A+ObxshmUIV5d+hzxZCPX5ejuD94HSm8G/v/IKrAvIlyFnuhGNgc8nGdJ8pdoxtydoX5D9IAZ/3YjBoPXvpp7R77DaJ0+l9GWDtE/nqye1z3tfb9c+r1z+uuGXeAZdQNnTPudzz2mfw/DF0b6+xxDGembaF40hkvblZO4aVje892eq3972e0774q+m7peIrnNQscvwlx6I2J34B+29Uah+VXPXuM93r7i5v9pbCoIY3OrMnEFyEyqXlNPDtObt6dxfuR2c7T5RhLk/P1TS+PBk8N5GlW7uV8rZ5c8Qsgfpc0aoHrk94uTwisb7lE8uE03E/HzGzSHm1k9p5OTdXyWGEO6jRRjGnjdDuDEnM2RLNzR5c6YbuWUQUp/UvrD67b2t5xmkFEv7go7rGj8BHSVsP+qr2gdNW+un3mF8Zjf5a5+bsq8bMUgi6IZuX7/2yT7DpC/W3NWvdO+ZuxLhT5TSwXPX6NH0nrlr+CRf6gmau0Y+GadU37md01RKCUC52xaoyfKw61wUEH4Opu7gsX6RNix7xDpZdaAITLBfoonTB/krOJxB9xwZcqNQ6g5VwuWhji+bAY79AAYnWxCDlddicBqJMVAakUFqB2EJR3sP223b55id7fJVN2aB2nXiHNKFAS8d6kK0g+zZ9cFvEH14MlCRQbYuenEZZPtaBo924GU+PgOgfzgmiAEaBiIyyPUk9J1oDLq2DsUg+FST219dBkHAfRkgMUi2qejZYRBamXefMQPz5M/AufRiCBpzngyxtE/PwJWOxBBWN6jyb64Y+o72xdLvkNoXi8HnGOTFIG7oQe3Lkn7H1j6P2P0Ycq19kRm+oNrXnQy9Qvti6DcfaNYZvmBzVzkWHYPzrSfnrkq8WdTv8NrXTfqdVe1z/0TR7zyP/Z7JOv9U5YiaFJ1dXZoCYoysZNrZSaWMgPNqsTQICKX2aubUKmL/S2Hf5M3Z9wyYyj4o51psvDRfNq0WY36jMLAcTj6XIWHH0JXuQntnO5xaIhT29QD7MgeF9nZ26rpi72t3ryM4r0+zQuOryF0F3rUPUGUlTMrlpQTuLf2EuH6ZUZ4zUwY7comBr0XCFaYcoOzDGSzEk4F//V0YBoE6GoPUFjKDYCMsA2CtP+DHACvuqAxsEQTq1peXD2ebFY/I0NXVhY6ODpEBcO3aDFD6azwGVrlC3QYzUMIV1fRXbtiI1+sI4jFoBoV2zEVk4CcmvgxQdSOIwSkcWTfkPu5kjqEbQQx9W/v0DDK3yqCvp+wy5E77Yuk3ekb7QCxNa+9o1/ftIAZA0b5sMbAYI+qGn34zBqeesqF9AQxxtY/hdwdDHP3Wjgd1zAEki/rtlnE+9CXtC2boDu0Ly9BN2keB/rmrN0O25q5aBjj1pI65rnQXC49FSoRvwmfHF6HySwFjpK1bNsP3VhB2ZPBKauX65tJmJ7DeVRZgJyAUymURLXkUDBd6yHLdyCD0CzZCogWdCUNIT4oLPtZewODX/J77PBngCkgUr7EY3EJZZQi0GMVReN2Ix+Ds0OXofobIpgUfmeuGt6+QBcPa7Wnt0wYVMfU0Qy/QvgieuB1+2hfDcm/S70CLHnn6tS8eg28OaVtsCeufu4Yr1699sun+uWsIy3vw3LWysgp5eV6/d6sMkX8Z15olQCKRQCqZtM27A0eMkxtQBKCmvU/RUQp+6Tv+RF8eoOxWFE2NUPsf9yoHBWBYjkGEVQj5oeDNYJfncnv2QT8GQZAIdjc1oaSkFMlkUssg2ueGOgUP5yNk/t3X04fmEpETtq67UujbQXXbNxlEU5wVyUc/g8iwbdtWlBSXIJkqisGg5ujZdhDjCfbhwSD48GZQ4+2tDLKP8P1Vpgm034d0Y09gAHp6zPU+hm3bNtvH7CJxX1YZ1Bx9rx3iM6jxZoNBjKcntS8WQyzdyK1+7+naBy0DevGY69fvnmTo7OxEY+MOzR7eq1uS2HCZnYzblgksCEMI2Nph2MuLU3678ylhfzABanCLmRnEsk0BGGDbCcBWK7e+Wc9fW3sN14udh+muUAYAcR6VJ0yoCMcjMAAw4DAQYTsA98SaOgz2ybrD4FSFvZ0xMDumbceAYSS85MBKXjv57b4GAhKFfXtK1KUERKdfBAb+VmBtoUwY4PS23sgQHoxnIIYBwwjDE5VBfCuDUihDhlApwFzGDCGs5nrMhWPo141+hiADwaH0Df0m9jFbH2f36HdutS8UQ661L1f6nWvt62X67Zv6dcPjm29W/fY+wLBnzF17gfZ5JMPw9sH2yAwkrjfZsk8npfBZLsg54SbuCTfbbmdkFzOdzZTPRLjsnBcqhSMH4LXD41aRQAbwDFQ1TQHhTXw8g7QSYsDxP3h7JscoArWDhy0YNoRQDJ4NFiqU7mDQ7s9WO6CbGai43d9A+LisZ45CZmb5ojJocmSRIVQKMBeXwb/qulc3YjEEpn7tU7b3M/Ri7YsSTQTt83Da09oXqh2EyVlEbz2p37nWvsAQv3hjLnD7HsHQP3ftHgY7R6+au0ZImrbO8NVmlBnm/nAHOveXZ+uPu5iZHD9/Tup+pMJN4YSKe5VI5BN3jR8+ESUHCclAIzCAMWsZ7J2Ef4ZBtuvDECoH1eURL2GEqS9fd9R7v66u/A14DYQsMgSZ1zBEM+BVSM8gf8uMQd+XPD0Tn1yZMoTVPz5fHAa/rTE6dQaHVM6AzKBcNvTxRX2bxddfyCKRdCMmQ2AmnzHnbTdCjhDaF96XR6asap9XgZ7V78hGe7n2sdQbtE8x0Du0L1I79Dn97gXa5+UvZJHcM4TIlG397oXaF42hf+7aHfrNvvcG/Va0T5+CxlzEk3EqfSLCd6VjEYA6t4QTa4+zjy9J4F5QEpeT458eIKCGa4FyefiPVn739NcgmkjtwiYhnHXrdWPhGIj7VcOg6xM6BrafcNY0nUt+UzlApRX6iVRCtCDYZ0lkIJIl32X9iL6tJdMsB4nDQCB+Vw0HMojegrcFMegsZIvB/ebdouEZ9H1J7zmYQe3W2WPQHewyYZALeTPISbyMp+uv6if3ezgGS5e8ai8jBmGMZ64b2WZwvkbRDWtT7rVPtrTHa59mvhisfbljcL91n/Y52/syQ661r/v0O0PtEy3Z34L0W/TRE/qtZs+efivaJzB49+Jsap+1KTPd0KtaeO1T0p6g35pt/XNXjWetbmSPwVs3dCmYIeLJuGtOvBvD6bQaMK/RTfhcbh7rUWuxjPUaQgrDdH34TSOt8jaqfBs4Mdz25mKjxAThKkwYJIELztsM1PHhxWAKDG5pr4OMPFTd7e5y+JoSVPweSqScXByD56GPQlNPAXb9GHjH0DOES8FRsETVbRFKs+25ZJBlwZvBW2qCIwhmCG5jb1/WSPRicHRD4zfArrxd99oRViISg5pTaQet9rk5/f347PEYc9lgcL7rdUN/wI7E0BO6scdon1QiE93QhJ0d7ete/Q6vfWH89FL99vIbYFfe3q3aJ+TPtvZ5lMiS9rFPvUS/w4w5ebuvfsfSPmbCKtfLtC+Ofvum/rkr29479Lt3z11zr30uQ/zb1In6RT4BVd1T4aML407XhasNBACllvBQ56oDZfm8BFyoHDujU0p4k5tQXqwKqsti75FPLhgDpwl6BhKLQTf49AzqNv0r59TrRWJZqu71qDd//dP0B88CxPNraAaq7hfKxmLwca0k4uPDz4uegegYJHeKIz/bPpuFe1ayzOBdinh89rHtszlcW8dvB5297DPwX7LHoDjyZNDm9t1qCZmX28wZ5MOjzp7eh59tTcXnSvtokPZJKRPtExgy1b6e0+/w2ueXwo05wWgudcMz9SHtE1Lf0O/w2idPrX1seGzuUf0OrX2azd2i3yFS1uaufVf79qS5q2fqI3NX75R97Yt2Mu4hPNQ+2ZRv31bCkFZbN3kbHLphh2W9R527dZxY+dwTYNePYJlf5p6ANZDz0ni+ILUDpqZpnTez6LwZ3BP6CAzOiTpR60lxQoW96uDzaQclXO1Ulgg+VPfyJRKwtqOsLpXQNN1O00lJDhmEeiL2gSAaQ6jk0Tmo7SM8A6IzOPskhuBgJd8SAxFi4EcCX0/xGXQpEoNOLwMZ1DLZYpD7qxeD2l89GKT4eppBP679GeT4MmWQAwnDwCd/Bkn7GIOofTxDbO0j7t9u0z6pbDzt0+u3FIzwNaf6LfmIqn3K5hD63Su0T3bHb+7F2uemvqXfvUH74jDwqccYZO99ZO6qpv65qz8DQjHoUv/cVc8Q7WRcmTi6hqzl8qmaic/L3TLO3xJuLZnufqfKc95u4PwvbZSByNnEKuLmQsov0cS2axDC/AYyEA0D4M9A3b/8FRdqV5nQVZygNC1NNOExPu+f2bl8difS66XmOxU+E7uzE00WbXfPCYNtOohBqXzrsx+DdoOi+PqOpzLoh2rOGJSkMghjTuOUKJ+Cb2Fmd3vQOAxBBxQ1Tn8GXbwhbsOOyCC3tReDMGXwYwiMN2jMIQKDWDZbDLJuqHoQjUEbRzdrH88QTftyxWBbz4F+azfE1j596mv67aUb7nHedpBL7eM+htdvzpfGcib6HVY39IFnQb/7lPZ5bMsBg1fKhvap26BhyLX25W7uqt3QP3dVUs4YlNS3566EtxdS+6Lfpk65P9r2kk+ErVNPpU8ImYgwjsW9fBUTcTv3lQoffIck26KG7xxmYzCAm1d7Vw6UK/3ELcJk3WGQslLNFx9XSuLte72BQaxHKgboDlmxkNIOXHvmhME2HcTAvmWZgeg6nuJYLajJllUGpXxMBnFwBsbH3hDg19a2Lbet/aXYLU88+4bKQN38IRkU3fDtr5b9uGNOu5+780c/5pwU1F8RkkFyFSJlzhB2zKFbGLpH+3LFgJ7V79DaFxAf+rZ+M9OhtM+LwTt1h37HYehN2hddvyVXIdKept99W/v6567awPrnru7nbtG+EPpN/PuGbu4a6WScj4OA2p/t0eF0Tv4WcQAUJvgtzmeDwv0lmpicLQDshWb8/5BuoaDOf1xwkH755q6MEOsmcn5xN0JMls9dgI1GZiCOfU8GN0DGwD1gbr1LnUL7wzyH7FwS0LcDl5kKxRzPXF1wPiizyOVxbHKBOGyccd1YzhWDEJ/sw4OByplCMYRtB3lc6hnUFIYB4RjU0AIZXIs+DHyAURjgwSDXXc4YiJs/JIPOh2c7sKuhERhEQ1oGMY9uzOkZ/MacN4OzLRcMfrqhR/HVDS756wbHsAdqn8BA4zD0jPbF0++Q2tfb9BsxGNTQMtA+zn4utM+ZM+VANxT9Zh/9GBBDv51tPad9fAqv3yG1LwxDbO3To3Sr9sViCKsbuWMQ4vPVvv65656hfVDrKJAh4m3q8vu2XW/E/US5x+nlgc3FmCYAofbvxGZCsEmde7ft/52nxAkRrRHuf2cH5Z3YEbuLp3HvDAdAqOFasl9fFocBAGAaoRjgMHC3N1k3BhDZjQvJnDq2dO3g8sqmCOR8HAsB2K/17L4TJmtSh3YZVM/yBw8GKjFoLOkYhHzSDi8GdqDX9VdPBn07UIUBoRjUFIbBzevLoPXsz0BAtAyicMZjcCOWGIiuv2bI4Hzhyqram0WGAO3zZNAkfX+VXIaKU+OYi1g06M+gO3ZkVzf0KL66wZy5cQYy9CXti6PfIbVPZOgZ7Yun327eXq3fsn14M7jbcqHfvMsc6XeOtc9Pv31Mee7rce3TBZiRfofUvmwyZEO/hYbNgvbFYgirGyEY+ueuIRjcvF9c7dPbD9K+eK82ExzJVwiIbpewzenSLAv7hZoz77QJNdnpApVMUukvKy9PcImdi9onvToGrwfys8wgm9SZV0CleD0Z5E1+iWpMSIWJsk0brbd9HYOv8vVeBiHsGAyeXv0Y+H1ZZxAP30QpFJ1BSMqBWDaYIQPAMejMx2DwGnM9zBDHh85gxrrhyaBxyepuD2CImgK0r6/pd6ba5+tDzt8D2qcLKpRuBPUlr/luVhk05uPodx/RvlgM/Jfu0A1Wpl/7ZPt9TfsEg/1zV+2OPq99cuoh7Yt4Mk41sdg3bxBrB1H2cznt29Gt+LhM1IC8Ch6oUxeGd0UofizLJreQmlvYcGMAAJMvLl8nIjEYCMdARR/E0Nw+z2ZmQpTOF+3L41le73bQ5dcaIposuvyePvzaAQKD3oe+UFQGnW7qsup9BDHQrDHox4XLoE18oSAGr4rgVpIQGXSqKTgW4/RkQDAD6QEGZTGVEAxeR9Ko7aC1EcQghmqV8TmkRGVAFnTDk0GTN9sM2dK+OAx+O2Jon/6VKVnQvqzqd/a0T58C9DvKmPMMx4shivaxUMXsxP1/j9DvbGlfLAZdmSwyyDFyhTLXb29Xe4R+++3IRL+lQv3a551V76P7GL7Qc9duZIj4zDh3lUBy7NzkTeF2AnmxMpMm4JrgDBATbFlxNWr3IXvwf6ntlL9yYZ0QE6GCqfCX0oSWgXDRxmOgHIMdACtKbV8uA/ud3wBA1UGg1WT7pMarHZRu6NEDxUsVEoOYUTGqXuSgHsGKtLIPYZ3DDBiIbF/N6FNPRLdR8BGKQRqIngzSDuUVd9rwSTgGAk8GN2cAg2cingxqPJoYTMPN5MNAYzLodUONMCOGwDHHMfiVR/Qxp3rLFYOdrzcysCbuOe1TvfUy7dPN/QP1W1MOEbRPCjEeg1cKqX06x4iv34qdTHUjBENc7esW/Y6ifbH0m2X0ScS23a/ffVO/c619ceaunsH2jH6rGbtd+zwZpB1fmLlrzrXPZYj4zLjuC5Xj5IarWEsElMtINCXsIJWGBwDxNnB2oHZ6E+Uy+zSOsOCCMIAp1Af4bQah34dg0HZePQNlr3Xz7VGCD692CJFbs0Vi0DVkiJi8YtD6kE0rDHI7RGGAnsGnnrySbz3xW4SBGLcdpES5PN3FIDv3zh0uBnt8En6ceTF4a2Ugg/4rVT7GZ4g65tSUMYNnprgM6ljziMhje1gGrxSRQWe6D2kf9YoqqwyIwaAvHFo3hC/Z1T4hY2Ttk19rk039jqB9fNEc6Ebu9TtkW3eDfquZert+e6U9g8H13Ffnrnzak+auude+MPodVvu8Us9rHw1oa/drNsZcXnBUHoldefJrFmKtNm7HTinYnTsGJTB1a+ML7yJ3Tui5HkMI+OdBnU+UcgtF2XscS4oXNm7EX9HlpRkUVJvBsMsYFDA5fD4evQWVwWCTNSLUT1BiMYVqBytb065d2LJ1K+rqhsFMd+Ef//g7Ghoa8IMrrxYh/D0q6b4//y+2btuG0884C6NHj9HfnaUpKjOsXbsW/3rkH6gdOBBfOf9C3wiEupLtx2AQclG3iTx9eDAE2razyYvqK0m3PUJbIw5DyGTlD9FfdbF6MXhlQxYYfHaEY/ByFtwOWWPwCTAeA+kmhjBUude+3OuGP4OnJPYFhixrHwD/9vYcc1H0m+RQvy3bvlO6KNrnFRPEemprbcXf//4Qtm7dgqt/eJ2Sv6WlBevq16Kzq9OOEgAhGDRoEKqqqgUfy5YuxSOP/ANHH30MDj/iKB8Gr+D6tn63trVg8+bNKC8vR3n5ADz55ON49+238bWvX4i99x4Tm2HZ0iX41z8fxsmnnIZp06f7Be/L0NrSgnv/+Ad0dHbi4m9chgEDBoiuu+0Y5N0yhPu0x+p3aN1wMun9dO/cNffaB8TRb6+dYrY9Ye7qnMdGYYh9Mm7N5dipBXeSQWE9500BSt3jJ3VPYgEqnMTKMZqmaR1QKEV+QSEM7lls9hY1CdAA97u27dv5vdmJwbFi5SFcCQIQCpPap+MCAzwYoDAAqg9Q07Ll9DIdg/1R7RyWY4eBzZ95fKEduBJUNEgAPPDA/Xjgr3/BQw//G9VV1Vi8+C2sXVOPH1x5tRC/1QZptLW1o6OjHSalKCwoQDKZQiKRcCvd7mlvvfUG1q2rx+FHHMkOZF1dXWhvbwelJrMq1A0AwzCQSqUAe5X7LVu2YOHCFzB69Dh85fwLtAx81co7ZAa1JomyRTcqna/uZmr3lxjtIEXDynkIgZ+48H7FHVStJw8G56OWAZkyiP2VtQvX6DKDe0DQMCh+ghkkq54Mqm1/BiGHtq31DB0dHWhubkYiYaCsrLxPMqh+rDzpdBq7GhuRyMtDWVmZL4Pw3WfMeTFkqn1aPyF0Q93T9xjiaJ+QN672hWUQo9ImYSXakAyRtC+ifhtE/vWJi8p3zOkKWTOR1tZWpNNdKC4uATGcNW5cy13pLixe/DY+WbUaV/3wOoXho48+xE03XoPGnTtZ9Hl5CXzv8h/g9LPOFlx++tknmP/cUxg+fDh3Mu6tG59+shrPPPMUWltb3aM5oaCUwLDbmjqvu6FuXEOGDsWXzvuqa58QdKXT2LWzEZ3pTqU+3AgMrj5N5Ofno6x8gD3/cFNc7Xv9tVfxo5tuwKWXfRNf/sr5WPHhcsx/7mmcNPdUYG+xXimlaG9vQ3t7B9LpLuTnF6CwsBD5+QVWNXDtsGnTRjw//1kcMHUqpk6bDkKs+Wxra4t7EuNWEUuGQVBYmGTzq5bWFrz86kvobO/AeV89n52M+/dXhNRvd4esG/36LTHkWvtypN+51L4v0tzVj8F3zBHrddhRGGKfjBPuX+sT4cSYcmpD2GycSqWFTwTYtbMRS5Z8gPr6eqxbVw9iGBhWNwx77bUXJh9wAIpSRdYFB2pVmOnw2XDMARUjFJ8hd/LwB1MqfjdICAZNfcgq6zxDTnlyu57sCxUm5bLqrTLbus5MAGzYsAEfLl+uZCAACgoKsM+++6OyqgqUSg8OUKJ0CABoa2vDggUvYMEL87FqxUdo6+jA2LHjMP3AmTj99DNRWlpmF7I7vvPMO2d82bKlePD/7kdLawvbQey8zq0StbWDcNXV16K4uIRVHqHsEorC4zdQZAa5pPzsv2bE+6Rw7aD2a/XQBmSTwd5DvPbIlt16zQ2DWE9sKydI8kGFvZEgSwwsn9CFMmfwyOHLQAG8+urLuPNXt2PQkCG490/3Z49BPQ7njEE1YTHU16/Fty+7GKP3Hovf3X2PLwPv1dWN8AyR+qtON7zcBOzzzN1nGIK1rzsYsq99UXXD/ZgN7dOfivuNOVX7eIaWpib87rd34qOPluPWn92OYcOGeTIQD4ahQ4finHPOQ1trK6jtzzAMjJ0wQWGAlsFbN5qam7Bqxcdoam7mclNs374DGzd9DgpgxPARKCkpZUd7AorGXY2SfYp19WvxoxuuwarVq+H+MsHnAAi17qqE/XncxAm47Rd3oLa21vfEZceOHVi65AO0d7TDudPROZECgIkTJ6Gubhjnyf5ECEzibnPqiqZNLFnyAf7zn39i1cqVaGhowIjhw7Hf5ANwxplnoW7oMGXwECp28u0NDbj9Fz/Drt2NzB8/dwWhqKioxgUXXowxY8ZyZaVHvKSa1Om3HEtm2tev3+zfbDD04NzVIywuR3jtyw6DvaeXz1350mHnro6qiGs3BDPEv01dCRV2z4Z92k9d/0IupyPBPiBQEELQ1NSE++77C+bP7P0laAAAIABJREFUfx67m3aD2FJKAZSVl+P008/Al798HgoKCl084ec33g8HDudZcK91HOWLBM7Zsc2gI3XO7h1WUPu2CsoOcO7VLCqXFk/OnQNOYI/0HgUffPAebr/tf+xcBiMllKB8QDmuvf4mHFg1i2P09/PsM0/hnj/cjbSZxrHHzEZ+QQEWvPgCPvjgPTQ27sRFF33DPoF2TNodk4NobNyBZcuWoqysBDNmzIJzKYN/HVxlZRUMQ7zS7R4eVWxxoPhJtHyFLIxoBUl+tHzcdTbppCqkG8WPXMjdTzTb9HaIZz7vkpkw8In4ForPILe1mE1gYLv0F3uYNwr88hf/g/z8PJw091TsPWasD5fEwB11CYDOjk40t7SgafcuDW04Bqh7RO3zTVH6K8+gCUFqB9M0sbtpN1pbm2IztLS04rFH/401//0Mp55+JiZOnBSTwTn9UIsE93R1n3euXLZDLhhCTHVy0peyo316hjja57fNK4Jc6re4J51OY8OGeqxavQKdnR2+duS1eHbv2o329jbk5+XjpDlztfOZbVu3Ij8/H+UDysMCCGns2PG45vqbYJruujednZ245567sXHT5yAEmHngQTj73C8J84D8/HzIujFw4EBc9q3voqlpN2tfZ34gRm2x3fHr24SlhPzuEqqvr8edd/wKO3Y0cHYM9um7/+8K+2TcTdT+h4gTDBAAi997F7+8/edYs+YzHHnUMTj0sMOxZMl7eOSfD2Ptmv/ihpt+gsrKCvD9VZ62t3d0YPnyJWhv78Bhhx2BZDLJRrrDWVZahmQyyZUiLmmI5hJqJJva123HoO7SbzF1h/bB+aOD8/ETpH1RY+s92tfX5q7+hWQGoZkjzF0jnoxzhqURy2SFTUb5YCjYWnFOxVDrFidq38J9zx/uxrwn54EA2Hv0aBx11NFoamrGI/96GLsaG3H/fX9BTfVAnHjSXLhW3VM7Soj1fnF7QTRrMwUMAmpaz4aLK54DoASUvR/cPfkXGDhvjMHkGQAQ9zkKp46tq572RmIC1OB3CwzONxaZRlmp/Xy7rh26urrQ1t6KSy/7Lg456BDhUG0YBgYNHsKVExNx3r9mm0unTfzp3ntgml248867MWmffQEKnHnWWfj6176K5559BkcccTT2229/rnYcKp7B2rbvfgfg6muusxngySCOFC5OZQw4os2LHYV4D4lbp8Ir5HyElz8Q6HMFtwPfeILUKJjcgUfD4Dz3o/fhfNdFqGMgQg5r5X6VQYklFoP7WW1rWR8iMkj15DK4oqaTaLUOJN3QMFDTxBPzHkMqWYyp0w60T8b9+iuXiDQZ49ex8GXQWdMJeTgGtx2C+qtlW7CuGXOsvQQGAEiAUiM2Q3t7Gxa9/greWfwOpk0/EBMnTIqkfZkz6I/SGbWDpmw03fBmCK99cjX2De0TI/fS75jal1UGe4en9kXUb9uU84+ewTZD+XV3KX5x262YP/9ZpoTCT8Fc2n//Kbjn3r+4DI72hNDvVCqFVGooY6CU4vHHH8XLC19EKlWE1rZWLHzpRRx48MGYNfMgGIa0NjBXvyXFpZh10KH6dpAKNDQ04Dd3/pI/gvhqHzXTaG9rxegx43D1VddxvyxbGaoH1rgVTVgr2vUKzgvQ3t6OZ599CmvWrsE3Lv02LrzwEubjqiu/j9deexVvLFqEOSedxMo4cbmN6c6NKysr8Z3Lv4fKyirv8cDwrR+pKDW43276gPYJcWVX+2IxhNa+bOq3qBu8rcznrmG1L7sMYfV7z5y76secP0PYeZ8bb8STcaL9yLt27LMDA7eRwoU07YAITGzevAVPzHsSBMDRx8zGNddeg7y8AgDAsccdhx9c8T1s37Ed/3zkn+xkHLAWUHMOKAa1PfCVZZ98G4Z14m8fqTgGsSVMQoTnw4MYnEqlMGGdkBP7FiWhoLUdymbGYO0gHu3sXB31EEVmmGDkyJHYe9x4D9kBnLsN+GRK73F/8sl52L69AV/92gUYO24c81E3bAR+eM31uOnGH+KtNxcJJ+MJzqTIIL4AQc8g9Hy4kwSv5N5vQIS2dvu8OJgp2+8lyIDYFXS5nIEWzOAMd9UOf6hQ25pjIDIDn9dbdonms9jDnTHnz6DWY1gGCAzayCQG+QAof6aUIp02YRgEBjE4BuvXJAogYRi2Pzfirq40CLFu0yRcMCY10dLUDAqK4uISGIbY6KZpIm2mQSkFQRpd6TS6urpgGIaSl1KKtrZWtLd3IJVKobCwUGWg3EU+CwjNra0wnWdDiSHVM3/I8GkHttGtP5OaaG1pQUdHJ5KpFJKFhdLJvp9++/2Gaj0f3tLSAtNMo6ioGHn5+bYNEyBUy0ApRWtrCzo7OlFUXGz/SsZ5NU10daVhUktD0ukudKXTVlsb1gm+o32UWpPjlpYWlBQXo6CwQNWNAAYA6OzqQmtLCwgBiopLkDB0NW/bs322tbWiuLhEiJ9SCtM0QSlFXl4C0PhOd3WBEsL1T792cI4v/gxe2ufFIGuj1mqA9oXX7yxoH2JqX5b0O5r2UTFTBtqX7kqDpq0fBtrbOjz02yYh/FtZCKZOn4HCwgI20V/9yUqsXPExamoHYcb0mXDu1xs3YaLAYM09wjOYpomdO3di9aoVePaZp/Hss09ixMi9cPXV12H1JyvxtwcfwE9uuh6nnXEWDj74UAwfMcJaJ4MQYc7U1dWJ7dsb0NnR6aN9Vsw7du4UD+HQax84+yAEgwbVYtz4sdD3BseO2+ZgzG7+hm0NePXll3HA5ANwwUWXuAWNBC697FtYufJj/O1vf8XxJ56IBLv4YLcSZ4vyATo924fB+UwphUFMaDNE1G8nDnnu6lrwPwZprQYxIOTcNaT2xWIIrX1evjPXPt5WNO3bc+euQfM+OY7eM3d1UhCDeqzm56462qzdps7FyP/xTHzFfPbZJyCgKCwsxJw5JyEvv4AZGD1yFKZNm47n5z+H9evWWpNkIjaJJVxSDM4VUQJQU6kBJQ4KorztJ4jBKedkFk50nZaAtXI8ZQ8IaboJUTdBHmCeKyDYDU+5vB5dUscj34n/xuuvorx8APbbb7K1QAnLRzBt+nQMGjQEKz7+SAlVDd6KS9inZSDifmdE+A4rbotGiPSdXTblL5vyfrcYgXqlVfUht4PvgSaQQZfXu274zERgcPLrynL57HaSpdnXW+CEXs8QlHf1qhV46KEHMGH8RJx8yukoKk4xD/feczc2bt6EE06YgwNnHsROunc17sKvfvkzDB5ShzPPOgfV1VVob+/Aa6++jEWLXsPuxkaYoCgtLcOUKdMx+7jjUVhYiHQ6jfnPP4tFi16DmU6jtbUV/3z4Iby08AUMGTIUl172bRbX5k2b8NST87Bq9Qq0tbWhuLgIQ4cOw1FHHYPxEyZqgdevq8eT857Af9d8hnS6C4MHD8XRRx+DyQdM5fLGaAdKsXbtGjzx+KNYt24dOjrakSoqwn77T8acOSezxdW8k/6uAma7fi0ef/TfqF9XDzPdhQEDKnHs7OMwsKaW5ZHH3IfLl+G5557Blk2b0N7RgZLSUozZe2+ccda5KC4uBgA898zTePnVhViz5jOYAB79zyN4881F2GuvUfj6BRez2tiwfgMee+xf2LB+PZqam1FWWoZhw4fjzLPO4VaJJlLtiLXU2dmJxe+8jfkvPI/GnTsAABWVVZi0zz44bvaJSBWlBIYNGzbg8cf+g/Xr1qG1pRmlZQMwZtw4zJ17MgYMqMDGjZ/jX4/8A9u3bcOl3/oOBgt3HxG0NDfjtttuRUlJCc459zwMHzYihNz4M7i1qzaTsk/6RgTtjaZ97uYg/UbPaZ9SKJ5+95T27W7ahabmJoAAn29cjwkTJ3ozSPynnno6Tj31dLb357f+FCtXrEBlZRWuu+FGGEYC69bV469//QtuufkmUALU168NzdDe1oZXXn0Z77z1BjZt3oxVK1egcedOHH3scTj55NNQVVWNocOGYfjwkXj034/gwQfux9NPzcPovcdgxPDhOOyIozBlyjTbNsXGzzfgnt/fjc2bPweV25DadUNNUGKgs6sT6XQnQK2eFNgOcE/kg1vDzUUtB64RAGvXfobGXTtx9NHHSqUoBg0ajH333R8LF8xH486dqKysZHv1w8wEZRt9ktQ/rB94AjACtE9fwqtvid+i6YaajQC+c1c3f0QG/hxSiVr81pPaF8Tgr32qfd8Y9ZlDa1936rffoyZO5l45d+V8BuWVh63IrDLEX00dnHbC+UXZ+mWYOiPFBGt8+Tjq7AYFpk2fgSeefAaEAMWpIssGMQBKQQ2gvbMdBgWG1g2zVhml1L7t3LZF3Td4O1dPqNMilBtHBIDzSxWB9Ii7FbvJitlBcieGegbKiaXV2QmFFTvHQEHtK9HEvqWeui+KtyuCulaUQeOlZ1Z41L4LnjBh6+zsxKLXXxEY6teukd507t5g7thetWoVSstKMXBgDeReWphMYfiw4di0aZNghQku1x8c+28seh1XfO87bB8bsMTAddfdgJUrV2BbQwMSFFixeiWam5pgULmjOoWldoDHNrWgUy1cPo2S2z6oPeh1w1hd1dfKw6RDGGu6g12uGOytvgz8t6gM6o1Efgxeh3qFQXeQ4RjKBlTiuWefRv3aNTjs8CNQVFwHCmDXrkb87e8PoqOjE2Xl5ZgydToKCvIBEHz44VI89/wzOOigQ5EwEjBNij//6Y/4x8MPor2jw3olIayHThYufBEbNqzHBRdejETCwMcff4Tnn38GoEC7aeL9998DCMW4sRPZyXhzSwvuvPOXePmVhUAXBaVpUIMgjxh4Yf6zuOqH12PmgQexlyiYIOhob8Udv/4F3nxjEahpIk2s1xo+Oe8x/Oa392C//fcX6wBCVajtwFXy7qYm/PhHN2Dlyo8BMw0Ka/GQV195CUuWLMHNN9/CfrWXatqjHdxMrW2t+NmtP8GSpR+AmibLsnDBfMw99Qw7TrHggheew09uuRkdrW0w7Wd6CKVY+GIC77z7Nn76059jQEUFPv5oOV5+8UXGuWTpEixdugRTp05lJ+PvvvM2rr76CrS1tsGkpq3fJoyEgRdffAF33XUPamprWbzKDM2uwDcWvY5bfvpjaxEl++IBIQTPPvcUli5Zgu9dcSW7aLHkg/dx4/VXYev27UDaZHfqLHxxPl5/9WXc9Yd7UVhYiJUrP8b7776DfffdD2ecfa57LASwePE7eO7Zp7HvPvshkUj46refbvAMudc+CAx67VN99A3t4xmyo30uoJ/2+TBwGXfu3Indu3aBmARr1/xXage1RnSDlYJgw/p1ePLpJwACrF7xEZ5/7lkcf8IcbN/egGeengfalWbaJ8wFfBjy8vKw6uOP8ORTTyCRyMPhhx2Js879EsaPm4BPP/kEN9xwNUqKS/GHP/4JU6dOw9IlS/Dw3x7A2++8jTffXISjjpnNO0JzSwtWrV6BhoYGzD7uBG4PhQni3vFIAJgUEydOQu3gwUilUmIbsbpwxpB4Es4zfPThh9i2dTOb9y1fvhRdpvUKOGsuRyDcWE+tC3IEwKAhQ6TaJkgWFaGquhoUwKaNG9nJOIE9h+S6pDPv27p1C266/hrkFxZadWzfD0tBcNZZZ6MoVYT169bCBMHOHTuwe/duFBQWiH2N41b1O6RusEj9x5xTleF1w22HYN3oHu2LzhBF+3qbfvf83DW09kXWb1dzu3fuqpYJnLtySTfmvBjinYxTl9N9bhoA9wy12Eu5KyEmtWKm7pjNz8tDfmmpgO781L10yRK8+frroAQ45NDD2XZQl5tSYr9yjNrbDS4D1xAmQAw7RhPCuTaFfYLuBED4iiXWJJDoGBzlleMyWD5Qu56cX/SdVc2dvATCrezMJ1cj4vMj7vgmBO5K8vbVBQrrnaS33HKzYLG9tV084ICIBw5qYvv2ragbOgypohTnyMptECBVXIyGT1aLsRA7GCr2TQoDnZ3t2LplC+zWcfsBAbZv34EnHn8MS5a8D8D69aqtvc2tJ74enL7E9T1+wBFO8PjY5DKEHQA1A8rO790OzjcqfdJMmjyFJ1cMYj15MjA7uWVQn3eClkErnhzDoNpajB07AfVr69HQ0IAhQ+tAKLBsyRKku7oAUHy4bBna2tpQUGDdyfHWW2+BgGD4sGEoH1COTZs24eG/PYhkKoWLLv4mps+YgWQyhRdfeAEPPXAfnnn6SRxzzGyM3ntvfP2Ci3HKqWfga185G4WFhbjsm9/FjBkzkUxZJ7Md7R2467d3YOGCFzBi+Eicdc6XMXHSJNTXr8W8xx7F4vfewZ//9L8YO2YcqqqrQWBNfDdu3IiiVBGuvuYGTJ02Hevq63H/fffi/7N33nFaFPcf/8xznWvcHXAg7ehFBBvFAoI9FmyJSUzsJYkx0VhiNBhLYhJ7TazJL4nGGhuxlyhFsCG9NxEErh9cL8/O74/dnZ2ZndnylLvn8Ob1gnt2d+b7/b6nfHa2r1yxHHfc8Qf87e9PISs7291yclvz24n5gqM5c36DDRvW4eCDJ+PMs76H/QYOxJdLluDZZ/6FxR/Px/PP/hs/POdcZGRmuNtB7iJcO7S1t+GOP9+O5cuWYvCQoTj7++dg//0nYMc32/HsM0/hhWefEbUPQN2ePbjt1ltBqYFTTj0N3znpZPTtW4ovly7Bk088ihXLl+OD99/DWd87GxdechmOOf5EPHjfPVi7ZhV+dsUvMWPGLGTn5AAAmhqb8OgjD6OluRnTph2O7373+xg+ciTWb1iPfzz5BNatX4N//ev/cO2117O+5AwhB3DdunX48+2/R1trC04+5TQce8xxyMnphU8/XYyXXnwBb74xF5MmTcJpp5+FlpYWvPDic6iorMahh0zGL391Dfr27YflS7/Ek397DMuWL8Vbb/wXp5x6GiZMmISlXy7BvPnzcMppZ7ATHkbUwPvvvw9CCEaNGYvS0v5q3eDHENcOXad9arUTl7qx9iWSwV701T49A5uWGAbWrlmD8vJyUELxySeLceZZ32efsxJ9uyfa9lyionw3/nDbzUhPS8dJ3zkFK1Ysw+2334rm5mYcc8xxeG3uO3ZuvPXmm/jrw/cHYkhLT8fZ5/wYR806FkOHDkV+QQHsByvNR2OaESHpICSCrKxsTJ4yFZOnTMXePXuxdetmTJx4oLJFBg4ahBtuvEmicSftNkVfYt2Iv1uHAnPnvoIP3n/Pag6KtvZ2wLAvHJk4lJ0BMP/U1dUiNzcfvXJ6uQJJT0tDdnYWAIqamiq2mcK6/Z9ra4OY66MdHaiqqkJ6Bj/tJogQgtqaWnyybhHee89sI2pQ1DfsRUlWHzifynJz8/qt0j71mLNjs387k0p2wCYxiPsgIXwxDteS3ZdCaF8ghmC6oWVIiPap6+PbPHcNqn2x6Lerv3YxAxQ2WH6NmnkxxHYwLrBxQWnU1Hn/J3XVi1fBNatX4847/4y29naMGDESs2efBjaunR9w3cdDOPHiH0C2RNdxyYsEFVdLBIToGDiDwotT5Hxct1AyKKsAro1ymyuyEQDZOTm48cabmX0K4O03X8f8+R9pzRNEUNi7N9o7OtDa0upyTal5y1pRYW9pG/dMLG+TUBx88GT8+voblFT5+QX40bnn49TZp4FSYOPG9Xj2mac9urLCh/DbXU/u39Lw1Djymhzw/UbIIxVKSQbWPQlTBq+ulxAGqsonWfYIYtbRx+CxRx/Gli2bccDESaCgWPLF56AGxYiRI7Fp00ZUVVWioKAAra2tWLliGbJzcjBh4oGIRCJoa2vDT372cwwcOAjTZ8xk36q9+JJLsX79any8cAF27d6JkaNGoaioCIWFhaY4pqWjf//+GFpWxmJZunQJXn35Pygt7Y8rr74Whx9+JADzkznTph6Gm+bcgMrKcuwu34WSPuYt1BQUGRkZuOSyn2HGUTMRiUQwaNBgGIaBm2+6Ac3NTSgv342hQ8vc8HJbS+mdd97EZ58swuixY3H1Nb/G8BEjAABjxozFgAH9ccNvrsXChfNw4kkno599W3nABt+0aSPeeesN9OnbD1f88ipMn34UCCEYN348DjhgIn7zm2uxbs1qOGcDCdrbWnHpZZchv6AQRx45A8UlJQDMiffX27bh30//A1u2bEZ7ezuKiooAADm9ckAB9CsV67q9ox2zZ5+B444/AYcffiQGDxkKAOhf2h91NTW49+5NWLd2LZpbWpBjHcDL3a8j2oE/3X4r6vbU4sSTTsbVV1/HbpM/8KCD0K+0FM88/U+sX7cOFBR1dbWosk4envndszF6tPnejBkzZ6G4Tx+sWrkCffv2AyEEs44+Bs898xR27d6JbV9txegxYwEAu8t3Yf361cjOzsaRR85Aerq9m+UmFrp2UE1SFW2T0tq3LzB4lU8Qg51aWlrw7rtvIzMzE8OGD8fWLZvxxeef4phjjwcR8nJzCv6WU0qxfNlS/OP//oZVK1fgO6ecist//kss/fJL3H/f3Xjkrw9h08aNOObY4zFx0iSkp6cjPz8PyrmHgmHNmtWorjYPOGvraoTYt23diubmZjQ3NWPBgnnKil+4cD6GDinD4CFDhPVE1w5SCtsOVL4VlwCzZ5+OqVOnsVXLly/DC88/42Sx5it8ys8vQEtrM1rb3HOhqGGgra0dBAQFhfw3wLmXADPDpum+/frhlt//kbul3Um5uXkYPXoMpkwzY6yvr8dfH3rAskj0fUlerdrm2V/NH/ZXjZTjSrsP8h5loqEA2ue1LcCYsxnU+YLphnciil/o0T72O8kMCu1LpG7Eqt+yI2qdlvP0rWCI+co4u22Dcrdpi8e1zLt94wH7Rjisg2J2xSwiCCEBwbavt+Gvj/wFO7ZvR3FREc4//0L069uX239wV+RZBVgL9lVvCoAYoDTC/POxUmLfEMEidCqMiigsOnklsTIaEakssW5DslZLx+kgcO4qYA5UZ8dsOsJsSLtn5pY/8ZCRkYFZRx8DPq1dsxpk/kdivxL3HBg1cgzWbViDOnuny8UR7ejArt27MaB/f8EuO1svMRAKFOTno1/fUti3n8gMEydOYiVycrLx8kv/0XVjd7UIodt9yTQuVZ/QX5VqKRVwnR2z2pq9W0CyoVjlw6Bqa/GoNWEMwnb+GSAFQ7DgfRn48+GMKzSDmSZPmYrHHn0Yy5ctw2mnnYn6+r3YtGUjKCU455zzcMef/4DPP/8Ew4ePwM6d36C2thbZWdmYYH0mq6ysDGXcQR7PUFraH9QwUFtbIzLYt0tR8YrA4o8/hgGKcePMA1I+9S4qwu9v/zNaW1tQaE3QbGXJyMzA5ClTzReTWe0wYuRIZGVmo7W1FVVVVc7BuLBz19cTBcX8BfMAQjF+3P4YNny4oy2E4KiZs9CvtD+2f70DDQ0NzsF4kHYAsHHDelBEMGLkKBx44EHCRKd/6QCcesps82CcqSjQt28//OjcC9wMgPmNYErR0FiP9vZ2ZKRnMFzzBlWxfQoLCzH79NMd3WAmCYp6FwGRCFpamtDU1MgOxuW0e9cubN36FfILCjBz5tHsQNz2c+opp+Lww49ARnoGCAiys3OQm5eLCAj+9c+/o3eR+f6M9LQ0TJw4SXhx5ahRozFm7DisXbcGa9autV54SbBm9WpUV1ajd2ERDj74ENYLdPot1L7HAIxV+4L0pTDap/wWvW7ionQl6UYAhpTQb043KP+Smjj1e+5rr2Dd2tU44fjv4OwfnIMLzv8RXnjhOUyZOs18ARrvB/yHzQiqq6twz11/wvKly1FTV4PTzzgLV1xxJXLz8nDUzFkYMnQo7vjTH/Dqq//Bki8+wz/+9QzS09OlSN0MvH6//NLzmD9vHpszAUCEUhgkDdGOdrS0NMOgBn5/600gFDCIbdm8RzGSno7zzrsIPzznx86cCcC2r7bhpptuZM4JdS7bEGuuxn/7+5RTZmPq1MO890GMhQpNP37/CRi//wTWDtGogf+88KzQT6jQhsB++w1CR0cHKisrICQKtLY0o66uFqAR7MfeFwEQRMx9BjfmzOqgSE9LR79+/VBcXKJkGD1mjHnyjwDV1VX4+98eRWtLm9g8XKwBpxvq/TprBzMI13uYAukG0bdDwLlrYhjMWGJj0BTQap+CIZT2SSsgMqSs9gmu9PO+rpq7hgjel8F9L0c4BkexVNv1DDFfGWdmuNsDAbDPfokRsP0IVw6wb163n/Ux8xDU1FXjkb8+jFUrVyArKws/Ovc8TJ8xHcR+8zcTTj4k7p5+TsBB02wvICw2wnwKEdqjzcpHnaAEHLbaZqAcg2FuoBHKF+Ea26o852tnrBqFihP4CB82N8AgMrBbRuURLZp0dxTC/hx40EH4eMF8LFu6FAcdfCi7ikgBrFy5Atu+2oLDDjvMMWTXEwvGcUo5uwIDXzEyA6jzuTkPBvcKIv7hy3IDhMiDyM4n1bfrp8Qglyfiojp4waSqrcX8CWMQVsXJIFSznoGFzTo/ceuGL4OZSkv7Y9SoMVi65HMY1MDOnTtRvms3Jk+biv0nHIAhQ8rw/rvv4+yzz8FXX21FQ8NeDC0bjv77DTQNU2D7ju1YvOhjLF70Mb75Zgdqa2vR0FAPUOvFOtyJM1OqI+ZjKURsh292fYMIzJd/5eXZj9Y4Y06+tZRYUMVFfZwDQasBcnJyQNIAalAY0airDpy2VrdDS1MLmhobQCjw+utz8b8P3geF81VdCoK9e2tBAFRXVWH48BGutnbdv8i52rB+PQADRb2LkJ8nvQSOAKNGjYFTQewP9uzdg8WLFmLxoo+xcdNG1FRXo6FhLzo6OkRN5fpSRKN9jY2N+OKLz/HJoo+xds0aVFZVoL6+AW1tLSxqUWlFhtraWlAaRUFBAUpLpZOIBEjPyBTWFxYW4vjjT8KmjRuwYcM6XP7TS1BS0geHHXYEjj72OIwbNx5FRcUABdLS0vDDH52LG66/BmtWr8CJJ34kS4JMAAAgAElEQVQHaWlpWL1qBeob6nHehRexW+799NtJ/vrtXuGtfcxqgrTPS7/j1r5U1m++vyqvwPnrt/nb/GUYBj75dDEeuPduFPcpwcmzT8fYceNxxpln4fW5r+Keu+7AddffiLy8PM6GyFCQX4iW5jb06dcHv77hRhw5fQYiac60buiQobjz7vvxv/ffw6DBg5Flfcs6QqwvTUS4iwjcD16/TzzxFOy//0QIczm5nvRNjkgkgv33P4AVSk/PRElJH7S1t+GzxYuwZ+8eFOb3RlYv570WjY1NaGyoR0FhAbKzcgBCMG3qYUKsur5k9pGIwOBuB/4CjPmIIjFEgCFDhyArKwvzP/oQp5xymvO5NgLs3r0ba1avRnGfEuclkhTmyQpubsnv54Q5q+9+FOYEUR4PidANtlIx5uzlELrhyQD/uWvCGVJB+3rmrolhEFbpGdyLCZq7eui3q60lk+r21jMk7G3q6jaxm0BcptJacMu7d+/CQw/dj8WLF6GgoADnnXsBzjj9TBBiXd2mUgHOprOaP3vMnR0QRpIiUSmfdSBBBHuquM3adF7aTtmVHMGt1RDOM/Yao15JEhr7JwGwp24Pyssr0NbWan4GqLERlVWVaGpsxAknfsez3u108qmn4bln/433P3gXU6ZOw8RJ5vNeW7dsxhOP/xW9exfhsMOnu2Jws1BlvXV0dKCtrQ1NTY2or69HTU01Ro0eg4L8AoeFyhMEXfKYAejGc6CV3qb15fkzekEK+ziKhYE3FxOD2F9jSYJbvzGnciXFnZeXizFjxuL111/Dtm1fYdu2r1BesRsXXXwp+vTtiyFDhuCD/72PiopybNm8CQ0NDTj++BOZ4VWrVuCuO/+EDevXYmjZMJT274/hw4cjKysba9asxvbt0puFAdivN2LnEqzU3t4GQggypOf+XAwStfn5KxUesSZw7vJCOyja0jCi5oE8gH4lJRg/fjyAiKh+hoFIJGK9A0Ido46hubkZEULMZ/EV5dLS0yC0KzHf0vzAvXfh40UL0bdfPwwZNASDBg5EVlY2duz4GmvXrgVV6IIBd6qsqsSTjz+C1159GfkFBRg2bDjGjR+PrKxs1FRXY8WKZVK1uRkMwwABAYlEEImkwSvZk4XjTzgRpaWlWLRoITZt2oDt27bhjddfw9tvv4mDDjwIV159HUaOHAUAOPzwI9G/dACWLlmC+vp6EEKwavVK5OXm4jvfOdntxFce9H1JEa2nCZ9VPdrnMhqcIdCu28NER0cHPv1kMe699y6kZaThe9/7AQ444ACAAueffxF279qN9959GyQSwbnnno/hI0bYh42CnYzMDPz2d7cAlLLHYnbt2oV1a1bj6+1fo6G+Hg2NDYgQgl3lO7Fu3VoMGjQYRUXFOP/CS9lbzmU2Xr8PnTwFh06ewra3t7dj185vUFlZiaamJjQ3NyEtPR25vXLRK7cX+vffD/369dPW25AhQ3DLrbejI9qBefM+xMMP3odzL7gQR82cxfK98/ab+NsTj+L88y/BjBkzAUJQVCQ/Q6/2QAE0tzShorwc7e3taG1rRXNTE2pqalBZWYHJU6bZaGDCax9Ic6lfv1IcOf0ofPThh/jv3Fdx8imzkZ6ejqbmJrz4wnPYvn0brrzqWhD+k5eKjsHqU7qCFI0a6OhoQ1NTMxoazLlQ78Ii9qgO5VUxZt0INhBM7dNaDbAyQEqY9qlTpzAoyyt0o0e/g6zqJnNXH+ea4yDVsZZXHcR+MC5YpsIGdsWbO/coHzTzF6/tA9SKqgo8+MC9WLT4Y+TlFeDCiy7G7NmnI2JPZPl5H7EPzKXTbaCSKJqx2G8PjbBydhH79JD5V3jcXHDqXmOuciTdPu53SLmqJ1ZJ9pIQ6jAE2LPLlPwG28Q//vEEXnzxORgdUbRHOxBta0NDUyPa2toxffoM8cjCDkPaARUVFuEH5/wYTzz6F9x6y29xyCFTkJOTg88//xTbtm3Fd046FeOt23+F81CuXmbeqvXpJ4tw3TVXobGxAR3RKGAY6IhG0d7RhraWVjQ1N+F3N9+OyVMmW3aoBlSVNBmsaiZSjEIGv1GvN63e5OdGm0IwuMacgoE3F4pB08OCiqLKrcCgsheAAUB2dg5GjhqF9PR0LFw4H3W1dTCiBo444kjk9srFqDFjsGD+R5j30f/w9bavYRgGZhw1k5X/1z/+jvXr1+HEE0/C+Rdegvz8AmRkZCA9PR333nMXtm/f5hqC7EYiKkbZv/8AGBSoqalBc3MzevXKgV9fEh6BUeQWh6B2pLtSdk6OeXs1ITh08lT88sqrxRIEMAyKCDHf/isFBdelColh5OhRoG9S1NbWWqyijR3bd7jC/t/77+HjRQswYsRo/Oqa6zB0SBkyMzORlp6OV/7zItauXcukx53EtSuXLcf/PngfvXJz8dvf3oKx48YjOzsL6WlmP1i7Zg3E07BuhsLCQhBC0FjfgOrqKozCaG192jdGRSIRHHTwwZg46UDs2VOHPXv2YNXK5XjuuX/jiy8+w18fehD3PvAgAIKsrCwcd/yJ+PfT/8T69WtRkF+I9evWYtbRx6JPn75y9biTqh16tK+LtC/Yal8nVlkv7Xv33TfxyMMPoaqqGpf/4hc488yzkZlpXhku7T8Av7zyV7i9vh7vvfsmKDVwzbXXmyeTKPcmd8teSUkJAPOlX2+99V88/fS/UFlZgYaGehQXFqOgqAgE5vsQamtrkZ+Xj9LS/jjzu2dj4qSDlFQ6FVq+bBmefur/8PX2bWhqakR7Wzva26OIRIDMjExkZGYgNy8fEydMwnfP/gFGjBzpsp2ZmYUB+5m3dpcUm++U6NunDwYPHsy8lpYOACVASZ8+GDx4SOh90PKlS/GrX10BGjXMuVBHO5qbmtDQ2IhfXX09CgrynTkZOL3nbGRnZ+Okk2dj+bJleOD+u7FgwTwMGzYcy5d/iTWr1+CAiZNw9DHHesyFuUSBqspK3HbLTQABmpuaQal5R1RbRzvaWtvQ3NyEo489DldeeY0VkROTat7np99wEekT8dUN/Wq/FEr74nAUjiGcj2Da16PfdtmeuavetroLxvOdcXnWZx/oEVgHu2blGCCIEMM56CQEgCG8PZwSAw0NjXjy8cexaPEipKdn4IfnnIPTZp8BkhZh+kYoYESI+YZKg1hnwShADPAvETLfYu6QmluskwTOfZLmp4eo/eZ1DshioNYb1B0GomCgFoNzEoIyr6akOp8/IxaDuZUxEMW1Imqvt290NVe6nqUgQHFRCcaNnwACICsrC70Li1BY3BtFvYsxZGgZhg4dgrz8QpCIFZ0dJJW4QQFCcPbZP0RLcwtefOFZvPvuWyDUfO5r1jHH49rrbkB2VrZV04T7vrsYf3paOnJzcrG3vg5Lvvzcuq2PgETMG8jyC3qjrKwMI0eNRv8BpU6HYq+056Iyw7J8SoPbNWjMzM6ysMXpEaycx9f/7DgU7eAadQR8dK4UjgH2UBIZiMTAIhE9xsZA2F95CwvTh0G8r8dhEJpThgzAQEAwatQYFBUV4b333kV2ZiYOPvhQ5OblgRCCSRMPRFZ2Dt5843VQamDMmHHoZ9163N7ejo8XzkdOr16YdfSxKCsbzhja21qx5ItPnVgYg5na2trQ1NIoRHbooZMx95X/YOvmLfjmmx0YNWo0i9eIGvjLww9i1cqVuOIXv8ABkw6CPdgI98IIvh3s91bE0g5paWk4YNIBWLb8S1RXVYJSAwUFvVk7GIaBr7/+CtQwMHDQYAjnXonoy9UmFBg9agwMADt2bMOO7V9j9OixbC/S3tGBDz5414mMmFd6VqxYBoBg0oEH4dBDp7CYOzo68OWSz83hzfYRtktzYe/ePcwchYEtX21Gff1eHHDAJMycNYvFZhgGNm3aiI72VkQQEfS2va0dUSNqvdmcYPCgwSjoXYya6nLrs2mT2VvlKYCN69fj/vvuxvARw3DtdTeirbUVNTXVIISgb1/z+c6i4hIMGzYc0aiB++6+A8tWLkVbexsy0rNACHD4kdPx0kvP492330L/AQPQ0RHFCSec5Gprf91QTDOSrX2Wfbdjp21SUvs4BjnsztE+zoEKXGaSGFqazTvXrr3+Bpx11vekfATDho/AXx55HHf8+Y84/IgjkJ9fYH2HnDoM0sOqCxfOwwP33Yu2jjbMnn0mfvDDczCg/36sfikFdu/eieeeewZzX3sJjz7yMEpK+pgnLiX9VinDgvnzcP21VyEjMxMTJk7CjBlHoWzoMOTk5gKgqK2pxarVK/HWG3Px2n9fweo1K/HnO+/FfgMGmuyUIsp9HhGgoIZ5BSNqGIhGo3ZtI2oYAAWMaBTRjg7rjm3zPTzOCxHdk+/c3DyMGTMOe/fUISMjAwUF+ejduxi9i4qw334DMXRoGUaPGYPFixcLGsTeqs5bJQRHHHEEfnPjHNz2uzlY8sXn+PyzTxBJS8PIUaMw56ZbUWp/VpFrB3kukRZJQ69euWhqa8XKlcsBRKx5n3lxCIhg5MhRGDFqKg49ZAqcKCw7rn0EC1DRSo5+a8cc+OdWrUh9dUNcFnXD3Q5hdEPwyebXydA+fjkZ2tcF+s3l6pm7Jn7uKiQZ0oPBDaRgkPQ7IbepC1cnqLPWdkrZ7d/2NSLxhoimpjY89ugjePfdtwEAOTk5KC4pwQcfvu86cXbIIVNQVNQbhBjmCxso4D6g5JqdwnqG3DZC+ZyQqs5cslYREpyBHdTLdUOo+Sp82xKBtWzZZ4IkDxBVM6uGCjB9xlGYPuMo5TYhFvk2fFcyN2RmZuLiiy/DqbNPw5YtW9DR0YZhZcPN77xLb0M0Xxng3lkcOnkKHv7rY+iIRpGelo7MzExkZGUiMyMDWVlZSEtzdz27rgWNhtNnBc9c5avryC0tOsFQDWtxQX7zpGqkepWH1J4eDC418u4BqjASzeCY8GLgYlUqqj75M1CUlZWhqKgYG9atRUZ6Oi657Kewvww7avQY5OXnY/36dYhEIrjgoothf34iIyMDY/efgHVr12DZ0i8xaPBg9O5djKrKCrz88n9QvnsXF74ZeCRCUJCXj+raGnz+6acYMXwkiktKUFxcgqnTDsf+Eydh5YrlePzRv+DH516AfqWlaGxoxMIF8/DMv/+JoUPLuM9ZWb2avUNCagfDPFnnzOu513vwswVFOwDACSeegg8++ABLlnyOf/z9SZzwnZNQUtwHDY2NWPzxAjz44L0YNmwE7r73AQwcOMi3LZgLYtbr2DHjsH79Wjzx+KP48Xnno2/ffmior8fbb7+FBfM+tPYzZixpaRGUDRuORYsWYuvWzVixYhkGDRqMvXv3Yv68D7Fi1XLhtRYAkJWZhcwM87u7CxZ8hImTDkTfPn1QVFyCAf0HIDenF8orduPzzz7D0GHD0N7ahqXLvsT/PngPHYbBneg0ny//25OPYeuWzTjnR+dh8pSpSEtPx+WX/xz33H0H/vPicygt7YeJEw9CVlYmdu7ciXvu/jO2ffUVph12OADgq61bMOe312P79q9x1a+uw8yZRyM/Px81dbVYvXoV2qMdmHbodGRmOM+3Dho0COPHT8BHH/4PxSXFGDNmDIYNG+Zua73wanUjNu0zk/ZVMbz26ULS6UYMDIG1T0jB9ds/hiRpn7TNHbae4aSTT8WEAyairGyYNoasrCzc9LtbzHXWJJ2dK5QYDMPAypXLsbdhL7773e/jyquuZs848wwDBuyHK6+8GtH2Drz80vNYv36t+Zx5hJuDKBii0SieeeYpZGRn4pJLforv/+BH7FOSfDpq5ixccP5FuPPOP+Kdt9/EurVrsN9++wEgKC/fjVdffgn8PmHz5k0AKN5/7x18ve0rhrZpwwYQAP/74D18ve0rYd586WU/RXp6hqtuQShGjx6D+x942Lcd7HmGo8rOgjgvIDjyyBl46bU3sHnzJtTW1mDgwEEYOrTMPOHnMm0/hunMiUr798d9D/4VHdEORCIRZFhzoMzMTGRkZiIzI1Mozzyzz/jqx5wuqXXDtu09poPsg0TdUI+HoLqhy+bJ0E20r2fuqrGvWNbHEILBZ86kZgiu357xKhk0Y05ioIj5yrjqTJgdCIEjSHKKsC32mw8pBb7ZsR3/fX0uE8eGhgbcfecdcD2tTYB7730QxUW9QUGEM5tCXtsQsQ+audvjYR2cU+oOkKmzU8aTAcS5ykMNUPNj56ItKgZk377ONruc6DpGYhI/3AG9IJEIQWlpf+vMr1xKSq6dBUV2djYGDhrkHjgeb29m1gMye1eP4BQig6KUYqeqb4egDcPtWDX5hTN1cthhGTz8J5+BS0lgKCouwYgRo7Bx4wZk5WRj9OixrBvl5xdg8uSpeP2/rwCI4JCDJ8N5Dobg/AsuxC2/uwmvvvISPvvsExTkF6Kmtho1NTU4+KBDsWTpF6LOADj1tDPxz388iffefwdr1q7G+HHjMed3tyE/Pw+/nXML/viHW7FgwTxs3LgBJX36oKmpCd9s34HC/AKc/f1zUGy91If4sNpXZJzakvfk0tlIO4+1OHLkKMyZcytuu3UOXnrpBXy8aAGKCovQ1NKELVu2Ij8vD9//wTnOm9RDpMLCQtx0822Yc+P1WLDgI2zatAFFRcVoamzEjh3bMWPm0fh4wXyhzLHHnYA33piLlSuW47abb0LfUvPgvbKqEmPGjsOXS5aA3YBJzc+ajRk3Dp99shhffvkFbprzGxx66GRcd92NmDjpIAwdNhzr1q7G72/7HfoPGIBoWzt2V5Sjb79+qKysMC1ZVbZnbx1ee/VlNDU2mn1iylQAwAknnoSqyir87W+P4oH778GA/QYiKzMTlZWVqKquxEEHH4pZs8wvTwwZWobpM2biheefweOP/QXvv/cOcnNzsWdvHbZs3oxBgwfjoosv5RsQxcUl2H/CRCxfuhS7du/EEUdON5/fTYJ+c259TbvfCZsA7fPQb53RwLohpBTXbyrnUITtwZCdnc0+m+fln73wiB2XEUW7wnqPRQbSSATV1dVoamq0XjDpZmhuakJVdRXS0tKRlZ3lbk8FAyEEbW2tMN9aHfHsAmnp6db7MIn1Algzc11tLd54Yy57V6Y9F+rTpx82bNiAjRs3gFLnDsOSPn2xfv1arFu/BsT6Ik56ZiYuvvgn/g9Y+rSDPXcT21HXU4H8/HwceKD7ln5XD7A0m78+TgjBwEEDxXxeXdCKySAR63SzZt4VOmmufkpjWuhfmn0QCyvwmEtU0l/BFXN1pfb5p26tfUKOFJu7es2ZvL24w46HgTqe1UUk/UYMV8YptXcQzlGnDWoeV1JWH84nw6yqYW81i4Aa1lFohKAj2gFYV5YpNRABzFuW2HPcBDCvgcCehwLmcV6EUlDriXB22wa1rtUahpmfgD37aZoyAGI9RU4A0Ij1qQ7ugJkh8g0qMZj3sgOEWFfp7V0MRcR+tosYACIAjcC6Yd2qJ9sehCvwTgMRpf55tYMFD7dg2bsaCP/MuKAUGcc+HwRhPzmvMITbqHwY+LeLqvoSJaDcy7PUdh0etggvofRnMM8ZaHY6IRl07aBrEyeYOBkQgMH2kQwG05iCwR0l70PQCA1DJBLBtMOOxNtvvoFB+w0yT/Rwfo47/gS8MfcVlJWVYcCAAYK/6dNn4pbbbsddd/3RvBJDgJHDR+Keex7EJ58sxJdLv7CuIjkMl/7kZ8jplYMXX3geWzdt5l7YRlBWVoYb59yMhx64H4sXzsPu8p2glGDMmLG47CeX44gjpjsnZwmQJr/wzWqHSCSCNEIQpQSRtAjXDnxNu2sFEPvrQQcfhNt+/0fcfdcd2LRhHb7GdhBqYNz+E/Cra67DhAkTmV2vtqZiSwKgGDFiJObcdCvuuvOPWL9hLXbv2onCwiJc9+sbsf+ECVi0aCHSIs5nIcaNG4+nnnoO1//6Gqxdtwo7dm5HYX4RLv/5FUhLS8eSJV9YDgi71e7ccy9CYX4Bnnr6X9j21Vb0KekDEGDwoEG4+94HccvNN+DzTz9DZXkFEAHOv+BijB07Hrfe8luAWDwUKMwvwJSp0/Dxxx9j9umnM4ZIJIKzf/AD5OXn4aGH7sXmTRtBQJCfV4DTTj0Dl//iKhQUmC+QzMnJwc+vuBIjho/A448/ilWrlwMgyEjPwtGzjsZPf34l+g8YIOh3WloE0w47DK+98gJ60RxMnjKNPf+bSP3mf/tpXxj97lrt0zOog0gNBmJ/QYAvE5ohmPYJGSi13qviZphx1Ey89tpL+PDD97Bj+9c486zvYuLEg1BY1BuEUNTV7sHyFcvw0gvPYfPmTRhQWoppUw8X3wyvOeCIRCI497yL8JtfX4W//OV+fPrJYhx99LEYNmI48vILEO3oQG1tNVauWIH/vvoyKqurMHr0aIwZM5bZGDN2HF597S2f8SDXtHtNJC2NWyPNNzwYxLaW+iDMGaZzXUEzcO1Nuv2oOemDdPkHdsuyNdr+StgqeyYk3FAes24INRRgLqDqr+EZEqt9HgxK+6mhG7HotzqI1NA+17yvs7TPs7/yNeK26MtgGksQg7N/CMNAqPDBzOCJazNUVu5GWlo6cnOyheo0YanzPnPuQ9989QmVRAFEKJgqCmXMUsyC/cYGcK9Lo3C+7SPFa652PPMMgkkpPgIoGWT74F2TIAym0b17G5FfUIDs7ByHQSVicj0RBYNH+uKLz7Fm9SrMnn0GIhGCOXN+gx3bt+HlV99U++CXPHz8/PLL8NXWrbj5lt9j8tRpMTN88cVnuOWW32L06LG4976HlL6EdkYAHwEZtD4CMsRkP6gPfl3SGBQq72OfZfPxUVGxG/n5BcjJ6ZVwBjEGbwZKKaqqqkAIUFRUbE3qvH20d7Qj2t6O9Iws9kZ02xUFRWNjAxoaGlBYUIgc+SVpIRnWrV2L6poqBZy4K7A35WTnYOy48cjp1ctcb1DU1dehubEJBQWFyM3LhX2CcueO7fjKug3UHZzbByER7D/hABQUFIDCvA22rroWHdF2FJUUC7dWqtqBgqB+z140NjWiT58SZGS4b2mVQzGiUbS1tiEzOxNp0pvPm5qasHfvHhQVlSArK9MJX2KghoGoYXDPlYqoHR1R1NZUIxKJoKioiPUBd3VQUArs3VuPlpZm9CkpQVq697nrWHQj5vGAAD46SftiYgjqo7P1G/4+KExNK8gvQE52r07T74aGBtx4w7XYsnkz/vvme0r9Xrd2LZ5/9t/YsHEd6upq0drciuaWJgBAZlYOsnOyUVJUgv0GDcJlP/mZ+VWAEPugxYsX483X52Lz5o1obGxAa2sr2lpaQCME2ZlZyMrJQVFRMcqGluG8Cy7CsGHDE6bf/uWDMVAA27ZuxcIF8zDpwIMwfv8JuO/uO/Gfl1/AXx5+DIdwb44Puw96/3/vYs4Nv8b1N9yE008/kzvB4M0h+6iursJPLr0QrW2tePzJf2JA/wHuMgnSDffqFNaNfUH7UoyB/dbEFKi8Lg+/LmkMnacbQRja29tQU1uDkuI+SE9LD6x9IQ/G1ZFUVpYjLS2C3JwchDDGgpHLiF6kHKoCPnbZcTEBnO+KAfyVe7tAQPMJZdhb34CCgkJkZ+e4bKs7pr5HBOzvaG9vxxdffIamxkYcc+zxysJBbX2yeBFqa2tx6OTJ6NvX/UmToAxVlZX44ovP0LuoCNOmHR7AsyJpR1Fs5lwmEtwOgQsnkkFYSIBhH2flPhPXGM12KkPSzHIMV1/1SyxatICTB+dxGQIIt1UCwMCBg3Dn3fdjxAjxjcUqZ//3tyfw2GMPW5bUdomTHSQSwV/++gQOOviQEAzKxZhTV465fYEhfoOSiX2BQViInaGifDfyC8wTjIEKJ4DB3Gd/iob6Bhx33Ilaho6ODuzY/jV2V5Sjqb4B9Y0NIAByevVCXl4eBvQfgEGDh7hOWAVlaG1txc5vdqCurg6NTU1obmoEiaShV04OcnNzUdp/APr16+d8l1tnVmqHhMtt0P5KKVatXIHNWzZh+vSjnO+Gx2B2566d+GzxIhx48MEoKxsec+gtLS1YMP8jRKNRHHXULOtEb+fs5/YF7dsXGOI3KJkIchQar8sU0e/EOfNYp0nt7W2oralBcUkfQWP9GGK+Ms6nyspypEUi6NUrRxOzONsz8xAI3wDnc1Ior26LEMLhNtglbSmb6kK26uDZ9Eth34pDXDlVR+uxMzhvgqXYu7cB+YWFyJEOxhmDy4NHcjEEKgTFe9q9HTMGP8s+DMqOv+8whEvJZwiVQXwFpW+yp1QyA39l3F3IKhWKQRNQEhm8CyWG4aUXn8eWLVs0DHA1dGFhIc4483vo27evmF3B8PHCBVi0aKG39gkMBD/44TnmZ4VCMHittrclZMwpC3Uz3VAW6mYM3Ui/Q2Xw0W+1pnUGw76pfdrV31qGfVw3lIW6GcO3VPt0hlKSIRG6obOh0Y329nbU1lajuNg5GA+iG6EOxtVmKCoqK5CeFkGvHPubu6ZJ18TPWjDriH+xmtoymyQSc0k1kVRCgcC8VZKzY7U8X3GEFZH9S1eOksLg/HJdGecDl+Gobqehax21Ga19aDowxxAo+fgIEa03gy6krmLQPa+mM2OnoAzeG9RZlfYTxODpw9xWXmldGZcmroliUJdJLEOYMaeOR2ffj8FdqIchmP9ka194hgRrn8ckZ5/UvhRiqCiXDsa7aMx1hn5/23RDHY/O/j7EkGzt65m7ivZ1IaW49gn2dSF9i7Wvvb0NtbU15sG4/dWoALoR6gVuaveuXqP4xWUlsN6Czr+/WG2ZAgCxD2ClN6urbFNY7ySjgnNqZ5Aq1r5j3X6uki9BhbIxMHDaoGaQPUo+dJBy52BtGqLLeNnXbQ97pszHB9ssDIZgPczbvsf2zmDQ+EgYQ6CCwW2EY9D0KK9wlGLmVyjGrLG2g5+PhDPw9ajWDXNTEhk8dEOX9GexO49B7ScRYy689h/eVnIAACAASURBVIVn6NE+f/se21OJgXD/PNwkW/u6n377aJ+9OsX0OxW0L1797nLtC8HQM3eV16WQ9nnad7YnT/tiYUgF7fNIFHA/1BM4SQeVbJEnIK4aI4pvJrpehif5MQ9gDeGI1Sli/bIOjs1vjQnWtacH7DfeOZ9Es1lUDNSTATKDpDqMQVtEe/gvrZW2E7mc0x5qifNJlP2n2CC3tc6qHwOXCNQMVFcgVgYKpdFkMwS3osiiYlCsj5WB3yz0WR2DfiwpfSSdgcTA4DGWtJ79GLTBa8prJqGuTVyf9WVInG6orVDv/Yovg9t2LAyC6dAMPqlTtE/aiXWK9tnrOlm/g1tRZEk9/ebb0JciJbUvGfodm/YF2wcF1T4/z/EzpIL2CSkG/fZMcelGAhksd91+7hrciiJL6mmfn213lmRqn7R5H5m7hjsYl+Dsv8KJIeHZbQr7Y+CEXR22Q3E+I0ENmN/+BsyPtgtnTgnMMInwOWvna5RWfuvzYgCFeOc99xQAsT7lZR+Es88f2IHY+VQMlg8NAwzOnsBgc1gMrsg0Oyvp6QF2PoA1IhXy838pv8h5U5+moSIqa0xVXFZskkt/BuqsFVZ5MLhOaKgZqPWhdqFelWcqxbam/GqBQYwpbgZX/DoGqBk0Y86F5sEg+ncYnBeCqdtPxUACMhB4tUN8DMx7XAxu20oG+5dnOxBxkYvVi8HOIn5OR/ZDAjKI/dXt2V839AyqwRiWAaEZeAtBtc+bwb2+87UvgH7Hqn0Cg5y6QL9dKaR+u8acomJi1G8n/OAMvPbJn5viLXkz8H+DMXBWE6R9IfU7lPbFwCDk5/0E1T49A/vVpfodp/YJDMnU71i1L3H63aN9KgZR+yi/WmAIpn2xMQTTDYEhwdrHM6SG9ukY7JXh9DvcwThvW64DTbIPsu1PcnMbnBMyBIjArhBeEBSdiQtAeNTecOwTEpHyWxv4FyFZZYKA2AyQGaBisKtbtuvNQEEE28pPYgh9wYlJl032pE5cLRJJ/CULevtq2w4DcWfVCqenRY0P8aULeqtBGMQtfgxe58zVPnQMUDNoJwheHvVtzf909CbJDK4UBwNV9FclQ+z91bcdAmqfoECy9nFZ4h1zKt1QEvrohirRLmRQZk0kw76mfcTLauIZwumGxrOXfidA+3QM8Wsf906aztLvwNqniENYE+8+yCu5GVJH+1ymPVPKaJ9QJDW1Lyb9ViTVFlX/7mrtS4p+e1rtmbvyP7tO+/wZ3Kcn7KLe+h3jbepUCpIqfjkBSLFaq8WzCOqzSWIyg7cqjki+IoJaOv8Tj4oVQuMYXHqkYUD8DAZ3viH0CwyleDzbIdxK93YFHAs98MFJkKQ3pjwR5lNG2M4Y3PXkz6DOEGqsIgEM6HqGwHm0hfQMvublTyNIFh0DHrs1+VxfqBRc+wR1EJQ+8JlM/aa4dCOEfnMpHINeN1gOYQLnY04ZkMIfvIcX0ZRRp3AM8afO0D53yYTpRhAr3Vz7GAORp4HxM/haCqx9HlHEq32a5R7tU7lKFgNSTvtiYlD5gzdDgJXu7T1zV+XanrlrmBRcv+21rjHho98xHoyLNxVQ+4wDsW/GdrZFXOJnWzCvI9vnEiiF+4Pq1m9KzLMX9lVzAoi3whDoK5jLR+xHtm271m9qnZ2wz5BEKBdXAAa7FvwY4ETPGAhBgC8JUOVP9yJR/OJujVD6IByDasAR9keuYruOXCdGlCk8g5wjHgbW1pIPdj7Ol0HsZNrJh7YdE8SA+Bj47bEyeOWJl8Heph8O3gy8QV+R7OYMdp9W55Ash2Zwf2NCDi5W3bDtJ0o3AjEkWPts+52hffEyiNonewvC4LWDDc7f1drnjkixHFC/qWuCHz+DvS1W3eAZ9nXtczl12YyHIaj2cXZUwSZNv/dt7UskQ/zaJxmNQb/Zlp65a1wMQbVPnbgSnaB98p3Osg2XecTxAjdeD5kLCvPA1tpR2Z//clSH6xBEfGKaAOweegZr1QihsA6+Dbad8B/xVkDzv1kl2qspl4vCOmHhPGvuMDhvQfdisP2xZ8g1DE4l2dtNBv+zipxf4t7iJOnFMlbMbvMqCXEY7AJqAVPH5osQmAFKhiDWvRh89t8Iy+CeisnWOO9xMsg+7B2J3oafjxgYAlmXGfgi/JawDPpdniyE6nyJYhAtKBnUXdyVT61QYRi8+yvh8qkCkhk6RzfCMfD5JEPCYucyuGNLtvbFy+CtfTEwKLZoo0uK9qlSEAYnunj1W+UrLt3Q2g2mffptnah9Wi+J1z6vxGtfbPoddMzZvxOvfd8m/bZtdwvti0G/g1iPncHMGYYhXu3TWU+8bui3h2IIZD2xDOoxo2egiOtt6h6J8A3puBO6DOUyELE78Q/aiyhOuBRU/VZzt2PFsi5u/reqjB+DE5+eQWwCPUPYpIhXY1o1dKlim7ij9KjDLmDwKq1j8OwHSWEgwp8wpfXyGrAvx1FSfvwiMX4CtoOypE7axKTvr4liCJACjDm3OgUZc5LhAP21MxjC6ca+wCAb7B763fnax4IIXTom7fNhCN6PEqPfiYjEzB1M+8QyXaR9Wnv7pvaptnU3hmTrd7DUM3dNPf3ueu2LpWQqaZ98qsdv7hr6YJxSdee2D1MpJRAuQVPnc17sPBcFhMvB1Ol45hXpiGmPmAerNhSBAXYlmrlRH/jby/zZDodBvCLPzknZvmwG274Pg53Nj8HMazLYjcQYKNUy8CQOg6rjOfXOnydg9l2W3OuYBeuMGHtzvDDgpfNOAdpBxyCuEH2IDFwB2YeGwV5i9RSEIYZ28GJwxRsTAxQMUivKba1g4GXei0HV1oEYhDHnTtwrj9hfYVKgYSDcaq1tKnq2GYRWTigD8+TNwHLpGfzGnJIhZu1TM3ClQzEE1Q3q+j9ZDEG1LzwDH2hitI/L4Kl9HAN1tZaSwV7qSu1LjH6rtE9ioP4MQbUvUfotJ5V+J1b7nNSjfeF0o1MZhELdR7/5QBOhfQKD8Ar1nrkr77M7zl3lFKv2OevCa58QW6drn/MnzNw19ME4IYD75hHCOacQHs6O8IOMu22IGixU/gwQIRSwb2GnYLe6292S/U+t6+RmQNKgIozceX08BB/yNWz7l8BALdaIw6tikMVWx2DnMm1Yz6NTmG9rtzkUDJJ5ONju5rVr1IzR+Qgbf/JDHD5yJ3Psc5bUeQSDhFvpxcDXk9qgIEyEGwZOUAEkgDeryiPt6mwGuR0gt4sPgyoqwomziiHAmU0iV47si32OT2Rw2r8TGHww9P2VY2DxygyQ2iVxDI457zEXEwPCM8g+tAyqPhGXbngxaCYwMTAw1QmlG0EZSDAG15I/g9tXWAbZB5dBaEoP/XZpn1q/nRxxaB+Vl1UMLrNq/U649nEMXaR9LMXIELP2dRf9hgcD1AypqX0JZAA0DInQvuTpt+wroQxBtU+M1G04JINjMFb9dhtUap8YVM/cFe562rfmrs7GMGMuMbepU5mFCNvs6MSvajuDyXXrCZV/2jmcfATcl8k4H7J7swG4yKRKotANDeLk4wasjsHVmkEZiNWOYqu5O4d/n1ckr6HMLXnP55xCVMPqcuLFEBTE6epaBnXfdic+bN1rG3UM8rLE4LJGVAtELEa5rVQuwyUdn8zAhMwdjHJc6ruqazsNwuCy6er8GkfyNnVLa7XFy3QQBo8ygqgFGR8sX+wMXvHEzRAqqQvpGTycKMeDTgoSq33+a4lbd30LdYb2OYX8tc9Hv+PRPnlw+2mf0mhA7ZONBdU+21oStM+Pgf3ubO3rKv32SvuC9sXEEEw3xNuPVcW6QPuCOOlC/Y5b+/hCqTB3lbVPWq9MPXNXMZ6u0r7Q+k0U4aoryzadkINxdpcJcYdgH4iq9u+a4SE1GGE+ZGaxuQx1m1JxgX8LKpGy2T6SxgB333O+My4ckXsy6BL1yOHZl4jGh+seEOIVpbcnXSHV2NRk9xx4XgzCfsebgXL/+wdgixJVZtMy8GpMpG1CtwnIoBQov72UNA5CfOPDxSBvEz4FyOXxElI/kVVui53By5Mng1fpOBnMDUliCKAb8W/T6EYAWymvfQFsdSpDErTPM75ka5/MEFT7lGH6MQTTjdj0W6EbMoNsO4R+J0L7YtZvbSzYN7QvJgZ5Q2IY3KuToH26NfuK9gllUmDuGlT7euauCu+uyJ1fyda+TtLv+A7G+TaxaphKGyL24abVWpQra33z3nxMgBd9+7ZwCrBvhVH5zAEBNa+NW+cBIo5/ofH5ZbHXu85WGnyOEAzgGYjIAI4BDgPlGQhYZSibUDijozi7IrWD6vyL+pwMt80CFz7qobgHRKhOOQArhz+Dfn1XM9gnYvwYxMHI9VcEZVDHBWYqSQxcVuE5GPmWEeu3ykdMDIqk3kKFbSoGwmWNlcErCuJa7cOgqejOZFAOq5C6oUrhGKT+Ks+HdAFYW1Nd+9S2uhdD4vU7wdqXAvpt/06Y9mkY3MmfIRG6kVD9TgHtU9r30++Ea5+9ITW1Lyb91uWXA7C2fvu0T1y/L2hf3AzYB+euMem3OnnpRnwH43xnVEVgOWSbiViMPaxPID54b8dodVDhqWzKZyLsl31gbq8g/IKmZV0P5avOAlPbvpSVZwDPYC1LPFoG+3I8PxhUQeg3iuu9eoI2cQwxGSAeS24fviZiYnDKejJoz6KFY1BuTxQDFAye6qR26s+gyOHLEBxMfKQjeCl/b5TbniyGEJH7mHNt5kUgQe3Ai7zkSD8HCtFf4+5LAazuy9qnm4u6CqUwg8fG5Op3UrTPx4RHhiDh7AvaF6gvpYD2ibaVCzH48NucSO3TfT8gcWMuJga/REP01x7tCxRKqs9dg2pf6EL74NxVnfT6nR7an8uw2brRqIHGxmZr0X5gnoBYD89TJysAAkopiPSCDAJTlrTVQAHzLAV3tE4B+yBaeOEb+2a4257tg7fkbCShGczVsTKYP5uaGtDS0iTY5DElasbq1B9/9Z7LaB/wwyzAzh0Q61V0AoNTnfbk0WkhacJPiBWEtYXLQLngCLccmEFiTxqDnZtlIFxfUjPwKTYGq7pcDE5eFwMgnPzzZ7BeLCjHrGKgXJf0YmCZwzMAQGNTI1pammNmYH1HbpdOYOA7ltMO5kr1mNMxOP01JgZ+zHEMZrVQpn063bDtpAyDQjeSon2WL5Vu6Bji0T6RIUW1jzG4M3S+9lEWbEpqn4IBABobG819dpL1O/W0T6wWx74XQ5y6wYJQMXRD7YtBv+Ux581AARoRGUAQRPuEYcNVSZfpd9K0T83QM3fVMSCwbqSUfrPMncNAadSpOi5xo1XudgBCH4w7xQXDMKvBgAH+ArXQEe1FAOzN6PZkgNoWnLzUPmDlsxAABhXt8zULsPmFAftt7YbwnDjPECXmQbvdbakt9jEwUBWDHTNjsAaMwGCaNwzDEkxY0XCfNVDtVSgBIYDBMVAQGNaOSczPKk+ohQifjWsHsBqxSljixTNQQ+xIqhMQBMRpB1VM1viyGZwyIoMiIo7Bq57UDAABJdT1KIg8OFxGFfYpNZ9IoLbAB2awxxFFxPoMns6HE0pQBrGedDh+DFQYfDIDN+bg1w4U1DAQpdQ8OSaNObnefRkUSc8AQVWDM3DiLfuSxpzrDpugDFI9MQZWG4bAQLnHaFQMDrN/X5IZVLqhYxCyacZc8hi4fVCM2qdnkEeprVuxaZ9nO0jap2NItPbpGXTap9dvu7+G029+zPlrX3j9lts6Nv321j7DKmugI0p824H5krUv6fqN1NU+uYwPAz9VTIr2xcLQ6fodVvucObA2bI32OQzeuhETQ8/cNUnaJ6fYtO/bPXcNpn3w1D7nN79F/Uo6CmqNh5AH444xIrQ+RXpaGnJzekE8HPUxxTJZFcD6vdS1iJknYhAY6tEaKHIKmGehqKK81Qi8WAbzYueMnWFvfQPy8guQk52j9aIebJoN2swBktSuSkMx2vcuJm1NGEMceUIXSyBDkOIsQ5yOvLwmgKGqYjfy8vKRk9PLw1ciGTzcJKK4dowkgiGxYy6YmwQwdIVu9GhfWEdx2e/RPidVaDUtUHEkXjc0Xnu0L/kMXa591kJ3074e/Vaa8v3SVqozBCneTeauseh3e3sbamtrpPw6S4RddY/9mXHiXrDPFFBVFmGL+ZOwPES4DYDlIgAotT79RawTFo4Poq0pxw+xMtqlhANxobxYFV4M/BkO+3b3ZDLYdaVMqg1Sf9TbVmyV4nOKqOtNbV+9lbhXyVs1PlSFFAxCo7EW93XnzaAoljAGRQRCNftERlw/vG17rKZ85WnbOjYGfSmi+e1h22O14CnBDEJSaJ9ig962x+pgYy48g8uRD4O3bihW68ZTAhg6V/sUWxOlfdqUAO0Tyiq0LyYGrWndVo2P2Mecv37HP+YEo8nUDdmX8reHbY/VydRvIXVD7QvLkJraF4AhsPYpVidL+3rmrh621XPX4NqXYP3uNO3j7Xcj7RNS4vU73MG4RjypdbDpHJZqwiAigMHb4NAjVljmYy7OevNdZ6IP249gmTiiSglYAwnPBlgZqGWMGoZ53Myi0zM4B/QhGKw4lAyyEypsdQ8+j3ZwhavIB1YP6p0Pd3qBM0QEH3I9qewoOymJhUG1S1IwCPVErB2B4nSKB0OgpOkc4RkQiEGVZAb/YCXfEgMRYhDvHnHqqQsZVHrpw+AKEYljkNtax+DurxoGKb6uZvDWDTWDHF+8DHIgnaN9Ynw8Q9zah1gYAmqfYC82/Q6UEqbfcDPEqN+ewXqtVjGkovbJ7vjVKax9Tupe+p0K2hcLA58SzRBY+7pcv3vmrp4phPY5Rbqb9qWYfgfUvnAH4yxQKiwSEOvWCgpd9yAA+HvxnSvKgP0yBRYfEe2zRMVy7CF8Vza+POHidOmjFRcQIYT7vJoPA1EwwIeBWs6pXU8cA4Fkx/qraGmiCI/x6S+zc/msTqTWS8UyFX4Tq7MTRRZ3d1cw2M9cxMVgmfJjkPqr/duLQblCwaBy6mZQD1U3g7q/h2ZwJTeDMOYUTlUMKh9KBhoLg98OhYszEIMqXr/+Gp5BricdgzBlUPVX1SMzMTIgMINYNlEMsm6o9CAMgzKOTtY+niFu7UMiGCzrSdBv5YqY9Tuo9qliTh391mmfs5+3HCRT+7ifQfVb8KWwHL/2xaDfsu8E6ndw7UuOfut1Q7MuCfqtS77aF0C/A2tfiuk3/zucfsPN0DN3VeuG21x4BleKR/v89ZuZSpJ+E94eCcYQ/jZ16/QBlePjMoirBTkTzbAsRJjDiFv5KpZscSAqn6p4+Cfa3eHbu1nZmsnryQDnTYkelQNdD3LsE1bHclaqWPB0pYzXtK/6iptgihnmAnSGrFjI1Q4eDETTaKEYLLd+DGwpHgZ31uAM6qHqZlDtuuWlAAyu8p3M4NVfLVtOf/WWYqd8GAbq5BcFRg6DFWGmA405KjH4JxeDvJ2780c95qSgFYti+eTqhjL5MgQdc+gUhi7TPsVCeAbLbacwuLMmXje886QqQyjd0DLoU1wMXrqhyBaGIS79lrfr9NvlPJG68e3Wb2WrJUy/96W5qztrz9xVxZBic9eA2sdyJEv7CNcNFUVU2hfqYJyPg7CRbY0Oe4AR50q0ucoQLNjbIhROjySG1Eb2uxL5f3DfQkG5SqNccS6xZWK/+9PpHIQYrDBlxqhQUaZ3A/wanoHaV8OJ9QZCVi8RzgL3l50RcTqo+VZBCuWFeQ7ZPiWgbgfeh2qccWeJCOeDMotcHtsmF4jNxhlXjeVYGBCAQYhP9qFjkDMFYgjaDvK4VDO4UxAGMAYqZ+IZ3KF1LQM0DLLfOBmcWpEZiJOfD9CDQeVD2w7sbGgIBtGQkkHMoxpzagavMadnsNcljiGYbqhRPHWDS/uq9sXEwPsIxBBU+4IyBNON2PQ7oPalmn4jBgZ3aHFoH2c/Gdpnz5kSrH2is+Dax7J1sfY5+h1M+/iUGO1LYf1OhvalmH4nVvt65q6dpX0uBvgzBB9zXArMEPI2dSJAErbWCRYglHucXh4UXLBRAthvL4eRJlDY30S0/xH7LxGtEe6fvYHyTqyfzsvTxE8YEBpxLJGIJ4Oqb0cJQOz7TYyIUC/8c+U8A2wG7tYg88YAIleVU5w5tW2p2sH8ba+S60mn9OZd98RZ4PLKdQmOwe1Z/iH6YAapxKCwpGIQ8kkbgjFI/VXLoG4HNwMCMbhTEAYnL/FiUHqOjUEUztgYnIglBqLqr7EzEBCJQXKZDAYP7VPtO8KPOT2DPk6FYy5i0WBnMHjphhrFi8Fx5sTZ3bRP6Jyy9nUaQ1DtU7uJVfti028nr6f2JVC/Y9I+2T50DJ2pfUnS71gZFCms9ukZFI65iEWDnax9qgBD6rfjzImz2+l3SmgfbykR2tczd02Ifis9ezO4ta8T5q4xaZ86+el3yNvUVSBU8Uu3wlknPnTv/g4iaxNqsCqnkkkq/WXlpRX8cwFaBt0D+RTu9dSRx0AMEN8zr2Jw+XRB8Zv17eDVGVw+5PxSYaJYFzhxDILYeap3ZzAoa1xvvysZ+G0JZxB338RVyM2g9araIDB464Zv8mVQmI+FwWPMeTEEamsVg6KwaD5EHUk+1AY7kYG1f2IZupv2CQZl3eh0hm6kffxikhkSoX16/e4m2ienZDMA3gzK55iD+VAb7P76vS9oX9cx9Ghfz9xV40NOXaTfIQ/GVUem1s0bLGaijZVwt6OLn10hkN+C5xw7R/S9Q3nkTGEQvoj9y0K1D5opX1w+T+TPQIMwGE7XIFJjymdh5A6t/O48y6vuQcrqUCYKyb0+P9UtUm0eKxzGoPaRGAaV9quyqn34MdBOY1AmwhWOg0Hd1pJquh2rQtW3tWI1M0UCMugaMyEM1J/Bcy8UgkGVtAx6V+7vHgYfc+rkx+BhG+haBln7YmWIQ/uUG1JJ+3wZUlP7Uk2/NaGK2YnzNyH63dXap1jtmEqW9nmIVY/2KTZ3L+1TFeu6uWsY3egi/dZkVftIHf1WppSZu3ai9sXE4KSQz4xzZwkkx84T0lQ8MOeSQdO4Ew2cAULBXivujlrzogBqOeXPXJgHxESoYCr8pTQNrk1WrE4TU3Y1PS4GVpRavpw9OLvOHwFA3YNAqcnWQY3w9KDAICaq6YF8eReDmNFl1H2Sg2qCFWllH4liILJ9d0ZXf3UzKBxDbH1PBmkgxsKgD5/EzeBsDs7gsmMz+LS1sqwRcTJ5MFh3gbnLh2HQJhIfg0b7lAxe5RF+zLm9JYvBypeKDHJbB2JIrPa5vaWY9sWk3wrHCKF9Uoj7gn677MSrGwEYerQPvgws07dN++QYuon2iSt75q5OkdTVvlgY9OEH0z4vBmdzN9C+GBi4jGGfGecXbGNUjpPr6qJDAsplJIoSll3BkW1FvA0cdkPbvYlyYXk0Dv/SCCJUCIX7AX7roJlI5UMzQMtA2WfdPHuUtVUxAIiYw73J3UOIdomoG9Iz8Zl0DITbGoTB3Q5eXjWVLW7yqCd1kj+L4G5rwi+GagfqWqNw78SQwgw+7s0Y+HGm86HXynAMqvioMrc7BlUSysp+EsegXnQzuDPFyuAea5qINOtjYJAyUd88bqPhGJKvff4Mnal9fgxJ0A1hIQiDSvu6p377uHdi8GNIae3TvDiwR/vUJQJqn38enxi6hfbxW4Pohrwp2doXpB06U7+hZkhB7fPsIl0xd5Xic5dMfe0L/2kzFoCrlpWh8Gca+UdoIrr6EL5FLtoy/6i2E1DKDxpnuzI6asdDpOpRs1BpgZEHYBAtuBkibLATz0eMdBbVJwYUIfG/qWaDp5lgE2bNZ5OVpvUM/u3g+TiWJ4P/nsa0TbzrSV4dUGNsKfN9nExQMtlH0LYOyRAqJZjBY58UN4O2uoIy6Jx1Z4Yg+p1gBm1YARhUPhLNEIP2BWVImvaFYgiufVrnqtWu7V4MhPOjSWHGnCprLPodMPH67T9e9wXt2xcYZGddr31OCqd9jrPkaJ87lM7UPnXqHO3rmbv62obCtir1zF3Z+AzDEPPBuHj7AvfBMPtWbWs74fpQhDuzYPAH6dZf8SyEfVU6AoDAvv5O+I+lc/0/4rr6ZsZkWA5cXZkQ51twVrzsA2YCAwQG4ZPoARjAMdg5CeUCIk451yNGllXKMQiIkNuBKyH1NuGkg+IEDYW2rygsWDkVPVrJQJLMwJXTMfATQX6NF4PjIwyDfXKF86HIr4pfXYLbptOxQPVE+S6oZmD/ezO4bXM+4NSTKjyZgaoyIXYGx2piGYQcyv6KbycDgjEIOYPqBhyGbqt96HqGWLRPyBur9sWg37rk1r7w+s3CUsQUVPvs/BEiX7nh7HiOOSkvkPL6LeTo0b7Q2hcvg6pkfAzOBlk3evSbT2G0j7cem/YlUr+7bO4aUPucDd1N++QSUDMQQzqm82eI+WCcCGYAAgJKiHXEzXsjTt9xubePRwmfzcpsVaxhdlPzcNy50k4oYDifCRcrinIRErBPosn2CVeAUO5W8UAMivrwYQC4eiIig/pMDVfLRBZKVw5xWept3mJlt4MqqUqKI977LFOCGTx8eTG413cSgxBFMAZ1Uk/+AJj9yTdxIyBpDGI9sbWcIMnWnB1CYhjYRicbEsHgjplIy24GdTMniCFEf/XJgbgY9C7gFsRkjjmuXRKmfSoDPdrnkUNc5hgSr31W7IF1w/mZCO3TqbG/briXE67fPdqXUtoXL0Nw7UMI7XMO8VJDv320z8eTTvt0Xnv0W5lDuWxGEVC/A2of+9XttM+9rNYNIh28+zPEfpu6lExI+4jV7izKXMI2CuuZUu7AVzX+HR/cJv5quLIQsXacfsOZlyZ7ha6TUME8a0QCYVR4M3BibjH490l/Bhepu7oD2JIZ/AcL0d6vr7cdOJfMQJS5tBa6lkE8g8MEN4j+uPzIhVQTAlVs/DrikU9XUswbjkFZUruV+udxfwAAIABJREFU96qKRMzpzqcbc24GGiODdyHCXKl6nReDv264GJI05gi/IIegZHBv62oGeSF27VMZSCaDj373aJ9ru7duBLHtlSseBjl1vvYlVr+9C8kM3Un7BJehtC91GMJrX6rp97dp7hrMwr6r36otCZq7ppL2cXNBMadav2P7tJnLnvRxdOFTRtReCeHMhXWrNkWEPe9tq6F4K4rBNvGrTasOHLVrma8ASgFCQKl1m7istpSAj0/JwHljURg8g7me2q/Ts1EUDAxRx8BvgLhA3Zf+pZ82A+8XUuKm3Hw5jfrqO5VsVcGg8BuMAb4MLJcvA42BQZcrFga+X4sy625rh0F8blP2wbVhIAYpXhojgyu3pr8KDPxK6s4bhkGqJxVD0ImH75jTMijyygxEZPAacw6DYswljMGvrU3bSdENl6OQDIHHnGk7ZRgUZROl38G1Lxb97nrtEyOPV/vEHECiGYjoLJBuJEe/xalNMvRbkdeHQcjnqX3J0u9guiGHKqYe/dYZ7pm7AjJ4MP1GAIaeuWvqzF0VeX0ZguiGGG/Ig3Gi/CnAEcVmS3D5djJArGNXAyAUlA+a57cCNyDVBfiXwBHrN+UcE8stRSRilRY6CuA8DG7Gx55jD8hAYX8/PBiDtFpk4F8mJ41oCkhnv1TtwMWnSatXrcKzzzyFuj11qG+oxy2/uxGXXXKhYE4sT5lpL7u/u/F6XHTBj7Fs6TLlrpgNDSWD02arV63CpRefh1tvucnDG3F231Jbu6ve2dGbedXRAYDrlQNSogEZ7B+q+uJ3Fe62dhjET/PJba0QOg8GUWusMefDoOjCARkgMKhKaXVDbcqJgxtzJgMfo5vWk4HTDW8GvzHnzyD0B08GOfKuZZC8OXFIDO6oxaW4GAJrn+kh2QxKqyoGhd9E6LeX9qljDabfftoXVL8ToX1ieZ1+x6h9ARjCaR8VKyykfptTFgpq/dP9tv8Z1CwVK8M777yJN+a+ipqaagAEV//icvz62l+hqrpSyaAiD6p91dVVuOH6a/DTyy4S+mtLSysqKstRWVmOiopylFeUo6KiAhXl5nJVVRU6OjoEhvfeeRtnnXEK3n7rDdNHArRvx47teOH5Z7F69QpEo1E8+sjDOOP0k7Bs2VIlUVD9XrDgI5xx2sl49523nBtF4U5+DHvr9+Dyn12Kyy45FxWVFUoGJ6WQ9sWk38G0j8UThiGw9sWi38G0jy+n0+9Eax+fkqN9aoZQ2ufD0L3nru629pu7pitiji95CBCf+IoRn98GokYU5bt2o7mlBf369kN+QT7X1dWVI/ijEFqXGkSqSLcJCuL6WoQfg13Ozix+R84xEKH88wMSgxyIIhsBAKpncPITqZ5EX/PmfYin/vl3TJ12OPqU9EF1dTXKd+9WhrFnzx6sWrkC69atQWtrG8aOHoNJBx+CkpISl93KykqUl+9Ca1sLC6a8vByrV61Ce3u7UB/OYKXI7ZWHqdOmISMjEwDQ1NSMXbt2oVduvpbBVV1yPblyS51E1w4uF+J2p5iqHdw+5P6qafWADKq8irpRMBCBwc6vqlcun8UYL4M2cQy+eUFRVVmJ55/5N4aNGIGTTzmV80AlCwEZdE5dDP7RBWOQSziOnn/mKdTt3YuZs47BmDFjgzPojCeEwdODi8HtxZ/BM4XVPiunl/apfMj9wI/BFVyYlAD9dkWm2JwYBs32mLSPukapzlVw/Y5F+/hfyde+IPpNADz99D+xfft22DMJdrMei5Sb1IEiIz0D3zv7hxhaNpR56ejoQENDvePZviPQspmbm4eMjAz87cknACOKkaNHo7i4BOUV5cjplYNoNBpYvysrK7B0yRKsXbsGhb0LMXbceBxwwETk5uYJ+YyogaqqKlSxA0kzLV60EC+++ByjYjMmq977lPTBTy+/AvsNGMjaoaamGju+2YH6hvqE6fe6tWvw4P334LKfXo6xY/dHXV0tdu3cibbWVlfeaEcHli1fho3r16G6uhpDhg7BuPETMGLESOt9RI6f5uYW7N71DRqbmlg8zU1N+OzTxWhta1PGCgrk5GRjwgGTUFxUDBCgvb0DFeW70dbaBqMjquWwaUNpn2JrsrQvkH7HqH3J0e/Eal9Q/U609in3zZRAeBu1VLhzta+bzl05n3553Qfr4qCX564xH4zz3Q0grI3Nx7/5oy4qhmEVIsS82k3YqQOChoZ6PP30v/D+u2+jrSMKGAbS0tMxcNBgXHrxpZh04IHmy9Uo5ZlA4HzB2xRHazdk+WLjyNrbEZi3tdtmzD5KQKh5dZztJgIxUOHsGoi1TCkoiZh/I6aFiMVKiemLfSje8kEdK65Bo9MzCuDjBfPxf/94EhELinIMvQuLcMmlP8HY8ePNs+tSaVXXrqmpwd13/RmfLl6A5rZ2EMNAZlYWivv0xX33PYQhQ4YKVpjgcv1hw/p1eOC+O7Fn717mw/RDWKUPHjwIEydNQnpGJmMmIIhQOSK7sNQO0KxzF2Q7cSefSnBNe9Tqj6phrG4HbsLJ9Utnb8EPvGQxWGs9Gfgl2VNiGXSHai4GIaPIYNojqKmuxrPP/guHHzEDJ58ymxsnbgZeVR0zOgEEZ8uPwe0lOINsxzlt99rc11BRUYEhQ4daB+MBGTiDiWfgM3kzePVXgcGJkDchVJfMwKx5aB9xrQiqGxobiWIIpBvSHCs0Q4K0z8WQSO1zjf4u0j4+Z2K0zwH0G3M6BmDhwvlYsfRLcx4BYlWyucSrNoV5G2NGdjZmHn0shpaVMetzX3sZTz7+CAxi3iHInvozKDKys3DjnFswdcpUNzXXZ4PoxvbtX+Pqq36BqspytLS1ISOSjozMdBx34sn49a9vQCRiRcv6qzXH42ykpUWQX1Co/CzsvI/ex4CBg9Hc3Iy6PbVobWsDoRTV1VXsJbwqiYK9nlBs3LABjzzyEPbu2cvNNyib9517wYWYPmMW47fjJYSIt4laDG3tHfj735/Ai889g/a2VkSjUWRmZKCoTx9cedV1mDHjKGG4ElhzSK5L7q2rxYMP3Iua2mo7FESoeXcogTknKy3tjzlzbkFxcRFrAQqAEvUVY7V+B9QNyYbeusPQXbUvPEMY7UsR/eZ8+M9dE6N9naffzBGXM7kMnvrNbxcySgNBiNpZcsaJmyG2g3HqcBJK2UvDQWH9FlTecm1lMqgZMwU356Korq7Ggw/ch/kL5gMU6F1QiEhmOhobG7F6xXLcfMtNuOKXV+HYY45h0LYLSol5jA4KGDAPglkGriEMgETM272IAeFYm4I6OycVAyXWLRIyg628lNWN+SvC8oFa9USsWqCU82uZp+rOZxtl58ctVbDHNyFAdU0VVq9cgb59+yEvP99qF0v0I2lobmkx24AS9l1z24ez43C6yWOPPIyPPvoAEw84EN/73veRmZWFV195CZ8sWog7/vQH3Hzr7ejXr5/T/4jt0Ik6GjXQ3NKGMWPG4ezv/1DsuNbvnF65yMnuJZEaTj3x9SDsOHk7hPEKk3iqLkPYVQPFgLLy69vBvbOxxcElRFrhSRaDWE9aBmYnuQxEYHDGhsygFE9OVW3xMwzAMCjnQ83govbaiYVicJcJwyDbYVJiRGEYUfbdYheD3NYKhuVLl+Cmm27EUTOPxtXXXIdIxNkZ+zIIlaVhcNWTyKBsByGfzMADivFIUSkZeO2TbTlDKEYGacxpGVy6oVYKkUGqp7gZEq19XgxiCzu/upH2JZLBXgykG2oGAHjw4cfQ0dYudxcxdMvO7b+/BZ9+shjpaWkCQ0NjE+rq9mLQoMEo6dsXgHlBYNOWjWiorTPt27yEsHgifJzwZvjmmx34xeU/QXVNFWbOOgannHIa6urq8MILz2Luay+DGAau+81vzQNyAnO+pKjZGUcdjRkzjlbqxi+v+Cl27tgBADjrjNlobm4EAEQN66Ozim8LyX2pobER69asRXNLE/oPGGAxmTFRCjTUN7I2dS4cmdvYe3+s6jAMijfmvoZnn/4nCgqLcO5Pr8DQoUPx2WefYO6rr+Ceu/6EQYMGYcSIkSwECoIIdycmoRRRStHS2orc3DxceunPkJefz/UfM29WViYGD3HudjB7pbW/syeKCu3j9TsR2scO2MLot2u9RvsUc1e5WOzaxxuQf8erfRr91tSHSzc6Tb/3xbkrl5id5DIE1m+FDZZfQ+E1Z4rtYFxg44LS1KL1xXCIezE+P8G777yN+fM+QmZWFk49dTYmT56CzMws7Nz1DZ579lls3/417r/nbkycOBH9+vazClNGSAWbVOUEtugSabULTdGyhOgY5D2nneR8XLdgofMM6njEjZzIK8pcdMllmDFj5v+zd95xdhV1///MuXV7yabvppFCAiSht/QEEAgI8uNBRYoIgthpAiKCFR/Bggo+dnlEEJUHkBYIEAIkkB5CgJBKGult6727e+b3x2kzc2ZOuffc3btk5wXZe6Z85/ue8jlzuuA3UF5eYfsqPc/KGNu0aSNefPF5jB8/Ed/97vcxcNAgAMCECRPx/e9/F0uWLMI7q1ZixswzmPr5Z+ltm4Ri0OB6zJx1phccF6ypoGwO6fiBu0GU+YTp6dnuXk5YU4gJwt6qKBm4QhIGVXavBD8G2RTxvsdMEpj5ZIsgsdWt4AzS3yEZZHZMBuWYF/taYrMt04rdu3fi0MH9xvOmsgpVDF4++pX1Gkte4zVInbJED+3jsuTIYDyPq2qzfHTDvYOMnqGbtU+SyzehgAzSAwfOYPczAEAykUAykfDwwglaTEMsHoOmaS7tSybj+NzlV+L8T15g57/5xm9g8aI35U4QQLr2kDDouo5XXn4J+/bvxdSpM3DTzbehqqoKFMDQYcPwvbu/gyeeeBwX/denMXLkKADWcTMFhPVGZ2cnmpub7RrYK46dHcZJCUKBq6+51rh9HsCypUuwYOFrcF1OV7QvJRTjJxyLO7/7PWFBTVFaVmbl4o/tCVz2W1pa8MILzyGdLsH3v/9jTDz2WADASaecgpraWvz2gV/jP089gW9880Y4Y4mCmhcmDLvmeKVAWXkZpkydhtraPvAP7GLdaaRCaZ91tBFOv71nGW+okAyF1j5Wv310Q3aSwdc3IaI7tK937ZqTfssqohLdc+WVrF1zvjJuiyhlbtO2OpTzw3l2yXoeihjFbPHTO4Gn/vMkKIBZZ8zCtddej0QiARBgIo4F7dRx7333oqm5CevWrkO/vv0Mq9wA4s/K2Be2iQ5KNbt+Vm/Zs1uUddzFwGyyafYpPgC65vymRhNT5nZ660o1a8xmsONkZ5aMDeuZdvF2GfY4p7qqBn361EEVZGfziF0vAErwn6eeQLa9HTNnzsKAgQPsQpVVVbjm6mvx2vxX8ebCBcbBuG2YMPt25nyUhW+2kxcDsf8nYtNLGdwN4DCAuJqPG69StfQYS87cdxhEG5IoHwZZX/NHrZExcFFqhhDO+zKIzzrmxmAG80SYdQNKJ+3A7l27sXvXbgwcNBC1ffpAI/y7KPXOTmQyWSSSScTjMb4KnSLbngWlFOl0CpQC2WwWuq4jlUqZt1vyDO3ZLDo7O5FKpUA0zZtB1myUYv++fdi5aydqqmvQr38/aFoM1qhXjfmD+/djx66d6NevH2pqarl20ilFNptBS2srCID2jg60trYiEY8jkUxA0zRuzrVnM9i6dSsS8QQG19ebi3p/BrZLOjs6sXvPLuzZsweDBg1ETW0f88qTbKwBzc3N2LZlM2pq+6Curi+I5uRrz7ajo7MDiUQS8bgGcSx1dLSjvaMdmhZHKpHkdUOiI0EZ+EhnQBPx6g+7EZFuqLQvJ4aA2hc9A8mTwUP7ItJv1zItiH4Hc95YarEnvQqi3+7Q1NiEeCIGzdYzJzNRvIuXgtpuaaDodKTYXpfJGFjta2w8hFVvr0R7ph1Xfv5qVFVVAdQ4cTV69BicdtokbNy4Hi+/9KJ9MO5oPw/04pzn8ee//N5IoRoo86WZ3Tt2oaa2FpQAn/ns5+x2SsQTWLDgNVc7SceS+beiogy1feqc4cuUdaaNM06c9ZnTr1u3bMGqVStx7uzz7QNxIy/BjBkzMffFOXjqif/D9V/+GpLJpNMP7DuCrPchsQfofgzErojddRZU+1xXvgPpBvFnQIG0j2MQfQnDoCiQq/Z5AOWq3zlrn4Khd+3qzeC+DyIcg6N9snT2HSq8jZyvjNtmiDOAALgfErIBjX+ccoB14NXe3obzzpkNCmDS5KlIpBKMQWIKtA5CCcrKSgx7QluwrwQwbsWyBngM9u0+tm9Guj1PrX8txbDy2Wb4Ha8dbTGYjUwAUN1IoM6r3u28XG/pAGX2n8T2y2kfns4syk0w8Az27fLGiYBMWxs3RTo7Ohhe3r71Z82776Jvn74YM2YsCHOAQwEMqm/AkWPHYuvWLU4ksfqCMG1rJRO0tbVh7749fHVmuerqGrS3t0Pv7AQF0NLaZtyya+2gJXPSNQWI8MP6w+3UmCZTHDQoFZWwf4mIKO0HiRxJXJb1NZ8/MgYuSs3g3lR3gB+D7bY9+IlbN9g6pAxMFhgn9dauW4Of3fdTLF+2FABFMp7A5KnTccONt6BPnXMi6tnnnsEPvncnrrzqC7juuq9y5rZs3Yxbb7kRGzasw+tvLMbOXTtx841fx9at23Db7Xfg7HNmcwx6RycuufhC7N69C7954H8wYeJx3gxC2L17N37x83vx0twXzD6kGDVyDG685VboVDfeJeFMXWSzWSxe9Cbuvfe/8dH2raCEglCC+oah+OI112H6zFlIJBJYsXwZ7rrzduzZtRMUwCsvz8UrL7+MmupKfPs738OkyVNAdR2bt2zGbx/4NV55Za6pk8ZC+uKLP4Mrr7oatbW1ngwExtWxlSuW4/5f/gzvv/cuKChimob6hmG49rrrMWnyFCTNFzECFO+9/x4efOBXWLz4LVDdmM91dX3xzZu+hUmnTUYqncIDv7kfjzzyv/jc567A9V/5un0SBARob2/HA7/+JR555GHMOvMs/OAH9yi1jx8oagZXYCcCqxvWNruvjkg3ImUIqH2RMwjlI9W+qPWbi8pTvxkXNekdFP76bfwOwuAOe/ftRWV5FUrTpQIDgc5cZXDWQdRKBmB9kYaCUh0wD0Sp0O4y/W5tbcO+/fswbMQIjBw1imPQNIITTz4Fjz78N2zatJHnlzDs2bcHmzd9iAEDB6KqqsbpVwoMGT4Mffv2RyqVwtq1a82+oti9Z5fNyRpWjSVjjGgcQ7Y9C73TeRFaNpuFcwHGfM+Oznu8bdsWdHZ04KQTT+EhCFBbW4fRo8fg/ffexZ7duzFo8GBzwW6sI7nxaprt0Duxb98+4e4lI5SVlYMQgg5zjdbS0gK9k2EqYu1Tz2ljoyDa58VQDNrXu3btUv12b0a0dvXUb/XaVSrnPgyRvU1d3ifW0o9NdF/ET6XT+Oxllzu5qJO+b+8evPjiCyBUQ/3gQRg1+kgHQLDpRLN1MmcHuJkkCYLYWwcBMgaZJedRIcoxEKYsAYxnk8QzpUGDIDTWTyL8amttxX333mOfSyAEeO+9d11VctuUYv2m9aiqqrafPWfriMU01Nb0cXa64oASLBNQvPHGfLy/5j0JBsF9P78fc1+Ygw0b1wMw3prdeOgQiHWWQq4HQqWKTKr57BXJmvMwrTbKXpEJUtinomJgCGpD4YLvnHPNTdGAkUhAsXXrFtx0w9dBCMHpkyaD6jrWr1+Hl156Adn2dnz7jjtRXV1jljCXmVTCQO1/QAEMGDAQo0aPwaaNG7F48VuYMfMMJFMpu8jbb6/ARx9tw/jxEzFoUH0wBjPs2bMb9917D+a98hJqa/tg9OgxSCST2LB+He758fexd+8e50WOxDjoffnlufjZvfegqbERJ5xwEmpq+6CluQnLly/Dz3/+30il05g6bTpqa2owecpUrFu3FitXLEf/fv1xzPiJKCsvQ13fvqAAduzYgTu/cxvWvP8exow5EoMG1YNoBO+9uxqPP/4YOjva8fUbbrav7LgZKHSdYsEbr+Puu+5ANtOG0WPGYNDgeuzevQsbN27Ad++8DZdefiWuufo6xGIxfLRtO+6841bs3LkDp55yGur69sW+ffuwdPEifP+u7+ArX/06Lrzov3DOuefh8X8/hgULXsc1116PVCpl13rwwAG8884qABQXfepi3jfleFT1Q7BBbCwWlFYDRAYIOTOIQc4UCUOv9vkWdh/6SraCNkMABkoptm3djJEjR6OktETwhTKfeWUlV7w/gKKxsRHPPfsMli5ZjP0HDmBASanLHZEhk2lD06FDqG8YInW+troW0IBDBw8im82aJ+XkLx6zVmtXX3Mdzp19viSHESafdiI6OtphnTIwVsNBFkzW+pJvkGeefgqr33nbzEGwfdsW6J0dsIWXEvvkhRV2fPQR4omkay1EASSTSfsN8tt3bDcOxvmlodON1Pi9c8dO3HTD16DFzLuAmIOhz1/1RbS1tWLZMuMkc2tLC/bt34OKikre2GGpfbIdeJFrX+/aNUhUD1m7+lTuWlu6frptS8zkfjDOWaZcgnOrMRtvybC5xQgXAexbzgmAxx57BM0tbdi2bSs2b/4Qa9d+gMH1g3HLzd9CaUmJXZ7ai2qJCnIH68a/OpyXsbtArPv3qWjR3aT8eQBiMsM+7ndImaZnBxnTBlQ8M6EIyo40/RV97dR1bNy4gTkhQLB/3z63FWEH1NbcipqaWsRjcUmtBIlknPn8B3MeyuWccavWoEH1+OQFF3K5LdFMJVNobGrE/v37AVA0t7SYZ5a9gPk6pIGCuSVKZkgx63lUlWllP3hWowwhGFxzLkqGHJRLEVgXXbfThWUw0yiADz/chL79+uH73/uJ8TZhSrF69Tu4//778Pr8V/DHP/THjTfdCk5YPJCIOWhjsRjOnX0+5sx5Fhs2rMfOnTsxZMgQ26Mnn3oCmqZhwoRjUVNTE4wBxieHnnvuGSx44w2kUil869Y7cPQx4xGPx7Bhw3r8+v6f48PmRpSWltllMpk2zHvlJbS2tuGaa7+M2eedj7KyMmTaMnjqqSfw2wfux5znn8HUadPRMGQovvyVb+DNNxdg5YoVGHfU0fjWbd9GLBY3bqcHsGTJIqxdswYnnXQqbv7WbaiurgYhBJs3b8YtN30dc19+Edde/2XnYFwy5zduWIff//63aGw8hE+cPRtXfeEa1NbU4lDjIbz44hw89Oc/4PHH/oEZ02dh9OgxePrpJ7Fly2acd94FuPZLX0ZVVTWam5vw9FNP4ne/+y3eXLgAM2edhSFDh+KY8ROwfOkSfLBmDY4ZP96udfv2bfjggzUYNWoMjh4/QeqZEcGpipIhSCC+uqGO9gveuiFj8AvyfIEY/LwqRu1TGo9Iv3PK7BaYSLWP+b1//340tzSjsrIKpaX8ATS/smJtUScKxj73wIH9+Oc//m4ffA4YOEhKxXpJdR0dHe1IppJShoT5zDulOnS9k1kXSQIRapC2CcUvfvWgfSV73isv4d///qfcniKws4kC2LNnFzZs2GBHHDy4n1szEaacFdoyGSTiCcTi/DLZQCCIxWIgALJtzCfLVIs5CpSXl+Pcc89DRVWlvW6z6htxxBFYvOgtHDhgvPejo6MDVHd86wrtk49Nsc5A5oIVy5khD+2zowuhfbJ1mioUkfYVVL9l9nrA2lVmNae1q9y2zF7uB+NE2KDmXwLzYNeYYDoINKI7B52EANC5t4dTooNAsw8q//SnP6GttRUEBJ2gqB88GDfeeAuOPuoY+7Nguk6cN+sRnRF/Yr7FnG9K61ZPynzI0zgYtt68zgCZDNR8g7rDYHJqBKAWA3Xsm1usvBMQ7vNnhJqPlwMOg+zFatSKZ19oJhl04s7NzFZeXo4//vlv9uMNFMCDv/kFHvrrX5j9hZt76NChaGppRnNzM99+MK7aHTp4CP379Tc9IczJBPdOiFCCI8eOwyWf+Zxgydn65g03278XL34Ld3/3DpcplsE+S85oOD/xjczOtqxmwpQTv/4nzDcDJHA/qGQhHAOsqcQzEIHB9oSvMTcGZ/6IKbabPgzinLMYuO4UIQMzGLrxwx/9FOPNgzOA4vRJk7Fly2Y88Jv7sWzZUrS0tKC0tNScv07lLINtUnOeVzzxxJNRV9MXGzduwKZNGzFkyBAQAPv37sXitxagqqoGxx1/POKuly2pGdoybfhgzXvIZttw4023Yuq06QCMfjj22ONx5eevxl133c6dDyspKcU9P7nP1QalJWU4bdIk/Otfj+KNNxYAME4ilJaWoKSkBABFIpFEaUkZYszz1+effwHOP995qZMVxo4dh4kTj8fcuXOwadOHGD++mmOw+5pSvLP6bax5/11UlFXi5ltuQ1lZKSgIyisqcMkln8Hevbvw0bYd2LnjI4wePQbr1q8DAdCvX39UVFYhkUiguroGn7vsSlx6+ZVMP+g4ffIULF26CE8++bhzME6NTz5lMm0499zzkIgbJwZdzwFz2keYjhYYIBmvEGdAEN3gt/lHx4RcIfWbGz+sj5FrH1uOcAxFrX1czbx+c3XlygA5g1r7wIuJaE5kctwGAbB9+0doPHTQWM8QCmreIk1sXy3bhqH331sNSoFOvRObN29GMvURamv6oG/ffqZdt34bn2t1fNN1DfX1DfjOd3+AMWNG47JLP+00kky/za1kMoWyigrs3LlTqt8HDh0ECBBPJJFKMY8RErF9rHfkUCxbugRt2TZ0ZDvQ3p5FJtOGnTt3Yfu2rTh44CAe+vs/7Ko2rl9vL1N85xzzm1WGa754Pa754vV28osvvoC77rydyU7t/rGs9uvfH61tTWhpaeYZQNDR3o4W8+LBgP79uDYhtk0wY854785FF1+Cmpo+UoZx447CFVdcBRDj60LXXvN5ZLIZc20pBJn2Mb+9tY99btVqLNlaoLu0LwBDrtpnbxOBQciAPBjEPf+xAAAgAElEQVRYU5Ez8NrHelSc+u3EcQyAtM1yY3Brn2gv9NpV1hYS7VMxuIH851wkt6lbQmb0jBNruUvt27+tZ2n4N2ZTGgN7MDp16jRkMhlk29txYP8+rFu3FrfdehM+cfa5uPrqa1FRUQ5CdOOFOxTgz8JSrmGtly7Yb49j6qHMv1ycGUWIgoEC4k0d9kG92DaEguhOwxt3qFPHvi2q4gSRdbNsqhj+ScaJWQfrI3GlC5Vi5OgxmPfqy9i2bQuOHDvWfsaDUIpDhw7iw82bMHHicQ47YdtJ9EqXVKes3G5rImbj2kJgcE18XpqUr0sgnAm5d8T5wcV7vD1F1Q+BGVxq5N16MjfyZmD3Umw2TwbGV6miqoMfg/XYXVlFJY45xrl6anxu0FjEpNMptLa0YOfOHRg+fARvw8VgFmd0gxCCK666Cvfd+xOsXL4MkyZNhqZpWLrcOMAfNmwExo47OhRDpi2DrVuMT/VMnTbNzmnlPXLsOKSTpWjNtMJRI2O8NjU1YeeOHdi3fy/aWlvRlmnDtq3b0NbaikymWVqzo8N8P2SzWezZsxu7du5ES0sLMpkMMtk27Nj5EQiAjHmni9jmgHECzmKYNnMGysy3EVt50+kS3PDNW7nCs844C28uXIC//e0v2LVrJ44/4UQMHlyPwQ0NqDVfQmfY13D0Uceg/4BBeHHO8/jq176JqqoqZNszmPviHNTW1uGEE070aGFJUGifM17FJYGkIPhdp2o+8Au5fPRbrRueDFFoH3GX5jeKVPsUbkTNkL/2yRn+/Kff4blnnxbWGzBPIlLjCjOAeDxum0nE4lj85kIsemshCDRcdsWV+OK110MM7HjlHoMmOjSNIJVKIp0uQSIRZwspGVLpNKqrqrFy5Qrs37+Pf5EkgDXvvwe9U0dDwxB+vDJrJiOGoKK8AoMHDcaKFUuxcsVyEI1A0zTE4wkkkwmkUmnU9e+L9mzWvluHe/Gu7KFggYG4UmSHGdwre01/eav1g+tBKcG6tR9gypSpNgMB0NjUhI+2b0OMJNBvwEDOLoWlH0wsAeyTNwEYjJ+UKRwueGufty71bO3LlUFmKn+G3rWrwr5kW+1Dd65dveeeP4NizgkMFPlcGecMs44QOIIkBs0+6HZuMwdAdfNqs7H5rdtuB9V1tLd3YP/+/Xj2mf/g0UcfwZNPPI4+fepwxeVXgIJwt5tzT3ZbKkusg2bKiS6193qCe7Y6O2XUDKZlm4M6x/usLWrCMhPMaSVIblNXDQx1sM+jq457GDvsdIflGhNmnXEWnn76Sbz15kJMmjwV6XTKKEUInnv2aezbu5e5MmkZc+/ocgl2KVHbFY3g3TzWtCNCTkUpV7RXPwTsGCZfYAblRgAGL+thGIi83u5ioOa8GT1yjPACEMNGv379EY/HkclksGfPbgwfPsI8C0q5fC4G4ZnKadNm4M9//D1ef2M+rrv+q+js7MTyZUvRlslg0qQpqK6uDuG3cZD70fbtKCsrQ13ffq702to+0OIakAHYfnp/zXt45OH/xbp1a7F33x60tbahLdMKUOudyYSf06rpRoCmxkY88sjf8OabC7Fn5w40tbYgm8mgvb3d0Q2P+UopRVNTEwBg9Jixqlxg22TKlGn4/FXX4N///Af+858n8Oyz/0Hffv1QX9+A4447EZ+66GKjLSkwbPgIDBs6HLs++giL3lqIM878BFauXIGPtm/HtJkzhYVuFEF9BYDPxegGo9+uEEo3ogp+DMWgfaw3XaAbXa3fVMwhcduD4VOfuhinnnq61I+dO3fg0b//DSAUX//GzUp/RxxxhFMTYZyyxys/r42rgYTblgaBobKiEsOGj8CiRQvx1JP/h8uv+IK9i9i/fx8WvPEaqE5xysmncrju8QecfvpkHDFylLk8BUgsZh6Mx5FKJpFMpVBaWmre+m6UHThwICZNnmq870LQPlmg1lpMDmS+QI1w6zVrVcbmbBgyFA31Q/Dcs0/jM5+9zLwDyQjr1q3FqlVv44QTT7SfHTeqMozy18dZP4g/g1lEJ9ZL6HJbT7lDGO2zNtg+FEoXpfZZuYpDv3vXrmLOrli7usdrlzNQp2ZlBiaNIIcr45Ra32J1jjrtWxthLp2J5YxzfpAAzPcXifk8DAU0wuwkjNu1NRBQLYZUmmDAwAH4xNnnYsmSJXj33dWYP/9VXPq5yxDTNFACaNQoAeiwb9ug5uubdN1YtxLYz4JTAjPeKGM4pkGj1HwjqXnAbCOyHSowWEfT5q0lHAM1F7rWmRGqwbxh3d5NEtMf9gq800FEqn+yfqBmHR9u3IgVK5eh8WAjDh46iN27d2L1O+9gz66d+NUDv3N2gLZJzWwUau3NcfIpp2LcuKPxzDNP4cgjx+Kiiy8BQDFnznP44x9+j+HDhuOEE09ieh/CbVTiBHB2PBQUmbYMmhobsXvPLmzdshVrP1iD8y+4APX1DUYJSmBdUVcPeWpbtzfhMLgD25CsPywDK/NCzWIUU49sPpiDEOKOg7daAAYEYLDq8GNgfAzGYAmnjMHtJdtOnEbIGMzxdfDgQSlDS2szOjt1JBNJlKRL7PqMQ1cZAwWoDufrA0aoqq7BKadOwvPPPoX331uNur79sG7tWqCT4tzZ54kN6csQj8VQVl6GHdsPoLOz0zjwtpvD+CyZ87Z5ox8aGxtxz4++jzUfvIvS0nJcdNElaBjSgJrqWuzZtxe//Pm9aG1p5ser7M4Usx8e+t8/4eGHHoLeqeOc887HkWOORF1dX1RUVeKPf/wtli9dbj47zzOw/ZZMJqEB2Md+FcFjLKVSKVx+xZW46OKLsXjxIrw2bx7eeGM+lixehKVLl2Drti246aZbUVJaioqKcpx86qlYsmgh5s59AbPOOAvP/OdJxBNJjD96AiqFlydZdQSdczIV8Ztzjv18dCO4fodj6NW+YmAgxNIYpkwIhrFjj8LYceOkurFhwwY8/dTjIFoMM2bOckx4jNdsWxue+L9/YdXby2Ht19999x2XF8a+2vJdZ1pJrd+JZAJTpkzDnOefxd8ffgjDRgzH1Ckz0NnRicce+zsWLXoTg+obcOqkSY7aEgDQIYa6ur6oq6vD+g3rsXH9euiWflJz3QfYbW/pUqdOMWPmGWgYMtRkUM0Nsy2p8Yz9ypXL0dLcikOHDmDv3j1Yu2YNVq1ahW/ccKPdsyypDvYgnqK6uhrTZ87C3/76J9zwza/g57/4DdLpNPbu2YMf3n0nmpobcellVziPedif+ZXtSw2b1gliSoCObBYtLS3Yu3c3tm/fjrVr12L4sGGYNmOW0c12P+U2XvPTPra8077dq31hGSLWjZwZuJLo6doXDUOAdZ9YXLHecK9d3Ra9GdTalxuDwowPQ+iDcWuiOt97g9159tKXGn8tebUlWSewF8AENtTiJUvw0F//hJLSMlxzzbUYOeoIY4RR45uNhBDjdiZooJ0daM9mEUuXwDhsNmrVrYalRjHxYTgdMHI6H4szGHTDYd30xx6z1OpeFQMcBsA+fLSuXFHrbRLW//ZzD+yVemIzUKtNrU7j9y9wRzv9ECdxpNNp/OWvf4T2t78gGUsglogjmUggXVKKdEkJqG6U182msSGJMAAJwbVf+gru++lPcO999+Af//g70ulSbNywDlVVFbjo4k9j6NDhLqExyAnHoBPg+ef+g9dfm4eWlmZ0mp8w0wDE4kmUlqRRUlaKE08+BfWDhwDUOrFgX/9zBXsKiXNPKd9uIbMSWfvspMy1HwjrEz/Nud+clHE+eTPwcy5XBitdZJCovA8DpHXIGNhP5IkMxJeB6IbErd+wFgcO7rffmG65+uGHH6KjvQPp2hL0HzAQoASJRAoUFAcPHnIxtLS04MABI95ejlIgkUjghJNOxNy5z+Pxf/8LZ587G+vWf4DTJk/mXnQUlCGVTmFwfQO2bduKVStX4bjjj2MyEGz+8EO0ZTO2FwQEO3Zsx/vvv4vq6lo8/n9Po7TMeVnTO++sQiIeQyuzE6FmaQoCvZNZ/BICqut45aWXAI3g7u/9CGeeebadrFMdf/mTcfXJOpnnnm/GLaR1ffuCEoIli5bgqqvajatWJoOu69i8+UNkMhn0798f1VU16OjsAAFBeVkFZkybhRnTZ2Hf3r3452OP4i9//j3eW/0Odu3aiWHDhgMgmDRpKn73Pw9i29YtWL5sGRYvXYza2hqccNJJ9njynHPC/OE5hPIK3eCiubPrXaQbgRmKWPs8GFzaV2QMYbWP1Q1/BisuuPbplBgf5wqg39VV1Rg6YgRa29qw+p3VZjpFZVUV+tX1R5n9gkijYutwvNP8bXMDCv0Gxk+YiP+65LN49JGH8Z3bbsPoMaNx8OBBbNu2FUMbhuCuH9yDmMZ//9xSNRnDq/Nexr///Zj52UPzooBmvYeHwH4FOQEyrRm0tDThxptvRUPDp7l+EPdBMU1DqiSN1e+swje+9mXE4jGkEgnE4imk0ymUlZeiNZMxlz7U9ksjZnV2WxDE43F84pzZWLPmfSxauBCfnH0WGoYOwfvvvYt4PIFPX3IpjjrqGGYIOG9kZ+9AAAEINGzfuhWfvvgCdLR3ojXTYi5UDc0uLS1DWWkZzjznHONgnBlenCnp+ttp84JpH2eR/d2V2qdmYPMUn36z5YtP+wq7drXiwq/7imPtmhuDbtXjwWBtWQw536bOt7/VIA6I9YuDktxPSQAMGzoUH6z9AG2tbaisrMCXrv8qamtqbAtvvP4aNm3aBAodgxsakEqnjVpsWqUrTrXEFDXqfOpMAzW/Se4uF5ZBLMe+oI57ThWUqcthYOaZfPJQdqw4GwTA+InH4lu3fhuA8VKnVCqNVDqNknQalZVVqKisRHlFudu+qPSm2RNOOBG333EnFix4HR9u3ID2jg4cd/zxOP7443HqaZON59iE4Ny6b4QhQ4bgUxf+P7S1tkKLaUgmk0jEk0gkE0imkihJl6Kqqho1NTXG7XZWA1jvAVAEWRsJjrifZxKEzC949gMXzfeDKr/SvmvDZdbJZMVFxeAaWBKVD2JfVYZhsG8Xz5HBWuAQAPf/8ue4+ZZbUVJSCkKBffv2Yu6Lz6Mt04q6un6GbhBg2HDjhNHy5cvQkc0ibj1/SCkWLngdBw/ud805AoKxR47DkCFD8eq8l5BKJtDc1ISL/t/Fbr8CMKTTaQypH4JFby3EH//wIIYO+zH69KkDBdDS3ITnnn0arc0tSKSSti4cOHAQBMARRxzBHYh3tHdg7otzcOjQIZcvybhxUL1ly2buG7aUUuzbuxfpVBoNQ4aAHQGLF72F1atXmSwOzMGDB7F0ySLUNzTgiCNGIRbTMHrUGFRX1+C9997BC3Oewznnngfr9qd3V7+Dn9/332hsbsIt37oNEyYch3vvvQfJWAIzzzwTEyYcCwKC2j59cM45s/Hnv/wenZ2d0HXnxEF9fT1OPfk0vLVoIR599GG0NDfjhONPxLBhI0wQtfblMx+4dGHCci9biWLOBWQIpBvdpX0fBwbItM/HJ4l9fvEqBBcDQmkfAXP6MgDDlGnTcczEic4zxkx+jWjo178/E+PspzVrDRKAIR6P4/IrPo/hw4dh6dKl+PDDjajr2w9nnnk2pk6bgVFjxrhMeDHMnHUmxo47yokEnGfDmbUYBTB/3st44sl/i8s66T6ooWEIvvrVbyKTyUDTNCRTKaRTKaTSaZSXV6KqshI1tTWY/+o8riD3Yk8mjBg+AjffchtemPM8Pty0EQcPHsDs2RfgyHHjMGP6LOZEh+U3sZYxdqisrMb5n7wAzc3NIJqGRCKBRCJhrIkSCSQTSVTX1KC6pgYDBw3mGa0u41qvV/tcQaYbfmUC1NHtDD1+7crEFUy/idofL/uqMlEwSPYPfgyRfWfcOq6Ud6SprozIGhvGbdt1ffti5oxZeOaZpzHvpZfw9oq3cfwJx6OsrBzvvrsaGzasR1trKyiAz376UkaOGGLnUjYHLr7bDWCe12Y8JdRYvFLC3tog1OHBINIae0JwPtnBfPm77QmVZ2P3S14vzGhoaEBDQ4NZyOhcWT+IfjptYF61N5NjsRgmTjwWRx11NLKZDCgokskU8/kj020iaycjDBs+Aldffa39lXeiEWhEM+5yMP/nIC0yajx6IEnyCTwDB+khfh7vgghgQs4AgH+RRODQhQyi4kkHjMkQsCOMbG4Gz50Q8/yesgrGxRfmPI+mpkacedbZoDrF8889jUWL3gR0HV/60lfsz9DU1dWhX/8B2LxxPW688Ru47PLPg2gEL8x5Hi/MecY8GHRXWj9kKIYNG4G169fi2eeexsiRozF2rPrFbV4MyWQKM884E6+9/iqWLl+C22+9GedfcCEqK6sx5/ln8Nr8eWjvaEcilbQhhw8bjsrKKrz99krc8+MfYPr0mejoaMczTz+FN15/TdqQAwcbz1WvW78WP7nnh5g+4wyMGzcWVdU1OO74E/H666/iFz+7Fxde+P8wYMBALF6yCP985BG0tLYYc5PC7usHH/gVXpjzHMaMORLfufNuDBpcjwkTj8WsM87CP//1KB74zf1Yv349Tj99MtaufR/PPvcM1q1ZgwEDB+Goo45BPB7HgX37Mf/VV7B8xTJc+rnLccz4Cdi9aycefODXIDrB8OFHoE+fOqd7CcGll1+Ol+e9iDfemA+9sxPnzP4kEomEr/a5+kGhfR6FpHNO8nJVtkioOReGgUTIEKVuKBk+7tqnCtKkaBgo5HGE/cUwVFdXo7qq2lu/OadNS0J+lX5bIRaLYeq0mTjt9CnIZNqgaTGkkknE4wnl+sVt3/g1dOgwDB06TJWBY9j84SbhTXTqUF1bixkzZ/EHlNLArpKd9YYs1Nc34Iorr0Imk0FnZ6dxAJ1KQiOaOzOzDrZCeVkZPn/VNc7newmBRgiIpvFrIceE8dcFEL32yfaBvdrHm8hF+4qNwR0OE/3Oc+2qtG/VIV27uqG89NuKDnUwLveJWse4pmlr+IL5ZcqLeTHEaSPnGaHrv/xVxGNxvDzvZezeswvPPvuMYZICqZIURo4ahZtuugVjjhxr18t5Rp2fBATGJ0IMYSGWl9R8aYcZQ+wi5r3/9pki6/ZxGpxBaG6rIAGMq1WEaR3Ct5Or76xou01ZTtWBi630XBkqlmftMzm4gWL+sc7gGkmUt0aY/qVufzSiQUskJY5aw95uEibJaHPqycCjOBmJuw2J2z5XqZ8QCP0QlEF8JiQfBuo2BVk/FJTBQ/PcdUgYlI65x6ssEB0glOC00yehurYW8+e9hPmvvgIQQIOGyqoq3HjTrTiaedN6VVUVrvz8F/D73/0Wi95agLfeWgACoLS8HBMmHIdt27Zgy5bNnG4AQCIex4yZZ+Dll+eivT2Lk04+BeVl5Urt82IghODY447H56+6Bv/z4K+xauVKvL1yBSgIykpLcP75F+K11+bhUGOjXaa6pgYXX/IZ/PMff8eTj/8LT/zfPwEQ1FRXY+r0mVi96m1s276Vq6dvXT9Mnz4Li95ciGeefBKvzZ+HO75zNyZNnoLPfu4ybN6yCe+8/TZWrFgOAiBdUoJRo8agproG8+e/bDkLSil27tiBtpZm7D+wH9lsOwDjCv/1138N27dsxYqVy/HIww/h7w8/BI0AyVQKo0aPwV3f+xFKSowr+V//5o3Yu28PNqxbi+/ddQese4vSqTRGH3kkPnPpZaisquIYjjrqGIwaOQbrPvgAFRUVmDRpsrtNlTvvINrHRHKG5doXRDeCzYco9VtgsDMWXvv4fUjXaF9R6zdl/vdgyFm/BV1ybPAjI5x+mw4xdRCGRanfjI+EECSTSSSTCa7ScP2gGN2yvibmbevEWYvltA9ytbMBTR1w13BjQ0yLobSkVDGQFQxWOiFIMBcyAuuG1V3mhaYwuiENEu3jbPQk7YtAv5UhAu0rNv0WjfeuXWV1hGRQzjnq+hlE+0IdjNtFOTuiK1TyywyaOSHNVDudEpSVleGL112HE08+CevXrceePXuQybShpqYP6hsGY+LE41BfXx/ISfGb3dRKIFYX8v4RLpb3zcXAvNyAr0k+rChg7lD4fbdomdtSjlCLgSmk7AcwO1gj1NTUYNjwEUikEgo/XOrDCIOsn81bsmRD3YsBcgZCmGfO/Ux5zmIEZAhhQ5Ig90teKFeGwH3tYcMrIW8GP3ciYOjTty+u/MLVGD5sOKZMn4GTTj4F761+B62traiqrsaEicfiZOtNvmYdsVgcnzh7Nvr1G4C3316BQ4cOIZ1KY+y4cThm/AS8/tqr2LdvH2KxmMud4UeMgKZpKC0tx4QJxyKRZL4tLjAoRZ4J551/AfoP6I9ly5ah6dBBJFNpjBkzFpMmT0FDwxA0tTRj5MhRAIwTYJdeegVGjhyF1atXo6npEEpKSnH8CSdh9OjReHnuizhwcD9nP5lM4YabbsGit97Eho3rUZouQb15p8yECcfirrt/hIUL38Du3bsQj8UwYsRIzJhxBlasXIYjRo7EoMHGrZGEEHzlq9/A6NFjMGr0aAwc5DwnX1Jagrt/+CPMf3UePvjgfbS2tqKiohKDBzfg9NMnox/zrd1BAwfjxz++FwsWvIEtWzajubkRJSWlRt5JkzBA8Yb0a7/0Zax+ZxWOGDnKOQnIBsK0eICxFG7OhdG+YKakCSHnw+GsfXYoRgbC/O9RTc7aR4S/YqDCWGLrUDAMHDAAhBgnxVx1qOqJeB/E66V8zSIysOtEry5VarGEoaysHMOGH4HKymomWlwHsjZU1oU4Ksa5ywTXDTNC7OsCrQVCa5+sSaLSPqqoOhIGn712UN1gzRxO2udp30kv9HjNm8HPnUIySM5K5XabOjcTTfmyj16JedBtZrRvH6emmLIfGjPNEYDqhkBOmjwFp58+GdlsFp2dnUinUtBimmObccG40dT55aTwB5jOO+/EXYHz2SSnHFEwOKerZAycG6ILHgft7oNiuVA4sfyZJYi+SxerRjh39vmYMnU6+vcfgLbWVsQTCe5zHY55sQ7WP8u2U0dJeTkI0aBpGmvEg4EJDIN1+1Y8GfM5leUzGYIwCObcVkMwcCnMX+U9OLkyiHVEzSBhcX0PUTIOfRmQF0NdXV9ce92X7ZizzjobM2aegc6ODiTiCcTiMSc709clJSU4fdIknHbaJGTbs4jFYojH46AALv6vz0gZKKV49ZVX0NnZgSFDh2L8+PEAKPbt24df/+oX2LhxAzRQ8+VEzgkpozCxeSkIhg4dirvu/iFiMQ2nnjoJJ510Kjo62hGLxe33LvzXpz/rcqOktATTps/ElKnT0d6eRTyeMF6ORIBLPnOp0PrGr759++Lc2eejU+8EAbHnItE0jB07DmPHjkUmk7U/I0QIMHXqdEydOo3rjyOOGInrrv+KUdbesRlM5eUVOOfc83DmWWejo6MDiUTCOZnBLUyAvv364ZMXXAhd70R7ezvHIHS5/WvSpMmYNGkKxBCF9kWmG75V5aZ9rjkHWYEiZOBSCq19Vuh+/aay6EAM/tpn3bqcSMQgC9bu1wXD9bWb4dbbvwMQgro+dTD0sRSxeEx6u7Xjfm5zjhCCeDxmXkGXuCi6KmWQB9U+SLTtpRsTjz0WP/npfaisqAKB8cUIAoK47CSg35hlkpOpJAgo98pSWfu4fZPVYbSBRvgS3a59VoprevjNuWJhIB5VRaTfkWqfwCCY6zn67a99gRmUbqgZVLqhdj8cg9ySwr7EDKHsG3/8gqLS3bt3IhbTUCoe2DGFrMqdIUWhE2K/oIIS4xCXfUO6OEDc0sschBPnEJnq7OcZzLyUGqqmUxCNOm9V5z4O7g0ejAEwPmEWnOFQYzMqKyuRTjsvbOJf2U9YN9yDXeqtf6xRB8C+vdAZv2HsK2rsdgZ1UDPwKdEySARVxsCWDaB9uTI4L8yJikH+KYldu3agoqLSvo05FwY23dXXOTG4865a9TbeXrkcjz76MPbu2YNbvnUHPnnhp0AA7NzxEe749q1Yt26t456tQWxw6OsbGvC/f3ssGIOHX2EYZP3AFwk1oDx8KjyDNGtEutF1DD1J+4qAgc3lMVTz1e98tW/Xrp2oqKhASUmpp/ZFod9sejTaB3dsdzIoPLXCocZGHNy/HzW1tSgvL1fmPdy1r/gYeteuuTOoQ/GtXbtGN6LU70IytLdnsX//ftTW9hFedu2t3+GujLNOBXSSmger4iPHxne3qW1XA/s+bqvR+L9iw3K3FZkvRQMAQjTBEjX72fhrf3bC/KxZ7gz8WydzZbB+se9NcASZKcFFCZML7mzymph84jMPnBCIuZ2K3PblAyEwg6xswFhvBjEEYeBT/Bi8XhQTtp2ILKd8VeFTo4KBe/jP6YKCM7hCOAbufSKUecGGJ0Ow8cravuYLlwMwPhV0wScvwhlnnmnnrKquwRevux5NTU2GnBBe2lkVsWotKWNPrvkwSD0NzyDrB76IWjdkgTtI6mIGadY8tY9/Nw2v34VhiEb7wuu320LU+h1ONxQ156h9+ep3/trnXB0vtH47RaPVPi42KIOvbuSg3/BmqKyoQGVFhZShV/tyZCgG7evBa9eCaF/e+h1M+6y/PWHt6hQlXJb89ZuJjZiBsv+GWLvm+DZ1blbbFUtdZa88Ezaav7WcCm9DlwUC48AY1hklNr/Glmeag8C5U55xRfRHfTO7FwObMxiDkZXYJwbsL/yITRo08I6KEXyQJvupupnuccoup5cv5hDUJ8ICMkjy2OfjfBnkdYTFjo7ByR+YQXEWMbQrQfMoC6kZZOb5m1yCMgQYr0J7fefO7yGVTqOuTx3GjjsKqVTKTkun0zjxxJM9PZWl2P4FYHA7Gp4hWJDpt0L7mFAwBtF20KDQPq/pRRRlFB4ijPblr4Fdq9/BtU8eepT2BdXvoNpnrxaCFsxN+3hno9W+nPQ7oG50h34HC4eh9llFik37wvhTZGvXw15amwwAACAASURBVFH7eteuwfTbSifiesOHIceDceeSPoW1WzIGvEYdVymsb3nDdZBKoDE3c1PjLnIKUPZzYGY5SgAN1venzevOlAGT2LcDk49YV88tu4BzhYsaz2lR6jzvY71P3Y/Bfp2bD4NxEZ5wDEadISaT0J/8pswIc2uEfA9v2mD+5YwSrp3kgy7Ii6yCMsjLRsIgqcuaTv4MfOnACyghR3QM7l5X95HbhieD0oAw55Q5BAZJ/SoGmV9hGFiDXuNVxnDu7PMFBtkOqHgYrHkpC2w/uCsJwsDMOU8G1XgNwaCsQ3BcoRuBGHKcc13FIHrO5iiUfgfXvjAM6rLdrX2B9Dug9omH4lEwyPyS1yHPyzKE1T7eRvcxsAaj0L7cGIJqH1NfxNrnrd8htc+T4fDUvsIwyMtGu3YVWyzCtauP9nW3fgfVPi8GeOSJUvusO53DMEg+lBgsEOavfbM4NQ46rdvArechjGQLw8xKnNvMCTFTzSzUskwNo9Y3wI170S0I5ohXAs3+tpIp2wpWLmo2Oiisx+cdBmI3rBeDVR8B9WRwGslKN2+n957NfL3EneIE4cUyps8yEXLbcBhY3WHrkLtpt5BPCMqAHsEg2e9KvGPHZzDrMgaxDkdSVTbcnvDpOTAorMvrZ/4lspQoGNy/RWtEmkIkOWXlZAy8XSmDfIi78skVKhyDV28QJp/MIZGhEHNOrCssA5tPMMRtfhwYLNs9QfuC6XdXa1/X6resrrx0Q2k3uPaJadHqN28hOobCal9u+h10zlm/o9eNw0m/LdsfH+1jN7xOiLA2uo4hX+1TWc9Pv4PqRnesXXkLQRjkc8Zbv3M+GPcMhO1IpzpuyFAnAwU/nIgZw0s1AO4dlRSEqhpYbCjvxbdVq+0CZRgEOyoGEIB9h6aagbenZggbxN2xe5OpVVpaTOM992jDSBmEoDQdlMHHvp1UCAYicyJgab+xHdSoTBb8yoYTMa/S8tgg85HNrZI2PvALOy8Gf6ZwHvqb9mJQzTlPhgDjNQwDUW6w9twMfrqRL0POIULt6xqG4PodXPu6U79z1z710tJL+4qLIZ8cfO6g2seWYResUel37sGboZDal8OY6KH6zYUep9+H29pVXfrwWLsGDeHXrt7rPv8QpfaJp0n81q6hD8YpFYGtiqxbrwm4S9DUeduwfY6IAtzlYOpMHuOKtPEqNEKMg1ULikCHfSXarkZ+4O/U6fzrMDhTlTCplLJXwq2Dc38GK5sfg1MfsTvJZjAalmfgtkUGr4FnplBnm71nwmuIO21hbNl1UN4+V9qrH3wY+AgvBqaAZ1/LzpKFYMihH7wYXP4GZBCDnIEpLfa1hEFpOyoGc9uXgekpblGgYCBMtDcDsyMzGbhejpTBrsmbwc6lZlDNOSkDVygIg59u5Mfgpxsyhih0Q8ZglQ2mfe6Sfgyso9FoH5PBU/t4BtEXGYO1ddjot+1vT9HvqLXPCT1J+3iXfLSP232EZ4ha+8S07tRvpnQg7Qur36yj0et379r18Fq7BtM+Jy689nG+dbn2OfFhtC/0wbhxS7lEjqhVOQWI7sRr7CKJuW2IOi9wY89iEUIB6xZ27kDcelO5+S81r5Nb97hzk4qZsgQQ25EQ/hq284vyDNRk1YidTcZgl5EywLld324FatelURgvpbM4WAbJuHLqkPWD06KGj8w5cubkBz99uJHK2WcsSQM70OwtKQM7Adx1iAY5YSLMNGCed3PGvto/x6x6Ce5iYPrBabsQDDyKucGIc74MkqxWO3U7gw+GerwyDLa/IgMKxmAHnzmXEwM8GIRKVHNO2IUy6OEZvHWjaxhs1fHVjVwYiAeDaCo/7QvPINbBZPDUvqD6LfMzhPYpGXKbcxxD5NrHMnSP9tkhRwbXnFMyoGAMSv0uRu0jPV/77BIF0T4vhuLSvujXroydgAyOwQi0z1O/Oad6165wt1O3M/hghJtzTp4w+h3NbepUZBG9ITBwuENW2yHXrSdOK9lXjoXhBwLzC7+Ur0Os3ugAxjPCV0EZoZUx2O1GHQ/CMYg5BAYC+zvlnBeKyR4ueE1lZkusW25K7YyrmMjAbgcFcYa6koHtW+81qVNIeoVJ5pZilyowuKxJ20l4+QVlUqlYhgny/aUiyATFi8HDdFgGVxnX4PcP7E5RcCYIg6QYY1rB4FFGImr+ISyDu1KlP7kxeJsPVDETly+DqH3+uuFvPmDFitiuZohY+6ytAmgfHx9Qv6PUPjZwOihjCKt90ei3vAzrq+K3NF9h9NtPN5T6HWa/aucLqxseoTv0222Er1eap1f7XOl5aZ9TSKl97FZo7VNNACEirPZJjUawdmXd7l27htK+QAyuMlGtXYnbtGp+mCGSg3H7DeUSF6wDUdkYV0wPYdAR247IzHeXLu9Tym9Q5kwOEbJRwo4vFQOJhEGcrtRJdQeq3JBmk+XwnO9EUYdk8nt46V2TqhCVbwZiYHfYQRkIiZSBSOrwZSBMKhHSuGHDMEhEyLtJ/ZREmAcKoQ/EIKaxZ0ul716Q2PYTWWmaWCioenrX5GIIMOek7oSq1UqIhsEdHZAhrzS1bvjZ6jbtU9VR7AxFoH2y+Mi0j2Xgjhu8GTy1L6B+e2QPoH2scW/95p0Q06LRb+/Qq9/RaZ+VUOS64ZnWQ7SPTetJ2sf5w6R5MYTQPnXt8ujetaskLTLt8/PJrX35HYyzfULZKCdBsw43zd6iTFliHsRTCvOb3Wawbm2nAPt+ed5ZAsocgBNoAGUb284mnAJx6nG9LEFnc4RgAMtAeAbIGajAYDWGtAu5MzqS0ypCPyjPximCfdaIWnTWmRN3Ka45RQfMHP4M6viewsBPRma8IiiD3C/YpnJnsE4meUoa5Uayi8H6LasjJwZJkKdQLk3GQJisuTJ4eUFc0f5zTha6kiEK3fA1oUhTzjlxPaRywEwtdu2T2+pZDMWh3x5zLk8GT+0LqN/W78i0T8HgDl2j315ehNbvItS+otNvqQddqxs56bcqv+iAmdqrfegRDL1rV8ZZwa/8tI9fuyrLmVlFhpwPxrm5pfLbrNBOtvrHKmM9rE/APXhv/zYHqP1iNPsfplLTBIXzkjXr+JZxQsEgKqYko21fwgCTASwD5Rngw2BdjjcTVDtplZZBjPcaCcrAMORkgHhsOXUUBYPy7HswBqcOHxNeLqiTmOKCIAUpFIYBinbyZSAB3LFEyUdUpcGHgZ9AeTG4QpgGDzFePRlU4zUUA6MbMgbVGigfBsG+L4O0uIJBUYc0pbu1j/qMV7OOj5P2+ZrIR/tkDNwiqzv1O4j2WTmLW7+9Qwj9zkf7EA2Dp/ZJQt7aF1a/fa0WqX77hcNI+7qNoWi0z+2OKhS79kW2dnXV4dP5PtqX93fG2Q0iplEHiVJr2zz2JIIVziC1/xJmi/jNCOtsCBEtyIPG1WUUlDPoTk7KvkyO94dKGfgtF4MJSETHubJ+UhlktIt5mJMDLEMAS9JMVJ1utFVIBqkjcgYjCG83VAWvj7r7MAQ4uvDctCKJRyaWQTbHfAM74b0YlPaCMIjFRQZH9HLfNykYWN2QTxdJoYCVEnYrJ8+FOgMwuJPlsd6D2skUkCHQYYWUIULdEAe4QvtUITSD4EhkDB66YUQVTvssho+b9nGBW2T1HIZC63ek2sdtOc5+HPU7EJOX9hVCv6nz0ylyGGpfoDx5aF8Oa1f/UxUFXLv2ah+z2VPWrrJ6/LUv5ME4lb8Z3twWB5TxlTON8Uz2sjRqJRlbnGHCNAoB1RwLlC9tGzXyOyqhmW9252THLKybt4Zb/1JhUlCRwWoD2yOrXiOGSBlYXgWD8oyOKDeMD5TPwZfgLcgno8Ag5PJ8fIvI+1owbecw2jckA7dTkhp2bRMFKW9DHefHIGvdwjNQyS+ZXXNbmPBsTrm4+DP47+wIlyMMA5XFhWCw+kXUDa6+PBh4T+U2omFwax9Xn2zOQQz+DKF0Q8pAQjC4M3kyFEL7hIUzW1FXaJ8RlZ9uBNHvXLUvqH73HO2TmY5S+6JjiFr7otZv3lO5je7SPncIq31sSlCGMNoXUr97tc+jX8JpX9Rr1+7RPpkNdVxxMuSi3x+Htassv79+hzwYJ86b4bmarAMuySTxfQOgeZ3ZcogA4u3jxgvidGi6og4hsPf7Uyo8aU40p79N3wzh0kGYBiP2/34MBKD5MqgGi4pS7AdhulBw2/KBrKjLLEtEQ2ygvO/sX6VdLwa2YsgZggWHQfTcZYO644qKwS5OJClOBmm9PnbFeD8G/z4W6+AZ2PPKct2Q1Otp3x3Pj9foGVBIBp85p2LIa7xKGFhnvHUjPIOVp+AMPU37CqTf7IaX9hW3fkevfWEZguuGqi4VQ9TaVzj9Lqj2WSkhtU8d1Azea1e+/h6p373aZ2x1JQNbMeQMwYKofR42evzalfaYtWvhtc9Zu+b+Ajfi3hCv+Lqrp9xPB4Zwd5HYuQhgP1dOif2ZM+tf9V0bTOOYGa1SlKpGGd8UXgz2wQU1hngQBpIHg2zy8QxEEueyIrEtSRX8c4rI200hedJUL430ZpAVkjAwncb0uG913gySYpExSDzgmtnHM+L64W07QDRAPPo6NwaulEQ3JAlq2x7RnCRGzMCFqBlUYzECBnHXIrMnY/DWDUl0lzAIQcaQt/ZJUqPSPlnw1e+A2seVjUq/laZVqYo6Qs45IplzyuqCLxXt3F2ofT6eSH572PaI5u457Enap9rsRobi1L4ADIG1TxJdKO3rsWtXpWlVqqKO3LXv47t2JT1m7Sqal29Eo33hDsYV4knNg03x9m2XG4QH0FkbDLpmPc1N+TLGu874Oqx6OMvEEVVqHdCbdXBOUXOTAFTXjeNm2zs1g3NAH5zBereblEGshHKp7snn0Q8udyX5YLeDfOfDnF5gDBGuDrGdZHakg5TkwiDbJUkYuHYi5o7A7YMXQ6CgGBzhGRCIQRZEBn9nhbq9GLgxzrZTNzLI9FJgIJwPcu6oGMS+VjG4x6uCQfCvuxm8dUPOIPqXL4PoSNdoH+8fy5C39iEXhoDax9nLTb8Dhcj0G26GyHVDEXqa9onVsdFFrH1O6Fn6XQzalwsDG6JmCKx93a7fUa1dJaGLta937Zrb2lVWpiesXQmVtb5voGC93r1rp/FZL5uG8tn47BBywfgWndMghJhxrqHGxlGAEtsQAZj79dl8XE3eqfZGDgxMhpwYABAK6MS68i6kCRT+DJLMTCHrpyx7Tgxm3X4MutPVIRj4vhYZnOBJkyODkUyIU0KnlDvho2ZQj9doGay2dkx0BYM154wc3nNOzSDhpg4D97lAhgEwBJFIdIN7E2ZXMOShGyoG14ImAIPbv65hyFu/EbX2eTN0l/blpt9BdaMQDHzWcPrdq33+DBJuRvtCMbB+dSVDGN34GOp3VNqn0m/xzrJ8tU/KwGQoDv2WZC4C/S4+7fNjQEG0r+j0u7u0T8bN6HdtnzrE4nF5cUY3rBBXWFcHk54C7OezoRENqVRCMncYOaGGl7brgoNW+xHivCSNBeWlyYh3yZUg+GywRc/VEMSI08w8gnUXA6hTB8dgehOQwYpta8sgnS5BIpEQPbbLeSqaNIM8yj+DVyFfg95lfBkk1eRSZSEZxOA1R/OqIzeGXFLkDFG0k7Hd2HgI6VQaiWQyYvtMXAQM1pyPoh/8apHGSbXr8GNwlTkstE+yoig27ctFv3MKxa99hqaVIJG09tk9W7+LQTc+DgwF1+9Ca1+vfsvLFPnatRjXfcHy5pdSbAwA0NnZiZaWZiOH5Z/gIyXMtXozT6iDcQowD8ybsxYUIBQa0ZBIJEAJgUadT38RobUsDI0CukZhHKDrADRmEBOA6kIJop4ADBAB7FvC2dIgxq30OphGIDpgv+DNMR6GoVOjxjfFrTMT1tkYYv2mkDLY6UBrawbJZALpVKmbj6uamv+KN10Q/rfVrFysovEoQNmzgdxfSWajgVzdYf+WFY2AQUzjEgIxsPFeDNKKJQxii8oZ3M0YhMGJlLcTq/ZFxCDxGKA4dOgQEskkSkpKwzEEHK9qWQiuG34MOfdD4DmnCj2JwUs3iBTFUzdcNg5P7cufIaj2BWUIphu56bcT6Tleu1m/Gw8dQiKZMDVN7nEh9Dsa7Qun373aF4QhmPZJXc9L+4pYv4tC+/j6e9eu+WtfwedcD2foaM+ipaWZzWInWn1NWAYzT6hnxu2bhyhbCzH+N9uPUObaNRG9cTA6CQDzu+PQY04CYN6PT+z/7Y+PCX3EemBtULYS86fz8jTuBigQ9k3r5ufLVAzi1LAYiM1gnkwQnk8RGUDA3EJjphJjgks1hO1latmS9YPx24pyt5Nc7Y1xT5wNJq/Ylmxfu2sWf/B1KBkklmQMXD5xEgVicI9XOYO8H9wMCMTgDkEYnLz21JcxSGvOjcEZjbkzOB7zDM43/0IySILdThyDUGUgBknFHgxe2sdLcwgGa4NNUznYIxi8dMP1h//txWf72/O0rzj0O6j2yavJVfty028nr6f2RajfOWmfaB8qBhqpfru1j2Xg/YxKv7tT+3qOfgfTPqnreWlfEet3UWgfaykK7etdu7oY0DXap2Io5NrV85hXySAPfmvX0J82c9foOOsSU7e62nH8SyJ0Lgsx/yEAQHW7yalgkgp/7fJChP0Gc7ZBCVuOwnnJm9xfKomTMthpDIM1KK1/GWOyJnKBWgZF1ZD0g9dgcNUh5hcKE0lc4MAwcG57qndXMEhbXG3/MGEgrkJuBmWtsgRGZWyRi5yBtxGEwbMOMcg6Jdc5J2OQFObNh2gjoQ65wS5kiEA3ZPZpvgxO9q5n6NVvWfYeoX2edYj52RWWpX4F074C6ze70ZXal0s/fMy1r6fpBmewV/tk2btd+2RORcdQKO3jKyvk2tVrvAYKIdauIQ/GZUemhD3Qh33kLwmE6LZH/HPeBPYt70xVRlto6tEhPXKmwl0O1i8TVThoZhmcrRwY4MEAIjyrL7wgB3ANaCpjpq4fSgZlNiuBSLLI8gcZxYoBTT3riIZBpv2yrPI6/BhoTgze9QsJ6qHGF86DwbuvgzMQj+xKBlZ4/BhUnalk8NptSOSYOj9l2SPpB5UR336QlfHYpfjMOXnwY/DxKQxDBLohdSFfhsNa+9jNwmhfLgy+oQi0z5WdOH89tS+MbuSkfUEYaO76LfrIFCqo9nktpw9T7cuboYu1T14sGt1wZQnAEFw3ilW/e9eu/EZwhpzXrgXXbyeEOhjnrkoIFTtPXlP+wJwJOo0xJxoYA4SCe/Od0PIGj0ScNSbeOgVj3svu7nDjL6UxuJJMX50r3dS+mh6YAd4MxrazB7ev82sAqHsiSzXZPKihbCrHwAeqGIFseVc/CG4rT4Swp48UeVhasY6oGIho353RNV7dJ2okFYPvfU8GH1UNwqAsaw1mHwbKR7rqMJIjYPDpa2lZXXMyeTEQuSF/BjujRyD5MSi0T8rgVR4B5pwyBJ9znj4oGcx8UTBEoBtuo2EZDjftUzB0ofblwqAa9DQCBie5m7QvqH7nrH2y9Ybbw4+D9tlqf9hpn+BDD9E+PrL7165u3ZAzsEV7166QZjhs1q4F1287Y9hnxtkNy4z57kd70xkEVGgA4+F8mTU2k9ho1mErfys7QECpk2rZJT4dQxifCDeBKVeH9ax4MAazJ6x4F4OVJGOgMN4w77knMlMlE4DpB/6vNLckRugHqswIecMqznRJ6lAziOXzYYCcwVWHX6De7cTGcBMxCAN1xUiqd3zwY1DqTL4Mzk8Vg2ewGNh5FprBZ7xCYJD5FwUD54K7j63NXBnkm24Gd6agDH66ofRIER9UN9Sa4K8bbGoQ7RNdiFL7ZKHYtE/BEJH2SRki0T6ZfgfUPmWIQPvkuYP50B36LfMvcu1TlO8C7cudIaBudKF+B9U+pekeoX1sajdpn6ePMoYQ2sdtRKl9QlKXa1/v2jUaBn/dYBlC3qbOOiB4aG/yo4lzm9nQVO2hvE/HqsdJ15g0q+vEsSy1Rq0/RGge4soj2mQ3HFRB8V0M9lG6+YdlsPwmno+Iqiy6+kE5tJnfVJGgLm5mlCcS5lduDGKOkAx+FXEW/Pc0hm0PkZRFu9K9GALs7TgVEOvwWgDwCZ597R0dzraybG4Mgcerd7TUNpuQG4NinBY1g1iZ91yT+RREN4IvLaPQjcIweFtQFekm7YtAv7lcHtoXDQNh6lEE2ZzjEz2DxZD3nFPmty4EeIRItK9Xv2W22YRIta8LGYLqhjL0al+B1q5++YSqC6J9Kgu9a1e5T15+BLCtLJuH9lFJX/sw5HwwLt6+YA8V+9NeRiz7LXLnGJRCJ05B4VCVyUxhvOXcOtimIBYde6RNAI07SjYMU5jXoqlkKJvfSrcHGDE+ewYXAxQMjh46drwZrNyEMg4Rp5zrEVHTKmUYOETI+8HIzPc8a1r8xLrIIA9sITOnZER3CwNTTsXgFpKQDCQoA+EZRNsK/zivVJNWVdhDWdg5xwxBOYP9rzeD2zZTB9wM3AsLVfoWqK/9GRyr0TJwOaTjFYcnA3JgKBbdCKR94p6j5zF0nfblyMB7JQ3uNH+GQmiflV8j4pUbxk5A/Y5aNwql31yOXu3rcgZZyagYerVPYZv3qEu0r/v1u3ftGpV+E6ILx3T+DDkfjBPOjHGNmRICaESojdi/qVAaprPEPPDlkKwDYp2a9pk6TAu6ddc3FRqKMh4Sqw63fcIUIJS5VTwQA98WhM8mZTCymAwExnfPdSar1LJjWzae3f1gZXbvGrxWOzaDK8jA+dWO91mmsAwoCIM73vS90AycF8EY5BAiA7MDkKm71DK1f3oyUGFbqFXNwLeTHcsIkmjN2SFEw2AnRszg9lmcc24GeTdHxBBivPrkQF4M6iqgZCjInPPRPmlwljlq7RNF/eOjfV3JEFj7pCEK/Q6ofYptgGeQH4qH0++ota9Q+u32uUi0LyeGCLWvi/Q7uPaFZ1DrhpnaZdpXmLUrcZX9+Oh379pVqLtLtM+9LZtzFEQ4ePdnyP02dSEYkNaBmzXgpbm4NArzmVIqzcXZ4OsA/yyqtBAxd5yeo5UpzlamGiQiA9OJzKwIxACHwX9M+jO4csld9bElMqj6krEtvjwjmHfBcikZgllw9asQ7JFSEAb+RIYtuCEZnNLy4KT4+ebs+IJk4xiYpOAM0pKensl9Y+PUDKo5Fx2DdyFnxy8bdV4M/rrhYijQnBMXL/4M7rTuZhA3cmcoVu3LQb89QlcwFFr7/BkCah+XKx/9VtXvlZK79qmr6kLtY+rrEu2LaM3EVRlKN3r1O1joXbseXmtXMfT0tat3IaX2MWtBPqd87Zrbp81c9oSPo3OfMqJWJKyDYwD2rdoUGqhw8M7fiqLbSWy0YdWBo1Yrcw1AAUJAqXmbuKhUlID1T8rA1CZnMOKplebBwCDKGdgE8BvUfelfkld497tr/DCSzVamUF+1kItWJQySsv4MEvmRMLjbScXAnM1yTQzRqp8s5MLAj2tWZr0Y+Od+xDq43W54Bpojgyu3YrxyDGwkdecNzOAerzKGoAuP3BkkeUUGwjN4zTmHIcicE1N8dMNmKCbdCMlgRRUVg2i1O7QvJEO3aB/vRFDt4woptU/mYXfoN+ErC6QbYfVb8DeEfsvqKaj2QdQ+Jp+n9oXV72i1T3SVD736rTIcrfYViKEItI/NHEb7eu7aVVVHWO0TbIXQvmjXrjLH/BiC6Abvb8iDcSL9aVTNdx7vKnHcMxN088CVQAeIWZ7a5hzLpuM63J3kvASOmL8pU7E1iig0zSzNOgDAeRjc8M9+jj0Eg3HQHYxBiOYZmLfQizOaAsLZL69+8ArE8cGeZISzwZeninjBKtMPsl2xPTWkDGKf+TPYu2+2nLTpnR09v25y1yB94TcTaEAGSfdL7Mr62mEgRM0gXah6MPBaY865gjHAg0GSV9LXRPJbNl4J56ub1pNBNl6lDLnNObduBGEQPe9eBqE2x48cdSMnBhQXg9RqAO0LxpCb9lkM8naWaZ/EakTax7Wxy3M1Q1D9zlv7AjAE1T5NKGdl8Nc+p87A2scy5KvfgXVD4Vko7WP86EH6LdQWkEH0vGcwuL3mt4pJ+2x/wjDkqX1WbO/alWfgIx2GnLWvyNauslJhtM/6UHYY7YvsNnUbn/+jDGzDGG0pH1GaeSAr3c2rJiLlY6jylnPDhFWD+LUIzw6l7HQJxqC2CqGjJUkeDI5ZIrSTvC6RQe0G00tBGPyClEHsxPAMYpw/AyN0Ejdk9RJ1Rmkd4nj1bLEQDE7eYAxEmiwpW3AGWV7VTlzlmTDHIF6HCcigqtTFEMy7ILn4EvkxeLrWLQz+c07KoAoig5/2mTmD6AZbR1dpX1fod3Dtk9gNqn2B9DtYX+ei38Wkfe71Bm8pGu0TGaj9K2eGwLoRJHS99hWffhdY+0IxBNQ+idWerH2uNGErHIMivXftKg85a19xr139g79uUMGen/bl/jZ17i+xLzLbjSCMONsxM54QcXw7jUgohf2CBesOc2ri269KZWyZ9i2hFp8p4vbhViMShoEYsRpXTM7A1i1lIHIGasWbBe22sHuAOgx8bbaPssCzMY3gyiQwMNnUA5UfpZTdEO0wJzC6lkESJ7FumVQyMHUYDJwzbl+FWG8G90040TMwHeBikFkT06JlUO0OXAyyVa2qr01bzhhzM7BVOmZkDE4Jh9uLwV1LGAZRePNhkPnTXQze1pGbbgjPwPnqBhfhrRt2aq/2SR3x1D4pg79uSP2xyxRa+2T63ZXa58XgzuOt38F1IyhDT9O+YtJvb+tQMDhpgbTPpxaeIaD2+dj+OGmfZT84QxjtKzb97l27Fly/2XSlbqiCt/bldjBOHVOEUvul4aBwnnflWsc6i0DMb40Z+ZxHqR0XqeWWzsDpxjPhulUQbF0ApQSaVYfOYJmda2PrACHU2ESEtgAAIABJREFUsKMz85Aa3ambbksZqIqB7X1q/ediIDr7qTXq1Gv3MDFbim03p32IDc2huYesbAdAnAQ7P6tVdgFxQBEhnzCQ2YHHVOXLIBTPj4EIDKJvfBl/Bq9+gIJBcpZMKTyFYuDbiWdgAu0aBi6NeYeEyCAVT+L8ljEQDwbBfe+dGGXGqx+DUCYnBmHOBWKgNDcGRMjgqRsKBi/d4AAFBhejmyF67eONB2LIVfsiZYha+7wYeqr2dT2De5zJGXgngul3UN0IytBl2pcDQ87a10X6LUYqdYOPYhLVDJZFP+2z07tT+wLpd6G1jzWeAwMCMgjFA+lGl+l392tfbgzBtM+xUyT67akbUgJP7YtLS/gFjo3IlUFUQOuv0C5ug7J8jCiKpgEYz2uzpiQzzfxJKWNHEgj3j0y5RN9U01IH9/CBD4P3nTxMA5u3IARj4ENbWysamxpRU1MLXdexePFbaG5qwplnnQ2xneS/hZ2T+eP1119FU2MTjjv+RPTr18+fAQwDE/bu3YulSxajorwcp54+Sc6n9E2ICMkQLqgZxFy+CV3NIClUWAZnJyxjCOSEsu5gDP52JL+tW1kAe86585nPxAV1wkf7pMXFvg5kUxLhwaC051eHioG5K4itIxCDV2Ie2heYgUix8tSNaPRbxWDd2eWX77DXPonB3BmoO5NM+3Kdc5KQzWaxcOEbICCYMnVaoOJWGqUUGzduQDKZQL/+A5FMJDD3xTlIJJI46eSTUVJS6hRgtQ8Ue/bsRUtzE1paW6HrOsrLy1FWVo7KykokEolQDHzeYNrnb0f2m++Hjo5OrFi+DNu2bcHs8y5ELKYVRL+3bt2MpUuWYPz4CRg+4ghuvFJKcejQQTQ1NcNeR1JA0zQMHDiIs5/JZPDa/Hno7NQxZeo0lJSkkYtuUPDN2NTUiEx7FtVV1ci2Z/Haq/NQVVWNk085NWft6+jswNwXnkc8kcQpp5yK8ooKSUMF077t27Zi+bKlGHPkWIwaNdptRvq70LrBMHwstK+HMgTVDb+0ELqRi36L9zjL87oZcjsYp4xeU8o/a22ojlA7df008lpnszQwp+lAQEDto2YjyT5YZU1xSspsmGtBahamlBEA4eQNsaNFP0MwEAC65vymAIEWnMGO4xlYNgpi2uAnEZfNJzzxxON48ol/4af33Y/Kyio8/s/HsGXLZpx51idMY0anqprVtcg2w2OPPIIt2zbj9tu/i379+roZzHbyY9i8aSN+99vfYMSII4yDcUlw8doHetZYyo1BWUDBIPuOZNB+MPLK+po/ahVdYudcKAYuimUI6LCkjuAMzIQJzaCqPxyDK0sQBmL4bmmDqh9IoO9kyhncA1WW17ud1AzGhnTOsQxB3Q3DQIS4QjCo/MqTIXLd6AIG0sXaFymDqBsKhkJrX1gGbq3loX1eDM1NzWhuamL6B3Z7UwIQQriT262trfjrX/6AdLoEU6ZMkzp8YP9+rF69CoMGDsawESNsfaKU4vZv3YjB9Q246ZbbMGDgIPzpD79DZXU1xo4bh5J0Kad9LS1teOP1+Xj2uaexY/s2dHR0oKO9AzookokEEvE4SkrLcf4nL8T0GTNQWVkVuPF27NyOx/7xCPbu2guqURPYXDMxDcsutQYNHozPXHoZqiqruLna0tyE+376E2zctAGEEhDzwswpp52Ga774ZVu/s9kMnnv2abw090V84pzzEIslC6Lfa9aswc/v+298/Zs3Y9jwEUaSWUc2m8WjjzyMl+e+AMD4DjGlQGlpCf760COMbaDx0EH88Y//g/b2Dhx33AlIl5TkpN/29DW3f/2rX2LXrh247dvfBSEUf/jDbzF61JE4+ZRTc9aNbDaLBx/8FSoqKjF6zBiUl1fkrH1vr1yB++69B9dcez13MO6t3+i52oeuZ+hdu3ozBFn3eZ0oZHUrDEPOV8ZtO8QZQACM+7ClIw6Wzhs/CWA/xk+YJTslhkBTioMHDqKppQUExoKjb9/+iCfidsPwLjnNa3yE3RrgGuwnfGzfrKZmPaSwj5itfI5TLgZqtwMxTwqYDLqRQJ1Xvdt57V4nhi+UeUiA2H45bczTmUW5CWb8zGQyaGlpYWpzZrSmEZSVliGeSGDf3j3YtHEjstksQCmy7VlkMhmnMmtsdupYt349nn/+abz+2ny0tDTj1NMm4dzZ5+Hoo49BLBbnqsq0Z5HNZKFTp/Pfe+9d/OepJ9DW1sZw8L71qa3DVVdfbZ+V79A70ZZpQ6Yjw2XnWwKKCJ6BG+zsnBMnkZVPaG/XT7MDxG5i+4F3Wa0YRFWHkF9ksLs9LAMXpWZwb6o7IBSD5ZyoG2wdUgZJ6EIGu+kl/eDJ4BdM5996ayF+8uMfol/ffvjZL36F0tIyN4OtZWEZjA0v3Vi06E18/+7v4uijj8GPf/JTJYMUie0AXki5fgwyXvNhkBrOg4HkyOCqJSSDa7zmy1BA7bNzRMEg6oaCodDap2SQBCL64aV9Ct1ob8/iD394EH9/5G/QdAIqPCts1KHh5VcXIJ1Om85RZNuyiGlxpfatW7cON9zwNXz605/F179xIwiJ2dm2fbQNiWQKHR2dIACy2Qyy2Sx30QAg6OjowM/uuwfPPv0Uykr/P3tnHSdXdfbx75mZ9U2yu7G1eIh7QoTiVgLBoWjRtkihhSJFihZ4KVCKu7uWhqAhJCHEkASJEWLEN7IumZ2dmfP+ce1cm5mVhKTlfD7Jzr33nOd5fkd+5zn3yM0lryCfIUOH07lzZ312t4Zly5ayYcNa7rrrNt5++w0eeOAR8vLzPfPLCay8vIIZ06ezbdsW2ue209wt0++zQ5JCIqSgb79+RBojtmwWQDwu2bKljE2bNgIBAvoewu3bym38LSVEmpoIN+7AnAFpJn8vWbKIZ55+koMOPpRJk46x2WLYHdN9mFg86uJvIQS5ue1o1yEPdbKnnTqTrMuLxyWRxiaamiKATMp9DQ31NDZGTIffEiYJBkPk5OQQDAbZtHkDZZvLiEajhEJBIo0RmqJNZj4ZyWLxGN999w0fffgB8+fNISs7m3322ZcTTvoNJcUlBAIBmxGRxkYa0xuRcasufTF/Hh9//KE7f5V87tGjJ2efc56ZiU3RKDt2hInFYjZ8Pxt/O7mvLfk7Re5rawzO9M3lPk8dKXDfnuK7qrzhx982bT6qvMvbH0PLBuMewbtMtCGytMXynsSPmxVdI56t27fzjztvZ8HXX+v2Cp5/4SV69OhhAXDItG6rOpW3A6ZtTu3GbUc86Y/BS0rcLDBpW50bMOPqb1ykDtbHjITB0UgBZsyYxv333gMoLyT0qw55eVx19XWMHjPGzHersrpNkMDXX3/JvffexZbNm9ir/wA6duzIjE8/4ZOPP+CKq67l8MMnkp6R7q5Qyu8tWzbz6ScfIwKC7j16ekJpaooQj8WtRAY04y1Fgo7RSuOOpDV6d2x/QvcQ16yBlSVAeBVQwmBXZLtqYwy+kBJhSCkfUsHgV9mdbZM2wKBeporBHpKVg6c2F4YE9RPNgamuriQjM4NYPL5rMCgyIo0RqiorqK6p9sbgluK6Gw6HWbjgK3aEwwwfPpJOnTr5YFASNROHS5hv+uZh8IzVkjbXnOCJwYM3kmJoY+5LpMovNBtDMxTtDvydQIa0/Uqdv40QCAQZOmQ4xx/XiHGsj5Y2QHn5VubNm0txUYk1ENdlx22+iFuPJK6dmKMPQFWDpGOvunPruhG+/fYb3psymeEjRnLxH//M4MFDCIVCjrSSDevX88wzT/LJ1I948qnHuOqqa72yxJ7OtFnSv/9A/u+uf5o3nbmojquCaWl0aN/e1N3Q0EBjYyNSxrnsL1fRFInoabRUOTnZVFRUAJh5aEh0z4an1ubKt29nzuxZ9FWXT+Noc0qeGrdisTjhcBgpJccddwLHHneC4qNpob6uDgnk5ORYqxmIu4X55OszTz/F+1MmY3xk2PI3Jd179OSa626gV6/e+hPLA5fmXztvfPjBezzx+MM0RZro3acvkaYI77z9JjNnzuDqq69l3PgJ2oDcJsXeGNesWc0H779LaWk3Cjp2tGWYMfmUnZWlpPHIRMu6BNfK3Z3NfS3m79QU/eK7eor+mX1Xv+Dj97l/emhyi2n5YNwm2T4Ssw6ud5tjEqzFGJoYZcwci8eY/uk0Fi1apFROaT/4xEyvDj+dz0zpCF1FQDg7IT29PiuukmRqGISO2cIgzFjCkuDHMykG34KU2sx4ZVUlE4+cxMCBgxFSmksq0tIzKCouVlKbXZJ+6TAoLnn00YfYWlbGJZdezj777kcgEOTbbxZwx+238OKLzzJgwEB3h6QapxOtFDBixCguu/xKOwb9RygYIis72w7OOuEgheAd0VjgYOV+IoHKcxeGhLGTh5QiC+8rGwYveT7MlQBDYq5uwWjPR1HCbrONMCSW1xoslh5faSlj8Kmfjtj2JrgLMRhcZjPAGTMxhpqaah5/7GG2bd3GTbfepg/GW2+701Q/7nNNVXimSM0W4VuuqRiTOCTGkIpw5/025r7kolPEkCxyaooSY2g+bzTLrJSDcElLlb+DwQAHH3oYBx96mMuq96e8y9w5c9h73AQPbX7WazIqKyqQQGOkkVgsRjAQVNInI1Mt/PTTagCGDxvhHogb7pIQlHbvxtix45n2yceUbd6cVK7z0Yb163jmyScs90vz0MD4qyzfHTZ8BEceNQmAaDTK5P+8zWczptvdKaH+kNqgDzhy0jEcdtivLQiefOv87Q/E1RK9fGFFx6pVK3jq8Uf1VZ7K4Beh1xOLw+648x7yOuS59Hj3QVa6hoZ6qqoqOfX0MyguKrZ8VAS57dqTl5dv3vFs8oqCiopyHn7oftLT0vnrdTcweNBgmqJRpn38EY88+jCvvPw8ffr0pUvXri6sXhl19HEncLiS/yqG9Ix0G0KnO2oT5HttYUid+xLb7GHqLuG+5Bh2Eff94ru23ndNqMktr+WDceG4MEacwiA7jSTiCAIirs0GS9BGsHFrHzcgRRxtv5AWtm8v5+WXXqCpsYkJ++zLvLmzTZVSCG2wGRfmIB0RV0aDQjvF3DErZSx3ktJw3DRTpNTnrdXRpI5B6nuQXBgCAqSBQVrycR9dLxDEsfbVC6lvLwcbBtf7bp1sjXc9vo1TWLr2P+BADjroUFs0Y3uDlvW6daYqB24kc+d8zrKlSzjxxN8w6ZjjyMjIAODwI46koqKC+++7h4Vff0WfvfppGEzAbhYVUpCdnU1hUbFaEm4MSn5h5LEfBuOB4oPbG74WWTjlOjWb6YRtC4hXv5pSOei6/J40DwPefaZQNQsbBpuuFmGw2o/ziWlmEgxeM8FWa3OoUS5MxyQRBrOdaI3TXP4nEmOQUpq844tB0WO+4xcJ3hM7MEj98ArnjIs0HELbHmq1HLTlqcJDnnAeLoS7HDxyylUORg6b53Do2Aze0JquuxzMfFLTeGCIx+OEI2EijerSQv/WHpeSgBApYfCrrzabnKVk9jEWBk2nHkfJRPv+P7+65MaQtByawxtKOQgbBmwYdmvus2Fwh7bH0NbcZ+lKnfv0m37iUuFvM6mCUUqmfTqVWDzKERMn8uYbr5mWNOzYQUVFOaXZ2R5Ktd8rVqxEog2oGhoaSO+QbmaDlAHKy7fz2qsvk5fXgfLyCjrk5SkYNJnjxk0gEBC8+MKzhHeEOfq44+nZs5c5EyqBLWVlzPpsBk898RjRWJTDDj/CBjUhf+v21tRV896Ud7DP5Wr5EVNiBiQQEBx51CQzy5uiUeob6oCAZXscbWArAgrvGXqV6mAb8SXgPhz1VU8WtS2hdvOGABt/h8ONbFi3geqGOoTuN5aXbwWgQ4f2pKVpM/eZmZn6F3gcM83C40NPQnmu/83MzOLXR0xiwIAB/hgMsKq1jgmQV195marKCi7+45/Zb/8DCerlftY557Psx+V8/tkMli5dZg3GnQ1O9QmA/Lx8ioqKwI1Cia7nvULpO5f7dgZ/e2Dbydy3x/qupiVtwd9WO0idv+0Y/HxX/xuJMbgBWRjMBw7eaJNl6hJpKrQsUYjQXP5t0K6asSBl0ISwo6GBe+75BzW1tQwbPpxzzzmX+XNnI9Ennk1HLK4RngTngNLmjEq0PeTmIFyqMXFknXal3xLCB4PElrFaYQdcskDrHETcynhthbqBwXDE1dwwhCrFbMLxJjMrrxWDjJ/CuqVi8A6CTz75mJzcHEaOGq28tdRsPuSQQ3n66cf55tuF/Oa0M0z5wquzAKS+VMD2LMHJI7YO1FZP1SovbPdsDV8qgM1mJ50pTWVm+QnbbY+L5mLwuPDEYD3zcsS9iDMp6bniGDKagUFleDVaEgz4YkgcUsHQ2NjIypUr2bB+PVvKNpOTm0OXLoX0HziQLp21QwPVsq6prmLp0sWs+2ktNXU1dCzoRO/efRg8ZChpaWk2DPF4jHXr1rF61Qq2bt1GNNpEUWERJaXd6N2nL+npaWbcL7/8gurqSvr27Uc0GmX1qpVs2LiBCeP3YeCgwQghaGioZ+XKlaxc8SM11dV0yMujqLiInj1607Ww0M7BcW2XY21tDStW/MjatWuor6ujpLQbPXv01E7k9SkHz9xzlINEUr59O4sWfcfGjRuJx2MUFZUwZOhQPb+s8jEkxWWczZs2smrlSjZv3kS4sZHCroUUFRczcOBgM/8WLfqepUsWUV9bTyQaZcHXX1JbU0PnLl0ZNWq0bo6kvKKc5T8sY/PmTVRVVVFYWERhURFDhw4nPT3dF4PKfdFojHXr1vLDsqVs376NUFoaJSUllBSX0rNXb2v2ThdVVVnJ0mVL2LRxAzU1NRQVl9C9W3f6DxhAKJTG9vLtLPr+e6SMM378PmTn5NhMiEQamTH9UzKzshi79zhtBY+jHJwvUew/vbppP/5uLm94cJ8toQf3+bTpn5/7EvN3IvnJecP68fNxX+IaoF6Hwzt45uknmT9vDgcffDidOnXh5Zf+qvXdaC++amuqQZS6MEgk1VVVzJ03i4CULF2ymJUrf2TMmLFmekSM2tpqZs/+jPT0dJqaGlXgpjWlpd247fa7+PfbbzHt06m88earpKdnkJeXTzAUpLqqkh0NDeS2a0e3Ht054ogjOdwxGE/UBxn/BvUfwgMPP6Zg0NMJ7FknIV2fFEBI0tLSOPvs8zj77POIx+Ns2LCe9evWUVlZDgTILyige7fulJSW6i8QJPX1DaaeNT+tIT0tnfS0NIpLSm0vXsFW/JYRQlJZVamlX71ayXhnXTIG/ga3CoYNG84rb75txli1aiVnnn4S2dk53HzL/zFhn18Rj8f4Ydkyvv1uIUhBdXUV4R0NBNPSFN/Vnz8MzdZSfG8MwqzUSubGLblSSj78YAqFRcWMGDmKoIMgTjnlVD6bMY3ly5dw4EEHWg8UK9S2YrmaqXGfSZ3SH8PO4D43f2NisKDtWu77r/ZdPa7dNuwOvmviNtdWGCStmRm3CVYNEViE5AzWaZnarIuRPo4MCGRc8v77U/jqyy/p2Kkjp512BukZ6VhLvvW0aEM26dBrzi4r3CXtT7RHhnKngVavZabxx6BLNnFIizNVWWYjs97J2B57K9HzBavnShDM+XlFTiwaY/nyZTbR5du2mZXRtMMhe8WKFeTl5VNSUmKWpVarBTm5ufTtuxdlZZvtiVzfZbO0/rh8Oc8995QZxyAYgeD4E09i06YN1NbWIhAsWbKYHeGwC6/30jyPN3keF/aNBzh+O0wWPjcSPUsx+C0vdLnsvoBSwOAj3TtJAhnCW29iDGp6v4uWYQiHG3nj9Vd4599vU1a2SZs5BgLBEOMn7MPv/3ARAwYMNO2rr6vjrn/8H19+OY/amhpdV4Cunbvwm1NP5/QzzzJnsWOxKDNnzuDFF57jh2WLEQS02RUpKC0t5fQzzuLoY48nTR/sPfPU4yxZsoj9DziYDRvWsfyHZQihHcIzcNBgwuEdvPn6a7z99hts3brFZJLs7GyGDhvB739/IUOGDlPQScI7dvD6qy8zdepHVFVVImWctLQMevXqxZVXX8uwYSPc5ZBK9gmorKjggQf/xczpn9IUaUQCwWCQIUOGMnLk3kpZWOGLeXN5+qnHWb78B5qamkwMnbt05ZRTTuekk35DZlYWb7/1Bh9/+J5Bmbz80gsA7LPvfuZgfNkPS3nk4ftZvGgRO3Y0oB2yBB3y8zj8sIn8/oKLHJ/CUUzSuU/G48yfN5cnnniUlcuXmTspg8EgPXv25tTTz+SIIyaSlqa9PPxx+Q88+tADfLfoW/Ngy4AI0LWwkIlHHs35v7+A6qoqHn7oPsoryrnjjruZsM+vbOq//WYhN914LcNHjGbIkGFkZWd5Z7hvu0qxjJKElLnP8dxKa/F3m3BfC/D8XLyxU7lP+khqIYaG+nreeP1VXnzhWYqLSzj5lNPo3LkTt/z9DlNXXV0d99x9p+fgLB6LM+2TqWxav5GBQ4aydcsWHnrwPu755/106tTZdAcLuxZx0SV/oqiomKv+cplPFggOOvhQRo4czYqVK9hStpm6+jpqqquJxaLk5LQjt10uXbt0pWev3hQWFir7h53BjdXwVTZv2cwrr75k+nOWf6d6X9r9vA4FHHLoYRQUFNhEfjDlXd56+w1Wr15JJNKIIEBGZga9e/flhBNOZuJRkwgGgyYugFtvuoFAIEBpaSl/v/0frv3wnigkbNy4AQEsXvSdMlBy4LO1M/W39jcei/HB+1NACurr65k2bSoTJvyKpqYmXnnlRaZ98pGtD+rapYtnHqYSGurqWbN2jZ6nmsU1tTUOurfLrauro66ujp49e1JYVOTijZ49e9O+XXu2b9tmg6axulGO2j0pNF/7889mUF6+3WxDxvqIdu3ac9TRx7L8h6XaocII1qxZ7csXhr3/K9z38/quqfp9u6Pvam9zOO1MJKmtMEhLs28E5ZmgBTPjxhJKddRpNTK9oQnDGGtZkgCdYLQrqS/HQQh9hluwevUqJk+eTAAYN3Y8o8eMZvPmTQh9H5G1KFy3RUBASqTjuZBC06svV1fPS5MCiMdB6HuTNMMISIgLY8AsrbK0FagDgzGaNpfACj0HJAFpnRSvOWYB9AXrLgzqDLxVQMJZn3zLQSpvX4wE9Q31/PGPf9AlaTP70aaIGUsTqS/x0jFIKdm0aSMlxcXk5OZadugyA4Eg7dt3YNFPPymlj75E37RMyS+tTJ967DGzHAJ62UghGbP3WJ566lG+WbgABMRjkmgkgnFwiX+Vd9CAUU5eJ184MGhlYf2xMKg07+xgHbcUPV7tQa+EODsOu9SdgIE2xKDYmBoGgzi9MLitVPPJxhEeGNauXcOTjz9KUzTKFVf8ldFjxrBu/ToefegB5s6ZQ1FhEb169SIjI5Ompgj//OedTJ8+lcIuxZx++pkMHDSU6dOnMe2Tj3j00YfoUJDPpKO003ArKyt47tmnWLFiOftM2JcjJx1Lfl4eM2ZO5+23XuORhx5gv/0OoLP5iSHtJOSZM6fRqWMXzjn7fHr17UP/AYNACKbP+JQnn3qMWFOESUcfx4QJv2Ljhg38Z/LbfPXFPGqqq3nyqecJhYIgtB0vW8q28P57Uzhy0tHsv9/+bNq8mWeffZIfVyzn6Sef4JZbbyMvv8BeDr711V4OLzz/DJ9O1b4nfMZvz2Hw4KEs/2EZzz33JEuXLSEaixFQnPvGSIRbbrmBqspK9t13P46YeBQFBZ345JOPmTz5bV5/7WX67dWPseMmcM455zFhn3149KH7qayq4ZxzzmPIsOEU6PsTm6IRbrn5Bn5as4bBgwdx7LEn0qNXH778ah5vvPYKb//nTXr07MEJJ53ixqDA2lS2iXvv+QebN29m2MiRHDnxaAJCMHXqR3z19Rfc/Y872KtvPwYMHEBTU5QHH7qPr76cT//+A7n00ssoKOjIJ1On8vabr/D8808xeszejBgxih7de7Jp4wbmz5/L+An7WAcnScnkd/4NCIYPH06HDh2U+toK3lBbRDN4w8sR+Nm4r8UYbCnbHgPNwNAG/G0sdRZqmmZj0Livrq6Of/zf35k5czpCxrn0z39h2LDhBAIBhg8faUqorqzSDrwS0oVh+Q9LefHF59jRWM9Vf72OaR9/xMuvPM9111zNHf+4h4ICrU1mZGfSb69+lHbrTlZGmpJLgvLt29lSVmaaKKQgNyeH3D59kfG4toKaOCIQQIgAQamdGVFTXWP6ffkFBRR2LUSIgCnXFnS3TwqoqijnuWeeRtu2qG9fMb1YoZ+Iq62u696jF6NGj6agoMCcVPruu2+55+7b6ZBXwIUXXcohhxxKJNLErJkzePyJR3jq6ccoLi01XwzqABgxchShUIguXbpaPpS9F8Or0n+zcAEgqKmqZunixQweMtRdl6Ra1vZyl8CChV8x9eMPyMjOZNSIUXz04XtkZabx58v/yh8v+TNnn30uUgoqKrZz++236HMYqdZX6y7A6jUrufSSi9C9YeJCEAk3UlrazfL7HEVUU12FkHEyMjLINVcLWRECwSDt8/LZum2rxRtCrxcY2aEVkNB9/DlzP2fe3DlaHoi4OVDJys5mwj77cPttt7C9bAvxgCQWjRE3ZXqXQzLesPLof4T7moNht/Fdk/t9ruSGjqS+q1tiYgzCENZGGHzEJMHQ7MG4ddKjUGbgtR/GQm1z4Iv2WTHzTEjzyHSFcNGWn0ciYd6b8i4b1q2nc2FnTjv9TNLTMiBuzERrg377yeTGQFzqQ3HtobZiXNpKwTgaRFofi9Mw6IeuxYUhU8cpDT3a/qO4UdgmBlwY0K2xPs8mrH9CnROWLgzSyFOw1xqlUO23lXKI60+V5Rbp6emccMLJtnRff/0Vy39Yaq0oENLVsaelB4nHY8SiMVyVD0k8HiM7K9tFNBpyYcMQFzBq9Ggu+8uVZltRq2/XLl055JDDGThwKCDZuGGaP45ZAAAgAElEQVQDs2ZN10vKm8zMJuRse77dqJvIjIeqfLVRtrgcVJvszdz2W6opbTYlxmBvc22NwYPlm4sB7CRj3g4o95wYRFIMX33xJU3RJk459QxOPuVUAHr36Uu/fv256x+309QU1eprhmT6p9OYNfMz8tsXcPU115kznqNHj6ZTQQHPP/8cr7/6EuPGjqdT5y5UVdXQvl0HJh11HH+97nrSQmla/L3HUl9fxwcfTGHp0sUc0OVgBUOA3j36cNOtt9kOMqytreWf/7iDYCDIBZf8hd+edbaZB0cfczx/uvRC1q1fy5KlizQnW+elUFqQM357NmeeeTZp6SFA0LVrIZddejFbt5axbft28vILPPMpUTksX/4Dr736Mrntcrnhhls54EANw0EHH8L4fX7FNVdeTlWkynwJCbBq5Qp6du9Jj/0P5nd/uFD7nBGaA7ulbAtfzJ/D6p9Ws/e48fTs1Zus7GwysrIJ1NYyYOBA9h4z1uTHTRs2UdilkB7de3D+7y6gX/8BAAwbNowd9Tt45ZUXWLRoMccefxKBYNCzvsbjcW675SY2lW1iv/325867/0VQaIduTDr2eG675UZmfTaDGTM/ZcDAgWzcsIFtW7eSEUrnoov+xJi9xwFw9nndyG2Xy+xZs1j/00+MHj2GSccex5y5n7Nq1Qq2b99Op87aDOL2bdv4asEXFBR0ZOTIvQkF7UvgdwpvODjAzn1CSb9ncp89ffMx7G7cFzeuUuJv456FoWFHPevWrmXhgq95441XqSgvp6SklGuvv4kRw0eYprgwCDT/Qr/VGA7zzYIF/PPeO6mtreXaa29iYP9BdOnclU1lm/js0+lcfMF5/O1vN+tn3Ogvw4GY/huptbNPPvmIRx950IYhCPr57JqHIgloEyDmywgtB43zd4874SQu/uOfSE9Pt0x3YNirfz8ef+IZc++1EefdKe/w7NNPcf3fbmaMwiMgSAuFzE+nGaK+/uoLonE4/oTfcNppZyK0gyE446yzaWyK8MzTj7Ny5Y/mYNxYwPeny64gI83+NRh3XVXbHHwxfz6LF31Puw7tqaut5dVXX+LGm/5OWnq6UjTKJ+rMM5K0p43hMN999y33/etuduxo5KqrrqN/v/7U1dfz1ltvU1Vdx1lnnUv3Hj3JzMxk65Y80tPSaWpqsuoC+Pjfmr6Aoy8tKOjECSeebFVrCdOmTdX4XuDZV6elpRMXEIvHaYrGyHKNiyQyFiMrw/juufZ/zOiLFGOlXh6nnXomvz7yKHuLEpJAIERubnuOO+4k6upqQcCK5cv5/POZikp7OaTCG/bPge4i7kvI32r6PZO/Ve7DqaNF/J3c73NjcNQFU8rO9F1R7qWOIW7oSYDBuDIwtHiZuj3/jQyxgBi/bKA89iobz35YtoyZM6cjheR3v7uQbt26mWkM6RJ1KbhU0PqaYnumpbWObQ8g9W+SuwxvEQYzncB2QJ2axjXrrv8VODAo8oxKYztsQlhF77WFIjMzk0v/dLnt3iMP3c/yH5baa6WyxFwg6LfXADZsWEd1dSXQ2wYyFouxdctWCgsLXXlgLd234guga5eu9O3bz13x9YtJRx9ryvjqqy9YsOAL30+uGHjtP1yGpLAXKHFIWA622/ZyaLZ8vzReGIx7bYXBVbE8WD4V+X5pFAzODwM2V0dGprZfcNH337JwwdcMHDSYrKwsiotKuO/+RzCQRSIRli5ZRF19LYcdPpHxE6zTiNPS0jnu+JN4/fVXqK2ppWzzZjp37kLfvn15+NEn3OZLSZ9efRAIVq9aZQ5kAUIBGD12b2s/tx7mzZ1DQ0MDw0eM4shJk2wY8vLzuP6Gm1m/fh3t23cwnwkEBR07su+++5GWnmbKGjVqNFJAdXWV+YmeRHnkvoDFi75HABMm7MvoMXvbng0fPoLDj5jIm2+8ars/aNBgHnvyWbcOIRgydAjz5s6ionw70WiUtLQ0DDozD68TVmfao2dP7nvwEQ+jBb379AYpqa6ppKGhwfrWrqO+bt26hW8XLiA/v4BTTj2DYEDlK7jw4kuY8Kt9yeug5WkoLUQgECQajzFv3ud0696N4uISMjMyOOPMszjjzLPM9GPHjqdLYSGrV65k44b1dO7cGYCvvvqScDhC397dGDx4cNu0uQT87ddGU5FvC7sJ97U5hrbmPpey5nOf3Xl1BBcGt6oVK37kumuupKK8nK7FJZx51jkcMfEounXvkRCDTb+A7du3cfPN1xOXknPOPo9fHzERBHTs2JGrr76ekqISVq5aoe09NmcYVH9Da8BCCPYeO57s7BxUJ8r8ZZ5+JFGcMFveCQm9evcmqC/7dmIo376dT6ZNtW6ZPrTGGEuXLkMgWbz4exoa6lGiYMWCE0/6DaFQiPT0DIhLamqriTRFzMNmm5qa2LZtK0ER0Jeg24azWLO5yYMAKsrLefCBe8ltl8s555zP22+9wcKFX/PF/Lnsu+/+CGOJvu6MaXyo6ZAyzvfff8/HH7zH57M/Iy4lF150MRMnHoUQgquuupZnnnqCz2ZOZ9nSxdx86x0MHTpMt1hdMWnPDXc/qk3rqEiLS0pcPuCKlcvt2ww1t83WTwkRILwjTG1tNe31z8kZIRwOs237VsYr23oEUjtkzxn07WQ9evam3179XRiMcPoZZ5q/p7z7Hz7/fKbThf/5ue/n4m/HIDxZaAv+Tkm+X5r/Mt/VFTVVHR79QzIMbfadcWNcmagyKhyvX2jLtmOxGI888hCVlZUcfNDBHHzwIf5JzbG0o0OwprINcwxutHOZrTpavwWaAy6FurTB2elIXwxOW5GoHxi3h7gxgNaFSe9oJgYSEI0trsBccu4Ry2mnNXzWOzoB/QcM5JtvFrB8+Q8MHz7KfNsMsG79On5avZJfT5yk2Sy88smuICkGh6ECQUBKr0dJgoXBBTIB+SU4CyIFEd4YtHs+LTqJpl2Gwcl4bYBBE+HGkFRCEgzjxk+ge/ceLF26hOuu+yudOxUwYsRoDj7kMIaPGGnuV4w0Rqis0A7Z+fKLeVzwu/Mw8hS0g8nC4QhQy6bNmxg6bDgA4cZGFi/+nvlz57J27U9UlpdTU19DbVU1oH1KRw3BYBqFhcXmXkT009RXrdJOMu7Rsxc5xoFfRh4IwYABA+k/YKDiXGp/MzOz6NxF+UyMgLT0dAoKOhKNRog2RWzPUshOBPD9998hgaKiYt3JttuzV7/+nrwRi0ZZvHgR8+fMYc3aNVRUVFBXW0NFVbn2PBY3NUlVqSHbYeePPy5n/pzZLF/xI+XbtlNbV0NVVZWWLC5d3z9WMWzctBEpoEvXrnTp0tWVAZ07d+HQQw/XE0kKC4sYN248q1et4J1/v83MGdPp1r0H++93IAccdDBdjROA0b7pe8wxx/PUk4+xZMliRowcRVNThIULvqSpsZH9DjiI9vog32lcc9pcKvxtPknA34k07WzecIvy5w2xu3OfGVrBfZ6PUsfQrVt3Dv/1kfTq2Yux4/ehoKBAP8zQO0ggLS2N0WPGkpGZacorKiriT3/+C+3bd2DsuPHmgBQgPy+PCy66hPr6eu371QiCwaC5+icQtFYsCSHo3acvffr0YXNZGZXlFZbLY7kpNuyGzwSCgk4dKezqfkmvhk1lm3jkoQfAXCtp+Q0CaGrSePb9994lENBWVWKLoTlVxxxzHKFQiIMOOpQXnn+Wd955izVrVrP//gfSFG1izuef8+33C+lSWKgv8xfKeMbD2UrQ5hobG7WzKlavYNSI0Uw88mg6dy7kxr9dzRNPPErfvntRVFxiLygwD8sVIsCGdWv58MP3GDh4KBdc9EcGDRxs9ll79evPdTfczDffLGThgq/o3r270o8qfp2a8V4h0QyGb1R9hYMiNj09g549erN50wZWrVhJSUk3W9q5c+awIxymqLBIgSxsHzOyskG4srqtMCiJdg33peC7wu7L3+7wP+K7Nstn8sHgm0hP5cLgBmWZIR3PLQzNGox74zK+VWuItpZhu4ZoOgdbeaRV2ncnv8PyH34gJzuHAw8+hPLy7aaZ27dtM6WVb9tGZlYm7dt3IDMrS7FFIVip2yD0VOb4WSt5dRAszCS6w26+KdIsiyOV8bRMiMF6Y4wjP/QOSxiSsQ/E9Ui2fDVuKzIsnF6Fr1WkSCRCuLGReDxOPB4nFo0SjjQSa4pqh3GYPYX2R+mKzYpy0kmn8NYbrzNr1mcceOAhdNVnwevr6nj+maeQQrDPr/Y1bZZmnjuCBGGbdddvy7i2NzwWJRqNEok00i63HaG0NJBaSUizHCxzveTbhQt3Hlo9sKHcjGukS9juHOXgFG7a5dIhXIlaikE6Re1uGFw6PDD4GpYahm7dunPrrXfyzDNP8MPyH9hSVsbb/36TN996lQH9B3P5FVcxbNgIYvEY4Uij5thFGinbssm0x9CWX5BPKBgk0qidJFxZUcG//nk3n06bSmZmJumZmaSFgohggFjc+oSNlU9a/hun9KLwRm1NDQLIzc0lGHRQq6sclLYhBMFgwHmbUDCI7T1Agr7HS8eG9esJhUK0b9+egAi40uXm5mLxt/akrraWhx64l8mT3yErK4vMzCxCoRCBQIB4JIbQl0OaBglLsdNZ39HQwIsvPMszzzxBenoGOdk5BNNChAJBmqIRLwQuDDsadgCQnZNNRkaGbx9klEMoFOKSSy+nsLCIKVMmU1G+ncWLvuPrr77g0Uce5KSTT+Hc835Pdo72suTIiUfxwnPPMGfOLM448yzKyrawavVqgqEgh/9aPyHap82lWg6p8LezLrWM+/TYO4H7bBh2Efft1vwtlX8JMLj4W39QUNCRP192BaCdrj1j+jRTjHTIEAiMbW7FRcUUFRWbFgWCIY6apJ1/EY/H2bp1CzGTNCyMOxoaeP3N/5j+yOZNm7jpptvJyEinIL+jpkfHMPmdt3nttZc0PNJgCKvSq0fYxmNRmpqaOPvc33PhRX90ArXyCujTuw+PPfGMglHrHCJNEaLRKLFYlHhcEggEtJcGaSHS0tJNH0sAwVDQ/LJBabdS7n/wEe656/9YvmwZi7/9DhnQtuh1K+3BVVddQ58+fc0+SHo6Wu42Z4RIJMJ7UybzydSP6JDTnosuvpT8/HwOO/xwVq1czssvv8hNN13H3/52CyWl3bSXs8Lw/6RZXw/79REUFhYxaswYhAgQjcWoqqqiprqKispKKisqaKivZ+TI0Wxcv4HamhpisRi9evYhLqX2VRvfgYtVNhJJUyRCOBwmFo8jYzGaolEaGxsJBASdOnUGB3/baqwu6pzzzufaa65g1qwZjBw1inbt2wOCbVu38vxzT1HYpSvDRoywWWHOBOptQii2SqOP0LlPGv5pLKpvMWsit107e58pk/CG0o+2lPtaxN8p8kbL+NuRaHflvhQx7Ba+q0iAwaXDB4NnIn/esGWOr9/nsEg0czBuJrXJcZpizZa4nHB9H7V0xJs/bz4AO8Jh7rvvX6QFQ6bYiHmaL9x4y420a9eO3/3uAg45xD17bpjjnKuWxgOBtnxI2u0zB9QODK6OMQEGs+ZJe0EYjq4hS6oPXTZaGHzBCaUa2mpjgPfem8K33y4kHA5ry4zqaikr20x9bR2vvP62TYzEIMm4TX5RcTFHHX0Mk//zb/55950cdMihpKWlM2vWTD7/fCbjJ+zH4CHDMJRrnOFR1YVEBiQ/rVnNW2+9TqQxQjweI6p3DnV1dVRXVbF16xYu/dPlDB4yFO3bnMIF3zM7ErZix3OT3JIlSlWHXyP019FSDK4211YYpLDLt6VpBoaED/DGkDSR0xzBgEED+cfd97Jhw3pWrVzJ4kXf8+UX8/nhh6U8/ND9/PPeBwkFQ2RnZSOBAw46jHPOPc8uSEI0HiUtGKKgoCMAH3/8IVM/+ZA+ffty2um/pVtpd9q1b0dWZjbvvPMWLzz/rAODUBqrveZ36doVCWzbtpVIJKIt4zajWjFt2eD6EgGusvZceeOZUXbZAwcNYsmS7ykvLycai1qnBuv2b9++3cV9b7z+KpMnv0P37j34zSmns9de/cht146srCxee+1l3njtFX2PuWKrV48lYebMGbz00ovk5eVz8imnM3z4SPI6dCArK5tPp0/j0Yfud6NxXObr+0SrKiupq6+jq4v73ImCwQCnnHI6Rx9zLKtWrWLVyhXaFpivv+TFF58lIzOD3/3+Qk1+QUfGT9iHubNns7lsM2vXrmHt2jWMH78vJcWlungPcAZPefXySfnbJsY/kfRQnUy+87kvb/i6Jynp2BXcZ4bdkb+F8i+BmlTK+odlS7n/vnvoWNCRnJxchy+g1zWdu7aUbWHgoMHathlHs6uvq+Oaq6+wLUN2lrLTp+nXvz/X/+1mOnfuYt476ODD9AG/LkNI88W66nJICcuWLmHKlP8kLk79YXZ2DgMHDdJskJIVPy5n6bIlrF61iuqqKurr64lEImRmZpKTm0OHDh3o27cfg4cMpWfPXtZWGCUMGDCQq/96HT/+uJzMrCyCgQCdOndhQP+B5vYmq1lI/XBfyzC/VlBTXcMLLz7L5HfepqCggAsvvoRhw0eYeXDqaWdSVVXFB++/x5VXXsb1f7tJOWxPKCMRQXp6BqP3HgtAVVUV7783mfnz57F0yWLC4TC5ublkZGTQGGmkprqazIwMRo7ZmwkTfsXRxxynfX9ctdazLgkiTU28+spLtO/QgXA4TGM4TGVVJWVlmynsWsg///WA5pcZ5zaZBWwXte+v9mfkiDF8+OEHBIMhxo6fQGM4zJQpk9myZTPHHnsSPXv2ttlh7pVX2oThRS/4+isi4TBNTU3E4jGiTVEaw2Fqa2uprKwgEmnkz5dfSbdu3QHj+0fN5Y3mc1/z/ZlfuC+5fOv5L76rParL73OIadkydZsX4hjZakdmG6NQ1H1KmAeIOIa4OtnH4zEqKrZrTogJwIJQX1NHLBol0qjNfllfsbb2geNyL9Uz3aXN+TWe2IfewgeD9cwbA/rp7fZsUVEomac8cf7ypiFPV14vh+ysLLp07cLan9aweeN6ctu1p137DnTokMfAgYMoLComKyvLZa6Jz6HonHPPZ8eOBqZ+/CFfL/iSYCBAXX09Q4cO49I/XUbnTp1QOwXp2hBidRrLli1hxYrlxGIx4tJaaZCT046SkmK6de9BWlrIzCVh5FbCV1lJGoME21pZW4tyYPbq3xLo8dfuqENGXWtTDE4drcCQUL0/Bp8hZRIMpIzBS0jDjjACSUZGJt26dadbt+78at/9OPb44znvrDNZumQxNTVVFHYtplOnTgBs27qZkpJS7dRyBUNVZSUStKWeSD7//DMATjv9t0yadKxN85YtZTqX2Nu6undMnXcfOnQ4CO3TWtXV1eSYp9FKYnHJZzOmsXDhAg466BBGj9lbkxqQtiyy8gm0/Sy6E+abXfYHahYOHTqMt958jZ/WrKa2pob8ggIzkpRxvv12oY0bY7E4s2d9RjAU5JBDDuP4E06yluIjWfHjCs/yQUiISXO1AWjyF33/LU1NYYYOHctvf3sO6cqhSdu2lCmn5vpzX88evUjPyKSsbDNrf1qjzXSZQCUrV65kyrvv0K1bd046+RSi0RiRxgiBUIDs7ByGDh3G0KHDOOTQw3j0kYf4zztvMXv2LM4593eEQiEyMzMZO24Cc+d8zvtT3iUcbqChvp7TTj/DmzeMxqN0FS3mDc/2oLQ5V4K25D4Fg0vqfzn3JVeeFIOzybYGg/H+/pTTzmD//Q/y8wCpranhlpv/ZslzgMnIzODkU06lvr7O5CWpYLCXkOSeu+6kpqaGeFx9IQ9ZWVl07tJF8cH882zzxg3mqpsEGWFeCSAajfHRh+/z4gtPs6VsCxmZGQwcNISCggIy0jMIh8Ns37aNGdOnIUSALp278Ls/XMShhx2uv7C3uC8c3sErr7xIRUUFDz38uI9mSSgUYsTI0aSlpxM0P8Pm+DyZYmpdXS1vv/U6XbsWcsUVf2XM2HE2DHn5+Vx48aUUdOzIrJkztVln87lxRJ6dN8KNYV555QXeePUlMrJyOOfc8xk0aDC5ue0IhkLEYlHq6+r55psFvDdlMl9/+SU//bSGq666RrfLvy51aN+Ozp06s3TxYjKyM2ifq/mARUVFjB49mt599tL22KOYZfw0xWiyQmkhrrz6Gu6+6w4mT36b6dM/IRaLsaNhBxOPmsS55/+e3NxcRx+ES7YheNrUj5g+7WNisZi1SlRCx4ICuhaV0LdvX32Lht7mPCtcG3Gfk79dUndH7nNgcIjbMzDsqb5r6hiSBRufeohp3mDcZqDVqas8Yd+7LTEGsUJvANY54pK40N743nzL7TRFoyaJGUM2iWDFj8u54i+XAZIHHnmUXj17kpmZodOosvdIGENkiYxL5S2qTrhSQiAAcYkIaJ2U9r1xA4ua8X4Y8MWg7QPXZ4qlusBdcX5wHAanYLB3VziO7FdnYYSrHA47/AgOO/wIezF5Fp5VclK3JqDapNffLl26csONt/Dbs85j4YKvaIw0MnLkaAYMGEQgoLzqMJXEcc6w7733WO5/4BH9oKcQmVnZZGZmkZmVRU52trZvzbm5FOtzKAmXh6h3pNSzRNgweL/3VBwg48psa86GlqwccJWDXYcXBg9C9cKAgsEG2anDftlcDMYn/9zl4I9BJMTg+JSEZzkkxuAmPMGlF/2eJUsXc/Ef/8Spp51BMBgiEBBkZ+XSGI2Sn19AdlY2wVCQkaPH8MEH7/P999/z5huvcfzxJxJKSyMej7Pg66+49pqraN8+l5tvvYNRo8ZQkN+RANDQ0EA4HCYUChGLxfhi/jw+/ugjzQYRsJWD9CmPUaNH06N7L3766ScefvA+/nbjTYRC6UgZZ93atdz295tobGzkJP2EWwGIuFBeZrnbgzlU9iwHQaJyGDp8BOnpmcybN5cPPniPE0/8DcFQgFgszkcfvc+n0z5BbXPBYJB27dsj49o++sbGRjIy0olGY8yaOZ3F3y20ikjnjfS0dAIiRLipiWXLljFhn30JhUIEg0FyctshRIBwuInGxrC21D0eZ/Hi75k9e7bG18pKovr6Bqa8+w4bN27krLPPpXPnLuTk5nD0pGN5599v8eBDDzBy5BhycrMRQvsM2+233cKypUv44yV/BgSffTaDO++4lUgkwqOPP0O/fv0IBAKkpaUTEAGElBQVFVkHOwnBkMFDKS4q5eWXXqRzl07069ef/gMGelVOqxxcbc4et215Q03sLOu25L7dAAOpcV9r+bsl3Kfyt5rHCbkvZf4WdOrUiZ69ennmE0BVVSXpGRm+GNLTM5g4cZLLYj8MLzz3nNn6VQyfTP2QJ594XGvHoYD9zDbjLwKjzw8GA9pLT5tGb34CyfoN63j99VfYsG4Dl15+Bccff4K+190et66ujheef4YXX3yOl158liFDh1JUVGzjvng8TvnWrWzZvtVVDpY0QUZ6BieceBInnHiyM+Otv4r64pISHnzwUYKhNAYOHOTCIBHk5eXxhz9czLnn/UGfUNA0S1A43eLv6qoq5s6ZTaQpzr8nv2WuzrJJlpJRo8cwfORIbrjuGj6f9RlnnXWutl0wQZu74KJLuOCiS1zy3DXAvnJVIHRf2Ggd2t3evfvwwIOP8eOPP/DNwoVkZmYyeu+x9OrZS8k9dSQlXHXp1xOPZMjQYci4JD0jg8ysTLIyMsnKziIrK9vz++7ax4e8TjdqDvf5ten/dv5uKfelguHn911d+bQrfNdmYLBH9irDxBiaNxhXa4B3f+FWrw9WtW9yK2mkdUBHVlYm2VjFrYZ27XJM1e1zc/V9jpoBtjnwuOUka9+4tE5h15wuMPYsGIdraBPqXlpTxSBs5aTupbLQ2P9qWShMYdaOF2E7N8F6maBksu2Wfzl4VwNDj1rdHcvClcobCATp3bs3vXv3NiUYT53yA+qgQceQk5PLwEGDPSyx2+TV4L26cO/4Vj55YfCS4IfBrxElKwcvm5zREt1RdXh2H64kiRpeEgwqOymd0k7HoAZPAvWSbz3/zalncPddt/PkE4+yauVKevTsSWM4zIcfvo8gziGHHk5WjsYL48ZN4IwzzuTxxx/h6ace58sv59O3715s3bKFL76YSzjcwKRJRzNwoFY3DzzoYObO/ZxHHnqAbxYuoKSklM2bNzHj008oKSlh08YNJm+YZhmfEvTIg+tvuJnb/n4Tn376CZvKNjJwwCBqampY+PXXRGMxjjrqGLr16GmKiwtpth53OcRNfkpUDl68IYDiomKuvOpqHnrwPh564F7mz59Lt27d2LRpE1/Mm0uP7t1Zt369DcuRRx3Nd999w7vvvsO6dWvZq19/1q9dyzffLKCotDvr1q7RuVSztX2HDhSXFrNmzUom/+ctNmxYz957j+W4409k3LhxvDflHb77biFXX/UXhgwZSmVFBQsXLgAh9b2L2j8ptc+qPf3UE9TW1pCdlcVFf/wTABdceDHbtm1h7pzPOefs0xg1em/S0kIsXrSIn9asYq9+/TjkkMMAbTXAwIGD+fLL+dx4w7Xst+/+FHTupH0yZ9ZM8go6cfzxhkNunfreq3cv1q//ifVr6/jt2eebS0P1HDbzu7nl0Jb8vfO5z1t+23Cfj+YWcl9r+bv13GcNalrP30av7E5kq1MI2ym9/hhSLGupHKXmwCCE5KSTf8OoUWPsTCe1Z5Z7rzmY3UpLbfJtzrmCASmoqaqisrycvIJ8jj32eDIyMj1fGuTm5nLCCSfzyisvEA7voLamRl8+b8+fuC7XqxzssP3bnFcYPHS4Lwa1Whkr+3Ri1H45DiMTQDQWZUdDAx07dbStRnDyhpSS9JA2gy9lnGgs2mIMznIAodQn7aawDX6tX2lpaQwePITBg4f6SDeNhjgYJ6wY5ZCfl09+Xn4i4zy4z92vetWlxNzn1b7alr+by327k+/aeu5z603BxecAACAASURBVGg59zkj+2BwtLlWc5+HjqQYUvRdpfp/At5wYmjhaeqqBkuxaa8tqkVQtn5A2JeWS8dp6EYQIojR8QnjVAhdvY3vAmp6JTsE1kS3YorTHnUxuxuuHwb7mxA/DL5BxeDM0mbIUCxy3kgaki+402UmOPYwLvV4zcTg1VY9NgB4mpPCTY/n7jjm+7iktnvraEmRtQ0GK37Kpe5DJM02pVlKHYlEahjU6/0POIAdOxp4843X+Pjj90Enr66Fxfz27HM59tgTyNRPEQ6FQpx8yumkpWXw1luvMm/ubObNmQ1CO+X87HPO58ijjtG2bUiYsM8+nHf+H3jj9VfNQ5Ty8vI593d/IBQI8vjjjypLtXVnQaC/8HNjGDx4CJddfiUvvvAc3yxcwA9LliCBwq5FnHrMGZx08inmYW1CCAQBfXGOu2MMBdMQotFzr6RZX5PU28MOn0hdfT0vv/g8X305n6++nE/7du0486xzKC3txt13/R9BRcABBx5Efb02IzVn9ixmz/6cgrw8jj3+RLKzc3jk4fu13NeThEIhzv/dhWRlZzN39ud8Ou1jduxo4LjjT2TY8BFcdfX1PPH4w3yz8Gu+WfA1GZnp/PqISfTs2YsH7r8Xg9KF0Ab2XbsW0tjYyF79Bpg2tWvfnosv+TPtO3TgvSmT+fCDKQggKyeXAw86lDPPOpfCIu2gyc6du/Cny6/gjddeYeb0T3n11ZeQCDLT0xkxahSnn34Wo8eMsZVdVlYW++57AJ/NmkF+Xj4jRoxUPomUmPvsDpx/OfiG5vB3a3jDA0Pq3OcdmpvE35dpPfe1GX+nyn0ub6HlGIzw448/kpc3226Y0hnW19dRV19Hdo7jywguVf711W6OT08rIBgIkpefT5fCri6/ytJqXTc2aQeH2V9i6TFtXq6kc5euFJcU8/3333PH7bdw8MGHsdde/WjXvj1paSEaGyNUV1ezbOlipn/6CbGmOB07dTYPk7Vznya8vHw7N91wvWWnQNsfLvRr43RzJOmZmVx3/Y1qRjh+eWSJA0OiDBYoLqMSLS8vn+EjR/HRB+9x4w3XcfjhExkydCgFHQvIzMgkHG6korycb79dyNSpH1JZXclhBx9OV69T6n14I2UMNmO9YjeD+/S61GwKaQH3ieak2Yn8/fP5fe4nv/iuqqpUuS8VpY5EKfquxnPhrK9JMAjp9V2Z1Ewz2/G2bVsIBYNkZ2ea/C71fwHsY1nLAGE7rVyij6fVz4EJkHFJTMYJIAgEglqjl+bw3ELji0I5EMLgZD2+BNuqb+2tpO5wo+mQiKQYjAUOfhiMvkDLG+HCUF1TR4cOHcjMtO/rduc2rpJPXq+spREffvgesz77jMsuv5KszEyuv+5q1q9dxzvvfWjD4Kwzall7VboL/nA+69ev5aabb2PcuAmuGKli+OqrL7jlpr+x1179+df9D3li8EdJqzBYqROF1AaPydImjtFSDKlpUZ/vKgxbt5XRrl17svTD1VqCQUptSXN4R5hNZRvpVNCRdu07IAIBAp6DVUlTNEr5tu1UV1fRuXNn8vLzCQSEMpC24sbjccrKNtPU1ERhYREZGemAIBaPExDC/BRNPB4nLqW279BjAG0giMUltdVVbNu+jY4dO9GhQ572uR5h1R90vaA5v05hsVgMCQSVdO5cTpSH+v9SO2V306ZNSCRFRcXmclcnPjM/YjHKtmwhvKOBktJSMjIyTfxCj6/qiMfjRBobCUcaycnOsR1eF43FqKqspLKykuLiIv0za5J4XOvggorupkiEWDxORkaGbYmdROsLGhvDbN60iYz0dLoUFWl5Ewh41pdotImtW7cRDu+gtLQbaWlpNpxqPkmp5YUAWznZ4yXK5UShbfg7sfRdx30twbA7cF9b8veWrWW01zmttRjef+9dbrv1RgzvzYgTkMI6GEtPE4vHGTp0GE8+/UJCDInK2ghHTzqCLp07c8edd5sDPgk889RjPPXEYyACBIG47jOJuCAupDkRokkKgNDOtnjs8WcYNnxECn2QZPmyZdx6y02sXr2CoAggA8byTQEBiYwbnK99/uvef92vHzJnr691dXVc/Zc/s/DbBWYeGd5bAG0TYEDaMWTl5jB9xuwEdqba5pTf+o2pUz/ixuuv5cq/XsOJJ/7G1UeUl2/n/vvuYerHH2kvYwOaYUZZSylB7+uOO+EkrrzqWu1lcLPbgzeGp598nKrqKs47/w80RZv4w/lnMWDAIP7vrnt93zEk440dDQ0cf9yRdMjtwN333k+Pnj29U6fAG1Pe/Q+333Yzf7zkMn571tn/Fdy3u2H4xXdNFKP1GKJNESoqK+hY0Mm1FSMRhhZ/Z1wof82lJVLjUuIChCQg0JaEG4efKQetGSd0SqS1F9v4Cxj7vIWAkDBmprS16NrzANKQZ/VXilXS/G38kmouGLabaaU5S21hMCQlxmBp1T/L5cAAajxpPtdeVcRTeCOnVAHhfmIFR8OX2DqDiRMn6XvKJDsawgwfMZJu3brrz43/JSgDBoG9rL1sGzt2PMXFxZ57oJqDIT+/gLFjx1HaXSFzBwbHA4eMlmMgKWXaMThjOq9tFKljSBb8MDh1eFOqds9tmVc+uTF4S2stBlWo+iQRBu8ORwhtGWJ2TjZ9++zlsNKNQQhBeloahcVFFBUXOqQ68kRo+6VLSkqxB0lImRUHbaDmNZyzXwqCAUFefgF5+QXeOtHjBYO+GNQZ+fv+dQ+vvfqymVbjPo+3fvrftFAab73zHl27dtHyIiND349qD6GgsvLIlCQIhkKUlJQ4YkvHKgHr/0BAkJmlnQnhpONQMEinTp3o1KmjTUsw6C7/tPR00mx3rLYpAtosdu8+fVw4nNwnEKSlpXti8OINISAUDOBXM4Vn+ubzRmv4OxkG7f+dz32JMbQt93ljaBn3tSV/eyFqKX8PGjyEK6+6Dn1GQPEf1HjWHeMgxkT8baVw11fjer/99ic7O9s2CSCAMWPGm4Ntvy85SKdWoZ014503zvoqGDBwEK+89gZLFi/m22+/Ydv2bWzftp2GhnpysrLIy8+nuKSEESNH079/f20iRsFglGB2Tg63/+MempoiDnwqp9nvh/RPaBn52/I2Z/y2yrqouJhf7bsfpSWlnrO4HTt24ta/38kFF17CF/PnsWnTRrZu3UpdXR25uTl06tSF0tJSxo6bQElJiW1ZKzad6t/UMZz/+wvMq5qaGiZM2JfSbt0825wbqzf3paWlMW7cBLKycsjOzsYemsd9JSWlHHDAQXTv3gOvdroncl/bYvBu6b/4rm2NwS00OQav+paEN1RpLZ0ZV8O2bWUEgyGyszKtMvcI3uZrN6VUd4Bb1VASR9ggWsKVT3snCb6aUwyW3kSS7LvY/TA4JEuorqvTvp3uOzOeTLP1vKVI3V2+U2cCySkr/TkwNEd/c7Qkft5aDK2J0fqUrcsnZ+qtW62ZcXuM1PSkWAsdaVLpoFLT2RYxU8egErSF4c03XmP27M/MWBr3qXwoUPe2CwQ33XK7+WmwnYUhGW8kLIc2443UY/l33P/D3LebYWhNjNaH1DC4OU1NnVx+S7D8r3JfS8KuxPDzc1/L+XH34O9ffNdffNfWym69jrbS09QUoVKfGQ+EQin7ri2aGfdqoMaO67gUyglx0vZWwlyAJUGfNjetNJeG6wdxSOIEBBAXxvkQBPT/JZp82/DYhtS60DQ6bNXXjAusBoAeT5tvd2KQbgzouJR3GckwqFbF9fjWnibpxmDb/+DEgI5BeDzXS8iUZy8HNZ6aT+pfDbKxk144bHE0WqHIaiYG++pbuw47BiVBgrJ2ayE1DKa9uoQ2wuDKkxQxOIM3BiW1s6w9MPi9HPTDYMuhtsSglJStE/Kpr6qKVDGIZBiS1NfkGExNbYzBanMqhmOPO54jjzpa0arZgt5GpAOXALJcsxRevNE6DMl4w6sc2oI33BistIm4zyvFz8d9SoKE3Nd8/nZI2qP42xnalr8dslvD3zjipYIhVe5zklBbcp9fOewG3Jcyhhbwd1tznyXBjiER99kTtRX3NRODh+3JMJi27RT+tlf0X3xXV260Efc1D0PKvNEC/t5Z3LfzfVcjJONvt4pkGFo0GPdb6GBmgHpkvrmSUnMdrf3X1jJL9fA0IaRWFlIgpTI4Rh18awC0/UyOUnMWusD+GXJdhzAlWbLVvwYGgdD2gOvirQ+vJccQkMYedDA0Wp9F02QEJdoMlxBWYboaH84S1wvWXbpGldIem5Rqi2qveraa6pDvVdZOXUYyodx0YlAbhVuHU6CNmITSDBQdVt0X2FnPy06vZ47GZ2BwEWozMdih6BcqOfth8DXfjsEjnpFPmhwPDOxmGDx0JMfATsNgBs821wIMBvclw+BQ4tfmBJCenq5/J9ajo1flOO87fcCEvLFzMai/reJLxBstwZAq9zUfg1NX8zEk4O+E3OeHQeBZSW12JsZgCUyEoWVtzoahjXlDzQHL6dy13GeGPZj7fMvhZ+K+lmCwbG4Nb+wa7jNT7BTuS4RhN+Y+G4ZffFe72GTcp2Bw1tfd2Hf93+E+UsZg3/7Y0iBR9l6rZur6dSON5mPFkXoUB1Bp/YgLNYYVT6B8YUjR4VTv56tI86/yiRJbDGHFk2Cdxpk6BlNHIgxGe5TqXQ+bfQgscUjUlL2uEsgXvhceyZwY1OtUMVhVPSGG5sgUYD+C30ugdcMuOkUMnvnklOWImor5PmbbpPlhcGp0GOMS3ZYYktqtxmsuhgTBRkGJMXil0UgtiY7kQux6PeO0TV1KzBvNDTsbg18zalsMO5v7mo+hjbnPuEqlje0K/m4ubyT2Q63g3UHbpe1K7nMmai33GUJ2Ave1jL9bwH2mD+Y2prVtrmX8nVh8SoqVe3sa9yW/u7tyn5VoZ/O3d7IWcp+n0AQY7KO01ETuDr6rdERtDn8nUrwr+dsZ1a/NNdd3dQlpHn+3yWDcPKHc/OPMLGlmopoBvn2srdIJU44Tsx1q3LtMpfPCQSjKEymcb952HQZpPXUHF4bE0bxiJKpX0hVBv/Bp/InraCoY/O/vdAxCJMrpxJp8MaSeTzLB04QYhDtu4ixN3RMUhg5fWX73UsAg/O3we3/np9f9zJmoWd6vryYNg5MdUk3dymc7rc39b2BoEW943dmTMAgfHR4Y2p77vC9T4g3heLazuc/jdou4T3g/9eU+n3LwC6mxWGrc19yybjH3tYi/nQ/akr9Ts+YX7vO4s6dh2KO4Tw+pcp8tzW7gu6bKff/zvmsym9z83brBuNqnSpTBqfUgYAw3daRSSSv0QbyU2D7hoW20NmRagu3GanuyjQG4IGBuu3a9MLO9AlGLwzEwj6sxmoEBFYPwx4A/BiMzPIvQ9qbG47WKoxySv1H0eKYDt38yzjuV+66tBqeAwf/+rsBgqxJmaB4Ge2NUyloR56XD+1WQcscU1XIMxsukhJQmbTV552PwCN68rmLwpjShRG0pBg9p9jvJMDi5L4GduwJDW/BGUhE+z1LC4GlB22NIxBupYdjZ3Pfz8ndbcF+i+6lhSNDmWokhIffZ+HsXcp8PBndIzn1q1J+N+9S4uwF/e1ZJ4brjKeK/ib9/4b49gft8nu1CDL/4roqxDrvakvt80+lRnRhaPBi3tS3DbqdxesGbsIzyMdIoh5bZPhEmlYhSLxqhi5eqcKHoiFtA42qGOGufap7TW/SImAgDOgZUDNIfA/4YjAd+nXRCLlPvJ6oJvkHBkEiA35trx5H2zcXgStTWGGyN1K+Zp4bB0pFERIIICYnGjOkgpLbGgE9ZtwkGg5QSYPDVkQSDvQG1CoMreBjrwkDz29zOx6DwhleGtwFvJMTgxxvJ2rFMDUNbcV/yNt0C4vkf4r62wODPG3YM/xPcl9CAncsbPn6k7cKL+xLq87jxs3OfR9jl3OclP0Xu80u/+3Ff831Xl2H/5b5rqtznm+gX39WmI6GI3cB39Rbtj6HFg3HhcSGcz6RAOzdcLwNp7RvX2oBwyVCsdl0JZ4twGiH1W8JK40cRYIBXdXmc76hiMK/VReVtgEFiHWrh+T7An2ZSbyKeQwoXhoSSfGa8zEJNKCQZ3cuEl9437WUnfWLZG2mKbOlpTtLRRcJL46ZIEEnF4NXGtN9tgMFXRCoYnMmdGKxa6YshUVBJy2mOyhvezcUjUYpKhXplXTjNTgnGLsXgzUGJuC8l3pBecXTecPB3qlnsYYR1Id33dxvu84uUAvcl/0hT6zHsCu5rC/725w33R0GVR8rvn5v7kvH3ruO+BAJ8L73NSZ37Ugo/C/f5Y/BLkTB4Ytj13OcXWs3fDmWt577m+66pa/7v8F1T5T6XfebvX3xXl7wE9rTGd3XFaxZ/eydJxn3NHIxL9WtkLhviDnukACkCimVeh6VJ45F25ZGBQv9fBiwJVsHbHVGtIlgtLCDiLn1G4ri+NNz4XzoahXRiMPLAtEhXK1qJQbgiKlaoTVWxQdpj2FPYJXg3RuG4a4+VcPuWwJZPkByDl2UJMdg6JU/BrmuRIDe84LgsSoDBu/PbEzG4JSTD4NtRuBTZ62sqGKTXPV+n043BKBd7fW07DHZLvWW0DQZnm0uOwR9Ly3jD2Re6XpiaaVLF4LAoGYb/Uu7bFRjcbc5phfe9VDD8wn07B0NrecO4v7P4226pt4w9ib8T+a6pYdjDuC8l/t7zuS8RBhecX3xX8/6eh8EtYffkPq/4ybmvmYNxYZ0Mb9OkKQp4OQhJTwDU55kNgwQ4l49rB8TFCcRBeOlwBHW9v5SOXdoiYHGsbptGXHGEkmHC/JcMg/YJttZh8Kssfiid5WBVOaFeKjiSB2GI0K6cgtQg7barf33lpowBTwypBQuD1Ti96dzC4E81bgsSYPCS1WYYvGTIFmJwlmpyDMnL2KnDrkt9r+zFGy3B4Lxvr69tj4GdiSFJm/PD0Jz6amBIxN/CFnP3w2Bc/69xX3MxON0Hf+5rIwyKLvN6p3Ifuwn3ed1NwBu2eG3NfTuPv3c+9zn525GihRhayn2J9exO3GcZYKluLn/vLty3c/h7p3PfL76rh66d57s67+/R3KffN+pryw9wE+4L54yvW720/bTACNsqEjOWAHNfuRTmJ8KM//1XPCiZo0c0m7z0q2X2rEiMwTLWGsAnxiBagcHbDvWBoyIpkb1p1T1o8VJkr3ve+eZD254hNQxeOhJp8cYgHHXR35gU9sU5kyUX6rpMGYNS8RJbJmwYmhOSYvAt62ZiQMNgS+XBGx4P/GUnuG2jxDbGYAttjaHZbS51DH5dcTIMiXnD43ab8oY3BlfYrbmvJfydqo7EGFLnvhbw927Bfar8NuY+n0tvDB7lkIg3fHW1nvtssn7hvt2c+5qPwRW8MChc0iwMLvvUJLuK+3Y3/vYV7fHgF9/V+XNn+a5OPS65exL3OS6bNxj3cX6lPth0Lt92mSHsAOKqDAV6wNjNLe1ptLPO7DoMPTbJjjQoM+A2o6R+KUDGtQPgFH/AH4O0YqWKwVi+4InBqUTanrofJSgHl7ke8TTA1lNP9YBtp4yep1LNS1/5iUPzMQhXPOvCD4PQOzN3PibCkFLwqRxtgsFGIMI3U50YUg1m/EQYHG+IvOrDrsVgl+GHQdhs2LkYnGXth8Hd5nwwOOz7uTEk5g1vDE77EmPwku9huNN52sXcp2JoHvf9nPxt9C+/cJ9naAaG3YL7PGz8Ofk7Ve6zwp7F3zuf+1qCwRm5NbzhodvDvhbxt+upI94u5m/tIjl/pxqaj+EX39UZfvFdcWEQNPc0dcfoUZi3tcGmNhRNUD3UE9NNlwG0b9FZ18ZnzlySpD2dcpC5I5qdWi07MT+nZoSAIVcI5fNq3hiEjsGY3bZhIAkGqURTMcSdGqWhyLOkhYd5Jr5EhyNgq3K2vQ3OVD7dPyB1HY79D65yUMC6mEamiMG7mtsIOhkGV+ZrvxNh8LzhgcFLacsxeNf3nYHB1uY8lHrQv2dr8MQgW4IhWYei2JkSBi97k9XX5mMw2lIyDLbu1qu+em6Bce/pSwUDLcJAszB4tjnpVX9bguFn5L4UMOw67kuEQRe1E/jbfcMbg5fSPYH7rOvUMfhyny5il3Cf8rPV/L0Luc+lcLfj792X+xJjsKfdFdyXMgbj7x7mu7pv/OK7eoWfk79bzX0e8XYWfwtVXorc1/xl6lKTIJ32KRHst73NtcURwtYG7BfC9dtMq4i2yXN8csGRjWZGSCWdlULJOfOOXa9RDM5Y0hODM9hlyYB2y7JFmHnszDrpcZFQlSOozcavEknbDyX/DZu8UrvKIQEG4VNoLgzJ643Xl+jcolqLwR217TF40Yjzag/AkKi+qrJ8MHvraC4G4bj2SOihOiUM2jIXpc21AIPzuQtDS8taiZ+UNxLxt4eNhkKPDkt7JBw27ATe8LjY4zCk3Oa8w/+zd91xUhRp+6mJu7OJzbvkjCSzgKiAARVzxqznGe/UO8P56Z1nOAOGM2POOWcRFBBREEQl57jktIHNO7MzXd8fnaqqq3t6ZmeXhaN+sNNd4X3fp8JToaurE+K+3Y5hL+c+Lcgd99lhsHdJY7A4eT4lzt9thSEx/jZE70bu4yPv4z63GKwB9s6Qj72J+5zjtFvu02Psyfytx2gt7iNMNZQkkWFIaDLOdUJGy6bQ9qgbSggb3zhjXfXRwzwUZo1klxGIbhY10hiZIT5FkhQEYWzkLon6JJs93I0QhUlOoe1p5zJK1S7HQCjMp+mEmgdHGBhYI/UM0uObxEK1JHEezGvdCLUpB1aHLGtsTiSkhkQmDrXJSMoJl7UDKQYmIvc+DGt3HAy8fYIODgNMDGIkVxhoSjFYnXBQCdcmrRgoF0nAYDWtfWIQe2K3GHhBRqCZKzIMbBonDIJiN+VgrIamHoMZR9bmnDHIytoeg+6XOgzueEOOwZE3GOea+9oIQ/LcJ36zNpXcZ4fBLfellr+tzoY3bPh7r+C+FGNwxX3tBQMvyBaDJY5xv2dwH6+sNbiv9TG0CvdxGJLjPgsGNn3CGNqO+2z52yX3WSLtG7vuQRgYlwB/JzQZJxxIYvgCRP8HQpnPl4mNgjE2RgD9u+NQPBwKqj2B0v8bHx8j4BYiWQv0G8oq0S7Nw9P4T7kT9qR14gHVNUkwyOqFQgAiYhDeTxExQMfAbA0iHBAbp2FQZcnKQb3WvXhfe+Hq6wXEvGHiinnJlrVVsz0GQyw1b/h9BfEx2Aq3YODjmhis9VWOQarYEQPfYHkMVidRrMmQYTAOQJNh4CXudgy6xSIGg10TxSBxRllzGASVrjBIFDtgcOI+Wd+ReJsTVDKS9hwMTrxhZ6c9BlOZaWdc7rP42gtvCYbkuS9x/rYV7hqDW+5zi8Edf1udDffZ8DdxwiDVrP1tC+4T5cMOQ2r528p9LAbezlTxd6vwBoPBCEsIg0RxW2PQb9gwTi8jo0Xcp0ZqL/ztljc4DPvGrlId+8au7QODbrEMg+nnFoPcxRu7+hzSSpw9EEVR0BSOGHlpIVYKM4AA0liWOLyfcXaaRb8WQTYBkMi3aGZlwyYOtAhsAGEqXAsxhMNhxGIxCyZpXsZxrHo3aR3jSQLd29QWGFzoSAGGZNweh8FBR0swEBBEwmEoVHHE4Kyj5RjcJk60HFhvtxh2a5vbGzDEUfu/wX0ubNrHfe5iJsp9BCqnKQr2BAxuEyeDAdiDeGMf97mzaR8G7Bu77kEYWmns6ka+eK32CXIR/AUfluBkXIMmTCYpAEWhiEUi8ICAUgpK9OfMjEJCQbUVAU4EhfZxbh6tTntqOh4HBQBKpQc/ULC6CXNPoe0tZ+Rb85logepKBu9SgQGg8EA9iV3HEA43IRzm03mY9G4wWO7tMGjSRF9Q6oBBDVI4DB4ooA7lsBswgIJfWTFl2GGgoOoXAQQMBBQK1FMOzSEXQChR7W9NDGKtbAEGPdelGITGzN7JMLhtcxwGQhGOhBEOhw0MfBFpGKj6GokdBvBSVQweQD0FkcfAWpEshrj11Q5DQtznhKHtuc/k77bjPhkGD4iRPqX8LW1z8TD873GfFYNe5m2Aoa24r4UYwpEwwpEwY7MEg64jHoZkuM+Gv1krRAy7hfskGNSbONwHKi+XvZz72tvY1UOoUF/jYdg3dt3d/N3aY1eRdzgMxq923Vr8LeE+JwwtanMMhkS4j7XK0uaEqAlNxg1VbJ5rLuDzIj09ndMjPjemGjlpjAo+6xhhwi3R/opHsYEQEKr5izbxbVLAQDk9hMGm66CaRqJVllRgsK69qBhqquuRlZON9LR0qcWijniFCvvYkiTuMThpcfZtBxhcYUkSg8hmLcYgxHGBwS6otTG4cdu3b0d2dhbS00Otj8HBvJZgSKy+xvNvnTaXUKp2yhvx4u95GNo797WQv9sB99m51sSwY8c2ZGVlq5wWz4a24u+9nPv2BgwJRLLE38d9+8aubl3b8rdD2rbiviQwuHHJYGhujqCqqlLz56f5RixixZDgO+PsjZ4D2hTTuGUPcKNcIgJqZhwnjY1EBUXqVJg/RE2TRs1QXa6xYGKLwZRPNAz6X1aH/q64OwxE/W9UChGDHiTHoB8uZ2exmZ5wWg1dTAwWvCS2xEcoB2obEfKMZS3n64QoyB6DNT0fxMamFh9XGCw64rkEMBCZ/JZg0KNoNsTDYK1uRoBjPiEeBvPSDoOj0zGwr4y0NgaZfanAwJlgLWP91o7u42GQ31ox6JGsbc7Bcfh1EfEwpIo3Wo5hz+I+ucbUcJ/MtJZyn6zn2bO4T+5ayn1UaDct4I224m+ZfXsR97VbDO2C+0QTWoG/hfQt5772yN/tYewqdNiO/C1zbc3fFvWmDW3FfTL5u52/43MfiyHxT5sZBggWGrd8i+DMZm48dvlB48Bithl4mDB2GxSbQiqN6j9EyB5iiSPKZG9MqELjsWDQI9pjoCDy/FGmbgAAIABJREFUTw7zKa1miOVgW7WZa2oTYJ9ciygPJMyVKjtePEE1FWM4YdDK2ak9OTKFYyAjWzZAdMBgkR8fg6PjWEBU5jSI4QMcy9rZOzHZtmmTw8B2B+0Pg00Z22KI0+acveOocotBVJZiDETu7STbLQZ7SmqP3Cd3qeE+7Top7nODwYb7bES3hL8dnazN2VnRatxH4si2Xz437drHfUDquY8NaBcY2gX32URjr5PiPnvXcu5rj/zdHsauLrlPpqdFY1dnPfvGrjaCZdGopKzjYEh6Mq7qMqUb1V0/nUwLJ0w7MOegFAoxEwpTVSYyBYj6IW59izdhX6Bk6r+HmyWrgim0Z9FU0hy1bysaFYwAisGqLAbYYtC5xJTjjMHME8YgYqazvs5Azb+UL0sj+yTloEbmS54VzemRYJBbQSw+shq9WzAw6ZwxSHzcYiBxMAha3GCwtdOu0drkrROzsPWVNdYZAxHu48nm7RExcK9A2fGbq7KOj8GUmloMXAxpfUW7xSBLmSoMYptzhaGFvOGMIbXcZ+059lTua18Y7OxMBX8b+oT66o6/3bU5D1GkeBLh71TzRmvxNxdjD+M+mdutGNoF99nzt9WO9sUb+8aujE/Kx67ObS61Y1c9wD1/65e7l/vEFJCWNdH6h0QwJDkZ159DE+aegBKivqHPaSPGtWmAiYoQgGgTVQ6SPiFWqCaf0aFJMA6to0JGUVOH/jk0Aqt8wiQglNkqnigGuMOgloeGgQCEmhjkdZLJZSJvDNZy0CNbuwZ5JTPpSt5ehO/ysfqMz7hJE1otdIUBSWAw0zlikGilrjHQFmMwCDcOBjkIEQNDPDJ2l0qmxqUjBircC1rtMfBlbfgyhCRKMzs1SVlL5TtjMAKdMNDEMVhtFttc22OwV5IsbySOwb7NaaEyDK3CG2a5SDEkyX1WUm8bDCnnPgkG99zXcv52y33u+NvKfSnjb5fcJz0EEGY+ucFg1+bkbvfxt9XmPYf7rG43Y9gd3CdNvTdw376xK9CKY1fOilSPXbWrPY77rPeyNkdBhMl7fAxJTsatolSQ+ozVLoOZXCC6D2UORLPE4lTxOsC/iypNRLSO07G2MslZZe4xqJeUaxWuMMDEEL9OxsegWWFvKpEEWMpSxEDk0VgJss/ISZ27eO4wJKLHsctUf+NiMDuNhC1gCMI9Bjv91nvzKkUYCBuLWoJSh0EWYmmJkNdXKwa7NmfBQNobhvi8YcVAJXFkzm3bZMTJKQ6J8YYsmg2GuC6xNifFsEdwn1v+dqcnHgb33CcxyG2spLgvHn9buS9l/N0OuI937rjPXtXeyN9uuU/m4mBIiPtSwN9xXQq4TyprT+W+9oxhbxq7UvZmN3GfLGb752++qrrnvgQn43aTX6YpUYB/b5zqnup/vXCpnl0e43MLRtthcRPmUDWLVBMc1XOZywAKEAJKPYwAFgPh7EsKA9XRa2EtwQCZ0/LJ+ujfcinKt9YfhrIp42fTg9gTuSg1XpNyi0HSkUswCNHhhIHXsXsxsF1FfAx2Otoag10tkGEwr/nVWrv6ai0nOQZrfZVhcDvwaEsMTm3OxOCmzYkhEt6QYnDDGwKGVuONBDHoXi4x7F7uayl/u+M+abp4GNoB97GR3fN3e+c+witzxRtMPbRYaMN9rK8N98kwyPS0Lfcx8Rz529nS5LnPRl7KuK8V+Vv3+p/gPonefWNXQcdu4r4Ex66p5T5BVgLct7vHrk711W7smuBknEgvOUOILJjAyAAtQDGySwGI9t093WhqAmG/iygWknkIHNGuKaNYr0UUHo++F1zEQGGulzDvsVswmHFEDOqk2wkDn/m2GKj1C3W6bgoIq1925RBvD4CZl2YjI5wMPj218RekMoEyDNQRg1hm8TEQiEVJuDovxUCc0cgw8O1Uq69xMMht4GNznWdcDAQsBrl1bYiBaXNWDDAwECJikMSVlDWRXMvqK/8lBCva1GBIrs1Zuc8Og8zG9oFB0GbakSRvJIUB7QuDVKoMg6DXHQZ33GfYI2BINffxUlrOG2w69/zdzriPufII6fQI8bnP1GnhDTcYnLgvpfydCu5j7NjHfbzUfdyXMgyO3GfxF6SmiPvc8rd77mPukuDv1uQ+a301MVi5T87fLeW+pDC45o2Wj11lZR2Pv5M/Td3iqOzH1rGFq+YlWxqMgdpElmmKMiF8COV9ZKuwrAhdg/ilBVkDIIyXWdWcMMDAILGUN8TBRvtt86xYIuSTXJeIwd4MppScMMQxzchjKQaxEEUM9jLFaEQME+4I9yQyHgZ+nYvYR5TqcIOBUWWRZIfBjNtSDPZUYoeB70QsqiySbKtF3E7czjK2jakY4pV1yzC4s85NLD4FFe7ld451abdjcLpvYXuwSEoEQxtznyvL0Or8nWrus5HiZE1CZZ0Mf6eO+2ytceYNTrr8pkXcJ0nkxN97CvfJ+VtVumdyX3vlb5dtTiL1f4P7JHLjmGbqc+aNfWPXxPjb8i2KhDDsxrErEzNeHCrIiTd2Tf40de7XnMgamSDUOMMwzZ8QsX6bmUgohXHAAnMQuXpIGjGjM5cUZoaL7xRxfbieiYTBQFRfjwsMrG4pBiLHQAUMRl4YJUBNDLw2w0aZ47FBXuuYxQlOqpg/9tK5/JJWVWYBI7UY2JURGQaJn0S6LtI9BkG/9M70dYVBtMdIkwoMfD7xGGTSxLD4GAgTNx4GOyxWDFbLbMtaM86sY1YMTDReoXYjS2HiTgADGy4bmQsYROJNqM3Z1iXTR8QgNU3inzyGFPAG06868kZ8LYxHG3OfWwytwt/ueEOX3zrc55K/meu25b7U8Hci3Oceg8QyDoOTtD2H+3jnnr+T5b52x9/6jU3UlvA37+FyzBRH9p7BfTJNUun7xq7SO9O3ffO3TFpLuC8+hpbzhp1z5r7kJuPUFEUoNQ4NB2B+544tYWMLNtG+NabGM1+lNk2kulkKA05hP1Nm+huXlMCjT7IVBpZWuAZsRZ2oK/q1GQUU6jZ1mjAGtvSp/s+CgQgYqB7dKGHCri9ArKzGAoHQvi1VVtaJETNAWF9Qg40EYoUiQjyhIrMVj1EVF4OQvGUYiIBBtI1P0zIMsMEgf8ohJ57WwsDnE4+BcbRtMHBhTBMRMfBGCGVtg4E4YLBGdujEKFPW8TAIaTgMsg5AhsHS5mwwiG0uCQx6oKhb5A1XGBx5gxdui4FPygQKGCwY2577XGFIlvtSikHkjXbG35bQ3cF97Ze/+Xgt52+La8fc5wZDstyXUgxuuY/FkCz3JcHfrKzkuI8XnhT3tTP+5oW5xIAUc19S/C3a5ob73GJoX9znnr8ZlxLui48hNdwnReDIfclNxjlshLGSNUawQEzL2SsarvBhzOfMpBgJhbG+Y7KaVTYBKDWfSktF2Sli97ATmb8TBlgxiP2KxW6LVZrRTPWTl7c0zMLzzDUVjbKJx2Fw0O9gFQz2jpPcvqzl11RM0CoYrIniYogXYLlmMUjaDdAyDJJEKcdABQyyJiJ+PqAVMcSXI7kWMUjjCU9I4hkh1SfB4JRPUplC5yBTaMcbcTA48YbFYJ1TqciRQn2Vmrl7uM9CyMQKS71OEfclicFqj3nZbvk7XoAj99nFay/8LWlzCfK3KyNsjdpLuY9L44b7bK5ThcEt9+lXLeG+ZPhbjN0W/C3qdyym/1HuSwqDc7z2w3121+65LykMCXJfUhhc8oaTIsd9TQ4Ykn4ybq5sUNVm/T9LLqKlLDgFZiJhDwi/RkCtB5vL1AjgTcziNgwznsLFFRuD/YSeV0lVXDIM0lVIGwxi2QnYdFX2X+xzdiaNWPVwp8hbVTPXNtrsEnDYWo5BGtfIS70uOZuUMAbOy8QQ1y4HJ6wNCsuE7IoZ4eKwbc5BcBzF9hhcOS5/bTAQEYOZKC4GV/oTw2AhZZcYzOprXw5J9Yes8XHLzKbzt0vuhjcoHy2pDs0JA38CStz6mhQGWTob58R9ohEp5z7tplW4T/NsNe5rQ/5GHAyJcV/i/J2Is8hox/y9R3Of5hLHgN2HQRyotwb3UddZlxz3Jcjflpt93BdfFeOxb+zqwohU8LdL7jPvEsSguXhtzg5D4pNxCnMFDYD+ZJzqi1OKLIF5aaxhEcDYkECoOTGlBJTLEF22UXNVf2YxTPVmp9RsJnrMO8WMzcYyCkffN8/P0qUY9HACAlCPHAMxU3NPvrXSYjEQp9UxME/zOZKQDZbtOzppx8Pq1X/YdsVgsHY0clstl8QdBr7UXWLgVpoIj0GIkxQGzotALKa4GCROvvijXzArZgIGo5G7wmCn2B6D9da+ABLDYJYNxxusjkRGF22Ewai+knJQr1uGQVQvxUBsqD0uBvVG2uaIEI1V3hIMSfJGUhjEaGxAe+I+7aZVuI/D0ArcZ8ffQvq24O/EuC9x/rbeOvM3IZJ8Spi/hXxqR/zdLrjPTnAivAEH7kslBn4uYoprB/zd3rnPIril3Ldv7CrRs2/s6pb7jLsWcB8vidVjjyHxybhNphFdKKdEfB+BGLpF7lJ06wn/JNw834yYOgDbQqDaXzOYWR0gYmzBMd8jN3XJMbA49L9xMeiy9NPc3JK/TD1nlKT1WspJVCZXzs6dZGrje9qKtqYTMBAxQksx2Ki19aQ2104uHoa4jtrfpRiDLSQnDK7ywQ0GO0GSst4tGBz0xC1KOwwO9VN2b9vmUojBFovbNif3dcUbbjteO5cyDPu4z+LZGtwXt5zbOQYHGXaDvsT4u71wX2IYpMrtuC8pDHsb9+0NGOJ5unD7xq5xFe0J3GenaO8du8ZRboPBXYmb6ZP/tBm1u2EyhFjNMcZjDAACMIe58VNpuwbG3zu1PmL8pYJePg2VSYIsS1OGIQFnW5C25SA6xww0fan9QMO1s8HpDkMiglOBgQlnxSWKIenI0uEZQOMlt2EuBwz6bZKl6uBsMGi6bPveFmCQu9Qhs+sjrB5OGGzqp3jvug0n5nTOk0p1g8GQIpfN3bcSBkdp3IJHIhjseSOuVreDNbfJdit/ty/uM3xbgfsSMsu1s3bqqeENybX11kl4gq41MMgnJc5zFFu2StjtDdwXH0My3Cf3TQn32bj2yX0uVcWTtreOXV25vX/syrlE+dtRk1V48pNxccKrzziNQzHUCAqI+akxY1ZKuW33lCjCJFmfQBOTc6hWUfXPhRmPocHPgkGY99FZHdrbq8y73dzWcO7FfU0ltcFAZBhoAhg0HcY+deYAOkMgwE38TU/eaRjYPGejMYfPY1dVJZYsWYxwUxh1dXV4eNz9uOnv1/NKCVu0hA3hohndAAUefPA/uOH6a7Fo0ULe/gQxrFixHDf//QY8+sg4WwxGANMPCSWdIAbCl6MQxzUGXZZNSGIYIGCQ2Uc4DPI4SAkGtqydMMhkEtFX0kZcYdAuLGVt0ab+JoSBiyTHYO8RD4OQTzIMEnkyS0QM0lgCBt26RDE4lnUbYXDLG5xOyqRIgjdSgiEJ7nPD3/8b3CdikNnXXrhPbBeiNKuHtWVaY7YW95XvrMDk77/Dxo0bAVDcduvfcc9dd6KioqKVuC8+BgqKaDRmfsFGgmHmTz/isssuwg8/TE6C+9TfxsZGPPfsM7jskgvQHI04YkiU+6prdmHp0iVoaGhAJBzBP275Gx59eByisZjVPEa+HYaammo8/tgjuOySC0AVBfb8nST3aRi++fpL/Omyi7B82dLdyt+7h/tag78lov7n+Bt7EH+zkdqe+0ThPosFSTiqVSK+ZMzPARgTYH1CDP74ekq9oKCIKTFt8kqNSSyh1JyAAyDGVnIFhGiVkTs8jaozXk06oQD1EC2OUbqGPElzMLwIscFAZRg8FlkA1Em6QlVbNVP1o/GJhgGcJBh6AGZrPke+VmfDpdxn2d977x289eZreO+DT1CQX4hNmzZg/foNkoQU4XAYO7bvQEVFOaKxKPLz8lFSWor09BDX2AgBNpStw8aNG9DQUG9Iqq+vw87yHYjFLIcIGC7g96Njp87wer0AgNqaaqxcuUztgFhAbF6AcH5cw6cMYC3TqFFS1jxiMUiyjrkRXlWgxLYo7MpBjsEMMzRQiIAc5cvM4OPoMpwxcPlEKVdxzGxwxgBbDM5ut2Ow6JFhsG97zhiE+poiDOFwBIsXLUR6KIQBAwbGwUCQKAaWN1oLA1N5BEMS4z47EI4YLG1H7FDjY5AtvpqXbD2T67ANSYb7uIQS7nOBoX1wX+L8bW+Du/rKJ0k19znXgJkzfsbqVSvkxlitg8/rxXGjj0dJSUdDWDQaxcaNGySxAeLxoGPHzvD7ffhl1k8Y98C9uPUf/0SXLudhzZrVyOnQAdFosy2GxsYG3HbrTRY0BMDfb70NPXv0SrgcqqurMePn6fj6qy+wevUq1NXVIisrG0OHDcfpp5+JAw86GH6fzyiHjVu2YMWyJaisqDBk1dbW4pdfZoBQimNHn6COIRgM302cABAPhgwdhtzcDlAUBVu3bsaKFcugSA5gknFftLkZMWNCzZclIQR+vx8e4sHHH32AN15/FeOffRH9+vfH2rVr0BxtBhQF8HoRi0axddtWRKMxjYnV8aA+XFbLiaCgoAChUAixmIItmzdh5fJlmjHx+Xvd2jWoq68HJ9TiKPJy89GpcxcQAJs2bsTyZUtQV18nxKJYsmgR1qxdjWOOOQ5ZWdlGJsl4Y8WKFVi5Yjn69x+A3n36JszftjSaFH8nx32u+Dtl3NdOx65CPjljMMP27rGrfb212NtCDCmZjPPjbX06LRuGe4z1AULM1QpQBZVVVXjl5Zd0EVBPutRWOrS9G3l5ebjyqmuMDGU51dSqp1d/jQk9mCBduXVxQvNzg0FrMEYaylwzsrRGRo0GxgbriwkWJVq+QC9HR7d8+TJMnzbVaM/qlynUwk8PhXDMsaPRqXNnUOP0UMYOiey6unp8/NEH+Gn6NGzevBHR5ihKO3bCfgP647rrbkBBQaHVTsFjydLFePnF51BfVw9mHUNbuCEgFCjp2BH/ue9BZGZm8WIEmyRfQjQw2JKggVTsyOI3MEs8MYmb5BZr5YkslG8LKMUYxMGFpRfUw814zhhszLbF4NY5pUkdBouzB5SkSy2GivJy3HH7rejRsxdefOk1FypbEYNTe3UqBzfVIRVmJyHQHoPgbDG4xJeIHYyvs2gJ9yWEof1wX6vwt5MMrkN04A3KxkievxcsmI9pUycbAvU+0EMJFKJw0isrKxCJNKPffv1RUlJqyNhZvhP/vvN2bUDFDkKAtPR0jHvoMRQWFqqx2TETtcsD89Lr9aGwsAjicx2AIhhIk6d3EEgpxZtvvoYvPv0Y2Tk5GHPSKcjMzMT2HdsxbeoULF60ADff8n8YMXIUrLxBjNyorKzAyy8+j6bGBgw/agQyMzI5jc8//yxAFZSUlCA39yDNCqY+uHBff/0l5s/9Q03AjKtAgNy8PFxwwSUoKS4WkFrbXE1tDR556AFU7doF9ZENM9miBIQQBNICuOrqv2DIkCGGiZQQZnLhXOdfeeUFzJs3T8shobSMsTDFqFHH4bb/u4PLBvFtUgKCKVO+wwfvv4cDDjgIWVlZcv2a3Jkzfsbrr7yEq6/9izoZZ7mvFfjbPffpXslwn4S/U8Z9u3Hs6pr7WGv2jV0T7sypqdk2goChBZNxc1qpAzW6E6L/qGsWukmUeSGC6lvJiUpGO3fsxMRvv4ECCi+IutNcX1WgBAQKSjt2xp+vusa0gAAeSqHutldgPk0nql6F6slNvURXrqbRDIOHAgoxSdLs09gCZTFojVUjSwJoT8/VrVceyiwkgEA91V1RJ+BsLhJwT+DNAiJifeJzn2qrq6BYtWo53nrrDXXRwWM+xScEyM7ugF59+qBT584GN5ocyWPQ3ccfvY/XXn0J2ZnZuPCiSxFMC+KTjz/Et99MQHM4gltvuwNZ2TlMnnDdLQCChoYGbFi/HoVFJTjuuNFqkL55QC0kZGflwO/zm4UDopWdYskNAT245qWXk/2BAIw0k2SpJdTaiC3JRUuYcjAia/hE0uVF7GYMjB4pBolEZww6ccowWK00kwscYdEoyGLzKYUYOF0MhiVLFuOF58YjOycHt9xyG/Ly8yEra8rngkVLYhjY9HIMClUQbmpEJByJi4FTzeQTBfDm66/hl59+wrEnjsbYsRc75I0DBql8EQMMDLqVKm/I6qtdJ2zFYMS3aXMpxSBrc7YY5F4tx9AKvNEmGLiUqceABDDE5Q3TRjve0F9baxkGij9d8WdcdPGlMJfr7d34J5/ApO8mWDA0NjRgzaqV6D9gIA4bOgxer8+QH/AFEAgGDRvMsgbUMRNrHyy8EQgEcNvt/2KsMK0MBoJQecSJv3m3dPFifPLBe+g3YADuv/8h5Oblw+PxIBqN4uSTTsFt/7gJL7/8nDYZN8uFwnyVjxrSKEAVxoPBoGHlzDCf/oCrRDb8vWTxIkz+fiICgSA8Pq+xeNHU2IhOnTri1FPOAEpKoB8uzD/yMT/JE41FsXbtGjQ2NWH06BOQlZXF7JBUR61+fwD5+fmGBUR7SiM+yLRrc6efcRaOPGqUVg1jmDlzJn6YPAmnnHYWDjnkEA0RQWlJKZMF2mMlIpMPgOg7FHkm0n3EusQZ2ircZ4o2jdkT+JtLiXbNfTYYZGXSUu6z542W8reciewxyLnPHgPiYLARw+aTBEPSk3EKwjyBVy/0uZY+X6XwaLSkZZRCYCzDeWCwgAKgalclAIKMtBAOHnKISnBaVP1TZ0WFxTA3g+srgKqPomcshXoourqMaWQC1VUy29UpCLTFZ/UkdKaCmesGDhgYotKnjx7VYFAPVfHp/4m+mYJduTQxUD1PAa7M2TrJexOjHGiMIhaL4oa/3YwjjxxhPIEmAIjXi/yCAiO9AqZP0suOeQ2gtqYGH37wHoqKSvDwo4+hd+++AICjR43GjTdcizlzZmP58mUYMmQYWKciJxwGhQB9+vbF5VdcKcUg9Idq50D0kpKTmdGExLZnS99WItMDxb4DTJ4mUw6EtYlv5ty1UfYJYuDbXKoxSFjeDQaLMBkGD+MnYiAOGGCDwQzX71oLQ01NNZYvW4zcvAJEmiOuMLBaOAzg0zhjYAtYhoEYr8bIy1pel4jR1gmgUGzcsB4LlyzAfoMGWnS0GAPb5jiJ7DVxKAczrmObE+xpMQZig6E1ecM1BmKLQdTRnriPT584htbmvkT525jGSsrOLYZYTEE00oxYNApFiSEWU7Rf9b8SiyEWjSGmxNAcjaK6rgZenx8er4enOKh0MWj/A/HnK65BIBCwyXxi2KFjoGxZAGhqasIzTz/ByNdHEoxGpjGx260vvfRylJR2hFkOsJTDrNkzEaMKzjzzHBSVlBgl4PP6MHDQYBw3+kR8+fln2LFjJ4qKCrVwoo0uTMx63YtEY1ixfBlC2utzumtujsDn87LQzEkn8cCY5WrlZs0u1S+voBAPP/I4Bg0cbCg/8fhR2quT+mRW38HA8Ab1MPmqhuXm5ODSy/6Ejh07mTYxmFhjDVspuAm5HW8MGXK4kTYajWLd2nWg8KBv3344YcwpIADCTWHU19ehoqICBEBjUyNnh4W/qQc7t+1E0B8Am7ls3aYAampqEJMF7uNvzu3J/M2WN8T4SfG307gvPgZTNVtfE8Rg0WGHQfdzj0HR9SQwdk16Ms7nP0vW/BUHit0PQ1kAwK6qKlBQDBg0CPffN85WL7st3ERrawoXpqY1LSKgXAHAap4zBkG+kY4AlP2sGxGkSTAQCBgYeXqlMU01b4iOC0DHjh3RrVt3i30WsWytZA+0o+qhHnW1NRh7/oXo3r2nEVZSWoKbbroVN910PX6d9YtkMk4NHLoOHZO8TfEY2AyQvNJlj0F0QpFyEe3SuNDhGkOS8jknw6D7tRoGCcu7kW+XhsHAbppLJp8oKJojzfB6vfB4vVBiMVRVVMDr96NDhw5a3VFf+Wior0N1TTXy8vKQlpZuK5uCorG+AdXV1fD5fOiQmwu/38/FiTY3I9ocBQWFQmOIRCKIRCLw+30A4c++jMViqKqqhKIoyM3NM2TFLQdLA7eWQzQaRfWuXYg0R5Cbm4e0tDRmECjXoSgKamtr0FBfj9y8fKSlBQUjFDRrkwBVRwzNkQigvQvJZxZFXX0ddlXtQl5eHkIZGVyw+Po38xYZpzIWjWFXdRWam5uRl5evThogr0uUUtTV1aGurha5HXKRlq6XpXqGSCwaBVUUeH0+eIj1HNIoG+7xxG1zHAYxYiranAN/typvxEvjQsf/AvclioEfvArOphxEHRUV5Xj91ZexafMmNGvcEo6E1etwBOFwGOFIE5rCYdBYDBRATo66m4zjDe1nzaqVmDjxG/j9Aeise9RRIzDhm6/Q2NiEpUsWGZ2rmZ2U5w0Aa9esRkyJGXlGAUQizVi3ZjUUGkPXrt2RkWluC1fjEIQj7MFo8nKoq62FPxBAenpIfdLMNA6Px4tQejpAKKoqy7XJuIqEEn5Ypy8R1FbX4K9/uYobZ+i/xcUlkuIh+G3ObAQCAYTS0zFw0GAQCX/oOjx6FhMuwJRGtdrDVAii5yk7ztIwWK2xuzFFyOI41ddIJIJVK1cCoPj+u4k486xz4PP5sHjxQrz5xqtGvA0bNxh1mS8rAv39ycceewiBgF/NAmPOo+ey6irKy0H1s4F2E/e1On9z3vYYZJM4J/mc28fftjp219jVEtWtDkn/EG/cl5p3xjWZFM6VkW/DBNC2bQNAZWUVAKCgIN9ZiAImVxjE/DcBTGJmo1kmeYS7otphcXL1miAHDJzURDBQiWksBjg0Us5XI1EbDKKdennpXRshwB+//4YOefkYNGh/+Lx89RgwaBB6dO+BNatXqzbrfalAzqwCsYO0YBACCAg8lMqC4jgTgwWkA3E4nGfhQoQcg+pn06LjaNqTMagirBjiSoiDYd68P/DfR8ZBrgc7AAAgAElEQVTh2NEnYNiwI/DSi+OxZfNmEOLBgQcdgquvuRY52Tl4+6038P33k9DcHEFaWhqOPHIkLrrkUmRn53D46urq8OnHH2LKlMloaKgD8XhQUFCICy68BCNGjjIw3HrL31BWtg4NDY0Ih7fhHzffCK/Pjz//+RocO3q0lkUUX335Ob756ktUVVcBFMjOzsHQocNw5dXXGocT8nnEXIk9j1AOq1atxEvPj0fZ+jJQhSI9IwPnnDMWBx9yiNreJbk2Z86vePvN17B953bEmqMIBILoP2Ag/vb3m5GT0wEA8Mfvf+Cxxx5C+c4d8ACYOnkiFsz7A5QA773/iSGrrGwdnnv2aWxYX4ZwcwTBQBDdunXH9TfchC5dOgsYNCQCBkVR8PucX/HKqy9iV2UVYlRBMBDEoMH747LLr0CnTp259GvXrMHzLzyLjevXoTnajGAgiAEDB+PKq65BSUkpdlVV4rnxT2PpksW48uprcfQxx2l5Z3LfrTf/DTt2bMe11/0VI0YeLa9Y0nKwFJQ0SSJtzi1/ixj2cZ+jAbsXgzQoMQzp6enwBwLIzslBVkYWMrMykZGZiYxQBjIyMxEKhRDKyERmRgiBQBD33HUn6htq1W3nDG8QAIQSzJ83D0uXLgEh+lMfioEDB+G9d95GRWU5FPuzVA0z09PScN+Dj0Dsz8vKynD3v+9AuKkJ5194CYYPP8JMBLUccjvkxpU/dNhwfPjBu/j111k48qgR2sKfCmbXrl34/bffEAikoXsP7UGAvnggmclSeJCVk4377h/HLNap7uabbtDnwFoumbz7wL33AB6ge/ceeObZF+HzEmmboyDqE3DuYQpAibY/k6FfykbgPNQb/f1w146qOwtd8wDDG2vWrMa8eXMBqK9Z/TJzBkaMHIVAMIDMzCzoj5cCPnWSLeU+zfPAgw5Gbm4e2BeMWJsogLl//I6qqiqLiL2F+9yOXQHwB4i5dnsY99lo2pMx2I1d3SS0YrCCcjPuS2gyLs8UyjVodhu2ZYrGvIJCtbhqWorKygoAQIfcXNQ31GPnzp3Yvm0b0tLSUFpajA65+QgGAsbqorENW7eAIUEPCCjRbKBsHP2dKdXHJBRNmrFSpFqmv1luTg1hvApEJBj05VvjXSWNx6mxZV7TrGcC01Nw+UpNHUzWAhwG3hENhZ4oEo7g6y8/48ps+bIlpnzKbgY3N6ysWrUSGekZ6JCbK/RMFH6/H0Ulpdi2daths97hWeoFVTvQ6T9Ow+WXXcSg1XKNEDw47hHMm/sHtm7bClCgbN1aVNdUG6fns4Qvk8+AZzAIiQQMRgXUfhzbnVAOonDDLosOYkmULAYqimpvGCw6JBhsDXOHob62DuvWrMXCgrn46IP3QAB4fF7U19fhqy8/BaiCXdW7MOuXGcjKygIBwc7t2/HmmlcAD8F1111vKGiORvHuO2/i9ddeRnp6COlp6VCogu1btuLuJXfg7v/ch5GjjobH40VtTbX6hQAFiBEFNbW18Pq8CEfCAIBYtBn3338vJn37DdLS0hHKCMFDPFhXWY5lyxZjw8b1+Oe/7kZGRoakHGxqN3O5q6oS/7n3X1i9ajUyQyH4g2mora3BQw/dhzFjTlF5hcldqlB8/snHeOS/DyIYCCKUEYLP50NNTTUmfbsOS5cuweOPP42OnTqhuTmCuppqNEciUACEIxHU1FSbNEqB6dOm4vbbb4HP50NGRiaC/iB21TVg04YNWLhgPsaPfxG9+vQxMdi0uXlzf8d9992DqspyhDIy4Pf5UVVVibVrV2PpkkW465770bdvP4ACs2bNxN133oH6xnp06JALn8+Luto6fPvtV1iycAFeev1tZGfnwOvzYu26NZj47QSMHHk0PF6vkbll69ZhzuyZKOnUGfl2h03alUMCvOGuPbjjb7OTbgn3JY7B1u3jPmcMlPmfCAZGWlZWNm6+5TaL2VMmf4+ysnW48KJL1O3XUMcolZUVKCosRHp6OoeBauOdkaNG4cyzzzVOIifEg25du+Ht9z5CNBLBxO8m4tlnnuB0EQaL+oBGPdWbNTUSbcaCBfNRU1uD5kgEv/86C6NGjUJ2dgeL7VLHlMPBhxyG/foPxFdffoa62hqcN/ZCdOiQi/Xry/DiC8+ibP06XHzxZQgGAoZR+ojS2uYU+H1+DBy4PzL1J/VaYFZmDiiNQn9Io+cTCHDBRRfB6/UiN199X11sc3zeMG1Kw0AAlO8sx8PjHkBGRgZWrFhuTrQJM/4z+FnFUFFVgSef+C/SQyFLPenatRvOG3uhgYMQdUvs4sWL4POoryUMGDQ4Lm/UVNfggfvuQSiUjjPOPAuffvIhnnzyv0hPT8ehhx6GB8c9agB94bnxeOONV8ymyPKGhvP88y9E9x49LLnDlsNrr76MJYsXaq8amvnE52n7476k+LuNuG8ff7cBBosOGwzSRE4YqOXSbtzHYkhoMm7I45ARIY65KdUyCGcOFwMTD5SgQpuM79yxA+MeuB9zfpuDSCQMgCA/Pw+nnnY6xp53PtJDIQsk0cgY+GfAVA8gAGEPkTOSiN+no0aZyjBAP5xNwADjXRVTMQW0DoXvu0XJ3J1tDdUwiMQDAvWUdzNhcySMd995C+xjqurqakOMue3LXC6nVH1HNisrE0H90BeDGNTOPS0tDTW1NUaAyhmSqk4oFA9FKJCG0tJSBoFZQ5oamzBnzq9YvHgRCICmpkbj8x9sxkhXqhxbsRDOYOCdbRONo0Peeaue8kTyuPaq9XBLm0t0xdIuOiW8fC5NAhgcAyDHoAXEyX3TeQBKKObMmY2jRh6NSy79E3JyOuD3337FCy+Mx1dffY5AMIjLLr8Sxx57HIjHg0mTJuK9d97AhK+/xLXX/hXqZxApPv34A7zx2ivo2qUbLr38CgwcNBiNjQ34btK3+PCD9/DiC+PRsVNn9Ou3Hx7+71P49ddZeOzRccjpkIt7//MgiouKkZ2jHl64YOECfPvtBJQUleCiSy/DsKHDEUwL4rff5uCZpx7Hb3NmY8H8uRh+xFFcO+Rwy9ieAvUN9bjnnn9j9cpVGDT4QFxw0cXo1as3Ksor8NVXn2LihK9Z9gGgnqo8/vmnkJmRgbPOGYvjRp+AvNw8rF6zGs+OfxLr1q7F999PwuWX/xmHHHIYXn7tbTzz1OOYMnUKjjlmNK657q/waGVfW1ON999/Bx6PB8cfPwZnnn0OOnXqjM2bN+PNN17BLzNn4M03X8N/7h9nopG0ubL1ZXj0kXGoqqrEKaedidHHn4D8vAKsXbcaH33wPhbMn4ePPnwPd/zzLoTDYUyc+A2q62ow+rjjcfW1f0VeXh7WrlmD1157GXN+nY0vPvsEl1x6OUaOPAbfTZyIsvXrsGnzJnTt2s1Q/eO0qVBA0LNnL85ftdGu1tljsOMNYilMXpRUh5S/bRIlzH2JY7B1+7jPWRRh/jvodzNmEt2UKd9h/ry5OOvscxDSxjvhxiYUFBagR89e6unWHAaVBwqLinHAAQcZr3/oLjMzA15vDjrkZEN/s5kzg9gNOtWDIr/+6gt8+vEHKC0pRUFBEX6Y9gNycnNx5VXXIUfjQkfHtLlA0I9//usuvP76K5g1cyamTPneiNaxtCMuuOBijB17IVcO7BjLWoupUQ7WGs0DI1CfTo+94GJjfGMZ33GyGYEcfytQKEU0FoOiKEgPhVBbW2smMgaWZgVRAMSiUVTsLEd6KA1syREAmVmZaI5GuIdNAMHVV16mxaCYPWeeBKg2FqUUZevW4vnnx2PTxg04d+wF+NMVVyEUysDHH72HRx95EJdedgWGDB2GwqIiZszLDHIF3lDxe6wBEu6jYBYhpK79cV9S/G0XLDN239hVde2Rv+MGwJG/XY9dmUiycR8rI7lt6lwt5me2VD3i3GQyY/KrLTPYyKvYuRMA8POMnxFrjmLgwIHweD1YsGA+Kioq8MH776GuphZ/+ev18Hi9INB3e5tXujB+as2e6c7boIfwz/E1ArdgMMPYCSWXJwq1KSHzwDZriHglL2belyUeqslXTIwgSA+F8PB/n+BSfvj+O5gw4WsbSwBCCIoKihBpjqCpsQl8RApKFTTU1yM/Vzv108gSkYU1sqPA/gcehDv+eZcUTVpaGq6++jo0NjYAIFi8eAGef248D9hiqItmQMF1nnyLYj0YDBapbspBFsL82u7BSRaDqIMXlxAGR/WpxgApBiLBIBWiiSgsKsYd//w3cnPzAABdunTB77/PwQ9TJ2PY4Ufg0sv+ZAxEzzvvPPw8/QesWbMaO7ZvR3FJCcp37sTbb76GzKwsXHLZnzDmpJPVk4cBdOvWA9u3b8f0H3/AsqWL0bdvP+QXFCA/Lw+EEPh8PhQVFaG4pAS6QV26dMH48S8gOzsbPXr2QsCvHpx04piTMO2HKfh19i9YuXIFhh9xJAeOgykpThBg7drVmD1rBko7dsLV116HQw8ZAuIh6NatO/r06YPqmlrMmjmDy99QKIRHHn0CAX8APXv10rYkAgUFBVi18kQ8O/5plJWtRTgSRjAYQHFxCdLS0kBAkZWZheLiEiOvA8EgbrjxZjSFG9GzRy/tFHkgLy8fY8acgrl//I7Va1ahtrZWmxxYMQDAe++8hbKydRgxYhSuvvo6Q073Hj3Qq3dfPPTAfdiydTNisSjq6mpRXl4OAmDU0ccaE+lB+x+A/7v9X9i8aRPy8tT0Bx50EPLzc1G+cyeWLFmkxaWor6vH73N+hdfnwZAhw5CZlSVUMIc664Y3hMZjbR7J8DeR/MrE/C9zn0363cR9TpM4U0xi/G04opeWqcUfCOCBBx+Bz+dTXzWRtLU1q1fim6++QEyJIRyOoLKyHBvWb0DHTp3wpyuuMkZG7Du/snmYjnBDWRneeONVzJzxM9LS0nDzLf+HktJSPHDfPfjis0+wauVKXHLp5Rg6bLj6SpuL8iYg6N2nL/5x2x3YsGE9dmzfjsbGBuQXFKKosAhdunZDWloaly6Uno7i4lJkZGYIuQKEI2FMnjwJoVAGow+oq6tRz7Ygpp8+UmJaLywHQDEYzHGktfXm5eXhuuuuR89evfDu22/h448/MAJNllE1gqjvnufm5eFvN92C0tKO+pm+hmyf34fs7BxLHX7qmee1MzHs65ISUzBp4gR8+P67WLt2jbZgfTmys7NxxZ+vQkFBPl599SU8/tgjGDx4f/z1hr+rO5F0G2V9kJFPCvj8kXEfFUqFdwlzn7Tppoj7dAzmcL71uG8ffzMm72FjVzGegMHd2JV3RLwR0iU2Gecy2awUhNXEvbtNoU9i2VM31egUCiHq9h6ForyyEl6vFx2ys3HfAw+hX79+AAjC4SbceMP1WLliGT7+9GMcfOihGD78CC07zM9HqE+ftQ9gKPynDYx3qT0eQKEg2hN69XvjOhY24+0waLdauIkBgAL1u5AA1E+YCQSq6bB2TcIhTDq9cUf2C6t4lnIgME+sVrsQr9fLEK6aOC+/ACxa/Rx3wyYK9OrbDwsXzEVlZTkANj1Bc3MztmzZjG76+1yG0QrYJ+wmRVMEg2nIyso0IwsYOnYyTxatrKqEz+dTbZO2I0mTpVTjVjOPjFcRLNGJVZLR1kSycC4HozOVtAdDopToeTukGGCHQdTB37rBYMknkThbhEF4n4wA1mcZzhispG1K2P+AA5Gbm8uFdO7aDQQEhw8bxj0RSgumo2OnzlizZjXq6utQDGDFiuWoq29EUVEBevfug+bmKJqbowDU9jJ8+JGYPm2q+n42pfAQ7bRh4oGHG2uoFhUWFqOwsNg4/TgcCYNS9csGPp8P0WgzamtrrFhl5cBhB9asXgOAoEvnbujffwDgMWVkZWfj5JNOxqyZP4NdXMzMzMQhhxym2RBDOKzaoygUwbR0EAqEm5rQ3NysPRmi0HmDCsWSlpaGQYMHQ1EUKIwsSik8Hg+8HqIu2jU1ISszS4ohFlMwffo0eL1+HHTwocjVJuK669a1K55/8RXjPiMjA/n5+aAAHn/sYRACDBk6HGlpaSguLkFpaUet+lGkp4dw1rlj8fSTT2DpkiU45pjRCAaDWLNuLbZs3YyAP4ARI0ZZbIpfDpJekuUNIobI4ybG3+B+3Q6lHLnP4lLHfa4wpJz7eByp528xn5wxsHnsyH02/P3qKy9h1qyZAjY18uJF8wHiwc1/vxF+v9/ooQkUKMRjbIk+ccxJOOfs8+AhgM/nx/z58zB//gIAqj36tvP9avqjrrZW5TKjr1bzSB816BjCkTDWrlmD77+bhAkTvkZtbQ1Ki4vxf3fciSFDDwchBHffez/uu/ceLF68ALfcfCP2P+AgnHnm2Th8+JHIycmB5TRrESMhyMjIRCiUia7dQzD3GQIbNpRpdcEk3H4D+uPRx55EsfZNb6Lh8/l8CIfDeOLRh0AJoCgqTernBKnnY5h9CFs2Ynlwt5yzYiCg8Pp9yMvLQ0F+IUKZmcx4Ux9bMWmpOsoLeH0oKCxEYVERbCq3Wg4M9sMOG6buVnJocwvmz8UDD9wLDyE465zzcNPN/zDs8ft9OPucsTj0sKF4ZNz98Pn92iG/1JTFbR/X/LS+7/zzzoL+GWBx7Mo9BCPWupQ091myJVHuc8HfFt7g46aW+5LAsG/sasHQpmNXJI6BjywjE2cMiU3G2RpgN74REugKmddntPQe6Ou0IMDY885DQ2MjDj74UG0irioJBoO44cYbcc/dd6G8fCd+mv6jdniIQNmKSbJEW0nUi1bXob+zYGyVV/SMcHZUm3ALr2iC2zZFYExs+dMm+V81C4khzHzjhXBnDpjkzmQy52WWg5GP1hSmqQzVspMZ/fNzesLhhx+OH3/4HnN++xWHHDqEOVmZYubMGdi8eROOP2EMJ9vDbJE3MFCj+dtisH7CgOvCpBhEfz2fWAyWtsNI0D2t8uWNyK4c9CKQ2WSr3iamBQPcYbDXaIOBModTOGJwk0+CrxMGi+jEMOg1W9+eyWLwUHUBzu9Ps4jRDzLSo+/aVQWFxrBp40Zcc/UVllPD6+vrAAAbytZr72OrbYtQ4SRczfxYLIZFixbix2lTsWzZEmzbsgXVtTUINzZCP/xH/zIAd56IrBzAl8Oa1eppuNk52cjIyLTkVrduPY3Exis1VB3MTv7+OyxetAibNm5AdU01GhsaEItF+ROJjX6J4SXBbdu6Fd9P+Q5LFi5EWdla7KrahYbGBjQ3R0AoQQftKTXX5pir+roaUKogIyOEkpJSx7pEKRAKZeD008/C1q1bsGL5Mtz5z9uRnZWNgYMG4ZDDhuKww4agb7/9jHQnnHAyXn/lJSxauAA1NdXIzy/A8qWLUV6+EyNGHI0S7fUYbqDgohysueGuPSTC39LPt9hot8PgyH0SCW64LykMEifTIWv1yXJfwvzNjsxSwt/MV6WTwOD3+9SvMpheIFDtOejgQ7UJEtXqqNZGKbMjjxD4vF6AAHn5hfi/2/8Fj8eDQMAPvz+IYFoQOdk5yC8oQG5uHgKBAObPmwuWESml5uMM7TWel55/Du+98ybSMzLQrVs3HHTwqTjrnPPQWT9kkQKdO3fBM88+hymTv8fEb7/Gho0b8J977sSIUcfg7nvuRygUitvmtm/fhr/dcA0aGxq4MQlANL41fZqjUSjRKG75x+0459zzARAUFhbh7zf9Aw0NDUIJUeNvMBhEt27djCy2cF8cR3VytWDwcKclE6iDQ3YERhhFRLOIn2Q68Yb6kMp4cm4EMumYxnTwIYfh2muvR6dOnXDUiFFGfYxEIiivKEdTYyOamhpx7V9vBCFAVVUl8vMKkJWRhdKSEgSDAQv39erZGyNGjAQ7gWgKh/HbnFnI7ZCHvvv1RzDgh2IM8Ak6aTuZEhm7tg73tW/+NuLtG7tKUtnzdyrHrrKyjovB5diVsn/jjTcYDMmfps7ZQ7krwt7py5RCGv3bjHrA6WeeZUuSRYVF6NSpE8p37sTGjRvUFCZPqs7YVm7aQzWdxoNuxhTRHnYzu8XZYhDQivLjORYDW2iJOKbW7Ni+DevWrUNjYwMaGhpQU70LGzduQHV1Na68+jppcnHD3bHHHY+33n4dk7+bhIMOPARHjRgBgGDe3Hl45aXnUVxUjKHDhnNpFL3TYDHIajOliESjaGpqRE11NSoqKrB1yyYcNmQY8vMLjIUFxyyUtoV4K0Pm8oNdSFIHSMbRGtec+J6ScCLcx09pOBsisZpC4gt0rVRIRBLHwHWysjZnZx+szZEAyOmQi6OPOQ6ZmZlmu9ciKlRB585dzE7AUm3MijJt6hSMH/8EduzYiT59+uKwocOQnZ2DUCgDkyZOwKZNG42ugqtbbsqBEBBqPGuwxFeoIpqDlSuWYdy4+7B82TJ07tIFAwYNQl6u+imylStXYMbP0xkMMEao4jkfBMCWzZvx1FOP4ccfpyE/Lw8HHHgQCgsKEcrIwNZtWzFt6mSL/VZA6lM8Beqn4UTHd4hqDhxy6GG46+77sHTpEixaMB+Lly7CrFkzMXvObHTt2hW33noHDj1sCAAgPz8fRx41ElOnTMaG9WUIZWRg8aKFaG5uxkUXXyo3yUU5MBaq4Q7twYrBnbMfsMQ3h4j1MUnuM2K0FEMibnfxt1vuc+O0/s5uEGifyMRw1tnnYsxJp6oHKdbVIT09pG3P5u2i3A2jgwAZ2vvk2VnZOPW0MwAAM2b8hK2bNmPYEUegS5euvAmE4UMKY5JvBBOC004/AxlZmejbpx+6de+Ozp06g3g8bCIAQCAQxJiTTsHhw4/Axg0bsHbtGvTq3cd4x52Xy96oGAoLi/Cvf9+LWFTgBXYMpaX7efqP+PrrL0yOoupJ9MOGDUdTuAkTvvkKeXn5OPqYYy26LbZYfJz7oKamRsye/Qu2bNls+IWbw8hApmX0bg59ND6l7OBcf7dbXcSNRJoRjTYjEo6grr4G1buqsWP7dtTUVuPoY45TDyD2ONQogQMuvuQyeDzq0+xYNIqZM2dg2rQp2LhxE5oaG9CkfVM8LT0doXR1cbRf//7457/vQY+evSzix5x8MkafcALDfRQ7duzE2HNPQ5++/XD7Hf9GTocO3Fhf/aReAi4RHmsJ97Uz/nbhKQnfN3ZN5dg18fxKdOxKtUUj1lhnDElPxo2KAL1bUjNB386pjfPUp8UswRoGeIzN3Dt27sC7774DLyE446wz0aVLN9NKCoSjzWhsCgMEyM7J0Sog3zHZzuDY74rrT8+1+BQwXh9RVy20JwPGZF4dqMfDYKzGUm1NwMPE1XXp8wjNg8UQvzExWIXypNA5n+KZp5+Ax/sMQBXVcoUiqiiglOKSSy7T0olP8z269QAI0jMycPllV+KRRx/EP++4FQMHDEYoMwML5s9FY1MTzj3nfPTfb4BgG4NVcJO//xYL589Fdc0uKLGYOnHXnmZSqr7v9PB/n8QRRxypDRYIt+VL12GsgEnziXAYKMR6b90EI5qs1wPnNmrfABNJmxoMhEnp1g7ZVhxJWlsB8TBAjkGiPxEMwpCRD6e22clcqDc5OR1ACJCdnY2zzzkPPXv05DND100IPNq2cErlGGLRKL6Z8BW2bduG4cNH4L4HxiEYDGrbQwlWrlqJTZs2iImlGGRl1qtPH1BCsat6F+rq6tVdAUyOrC8rU4d8jPyff/4JK5YvQ79+/fDAuEdRUlKi7hIiBJ999CEzGeffhlTbFuGybdnypfjjj9+QnhbE40+NR+9efQxsP//8E375abrBkgYGAUhmVibgJajdVY0tm83BrK5Z3BoGLe+7du2Grl274bjRJ0CJRbFqxUo89fRjWDR/Pp54/FG8+/7Hhs7RJ47BxIkTMH36j+jcpRv++ON39B8wEP0HDATHG1IXv83pP/YdrpvDXJz5O17a1uK+pDG4DuFj7F7+5kNayt/WhfvEMGRmZiEzMwuvv/Yy3nn7TVxz7V9w3tgL49oh8oYYNnXKZMyYMR25BXmWyXggEEBBQTGysrJVDJTfbg8AXbv3wOWXXwGPxxufvwlBbm4ecnPzMHj/A6Q2Wp0qIy0tDUcccZRjXD1sy+YtgDHGZuorARobG/HW669ivwEDjMm4Yx9Eee6L1wfV1dfh9VdeBvspciUaBc3LN/sMCq4wjAcsep3UBG/ZshkXXnC28SDJsINSQKFQqDpWGznqWC0xK5Q3UOxH9f6KAPjwg/fx3PNPIRqNobigCEeNGoUOHfLg9XpRvnMnfp0zC4sXzseP03/A2PMuwAH7H2iprz6fHz6fn9OVFgyCAvB4vEgLBpGelpZC7pNJSRH37aX8vW/sKkmb6rFrkhj0nc6JYEh6Mk6YX3MlUJsYKgQgVH1/h+qkQsC+Y0IJNbZd5WRnY9oPU1BdXYOmcBjX/fV6ZGZkqpM2qmDh/HnYuHE9AGBA/0EaCA+oLk8Cmp0NG6Qn9GIELFFTc0upgUGr6HEwmFqp9h46U2DGdzJNPWa4iiH+Kg3TFIk1pFuX7jj5lNMBUPj9QWRmZiArKxvZWdko7ViK4pISZOfkchMO0xT94Df9L8XxJ45BNBbFhAlfoaKyAuXlO9C1W3cMHXo4/vTnq7TPjjAWEOuQNzs7C3377oe6ulp4PAS5eXnweD3wer3werzIzMxCacdO6NylC3r3YldmqfmknenNZERqpXITg56peizCxZM1e+dhu5labIqsXNE6HkM81zoYZPlkxSCXljoMfIgTBjuutOm2meZvh0E/z6Bvv37ISM9CZWUFFi2aj+7de6gHDwEApVixYgXKytaie/ee6NuvHwih6tMGor4fXVNTY2y3rqmpNur2EUcdpX6+TFO4afNGrFy+RM8BqXV8p2rtKPv06gMA2LRhPRYvXoRhw4Zpr98Au3ZV48svP9X4RU2nKArWr18LSgl69uqDTp06G+9a1dXV4acZ0znNRk0mqtZt27dBUWLqIJxS7Ni+DQ31dejZsy/69umnfpwvU6sAACAASURBVAIIFOFwBHP/+A0NTY3oQM0RKgFFbV0tKisrUVhUhFC6+pm3MWNOwQfvv4Pff/8NJ5x4EoqKio0UZWVr8cjDD8Ln9ePRx59CuKkJixcvRCwWw8EHH4KMjEzA68WAQYNwxhlnYfmyZdiyZROam5vh9/tBAPTo3hP9BwzElMmT0L1HT1RUlOPiSy+HuLjA1wj3vGEtLzZE73bd84aMv1nbOGmtwn1y2xLCIAmxWhePN9qCv+1ZraX8LUNkz318GhZDpCmMcLgJUe0JsbuytudvGlPPeKAK5TEAOOHEk3DCiWOM+7EXXIiAP6COtaBua46E1Yce5kMJU6NoH5XY4Qv4kRYMWmKKGHbu3IFrr7kC9XV1MM+7McOZlwDQ1NTADN6s9TVGFXOnENhy0OIR9Un6jX+7GX++8loEtSe4OjJrm1PDzj77PAwZMtSKgQCh9AzjNRhCtHGfnk9MmyUA/H4/+vXbD9W7doF4PPB6vCBeAq/XCwKCDrl5KC4uRnFJCTp36spUG4+p1YY3RAxl69bhmaceR2nHjvjbzbdg5MhjLOUQi8Uwe/YvGPfAffhmwlcYdfSxGDhoEEAIwuEworGYqA4A0NjUCKIQRGNRNDQ0IBAMWA2Duujj8+lTi/bGfW3B3/vGrm64T9TavsauVqGOGITqIa9vvEiRX5Pfpi44zm5t5kmNSZX6a2lsWlggLYhTTz8D77z1JiZPnoSmpkYMHToM/kAAq1evwMSJk9DY0IAuXbrh+OOPN6VpB09YnTg7lw8i+JhixoozV2cM6pX+HjxgDsMJ1AmvrEnyk/lk3YEHHYwDDzoIfPHaOTFvTF+dmvx+P047/UyMPPpobN+2DbFoDEUlxcjPK5A8tYYUw6BBB+Le+x7UBvgebaXVp/73++D1eO1NtD1Jl4tki8Gu8lvpzVmeW712VsTH4JQ6VRjc+cl0cHa0EANf7+LXUplUKk0pzye29ekhRUXFuOjSyzD+6cfx9ptvIByOYP/9D0AwLR2LFyzAu+++hW3btuCmm29DX+0AyaysHHi8HlRVVuLrrz7HCSeehK5duiErKxuFBUVQKMXPP/+Izp06o0vXrigrW4evvvgc5eXlgvXMe2+OGNTQnj174aiRo/Dz9Ol44flnsKuqCj179URlZSW++fpLzP39Ny6dx+NBr159MdUzGSuWL8OUyd+h/4CBqKgox5Qpk7F48UIhZwBC1G8dezweLF++BN9/9x169emNPr37orS0EzIzs7F9+zZ8/dUX2H//A9EUbsLsWTMxdcp3iMViYJcawuEI3nv3bfz803QcfOghuOmm20AIwbljz8e8uX/gt99mY/wzT+OEE09EUWERNm7ciPfefROLFy/CWWedC5/Xi+27qvDCc+OxcuVynHPu+TjttDNQUFSEHdu24ccff0RztBnHHDuGe9c/Pz8fAwcNxvJlS/HmG6+gsLAIBx5wkG31cury2TD7NWwhtZttca6cpE0kwX08hjjy4ytK0CXCfW3B38nwfGtwnyyGNggjBPIeWXeyYZ09f1PmRh7XvB879kJTNqWYPXsmvvt2gnYoLTuxkCHQBvfGYzkKUGDYsOE46ZRTjaeqanwr9ymUonpXNYLBIE4+5TTzO+HawFkfM+mjKQKKQYP1p+8806vDMPseDFD5sbCwCIWFFjjC2NW8HDBwIAYMHMjZLV7r+GBYSo04+oJCTk4H3H3P/YgpCrxeL3w+L7xeP/x+n/ZEm7e9qqoKxHJAkbPTJaxavRKUUAwaPBjDhh3BxdHLwev14ogjjsKIEaPw2WcfoWpXFfTt7Z999jGWLV3CpYJ2GHFTUxiUUKxZswpPPfUY0gJB85wmxtpTTjkdQ4YOc21723JfW/B3e+A+d3rtrGgL7otv2+4cuyboXJR1vLFrUpNx2eY//Y1rRT94gmhkwqxKGAROoR17aU54zz7rHGwoW4/p06dj6tQfMPOXGfAQD8KNjVAoRY8ePXHX3XdpnxYiAKEM7REBKV8tLG93aXvGiRGupzKeVQsYqBUDNFzMXgSDiPUt79pTb6IQczu8JkPR4utbzK0zDSoQhYgB4J9Iix0UYea0qnxpM9CetlmlEHTIyVW39trkL1+5eAyBgB/5+XmOZCduzydmQUgwSBIwtog5wMfQ8omzxQEDiEM5OGOQ6YAMg0N9dY+BSS2UNY8Bgj53GLgcSiUGpraZHakEA/dUXT1IzSKb4RDWEcrIZYZ0Y8+/EPX1dXjt1Rfx/LNPI5QWArweNDbUIxxuwtFHj8YxxxxnLDr16NkTxcWlWLVyOb74/HN8//0k3HjjzTj5lNNw5lnnYNq0yZjz6ywsXbQQvmAQzU0RZOWoh44tnDfPqNNsNtkt0qrZqu4WSg+F8O8778XNFddj0eJF+O/D98OfloZocwwNDXU457wL8MVnn3BZf9zo4/H5Zx+hbN1ajBt3H9LT0hGNNiMWU3DYYUPx0/Rp6lckmMwaNmw4vvj8E+zYvh2PPnw//ME0TJr0AwbvfwD2268/fvt1Np58/FGkh0JQFCASaUS/fv1R39DANFj1qdqvs2dh1apVWL9+Pa6/4SYE/AF0Ku2Mf9x2O+6665+YOvlb/DLzJ/j9fkQiYdTX16Nv3344+9yx8Hq86NixE0YffyLKytbii88+xdQp38Pn86G5uRk1NTXo3bsPrrvueo77AoEgDjtkCL6fNAHbtm3DMaOOQafOnZnqKPZBVidyH1sOcXmDmH6J8jfhyM2JvyFppIxeGymMJHfclxQG1mM3cR97lyL+dsV9Eivcc58uglpi2vG3M29oN0TGfe7KoXpXDZavWGEcXilDobKoikUxPi6rjmc8AHr17qOm58ZMVgxE88jNy8M5545Ffn6hUA6wlAOxiUCMvDLLOn456M5dH+TE31y3C0DfiaU/pKAAsnOyYbXKps0BxpN2i/2WcR+PoUvXbiDUg1WrV2LtmtXqlzgk3Fe2vgy//DID2dnZ2hgPoJRi5YqV+HX2bOiLIUTLA/WVUooOObmIRRXMnzdXk6jVAePBGMVRR40UMLWE+8SxgJB3NlIYSa3I36wHr8OWv1PCfTb8nSLu42xrJQyObU7Cfa3C38lgMFwc3rAKiMvfSU3G7TY6GBnAHplvvD+tDgE9gPb+tU7f6jvXubm5uOXWW9G5c2fMmj0TTY1NiEUVdMjJQafO3XD11VejRw99O7O6pdxLAcUjKTW20E2+MK0l/FqmPjxlf3UMBATmOUoMBlgx6FMFovWGHkr0A9xhauS/au6lGvEa/bQVgwmNqTQmk0hKQn9HRa9Cqix/MIjMzExty6kul/0kmShfVta8Lq4a22JgG4VVh6ndEGBiIUwzYBKYdZ+AZz2ZnbIwofHphG8h1MQw8NL1G5acjYwVMNiaz2OQxNPzSZUjwWBEakMMkiKRlQNhf20wZGZloU/vfup3sAUMhYWF6N27D3Jyczi5Ho8XpR07oXfvPgimpxsYvD4fLrr4MuTkdsDEb79BQ109CCEoLSnFGWecjeNPHGMepESB9LR0PPHE0/jkk48x65cZiDZHENTChwwdhrfe+QgvPD8emzdvAqUUxT2LcdVVf8Hcub+jvr4e+YWF9uUgZJTY5rKzc3DnXffhtVdfwsoVSxFTVJ48b+yFGDz4ACxavED9vrYms3PnLnjzrQ/x5JOPYsXyZYgpMeRkdcD5F16IYDANWzZvQseOpeopzJobOuxwPPLok/j8809RVrZW+4wORX5+Ph546L94/rmnMH/eXMSao/D4fDjzjD+jd5++ePHFZ5GVla09paZIT0/HKaeejlgshnPHXqB+c11zAwbtj3vueQCvvfoStm7bCqooCGWUYv9B++OiSy/TyhXw+by45NLL0atnL3z00QfYvn0LYoqCvEAeTjnlVIw9/2Lts0BszQH2P/AgDBp8IMrLd2Lo4UcgOzuHyXO+XloGMC7KQeb4Tphtm4lwX/z20Drcx+uCBEO75D5bXU7c13oYDJckBt0nFo3i+eeexpuvvQrKHLqjjik8MJaFqLod+sKLLsHlf7pCjoES1NfV45577sL99/8HgDlGUR82QH29DtDeGaf4v9v/hRPHnIJTTzsdp552uqE/HiarkyWSc5++Db6yogLvvfs2QqGQ1qb0xx3WtpmdnYXTzjhLXUDlykHBjJ9+xOGHHawdqqv6E8lbjARAKCMDU6fN5PyMX3bsGq8f1cL8fj8yMzO1rdnEkgfWHInDG9o4UdrXx+GNvn364oyzz8J3E7/FX/9yFY4cMRKDBx+A3JwOoISguqoKixctwvTpU6FQipNOPhXdu3cHoG6nv/ue/0iMtd4IzYgPF/1bxH12/E0gloM135PjPvf8bS/Xlr8t3Pe/OXa1tLm9dOxqiHKBgVD7ZVDXbueO7fB6PQiF0nlLk5QcbY5g6/btaGpoRCgjA8UlxfB7fcmKs3VinltMNjyS6pkszi5LamrrkJ2Vg7T0dEloSxxv96qVK1C2vgyHH34EFEXBXXfejk0bN+KTz79ukZa/XX8d1qxZhbvuvR9DhiSyPYl3v/8+B/fefSf69u2Hx554xjZeS0ojNSXZctdqdjCCWxurW/k7dmxDVlY20tOtJ+2mSkcyrjkSQU1dLXw+H7IysuDxehzjR6NRxGIxBIJBnrsVirqGOsSao8jOyeEXuwBs2bIF3036Vo+t/fJsYN6pkocOG/b/7J13gF1F/fafOXd7z256L4SSTgggKXQphi69iHQEfyACgkgR6aDIi6CAiCCCgkgHE0JNSKGFGgjplSSbLdle75n3j9OmnnLL7t2wo2TvOTPzne9nynNmTsW4cRNs+yYaGhsRj3eiuKgYWcIn2VQLzOZm6w26JSWlzPN7ujwWQ0dnh/1ISRaXsr2tHY3NTSguLEJ2jv6NuZQCphlHLGZA1WqUUjQ2NaKzvQPFJSVKv9hym5tb0NbWipKSUsRiPo+1hAzdOfZTVbZ6uZMZmhY2dIW/6S5jW+VWlCSoaWyYP/9dfLBooTsfpMwEXfy+i6MR+02faV19VITXX30FXy9f5q7lqJuPAoS4X5bx9IbiiCNmY8LESUlx6IKuHWpra3Ddr69GS3OLm869KxGcg66NkpIS/O7WO1BW1se109zcjH8++TiaGpvcSS1l/pVn2UBubh4uufSypBmcsHLlCmxYvw57TdsHeXl5OPus0zBs2DDcefe9ARqntl9XtwO33Xoz5r/3DhYtWSodT4JCW1sr5s75Hz7+6EOsWbMKDQ0NqKuvByhFaUkpSkpLMWrUKEyavCd+eNjh9vfYMy3Itd4jdC7Aya6Yu2bKvC8Zwz2WAUBHRztqa2tQXt431Ph3QkoW45XbtyErZqAgP9/WUFbqmTMD1LsKDQL3qrG0SBXvu2JtMYkZa9ZO6fYxCLVuST477aVsMtsnxVfKmYZLPUNdQwOKi0uRn58HZRfRnJ3UJQszYYvH4/hu82a0d7Rj9JhdhBN0zhkclkFva+PGDWhpacGQIUNRWFgQgkG9v7mpCZu/24y8vDwMHTY80qRTONnky6A6TIcqKQRD0G5vn+ZgkwIGZyoXSW5CtjW/LxxDZeU25WI8sD2jxkVg8IvVtkOCfi5Zsgi/uOwSTwW48c/rhlPuZb+4EqedflbCDPLu5BgixaWoHeTdqdE+/7ho2hcqNuRQTIohQ7SvZzJE177Kyi32MbuAj4vAQAB0xjthdsa5izOSHceM/TsrFkNMnOTZZXR2doJSU/wKGiRz3uddEItluQu+VGufLo6aJrZvrwS1Pq8C7sVXTDonEFjPffft1xcG974Z6r78jiubrXP31lRHdIk7SU619pmmiXXr1iInOxtDmE9kRtGNeDyOLVu+Q31dvfvMelTto5SiqakJdfV16GhvR3t7OwDr5Wo5ObkoKSlBYWGR0C3TrX1p0u+QYy7I1vdT+8In9/ZFmDP18LlrItrX3tGOHZrFuN+cKbnFuG15+/ZtiBkGCgrzJQUl9m03ykIcr0yAGszLzJweTeHd106t77Z5nxgjVkb7bC9A7M+MMfnZcrQOMBGqmgrDYPtKDQqDGlZKFYPtn8hQ39hkXRnPy/fvhmEGVMR+LNqhijejh8ooHER3dgbl3TmBDOHBgj7KpHUsEoOijDQw+F4Zl8xlJoOv3wHmNm7aiDffmKM2oWCgAPbdZz/rDbchGdI95pJuhxBWM5IhMHz/tG9nYEhWN4Lu9tmZ9DuCy9KOrmBIqLt1pfb16vdOoxs7A0Pv3DWMN4lrX6gr4wqG5L4zLoJTRYH2TwK4i1ACMG9at4xwnwhzXjLkprdedOZm8Wjg7WLeWG6t0e391H42SsUgvMRN9fxGWAbC+K1jgIaBerZcTzlX7K6hWxOw+xMSAobBV9Ep1E7wo1ttQc8gZUrooOLDwA1SDYOQJ4hBGR/I4PVXPYOVTrpOkAoGCq6PK9s6UQaFsw6DOo2ujK5mYJzyYWDNRB1zw4YOwznnXqBmCHN8UIoX4XzV6YYzJqTsiMbg2w463QjiCsmQKu2LrBtcsjDapzuAp0b7fJxDUtqXgfqdcu0TDCWrG/qg0Y0erN/sbmki34367Rj01T5xN1KgG6lg6Anal6h+C2X0zl05T/UxadY++RWSmkxRdIOx76TbWbVPshmgfVIIYIj2MIquWMLv8wAIiP1mSetLDc7LOZx1NJNRqh15y7kC7ueEY9bJ43d+w7kxyyuNKBjgMbhMCgbJn2gMRHScSeLHEGZ6oPLH2aZCYb6W/N6WwGZUGgk6zxSOgQjbrH2q2Ov65/4OUEuNO049RWJQIgUxaAQjFQzimAs0IG+q3LEHCbNF1OnCHmwpU3AAg9q9KAzESxSGQbGtdyGNDLqK1TCIITKD4IiofWFGbyBDT9A+FQNlNtKoffptH4YwupEO/U5I+7y9Kdc+1lCqtY/bSoV+h9MNHwPaTZU7UfQ7I7SPC5mq3yp7Oif0+p0R2qdLpNNvLkuGMPRqH9hu629A3nR29s5dAwJTppglSDciLsap5ktCVmcywcdRAlD701mWD97Clx1ChMmkumnemTRTw7PgdV65e3jLZcAgplSek9kkxE1N7M7EDgoKWN8BJWw1yQzO29kTZ5AScjHytz7FdtALElWk4T0Sy5IZVH1a9J37zKeCQeVZqhi8Lb2lZBnUB44ABm6Qq31OFYO7HcggWwhi0LWgXJC+v2r9Ve3TCq/M4LQLP+Z6IoOoG8EMepawusHnEI+F0slG1y8q9U81g+BREEMGap8UVAwZoH0Zp98ZqX3RGcLrhrMVniFZ3XD2fx/1W2YJZkhY+xLSb95eevQ7Ud2Irt9Oop6m35mgfWH0u3fuGoZBtpCZ2qdKH6x9ERfj3q0ahCvJBAFgCIOEgOpHtyt29g3cjkMEEJ/OpgQAMWGYAFGVIQT2sxiU8oiEGJ7G2r5Z4muCMBVGGO+CGKxv9yIJBl1n0VGK7eB1OcJuMhzBgTgmrNpjDEn5Ke+7Mo1oNzQDUsbA1qyegaaGwTHK5hAYwgUVg8oG5RiCy9Ed9IIZgutHLIMviz2vzOsG+zG7aAzifsJVeOoZkE4GOxsROw2bI8kx5zCo9Vtm8B9ziqNmFzA428HaF4ZBUVYAg5Omaxg8C+nT7++b9kVn8K8f1d4u1A17v9PW6dLv9GtfdP3ODO3j3e16/U5U+6Lrt5Nm59G+dDCotS8RBmu7V7/FmK6eu3alfid8mzpv23GJcq7JxVPup7f49SqVsqkIAGq3LCX2WQevDP0dD0zl2GLvDnmq62V8VcgMrCx6znILeB0DqOVHggySq1KE0JGYxGpZlQ96rD2ijw1pPzCbIoIo9oUpQ8eg74X8btXpHH3wO1b5M/iVQuWfJMgzwjFECV3GAIuBy6XQDWW5Ots+uzlJ1IzzRBm4kGoGXV9PAYP2YBTA4K8bihCZwS8kq31hGNS6ofQgIQataUVEVP32iY2k3wloX9jYRPork7dnaJ+iL3WlbiiN7wzalxoG3TIkpdqXkH77hSj6naj2KUJG6bdfGb1z1965q09sT9I+YTPaYlwz+aWU2t+vJJxr8vGCBzBZGwy64TzNLaxWrXed8WU45XCWhTzs4pdzitqbBKCmdXVfHAbcAcJhoF6qUAwg7u0LSgZle6kbWGIA3w5+VviDnRcr5vLoZB8oczeB3kv/kBoGBDDoPUuaQdPB/RmIlM7bIOJPe5to+obMEDkEMKj2dR8Db4Myu9kdhPOBb9VUM4htrWOQx5yGQfAv9Qyyk4nrhqJshX/+DBo7ouNiVHdon/N5Ih/dCDsOu0b7nLzp0W9VoSnRPi6q+7SPZcgI7VP46MuQIdrnhe7WvmgMkbSP8Nsp1b6eqN9SrJCuO/RbKCMZ7esa/e6duyrzeQ4pnOka3XDj0jB3jbYYF1aPDgIBsV9KSOHbPdg3prNdjlKAeNvUvh9Aco5SLp/72UjeOVCwEfxL2ezHxN1g2DiEEMY9NQOxGZwFfhgGocpkBlMskXp/FS1NFO65fH4vRwDX5bhnGzgGyTzlfhP7I+lEl4TboWCgNCSDuptz4ka8dCJ56hgUcXzHk8pMKYPUgazf6WbgylKYVDLQRBiCDihMgWLZSgbVoSz1DK72BTBwh1s/Bq2/VLEvlQzp043oDI7jPU/7Qul3yrVP3i9vp16/VYXuTNrHMqh6FeN2kgySdImOSj/9ta9r9Dus9kkFRtY+zb5u0u/M0b4M1m/nb8Lapw6BDMrt3rnrzqTfmaB9rt0g3WDt+WkfYyD6berUskCZ32ICvl7V7nJpvO+QgTEsWKLw3n8um+bSupeh1VbAnNVwP0Xm7iFSHu5ModvAxJ9B+yYMnoEaVpHU3Ue8ehWqjuo2dEUJgSVVtgphmNx2YOvSHbJCPkUZOgYiJZZ/6z3k20XZ/0RTyTLISXdqBimoy1Ay+PVXKbP/wdfLH5VBZTdQtcMxUF076EMQA/wYIrV1WAYrDZUi9IFl0OkGnzgNuqHYSIhB9sL2pYdpnzIFehZDpmlfFAY7KjkGfXHp1m9uVyj9Tr32+eo3P7kSHJbLSkz7ojFkjvYlqN+yF7YvmaR96hDIwJrqdoadXPucFJnGIAV1GdHnrgloH2G6oSKLiiHSYpw7CLnqRGHfo+4WQtj07jvWrT1OnEEB94l49jQCcdwSewqBtMBVdCbC+Mj9JNYVaW5QE9P9bb1Ejli/BAbKMTCuUrhXwCUG9w3slP/rnhEhng07K9E0nFcudTxl0lD+t/1HrhrNzS/UtcikoZqKpJxx1VhWMjAJietNNAbeP6EMjsFrUSlRNzDIQXhRCTcmZQbKJRIYZNe8tk6UQUycCgbORgQG3pAb6dWKikEoS8sgFBymHUgC7RDAIDQKH9hK9mEI1g2WwdmXDgY/3VAz+I45jkHWPo+BN54+7VOjRNON6PrN+5csQwZqXyL6LbuWvPb1eP2GnDhV2pcIA2/IjRT1W0rjbqdav5196dTvdGifHwNvPKO0j2NITPtSy9B12heo371zVw1DurWvKxiYEEH7Ii3GCQdJ3L0Acf4PQplPf4mDgnE2TgDnm90wDY6CulegrP/cj48RcCciHfNsMZQtxP7pvTyNcAyEfdM6MUCdkhQMqn5hEoCIDI4fzovnBAY4DMytQYStSl2wGSxbqnawfju7+L1649bjBcTbYNKKdcm2tVyynsE1S70N/r6CYAatcYmBT+sxyP01VQxUykTkphFLEeKsriMzuCeQVAwKd9227gYGx2ORwVXXqAyK4La1loH3Rs+gKNiHwU/7VMeO6GOOMS+MuUQYeINWovQz+OmG2pTfmPMKc8oIoX1dxJC4bkTXb63xhBi6Tr/loNG+RPRbWbL9b1don2gfmaDfvJ8ZrX0MgxvX0xicDTaOK5exkYz22Yl6mvZ5hTll9M5d/Rn4tL1z1ygMvJ+pmrsmphvqEKR9kT9tpi2RKipFriXGEtPhiOLKs1uG9452CsjfEKSQKl50j30ugGXg3KPslXOZQYWiZLATEq52+ffMq76D6FNVrr/SiPMT+JCBIZAyE8U+NwQ67CXj3A6h3kR7i78mPetQFIaQIYhBZT6xdlBvpIKBM5EmBifI49FHN9g8IUJ3MYQZc5EZFPZUbZ1U00dkSMasu0nlfUmFtGqfOnMqtI8zEZahq7Qv4/RbbTZjtc9vjEbU7++l9nEMWvNdyhA2dLn2iRs9kaF37qpOzzrUO3cNLmMn1r6Ii3H1ypRd6Lsrf5Uz9oKVwFueuq7YD/WLRVlx/u7wvynfAd1fNipRO8d748OgLhQSA5Gj2XziWRgR0b+Bgxn8jVDhFxF3B9sgqraSs4rVwLaT1rNQz4SIZ8XCz3ZEen05Xu1EYQgqP2K0MlFUBik6UQaftnaC1BLclXG1Z8TXlSCGMCFcf3WC3JuCGJBxDNpYHwZ/IyEZpAGjSZwMQ9DeVLRDktqn35ka7fN+JaB9adJvy3Yi+u0TMkX7EooOqX1aQ6nQDSZ9WrRv59Bvf58iaJ82fI/1O4z2BRrhI6Jqnxt6565+zvmWHzFamajb9DvDtS/iM+PMWQLBmPeENOUX5kwwaQzOOlda1EovR2JKpbItgAIGs9+JJsQtgzdmnQig7K3p1MtKQOBd6abu1XSJwSpUsB3E4Ix/10nY1/ntx+Plr/J5pQplgDt8c9FSDWl6CZuff3ZB0eO0OsGcF1KkYbOqykgVA3dmUfrNOKIsg6h2SmVY0T4MVOmiZ0fLwBbtI/AhGCi/k8mfYgahDJ5Bk9c0vER+DBojwQyCM8rA3NSkKceXQaN96v7qkx9qBiahT/Afcyp/lD6EYuge3VD54xntGdrH+5M+7bPyJKt9Sep3wtqn02/eh0zWb5+ieR/Sqt9uwoT0W/ZH40MYhjRr3/dXv4X+2mP0OwO0z9fD3rlr79y1e7WP1e+Iz4yzG44Zqzj37gxK3JNDVKgAAsqUzlpjE4mV5ixbCR/ZtwAAIABJREFU+VvZAQLrsWy7JSjjFuXTsX/ZF18QrkKoVwaF+6x4OAZi/ee2rpoBGgbn5XLqwHZ3dhAzZTEpWHhFasUeoR2oNiHUPZ71nO8ToiE9g5yfj2JTU2mPmoHyUVIZfPCXfc+AkoGo7CfDAJeBsFE6Bu1xUc2g9ErHQJWpoWaQird8YA/2Un/1NlPCIPjH/tQx+Aa2HdxyojIkOuZkBieRPObUQWs6kCFVupEqhu7UPt3RXq19qhJTwxBW+4QoX+1THXl6lvapQwoYUqUb3abfSAND6vVbvalnCKsbXpKert89RfvUJXY/g87H3rlrotqXSv1Oj/alaO7KJky1boBniP5pM9cBoZZZh3UaxGwYuvGrO8XgluPFG0wc8y5FLodykUudP2JZDEsIBm+NIQyeBBgoiP5raPDpOGI7aLs285tqIvwL0kYS5pdlOyidUDQVU/gx2O3sdwzjRlCQF/JeJQOV0zG7FZb8hrqvDDBJQjJozRH/tvbfbRkOa1uTXa5HTf2oq1suJzKDbJuN6BqGcGMuCoM85kJlY3xID4NvSDtDurRPH5m89kVhCKt9OgsJap/GdFTtCzEFYrInr32KwkMwMPn9dCOIQ6kbGt/Spt8RbGvzZp5+h9UNL/H3Qb8zQfvC5U5M++zfO8Hc1TckOXdV7klk7hpWV7VJvudzV6o4VgcwEEojvnGAMUDsf7dv3waTOvfOUzi3irudgDBOEcaA+1O+HZzNb1UsBaUUBpyPJMB7RJvAfgM6YfIyHjppAJi2e7B9slIYtn34MjAnWwT/ghkoCIjAwKVRMkgVrmGAG0ntdnCzM/UdxKCreplB+PgcxyDuZ4SQYeBemA9nhxHIoC4jxQyOO0EMbN4ABrm/ppCBrUstA2+bQtEPBQans0RlYA99Yn+Vx7TDIIw5FQPAcegZnG3LmL9uhGNg0/BjzoeBKUvqxzoGsUAFA5fGRzf82kHFwKmXTjcUDCq31Qx+utGF2pcAQ9q0jxsPGaDfjn9BDGxeOOk0+h1YT13IYCeT8gYwyLoRbsypOdOtfcTV71RrX1SGVGtfou0QSvvYcWlvh9UNLnS59nkM6dC+jNNvVRkBDCnVPqmf+GgfW9/drX0J6ndY3UiIIYz2CfbDz12tNVmXax8AAory8n6IZWVBskxhv1mdD1lIKLgfAXO3DUIQi8W8gl16xxEbwvWJeoySZ2J6p6a8dAQUJnNLvGuYO4A5ZXgNF4OX3/OAya/yQeUTPL/UDE4ZQQxAPB5HViwLRswAf1Xdbl2283ANLvZTkUGRRjd4HLETcF0GTZDt0wAGfiRo3OlmBtUOE7C/P2+1tTd6u4eBb+tUMEDMEsggtrWXkI1qb2tDVlYWYoYRnYFzqvsYEm4HaSfPYH1yMc0MQqYg3VD6IGWiWgZ1GV3LoC5D4ZQjx0qG76P2+TCgV/uc0N7eiqysLBhGjE+XSgbOqZ1P+7qEQciUPIPjbOZqXzj9RoD2Jcsgal80BnUZaqd6565BO3rnrl2pfSY10dnRIZgnXh4CZYsmuBiXTcViMRTk59llsq6xvxkAdzcFIfxtA/KwVHsgvjddjPX+Wr/9Ox6Fe76JwPmIuD+Dwh/uTExIhvqGJhQUFCIvL98ndRiLQqpwWbQWwmcPm7LrGVKfJwGGLgupZYieVh0qK7ciP78A+fkFIWwns08X0tkaqWXQeyrGpJJJsKU17VdmGN1IlCGVupEsQ2K+fW+1r8uEMB0M+rR6TQsbktG077v2pTIkU+fsHLM7ta+r9DsR38Kn6527Jpqpd+6afNqoQa8HHR3tqK2tcde3XjrikzfRT5sJP7kdVIxkl6bEO9Pgrr4N60wHE9ivA7DfIBeljDJwlgkilE8BQuC8QV16MyDlK4f7wDsJwQBq/3aeISPem+QTYYAqWHv5OtK3A9Fu6PJRwQZR/FIUxMWQgFRhGahcroJBSA4/Br6MbmKQUodh0JXRdQxW0PUCFYP3m3/4Rddf5VpSnwUW/KU+DMp9Xcug3Se0tah7fp7KMQrdSBWDVjdkBlWmlDE4u1KqfckyiFZTpd/htE+ZL5O1LyH91pXR1QxBukH4wlKofVqGDNc+rX6nVPu8X+nRb1U+lW6Ik+zu0r6u0m/Rau/cNfXal2H6LaX2H3O6XF3NYIXu1D6qSOev3xEX40T5k3OEiNH2AtapADvCdFOYABFuAWAeGHAcpxBh2ZfAEfs3ZQomri3D8N6SzjOwFUZhCtoahsFadDMMjkmmRdnK1zJQ+eNtTtkU4N9IrW0HnSjyiVkG69Ybxm0uPVX8UlhlItUD2Y9BbLNgBoIEGIg/jYqBH6f29CyAQe0Dn1rFAC0DAcug9q4LGZgxJw4157fV1iKDIq2ircWvrCgZiMfAHz7kFk6OIRVjjvFD6K9EqG9xK3MY9Lohe81vJcWAzGJQWlUxCOWGYwinfa4/adY+3koU3Yiu32G1L5P02xDysT7K2kdFAwjSPi1DF2pfQvqtKLNX+xRWe7UvZQy+2iftF6yG0D49Azv+v89zV2gY9HPXhLSPYZC0L6Vz11Ron3wndpB+J/42dSlQ1R+ITePsYhvX2lZ3FMNeyFr/Cp8G04qJ4IH27eaWCacE8c31YRjcCtUywGWAikFOronySeC66H0pXfRbWRTTDuJfcYv4nY0PcI2tYx9vNAx6m06y6AziMFG7RpS//RkI11/DM4j7dAxe2q5nkASYDYEMqrSKg3gkBv3nL3zbITRDQMe204RLxf6m2rhMZvArPqUMUpIoDNF1Q+1OarTPTeJzDPLMZo72aaz4x1JL6dOlfdEYeG1ItX5TzUYU/e5q7Yum32E0oVf75O3vkfaF8ky2LoXeuWuP0j4uV8Lal9zctSdoH4Ufg6zfCS/G+SHjLWTdShBai6t6AuvsMRF2wun8FM6pU2rY6WHjO6dUvVHCd0/CCD7hfbW2ifPHYyDW3tAMxIeBqBmojsFtAfeL6VyZ6i3FfsLuIIpE6nbwsy32UuXZIiFp6hnYMyMqBsU+hXXHZHoYaDgG0R83TyoY+HriGVTWfPZqGIiQ1o/Bt2wS4IOurZlUju4o8/NuixsaW4jGwMarZua+DMoPLsrGCGsmGoPSNcX+KAw+ta2P6Qrd4HaE1Q1/2yln0By5u0L7HPvdqt/M767RPnWFZ5Z+KzwL0D5vf3TtU+XoLu0LcwxKVPvSwZAW7WNy9EjtYybeqdcNdl8G6HdQKRk1d1WPl8zSvh46dw3yQV8RbrROvxNbjFPPFKGUf3u+VOvWitVdalMvnfcoteciddwyGTjTaiDTKwCgzE9KYDgOmAyW3bgutgkQQi07JqMlptUFqO1eIINz1zsFiMm2PnX+LzEQkcFJ7rYw/356sbO6JwiE8S0NS9VBjDn7IJxfsKLdDEzdcsacdEJHZjuefI5EzyBkT46BCAyib3ye5BigYVBf5VALT7oY+HriGZhA9QxSSIKBi2OGiMjAOyG0tYaBhGWwv52iPYhRpq2DGIQ8HIPqAKBikMachkEccwkwSNqn0Y1QDL66wRsPpRtsID4MYBl2Eu1LKYOoG6zxNDII2XuM9rn7M0O/+XThtC81+u3Z6S7tC8OQqPallCGs9rEMYbXPh8GJDNJvMAyJaR9vPCHtYxm8ggWGrtNv3lhIBqRY+xLSb9G3MNoXliGztC8h/U6J9gUzhNYNHwbdEchP+xJbjHNshPES9kVfwRHVAwGcv6LjJh9HGGFnknpJKNzzO56qybYJQKl3ZZwtghtcYRm4/X4MkBnE44rkN1e495cw3U/d3so4SeeZ31R0yqkb8ePDLINP+T5ewVXvgOxavkAG/3TJMciZAhmCIqTfLIOuzyXBoMiUZBXIv6nAoBoiRPF92chlBzCQAKNRGJTpIjIoyxMYNGPO36YwqXR+KxikcRXA4KcbEkNY3QjLwO3YSbQvQQapzAAGdZ4u1u+gCF/9ToP2KQwmzhB+zMnpBMuZrt/KdGnQPilParVPTpdC7XPdSZF+iztC6HdU7UtYv0U/WQYpdL1+q9L1zl3lTKnUbwl6Z5m7KtMF6QZzckhbtsyQ8JVxbrnrlE1Vi0oNnAkxE5ODdYvKLza3rYonKHgbXpmU2+llMpnd3PmhsAzuKT4Ng3QGT2Zw04gslN9wihJvNvOpAsEfTVoKcG+RZ9Pxb6LRVzjVbKSYwS+te/ObyCBuRGXgdnkMYf0KLIrbwQ9i/qWGbLIwDLp4PYMq6MSOigWyDERk8BqFZUhISFnnE2Xgsmv6K6Mbfu2QcgZx8kY1B39dFagYxDEn6rePq9q4IIbIY063v1f7fNPSNGofd2xKE4N7LBQZiDpTmvQ7SpBs+GqfFxWo3yELTkq/A7UvPENm6Le838oUQr9VtsPEdZV+hxxzQQw63dip9VvcyFT9Ru/cNZQTqdA+rqj0aV9CYw6JLMYpvDNoTOnUOTklvZ+Mh3bPYRFnAWydMXMXppSAchXi2HaP2tZ+5mQYsxvCeReAGt6WCWUqt3Gc++ZNLlkwAzXUDMTLzZ2ksFuLZZDuKBAq2C3PO8LIydgIRWMrOxBbrvOHHVcMg3ygUfuqLjCYgW/1CAxuDOEZhEwJMXC7CMRmCmTQeKrewXdqkcEd5KEYdAXrGeTNIAZVW6sYvLbxkgk1FuXILPRXVX5fBi57QH+Fuh2s313AQDTSHoVBHHOifrOFJ8PgqxuKg1+KdEMy/H3SPpchDdrHHVQVd5SlgkHUjW7Sb3nTX/sIUdRTZP1ObMwlxRCoG8EM1u8eqN9dpX2s1XTot5iMjUhC+/z1Wy4qc7SP+dPTGNyY7tM+LYPGU/WOqNonFKWvHCa+O+auXlQU7TOgqyu99kVfjGsqjThGuULE5xGIW7aoXaZTD4S/Eu6938y25VyB1jQCtf/1opmzA+IsQgz298jdircXEsEMNBwDGAaNRgceEIjwV8qkaGylYXVB7NpJVax2J9X89ssnMBAxQbIMmmK1O6MwKI0KDKFsUOVWOhi07qSJgbetMxQwMesyBp9ygg4UWgaf/qna1o65FDJoWcKOOfXeYN1gGALrU1NOirUvOkPQToVRXb6dXfuUhfoz9CTt0036gnRDNZfofu2LxqAsXKd9AQwZq31R9Tus9kUI6dHvJLQvSL8zRft6567hQhfrRibpt85yarSPXRvqSpLNJP5pM6rbYCqEyO6445kBIADzMjc2lWqAUS8TZ0G3Sbhd2kd4JF+F8hTeJc7gEzRptA2pbYcgw+qCSGh7PuaSYghbiL4g9jHlYONMfDIMCQfl9ExgCPIkHIOz2VUMTlnatVMSDOqQOjLdMULe4ceg6Z/idqJjLiAQxlpCDK4VtW1uuwsYpJCk9qWFoUdpn8Zc2rTPnyG89rGhO7VPPqj76gYXUq19yYQIDFG1L4AhY7Uvw/RbCgnrd6ZqX+/cFdg55q7BZe3s2hemJNl44otxccHrrDjdh9utBCaI97F5d1VKuUcHKDGFRbIjGLYt+zSD9Wi2FUfdy9DgV8EgzPPobBnWNvvNce7WcPb7dDaOk1ZiICoGGoHBLsO9T515AZ1rEOAW/t5OPnAHDYeFMcNWPSgfL016qNyurDvMhmtC10FpdAatqQQYmFYOYOCHiORDWAYoGFhTkRggMKj8I13GILa1jkFlU5pQKPpXKAb7h9TWUmnW30gMXCI1g35HEINQTyqGMGMOMoMylcAgKIOqGKgYfNu6WxhSrH2SxRRqn7uZ6drHM6RUNxJmQAjtY/N1p/bJfYq3Jgd1r06F9nl2M0f7xI2eoX289UzWPmGDMjkyQL+jaV93z10F/3uEfmfo3FXyTPQv8bmrIhVXajT9ZhN1g/YJxhNfjHNmnYFAucKtpSb1FsCE2tXlvb6eAIAZU9sllHuNPCVgPkdhMgtk4XwGoY5l+yeBews6UwmqgxLbLoRoGKiCgaqr0mEg7rbNQAHiMjAnFpxAvDI8F1VdXBHYZOwbLEG4ffKkx/XS/pcZPqxyMflUJyDcnyyDE3Qf3BXcToiBshnDM/j6YIttaAahDH8GL45n4Dc4BsG/YAYaiiFUPQUwqA6oeuHU+Kvax3yxIC0MXFyqGYT+mkIGZckpYiBc82YCA0EYBk6CfBmgYUiB9rnlCPqdgdqnfPTZ2egS/e5+7eOzJKp9nNuqDdk/xba0r0drH19uT9E+ft/OqH1dw8Bpn7KGFTGJaB+XMVH9Fkz1zl0DGLw4P/328y9V+r2zzF1TshjnfSZCl2KDwZ2loU4aQkUTngHmBRhOKmKXwte7YlZBbGbqlmS3rariwbacDwNxvXH+db3jOjDPQLlcXqdgXNM546djgUHxFcEQBh3vRHXXdE5tnyU+dRw+6BikYhWKSNgDmR+DFHQTLLEcMU4dqWZQnFkLYlA6pAuMyGhKVvrH1RNVp5GCP4OqzPChqxh0RSYxAANt7AQM4lwshG4QlTYE2u4KhjRoHxH+Rgjdq31dod9doH1SFh8bYfWbsn/SpX1dqd+cMd1GgmEnZgitfQJDRmqfs5msfqd37upfdcnqd1dqn872zjN3lZ34nsxdqdeK2gRcSUldGWcXuITZ4y1KCVcZAHs2zVqEymcrKJiXn7lnRgw4V9TZtav1HjSn0UxvzuPc/i29FZ1dnNse24UZ1CHgGSAxMFsiAw3DAJnBPbukaHCdhrAM3MyAX/T7GnGzy/GU2ycLlMigGgBOltQwiE4zTaFhUDuhYeBKFIQgRQyqNukyBtEBRniVDG55JJCB36ViEG2yu6kPg8aUe3dMqhmcyXuQ8MptzZaqKkXO7sfA5k8tQ7fphsKiXjd0iyixjO5j6NW+HswQqBtqBt5EMgxw6ymyfmeE9oVl0GTvJu0TnGCyJ6Hf7O4oDDu79vkUnyxD+DHH5g87d93JtS9BBlWbJMeQgPa55rpy7qpiQCCD8rxGgPZl+ZTuGyiId3Xf/mHY5TkvIaAw7GWy7YBJvAW5AWck2Gtm+5ZwSkANasU5/xFqlQfrCWynK1i/rVJN55QAhXXHOKVee9r+WLuJXSKxbFo/rTehM+dPvBcpRGMwYO2LykCdOoVTiY4jbJ2zu53lO9sOXga+L1hbnfE4Ojs6kJuTC0opqqq3o7OzE4MHD3HtO6mJe4bJNsyVwdvfXrkNHR0dKK/oi7y8vIQZ2traUF1TheysbPTr318cjkx+IjjLF0IVW3I98QxsrUVvB+rZd9PK7cB0RytnNzN4RTNtHZVBKkPFYDD75P6qZ4CGwYvvOgYw+/wZ2FI4BvB5/BnYBk4dg/NJpii6kRoG6adbop7BS5us9iXM4PSnAAbXn7QwsPmJlkEsI6x+p4zBTevPADF9CIZM02/31L+i7cIz+GmfjiFozOkZOjs70dLSgry8PGRlZ2PLd1sQMwz07dsXsSx7Kpik9vEM0DKYpokddXXe5JQCxAAKCgqRm5Prpm1sbEJtTQ0Ki4pQXl7O8UTRPtM0UVtTg+bmJgwZNtya1WkYWJKoutHYWI/a2h2oqOiLgvyCgL60c2hfpjHwJWaW9vXOXb30yTB4RYfTPiWDVEbqtM90yomg3wkvxvn6dxrV+umdYKA8FPu8HhWACayMhIC735u9mg7vN0AZWvCVxCaD2AheqQSUawDXpMRAvWoPYKAJMjDjzGfwyFB8O6i6kBc+WLQQ778/H+ddcBFyc3Nx3x9/j82bNuOJJ58W7Asj341U2//9PXdi8+ZNuPKqazB16jSFs5LbSoZvVyzH7++5AyOGj8Qtt93pn1+wL9cTz+DVk38d+ZWhZyCR2iF5Bn2QWi4CAx8RkkHYUDFIz30qzKpKC2ZgcvkxaFDCMyjyJdPWotvOTkIUEalqBzEfq32J9Vd5d/oZKDy3UzHm5N0CgxuZDt1IDQN7fFLphheRyQzJa19QGcrdCeo3P3mVc4Vl2LGjFs3NzXIZ1J5C2CYIrDmJYRgoL69ATm42lA3gw7Dsqy/x7DP/wjHHHY99990PN/7mWhSXFOO6629Cv379lQyd8U4sXrjQ3WZnL5OnTEFJSammNH/tq62pwZ133IqW1hZ3Z3Z2Nk44/kTMOuBAN/GCBe/hL3+6D4cefiQuu/yXrhnTNNHZ2aks2B0PFCAGQVZWFlpbW/Hoow9j/rvv4IWXX0OOs+BPsW68MXcuHvvbI7j219dj5qwDOPttbW1oa2tDYWEhYrGYl18xXNvb29HW2oqcnBzk5uVJBYbvr+zcNRxDVN3Q6XdQmrTp906rfb1zV2l3SO3zzy/nItIePYNS+xTHB75Yee6a8GJc6RHAXZBWeOClA4F1vZkw+a2O0dDQiJUrV6CmphoDBg7EyFGjUVRYqDcGYt1nLizCAeaApnWIsebM3SUGp4vQ0AzUrz+4cbYxtetusuAhyPhpnwxQ5fn888/wwgvP4aRTTkPfir6or69HbW0N+OmcZae6qgoLFyzAR58sQUtzK6ZOm4aDDjoEgwYNdp1zPpdeV7cDtbU16OjocC2sX78OSxYvQlt7Gw/CuFpaUoojjpiN3DzrwNjW1ora6mpUlJWHouXJZQbHT7/R5zD4hcD6V5XhnJSJEMIz8GWzDIFdThdSwGCZkBkCLYTs4F4yxQFXaYdhiFSGyOAXiDvYQ/cl5YE1XH91Nqurq3DXHbdh0OAhuOKXVykYohyS/HUjgCZhhjCWxeT33/cHfLdpE0474yxM2XNqtzFE0Y1U6bdPLtW04XunfaFdDEwQgkERlQjDv//1NN5+e57SvDwnIMiOxXDtb27AxImT3b0tzc146aUXFNYpsrNzcPjhP0JRcRE2bNiAt956A1P3moZ9990PtbU1MGHCNJ37+mSGttY23HbrTdYdi04K+7G6++77M0r2KLG8DTumbe0zYjH0698fbW1tcGZSsVgWcvJymRwEHa2tqK6pRlNjI2frf6+/huf+8wxMs5OdBdq+U+dmRAwePBRXX/Nr5OXmoamxAdU1VULF6sfcM/9+GqtXr7J8t+1Zaax5n5N69z32wAknnAQAqK+vR3XVdrS2tjFeWeGVl17ECy8+hxtvvAW77b4754JYT+++8zae/teTOGr2MTjxpFMCatZPN/wapuv1Wx8S1+90z/u0/nS59u3c+p2Jc9eQGYUgN0yYuWukxbi6Urwr4tYf7zZs6YBi2smIJ2pWXqtVmpqa8Oqrr+Ivf/6TxUMBUIqcvDyceNLJOO3U01FUXOyWStwymNUstZ/Otl8K5zyyTe2WtxrfMu59rcy2JjCYgHvrvVuA/Rw60TBYxRC3YEJhXy13LMO+aM7Ujth21CuDqVqAY/DCW/PewAN/+iPXkajte0mfPrjiiqswecqecK9QUqeeHOvsU/8EmzZuxG233YzPP1uK/IICGCBYsuh9PPboQ7jv/ocwbtx4GIbhEVB54bJ2zRo89tdH0NTSiLzcfHj9hNoHdmDYsGE46OBD3cU4qNUSVBhEyn7Hdiymbt3Uqj7PtIOTL3CQQzWmnaHLm/PKIFKmaAxePBVNZRqDVIaCQetYogxsL/djYDIFHRs0DB0dHWhqbAKJERQXFcMwDCGTV0/JMEDczTJAZmhtacWSJYswZswu2jKUfUlwq7mpEW3t7cjLzUN+QYHOK84+dAwhx5zWvi+DBfDZZ0uxZvUqHHrYEUImuR3SyUCQOINyEiWMuVAMbsLEtS8sAx/Rq33OMZTvTyEYBGvl5eUYMWKUD4PTt4Fvl3+DLTXVaG1p5Ri2bN2K+/54D7Kys5GXnWMdae1CCwsKMWPmLBQVF9kzGj4QhkWl3/l5+fjllde6oARwn3EcMmxYZO178YXn0dpi3QkwbPgw9/jgWFmzejXWrl4Fw4hh5v77gxLeHydtc3MzqqoqQeMmKAE6OzrRUFePWE4WSoqL4bzIqaCwEGbctBHFDuOv319++Tk+/GCJFUeB9vYOtLa1IDcvH7k5We68t76uDiccf5KnbU6lCv21pqYaa1attO8G8K+n+vodWLt6FWqqq+GrG92gfVr7AgNXVKoZ3ITp1z4tQ8q1r3fu2qUMUhkaBmUmPwYq/Qwzd420GCdiZ+GMe2kcV6RJuOF9Ioy7XdskaGlrxeOPP4aXX3oRBAT9+vZDRd++aGxswqaN6/HUP5/EunXrcO21v0ZxcQmHJDiAOCjfPk4EgfXiFfvg42mT+HZDyl1QExlAvVexufFuz2OO0E4ZxHDrxbMnlsgzqDuPzSC0Q2NzE7Zu3Yrdx43DwAGDYD2FbqXKL8jnb3Ny7Lts/DfaKaV44IH78NWXX+DII4/Cj2Yfg+zsbLz55ht44b/P4N5778Ytt9yBIUOGwOm8ynOZhMI0KKZOnYazzzkPrvy5vZsiLzfPeq7KyULsZ0uEilGe4NKOYklBGXETM2mHaKgylNHaN1JGse/Fu0m0DME2RBPWBuHtc3kiMNgR2ppUMdgRAbXP2PBSBjIE1FNUhi+++Ay333ozyvqU4847f2/dzpkGBi6kmMGJE3WDUoqHH/oz5sydgxOO/zEu+tmlbvnqMadhSGDMEdlIAIPfkVsREYJBaSNFDFo/Fe1gRUVh8LEvxqeDQRedEgYvPlj7EtTvVGgfYf7zKT9I+04+5TScfMppPkasYJom7r7rdrz26stwH4Nz7VtH8unTZ+GYY49Hdna2c7RFLBZDWVkfu1TnfwKUZw7xeByrVq3kyh4xcqQKDd99t9kux6IZMXwE8vLzFfXgwc+d+zpqa2p4Q9yLkyyL2dm52G2PPSx2htFx+cSTTsbxJ/zYPTHwyccf4vLLL8Wekybhd7feZd8+T0GIdZt6U1MTCLwLAU5Zfj3okksvxznnXmBvUcx7Yw6e+PvfcOJJJ+PIHx1l5aVAfkEBb8R9VwZvmbtEFaB9PK2PbqgYepr2RdJvH/tifLoZuKjuYdCGdGqfn30mPli/g22IJqyNFDHYEZkyd414mzrbWXjZcP9QwtwyTuC9CY16IiWCGMCXn32OV19nSbYUAAAgAElEQVR5GW1tbZg2bR+cc+656NOnD1paWvDqq6/g5ZdexKIF72POlDk46aSTQeDcKOT9cizzS2vn5gOVD1YMfx3fPjIpGaxK9K79C1VjUk0LOa9/kyPlxTkjFEI6qfbcdqCgMHHSSafigAMO4vMQ4l15FtxVhW++/hqLFi7AfvvNwKX/9wv3pSljdx2LjvY2vPbay/j806UYMmSoV474nJHDQIGKvv2w1157KxhkOq+d/BwNMQyco6RK3PgZsNfkklV1OcGlswdcnWIkyiD0U8FcEANh9/oWH51Bb44ZJwIDUTBEKkdRFbJ6ygwBS0ouXUd7O3bsqIURiyFuxruJQU7j1ir3vVc1g8TqMgCNjQ2o21GD5qamAAbeeuCw5BjsHULHk7tWCO3jvh8pjgftQGDS+HT8FDL4m/Yb0zrd0tuWk6hsMAwcS6IMqhjFmMtE/U6B9lHV7kAGXjeam5rw7bfLUVdXh9bWFrS2tqK5pQWtLc1obm5GS3MTmppb0NzchI6ODqxZvQrZ2dnW88aKfjpo0EDss8++yMnJhorBaSHq/pJ7RUtLC264/lpmH39UNkDd2RanfhS44+4/YPToMaqKcLd+fd0N6GhvR+2OHVj6yUdYtWol6urqUFBQiIEDBmCffX+AocOGI2YYGDRoMNavXQMidCRnXpOVFXP3r1u3DgRAQ2MjmpoaUVFRIWifN1Nqs59TNwwD2dk50HWiwYMHuyVSal0Zp7Ce53buSKraXolly77CyhXLAQKsWb0aBJQr17HtzBvffetNLF++3EpDoHy0c+nST9DZ2cHY8O9L/trnhF7tE40nxcDFfH+0LzGGnjp39RtzSnNC0JSjqIpoi3Gukr1O4YiKtUmZmSKFc5sVsS8ze8OCwiTE+gyZSfH3J/6OlpZWFOTn4fobbkRZWZnr8Rln/AQbN2zA0k+XYs6c1zF79lEoKCgEYb9dRhypo6CmdUbUyu68zIMChgGYFMS+Qk/dF615NWM1to7B3rTjPQYAJtxbqghMUO/d8lzti93AYRCbjFKbAcwElevPbDsQAAbyCwpQWFTkMxS91M6ByWB9osBLL70IEIL99z/AXYgDQH5+Ac4466d48cX/YvGSRfjRUccwtk2IV9jh0nqO+zMAzo3zVKg5nkEYspTadzB49t1HEZRGCG/JHWuiWPi3g/MMmXy22WtvtdADgQzQMfAHk0QYpHpKKQN/xpCpMaVt5W4FQzzeiaamJuTk5CI3NwetrW1Ys3o18vLyMXzkCGTHsgBCEY+bqNxeiU0bN2H06FHo06cchmFIDAQUpmli+7bt2PTdJuTl5mDEqNEoyC+w0tslNzc2obGxGRQENG6ioaEeBQWFKCgsQFYsy3XaNE20tbVh3bo16OjoxOjRY1BQUADDYMcnX4dyf2XZGU8pRUtLC9avX4fm5iaMGjUaZWV9XK3jF6dwrxR1dHbgu82bUbW9CqNGj0FZWSliRsxt67hporGhCR0dcQBAS1sr6uvrYRgGioqKGHumXa/bsGHdOowaPQYVFX3tBUE4BteW0A5trS3oaO9AfkE+YrEsNDU1Yt3atYibJkaPHoXComIYxOB0g/8Wp1U/ra1t6OhoR2FhIYxYjDtYd3S0o6WlBdlZ2dYVLKaeKDXR0NSEtatXo6ysHEOHDUXMMNxb1sIwgJpobGzCunWW32PH7mp9UYIQSTeoSdFpxrF540bU1lZj5KgxKCkpsV/mZLE0NDSAGAYK8vPdlzzZBYFSoKW1GfGOTuQXFiBmxPTa59cOzlaC2qfX7xRoXw/Rb1bXlNoXQr9ramtwzz13YO2a1SDiDJN43511j6JmHGXlFcjJyeEYiG1z7tz/YdXK1cwileLqa6/DZZdejB07dtgvinOO1VYduWXYDLl5uTjowEPQbr//hRgATIrG5ia8NW8uOuNxzJixPwYOHCjUCEVhYRGgaQcnDB8+HKtWr8If770Ha1etAjUMGAQATFBK8OqrL+GXV16L40/4sW3fmk1RSt1n261z/4Zru62tDYsWLQClFOvWrMZXX32BYcOGM23CL+cPO+xAgBIMHzESTz39LLKzs/nm8VrWZaDUxJdffgEAeO3lF3DxJT9HQX4Bvl62DNdcc7X1PRxCQan9ZRxBQ1iZfubZZ0AIcwGJEBjUmi2Zbl+y5rGAAXcFEjTmnLpRMsj7wx6DWAbxOKpKm5RuKL2NOO8Lo33pZJB0IwGGDNY+XwaE0z6xyIydu0Zg4BOHHHMMQ7TFONsDdGNcyOC++EJcYVHnRmqK7VXbsfzrrwAAp595NsrKymCaFC0tTTDNOEpLS/H7P/xRAuOugZue4BFiLYS9NbV9xLJPQTq3ylvHJMpZVVahveB2GJwu4zFYGZ2FLXvmWfxrVSFxjXlPixDunQPewZnxiNvltYNTj2wy0zRRVVXF7W9uagLbDFb9GVxfW7tqBfpW9MWIUaPFWkBZWRnGj5+IbVu3cjEGDFBnIe0wUMt+ddV2fLp0qWKoEew+fjwa6+utl7gQoLJyGzo7OzmJ4z1gBrxdjlNPLIM0dhgLzk7ZPjOIVe0gvGnCaQK/F33pyxD2Kp5ZS5bBTU15BhKKIUwZUNaTkkEy7Sce3nhwUixauBBXX3U5Zh91DEaMGI1/Pf0P7KitAQUwdpddcfkVVyE7NweP/fVhfPDBYqv/GASTJk/FZZdfgXHjJnAlrFjxLf7y5wfw0YdL0NkRBwhFYWExZh99DM455zz06WOdhDrzjJOxdctmAMCmpkacdYb1Ip1fXXM9Tvjxibat5XjqyX/gvffeRmtrKwAgNzcXEyZMxs9+/n8Yt4f1fgXufSKqdoDcDpSaeOGF5/H43x5B5fZKEFgvOTrkh4fhyCOPcjOztrdvr8Szz/wLr7z0Aurr6txuO3LkaFx48aWYMXMWcnJy8P5783HtNVe46vDKS8/j5ZeeBwAs+fAzAEBtbQ1ef/1VPPOvp1BZuc09egwYMBA//en5OHL2UcjLy+PHnNSu+r50803X45133sYVV16N7dsq8dxzz6DVfp6yIL8Ap5x6Bk4/8ycoLi725I4wikatK/t33H4L3n5rHu6970FMnz6DK+OVl17C7++9E1On7IX7//QQiGGgs7MDHyxZjMcfexRfLfvCfd1HXm4eTjvjLPz4xFPQt2/fQIbKym147NFHMGfu/6znYClBLDuGyZOm4Myf/BQ/+MF09x0DdXV1ePaZp/D8c8+idscO1+K4cRNw/gUXYe99foCO9nacfOKx6Ohoxw03/g4HHnQI4wHB1q3f4ReXXYqNGzfgn08/616FVGpfhHYI1D7NMSiq9qlGfTr0W2U/vH6H0z7AO9UcWr8F7evfrz9+es75aG5qQkFBIQoLC5BfUIim5kaAEowePQZFRUUoyM9HVnY2zjr9FLS3tyIvN5dnsCYjyIploaO9FR2d1hHUIEB2VhYmTpqEuro6VG7birVrVrvlU+o9Re4wZGdl42eX/p9E/tFHH2D+e+/AbGnFtL32wnEnnCS8P4MPqmM1AFATmPv6a1i3ZhXOv/BizJg5C3379kNjUyO+Xf4NHnn4L3jwT3/E7KOORk5OjjsXePvteVi12rp9/rxzL8SMWfsDAOJxE2/Om4vl33yNUaNGo7GhEU89+Q+MGD4S4ydMZLTV040Z0/dHLEbQp7yvfBJEwUApxauvvIyvl32J/v0HoKaqGg//+QGce96FGLvbbrjmml+7thcvXIAFC95zJojg+pJd1KX/dzl23WWs+3Jh50XAbE9899138OrLz8N70ZJgRDGYVCS6dtAdgxLTDfVcIFA3kmBwLu71RAY3XcZpnx+DOmWic1d9iWJ7eAzdMnf10W8dA2X/DRpzDEPib1Pn/KHcL8JuOYoj5KHMmcFlXy8DJdaBYMKECfjqq68w7405qKqugtlpok95OWbuvz/23XsfxLKz3EK4R424t6kz1cEUz/0W/NHcJO04yzG4y2thIU9F+0GBZWAbLUrgeo1XeEtzM35743WOaQAE323eKGVnb7ijFFi3cR36VvS1JsBubuuQGIvFUFpWhlUrVnA2TApYZ0N4cQSApUuXYuWqq61dFPYt7Vb3+9MDD+GF5/+Db5Z/AwKgvr4BDQ11/lVou0Ok/udXefzZNmUKbnAqEmiyJtJkancTZ/CVB05h1CnDCq9YaPT+6mQi3jYjYEoxhDU2AeDjjz/CO2+/iYMP+SH6lJVj8ZJFWLnqW/zhD3ehva0NlFKcdtqZIAbBu++8jc8//QR//9tfcc8f/p9rq6qqEnfcfiu++XoZJk+egnETxqO5qRkL31+A//7n3yAALrjwYhQVFePUU0/Hsq+/wrvvvIW8vHwcceRslJSUYI9x4wAANTU1uPH6a7Fu3XqMHzcee07dC3n5+fjk44/w2Wef4O47b8ctt9yBESNHJtQO777zDh556EE0NjZi3333w9ixu6JyeyXmz38Hy5cvR9z+tI9jOx6P4847bsOihfMxYsRIHHr4EehX3g/LV3yDJYvfxz13347c3JsxfcZMjBw9CueefxHmv/cuVq1cjt32mICZM2e5B6Z43MSTTzyOp55+Ev0qKnDU0cdg+LAR2LBxIxYseBf33XcPjJiBY487IaDJibY7maY1RX7u2WewefMGzJh5AIYPG4HvtmzGksWL8O9/P4X8wgL85CfnKOqJOStK9T3W5M7SWmfxN27cgHvuvh3btm3FMceegNGjR2N75XbMmfMqnv7nE8jNzcOZZ52NLOfbywqGmpoaPPLwn/Haq6+gvLwChx56GEpKivHlF1/gi88/w52334Jrf30Dps+YCQB47NFH8J/n/o2RI0fi5FPPQG5uHj7/bCkWL1mEO++4FbfedhcmTZ6Co489Hk8+8Ri++OJzzNr/QO7q+KqVK7Fx43pMmjQFo9yTpV2gfZoQdfjrJq/p0j658DC7w2mfs4QK74msfTm5uTjssCOknA8+cD+Wf/MVbr39HpSWWp8O6+joxMZN6zF27G7cHR5smD5jJn56zvnWrdd2l62o6IvrfnMTzHgcr7/+Cu65+w7GnXCTFecEX0N9HeJxE8899yx2230cxk+YAGj0mw2i9jW3tAAgGDxkCPoNGICy0jLk5eejpn818vNzsW1bG/eGd4CgtLQMY8fuBkLA8b///nt4/O+PglLguutvwtfLluHhhx7ALbfciMsvvwp777OvN45tH2+57U7k5uQAhCAW804oqBgopVi8eCEefOA+DBk6DBdddCkeefhBvPTyCzApxYUXXYLjTzjRTV9fV4f3F7xnZxZ0w67uiRMnYtKkPX3H2oaN60FiMf1yKdL8x84S4hgkBR/9Tlo3Epg8RWPoAu2LwpBi7XNTBM3FMm7uqp/3cf4lMncN+Yr5dM5dnXgirlMCGBJejDtmvTOOViUY1IunsK8W8+tEO7Xh3sxdtX07KAXK+5TjvXffxZw5r6O1pdW9HRyE4K233sS1v/4NDjr4IKtc9tthCvueo94VdOLMy+z0tmn72GrdVmhdPHcW89YCXc9A7A+bWb5Qap8TMJi0TlnEbgt7B8sQ/BZ+hlVoTwpnrsk757y4hP1KOqXiLfFwX/TmMLe1tVnDRnVmEEBWVhZM7iwI81vBMHbXXXHBBRe5XrA5S8vKUFxchoqKfvZYNbBlS0xxtpq5vUNZTywDUZzAkm+CkSyQMIc0fYpIeVPMIB7v9X74Tx+TZ4CagSmfZyBMjL9fALBt6xbc9NvbcMihP4RhGDjr7HNw/nlnY92a1SguKcNf//Y4Bg8ZCgLg8MNn45JLLsDChQsRj5uIxQxQSnH9db/CN19/hQMOPBi/+tV1KC0rA6UURxwxGz+7+Dy89MJ/MW3vfTFr1iycdMppGLp4IRa/vwClZaU45dTTMXDgIBD7itCiRe9j3bp1mDJlGq77zQ0YPGQICCE47vgf44Lzf4pNGzfgm2+WKV6ApLolig/bKrfitzddh9a2Npx55tk497wLkZubC9M08cEHi3D1lb+w6oWp4BUrvsWHHy7GwIGDcPWvrsPkKVMQM2Jo6+jAbTffhLfenocPP1yC/abPwLDhI3DOuRfgu+++w8qV32LixEnMy4qArVs244MPFyMnOwsXX3oZDjvsCGRlZaGzsxODBg3CE39/FK+//hqOOfZ47xYvFYh2XFE3buOm9bjyymtwzLEnIBaLIR6P46235uGW316Pvz78IKbvNwO7jN1VkDhGS5wylJMEOyXxTnx+uGQxtm3bih//+GRc/surkJ2VhXjcxIGHHIIrfn4JFi1agJNOPtWbxAsMlFK8NW8O5rz+Cig1cdsdd7tfmGhqasSfH7gfL730PB76y5+w7w+mo7GpHs8/92+UlpbhZ5dchunTZ4IQgmOPOx6/u/kmvP/+u1jywWJMnDwZJ514Cp584jEsXrwQF118qdVv7ZHyzrtvwTRNHHX0sZw+J6d98i166tDTtc/f56gM8on7qAx67du0cT1WrFyJeLzT3d/R0YbZs49Gn/IKd4HumrcN5OcXoG/ffsjJyfHKohSmGUduXp51eztTKKX87faeTe9fs70Dd991GxYuXIADZh2E8ZMm48E//RG/+c21uO//PYCRI0cpGfQTbAMHHHgwFrz3Nu64/XfIzs5BzLDmUZ0dcbS2tuKcc89HXl4eM9wp9pw6DVddbb3VPRbLQnNLC5579l/426OPIN4Zxy+v+hUmTpyMXXfdHVVV2/Gvp/+B66/7FWbufyCuuOIqZDvslMCIxRDLypKmjNIxh1IsXLgAv7/rDtTX1+GSSy/DQQcfgvHjxuPS/7sYL/z3WXz7zde48GeXYq+p09zjgnvnpUL7iG037HyDeD+leZ+qL7Ep/D/PGdRfPYdTphsaBr+8yTF4OTOCIUPmrqmf96VO+4LbWp1W1MLoDJq5a8IMhL9YHIIh4cU4Yf46DoLaC0OTAITCsAXf/TwH86I16n7iiqKhrg4EFNsqK/HCC8+jrE8Z9ttvJkaNGom1a1fjiy++RFVVFW7+7fWIkduw/4EHgrCvElFAs6th5xdlawHW0tCby1K38jwGu6MHMACwb822P8tFmQazjbLlePEWg8/dXgIPkToS4Wx7DVxQWIj7//QQl/7BB/4fnvzH41x1sZ2HEGCXMbugtnYHGhrqpc5ixuOorq5ynxdzPSDOLVZytxw5chSmz5glleaEi352ifv7o48+wM03/ca+0m6ntWfZKiFlbRHuXwpnZu6kIlw61bBXyb7qUKqWDHVOniEodA2Dty9ICNUMQZKpZuBjNAzqLu7m2G233XHkj2a7iUtKSjBt2t7YsH4tZh91NIaPGOnmHTxkMHbZZRd89tln2LRpPUaMGIXVq1Zh5YqV6NevH04++VRUMLci7zl1L/z03Avx+GOPYP26tZg5cxYMgyBmGNZ7IWDdGcJeqTzqqGNw1FFH87VOratREydOxLw35mHt2jXKGuZ7lXygXL1yJdra2rD7brvj2ONOQGFhgZtm1qwDccaZP8FT/3ySETVgjz3G4f2FHwn1RpEfy8Ve++yDN9+ai8rKSrS0NFvv3IjFYDh3qhDDY6PAkKHD8NTT/5Fs5eTkYI89xiMnLxc7amtQW1uD8vIKZX+VWdkYV3Ww/8wDcPwJJ7mL36ysLOy//4E49IdHYN68uVi69BNrMU54G7xdCukcoasb1vPYTv6m5mYABI1NjajbsQN9+pQjKysLEydMxJvvvu9mZwNbVmdnJ5YsWYJ4HLjil1djypQ93djS0jKcdsaZ6FNegXi8Aw2N9Whva0dHPA5qxlG3YwdaW1tQWFiEwsIi3HX3Hzin+5SXY8aMWVi4cAFWrvgWEyZOAgHQ2NiIN9+Yi8GDh2LCxEkK3xLVDbv9fcY0my512tcd+u3tS0z7vKAi0msfn4cA2LZtK+ob6j1PmNnfjro6xDs7sXbNGtTUVLs5TzjxZAAEW7duAbAVfcrKUNG3H5yvuyxe+D5qq6vR3tmB9rY2VFVXY/26Ndh993G4+ZbbQez32HiSTJT9vLW1DbU11fhk6cd45OGHUFtThX32mY5fXPkrFBcXY3vlNrz88gs48/QTccqpZ+KHhx2OgQMHo6S4BEbMUNQNX8N7770P7n/wEbzz1jx88OESfPbppxgwYCBmHX4gDjjgQEycNBktLS32ex0sD2OG4T7b3djYgDvvuA1vzpuDgQMH4dTTzsRRRx0DQgjy8vJw8cU/R//+A/D8f5/Fd5s3or293V6MO8+Rsi0lLPhsVxvq6/DQX/6Ml19+HsVFJbj4Zz93TzwOHDwY9957P/784P1Y+slH+O2N1+HW2+/xdICpAF6jrF66atWqwPnA5k2bQU3ry0CiTXZTz5D8nEnNwJYcUTc0DI7tnYchs+euYsrE9FtlI70MbN7E9DvRuSsbr2HQzl39GPh5X+K3qQuBH0S28LiLKuuvNNgcgSIEzhe9Kyr64sorr8J++00HMWKgMLFg/nw8+MD92LatEv9+5mlM3XsaigqLXBw5qPeq0ngpxYqlClM+DBTwPigGxjMC/m3vgjWqOoMSLbDZuVKU/U4szKsHAmDX3cZhzv9ewbp1azF+/ESmQ1JUVVVh/bq12G/6LM4CoeKrZgDnVoLgYSwGAu6UlNaAX7cXO7+YQj+VSmyfXAbnR4RK6C4GVRlqhmAYFQPf7zQMvqYpdhm7q2S7uKQEADBy5CguuxEzUFpSCgKKeKf1krL1G9aho7MTba1teHPePHz22aeeZxRY8e03AIC1a1bDpBQxYsB7/4NGaSjF6tWrsWbNKlRVVaKxoQltrS1Y/s1yUGqio7PDLoN57k1Cldt65cqVoKCo6NsPAwYMlHLsu+90PPXPfyh92mJf7d66bSsaGxrQ0tqKb5dbbKYZt28Pt30hTqkMH1NUdXUVVq5Ygc2bN6G+oQ6tLW3YsH6t9ViAaSIejysY2IMMSy5Q2xU/fuJEGDH+jGRBQQFGjhwJQgg+/3Sp8Pkn6umz6z8Bd1aSuCkl76ZN2xv//e8zmDvndVRtr8Ruu4/D2LG7Ytz4iRg2bBgMQ1xQ8BO4eDyOtWtXg8LErJkHQAwjR47Gxc5n4mC9lGnWrAOxYMF7ePihB/Hhh4sxatQu2GPcOIwfP9F+JMgqI5aVhekzZmHJB4vx/PPPuQvv+e+9i/b2NkyaNNn6vJ4QUq8bqhBO+7i0PUC/w2tfcFBrn5zi6aeexNtvv+nNNZiuu337dgAUN97wa8Vz2fZxlRg4/scn4ZxzzkNubi4mTZwEgxiorqlGVnYWcnJyMWbMGOy1194YNWokCgoK4LyqlbpDh9c0SinefGMOlnz4AdatWY1Vq1aisKgQp59xFo459gT0H9AfBATnXXARxozZBa+9+jKe+ucTmDdvLnbddTdMm7YPjjv+x9Z7JCSfrcdDvvtuM8y4ic7ODowYOQodnXF89ulSDBs+HOXlZViyeBHmz38HTc1NGD5spG2Lr8u8vAIccMBB6Nu3AgcccDAmTZ7CnSTNys7CSaechv32m4GW1hb07dcPLS0t0Om4as7U2tqKT5d+jAnjJ+KU087AgQcdwun3iBEjcf0NN2Px4oVoaKjHhAkTmVhnTiVoH7H23nP37ZziejMlfjaqXjqpAlEyqNKJwemvvKfsOFaMaTezcvWRQFCQJs2gSqHKnxIAdRk9QPtUXvTOXcOkDTt39SJk23w9JbQYV9084jxxbYIwb4ij3JkV902HFLAvmwMASkpK4AjR3nvvi/2mz4T1fB8FTGvytMe48ajctg01NbXYXrkdRaOLmMU+EWa4PLa0/LTvGSdCvHNLusxAZQbYXMxK2r293bnlHaatv8S7Hd62Ydrp3VvMHQ1nGTixE+qbwn7mi78m7ZwRoi6DdZB10oh9hhKDs37MMcfhheefxeJFi3DwwYciv6DAKoESvPDfZ9HQUI9p06YJtaxgsLn4Ew0qBibWaU/7L8ugzCB4oZ/+UJdB7CMSg6ovhXxuytpBGBMKe+wH7DX9NTyDmNvx17ZEtIm6l0EhUO5wY8cDd1WdIsf+fq7kPICYwUsZccegNy4b6upBYaK+oR4vvfgcCDFAQNwxaN0WamDLlu9cu4StT44BaG9rwwMP3Ie3334Trc3NaG1vB41TxM1OANaJNm7NaKPpTjR71Uqxft0aGBToW16BnNxciA04YOBAuIrCjPNXX3kRf/vrI2hqbkJbexvinZ0wTdO9wkTtu5GcYLhjjTFFrT0LF87HvffciabmFrS1tqKjMw7T7LBvEiLgFr8cg6tA1p1DYl/ic6B//wEwuPekUxjEQHlFX+TkZGPZsi+ZOGLfqUS8+rRfhuncHsr2JevuJ/4OqnHjJ+DKK6/Bww/9BZ988jE+/XQp8vLyUFRUjKl77Y0LL7oEgwcP1uoGpRQ1NbUoKChEeUUF0wDgG9rOZxCCG2/6HR599GG8/toreGPuHMRi2SgsKkRxURFOP+MnOP6EE2EYVp8dP34ChgweirfmzcMVv7wKRYVFePG//0F+fj72nLoXCtxnZjNT+7T2ukX70qjfCi/Cat+BBx2MkaNG2cpGhHbwLLH6xb7ulRKC3XfdHQAwYMBA3HWP9YJb60SSASNGYMSykJOdhVhWtvWaViKUITAQEDQ0NuC1V17EoEFDcOZZZ+OII2aj/4AByM3NdVWipLgERx19LGbM3B8ffrgEb8z9H95/fz6GDR1u3wov6rcVPvnoI/zloQdAqaVH1DTRaZ8o/eTjj/Hp0k8Qj3eitLQUAwcMwsD+A5GTkwPnlKgTsrJiOOigg3HAgQchx34+HgBqaqrx0YcfYlvlVlRVbkcsFkP/AQOwadNGTJo0BTNnHmjfBcN+pUC4/dTe6N+/P/5w7/3Iy8tDWZ8+bvkN9fX48qsvsG3rVlRVbUfcNFFeXo4lixdh/IRJGDJkGKbPmIV+/ftL2nf00cdh2rR9uL5UV1eH6665GvEY/csAACAASURBVKPHjMb5F15sfUWI6a9DBg8FG6jtpO61Vf7HUTkQ4a+o3766Qbx9/roh+MrMXdl41dw1EQbPi1Rqn4qB3SEcI9A7d/Vj4Pory5Dxc1fZLeWYkw0EzvsSWozrbnRwK4B97b/7/LQl5QbseRQ1nS2MHD7ctTRg4ADrqxXUmnQZoMjLz0dJcQkoKOJmHG1traAUiFHANBStxjY6gXRhmhD2PCSBMz1l/8Jd6BJ4F34ZBvAMjog49kEAw759zADsZTl168HZilFYdwa4x2mZwUNjOo2nho7H+PSTpWhtbUNjYwMaGxpQXb0dK75dgZrqKjz2+FPiV5CsnJT9JBnFHuPGYb/pM/H2W29g2LChOO74E2EQA3Pn/g//fvbfGDduIqZMmeq2uifMIoNVe03NTdi0aaO1IDBNtLe3oampCdXVNdi6dQvWrFmFM848G6NHj4F3ygCufRD2mRtJesB8H0CGc+0ECzkn+DaDJahEaBco2sHHLssglMEzaF0MyeAIr+KgwDB1GYOiSVQMhP1L1AzeNJTpcQ4DEQxxLnCnzpBfkA+AYMigwbj455dZVxgZ4aQUiJudKCvtY12R4ufFHAOlFI888hCefeZfKCoqwqGHHYmpU/dCn/JylBSX4t4/3IXPv/iU70uuLe7oALEdCAgGDhoCAKjdsQPxzk5mAmnZ2lFTA3dBbNt85+03cdftt8HIMjB9xixMnz4T/fsPQElJCd5771088fijtvax48iqV/5CM8WyL7/Evb+/C1u2bcXkyXvikEN+iMFDhqK0uBRff7MMD/3lfneU6xjYIDaPo4sgBLU7aln1tLQfFNXVVWhrb8Po0bsIZTj6zDIYoGacY6Ag6Ow0PX21rWRnZ+OQQw/DwYcciq++/BJLlizGovfnY+OmjZjzv1fR1tqKm26+BXl5+VAFQgjKykqxZesWNNQ3IC8/n4EU9dvaLi4uwRW/vApnn30uPv74QyxetBBLl36ErVu34E//748ghOD4E04EIQTDR4zAmDFjsGHDWixevAi77DIWm7duQp/ycuw5dS+vkiXtkwddz9C+ZPXbR/vSyOCGBPR7zz33wp577oVt27Zi44YNGDJsKAYNGCzYEaeAaoasrBjKyysAAH9/7FEs+/ILnHn2OfZt0/y0NzuWBcO5ikwA9+q4zTD7qGMxcfKeGDN6jHRVnvXEMAxUVFTgyCNn48gjZ6Ohvh7EMLw8imPQ1Gl749xzz0csKxsxw0B+Xh4KCgtRWFiIoqJilJaWoqi4GNlZ2e5TgV999SUO/uFh2G3ceM8WBbLsW9YppVi3di3+8fhjmPP6a8jOzUZ+fj5i2VkgJtDZ2YnmlmbEYjEcf8JJOOPMnwifDFQcg2xNHDxkiMtQ31CPp598Ai+++DwaGupQUFCEWCwGA0CnGUdLSysIMXD4EUfg8l9cieHDR0j2Bw0ejEGDB3PNV1VVBUooioqKMHHiFPTr208+jrK+EtainsE+FaqeC7iG/Y9BuuD2JoVu8NrHmtfNXaMwKBZvSWhfOIbEdINn4DP0zl2FetqJ567e+iiYIekXuDkb4oua3N5OvX2E2bRelmZt7br77igrK8eOHbVYtXIlaDwOYsQAUJgGUF+7w/q0DghysnPs20+tx7ohlsv8kR11IinjGhVieAbroosn0FIa1wrhttk7z0zipWDP8ToM3E0EKgY4/UXd87Kzs1FSUoK5c17DvDf+h9z8fOTn5SEvLx+lZaUYNGiSdRsoVd3Wz55hs/694MKfoampCU8+8Xe8/tqryMnJxZatmzF06FCcffa5GDxkKJMb3gkPpq2d3wvmv4OPP1qC1tZWxE3TLSc3NxelZaUoL69AQ3093EoDYLAv51NQc01KRAafwA5AebQJZbBCwPzQHEjUdgQG3UEl0HG9n1yEe4RxytAsibqCIQoTm0nBoPTb/c3ES+UzCzwAAwcNQiwWg0mtz3NNmjSFY4jHrRcIZWVlMyJvj3lKmVuygabmJixb9gUMYuDoo4/Dzy+7wp3kdXR0wPn0ijXm/Jam6oraZZexoAZBTW01qrZvx8BBgzh/li79hLFvSdQnH38Mk8ax91774vobfouiomLX3ttvv8mV5Q1V630P7W1tXPmrV69CdVU1+vXtj9tuvwflFRVu7jVrV9vfwBUai7Ou0jFe+5yXYq745hvETRNZzCKhtbkFW7dsASgwec89pTKIc6IzFkN2jnXHRNX27bwXponvNm+GaZruyzMJgPb2dgCWbk6cNBkTJ03G6WechSWLF+F3N9+ADz5YjMbGRm8xLjAYhoFhw4Zj69YtWPzBQhxzzPFcfHVVFZYt+xJx08R++81AdnY2OuOdiBkGyisqcNjhR+LQHx6OzZs34Z577sRHSxbh888/xZE/mo38vAIUFBTiBz+YjgUL3sX8d99BdVUVGhsasdfUfTFk6DAf7fMf012mfeykJ5RuhBQLou5tvtqXRv1W54kWXnrxeTz5+GP42c8vw+ln/CRp/V6/di0+/XwpDt/+I4lht912w3kXXIwJ461bqgcOGoLi4iLEYllustzcXIzdZWxkDudxITGwDMOHD8fw4WeguroKr7z8Ilas2OrGimrCtnNhYTHy7dvVRfTGxkbcdedt+OqLz3HQwQdjytRpGDFiJIqKi2FSEw319VizejU+/vhDPPvM09iwYT3u+f19Pp9lk+u1paUVt93yWyx6fz4mTJyM/8/ed8fpVZT7f+e87/aWZDd9QwpJSG8kQBIILQUCChekKN0r/gAVQVEEKSqggCjl6gVFUBH1gpQ0EgiBQEIgpACpkAak990kW7LtPfP747Spp7xlS9j5QPacmWee5/lO+c7MeefMGTduHPoPGIT8/HwYMQO1NbXYuvVLrFy5HK/NnomdO3bgzrvuRXl5L6VeDoPNS96kXWjhmrYVfglHbf1RxqBw/C07oMrjP3eVA1FcSV65EqlwXzgMdvsMwuDHfToMEn/7hObkb+6mfe4aLjAYmLgoGFI+wA2Ad0I5HH8InG2e3JMB6v0KTZm04uISfPOb38KTT/4BK1Yuxz+ffx5XXHk1iEEASvDG669j1epVoJSgT5/e6NyliwuV22ApbR+DUOp8s2cPPbc50ToRXcLAFipj1RZx4POfCaNcp2QfABCm0vjBSNMtWVUKmfETTkVf+5uzBiGIxbOQFY8jnhVHbm4ucnJy7c+BcE9HLG2KraaDBw3Gvb+4D6s++Rjr161DQ2MDBg2+GiNHWp/UIYon5pT5hQ4gGDRoML5/862or7cWNznZOcjOzUFuTg5y7QcFObm5yM/LQ2mpd5AWBUAN3YZWr6yVQVXXwj4Wtr/o+5zmUA8da+qrzQeDnCo8MNNicFKUGEiIclIFzZH+fgNFeAwakzrdUTBQpk2ryomhhIEDB6OstDP27tmN1+bMQv/jByDfPhiNUopnn3ka77+/GNPOOQ+XXfpNEAPuoWJHj9Zi75496Gk/iHJ2elBQlHXp4i7EKaVY+sH7+OLzLW6Pj9BkXAwDBg4EpdbnrBa8NR+Xf/NKd7G6Zs1q/OfF/2OKy0LY2NgASoH8gkLr11rbyJYtm+zP7XhPCC1OtkrYBMXW7V+ivqHB+uQPrPeiTdNETm4OiouLXF8PHjiAd995G3UN9fqqDd0frLvF772Ldxe+hbMnT3VTPvp4Jd5dtBCgBKNHn8ho4MeV3NxcdOpUChMUCxa8gfO/doFdZwTbt2/F6tUfw6Qmw6/Ab+7/Jbbv3I4rr7oGp59hvQtaUFCAifahffF4HDH3ZGSKlStXYN26NZg8eRp69OyJeDyOsWNPwvLly/D0U09i8OChGDBgIACKhoZGvPLyi3jppRfRs2cvTDz1NCxf9iH+8vST6NG9B67/fzeh13G93QV9v959sWzp+4jFYiDEcNv+xFMn4dFHf4c1a1Zhx87tqK+vxwX/dZHrl3/htjD3EXW0X58Oy32+GJi80TCE5z6ev0NiUJm0U0zTGTe9CVQq/E0hUCKjZ+DAQRhob20HgDvuvAuGYVhbowFUVlbiwIH9vj/WseXPijnxJSUdUNa5M5yDq1RqGhsbsWnTRmzZvInTTJh6cDYz7tu/FzXVtTDNBM459zxJ18bPPsWqTz7C5MnT8JPb77RfeeSdmzBhIs46ezIefvABLHlvEbZ++YU7X/Ib35y0jRs+xbvvvI2hQ4bh9jvuQu/efVx8Tph46mmYft75+M0Dv8IH7y/BZ5+uR3l5L1BKUXmoEjU1NRL3UVBUVlQAoKg7ehQ7dmxHXX2dZ5txrri4GMXFJUxu2U91e9XXg2b0jjSfCUxVdy1tbk8LkdJSnff5eOmfqsMgiDtz+/a5qx6Dk6LE0Crnrv78rVDsM+P1CZSmeICb7RFhrrlD24i1VRugbjxl8rrlZwJTpk3Bu+8sxKefrcczf/0LFr77DoYNGYb1n63Fpo2bQEDQubQjvnvDTe5ki8K0SJECgAHTfjdaarXuPZvgTJOpK2arY6Z7AgZoMFALNzUoDGpYEgbx5o4GhfMzEPsAwMPglIVmOc4xidwEOpR0cAdUvxZodVKDjYD1gMTTTwkFMQz07FmOnj3LMf28r6mVMcGkCe6XRArrV8ivff1CWdiPFOwkYqpF/DooW++U3YqrKK/g7hVcD8rXiSh/LZvWHzHCYYDVypLFEGrg0ZVTCAxIBoMisLzhh4HrcwpXlBhsC8QkbovPy8vFI79/AtdefRlmzXgFu3btwplnnoWComK8MXcO3v/gPZQUlVgHh9mvv3QqK0VOVg4OHDiAxx57BOd/7QKMP+VU9OrVC/36DcAnn3yMf//jOVRXHcGIkWPw0crlmDd3DmqO1iBmk6NmveL6qqqHXuXH4bbbfobHH30Ef3z8MWz87DOMPekkbNu2Da++/BKamurBfX6QACNHj8HcebPxwfvv4cFf348zzjwbW7d+gdmzZmDXzl2CYct2z57liMdi+Gz9p3joN/dj7LiTMH36+ejTpy86lZVi944duPOOn2LqtHNRW1ON1+bMxvr1a5mRS49BBC4P7tbJzo2Njbj7zp/hw2VLMWzocGzctAFzZs1EQ0M9Lr7kUowYOYrhPsIpixkx9O3bD/l5+Vj10cd44L57cfaUaTh44CBefPFf+PLLz616gMP3QN/j++ONN+fh3rvvwneu34bhI0aiqqoK//PE79FQ14CJp05CXn4BAGDb1q24/757sGf3bmzftg0/+ekdyMnJwfTzv4aVK1dg2bIP8MObb8TFF12KHj16YvGSRVj87jsAKC697HJkZ2Wj/4AB2LRpI9auXYPKw4dxwQUXoWd5Od5b/C5mzZ6J/LwCjBg50jqsyu5zZZ07Y/KUyZgzezb27t2D8vLeOHHMiVCF5uY+LjE097U2/k6O+5Lib0XguI/yhZgKfxMGThB/s7/cmqaJua/Nwh//8DjjIYUBA6Y9R4E9z7KWkc68iVg8YFpnb1x08SW4+eZb7XMu1Bi6deuOB379sIxBdhGzXn0FDz90vxZDZWUlKKXo0rULCgsLPRFOJUFxcQlK7DlSdU2tcu4qBieqovIQAKCwuAhdunQF9+lVBwOxvoVeflxvNC1ehPp6a/dNU1MT/vS/f8CcWa/auyCJzUMJd/dUjMSwefMm3HjDf4tTVDd87/u34MqrrlEWg4PBr88lMwYF8XdKvJEEBlWIwhtqXenjvubAkH7uU6hon7umZe7qGxQYUtumLpacSCLUi3LHHGpfUzYjQceSjrjhezfhX88/jw+XLsWWzZvcJ6dZ8SwMGjIYt9zyI/R238VxFriODdMDxi6qCbW/p6nCIGwuVz0SDovBJVp7kHKuHXlKvV/p2NW8HenoIl5r4NiSgig7ubQ+92kJlhbKqoVXgjYGn4FR9wSKwH6/VsSgsK59SkoYM4pf61XuKFNsDELxBWIQ3xvR2fB70qwkaoWAPwZLLikMglY1F3mKlPWULAaFsw4GFxdlitnBoB01vDtrYcz2Cx6Ds6gTVVj9lS+rPn364P4Hfosnn/wDVq5cjhXLPgBgfXt28AlD8fWvX4gxY8a6GHof1wfTzjsfi955G1s2bcKjjzyM2O1x9DquF6644irs2bMbn6z6CH999i8AgNzcPJxxxpmor2/AwoVvqes6ZD1c/I1LsXfPbsyZMwvz58/D/PnzkJ2dbX3u7L8uwUMP3g/naSABwaRJZ+CzdeuwYMEbeG32DMyZMwPxeBZGDBuJU0+dhOf/8Vd+sCPA2WdPwepVq7B+/RrMfW0W5r42C9Onn4/BQ4bi4osvw3/+8wIWL3oH7y16B5QAAwcMwje+cRnmzJ5lD14a3pCrUg4271151XX4dP0avPn6PMya8QoIJcjJycLkydNw3bf/W+A4501C4sZPmTINmzdvxoI352HevNcwb95rIIRgxIiRmDLZ+jyaJWu1w+nnnY+dO7bjvcWL8L9/eMwdBYqLi3DaGWfgqquvRY69mCAGQWFhMeKxfSgsLHRfrercuQt+eMuP8OjvH8G6dWvw9NNPgcBELBZHz/Je+PrXL8LUqecAAMrKyvCr+x/E83//G1av+hjLl30AAoKsrBx06doV06efj7PPniaV2aWXXYHX576GpkQCl152OSjRDfSp8Xck7vPh7wAFkjvKlGT5O4j7bEUef6fGfSrXI/O3PTcwYWLDhk/x5vz5PHcxeZ17QoA+/fqhf78BSgwUQFNjI1Z98jHzWpgcWHeGDRuBHj17YvjwkbjyqmvBza0IdV/xYPM5rON6ab8zOWLkKMTi3rQy1TGIEusDtvxnC732OnzkSHTv3h1zZs9Exw6lGDNmDEo7d0ZeXh5M0/rFee++vXh/yWIsWbwIvXv3xaBBg0K3VwAYPnw4unXrjvXr1uHvz/4FE087HV27dUVOTi4IIfZn5A7g449WYuYrL6NH9x7o09f6/rphGDhx3EnIyfFOmGfr1ioJpk27dW1dOHPXocOGycUYAYNvPQTxdyjeyOzcVR/SyX3Jz12V12pP9SnJcl/kuWsa530cBiA09/k6kDpvRMLgM3dlo6POXaUQgCEt29TFAcQlG0pAiGkvAe17e7nKvYNh/xo7YvhI9LitJ9auXY0dO3fg4MEDyM3JQ+8+vTFixEj06NaD1a50ggDeohfQLsQBb5s6y/MSBgDWRs4ADBAyCUM25cpIxuAeasGOdq4mPYagLsJq6datG4aPGIWc3FzXPmWdUGniGrimG9qFLmEQPPX3UPPrpyDDa2ENCaei8qaZa40XYkZBiddFReW8f4pMSlMZwSCqE93h+lwYBSpHVNl5gpWfoXo2XalADLZhCgwePBQPPvQIevQslzBMO2c6Bg0agkGDh3AKsnNycdU11+Hc886zPw3mhVPGT0CPnj2xZfMmVBw8iHhWFjqVlqJfv/4oLy9HLBZzYcdiMXz3+hsxZco07NqxAw1NDRg5YhQAoGevXrj3l/dj/fq12LNnD5oaG9GjRw8MHjIMBw/sx7RzzkWv43oH1oOu9xqGgWuv+w5OHj8B27duQ2NTI7p06YITBg1Gx46dUFRUiILCQjd3UVERfnDLj3DG2ZOxa9cO1NTUomuXLhh4wmDEYjEMGzYcnTt3QW5urmvvuD598fO778UXX3yOioMH3e32eXl5+Oa3rsSo0aOxa+dOHD58GB06dMSAgQNQUtwBY086GdlZWe7WyTAMJAkRq0f169cX37jkUqxftw67d++ESYHu3bphyNBhKC0t47J8/we3oqamBoMGDXa5Ly8/HzfccBPOPOss7N61C1VVVSgtLcXAEwaBEIIzzzobHTp0tLaBw1ocf//mW3HO9PNxYP8+VFRWorioCJ07d0Hffv2412bKy8vxszvuwt49uzFk6DDkMpPq4/sPwD33/gqbNm7A3r17kEgk0LlLV/To2QN9+/bzDsoCwemnn4kBAwbii8+3YN++fUg0JdC5Sxd07dYVAwacIB0qBVjnBvz6od/BTCQwevQYX97QFXE6uM8RCuLvYN7IIH+L6pqTv4mMQZLzwZBIJLBg/ut4+60FtoeUyeSNio7uq6/9Nvofr3uvm6Khvh4vv/wfvPrqS7BmK/acxV4wi2V858/vQc/ycowYOQojRo4K15f9AmW8TYr7+Fj+ey/8ZVlZZ9z8wx/jmaefwh/+8BjKe5ajY6eOyM7JBShFXX0dKg4cwN59ezF06AjceNP33e+VB2Kwx6DS0jL88le/wWOPPox//vM5zF/wBspKy5CdnQ1CCOobG3CoohJ79uxGh5ISfPfGm9Dffu8+Foth6tRzMHXKOZEL1a8eosz7eBl7+S/MXX01aX4plxp4BueuSgwIwBCZ+5Kfu4bB0D539cEgqms1c1fvJvTcVWknGAOhlHvmGBDsX5mFNrt//z4YMYL8vDyhudkLNF8TzlBh31Frh7cJL59B7N9zCXXf0fYqns3t4LS3f8N+GEANZljzHnFQQkCcre3wPjfmeWZrC8BA7EFOxCAv8tUYDldVo6S4RHF6r655q+sBSknGPrU+y2MYBqqqqvCLe+7Erl078e8XXpFysg+wVG2a9eynP74F6z9dh1/+6gHr0x1JYvho5Qr86t67MGDwYPzW/lSLiME/6EsjCIOSRJLAEOxJZjAE29GlBGMILh9dDivs27cbRUUlyMvL922f6cAQ5JFkn1J+22GSde1cEUVdrVyxHDf/4AY4zOTKu6RkTy4oQYxQmITgh7fchksvvZz3yPY1bHtVYQvCQHT3nC4vd3V1Fb534/XYvHkjj8EZvSi1N7Za50pQSnHiiWNx9z334fePPIiF7yzE/Q88iClTpjE+OtyTZD0w5QQEtVm5DWgf3gvopXqQv7OSFIag/uHvlYyhnfuSx6DLuW/fHhQVFSMvLx98CI+Bwvoc1+FDhwRpb7ZiBYY3CNCxQwd07FiqxFBx4ABqj9Z6ORhVnn0C9hMznTqVoqCgwLec/DBAKy2G6Pw9a9YMPPibX+H88y/EnT+/R+0hpWhKJLB82YdY9O5CbN++Ddt3bEXMyELPnj1xXO/emDL1HAwbNgLxeDwy9zmhoaEBqz75CG/OfwPbtm/F9u3bkGgyUV7eE72O641Jk87EaadNQiwe5/kE6raU6T6nwiBL63kjjGcth0FlS8bQGrgvGQxhue+rxd9yfKbnrslwX1NjAyorK9CpU5l75lAYDBF/GfcIk9/RbYIgZk+6THg/8VN+TOFVgdtmbuuzFrH2pNY2ZomZMEwC092W6aiRDVC2AKnBFQMhhjOs2d+nte0T0/ouMMRiC8bgrtMFDJwWXww6EzxKwsTz9eA1JAK+ZbLVTwhxB4mioiL87tH/kW1RuCf0s1MDLjBkRwD89nePKb2PimHMiWMxY87rrg0VBv8gYGBqU4/BW0Dp7YTAIDhN+NsUMdgp/AwE3m4Ewa4vBrF9E6EcZAwkNAYi/JVLX8TgpUXDwBsQyyE8BiLNPOS6djCouU/97J+NMQwD3bp1Azdq2O+7EIdD7O2gDm/k2dukeQx8+QSVk7xwD4NB3V/4cuKvy8rKUFNdI2Fwec0WNyhgEoKSkhIYLhbxgDtxUp4e7vMLLjY7r9inuKBoS65UiLaUKQzJ8XeauI/DkG7uU2FIlvui87c/96liw/M3AUFpp1KUdurk670Y+LkCz9+lZaUoRRkvHFp16+Pv6eedj9MnnYGs7ByNh1b+eDyO8RMmYvyEiYLvchFE5T4nZGdnY9xJp2DcSacoMChvPF/9eEMKYccgFW/4Y5Atp4n7QmBw7lsH92UCQ/NzX/vc1Yo9FuauyR/gRuQb5ivdbiw/cDBoqCdp+wQK73/iKHA/oUPsBa2XxyDw/9EdXgE6YtxGAM5B/mg1GQNLi7ZsWAxOhAKDvvLEZqcDyKbKLS+KDSev3MRUNsPo12ZTJMh+hLPhj0Gbk3gXacGgSuUw+G3Y4vuF3dxlz8Q+R5QJgUE93mqGplQwwMLAdVGlTYVdnW7faAYD+3g8SQyEweBbDwEY+g8YiF/d9xs4ZMB7wOt2Urt1755mDEIIwKAucTk2Ly8PN37vZtTX1TNS7A4BAS0BCvILUFxi7ZTIzy9QbNFOlfvCYFDzhh5pBBn/bIqEzPB3s3FfIH+HbK9MXs8zVb50c59GVyAGyvxNgr91dgNCIH+ngTdY/k4dQzj+5qa0NoZ4LO4evBYVQ7L8HZb7/DHApx7C92nNqJwi9ylCWjFoVSsSMsN9bXvuGp77ImNIG/d5qUlxX1r5W9NL2hD3ASTiNnUN8ezbtwdZsZj7+SwCcRHO+Ey9G+cANTHR2WKlKnNKvW3pxOZsZnnMxSvd12CglNrb4RWuRsDgHQonYHDyKTAcPlyNopIS5Enb1KNjkH/pk+XEG7Gc/Tq4uFU2mXAsYFAZyQgGXV/OMAYfETkuAMP+vXtQVCxv6UwWgyTfDBiC2msoDD42fESbDUMoXyL0uSB/q6ur0dDQgILCQvuTappMLYiB0+FT12HbcGvGECl8RbhPl22/s009N79ZMbQG7nPTjiHu0/mUKe4L0q/0o5Xxdwi3Zbk2zn3HAgaVkWOVv1uC+xqV29Q1/jARmo+WagKHwLm139omSlMCAsLkZU/1pnA/kwO4p2lLzlH+NHBqsm55dt3f4oj1j5NCAOshH+OiY4MQBwOviw3ExkBtKwTMKc42BveWsGXkwg7AwAl6l24SdSDJftkY/IJTXzYMKb/zBIPXQrlrImyxl0S4iFQwSEol39hdBiLyTGNQGc0IBqkBWdfRMCjSAjBwthQqlRhoMhgU5ARNhGhbiUHc9qyISwMGl/tUGBT2XRs6DFp/qSJOhYEmiSFzvBGEobCgEJ06dfIW4q7jij4nYeB9aGnuSy9/h+UNOV6+b+e+VLhPFRi3U8SQbu5rBfytsO8KZYz7MsffmeI+JW+E5r7Wwd+Z4T51yDR/yxHtc1dVaGv83VLcR0R9Ifg72mLcOkeNGAAAIABJREFUVUIYA6I74qnYHHTw3coRIVz7cRylQgE47rqxBpvKVh7rn6zF0++lel4RLQYnl1MNlHVGg0FuSTwGaljqqRtHvHIVipayhCWBCg4sUmUjYnYGeOBUda3vBenDoG7mVJIImkK1cgzKPpRuDLKoFoMUAhnPwyDa0OnSYBb1J4dBpTdNGAK5Tw4sBtVADj8MIevaiQiHwZKhUoI+SBgk0yKGDPQ53c1Xmvt8ZNoChrbGfWwWOyk1DHpzrY+/U+M+pe1A/g7Lfc3I35Lh1Pk7OvcRRYI+hOE+XrgleUMdjjn+bhbuOxYwyKJtgvsI0wwVWVQYIi3GLT+Id0ecv9RVyH4L1YoyOR1OmkEB99dw9jECcWwwBeBci09SFY2JsEbYS2L9Is11amYPAgWF89NVWAzWIep+GBTOChgIhXu6OtFUnGeXOp4yMpS/lq6ca9Uvhlai9+iBuqWhLkjq5lHb0GBgBLkvT/thoLx+3j8/DF6N8o4w7dW3nNKLQeUsW5Q8CckYKCcUFgNNEgNkYQ0GLi0IgzibCIuBV+QmeqXCAYqIQTAcph5U3JciBvhhUPS5sBgkNQJvkIxi8OcNpetJYGib3BcCQzq4T4uBpgFD83AfL5Rp7lOURkvyN68oJAbIwunivjRiCMV9mcDQSvm7NXAfrzNN3MdhyDT3heHvVsB9nE8ihva5a/L8DVlYg4FLywgGJkSYu0ZajBMOCHFjAeL8B0I9SMTuFKoyTRDA+eYlTINDQQX9xLZBCLg1rtPn2L5HWSP2JaGWLWuR7WEg3H4XA84r/mExmATuCewuBscPt75IIAbCFqUu2BgsXap6sK5V7Zj4KOdOPaS8I2JZujr4P/y1woyrlno3/Cn4CgxEpSoMBl7WwyC0V6Xl5DBQKRORq0a0IqRZTUfG4D5AioRBWXghMPB+RsXgeCxicNlVgSHp9spgQFIYFIZ9MPhxX3owMOqFPpcMBl6hJZQRDM6NaNKHN5SuB3KfJdT2uS8EhrRzHxtP0oChebjPnbo0C/dFxCDq12BImr9VNtLG3wrDjMcqDF5chrmvLWFwbtg0zm7yGHiFllBb4z7PmGMjk9wXBkN6uU+lKTJvhOLvsLwRHUP73JVNiYZB3+fUIWjuGnGbuh4IKDNnYuIgxrmamAZHFL88uzao6y4FuF/ZnEISC150j8ftYeB9ZX85TwGDLUi40hUwMHCp8FcbuDbs06CifDbeVUHZG0aX2gabJShwKlQYVD6lE4OfqTRhUKlPDoP6xhcDQsOIjiGkXqU/XH/0I0AmT4jQUhj8SZzJEyKoMdhRij7XnBjCBn17DeCNZEJY7ktCbYtyX6b5W2ODzRIUmo/7VBiCuS9MSApDkFJNH1X1ubbO383GfX7yEUOzYFDoSyd/a421JH9H69qe/mOQ+5Q+tTEM7XNXhT8hMeh5Q209CEPExbh6Zcou9A0QbQm7J4jDW566Drlb03lTjL9ad/hr8RR2FdP4qyIhMCidZDEQOZn1QXwKI0L0b6Q+GEK9T0GFK00Bixi4NE1dCVYkzVS6kJMjYrAd0gkq26uVJRiDo1n1kMk/UxgMoZKVQmwNEo2MLKmKjsDqIZOlmuB+GVd75k+eQRgiBp/26gTZnyAMdp7QfU7ji29BhOtzelXBGPx0R8IQpt+GwBA2NXkMRIyGG90GuM+Xv/10RMCQGe6jQnIS/B3Yltj5hkpBM3CfRkc79/nJ++to1RjSyN9hU5uVv0Pyhj60Le5T60sfBtshnaC+vbbPXcOHlPg7iDeogjeoRtLfp4jvjDNPtQRlhitD3YW5+F03Ewacda60qJUO1/CC9Tq2YrlqMPFOMiGuDV6ZPfhT7tQ3NysBgfdLt3cysQ6D7GgwBsZJ2L+R299kI1LdeFbliuWGbyZZKiHN6CJ+jE2pzLnV8gTzXEghw2dlnUw/Bt/G7ziitEFUkUqtxA8DVbro6dFiYE37EHwIDJSPZPJr6jojGDR5TcMTCsKgyh+IQXBGq8f+1+fZkz6vmvvU7dUnP9QYBCc1gTQjhgi8ocKQJG+o/PGUZpD7MoYhs9wXir+VbSo8f2eGNwjjxTHMfc4/zcF9fhicf5PlDV8MtlyS3BeOv5uT+3zyQ42BEfQJX2HuyzSGDHGfL38Lfa597qqQySh/M4Yyxt9B3EcYG5r8rqQ/hojvjLM3jhrLnHd4OHEfrFChsRNQxjqrjTAlI3YQZ9lqCoVB7G+M2zVBGbe4cifcX8L4RLgCoZYNDgMJiYEIGKDEIB4EBxuDc7icIyvKeLHsBMZJFvN5+WVpKsVo60ES1LV4tonxbUJU1LwYhM9QuCLqwTOIMn0xcPXNYKBQSYfAgMgYdIN482KQzFs+sIO9VNfebRQMSq+k9spf6jD4BrYeXDtRMaTS5/hLhsXUPgiBlQvV56iqnBSuJcMbAi9Hw5AqbyhcyxD3qSw2N/dxSTresBMzwn1czsxzX8vzt2Q+MgaVkkjcp9KfLu5zMaSZv6mAQeVfKtzXyvjbEcoY97Uof7cG7hOSiIBByK/CEI03MsPfYXlDEZsEBlF/VO5Lnb/lkCr3ZYK/08wb4DFE/7SZ64BQyqzDOg5ibgx1v/XhJmIXutewDCaNOUtRUKlQ6DZisQgdLOEweGsMYfLjhwEAuw3E21FAhIPrlDnlINaDtml7ab6vhPi20CDfomHwii86Bt/A9aAAL4gyVptfi0GSID6uZgZDoBxVxvpMBzKAQarrIHWEb68aZ32nNGF1a/Mmh4Fz2w8DUUf76Zb7XFC2IAzqjhAVg68XKWMQQiTesK9TxaCNbT7uC+bvkLyhiE0KgyTRCvk7NPeF4++gzeXp4u+2z30BGDLNfc3I376hubivRfm7fe7aKrlPE9sW565iSHbumnHuo4r2GoAh6cW4+NM/dXxytmo7DcVNALMGpTCJl9HRQph/3fevifUhbvv3d+9wAQKu7RjcKtlS7D4Po4x/rgzhBgwQZnEeCoNXN+xzN9EGi8GRJpRxiOlQ0tfQbK0sBklCUQ+WMC/Nqpbt8BjUgZuy2X8U3TkCBrdEksCgCn4Y5Hg9Bl1uXwyCFfE+bKDuPzovVAkhMSj6HKDCQIT7sIEvJ5V74nYeqhISAssbQRg8reEwBLVXVVC3V4Tsc8cYBl/PNBhS5A1XIlXuU/C3wgpaG/dF5e8o3JcUBsFKKvwdPi0if4fmPvW9GAxplxuTLyR/p5v7ovJ3O/exOZAyBtmP9GAIz32IjKEluM+VaDbua138rfMzHfyty50Uf0cMUbjPS0g3f7cS3iBUWNMFY0hyMc6/8WXdW58Og0EEa8RrO5J52K94E1bMFrYL1qS2fsaGrcF0xkMKfpJPPRvOp8QIRBn22ba1QHaX56EweMFaU6swmBwG2HLUdojFoG6TTCkTdYeW68G6p0Jr0zcyj67UhKECbjd4Z5eCb39KHoPYY/w6iqNBh4HvR0ynDY2BhsNAhXvB/zAY1CDE32IYUoiAwbnMDAa+rt1YhpBEbd6gpkMn6vfH4Cb6YaDRMcg+i+21+THojTQjBp0Jp4+pMGSYN9LLfSKpNw+G8NwXjIHnPs9e2rlPvGcwhOY+ZVBxX3QMrlta2+G5T2cuCn+nmzdCYWjnvjaHITxvaDBINjwMrZH70snfqXNfpvnb0xMOQ/vcNTMY0s8b/A9PwRiSXIxrijbwKQeTTpwYexFMlVKcKcraoODfRfXJ5CRpDlJnsrP59DSrChYGpoJYfSEwqJ74qTwM4YVnUixupQ0xkgpXMgYxJ/ErWI1ufRDeYQyFIVgn+0eeOIbBwNdskJhKyiXcVDAo7jOFQSWbXgyqFKknaiRTwEBaAgNVSMoYdDSmwhDgjk8Ig0F174chPG+4GtLMG9yVljdUGOS0lsIQnfv0GLj0lPg7ZJ/zkWqb3CcneRiiAgnG8FXnPr2p5ua+5uBvqpBJPRwL3JeOuSuX3j53lR3yETt2+LuF567Kh2DKBADJftpMuCRshGTHeR5hF4XDQe7C3ZCem/BbCb3tYGy0pdUDR7lSZp0joM7+fbGXcx8gJ15XogC/cmcxeCq8hwjONnrinSSfDAboA5V/+pcuRf1y+1Hlo4IO1SRBYYhLEZuj2m4wBsUgmBQGnQsthEGSpqK4j2HRRvNhsIKuFfhj4J/L6dqrXEqB72Lada3FoIxrXgzaOKG9UsUDv+AJoJiSKQyqfDIGZjgN9FTWquA+hXhY7uOCljdUGORMzc99Crsp8jcv27LcxwrLda3j75bmPp031EOadJ9T6Q+BoZVzn5q/w3GfqElnp3n5Owz3BXsqp4TlPo0+PwzNzn2tb+6qzSulNO/cNTz3ieZalr/D9jldrpbh75bkPg0v+/B3XJHDJxDlJWABME3T6/YOMDgL0wSXRuE8R6JwFrKeY9QzQCkIMW0p/smTQYGEs/ilzHvojHuWJhMm+0kzRQETmLYFRMZAqfNGu6HGAGrrZ+M8DACQSJhINDVBFbyyEhsAb8OxFGaYI9K1Kj+bypaOWPkK1wItpw+DF+eeLJB2DHw5pQeD3g7VYvCuw2HQ17Ueg1eOkFGEqGsZA4FpJtDU1Mj47oTgUvLDwLuTSQxOrOMzS+2p9LnMY9BOLpsRg2eztWLIHPc1B3+3Ne7Ta2ot3OePwQCQMBNoSvBjdjje0GBQhHbua/vc1/oxtG3uyzQGvWA6uS+9/J0M90XBoArNyX06yebkPp2yRCLhWucxEHtnEtsrmFRKQ71B7xv2798Dk4YtZgpQErIDAKAUzmFrvp2aS4pog9MkVgRjI0UMal0+cZFsgCkGG4NYJm0Rg6+N0Exqi1MQ9+C+TGHg22swBv9oL9nW5FunyWHgqlaBIZyNYAx+ci3GGyF8CzDkN0zKyjOOIRXuSxcGZtBqdgzHEH/72ojOfW0VQ0tyX7r4O7xc+segzHFflKxtnfsIALN97to+dw2PwdfGV2nuaicfC3NXlQ+arJ06lSEej4fWH/GXcdkBq3EQxA2C3Lxc+xdju4QoYEUwVWv/pEwIYDqdztFmJwPUeineyc/IWfHUFifWr9IEMKn9uzkhINTehkAg2LZMEVsPpdYTbirY9cfgAU8FA6HUbWPVNUdRUFCA7OxcRQl7gZniRqwlzwdHQThdEVuopLTtY1DZSAkD265cXUE+hsEQrZzkuIg+MAp0GByRysqDyM8vQE5OLvxD68UQPnz1MAT6GBSOQd44FjAwI55OJERobu5jojT+ptbnLAwVFQdRkF+A3Jzcdt5Q2fiKYAj0MSgcg7zRjkGhQ4khHdynd7B97qpJzzBvNCUaUXXkiOw0o1P2lia5GLfrBIC1qKQAiRHEDENdLu5ql8BdAcPeom3wQFxXGTnr2nrOoXzJnRLEDLtQKbzT0B1nnVwUIDHrcHODVcaLCE/lgjAQwLBPTY+CQbARM+LIyspSoWOEKZwVvNZPXwxMnHTNNBPPjCBnVbwbFYkrNBj8pFPEoJZLEwY7UyCGoAQlBhIglwIGRabmwBCLxZAVz5IwBBtKAYNYTilikK8jYlDqUWDwq+sUMUj9KgwGXxu88qR4Q6efi2jl3Odb982PoVVwX1IYMsh9CieS5T4Ci9PiHKdFwxBsyM+p1jEGhcYQlvu4PMcg94XFwEX48AaDoZ37UsDgGzQY/KRbHX/LTrQkbySFoU1xn9orosVAkjxNnbXjHs9pxVs+Co6wh6Exsp6Y6LjJpzGfM2NFPREK95V8F6hCNwEoJa4e1gRlpcNiAEDd0o2IQRCXDpfjjTN6qOCnRlrUL8ZxGASnXDKjcl2DhxU+aDD4SasEImBQ50kThhDZtWl+GNjDHTRtLiUMikyR+VzyR7gWMVCVnHDyaCYwBH2igO1zQRhUhgIwSL1ZWWYCBk2f04aIGKR+FQaDX12zFwG8obOhxcBFtHLua2X8rZJLH/dlkr+dtAxwn0Jh8tkzxxvBtvlMGedvpVxEDGG5j8tzDHKfGFLlPgZDO/elgME3aDD4SSfFfQ6Gluc+bZofhmNx7qqUC+INCm1/8MGQ3GKc8qaIY5uqFpUacCbETEwO/rA16WBzW6vf2+4eZubkPME3k4nm3o4Ii4EC1tZ4DQbqCaowcNciFsrfUDtO/8U+/0B0sg4GRplXXkTwVWONam7SjMFP1jkMUMIg3kTFwEV5GFIJUna3TVOufXHlxPa5UBh06dEw6MiOigaZti5j8CqFxZAUkbLOJ4tBl10gNa9r6ushqQHND4Nm8pYSBrHPifyt89MvLQoGqpnA6OqvBbnPy5QM9+niM4gBPvwt3iTLfXZ8Rvib5T6Ov4k6U2vhPuV4Hp6/U+G+lDBwbSQsf3tJGeXvTHAfjn3uSxZDm+c+BQZXrk3PXVPhPoVMEryhC778fUzOXb2ksNzn11715JXMYpzCe/rEWKfOgx1TlcG7dJ//EGcBbD1tcte/lNi/Nnu5Ld1urVsFwzxIAnNJxH+p4YmZUEgxleN8gszkxIIxUEONgQgYwGPgHoa5T8dE29aNa88bYRQYmCtFZSsbEGvX+UOZ/AwGeaBR+9rsGNwUwmMQMiWFgYsiEKtJ9DEpDIS98FJFDG4nD4VBEZLFoFOlrGsVBq9uPDGh1qOMzEJ7VeX3xcBlD2ivUNeDdd1GMIh9TuRv1kYqGFjeYLUSYXhKM29IilPgPg5Dm+I+5k+6MAg2MoJB5I208LcipJn7CFHVdVT+Tq7PpYQhkDeCMVjXbYT70M59ynAscJ8CQ/vcVWElzdynjojKfYKpZubvTHOfAV1Z6bkv+mJcU2jEUcoZEU/jI65tkbtMpxwI/yuy66Cji7I1y5ji/rIbBZinA0SUFoKzcCcMHoTBQMNhgD8GnWtcFBH+2hJEFJDqSVRM9bF8m1SrEyOp5tovX5owiHcuBo1ZbaQPBi0kPwxif1CGNoAhMKgx8Lp1inTkpCa6lsUQYDxJDO69ts+FxeBjR9nnFAI6DH66wbTXMBgCy1NjR8MbkkAmuU+FoRVwHxfbGvhbyX1tkL81QTfpC+IN1VyibfB3gPG0cl8yGHzstHOfdJ827vMzJUa1z121922J+3SajyUMsm4f4woM3tpQZ0lWk9w2dUkzb8b1jcjuuP2Z8PLEVEmpOpgKUnDvc/uQroCJuoOrijQzGARHhShtjtADlaiYqGN96jW0ek0ZJzGm+hiR7906pkna8sHg3EbSG2rg1WCIZIuRDIEh/UGNAVDMybXtS8SgHtT8MaTSwvwx6M2kjiHpPhcQwvNGCAwK3dx9i2EI0zPTyH2q4kiF+1Lkb0mqtfB34MxLvk+Ov6NxX/paptqQL29wwa/PKVW3GH9zId3cp1SeOtK0YvDRDXzFuS8gvX3uqlPcyueukY1Gmbse69wXxpKsPPnFuKjZIQf3gYQlYIKAOL3EJRDKvTpAiSkskp3OZr8RYj9msF7NttIou0+dXQWDMO+je7qcxTFl3u3mtoZTpoPbGBxZCYPrA4uBajBAjYGwGJgD6FyFrNceCimoBg3WL7boQfl0qeNTQRVhUzgxV4Wu17mPhkJgsFN1bT0ZDKqGr8PgJ9MyGFhb/v5RhWQQBoUUZ1VMEetah0GlUyJmRfsKhcG+8MfgDQeRMHBCagz6iCAMQjmpMITpc5AxKKUEDNoBQGPTxeNX1y2CQcd9wk3YPidpTJX7UuPvdHJf8hgEH1qK+yLxdzTui4QBcjnpeUOlTQ7qVp0O7vP0th7uE2/C8nd6eEPWqopoC/x9bHOfnJe38dXhPtp65q6sqqj8jRDclyR/K6Q4q5G4j7JCLc99yS/GRbXEvmKMW0tN6i2ACYVzqL2zDCUAYMYEfXaREQrC9Bjr62L2PTGZBbLwPIM5nt66JLC/KA62EFSDElsvhGgwMIdyuBioIehxMFg+Ox66GChAXAzMgwUnEK+cPBelpY06cHNrtrkQLk7q+G45OiXDdB+WuZh8+p0GGgxUl8FvfeCHgdmaQtmM4THofXAInmjKSZFfsOGPwUvjMfA3HAbB2XRhCFVOARhUk4Iw7TUUBjs2Ixi4tHRjENprGjEoLaeAgVPDVW9rwBCd+/wxpM59YTBklvsY0SS5LzR/u3bSxX06/uZvWjX3CWk6DFr/FPdSXJvmPt5ua+a+1s3fxzb38XlFPW2E+5LC0D53lXzgHcosfxM2reW5Ly2Lcd5nIjQpNhjwXGOWxoR/auAejkIB9gAMNi8BAV/uLBN5f60j9x1LzgEAqoIHW3M+GAjnDWWuuFPxBQxUgQEOBmWdK/DIN4FBfOPdVwfhL/gyDTkgiAp5wFHdl/1gYtnuJetOFYOug4p2xDR1ohoDImCIWvaOdp2zvL4w5aTD4KSqLpOqcD/dXAiLgaplQpvMIAZxHnNMYxBktE26BdpSEtwXGUMauc8/Kh3cZ+vJGPdF4W/WiST4Wzat9y8sBmHOo9bN3iTD35JCrb7UeaOdvyMo1EanPo7qdLdzn1ZRWrmP0ROF+7Ra0sR97XNXybLSv9Yyd6VeCWgFOEsp/TLurSJZoJRZlBKORAH2aZq1CJWfVlAwh59xT0bExa/zcMGpNNPr9872b+lUdHZxbud1nphQRxePARIG5k7EQImbw4PqYDC0GIj7dEnRaDXtmLIYHCEOQwglbvagziJPzjgMnIygy6cvRsMg+8NVUdoxCB20xTEITkTFIDrDEK8SA2NPPxVWtVcVBo0Gu5z0GDSq3N0xYTGQkBicASxMW+LrmrWqsiJnl9MpVXmZLAaN6Qzzhh6DrJH/DGbr4b4wGFj+zjwGH4VfOe5LAoOPM2rekDWK14QICpPibz/uC2hLaec+V5kOgJwnVe5TYmDzNx9/++tVZU+R+7iYtsXfzct90TGonWirc9cUua/VYfBsJM3fzTp31eQJwKB8rhHAfUkvxikIvFW3VXj2EthdiFIY7jKaAvZx43YwPIdMF5a1kHY/bWYSNw8FEZ4eOI8ArO3nJrz3y12ScMxRpnqpU1H2xgBHP/F0ehgIEBGDk5cS5kmASdxUFQZq7xhwN3wouFmO9sqFefrhZuDbgrDUF9stIVI0b5Hw8k42LorxJ1kMbiXpnym5NKDBINrwukgmMdDIGGgrwOCpUmCQNPIq9O1VhcFg4kQMxAeDpEjbXr0nsJnCACZO7nMsBtZKlD7HPUVOGQPrLxudWd7QY5Dcci22agxQY0g79/liYPPreaOt8Hdr4D4eQ3TuM0UbSWHw477o/N183KfHwFppOe6Lzt+ijXbus4VCcF9rw8BbbF3c58ffoo0W4b5m4+9jj/tYi6ajQ8Tg0+eSXoxbH3nnXaW2QcrFMe8UsO+smIx/cA4/s3U6718TPg9/zBnl0BKukERf4VYZdVscASEmL++odDE4OUw1BsrrJ8TWTwCAeQ8+BAYOqqoXMNGUuSFsgrIJeWkeBt6G+yDEjVY4Qth4fSDShSaduXExhLARhMGT4TF45ZQJDCQyBl4enMeeDR0GfZBqTotBaA/JYhBsqDBIdaPwiSqulRgYQRUG3jkq5UkOg5xP1edUZpTtlfLpbl0ni0HRXbUYXPVUiUEOet6IjEETomDgua8ZMLiXGeY+x3ZY/W2Yv1PjPr3+8Nwn3iTBfaHaazj+Ds19nP7m4j5eQXq5r6X4OyxvpJG/ffS3de7T1YMo42r6CnOf4CysXO1zVzmHXj40b2hCerhPnc/FoFrLBXBfCtvUCX/t8KZfObDA7b39bleyeykJVKKxzyJhsosPKLmyZE9WZ/LJ5pnq4yqPxQAegxkBA/MQgHNP+CvkUuuj3mOECLm0fmklaVCT51VoZVU2QtW/lEvVddKKIbxAshjEExd1GHjbQZMPtQpNY2PTI2KgUGMI4GDJti8G1Yio0eNikBuHrysyBr8QrZw8DJperWuvfhgUxRAMWeTv6LwRGYPagNKMDgPR3jUvhrRwnxTauY/To9PP2E6O+4IEQmBQGNNiiGA77fwdwgVWRTQMIcYnQT/PfZni73Rxn1/2ry73hQnpnbvqw7HBfccChmNz7hoqo5SDqF0MmLtGWoyr4VHOEGEm3xIUE95r4GCm6cynyagDxMHDnHDGP2Rg45hapYBBGR8ce/YH/NxcnhktBgrWJnUxQImBumLhMDBdUKw7KtpgErSd0NHlNgc2VhalbKIgrRorxZPmSMCgFxaDZMPDwKoKg4Gw0hEwaIOAQfQocxi8dKkTt2IMTstTYtDYd2xnBgP1MASNDalgEPpcsH5WWsnmdpJc14ocWhupYPCta8nZaH1Oq5+xkXHuEx1qCe7j8rQM94XFIHr0lec+ivAYuLjmwkDD1YNkozn4OwL3JcXfqXGfn37Z2a8e92n1Mzaac+7arNxHOdOCDQ8DqyqTGLShnb8VOdT60899lL8MiSHSYpyIjcXRIshQlRgAGNT9pZrbvGoaTOF5ma3KNMSmylmVbBAgQfiNHxSAdVIa7INXvE5FIVWB5R3VdFjDSnCK0k23TmKzHVNgICwGiRWlIlV/gcDGEKIenHS1GjtBSuQHPs4GETNQT1TVYpX67QQWA5cUBYPORnQM4qVkQ/LJZ/BOCwYv3U0Kg8HPhigZFYNWFj7tFWoMdkKA54woDY9BW06QZYUEfwzqPpcuDFwIg0HTXtOCIYg3JPPp5Y1kuC8ZDJJ+5g9nI1Pcxw1oLcN9SWFAJvnbS08n9/E+pYH7GP8jcZ+NISPc5+ZJN/c5NvmEY5X71DoCMLQx7mtt/C2F9rkr66o/97WxuavnbvvclTUdcZs621gc1XznopQwWonQfrwbDr8Bb1u3VDAms+DlU5guxfmoHXRABR/EJbUDwh+D0gKBz9Z0U9g14eWXG6YalZ48Bd9ZSUFJTXUVtm3bisbGJtTV1eGVl/6DZ5/5s8KQSgcVvPCUv/TyC3j6z09i69Yvld76YmBSdu7cgWef+TNmvPKSFkNgB3ZFdOUgYGCqPIwdqvRJlY8yJBROtywSDYOH8uicAAAgAElEQVTeF15FUhhC6vaVE9qrFpKUX8MbKqMq9lTyhpzgj0Hd59KCQcwXBoN6lPDhjSAMVBKTgwaDwj8lbwgNTzcIJsN9wRi0nVFnKEkMEbgvIn+nxhsK/k6G+/TOgcPQzNwna00jfwfobjXcJynMPIaG+nrMePVlPP7oIzh06JAmf2rct37tWjzx2O+xZvUqKyXt3Kd0VedYCvydCve1Bf7O3Nw1PH9Hm7umzn3Nxd9i/rY7d+Va4TE9d+W1B/F3tMU4V8jE/Uu4W7YQKNxPfxHePoHz+TACmLDfIXfOLfd0e/+LjY474xwgxH7wQr3j7t0CtCudGACF+1kS6j5tMlydNAQG57R3DwPCY+AK1Ptkm1hl/JH9Ku6S64HDIAWK5577O7552UXYsX0b6uvr8fbCBZg142UeqluZKnZWYQAWzH8dM159GXv27E4Jw65du/DKKy/hnXcW+tAJ34qpvfVFiUGpRMDgjg0imfpj8NzXjWJEQ5IhMCA5DPKAIGNwrWcEA69JPTSL7TUcBlYrV9euqHY2IWEgyWDg1BMkEgkkEl5koqkJBw/uTw6DZnIZjEHWLWLw+hwRyknmDaWr2pEmCgYVf/swVarcp8QQljdSxZA5/o7EfWH4O0nukzEIClPhvjbD30zfjMAb/F/xNt3cF7EeKMXWrV9g/bq1WL92LdatXYv169dj/do1Vty6tVi/fh3Wr1uL/fsOAABqjx7FWwvm4//+75+oqa6KjsFtqnruW712Nf79739gw4bPHFSuTFVVFXZu3466uqNK7mProba2Brt27sShw4ckG0pX08J9dkpE7kuGv/Xcp7T01ea+1o6hVXOfDwaEwyDfBmNwrWcEQzr5WyHDYHBERQxxRQ59cBs7VJiUGSiBtbYVy4Fa3902zQRWrlyBo7W1rlrWnFMoBEBZ51IMGTrcVUaYZmgthu18xPrcmbemprYy6y91BE2AEBpchIRwGLzxw/t2OAhgwPnuHEsIig5BCIcB9hWl8F6RIoqKZ6LcnBQ4cHA/86s0YTwgyMqKo2/ffigsKoZpJpBIJNwt+FaRML/zEyuuoaEBH364FAvmv47Vqz9B3dE6DB8xAqdNOgNnT56K/Px8rnysenA6j4Vh9apP8OKL/0ZtbS1TZlaiUzqdO3fBzT/8EQryC5heRoWpDlMP8Hx17DjlJGIQi86rA6JOYjuxqh4o4crf4xv9TgyVDVW3kTBAg4ECzmcEgzC4WSiPgYTCEMYGlOWkxCCp9iMPrz+Idd2iGAhQW1uLObNn4rVZM/H5F1sAQrB4yTJUVlbigfvvxZLFi/Dt79yA6797AwDg8ScexewZM3DPvb/EaZPO9MeAzGFwblat/gQ/vvUHmHbOdPzkJ3eE4O+I9ZBmDDru8xuDIvEGi4flDUlL+jGw/J0SBlY+ZQzJj0HBGEJyXxr425UWuC8cf4eta2/ekCx/79y5HUs/eB91R+tcnyisY4RcMabQnM++du3aFZOnnMNh2LN7F37/yMPYsWMbZ5jC/lINZeZitr5uXbrh9jt+ju7de4AQgqbGJvzxD0/g4xXLYXJ92gNDbAxnT56GO+68mysP3q6aNx595LdYtvxDoaS9a+svxaDBQ3HvL+7zFHDvm3qF+uorL+N///gYHnr49zj9jLN862HRonfx8IMP4IKv/xd++KPbEBRakvtU/J0u7vPD0Ka471jm7yS5L7W5q7+NdM5d5RDM3y0174uKgV3aR5m7RluMy3YZL1XBYX5vweqmEBMAQWNjAx5/7FHs2LmdU+MSM/Pd8dNOPQ33/fo3rgC39dugTH75SQenlLmnmiQuUsDgLq8Jn4MqlagCo4tZq2ted1AGtrEsW7YUv/vtQ84wztggKOnQAT+7426MO+lkRWZAdW70woUL8Mf/eRy1tbUYP2EisuJZWPrB+/jgg/dx4MA+XP7NK5GX5y3ITUphPQ3xMFRUVmDZh0uRn5+P4cNHgBICg1rn39kH6SMvL8/qCBzf6U+yZsmPSO3Pr/Cc9HAFrKwHTdYIVebJK90NgUHzHp0vPXAMo5YME6N1J1IQMXj+iJ5x18lgoCQYRkQMyz5cimf+8hRqampw4onj0K9ffwAUDQ0NqKmuBgWwZ88ul4CP1h5FTfURNDQ2ph0DP5iE87+xsRHV1VWoO3pUwd/qeuD8I0DVkSN46603sXfPbnzjkstRWlbWrBj8jYXIEqIeohhKFoN+0hUib5q5r7kwpMR9Ggzhuc/Hp4AYlVFChK2KkfmbYs/u3Xj15ZdQUVkh+eCMg/yUwooZOPAETJ5yDudxbk4uhg4bhq7duvEwqPejhfMbQENjA958fR6aGurR2Njo6onFDVxxxdU4d/r5qKyoQFOiCWVlnUEIQWNDA3bt2omCwkKUdipDt+7dAXe2IY/YOv7u1/94JGC6P5Ts3LkdH7y/BEOHDsfgoUNdmF27dvMpS1Z3qAkX4xcVfjELz33eTcvwt95YOB5LivsygCFt3NeG+LttzF39bbTPXcPNXZ10ItZ1AIakF+PsQEEdlQTsoeKgsH8t5kcUW9qACQpCCLp06YLGxkZLH6EgNls617v37gH76ysB7CexTi+S9bOeuoOR8+u5Lc8OUABAiP1kyX2qYS1u9RiIhcF5nkvtZwIGI+vYcsuGwBnEHAw0sHEwWIX6pAAamxpRU1ONq66+DuPGnQz3yTqAWDyGfscPsLIwxeUEw/MeAEHCNPH0U0+iprYG99//EEaPGQOAYMumjbjpezdg5oxXcfIpEzFkyFDZNwWGESNH4Y6f38MWhdWuARDDQHZ2NgeJgjBPJT2U7hMwZTnxGKyHOKys91TPr/MHU7teIlLeNGNgr/398J8+po4BagyMfR4DYVLC+kGE9qItTi1JJoPBpCY2bPgURw4fwfCRo/DrBx9BVnY2AILOnTvjp3fchc0bN+GUU8bDfmjv7pSRuSl1DISon1SrMLgRjM7gemD6HBOqqqswd+5srF+7BmecNdldjMvtNXUMLBLxUnGrzOu3cyW4zwXZagsYgrgvCQyhUxQSLcZ9/j5HxSAuxaNjIBgxcjT++NRfYJrWJ1pqa2uRlZWFrKxsTnNjQz0MI4ZYPA6AIh6PSz536NgRV1x5DfMLtR5DVXUVlry3SMJAiIERo0bDTDTh4gu/hmEjRuLuu3+JnNwc7NixHc/99VnEsuP4wx//hMKiYkar/7jChvPOv8DGa4V5c+dg6ftLcMrEibjm6m8zvrBtkt1yyjObVc781mAl97lkSwS5NI1BLcR9IgZWIi3c187fSBuGFp27+nnYFvi7heauPvztj4Eovq7mP+9LejFOmL+Og6A215kEIBQGgbUl3F04m25OZ6GdnZ2DRx97nFlcE7f5ElCsWbsa3//eTYjFYpg0aZK3iIYB6uhTgGZnn84VZUvB1u8tFphT4F0MsBfr/hgA2L/2Uuu9ccpUmPO+OWNHxGAEvrnPNGMipzi6hwwdinEnn+KJiLVt8uXBi1j/Lpj/Onbu2olvfusqnDh2HLKzrYnB0OEjcNttP8UD9/8Cyz78gFmME4CYduOUm2UsFkdebp7GIVWg9jl4tiwFnK3tohyri3D/UjhPN7xWxcqp/FDRvoo61BjUOXkMcmgJDF5cEJmpMYShTBkDn6LBYDOgtPGIWudAEGI/qKEU9Q31aGpKICcnG/F4lkIbBTVNUGLYPATU1dUBAPLycjnJpqZGNNQ3uA+HYrEYnLp2fqOqr69D5aFDoABOPXUS8vK8Nk0MA31690Hv4/pwW57ch4eKciMAEokEGurrQUGRk5ODWCzuM1ixKZ5vukATJuoa6kEpRW5uDgwjBo+g5XqgIKCmifr6ehAQ5ORmSw/FTNOEmbD+bzIT1rVp2vUCrr2CUjTU18OkJnJyckEM5wlleAwA0NSUQENDAwzDQE5OjnYQdPi7vr4eAEVOdi6IwWwNBAU1KQBqlwWrw/bbTICCwCBE8izZemDldPzNYQBz5kjGuA9ICYMiJQiDHNoi93lBhSgqhqysLJSUlCCRSODZvzyNZ555Ck/+6RmMHn0i58krL7+Exx97BN/+zv/DNdd8G04dclM7QhCLxRSLcRldzIgxcyYVLoLs3Gwc2L/XnmMBNTU1OHTkMAoLC1GQX8DwBpgt9UShkffBeZDghA0bPwMFwbrVaxCLxxEzDHz5xeeYMeNlN+eGTz9151lie3XMPve3Z/HanNmMLeYdU/t+z549OFpf586XWO5zfVZ3U6kceW6Q61qWywxv6DGkzhvNhcHRfexgaI1zV11cdO5rDRhY7kv/3NWeuWk4X2k1Em+oMSS/TV0IfCey2I66iyrrr9TZwMoRN8Fxr6a2Fk/8z2MACAYPGYxTxk8AGG36ghUHJL2MJykWLJX8VFaAEoPTEKDO58Zak2Pfh9kq/yQ9Gikxi1KFVw4EwLvvvovikmKMGjUK2dlZnNz4CaeirKwz1q1dy6ulBqfLumQadQgMnAz7SEqbxa/ZqwdNmRqCfAsbJ9vg/GgDGFQ21BiC61CFAcr+oBrZZP1ffvkFXps9E8NGjMSY0SdiwYL52LRxA2qPHkVpWRlOGncSxp10MmIxj86279iOma++giFDhmLAwEF4+603sX3HNpQUl+AHN98KAGhoqMfixYuwetUnOHz4MOKxGErLOuOkk07GmBPHuovRJUsWY8XyD7FuzSoAFMuXf4jDRw6hpLgDrr7mWiSamvDm/DewZctGnHnWFAwdOkxbIs7d2tWr8MH7S7B37x6YoOjSuQvGjTsZY8edxMixjBmqM7vl9c7Ct7Bjxw5Q00T3Hj0x6fQzGOuCd5RiyZLFWLN6FQ4ePADDMNC1azeMGDGKe73lpf/8H7Zs2WId1EiBF1/4F0rLyjBy5GicNul0V9eqTz7CsmUf4uDBA2hKNKFL5644YdBgjB8/ETk5OaEwNDQ24OOVK7F8xTJUHjyIeDwLXbt1wwmDBuGUUybYD0ysYJomPvnkI6xcuQIH9u8HpSY6deyEUaNPxIknjkVWdjb27t6N2bNnor6+Hv/vhu8hK8vjNgpgz+7deOmlF9CxY0dMm3YuOnfuwpYQ42v4eogWWhtvhLOr8qL1YEg39wWHZDAQQpBfYD3cqzh4kJemQEVFBRoaGtChpETQ6Ok4fKgS816bgwMH9ls/EnAy7LgM1Dc0oLa2hnmgKAQCdOncFZWVlTDtL8TU1lQjkWhEt27dYbh9Tygf7ZZxnvucu4rKCry/ZAkAihUrluHjj1Zg7NiTUF1djVWrPnYlDx44CO5TuKq2457BY1nxapG6+AlzrfZOqdrW6LdUCKprleJ09TlLJgyG1PqcIn+YV8H8HeJstAiGNHMfJ9sGuE/lRdvgb38bqc1dw/U5v1v/BDWGpBbjqs0jztvKJrxDPgDKPVlxyZEC7s9Vom77JXcKE4sXv4stGzchJzsLZ0+egqLCQniHtgkLZG6+yzcL0Qq194wTId3dku7qkzFwOYgfBgIK+xdjF5OjgcFA4NkQMQS+r+M1HeLlAgHQ2NiElSuWwzt5Dti1YweIUBqUGC4qANi0aQOKi4rRpWs3WMMXdTHk5+ehd58+2Gufmi4tMVgMNq6PVqzAr355jyvjtBxCCG763s34/PMtOFRZAYBgw2frUVtT7T7koG5b4kCLJQG2rpVlxWCQxhMRg6othXxvyoogjAqFPieDT3v1xeBLgo6/tiaiFWo1GJxcbndj+4Pt1I7t2/H883/D1Knn4aX/vIC1a1ajru6oZYsYmPvaLNxzz32YMPFUV++enbvwz3/8DSdPmIgDe/bgy21b0dSUQHmvcvzg5luRaGrCn556ErNnvIIj7inAFDEjjtmzX8Xdd/8S4ydY+lYuX4b/+/c/3dJYvmwpVixbim7duuPqa65DU1MjFi16G2+//RbKex5nL8atfieVBQXWrVuDO352GyorK5BIJAAAhmFg1swZuOPn92CSvbAlqnoQlQl1U1V1BPfedQe2fLEFTfb7oLFYDLNnvYqLLr5U0tHY2IBHHv4N3nlnIaqOHEaCUhiUwIgbKC4uwXe/eyMuvOgbIITgtTmzsWHDeksHIZg3bw4Aa3J/2qTTkUg04fl/PIcXX/g3KioOWP6Z1s6BgqIiXHrp5bj++psEF9R97p2338ajv38Yhw8fcre1xmIxFBUV4ZLLrsAVV16F3JxcNDU1Ye5rs/HsM3/C3n37ANOECcCAgRkzX8HVV1+Hyy+/Ao2NTVi86F1s3LgBp546CaNGj3E9IADeW/wu/vmPv2HkqNE499zzbS9UvKGqjTC8IYyXDH+z6Y72zHJfshgE3c3NG2H4uzm5T2EgGe4jhoGiImuhXVlZwTnV1NSEI0cOAyZFn779tBiqq6zXRzZv3mh9YpUQmABisDfEgcA70ZbBJc6jYM0oSsvKsG3bNveX9pqaWjQlEuh1XC8AwNHaWtQerbUfgNq7Ctmth9ycyYt2okzTxOOP/g4VB/dj7LiT8dmnn+K3Dz2IO++6B4MHD8FDDz3mFtXsma/g6aefUpe5HXfJpd/ExFNP5crXGVec8NaCN/HEE7+TvsoTZgxSNFeZjd2mwbfXKPwdps8pd4+FwKAKYTGwVlz1xIuLzhupcp8eg+dF83OfVl/73FXlbRucu8puKfucrCAQQ1KLcfnJAd+ZPM+I99Uw+/RRAzZnU9O5czsgYHdSAhyuOITX570OM2Giz8D+GH/yeBDDknRsxShgGopaYxqgteWcLwjn8BXqoqGu7652d6FLQFUYEIzBsN9lMmA9pLBy8V81j1FYW9vdtipj8KAxjcZjQ6fUmZqhOHq0Frf/9IduHCXWwC4GQr33t6hpYv++PehZ3gsFBQWcRsumgcLCImzZvAmOdY+YRQxW3opDB/Hh0iUAISAmAYjpltMll1yGf//z7/j4448ASpAwm7gDZSy97Ds3cmf2Xsb3I2tVGuVT2EHLxmANCkSoFyjqQWWTvWEHGM8Gj0HrPo9BAdXtfZR49QAGA4Op2TBIZKeuB8L+JWoMsFHMnz8Xubk5mH7ehZh89hQcOVKJWbNnYdmHH+DOO36Cv/7tefTtd7yrj4Jg6ftLUFxcjEsvvwInjjkR+YWFSCQSmDnzVbzyygsgMHDxxd/AlKnnoqa6GnPnzsaiRe/g1lu/jyeffAajx4zBlVdfi8lTz8Hz//gr3nn7LVx1zbcxddp09xUOFq53qKPFfQ6fOOlbtmzCDd+9FiAGTj/9LHz9ggtgxOKYM3sWFr69APf96m78/tE/YPjwEep6gLoerD5fh9tv+xE2bvoMxx3XBxf+18UYMXI01q5ZhRde+Bee/N8npPJf+sFSvPHGPMTicVz2rSsxZco5iMdjePXllzF37iw88cTvMe7kU1BeXo4HHvwttn35Bf74P49jy+eb8Mv7HsTxx/dHx44dAACbN23Ca3Nm4tChg5g6bTouuPAilHbshLcXvoV/Pv93PPOXP+H0M87GwIEnME1Q7nMfLV+Be+7+GbKzszHtnHMxdep0mGYC8+bNxcK338QL//4H+vc/HqeffhYO7N+PmTNewd69+3DxJZfiiiuuRn1dHd56az6e+9tf8fxzf8PXL7wIXbt2xZAhQ7Bx0wa8+cY8jBw12uXQ+vp6LFn8DgBg5IjRKC0t1bZXtk50GHj+9utzwf0hGvfJ5BCEwcvWktyXDH+ztny4j50kpRmDG3y5T4+BreuCwnzkZufgYEUF45R1OGTV4cOgBOh9XG9Gv6ItEYI+ffvjX/96Ed4Mx5Pj5l+ObfthPCjBtu1b8eb8N1BdU4UtmzZh/749eOjB+9HU2ISt277E0ZpqvPzSfzBn1kzU1dfjlPET8Itf3M9wn+m1JZ8xqK6uHi+++G8sXPAGBgwajJ/97C789dmnMX/+XDz0m/tw+8/uxgmDBiE3NxcAUFBY5KpV9TkCEwUF+Sgp7uBbD/kF+YgpKlwag5yJTNA4KhjxXBL7IB/C8YYaQzTe0GCQFAdjEG1Fx5Bu7uN1JsN9fmNQWrlPiyFZ7mv7c1eurlv13FXAoLDh8oYSA0JjSPkAN+eGfQ+HOiTgjAUMHHeqSgjzfTcBqEmxYsUKbNq0AdQgOPOMM9CtW3dOxCJ/Vr8T65G27KjnoecaFVJ4UeuJr0fQRJND/J3dfQgN6/VzR4KVI3Bfr7faI5hKF4rEai9ygxAxOB0zNzcXP7z1NjhPpCgo3nnrLSxbvlTQwDwlNAgKC4uRaGpCQ0MDX3gEoJSisb4BxcUlTG54DzyYunauTxx7Em677Xbr1m2n1r8dO3TEJZd9C2dNngYCYMvnmzFrxqswKF9pImoulQgY/ALbAeXeximWD91g68XHEjc2eN1VzCZjCBmIokk7CToMonNhMXA3ETEodQQFNQY2/1VXXotr/vu7iNtbJYcMG4Hf/Pp+LP3gPTz9pyfxwIOPWP3f7nN5uXm47/6HcPIp410dO3fuxKyZr6Kutg7Xfvt6fPu/r7e3LVMMGTYMsXgcb86fh2ee+TMeHPg7lJaWobCgEB1LOoIC6Na9B/r378/5TdyexgRqpTj1UF9Xh7//7VmYTQmcefbZ+PFPbkenTtbC74SBg9HY2Ih3Fy7A7NkzMHjwEOH9yqB6IHh/yXtYvfpjlJV1wS233oZTxk8AIQaGDh2G/gMG4ud33m7vQvGKOBYjuPDCb6C8Vy987esXutvIr/9/N+KzT9dh85ZN2PDZZ+hZ3gvlPcthgCC/IB8EBL1790H//gM8Dw0Dk04/E1nxOK685jrrk4UALu/2LezcsQ1z5szCihXLMHDgCVoM1VVH8PBDDyAej+P88y/ATd+/GQWFRSAATj5lAvJy8/Dhh+9j86ZNmDBxEioqK7B5y0YU5Bfglh/+GHF7+/m1130HHUo6YtvWraiuqkK3bt1x4rhTMH/+G1i+fBkqKyrQqbQUFMDWrV9i9969IMTA5ClTOY8g+CnxktS0xTzWhY6/pcDxRlTu8+/TvtzH2VBzXyCGpLkvGf4WEtLN39yNGoM6j796LlBnJgIU5BcgLz8fFQcOcofT1tfX49DhQygqLEJJhw7unEm9ado2bxi+7YGrJjfSOhdj7ZpVOHBgP4x4DIOHDMOe3buRlZWNzp07o7y8F3Jzc5Gbm4v8ggIc36+/q89wfPIZg0zTxOefb8GsWTMwd84sdOvREzf/8Mco79ULP7n9TnTs1BGzZ8/EnT/7MU4/8yxcfvkVOK53Hw6tXA/E/h+QFjYK+Iq9SprS8UpIO44qjUTnDX7eF4xBsKIMXlpLYBC0pcx9Dob0cp+KCtLLfVH52ycE8Xf73FXhT5IYomBiMzkYmLgoGFI+wA2Ad0I5m8p8SN21zayeKZMmYqivb8Abr89FdXU1yjp3xvTp53kVyQlL6F3d3A1R3oA99NxZLFLqxBsMBu73Ybi/oNvyHgbPMpVq23sAQJiVuvdbtk+3pPB9AuRicL6jDiA7OxsXXXQpVwy7d+2SFuPs59kICAYMGIgtWzbi0KFKqeckEk3YvXc3ukoPRoilh3hIHD86dOiInuW9tKPH+FMmuvHLl3+IN16fB2qoSZZtL8qgqmthHwtbXpIeJq+SeHWsqYrXEI8fBgpxLE4FQ0RO0WwF8xsoVO1VjUFjUqebqMupS5duuPKab7sLccD6Vv0ZZ5yBj1Yuw7ZtX+JobQ3yCwrcnIOHDsNJzEIcAA4eOIAtn29GVnYOrr7mWub9YYKOHTth6rTpeOvN+di3bw927dyBgSecwCFhX41k0anaK/Wmiti7by+2bfsSJgGmTD3HXYgDQEmHEpx3/tfwzltv4sD+/aiuqkKHjh2DywpePWzetAEJk6J//4EYO+5kEHgnQ44ZMxann34mZtoHIzm6Jkw8DeMnnibpLikpQU5eLkzTxP79+3i+B7hf15wwcOAJGDjwBKkt5eTkorhDB1AQ7Ni+Tc7IYNiyeTMqD1WiuLgEZ02eisKCIlcmHo/h5ltuxc6dl6KoqAgx+8C9ooIiVB4+hKf/8hQuuOBidO/eHbFYHBdfcpnrLwCMHTsWBYWFOHLkMNatX4vTTjsdoBQbP/sUu3fuwPARI3C885BFT8U+/So6f0u5NZOudHGfj5duqo77Qpzj4xqKyn2yrhbmb020h0E971Dyt8bkpk0b8Nzfn8WRQ4dw+EgVampq8N7id/CD72+H89i/sbEJn2/ZjMamRtz8gxtBKdC3bz/8+LbbJZ2EAlVHDmPbtm1g51leW3JmGfYjTmLxXWFhIQCC3r374raf3ommxkYYBoFhGDBiBmKxOGKxuH3SexxZ8SzrZHdCUFdXh2nnno8RI0ahqNg+YV3D39u2fomf3/kTbN+6DSNGjsItt96GQYMHAwByc3Pxne/cgJEjx+C5vz+LxYsW4aqrrnMx6IJTD8/8+Sm8/NILTFkQ+915by528MAB1NfVSfyta4/6F8N88iXBG/w4ykj5tCWRjwnEum5JDHym1LlPj0HrZQtwX3Pwd5ubuyrcbFtzVz1/+81dIwdKUzzAzVt3ce2HWWnCsBfg/GFu4Bo4NQFqUPsgMIpPVn2E5StWgMDATTd9H8UlHQBqn87uKrDeyQYh7ifD3A3QYo2792wC4G3lst/iNr3OpMRgx1NPgftwgFILg0HtDxo5K30K+3tnlqABFQanLDSUFsQklBHTEAexUUotnvLbXQYPG4qlHyzB2jWrMXr0iTAYZZs2bcIXn2/BGO60V8CkCcYmM01h/dBhYOMdP001TL8OytY7d4CNz7Y0PvADYlA98DYUKpT14H9yp4sBALepLCkMAQOPrpxCYFBOHIIwKALLG6J+vllYfW7gwBP4A8DsvMcd1wdZWdk4Wl+Hffv3oU9+Xzgzrh7de0oeVFQeRFNDA4YNH4W8vHzJhX79+oEYBEdrj+LwkSNeqgvbG61cDIB1FgXjmAH7NRc7Y3V1FartMxHuvut2FBQUWVCNZHgAACAASURBVDtobO47UnUY1AD279+Pw4cPe4vxEPXQlEjg8y8+B4WJ/gMGcgeUWfkJRo4c5S7GnXgKiqqqKix86y18sHQxvvz8C1RUHsSRI1UAocgy4jCp6VlTtQ27LYECtbW1+OCDJXhv8SJs2rABFYcOorKiAoQSxAiFybwWo+pzFRUH0ZRoQnFxMcrLy4W+RVBUVIxBg7zPKvXo3hPjJ56Kua/NxnPPPovn/voMThg0BGdPnoKp06ajrKzMPeytQ8dOmDr1HPzz+b/j449WYMKEU5FIJLBm7Ro0Njbhyquv9Q4BVPUHqFp8NN7wmxAF8bcuROE+ta4UMKSb+9oMf6fOfYcrD2H9+rWoPFABSgAjZqDmaA3WrVkNbj5jhzWrV1m6TVNdTsRAxYGDuOzSCyz/7S1r1lt6VjqQsDnJYqjr/vs7+M71N4AQguzsbPTs2RMA8Nlnn+LZZ/6M+qN1zIzH4T3vnlDvu93Wwy+Zv53rPn37oX//EzBu7Mm4/rs3oqSkg6WbUpimiXhWFk4ZPwHjxp2Mw1WHUFbaGdSkiBvWSfHulnpGazwWR05uLrbv2IbtO7fZczHraxsEBrKzs2AQ9yOTyMrOQjw7Wzl3VdanJpmdM6VjHA3ucwoHI/BGyhhU/rUW7vPDEKgrfdzXHPzdOrjPBwNCzvt8MRwbc1ffoMCQ2jZ1sSKpLMTQuPvDOAGYxTmxANj31VXVeOp/nwRAMXjoEJx22iQQWITvZoHV5JzJrxVlesDYRTWx5NQ84GyCpa6sVEmhMFiFYX3v0rp3rx15KmOwa8QeQKx79bvBdtPQ8LEjV11djYpDFWhqbERjQyPq6o7i0OFDqDtah5NOPgXOr3QsgXklaLHJxf91CV7+zwtY+PYCjJ9wKgYOOAEgwK5dO/GXp/6IwsIiTDj1NM4H4rwcK2Hg31GiIDDNBBobG1FfX4/a2locOXIY5b16MZ9LAfdrvQqvb2cmYCYbiky6w0CE90Z0NryntAGMq1TAlbYGA2ztSWAQtKq5KEMY3AgZgxtHmWJ2MGhHDebO/qegoICZDBLXSm5eLgyDwGwyrc+XMX1UhaGpsQkUBIVFRVD1ubzcXIA4n/JKeIiog4kK5WSjZN8Xh9MlvP6WaEqANiVAKMHxx/dHXn6+9QCSUFeOUqBr126I/X/2zjvOi+L+/6/5fK5XrnKAwlGUoiZBUESMsSUaNX6xxhg1Gk0ssaTYG2DXaDSa6C8mJrHFrtHYULGLDUHp0qUeRe64zt19dn5/7O7s1C2fz+fuPuDNQ7ndnZn3vJ9TXjuzny1Zcc6+yiC/MKarqxNdXV0gFkFhQQE77uoGBVDovADTk2qKWZ99gj/efivWrluD6qpqlFdUoKy8HDnZOVi0eCFaWlpFF6iNS6jcTgTLli/FXXfchtmzP0d5eQWqqqsweHAtdhu+G9auX4f169aK77uUGAgIOju7AAuIx2Ls0QE/7SsoLMCFF/4Oe+yxFz744F3U1dVhzdrV+Otf/oxHHvoXTjjxZPzizF/an1cDcPQxk/HUk49j2ZKlaKivRywew2effYKaAYOw/8QD1AIi6UZy+i0c9zmT94z2mSYhAdOTdGkfSVL7gvQ7zdqn2uZjwjGMHTcOjzz6lOHb4NwMn48m3qf5eIbi4hL86PAf4zvf/a43PyHA0iVL8OWXs7HvhP0wePAQ9iux/Ydijz32BBF/zmMFUouiM9EplMXmNwAoYkgkOrFixXI0NTaisbFRuNtHV43Tpt2EeFbMXlhTYN3atVi4YD4WLVyALd9sQUOD/cLG0tJSlJWVY/jwEcjJzcX5F1yM740d67hHGMNxJ5yII4/+iXBaaKivx1m/PA0VFVW44cZbUV3Tn/PDfoQvuK19ojXnIN9MIfS7O3VDG80zkACGHUj7jJnSoX07hH6by9gZ5q4pjTmBgXNK46yOIercVQkBDGm5Td3dcc8b7PxBCYjzwi6278i58AyGe4szBV559WWsWrUCeXl5OOYnxyA7K4ubDMN+2Zl7StA44Z6EvPWueQLB/3jNWxEYALjXqGUG2zBRM9sFC2VRoY64hO5x15ZbuMRmYuCTPvH4o5g+/RV0ddrPfHdsb0d9Qz3a2zvw7HMvaPN7p1Y7lFdW4oQTfoqHH/oXbr5xKvabOAl5uXn4+OMPMXfulzjssMOxxxjx003UqXSBwanZL76Yg9tuvRGtrW2wrAQSiQS6urqwvb0dLa2taGrchiuvvBbf23tvdZKj8VasCX64EO1RKcogBBAbXmvETiQ3ueyfEGlQLvGQyMD3vcgMsjnZHeLKTDcwEJXBS+d1fpYvCoMz5lauXCHphv1nY91GdHYmkJeXi6qqKrDJpIGhpKQEBBRLl34lRjib6zdsALWAnNxce8HMOcYvrn0DGwPeBDY3Lw85eXmwCMUvzjxbeEmb64BFLWRnZaO4uFiMkttB6hy5ObnoX10NxICVq1aycc23w/Jly4TJdEtrC5599hmsXr0K+02chF/+8lcor6hAbm4uYrEYrrjsD1i8UPyMoTvTFy6YEaAr0YV33p6B2XNmY8jQobjk0itQXd0feXl5yMrKwoMPPoDnnn4Suvrmd0pKSxCLx9De3o7NmzejvKLSV/sAipLSUkw+9nj86PAfo65uA9atXYtPPpmJl19+EY89+jDGjRuHcfvYn2irHVKLcePGYf68eair24CG+nqsX7cWp552hn3rrVqAs+2jG/xOEvrtN8XxQk9pH0mP9hnS+DGkpH0B+t172mdmyMrKUr677cvg43ppaSlOPe10JdVzTz+JL7+cg6OO+gl+dMSRhtziBJmCYMSI3XDVNVNgWQlDHjs0Nzfh1ltuwpzZs7xS+Umn5HQ8O4vtzp49C/feexdWrliBrKxs7LHnHigtKUU8HkNLSys+mvkBnn/+aewycFccdcxk7DLIfpM7L/+5uXnIzc0TfLISFkBiiMdjKC4pRr/Sfr4MpioxvVxLPgeF6flB+q3b9Lv4FeocpC3YWYrwDJpUYmFEn+jbpn2G7JnFYHKn5+auSrowDLI5g35rnDAYUHdFd7iCJO0zMbD9IAZdfgQzRFyMU+7TY+oQd19a7vpjP0vuPXvtTUvF7kdgf2t748aNmP7aayAAdtt9JMaOGw/7SrmdisYoKOVvLme5BT/sI87NWcQCpTHOL+8Sh0Xs26zcxrHEVN60lRAtgxuI8yY9N4nu4g9jIDoGKaFEo6ttvh0KC4sxeNch6OroRH19A/r164eBVdUoKytHbW0thtQORWFxCfNdv+h1aw449bRfoKWlFc8+9TiWLPkKIARWIoGJEyfh0suvQlFxseK7fQGE72j21Gf9+jX47/Pr7JK5gktKSlBbOxz77jsBJWVlrGy77bxnXflaUHuw0t3BdXchp25cKrUqDDhdSv92UEoO1gXlKOlGBuNV3wAG4yRZYfBGn6oOBn81rqoM9hJ42dKvsHrVSgypHcrSdnV14csvZqO9vR2lpf1QVl7BrMWcHgWJobyiEtU1A7GxbgMWLVqI0aPHCB7Nnj0LFk2gtLQU1dX93Vri/JNPSZ4Cidrn9lr7b2VlJcrKykBWAmvXrMbBBx8q2Ons7ET9N9+AZgEk5o0BUzsIJz9CMHzE7oiTOFavXoktmzc5FyYIsz3jzdfgXhWkALZs2YK69esQQwyn/Px07PXd7zF7a9euQUtrCyxpLPIt1dLcwrY7tndgyVeLYVkWzj7rHIwf730vvbGxEVudW3F5fdX1qdohtcjPzcO2xm1YuGA+Ro4caZ9DnDBn9ud46N//xLhx4/HTU04FqP3iqfy8AuQXFGDYsOEYNmw4JkzYDx0dHXjhhefx8aefsMU4IQQ/OeY4fPLxx/h89iwsXDAfhUVFmDBhoteLNfrNB792SItuSBYgpdEUBNWS6oUvQ7q1T1u+P8OOrX0ig87L5LQvNQb7vMy9r8aXwdPvb7ZswauvvoTGxkaRQZoztbS2YI3zHghe+/STTo+hob4eV191GVpamnHST0/BaaefiYKCAm++Rym6urrw7rvv4Ibrr8Hj/3kEI4aPwP4HqO+3kOsDAAixlON+c1fZVfMLu8yvQjP+cIlg/dbk0PYlP4bwusEziL3GV/uCGDJE+3iGHUX7/CztaHNXXc7M12+/uWs0/ZbjwzJEXIx7t2rID7oT2JNf99vadjTlPHKrhN/1IK2EhQ8//ADr1q5BLCuOA79/IPpXVXOAFmIWgeX8Mu7+qq1/kQpXgTQmTVq954cI95I5EMu5DVWudCrXqsLArdMB4nxCXbbix2AsgnktWRPb4dDDDsOhh/3Qc8A1qhUA6Zh0ay0okJdfgIsv/h1OPOmn+GrxInR0dGDkqNGorR0q3dLmdTDCTvd2mDBhIv72j3+hq7MTWdnZyM3JRU5uLnJzc5CXly/+IkDtf+zJgwX2gjvd+dw3eAzeyVQ3SbUTEALwBZnLCdcO4i0oSD+DNOaSY5D7t2dD7v2uaRKagYh/XQZO2VXdEMXQXA6FRYE//OEiTJ16M2oGDkCiqwufz/oMr7/+GuIEOOjQQ513HNj90LLvp1YY+vfvjwkTJuCVl/6HaVOuwZVXXYdddt0FVsLC3Hlf4PnnngG1KPbddyL6V1cLMg0AxKKCXwRwbtumYg1QkaWsrBwTJk7CnC/m4Jmnn0R1/xqMHbs38nLzUN9Qj0ce+hdefvkFHHTwYbjyymtRUloq2pLaQa6nvb7zXZSW98NXixfj3/98ECeedDJK+pWiubEJjz32MFasWO6doChQVFSE4tJSWCSB+fO+RO2QWuTl56G+vh5PP/UE1q5ZDQJLEKes7Czk5OYCBHhrxpsYMHAgSkv7ISueher+NYgRYPacWRiz554oKixCa1sr3nxzOj759EPELDDNJwDa2trwt/v/gm3btuHX55yPAQMHYsCAQTjwkEPw/LNP44knHkP//jXYbeRIxEkMa9aswWWX/g7b29sw6YDvIysWx6uvvoSbb5qGIbW1uOHG21Bd3R/xrDg2bdyIDevXgwAYN3a8UE9j9tgDg2uH4JWX/4dVK1di7N7jMLi2luuvYn+UumFgO3ghqm444yEtuuExKDYopDG/A2ifDJBW7VOnW+G0T3dUx+DEcIVPn/4Kvlq0iH03ms/HBpz7IwDx6sG1GwOw97jxGLPHXnh7xhvo7OpkZVGusLmzZ4OA4KOZH6Chvl7g51Xs+BNPQnaW9yLLDXUb8OzTT6KpuRmDd93VS8s+xwS3y6KsXxnK+vVjn3oM0w7Lli/F9vZWDB82Aqf/4pcoKSnxGJ2/2dnZOOKIH2P5kiV45NF/4+uvV2L/SQeAAli4cD6WLlmimqdAS0sLOju60LCtAa++/BLKKiqceQv1wIn9g8+YMXtw56dofYkFJ5tJN8Lqt1qGfLdIGN0wjHkjA9fvMkb7wjBoytLod89qXzr1O93a11v6zZeRKkMPzl2h1n7yc1dDDAVAPIbkX+BG1B3va93eUcpKZaWzTf6J0m2NDZjx5uto396OQYMG2Z+YiRHAcvMQ4ZcVC86ilz+j+LjJPOAzEC5C7fIaBnfPWUZLDO5El3KpWRb7DKkwsDQBwZhEMECUY1SJFRcSymuRiZMuFsPAQYMwaNAuPs54F13kZsjPz0ct9wumb5AZpHOB4dRgjiX8EV1OomGI4KoxQvXD89LvpjMTg9f31cJFhihBf741nF6TYeDctt/toLcn7vgzEBCMGjUadRvrcO3Vl2FwbS06tndgxYrl2LatAccdfxImTz7es0Vt8aRKX6IoLi7GqaedgXVr12L27M9x3bVXYujQoejq6sSKFStQv/UbHDv5eJx2+hnOL9RUdkbdIfqRQLktQghOOOGn+GbLFjz95H9w95/+iKFDh6G4pATr1q3FqpUrUFFRhWOPPcFeiPOX+EOMh912H4lLLrkCN904Df978XnMmzsHldX9sWXzJqxcuQIHfP9gvP/e28xev35l2Gf8vpgzZxYeeehfmPXZpyguLcHGujo0NzcjLy8PLS0t3FVy6rxYbTBmz/4cL734PJYuWYwjjjwak489HuPH74M335iO5559GkuWfIWKikpsq6/HmjWr0a+0DBtaWoUusn7dWjzxxGMAgJGjRuPkn/0cIMD551+I7e3b8dL//otbbpqG2mHDEI/FsXLlcjQ1NWH/SQdg/0kHIBaPYeze4zFmzJ6YP38urr7yMgwbNgxZOdlYveprLF68EOPG7YPvus+aOiWXlZVh7Nhx+O/zzyIrHsdee34HleWVwpAyakJoXTJm00To9DtMGcloH3+4p7QvGQZJ+9QEQV6ZXQ3TuNKuXvv08xpe+wQj3Obqr1fjs08/YY/d8RNHNtOgbhYCd3blfiecgKBmwAAMGDgIjz32MNraWgHYEzuLuj+M2BcHy8rL8cknH+PjTz7WzplisRgmTz7OW4xTz9XRo8fgmuumiZVCqVRV9k5VdTX0Qa3wwsIiADE0NTdh3bo1KC4ewy2KCdO++vp6LFu2FNk52SgsLLKnUpaFDz94H088/iiEGuL0Mk7iaG9rw6OPPgR3zub+UOROyU4//UyMHi2Vq/XWfJTLpqaKqN+6WMNZ2Uc30swQNY1/Nk1EVAYfD3pd+3pCv0k3M6iJU5u76gpPt34bRkkyDMJFiAAGfUS4oGGIthg3LJIopeyN5oB3C7an+S4dERa//NtCZ38+B4sWLQYAnHHGWSgrK3O0zCuQEjgvYxOf2+SWx14x1IsT/OUZKMdgUcSIeiFBz+Cl4hkodwKMwf4Fnp233HOuxMD9kBcqKAyQ2kG6x0iuJ7H97VmDfNybT2jk3ClDnipF7o4aBte++cZY+WTnMqhsfiJlYogcIrUD0WfzZZB/DTczRA7cGAg6eej6gy+DYI8Y+3doBidy5KjRuOyKa3HXXbfjk48/AgDkFxTg5FNOw1ln/Rp5efnMh1g8DgogLp3YXYbBg4dgyrSb8Lf778Xrr0/Hpo11AKEoLS3DL391Lk479RfIy3ft2Tljzq3jvM+U0wIAiMe8F6/x6eHUQ2FhIS644GJUVFbiyScew+zZswAAWVnZOPSwH+HMM3+FwUOGOPUo1oquv/J1Ryhw0MGHIJGwcN9992DJ0q+wZOkSVFf3xyWXXYkB/Qfig/feQSxm54jF4zjp5J8hJy8X/3n4Icye/TkAil0HDcbvL7kUD/37QcyfP59rUIK83HycfvqZyMvLx3+ffwZfzv0CI0fZE9r9J30fv7/kcjxw318xf95cUAClJaW46OLfY+mSr/DkU/+B+0ZkAvt77WPG7Im6jXUYv8++DKiwsAgXXHgxyssr8Owzj2PWZ58CAMrLK3HccSfhV78+h71pvqamBlOvvwl//9v9ePedt7Bq1UoAFIWFxTjllNNw8imnIj8/n6snm2HvvcfjzTfegEUTmDhpEnthnp/2+bVD2JA2/d6htM+QbQfQPi+LqH1iJrP2mRhO+flpOOHEk8IxGBLl5eUjOzsbD/z930yH3B+upWmOOPelqsncvDyFgQJIWBTfbN7CzVXtnG5bx0DsHxUI0N7Witqhw9jXC7xAlPnuiBG7Yb+Jk/DOOzNw1eWX4uBDDsN+E/dHeXk5SDyOpm325wdff/UVLFu+FENqh+F7Y/e273yKx3HKz0/DMZOPk/qST/Vp4ouKilhfFXRUzmtg0BXH350QVb+VDhTAEH3M+TMkq31hx2Gf9u2oDCHnfYL5zNDvVOeu6WZg6TUMhOpf5RnWJACKzZs2IZ4VQ0F+vivThvk3Adiz3OBu76Zg3y3jnHTOG15Wyp0IZBDYC2G7Qi2Axpw8bgxnhjOslsFb0zN4byUnni2eQfJXrDOVobGpGSWlpc5igksnvSUx8GHGgPDhB+9jzuxZOOXU0xHPysK1V12GNWtW4/kXXvWxb2Zww/nnnI2vV6/ClKk3Yt8J+yXNMOuzTzB1yjXYbfeRuOvueyFmVINdSpjhEMygmklHOwT71jMMmrhkGTSuMga5npywaVMdiotLkJ+fr2HwLw6geP+993DpJRfj2GNPwOVXXgNKKeq3bsW2bQ3oX1ODgoJCPwMBDBStrW3YWr8VAEVVZbX4+TRfByNNQ5TJSEdHBzZv3gQQoLKiknsREcWmTZuk5zX9GbKzslBdMxD5ebkAJehKdGLTps2IEaCiskr81JmGwbIS2LJlCwhiqKyqVE7Iup7alehCR/t25ObmKi8/q6//Btu3d6KqqgrxeMzIkLASAKjzSTF1zG3fvh1bNm9Cbm4uyisq2QUOXd1bVgKbN29GVjwbFZXiW51NDF5Uctq3c+vGzsCgiUuD9m3aWIfikhLk5RekwOBfXG/q97y5X2La1GscTQC7o4+4bzKn7vzHzhcDwXe+913cfMsdKCg06LFUdqKrC3/5y5/xwXvvoLGpER2dHejs6ASo/ThMdnY2CouKsOsug3HJZVdiyJDaSAzB9ZGafttR6dMN9v6jSAxhw86gfTsDA5+iT7/NxfWe9oVn0Cfp7OxAw9atKK+o9OZFIRii36YuP8MkOWVawsoeibeuErBsFiDe8uk2CIX7+zfLyn4O517YBgA05hUneUSZLcL5y19CiCl5ZAY7p/t2dQ2DUIZXTzaRaJ8681QvK/H+yn1WuGzj3yF13WXSAd/HJOezZNu3b8ePjzwGTY2NXgKi67i6thaH4DHHHoctmzZi0C67sPhkGAYO3AU/+9mpqKyuVMrQBcL9659Yz6AxpjkQhUF2ojcYqD7eh0G8GhrAoPGPMWg0NphBKtXQDsT1mQKEEJRXVKC8osJgIAoDQUFBgf3yIMWWFHTa53PO0DN4Ce3v+nKPgXAMf7v/r3j55RdZBuWSIqHs84kEQHV1f9xw0234zne/BxAgK56NgQMHhmMAEIvFUV3dPxyDE7LiWcgq1L8NuqysQlMjajuIv6KpYy43NxeDdtnVwCCGWCyO/v1rfLRbZfCiktO+9OiGaiOabmhsBTBoXe5VBr/EqTDAlyFp7SPpYNC5HF2/xXLTo98DB+2Cs399Pra3t0nTUG/+Q5x990hlZSWylQuZZoZ4VhYuvPj3+OnJp2DpkiVoaKhHw7YGWIkESkpKUVraD7W1tagdOhwkRrQm/RiUkC79FqLSoRveHDQ8gz5E0e9UGdT1S3frxo6g32x5lwHaF4Whb+6azrmr8EWvAAb3eKTFOAX0v5hwbyCjhCBG+bd3ioTMJwrQGIX3QhBOGNnP5lIly88qUW6DVwbixbFNYt9K7z015DpBHAvuNg3PAPslUURmgMsg1hPVMBCnEKUv8oVJwPY3D3Ud0K83iXG5ubn48ZFH2VUH+QUIstDI7eDhEQBHHHGkZz1oBPM1KjEMHDQIPz/tdKEMPwb+MCV+n46QGbx9be2lwCBs+zFoyghm4I+bGKJdXVfHdPoZ9PfeiAwGz6S0zKLUX2UzYRjEJIEMwpjjMssqbGSQ4/0Z9tzrO7CoxTG4GqNnKC4pQb9+Zd4xTZvpGTxvIzEIYy75dvAdc4EMwdoXnSGa9kVjCK8bOnYzg2Z6YGQAy9Br2qezmhbt62H9DsGgf1IxhH77A0gM/PH0aF9FRQWOOOLHGgZunBgZwmtfjBDU1AxATc0As4MG2TMxhNe+JPU7Tdrn2dOcqzNY+/jYaNqHyAy+cT2h3xo/0qp9AoMpraTfmaB9Bt3g0yatfZk0dw3BoIsxe27WjUiLcSKAEHYUIO5/AOV+vyGA+51v95jrgkXgvb3cioGfaFIKdjsUmOsExPkeuTu5d8zza2qvEG4zRgGLEvvOdco1FCdVlMTsO81BQzEA7o/4EoOT0GZwDfgzgK9KKQiDjNWzrh2EFtKYMpwYiesd22FpKSDdlkV0f8RtHQPxYdBYUicYURgQjkFbcnIM9r8RGWQhgInBGb7KmPNj0ItZMINoNSoDTAzu2NYw6Por4f4FgKKiYgwbvhv6V/f32ppjME87/BhElCAGs/aFY+CDnoErkgLHHncCjj3uBNGNZEIggx2XNIO3ozCYdIMPfmNOMAjb5+5nSLP2uYej6Ld2+KZR+9Ko30lpn2wfJoZktC+zGEhSDH5t7ccgWt0htS8NDKrBbmLwdsQipTGXMgOQUdqndT1d2qc11Yv67TPmdJb65q4eQ9LalxSDaDVdc1c/BvOY04eguWvkT5sZS6S2WaFiqPCHTwrh2XJi8blscHYLurswpu6uYMct1zEHaROAvfD3MngMlDssfOZMdlZ3nDE4r3BzGVwf/Bg4XN4HXdH6QebToSI+Vy50Kymb6eUFqnPmEMig8ymdDH5FpYlBZyJZBvuCjRjjyyD7FyZNWIYAm75lcZmJX3/V+SeFsXuPw2OPP+3jXPcz+Is4lyeEbb8Tp27MZTSDxl46dCOwsJ1B+7qbwVCG6pw59KT2qQwB2keVtZApWfoZDGNUN+bSod+CiT7tCwyZpH3JMhgL82GIZnYn1r6+uauarJv1e2ecu/oxmHVDX3oQg/zi6oCgX5nya9wYiH5lCcB5yhoE3vKUOcSe5WEJZH+N7ojb8he+daNUDZZQXDCDVyhhMaEZ+NshqBotW1aD3jm7HUhQMiHCaxFNkBmEOPmqiL4UxTJVNjS2ozE4mcz2UmBwLQvRaWOQo33eY6obc84WMaThD5oZQobQDLqW8NENZ8tfPOX+Gs6nEOaMh6MzOHlCjzmDL74VEW7MmU1lAENI3TCHHVj7AjIlw+A4ZCwpHdqnt5d+7QuRSNwlqWpfuhl8KPq0TzXxbdO+iAxhY5WjUbVPx7ADaN+3ce7Ka19wOX1z1zDp0z93pYaU/j5FWoyzYpXa8RqCgrJbxuXmsWC/4dzu6JLD/DPikqP2nd2a5WqMO87WxISVIRqz/1IagxxFHF+9z1K4DOoTAy6D6mgwA79wZ0+kOx8ONQ9PtWGF5ueilRoynF34/OrFBWnXKGrcdSHNKBTFjHdSYqAm+0506FcJKgAAIABJREFUCAbfzp8ig5eyOxh4L3xOUhoG+WITFQ9y+Q1tzRi4glJmMOSlsfAMuvxRGPz8cP/1OX+b8+q1Tz/mfPJDzyA5aQgkSQapv4ZiiKAbERlYokCGDNA+Xw8jal83MJi0T3AkRe3rHv3mvYim3+nTvnQyGPK6//SE9vkxuP8mq32+DE66JLUvnH4nq32SDzuM9qlGu037dAxJap/oTwbod5Lal6lzV1k3wuh339xV72M4/Q7SvvTpd6TFuOA0G8D2Z768z5R5typQqaPYD+frrBGxZoSC3GWrJVUGAaVerBtHlIYhwl/C+USECqF2GQIDCclAQjGIv7871qjttNdQcrPyjU24f91oOZ+XX01NlSP6dqBiFOvMui7HdzG+T4RkIN3HQBQG0ba3q14Mic4g26dSNUZhQGQG00m8ZxmU4m0fCOeg0tbJMWi9ksacvMkpgN4HffGqD+lmoIaoNDB4rRTEQNkfjcpojkRh8GzziYIZktQ+LUNY3dBERWKIMOb8GLSp06zfGal90fWbqEd7gUEpXsPQzdqXBINv6AkGKjHo/EtF+5LS73Rqn66onVW/ZZYM1j4fhmi60T0MYbUv8/QbkRmi6MaOpd8BbQ2RIeJt6rwDUi3zDps0iNuJ6cctDK9ethNwlU7BO09Y06maorHHtEWuQpclHIN3QVESAD8GAPxtIN5Xc52FuaFZjR1Hbgdj1/bifL8sL/Q+OSLIt2gMsmxFYfANRgbNcaI9asxvZpBTEB9Xu4chMB3VHu1ZBqW/BpkjYn819F3fKY2xKOI/Flji5Bj4/u3LQPSH/WyHZSCaLbsww5gzMiAUg68XKTNIIRJDWO0LiAxk6H799g1R9Hsn0r6eZgi6uVzP0NPaF8DwbdC+tDCkon1BRe1M+t392tc3d1V3dwb9DkwXeu7K5U83QxTdcL/SFUG/k16Myz/9U9cn91Ztt6OwCHBrUCq8VM21Qrh/2fPXxP4Qt33yo94CmB9fxHkLOnhD3qfJtA1JiDigCLc4D8UA4basMAxuSkKpV2HcgNK/ht9j0LWlrh3sxGJq3rTu3QysrkIF92qGZjhHYCBqCnHfh8HklYlBPW5mMOVOiiFi8MthjAvLoBlzQDoZxHrSuSffykh1iaTA60YQg2eVyB4F2BY9khmEFNoxh5Bjbidj8PWME04+ZYq6wVL0mPZlFoMuZKT2hbLv56dfXHQG5hYXk6z2xZS73Lh8pjFn2k+T9nk+7wC68S3SvlQZwusGwmufO9X19Wxn0W/Vr765azfNXUNqnxcRkiHN2mfyMG264bzPJIr2JbkYd5et3AITBJQQIEak0ojXd5Ti4TziTfhkTmKnYi3q2OfKcCxY7vmQQpzkU68MQrwK4dMQanFe2AtktjyXGKiWQQx6BktigMdARAZ9n+RqmegHtNoO9j6VlMXcySizoBcMHbjT4Z0y/McT8fyKyCCro99AcS2YGMRxxA3adDNQaV/yPwyDPsi/xXCiIDHozRPwziXNQP0YxP7KjnKCJDOwVte1dRIMLDLNDKrPcn/teQZzIT3IYCrCHWMa3YA85nZq7UuOIbz2BTP0mvZxDOnXvugMzC1j2eH12zwPULKx3EHal6n6rfrcp31iaYZ0aWJQy4jIkLT2hdRvbdhZ9Ltv7uqWGkq/Q2of29qJtU/84SmYIcnFuKFqtb2C6reJe8RZBFN9Dr4oypdBpf5u6iScafEFhLpTo344mAWXT2MX5DUVl5N4x1QGJ2VgIb4jTvFUHMB+nUw+KJdD9Mm4Q4QE+SbWSlDa6BOdYJuCG3I9IY0MPv6xHpYKg2ZfZvCdIABIiYF0L4M0cnxsRGEQ06aXQRejY6CalKkxBLgT1rBvTDIMOu3TluWOuaQYFGviVsZon8m23h8hVVIMhvge1D5dqp7SvmAb6dLvqCC9pd+ZoH26lJmsfcnrt2nuqpSVVgbdeZTbj6h9kfU7MPTNXfvmrvr9nXruqrjqz5Dcp82kTcIfMF7BYs1p52EL95iyMBZvp/FuB+MPs4Wts0dNtUwIqHv/vjzKqVg5xMjglibONryLCNwz6+7YERg8gyqD54NfN6PqT/8GX/lyFSuaTSrZMPVUc0FU6Y76vMEMQQPSJ1+QHgVc1ks3Q5Az2uTGscNv9i6DMOZ0yd0hZFpVBFRP4LOYTlsbGbTHTNOqdDDo/DUcU/prCFaDzUAG91DSDLp84RjMk1jZaljtM9jbqbRP40FSDKaQOfqt9tcdQ7/VMUfE5KH02xxSZtAeywTtg9LWVH5eyZxBsdmzDN2lfd5W6vodFKJpX/r1u2/u6ptvB9A+PrHfmNOV6212I0NAbjGmJ+auBt98tC/iYpxoNwVHlItR7iLcqwACwLtJ3AIIFUGol5ItpCHDAnHGS5wXwmkEnFLEYu694DID7xH3HHsQA3E9d9+6zjG4JrkW5V8M4cfgJyXi1S9TO/iLonDZhF1XIMJ5RsxPfbeYVe6QjsF9AEDPQKVrHN3EQKIziOPUPpouBgK1O+oZCLqLgcopxWtNWgavDK6/ahgIoRKDJq2mnnQXeRUG4sMgbaXKoHU80pjj/JD6q+yrvJcSA3pGN1Svxb3IDFLILO3TWE1J++RMmaPf8phLp37L2pd5+h3cX2NSPtlHk37zHvlpX1L6LW31hn7rgq6tRQbZ80zS7x7UvgzWb63VHU6/w+mGaKVv7iozpGPuujNqnzh3JTy9x+Cjfcm/TV0J7rMNXIeTtth3vIVzGHH6g76jxBx79r8W+Jz8L93q1QzOA+VKhFC628xgX2BSGDS/zlO+q+kYvKq1Gdw4iYEvyTAK+BowBmd0CJ4LPUHbvdi2/FfeI8KbBCVHuXbQ+cXXsRrkMnRDEcqxnmCQ21pnXX4Dp8sg9yAuh8GSeExmYL/FpJGB1bSWAXoGv7aWrBt7rEYUuUOK/TAMUsokGeS2CRhzThq/Hqt4RlWrKTMo2sdbisagBJ1udDuDbCkKQ0jt4xjC64bG0YDx4K99slmpJ/m2q7jd3drXm/rdHdrHopLUPlOLBzF0h/b1uH5zKZPXvszTb/9UXhGZq9+aOkmTfmscjdSXfEPQ3LWHtY8v9tunfT0zd1Vu6N8ZtE+yTxGOwT2W/NvUhb+EfQ2MuAthIqYUTmEEIASaB9zdzs8BOS8iZ91EaXHnCgRni0gbYmU5HYFwDMQ+ambQ2AlksMBedOGm1zEQLx8lclNqypaCyOYecHbcSzVcr/AfYj4xgm+arircwcDl55KGZSABE1NdzXQfA3wZiFyvunbQeBeVgcmXkcGtJ0+sozFQNa2RQSd1QQyiScUHPncSDMrRCAyyLapJ7RvvyZq3Q71tHUPy/VXDoKlPjTX/47rJj0k3UmZQjaWkfcKBkNqXTgaT9vn5Kh/XaR/P4GNnh9Bvo7/p1r5k9DuKbuiOBGufnoEvsnf0W+6vkbVPsej+SV37vEPR9FtjTXtc1m9hp9v0WzWWPv3WzJl2IO0z6rePnR1C+4wM4bTPtR+dASF0I6Adely/e077wjOIVoL1WxNCzF0jL8ZdjWLrSUrZi88BeFcq+BambpfyjlMK7nFwrwtR1y2e3LKvrVheAQDlklCCGKcwDMtxllWWBRBCbTuW7TKFa58yUQxk4N6ATizXiobB4qpdZqAig1unXpuJnZUxSOcKpemJF+cphBfB0vP9l2WQ65ZI6aROq/bx6AxIlYEYGURjyTLwQf2afSCDEhuGQfZNzKNnkOrJxMDsyAya1H4ngCgMRM1DxFtZghmomDYUg3MLThCDp+cig3/ZHIN2MuH84zvmDAx+/TUkAwwMim6kkyEZ3fBjAM+Q4dqXYfotGgvJgJAMUvZQDFxE92qfn36nQ/uSYUBq2ielzSjtC8uQhPYlyxBW+9Kq32F1Qw6pah/H0Kd9KTAgCQakyiDrRrr1mw99c1fVTlgGaBnEdDIDkeKDGSIvxrn6cg4Qzks4VyokeN0DAZy/6k0BFmeCGVXK9pLYi2nvoKaXwvaTuotqwucnYseMwEDZR8gjMvBtB6gvlxML5+xw3U8/6rRxis7zfUXjlO2OpJg8g7H8iAx+qVNi0LQXEJLB1yshUyBDUITMIH5/z5AnBQZNpkhVoPVH2pYZdKpPpBuVgpzQlicxyCIZ9IkCfswFMWj98Gfw66++DJq2NoaIDDr9TpaBygwBumEqw8ggHPDXPlW/ozCkQfsyTL/tiGT02xR47UtOv5VMWgY3rjv0W82UfHa1v0bR70jap00bwJAJ2meK3wm0T2EIq31y8NM+/tbkEAx92pcCg1eSySsoDH6pU2Lo/blroBlpO6r2JcUQVvtC29Fsp0X7uAsrxvJU7csKcFsfKJxbuz2fEwkLba3tQkW72/xFEnGd7KSw4D1iTbnbGqRsfHblGKUa4aNiBRPPPiRbUi6RgYq6qDIAsIg3nqIwOAuIttZWbG9vB3E7K3PCZqCUMD94+fV8Fbq4Ui64vJQQ8eoQuyLniA0hHgNnllDqfVNPqCSv7imlHoNkn4KIXMxDPl0KDAROO9jxJFkGeO0nekNTZ+Bqw02nMDi360RmEHqDk887f3idGYTbdv0zf5ZDZLDzcy2q7a88A0DR3taGju0dTDcEBiGEZQDEiCQZ+P7qw0CoV2+MAdKLJzUolKTGoCuD6YZuzOl0gxWjUwt9f1UZ4NRDigxOcZEZKEBjLoNrNQpDWO1zi5UYUtE+jkHWjbTpN6d9Kem3VvvSpN+cJZgYuln7ghn0QdU+grb2Nmzv6AitG1oGIewM2senTZVB7U+8boRj6NO+lBk0Yy4pBgLOct/c1aTfmTl35bXPS9fT+u1paYrax9dTVO0L0G/LsvT+KAy8gySJxTg3GHlSCxY6EtS+9Tz43AYKe/3NukQC3u3hMeqNMbj1Q0EokXWDd8HQIATspWmsAvSp3TKC9M3IAH8Grxwo9dTV1ZkSg1xPYUM6GVSvAhikxgzLIJdhZCBi4nQyeCLr31+jM9hlyCLGp0uWwSuDRmIwDQddGUTLQNDZ1QmgU7Hh3lkSnUFKk0YGL8bcDmEZtOmTZehm7UuZIax+p6obQfodMuzU2gcxotsY0q59VNRvKV0q2ke4rXToRlenqGl67TMz9GlfTzN8C7QvoL2SZfDKST9DWN3IKIa0a5/EQMTEqWufxxB2zEVnCK99yTD0ztxVVwOu/2bdiOmysr4vRTrlRF+MG5zLjmehID+fJXErir0mngIg9rUICkPDUIj5tdvmIZNcED0h3BGFwUmRbobGpmaUlJQiLy9fK6bB+hpGgRVvAaidNaSW+5tPykjyDPJedzCEsxkm087A4J9HzrJpUx2Ki0uQn18QWLpnwLES4I7evfQzRA69wuBrIXrgGSSrSelGUKIdQft0iTJA+6JYCjSfDoadXPs8TctH+hnC6YaPgYiZdgbtyzQGX/fCu5Cy0T79Dgx92hcy087A4J8nHbrR2dWB+vqtoP7eefvOweQ/bUaNO15Q7rnnvjVOxCjvZW58KscyAUehK4v47FLhkHp3ARF8VawrP0WJ30vnraTGoDHKHTLmYMaDgpyG6I+Gadcg8wZ3IlgLUYi6z9o42YJ8GHiNSMqe8aCBIVJZ8jjTF5WSyPgGPQMQxED127xCBTDomZIhjcBgHCPpYNCpS3LB10JUBslq2nRDNa0cyijt0xWXAdrHjnaD9rmhT/t0IVmG1HUjfWFn0L5eZEiH9mlCeO3zK7ObtS8gPuP0O8h8b2sfTbIH9c1dkwzdMXcNU5K6n/xiXLbkDiwiLn8tEO9j82zwUeFdS5RY0iLZHWzuc0H2//ZzJ3ac/e1wVywtMa/FCmNp3MUx/81x4WVzlBvgQQzs+QyegRoYoGcgPAP3AjpmkPfao1CCrvH5uuWrHlSMVwY+lewRPkZIxkyYeixFeAYn1qSlqTFoTWry6dP0DgNflr9/VJMyiEGTSihVjpHbWmAIMOcvonxtBjA4G+EY1Bh9f9WPOb2XpgPpZjCMOaTGoATDOGc8fv1VxxBGN5AcQ7don2IxVe1LUr+d2N7SvszTb74s1SV+pye0j+XYYbQvFf3eObUvNYYdQfvcOSxnZkfQvr65q5YhvPb5p+kpBr21YP8yS/t01vxC+vU7+cW4bJY4W1zh9lKTegtgQuHeXOIuQwkAWHHJnlNlhDovAXCOE3gvsSAWt0CWrmdwt1bamwTekxmUT+nt8wvsIAbqNQFjoOwNdBID9AyUZ+AuLLiBePXk9aiQ15yEuTXfXYhwTBj4FFw9igx2Fq5cLp/xZaHEjyHY7fAM8idMojOYfaAiAyvHh0EqIzkGcUd8SEJ0NhyDfdSPIVQ96RikOBODXwjF4BxNF4O2ZP6W7G8hg2DG7aJ8Gb3KkGbtk0tNQvvCMHSv9kn6nYT2hdZvVk4val9S+o1ABr8yfBmkuDAMvv7qjnXDmDMzfHu1z8ywY2qfv373lvb1zV1Fhp1j7urZFgpSGSRnM0v7BLd1O9qQToa0LMZFn4nUpcQ4/hh10xDxdMUsUMB+ayZlu3a8ncbUd7zR5mqAWxIR4wVnKN9y0RmYl05zkwgM2jYn6iaRjocI6mfjDDYIBH4lLwkppqZyiHoovBU/Bk0Z3E5qDEKlGMqR4/SRqTNErXutQePhMPWkZ9AYNJ6Zkg0mG1RKZWKg+jR+5fQUQ9rbwWR7R2JITzuE1j7hcHjdiMyQdu0zHUqjfstZ0qh9/PlSta3RvqDPRAmBO9+rRZv9C9vW0pxHb1vTDpFDqtpnSONXTsbpRlj9NtnOBAZDGj+DPc4QUfuMctI3d/Wypqp97qEoDK729c1dtWn8DKZrzFGvBowJhJKS+M64aMztUoQ7SrlFv3RVhPeLevG808IpVLiy7S1m1QtVdgOw7uHe/m1x0WJSzwn3ignnTyQGqjJ49twyACBmZCDsCpmm0xr6MWVXIjhrAkMIIxKDfyIAQjvLp0r1xBlUfDQGH4NRGbiiuoVBYzHQYCCDJDLdzuCVp1L5GNQyGCw4bW1mMJhid8dw/dGXQb2AZtpzjJnLl/NoGIx2+ShNGZTqvIzaDiSweM4JLm16dMPMoFrsGd3oHoZvjfb5zKVSZRBOsWnXPr/FM3c4Se0jRDIYqR3A6imy9nkOeIe7Xb8NeXpM+8Lqt6t9YRgyQft8ytoRtI/waXpC+zT2M2ne1y3ax1sLy5CK9qkWzf7w2aPqt5/2pdgOvaR9fInGL5/5zF2TXoxTEIC7ddtdkhN31zHvLqMpYH9Hz4uC22kshgXnmWpnFW0RlocSIl09cC8B2BVvwXu+nImEWxzluii7Xca5MYDZ92x6DCSYgYgMbtGMAS6D+/U8lYEi5tjXTKS54sTD7vKdbwcvg9gXpKW+3G+5W/SFNBoR4C2K18Y4f5JlYI1kvqbEpMzAIJfhDREipk8rAxUZFIsqA80ABs9UeAYi5NeVoWOIccdkBuLDoBgy9lfvCmx3MYA75s/AlxJlzAlXkVNm4P2FstNdumFmUNxiJWaa9olX83tI+3wZ+Pxm3ZCnVL2ifSEYdgbts+QykmJIQvt8GPq0LwpDJmhfdP3ORO3rXgYpf0TtExjSrn0cww6kfSJDb81d/bSv+/U7mm5EZ7DcXDKDz5hLejFOQEVS6iynCX8Vk4J6py0Iz6xYnH9wX37m2oxzkWz2CEqpYJunJUIlyb6CSYz7nTqAgBBLYnCsEe6AHwNVGajMIOURX9XmMfCo2lHAHeZ9FNtBd+rx4jwGsQz+BnvWVThh8Qr3sy+5HsDA77CiQpQRxOClESvTwzHbV6o/NAOJzCCmF8v3ygjHQDXbwQxSfzAxGFAE1wMYlLbR9NfQDFxCHYPoXPoYxHz6MacrRttftQw0eQaNbujOY2nVDYHBoBtRxsO3SPtEBoRkCNY+gYHLEUb7tGX4xXOG06N9PanfIbXPjyHUmDMx6P1Wc0jpM0L7+PQR9NtX+1JgCKl9Yr6w+p1G7cs0/ZZ90DGwze7Sb6TMEKR93mZmzF17X/vknb65a3QGMbWWQTceArQvhdvUiXabKj/1y4PCSefc28+GkjNKCQBYPrVoKp8n4bLLFygFE/yb1bl87vvVAhmgZ4Afg84uFbPKGD41CqUenPpXSzf0bG2M55cxpVJH+hCYRldG4O0iaiCKqegMphrqOQb5VT/hGAwxQgjsDyYGc7fRlqFjCOx5URiMGqDaSZ7BZ/wr+xGMC1lktQ5oa9Upowt6hjTrhvbEHb2/morJdO0LE8IxSDG9pH2msHPqd0jd8AvaMWfQb7+QcdoXhUEfF8xgWLl1o/aZM/m1dRq1L9P0W5u6p/Vbiumbu3JHDPa5sneIuasmpansTJy7moPf3JXoXQzQ70iLcX0TUaEgwk2+FRQL3mPgfFr3Z3LqLHAJPB7uDWe8PfF1aVzPpECMcj645Tkf8GO5vGKMDBR6BkgMrCDAq/VABm4Iym1H5TK4CKOQuLZYd+CPqkkpHyml1p0r5TfNkYCTnsQgRFBN0awMj4E3FYaB8KkphDb1YzAGPwZ0J4MXvyMxuD1Py2Ao3y27exhoOAZNGZEZ5DwG+2pqnzOSpq01OZQykmKIohuKs9F0w2ifK6PbtU92qLcZ0qx9YRiS1m+x6DQzePEZrX1U/D+09vUYQ7Lal4R+IyqDOOZ8GaS4ntA+P/uKQ72tGzuh9vXNXTNc+3wZvPje0z708tyVyxiBIdJinHCdRfBG2qO6ZAAQo+yXavfmVQoAVsyuPMLlYh0yJndVoVSlDAIkiHjjBwVgvykNzotXvEFFoTQB7E+ZGQZszI5wq5LF229iMzMI3yZXVFGpUv0XCBwGQzuond/Q2d0rFEokEf4IZRA5A/WS6nqs1r4TQbTeKgPILcZkJoiBRQUwyJtKGYpP7tDtLgYv3sTglWw8pYhlyCkZgy6P3iE/BuMXM3QMTkSA51xSGp7B2NZQ00oR/gzhx5zehj+D1kYSYy5dDL66IZsQnvuDmCBtDGnWPqX4XmaIpBu9qN8ZoH2Ccc2mUoYcHVX7dAyc/5G0T9HvgBBF+1ieXtI+o/0063c3a5/eRp/28RHp1r6+uSvAM6RT+0Sfel+/vxVzVzdjBO2LeJs63+Fd0+LgopS3SqT+4+0I/DH43NZtcQteMYYbUoKPxpOO4gN17IgslJJQDKqrPgxSYzJzypaeyiyeXj4ip1RcpaYIU0FSb6S6CE2V6OtByyDEyH/hw+ATqJ8NicHtt1EYWFqt2nl/jdWdOoMwkozm9DUuMvjlo5Ft+6bT9letOSnCoBu6QnXqmRYGvzGnddXkmMrgO+b4Tb8xp7EtWAhioEoyP+vRGPhzRCoMXGxk7VMjAodlCtqXDIOSMmn9Dql97tHu0D5jst7R75S0L6Rtsy05UTdpn85gT2pfUH65nEjax+3qZ8gpaJ/WVZNjvaTfXGy69VstKEn97pu7ZqL2CUd7Yu4qp0vj3FXvky5fJsxdRetBDNEW40JHIewvEXb5SqBgn/4iYvkE7ufDCGDBeYYczi/Xnm3vf7nTCe84BwhxLrxQ77l1VoFOo9tvWGOfJaHsalMMXIZgBqYn3CfQqGePwIeBR2Bp1SYTX9mvm7ep7eB5pQuqSlPnthEB1XCiMzPoSswEBtNAlxi4toQQ48/guW86AxCDSIZgQDgGdTeYgZXeLQyiJf2pWW7rcAy8VaGtWVLjmTg9DIL5qAxq+eHHnBOjFGUYIRKDN+aIVE/qmJOKNPjkHY+sGxEZeAup64b++E6rfdoQxBBO+1QG0b6eIb3a1/v6zY3N0LohlyHv7ozaF8BAojMQg22d9okMpjFncDWj9BsBDJmg35mgfQEMSkwmMmS69vkw8KWlQfvkuaubJP0M6dQ+U/BniLYY50/0QeU6GdxFNqUQfx2mMe/b3gTOx70Ay1Nn5a9dPGHHhN/ALXCPStlYyre+nXvPqdtKltuR/WBUBmaXMYBjcD9wFo2Bggj1Q4im4blD2lfzqzlY4K/leI9VEIB7vh6Ez6ueRM32VdvMvpyjOxhgYPA5MZkZDO1ARQZPM2UG/zKo7qjMAAODVnz0DCwLFRmUeiLQ+BRUT954EBmgZ1BMBzPo2tre6SUGpR38QhIMSIZBta1jELtFFP3uXQZt0jTphr2zE2ifkUG1YLYfTfvcv9EYiJkhjPYlwSBrH580Wd1gv+FxX3aJpht92pceBtV2MMOOo329pd87h/btQAzom7vKDCxLJsxdk9JvLksE7Uv+beoCqclBqj+RA9x3uJmfqlmtSbcnS6XG1OsaileycdmGNr3KwJbXRMztdwe7GDQMFKbHHcyuCRsR8gq9LqSq+xQkduwIfgSbNnpAQvU/OT5cQVoGQ1aVwb8Mt0upIQQDfzIOmVNsax+fAo5o3Ync92QGyscYPQjTX9VzVwptHZhJKEizpSbbURhCl5MGhp7SDSHvzqZ9gQw9qX0Btjl3ekK/u0P7XAZC5Glg+vQ7Zd3oNv2WTe9c2hf+PNp72qcvLH36HVCQEPr029e0mr4HtU8t3Odw39w1RAg/d3WPEhJNN5JejFPuL3VN2v8J7sYMrhInhvmqay9nmzIorwxxFMGnVb2TJlv/u3adbd0VbrcMxqBpPO8mc8deAAN/gGcIfgs/1W5qdrV5hXpWgvfkPPvXYNSv04XxI3qMl8I/TRCDeiNPcn6kklfqr0pInoE3F4VBTps6AyIyEC4mrB/SmDMnM/bXoBA0HjKFIbgvB+uGzCCnCdYNzo7OIR+GyLqxM2hfkgzm0FPal5p+c+5oQs/rd6rap/4i0xP6HVI3jCFV/d65tU9miKR9+mTdrhtm/Q6rfZydDNW+jNLv0DFeCpYmQ7Qvet7u0++dce7qrvDUL8T560bSi3HC/WVrYQr7benOyjMmnLTEFTMllC1miXPJxbbhPUXtXkggFA6YZZcBezHP7Gmg+W13OHjPd9teE8c2cYyw29sYA/EYqJlZF4mEAAAgAElEQVQBDgMriXINxjEwZyWGWAzGDqLUHVFjvCBN3Byf3TQrVyzHa6+9gubmJjQ3NeH6adfi/HPP4i8P2C3CX6zQlkWFo1OuuxLnnP0LfPnlF+EYDHYXLlyA8875JW66YRrEttW9lE+0FcRAhL86P3Q34ejT6Y7IeYUJAes7/rZ6mkF+r2U4hqCplpeOZxDpDAw0HAOf1+/dnJ63qTBAqRiZQR1zutbWMbjbERhk3wyBZ9A51C0MEXUjiIFPp3NI0T5KYVkJrqjUdUMty2kNi8KyaPoZ+NK7TfvUqUywbgTrt5tvx9A+8UhU7dMRpcRg0L6W5ma8/dYMLFgwD5RSvPy/F3Hi8cfgk48/MupGV1cXnnvuKZx37tk479xf4rxzz8J5556N88/9Ff7x9/+n8VzHIOu3U04igdbWFjRu24aWlmYkEgmJwc5y1pmnY8p1V6G+fqvCyvNvb2/DmjWr0dTYaOxxM96cjp+eOBmvT3+V8y0cA3dAiN+0aSNmvPk6li9fikQigQf+dh9OPOEYNodJVr/f/+A9nHT8ZLz5+nRQKtycrJD5MTQ1NeGiC8/Hub8+E1u2bEpCv8PqBsfQ2/rNl9Et+i1rXxIMWruebz2j36q9vrmrLlW65q58fPfNXbN8vYsQmBMUcFeelPLOSFXGxVGhwSkotfDNN1vR2tqKfmWlKCkulUuBcs1MqGuznAjxFNIv1lzjpcQgN5iuuzgMVHcFRReCJMMuQ0glZXn11Zfw8EP/xn+eeAaVFZXYvGkT1q1dqy2nubkJy5YuxapVK9HR0YEhtbUYNWoMSktLFcMbN2zEunXr0N7exo598803WLF8Gbq6uuDx8/VAkZdfgL322gtZWdkAgJaWZqxZswa5ufleOiN28OlYTeWWb55KBR2jch0byuDFKXMZ/MvQMwSfuvTpqLStYSAm+5nCoE/jN+b0EbZv69etw8yZH6CgsBA//OHhyM7ODmaI5JtPOkGSkmGQzRBs3foNZn74AZqbm3DscSciNzdXKigdDHotBQjee+9tLF2yBIf98EeorR0amkEXpx9zdkwikcDr019FXV0djjvuBJT26xdIQCkJuDUuBd2Q2lKfqnu0T+dIaAZTU2asfhMuTVCIyGDQvg11G3D91Gtw1NHHYPSYPdDU1Ig1a9agra3NWAYFRV5uPqqqqiBPQr25VHj/AYBSihUrluPtGTOwfsNaNDU2obCoEMNH7IZDDjkMgwbtImRZs2Y1cnOzncW6On7ddpg/bx6mTrkavzzr1zju+BOVdATA5s3f4OuvV2Fb4zatb2EZ+DD3yy8wZcrVOOec81FbOwz1W7dizerV2N7erqRNJBJYsmQxvl71NbZta0BNzQAMGzYMu+w6mD0z64a21hasXrMKzS3NjKG9vR3z589DZ0eH3Bws5OTmYLcRu6Ok1G6fjo7tWLduLTq3d6CzK6FmkDiT1W9dnJ/2iTFBehCmXK+MzJkz6Tz8tmtfGD9Uq93H0PvzPnVX1jm9LRNDUotxqmlW97VlFotxrkJRwJuFEO9YjEBehba1teKF/76At99+C+3tbUgkupCbnYOaAQPwk8nHYsI++4LE4hKs08AWz8ZPEVXto5QAhLK3o3uW7Jvn2S/hxIcBzjHNStqdeFG3Nti+a4G7rYPAK0MYoM6VAkO/sF9uYGf47LNP8OxTT4I6vseckmOUoKi0CCef/HOMGLGbU5zoLyXqzRHbGhpw331/wcwP38e2xgZQy0JJcTF22WVXXHf9TRg0cBBcS557IsPixQvx57vuQHNjM2iMak9Agwbtij/dfS9KSrKZCfcyCzMkrN8p1BmtUdW4FJS1g5xUYVCEUmwHpXTZJSetO+UwMshlhGXQDm5NO0Bi5RJlEoNwmYaZkMdcNzCEaGt/BtWt8Az2sRUrl+OBv92H6v79ceCBP0BWVnYwg67kZBhICgxc4GM21tXh4Yf/jQ3r1+HwI460F+NpZyCC9rmhs7MTN980DU2Njejo2I7zz78oNIMp6HWDoqW5BXfccRva21pRVlaGycceF8igdAOFwTtrErfkQO0TskZi0Op3T2mf4Hd367eYKK3aZ/DCl8FJN336q3jh+WedOOKMPfsESpy78g457DB8b+ze7IzoppJPppTaF88XLJgHUPuOjcKCQnz/wIMchhjrb1lZWfho5gcAgOzsHOy2+0jnAruZgVLg/ffew/3334PVX69CTc0A7LrrYHzxxWLMePN1zHz/Xdx8+10oK+3HjTmKrq4Etre3Y3v7dsTiBNlZ2ayy3ZJa21qxZctmtLVJi2ClHWRsfX9duXIlHn3kITQ3NSktQwEcd/yJ2G+/iQDc1wzJH7blUlOgs6sLTz35OJ5+6gk0NW1Dx/YOFBQWYsDAgTjv/Aux7777MS11f5ChXIsBQH19Pe6641Zsra+3j7Gv9djeEUpQ2b8Kl112Ffbcay+I7yhS2xokxXOQT/C6t1k3mGv8sQjnIH/tkxk4pyKGHtU+Sb8zQ/u6Sb9186gwDKq3KoMzhnpEv5NiUN3Sjjk5dQiGpBbjpusrXgW4JRN2IzyhFBbsXfuF6WwPBBTbGpvw17/cgzfeeB2UWsjLzUMsloWurg4sX7kSn372KS686CIcddQxiMfjoADiFLBimlbjOiAlkBbqYC9fEU9xFNwN7ax2CQiou15lz5C7WioyuDcpEOfe9xi1rwC7i2P3RMqLf5zCfls766syA9+hvBZlz9AD2LB+Pd559y0UFBQiOydbaJHi4n740Y9+DBDdq/4BQvkX6dn2//nPv+PFF55F7dChOOfc85Gbm4cnH38Mc+fNx+233oTrpt6AivJKcTBJDJ2dndjW0IBddh2Mycce7/nN8RcVFSEvL4/3Rmwo20FvGHCjzuv7RFZuxYb+miYVY/iTlsNAnRNlcDuoQdRpfnLtlWFm0NlzO7SajI0+9+UKHJQ4qe9uBi69Inb6diD8X+LDwBKln8Hz2Y/BTR6Cwe3HAQzUorASnUgkEvYtjWEYYGJQtS8VBupon5ZBMezwUAor0YVEojOAgW++sAx67XNDdnY2Ro/ZE4sWzEPt0GFJM4g+6xskLz8XI4aPwKqvV2L33Ud6+ZLUb754fTtw9cR7qs5aQzO4ZZjaoVu1T2CIoH1C4PWb0w2FAd3DkKJubNu2DStXLof7sF5zSzMSHV0oLS9jadavG4nvjd0bMfY0oTcncTXVZfj661W45qrL0dnZBQKLzUg6trezMnJy87z5F+xfyS+/4moc8P0f+DJs2liHRx/9F9atWY3fXPBbnHjSycjOzkZXVxf++c+/47FH/o3zfn0mHn70CeRk59oOxSjmzv0CJxx3NCwQHHTgQbj6uutRUlIstMOWTZsAABs3bjC2A5tREnN/dcdcQ0M9Zs58H01NjSguKHbazgsTJ07kEAmAmFMG9fqSY5iCYvprr+AfD9wHxOI4/bQzMGz4CLz//tt4ffpruPXmG3DPvfdj18FDWDvAsSi4ZSXQsK0BIASnn34mioqKIAx2CuTn56Fm4ECuHZw7aSgBoWJb68ZKOvSbZwj1O3CgfofUPoHB8XJH0z5Jv+1E35a5q96OwsDhCf3Vb+7KMfUYQ7LzPonBvSgXliHp29Rlf9nz3XBEjldRsCHmSR0h3PfdCJ555mlMnz4dAMUBkw7AIYf9EP1K+2H9hnV48YUXsHTJV/jTnXeisrIa++8/CY5O8eckAY4dpnJdu9LrpqFSjGjO/lyaN8GWToNMxKkTzxYe1LNvxWwbcjoCwHLHI5WGGD+ph8ugdgie4fzfXIQDv38gO60AFCQWQ2lJP1YRVLHAXyUk2LBhA15+6UWMHDUGN954C3bZdTAAYNz48bj6qsuxcP58LJg3Hwf+4CCvzgjsCx5eqWx78JBa/OSYycxL33HrdKIYFVMadI+LFBnM9mFOx9TZYxDPGf7toDgrTD5lW0EMPoGY6pGEZlCcMTEIO0EMkldaG0HBh0G21eMMhjymgjnBNTIw9SDCMeWMFYpB1o1UGPi4IAa1EMLrjKEfRGHw0z7+6K23/BFbtn6Dmuqa0Axm3RDbgU+Xk5OL2++4C+1t7aju39/AIDInpxs6hvRqn24YpVf7TG1tYvAJRv3uBu0Lod9KHtO+FCiAyf93LA4/3L5I3rl9O265+Xp8MWc2HvvPM8jKioNSgpzcbKxbu1aZb+he6Tdo0CD8/pLLQRMJUAJYFsVXixbh2WefdJbyBJOPPQ67jRjJFkPZOTkYPmJ3x7RZN1Z9vQoL5s/D0T+ZjJ+dcir7JTgrKws/PelnWDB/Hj77+CPMmf05Juy3vzPvI6ioqMTYvcchLy8fo0eNRm5uDuR2WLJ0CQCC2bNnoaOjAzk5OZo69HpdGN0gIBg7dhyuvmaq1F8piopLWO3xX8MhRO3Zra0teOP16YhnZWPa9Tdj0gHfBwAc+IODUFVVg4cfehAvv/I/nHvuBUK1Uc8xwc/ioiIcfsSPUV5eIZQjqR3bo5SCEu8ygTmPGtKpfTqr/u0gpg+r3+nVPrN+mxjsXN2gfXqv0qLfbLdX564h5vYKgxRhYpCdC6vfwk565n3+gWPgjkVhSHoxLkqcbJuAvSmcL5tbPVMujgCYMeMNABTDh4/ApZddwZ7D2xvjUVlZhVtvvRn1Wxvw3rvvYP/9J3FeqCcmKu14Y0OsdO4VcIyBUvd4jGPgK9W+ysyYhYsQXsnCepJ6sXY/p1w+wnnGZxJ7jt8VILfU8ooKVNcM0HZ4ftEuHJdug/rfi/9Fe3sbDj/8CAwcOIgdLy+vwHnnXYBf/+oMfPzJTLYYdxk8O1RgCmTQnLRoTC9Q4uWJIFvOjnQfC9EllSM1UhCFwbVlaofIDBo3KbetRJri/ILhVjA/kdX1V24NylkwFGmyTcz1tH37dmxYvx6FRUWoqqoUU0gMnZ2d2LipDl1dFgYNGmjfJimFrs5OWJaF7OxsxGIxtLQ0Y/PmzaiuqkZBYSHztCthYdPGOiS6Ehg0aBBIPC4wWJSic3sHSIzYz34Tgq1bt6Khvh6l/UpRUVGlsIu1plYKpcCmTXVoam5CcXEpqqoqEdM8VuKnG6a+RAC0tbVh48Y6FBYWobKyEvK3Vbu6utDV1YWsrCxkZamnivb2dsRjMWQ5vF5J3vSxYVsDtmzejJLSUlRUVCIeE/23LAudnZ1wf7kDpair24DOri7U1AxANnfrfktLMzZs2IB+/frZd+bE+DKBrOwsVFZWIhYX34hJQUAtC/X1W9HQ0IABNQO4tlUDpRRbNm9Gc3MT+tcMQEFBgaIbBfmFyMvLE7j5dmhqasI3WzbDAkV1ZTWKiouVcqxEAp1dXSCEICcnBxTAN99sRnNzM2r61yAvP19g8NUNrj43b9qIltZW9O/fH4WFRZx/IgOlQFNTIzZv2oiKykqUlvZzLuzbKTs7OpCwLGRlZyMrFlfkwe0f2VlZiPP9wzBxTJd+J619JsGJoN9etH7eoWqfXr+zc3ORk5sLwNa0rKxsxGJxlJSUIJ6VpRvN9r7hc1ll/cpw5JFHAwDqNtbhtVdexuezP0NWVg4mTJiAuV9+iU8//hgFeYU4/MdHYsiQWsRifGuY9Xv116uQSCTwgx8cLI1zoLRfPwwfMQKzPvkIa9aswYT94NQdxeDBQ3DhRb9DZWUVCCGISWN/y5bNeO+dtwBQLFu6BO+9+zYO++Hh2no1BVX77HlWaUkpamoGcBbEenMfRZReuSWkW79+Hb6Y8zkOPvQwthAHAEIIjjzqaLz/3jv477NP46yzzkF2tn1uYS9tk2TY7xdEk367bc3PEFUvufHMjovaF0Y3hGDo+OHnAmKmML9euuu/1Blc3RAz+M77lJJUk8nN+3pD+/rmrv4euPbDzl31FoLmrpEDpSm+wM3xiHDbwgvPiH2rNkDF486mW3/Usp8XJyAYOnQYSsv6ga1cYxQDagaivLQMjfX16OjcDtc4hQUQ5/YDuDdnQVYmrgfwXcERZCchAYVjTpRnnsE5Tj0Dzq1ENjeNUcSo/dQ5W+k7DO6CPCZ44DK4dWGQtCAloVwyvl61b4Yj3h8CCB+ip8C8eV+gqrI/Ro/ZE7F4XMg5bPhwjBw5GmtXfS0ct5DgxoL4q5j9hmPLqSTnbghi13gs5tQVdevQ+Z3Q0mP6DVC+3fm33JvOBP5DN7gdxDI0JrT64P8aEP4krntGxd9/2YGAE4+pnkIw6CYOSTMoTrrjUSxtY10d7r77Trz91hssZWF+Ea645hocdujh9sLMcbarswt//8f9ePyxR+0FMqHIKyjAUUcdgwsu+p3wC81ll/4eM2e+j/vu+ztef+M1vPryS+josDXmvPMvwsk/OwUrVqzA1ClX4+tVKwEAubn5uOii32HycccjHo8DFJg9exYu/e1FGLTrrrj8iqvx8MP/xIfvvQv3dtH99/8+LrviKjZBJG6du++vYJVib82fPw+33DwNy5ctA6EEhFCM2es7uOTSKzFq1GilHYJ1w4vdunUrbpg2BR9/9AFTs/J+FfjD5VfgoIMOsZkA3HbrjXjlpRdx8imn4YKLfifY37B+PY6dfCTG7j0e199wCyqrKr0WJPYLHO+5+y5Mf/1lWAkLhBKM22cfXH3dVAyoGcgcmzf3S1x37ZXYvHETHnn8Kdx4w1QsXrwA1KIYMWJ3XDflegwdNhxPPPEYHvrXg2hutp8FHTV6DO648x5UVlSyc9DU667FjDdfw513/wX773+AXQKlmPvlHNx4wzSsWbMaAEUsFsO+EybiiiuvRU1NDasjCxZmfvABbr/tZmzaXGf3f0pwwEEH4dprr0dJcTEIATo6OvD7316AWbM+w6uvvYky9ksXQVNzM/714AN47rmn0d7mvdDymP87Dhdc+FuUlJSwYzNmvInbbr0JJcXFmHL9Tbjjj7di2VdfsRnBBRf9Fif/7DTE47FA7aOg+OSjj3DrbTdg0/qNsJzzyh5j9sJvLvgtxu69N1tIEQrUbdqAq6+43H7O2DnxjRi2G66dcgN2HzUK29vbceUVf8BHMz/Ez089Axde9FuuL9mbN94wBa+99jIuuOD3OPXU09OjfSH0O2ntS4N+d4f2UWqhYVsDmpob0ZXoQjweh0XtrwMkLMu+0M2Kdc6ulL1ZAJ0dHZjx9ptYuXwFPv7wA3y1bDEICAryCjFlyjQcctiP8OYb03HjDdPw0MMP4qGH/oEhQ4Zi3333w+g99sSBB/6AXbTRMWRnZwME2NbYIFSDy9DU1ASLAmXlZSwyxrWf/H4KwB6Xf77rTjQ0bsM+4yfgqyWLcffdd2DosOEYPmyE0A5sCU91DSVrn9imLoMyF6KWwECYfS/d2jVr0NHRgUmTDlT8r6qqwugxY/DSC0uxZctmDBjgaFrM/hVa+PIuBWLEngNbluXNh/j+QcQeRanT7tSdcWr6ktQOuqmO39SRn/cFzgW0HkQ9B6n+dTuDKX06GELrRvrmrsHa1zd3dbd7c+7q194mhuQW487aksgNKa/9qHeIwNM6AnCLc9v1Hxx4MJ5//ll8PuszzPtyLkaOGoXsnBy0tbbhk08+wtr1a2EB2Hff/R17lH1CzS7De3UcW1RTAMROp9cB9yZRZ4tID5eHZgCAmHNrur1PnJOlWy+EUvuTaXwWtyKpZ0v3fAXrGgY99tJ5it7e3oYH/t99XEqCOXM+B3GYQT0OtzAKYOXyFSgsLkKx+0sO50csFkd5RQXWrF4t+EBojNkTGQjee3sGfrZogWeIvTyP4I933I333n0HX3+9CoTYE/xtDduUX+tlXvNghn3ylwVJGKQGtZRe8qH0GLcvscEWoLhaJ/nalm1zDEiSQSpUr0XpZOCc8mFgxyhXzS6D8azh7W3atBFXXXkpFi2Yh1Ejx6CsogwtLa1YvnQpbrnpBjQ1NeP//u9YxONxbN26FdOmXoNPP/kIVZVVGDBoELKzs7F+3To888yTqKvbgGnX34KCwgKnOizEAPzzwQewYvlyjB41Gp1dnVi0eCEeeuhBrFu7BjPeegPl5eUYO3YcWltasHjJYjzw9/tQ078/Jh34A+FEunXrFtx68w3YWr8Vo8bsBRID6tavx0cffYDbbrkJV151Laqr+zu65EyzqPc+B0opvvxiDm68cSrWrlmN4cOGo7C4BE2N27Bw4QLcfttNuPqaKRg+bDd7ODntEKQb7uFVK1di6pSrsXjxQuy22+6oqqpGS0srVq1ajhumXYe21lYc/ZP/c7ITWJTAsiylmRKWBfFVRd5FOEIJ/nTH7Vi2fAlG7j4KOdk5WL9hPWbPnoXLL/09brzpNgwePIRNrm3pSODuP/0Rra3N2Pt74/HNN5uxfNkSXHPN5Tj44MPwzFNPYNchQ1BQUID169bhq0WLcNGF5+H++//O7qKiSAj9jVoUL7zwHP54+63Izc3G3nvvjdy8PGzZtBmzZ32GC8/7Fe772z9QVd0fIMALzz2HO++8DcVFxdh3/H6Ix+PYULceMz94D+ec/QvcevufMKS2lrWTfQ7y6qS5uQn33nMXXvzvc6isqMJuw0cAIFi/YR1eeOE5NDc24nd/uAxV1dVc+1iob9iKe+6+Ex3bt2PcPuPR0tKCVatW4t577kJzUzPO+tU5yMrK8tW+mR9+gDv/eBu2bNyMwUNrUVJSgsaGbVi8aBGmTrkKv/3dpTjkkEMBQjBr1qe44vJL0NnVgT333BOlpWXYWv8Nvl61Cr85/2zcdvvdGDd+PCZOPACffjQT8+d9ifr6rehXVs7K37atAW/NeBNlJWX4zne+k7z2cQx2snTod/drn2qbj9EzmLQvkbCwsW4DCOwFYGdnJ265cRoat21DR6IT7W3t3PmV98Y2EM/KwmsvvYRVX69EeUUFDj30R5iw70RMnDQJVVV2Xzv8iCOx//6T8O4772DmRx+ibuMGzJz5PjZt2ogJE/ZDYUGRUuEuw9Chw1BcVIKnH38ce+31XQwatAt7DG/evC+xYP48FBQWYOTI0VwdESxcOB8X/+ZcxLOzMG7cPvj1OeejqLAIrW0tePbZp/Hu229j5O4jccnlV+L5Z5/GM08/iZtvnIbzL7gY3/3u9+y7cQiHzV2IMGof3PMSZRQUwPTXXsWSrxaz46tWrYTV1QV3zkQBZd6xYcMGxLPiKC6R7mqhQHZODgqLikAB1G3YwBbjxJ3gSX2JAtiwYT3O/fUv7bFMwfoxAcUZZ56Nzq4uzJ87FwBFS0sz6rduRaHzfLk8brjsrAy/YBoPbox+vuNuR5wzRZi7hmXQ6gbPQLy2Tuu8j2cw+ZUKA4vBDqN936a5axj91hVqyVEcg2nMJbcYl/0g3h9BzihAiPsyEcD+Fda5XZtwzhCKn558MhqbGvH+++/hxhumYo8990JOTg5aW1oxe87nKC4uxtFH/QQHHXQQ49I5QQBv0cvK1Af+x2v3X5eBZ/FeiCIy2IY9BrECRGGnQh1xCd3jvC0Nm4mB8Em5k0lXVwKffvqxVyGwsHnzFt4jidrea25pQmm/Uu+WXt4lQpCTk432tlaVjXvxCNwTEijKK6tw0EEHy0CO6RjWrVuLZUuXAACam5thUW03Zv7Jz4B5don2qMwQeL8/z6AMbvXZE9m/wLOikoIXJ+MNx+EYZBckd9wxF4nBgES4f4MZvM7v9dXwDHNmz8bCBfOwz7774dLLr0JVVTWam5vwzttv4S/33oX33nkLh//oCBQWFWHO57OwcME8VFf3xyWXXYnRo8cgJzsX8xfMxV/+/Ce8//47WLRoAcaN30eoplWrVuCqa6Zg1OjR6OzsxNNPP4XHH3sIL774PMaPn4DfXHgx+vfvj6amJvy/++7F22/PwKzZn9mLca5W6rduRV5ePi659AqMHrMHYrEYli9bhhtvnIrZn3+KF154DmedfQ5ixHnND5tg2n+am5pw/333Yu2a1Zg8+XiccNLJKO3XD9vq6/HYY4/gtVf+hzv/eBv+ev/fvbY06AY/WgjsBeTsObOwfPlSjB49BlOm3YSamgFobmrC2+/MwAP3/xVPPP4Yjjr6GPZrVkx/WvHscwtq1xdKLaxevQrnnnsB9p0wEbk5OVi6bAnuvvOPWL5sGR7/zyO44ILfOhNNL18sFsfUqTdhwMBBWL16Fe695y7MmzsX//nPI/j5qb/A0Ucfg6KiInz5xRe4954/YeXypZg/fy4mHeD9ckWY/ti3yM948w1YiQ789OQzcNJJP0N+QT7WrlmDBx98AO++8zZefvklnHHmWWhtbcUDD9yHvNw8/OKMs3Dk0T9BdlY2Vq1aibvvvB2LFi/EzJkfYMiQWq8+ufqmlOKBv92P/z3/PP5/e9cdZ1Vxtp85t+zdu+wuu8tWQMouHRRFEBAFFKXaxRq7Bo2mmRhji4lRkxhNNMkXE2NiTKwx9lgQBbEgGkTRSFN6b7vAsmy/8/1x2sycmVPuvbt7WXd+P9h7przv+0x5zjvnnJnpX9kf35xzLQYPGQqAYM2ar3DnHT/B+4vexWF9++CKK6+2PmvVANQ3NqK4uBjX//BG9O7dG7X7a/HUk4/juWefxrvvvo1Zp5yGnr16Krlv167d+N39v8HWrZtx3gXfwMwZp6J7QQGqq3dj3ty5ePyxv+ORvz6EiZMmI5FIYO7rr6Ku7gCmnHQyrr32uygsKsKunTvwzL+ewnPPPYN/Pvo3HDVqFI6fOBn3/+YebN22FWvXrsGoUYUW3vfeexdNTU0YPXoMeh92GJLmvjbhb4mQZPjblfuYTD75W8V9O3Zsx57du0ABfLh4MaZMmYKTTp6K+voGVNdU4z8vPa9r4vwN/U/dgTosX/EFjps4CcOqR6C4uAQlpWUIh0JYt3YN1q1Zy3mUJaWlmD5tBqprqlFdXY14Tg5Wr1qJ0WPGWl/EiLxRNWAgzjjzbDz91OO44/ZbMHb8BJSWlWP7tq1Y+PZ8rF+3Dt/73g/tZW1U90DTJ1gAACAASURBVJny8vJxxJFHIjs7jsrKSoTDYezcvRNPPPYPvPrKy4h3i+OKq67GYYf1wZXfvAZZsRiefOIx/OKun2LM6HE45/wLmCMKnRyn5j4Car+bBwGwdu1X+PCjxaYXh9pa81xzwwOiDmloqD+IaDTLsbyJEkCDhnAoDBCKeuZIV9tn5P0/QoHsWBxjx45HTm6O7RBC7w6lpWVYunQJvvxyNQCKltYW7kgzsRt6jzTWImdu3v9OYczJLgL4rv54Q+H3CYM5LRik5qh5I2UMghGdlfvs34ea72pf+PZdjbJiLnHMiSHgZJwyx3bx8uxJLaucwH5FbZSHaIveScvKyjFnztXYtnUbVi7/H+bPf8vKkRWJ4txzL8C555+HSCRq6SNWacpIgxGjv+UmJAFK2bVK9iOOBCEg5hofEGbHcxaPGoMVCNXfbpl+teThj2krNd6IsePHIU9AI6ttth3MVPZpTk5ODh56+FGwz4cf+vMf8dSTjwsTcFsmIQQ9e/ZEY1Mj6g7WOa1JJHCgtg49iksctjsdBX3oDBs+HN+c8y0pOkJC+O73foDWRCsIgKUfL8Ev7vo5KPi1ZayjL0iQ1pdsqMjGpaNWuQEny+neDqxm2fiQD2EiXKlLpopB+dTXDQNRo3disPuaE4PCXompIoZ169aCgqCqagB6GxsKxmIxnHnWbEydNh2apiE7W18DfNzESRh9zFhomoacnBzA2Jhn9JixqBwwEGvWrcVnn32KUUeP5vSfefa5mHDc8dZDsauvvhpPPv4oAIpvXfcdDBmiv/UpLCzC2eeejwUL3sKar75yoItmxXDu+d/ApBOmWOujS0vLcMcdd+Pb112Njz5cjMsuv8pYP2lyDTXaQX/T9Nnny3DkUUfjBzf8GJFIBBRAcY9iXHb5VVi3bg2WfvIxtm/fhrLyCkV7yNuhtbUFu3bsREtzMyp6HWY5urFYDGecORvTps3Uq5zYZ2KIY9GUb9+/hMd5BrdNn3EKTj39TIQNB79HcTGiN0Vx7be+ieXLv0D13hrrzZJp8aWXX4khQ4cBAPLzD8eYMWPx+eefoltODi644CLjE2+Ko0ePwYABA7Fpy2asXr3KnoxT6zEpAGB/7X7sr90HihCGDRuOgsJCAEDVgAH46c/uRGNjo7FhFMXemmrUVO9BcXEJqqoGIC9X/5x88JChuP/3f0RzcwuiWVHLX2PvdxTA1q2bsWD+PGTnZOO88y/C8RMnW2tyS0tLcc+99+OqKy7GvDfm4sJvXIxwWD9POEEI8vLy8I2LL8WwYcNBAeTl5ePsc87FSy89hwMHDmD3nt3o2auX0AZ2u7726n+wYeNaHHvs8bjiijnWV03FxcUoL69Abd0BrF+3Fls2b0JBYRF279mFBE2gT59+KC0vBwFQ0as3vnXdd3HFlXNANA2E6HafeNJJeHPePKxcuRxHHjlKX1pEKV5+8XmEQmGMGHEEuncv4OxJlvvcWDQ9/C2GdHKfeeWfv83+8/xzz6C5pQUA8Kc//R5nzz4HF3zjEgDAmq++xNzXXmE08d7C5i0bcdstP0Zjw0HLnwH0Hb0TIABJwFgZJtxHeU5+/fX5yI5nQ8YbOTlxXHHlHETCEfz1bw/hi+VfIBwKIdFKkV9YgJtvux3Tp8201oTrL0M09OzVC5ddfpW1Znz5F5/j+9+7DvX19cjLz8d9v/k9hgwZCkIIcnK64Yor56B//0r87oHf4LXX/4NTTz9Dt5LYXpf3tMf0ePiHiFdc+U1ccumVVpu+Pf9N/OKuOyy05ltxdkwXFZegvv6gcaa7LZ+AoLmlBQ0N+kuJHj30/UDMejZzsfVLNSC/ez4uuewKFBQWOvoUIRqGDR+BCy68CABQvaca3/72HGM/DQabi/8tv6969Vq+53udIiaOB3V7pMdnkmNw542UMLSZ33eI+a7EKcEZvi6+qzt/ixjEdL8YAk7G7c9NxIXuutuhT4JtSJSxiL8B6Je2cZ8tW4Zf/upubNuyBbn5eSgpLkUkEkF9Qz22b9+Gv/7tIXy6dCluvOUWlBQXW2+1+SeQug5qbjMPgFINFPobiAQAjWgWsZMEtZwrEH1do7PhKLMzuqM6zDuPnm4U1KybByOFAEACWoIgYSw0tzCo5NtULXQqoR1gOof2J+iEAPF4nJOmP8gQOgThu9TAAYPx/gfvY+eO7dYExAx1B+uwcfN6DBsy3Oqe9rs51j01MVNoWgihUNiyUeyO+lnEuh3RrCxAo7A2uDMxSutGFohVGfbAlpGcnoEQO91dj7MdzGt+PAiy0oKBaXVhzCWHQWwHW4bY+9m+5A8D4f+aGNhNSBy8wZOhTM/hRxyBWHYMTzzxTzQ2N2LCsZNQXlGOwsIi5ObmMvIpotEoIuEw9u3fj02bNqC+vgEtzS1oam7E/n17oQE4yDlXOnMNNZxCM2RlZaO4pBStzc0oLS3jrOpVoU+MmpqabAxG1y8sKMDQIUO5jcoIIRg2bDhKS0vx1Vdform52fjs2PjkihrsSYAlS/4LJBLoUViE1atXwRRMKEFtXS3i2dkglGLlihX2OkWXdmB5IxyOoE/fvsiKxbBg3lzcHY9j0gknoqK8HIUFRcjNzYO5Pxyx/smYiZFvEp9x99OI3uZjxhxjTcTNOhh15NHIjsWxY/s21O7bB/TqbeDX8wweNITJr6GosAeikRh69uqDvLw8ayTH43HkdOsGLQE0NZp7iOhczo70osIi9OrVG1+uWol7fnkXNm3aiBGHj0RRUREKCwqRl5dv5S0rK0fPit7YsnUz7v/tr3HGmWdjyJBhKCwsQmGPImRnx1k1MPnbrI2NGzeioaEB3XLzMXjIUG6zKkIIho84HKUlpdiyZTP21uxFbq6uW0sAWfEsHHZYX7B9qaSkBCFNQ3NzM+qFL5HE8P577wGUYMThRyAnHufch7y8fNx0061WXkoTOKxXHywmi/HMv55AU1Mjxo47FsXFxSgsLEI3ZjwRQnDBBZdg/lvz8cnSpTjjjNmIx+NYt3YtduzYjrzcHBwzbpySNzo/98liZRiMFAn3bd68Gc/860kMGjgY2fEcfPrpUrz4wnM486zZCIfD+r4thC3HLP2hQEVFT1x9zbfQ3NwMzu00lC37+GO8Of9NzJg5S3/QJXc0EI5GGCVOfyMrKwtXzbkGs885FytWLEftgVqUlpWhb59+yM83TmthaoCAQiMat/njwEGDMWzE4YjH4rhqzjXo37+/5acRAkSjEUydNgMjjzwKX335pfFlCYyPDr3a2NkOLIasrBiM/fIAqvsdlNg+k/hmnADoVdEToBTr16/DhOOOZ1KAuro6bN++EyFNQ3lpuYXBXrbDWgJ9HxyiIRQK6W/UJUF/MKi/bIpl13ObdUr9PmIjtO5B1o7y/uvJVGAvPVVMXSTjIX0+U3tjYH3XtsDASwiMwbxw1EOX75o+/pbpCMbfolWBMBg+k4kh+Q3ciPPCnICy0zvrxiEYrTs1eonqmmrcd+892LplC/r3q8RlV1yOYcNGIB6Po6amBgvmv4VnnnkaSz9Zggf/+AfceONNyIrFoHHybW3sDUesLm4jD247dUeXl2Awr4yClLs1cm+qLaSEiYC5NlQvk2DzeAQl+ck6GyOU7T92DINSwD1p8ol47fVX8OHiD3DMuPGIZdnngL81by527diJYWePsCSaLS69xwuRSphsJZhrDJjMClpVpxI2RlaSzeDzWB0XaXaC0w4XK+GaSljLFI3MYAgS5PcqRQ/jMLhtasGPbdNscV2tXKdELxOOOHwkLrzwYrz4wnN49pl/4eXnn0dZRQUqKwdg1NGjceKUk1BQUAiAoKGhAfPeeB3vvL0Am7dsQnVNDRrr69HQ2MCYJowBUGOyJfKTfnyP+JRdCxGmVdg7GhDLzrbewPJlQujZsxd27FiCrVu3orKy0uYWRv6uXTtBAbz55ht4992F1ltqQoFWmkBTUyMogK++XI3JJ5woqS3xdsX/HTtuPM6/4CK88vJLePnF5/Dqf15Eec+eqOxfhaNGjcbMWacgJ8d+Y53gsLPTPL0euc+uqO2KVvQ0P1m174gkpGHgoMH4bNlS7KmutqVadWdzjSmTAMjKivBYCNEnjNzdkRiUTK2onJwcXHjhxaivr8fHSz7CA/ffh5x4Dvr264+BgwZj0uQTcMwx46z2uesX9+DBB/+AZZ9+gl/f8wvE4zmorKxCVdUAnDjlJIw6egzYHefZd28HavejtbUVWdEIehTxRxeZtvfu0wc7du7Anj17rLOJQShCobDxNtuuy2gkat82lEHHv3XLJoRDIRQV9RA23XSOKUI0nHf+hag9WIdF77+DRx/9G554/J/o07cvqqoGYOy4YzF16nTrYcLgIUMwaPAQfPbpUtTUVCOenY1lyz5BTU0Nho8YgaqqgW3EfYKgdHKfMjYo90n8Gs5EIV7AsHdvDf704O8RDkcwcfIUjBt/LK7/3nV4/LFH0fuwwzB27HhbPGXHHCyPPTc3D6efcTYOHKjFkiX/RV3dAe7NYNj48iMajSI7O5t74JgTz8GYMWONkwWYnsY5sTyG7gWFOGbseGzZvBmbNm/CB4sWofZALbKyosjLy0dxcTEGVA3EqaefiR7FxYjF7BMBsrJi+NkddyMSCutLVBT3oNLSMpSW2EcGjhgxAlfNuQZDh43w0ZeMWw9VtqpxXBjs9xBMWdZ369WnD0rLyvD6a6/g7NnncFjWrV2D/33+KYaPOMK5plxpGe9JqnPqdwb2RYvc7xMQKvw+X4EZUsqyvse0spgkIVkMyfh9bHRb+H1OruryXQ9t39WNvxUJnkGFIdhkXDFJopQ6JsC8I2E2CGEi7SncsmWfYcNGfYfuc849D8cdN9GSX15ejlNPOw2rVq3AwncWYvnyFdi2bSv69etvKaIg3Lya/apcdLs5/43yGDTifJAgx2DnsnZwh26H+aRVA7NTOCOQEhgbyhlPZAl4Iz2CAwMTv2njRiz/4gscqKtF7f5aVO/ZjdVfrsKe3btxx52/lLS/3uvY+PETjsOAgYPw+muvYNiwEZh5yqkAgIVvL8DDD/8ZvXv1xugxx4hDzdkdmRu6FUUpmpqaUFdXh+rdu7F9x3asXfsVTjp5GsqMt3wUzg9jWTEcBvMJiBgvuRbtsCY5Lvk8g8t4EHeQTQ6D+ERRjSFwUNx53eQpP8cSMXDyiLJ/+8WQ060bLr74csycdSo+WboUixcvwoeL38eCBW9i0aL3sGH9elz3ne8iGs3Cyy89jwcf/AMaGxowcuSROPHEk1BQWITc3Hy8+MIz+PjjJS5YnRgsDmD5mtrxVlsbD7USra3GWyoHWjQ06A8EujGfZ5uizRA11hJPmDgRE4xdfK0PfShBa6IVmkYwcNAgJwax8gUdhALduxfgkkuvwKmnnYGlSz/Gh4sX4a0338DmjRvxweJFWLVqJW77yc94mWz9GArts8T5CTqgc19jQ6NhDm/PgQMHQABkRe11mCZ/y2ymgnx2PLAnLlNq8obd3wghGDpsOG7/6Z3YunULPly8CIsXL8KypZ9gxYr/Yf5bb+LmW3+CiRMnA9A/Sf/Zz3+BjevX4aMPF2PRovfw+efL8Pnny7Dog/fw/e//CJMmn8BRugkvFIpAIwQJmkCTtP2BhvoGUMBaL25jtDEQZhzpB7RRLq+srbPjcezesxNNzU3GaRUubgelKO/ZEz/44Y246BsX4+Ml/8WHH36Ad99diDVffYn3312IDevX4+prrjXqUMOUKSfjdw/ci0Xvv4tZp5yO5cv/h8aGBpxxxmz7SCekm/v883fSIQXu4wsF5+/GxkY8++9/4Z133kF5eU+cPftc5Obm4vaf3Ynvffda/OKun+OWW25HkXlKgeG/OnZwMORXV1fjkb8+hI2bNloJGiVoam0BBcFrr7yMuXNfs/waAOjdsxcGDRqCeDzHlb9ZDLt378YD99+HZcuWoqG+Hq2trWhuaUVII4iEw4hEoygo7IFzzjkPU6fPQNRYVmja2T2/OyiAxR8swqOPPoIWZqzottkL6wztSFAKommoqhqAoRgmQhfaQe8Xe/ftxfLlX6Chvh77a2uxt6YG69euwYqVK3DlVXOsCrX8RPOBISOzsKAQkyZPwb+eehw/++mt+OlP70ZWLAs1NTX49a9/ib179+LmWy/hKszsJ47XExosyWZu/auXeuytqcaOHTuwbt1a9O7dG+PMkyCIMPbT5m9I4plrt3fSMp/J7zhML4bO7Pd1BgyZ4bvK+nQQ3zXdGKz8kkLBJuPCiDYhEPNOYcWqvG/zM3bY83KqrwnVHTygqEcPk5WtCXYslq2f00opmhrrsWfPHvTr1x/UeLVsU5xJgQkAmhGlT3ytRjH9ZsNE61NxQpid0r0w6NNuq1J1r1xXaSjSJ+KCB2+wv9k5KCjM/cqcXcXwwLkebgwUoSFDWgiRSBh/+fODePjhP+mfh4UiCIUIwpEoIuEIWlqauTNKrQ3l2GOVKEUkEsFVV12DX//qbtx55+14/IlHkRPvhpUrlyMajWLWqaejsqqKN0F4u25UIiilmPvqK/hg0buorT0A2tqChIEvrIUQikYQjUYxaNBgezdSmG/j5N2cqw5i3nq9VhWxskyyEZ6UOdS5twMk7WBesp9Np4xBdhcNjEGS5oFBKdScjMkwWJ8eBcGgNtmMSCQoItEIKsorUDGrJ2bOOgX7amrwr2eewiOPPIw33ngNl1x2ObKzW/C//32G+rqDmHnKabjl1tutempsbMLCt980oLN6bSKGgIFbLcFhsFuLMJkJNNTV1WHH9u36w0IGQ319PTZs3IAeRT1QWGjvSm0e9WeG8oqeAChKS8pw2ulnguuHIEgkWpFIUIS0kFB3FJQQqx2k7Ur0o3Wi0QjKyyswc2YFZs6chR/fdCsee+wf+Oejf8Or/3kJ13zrWvToUYJwOARQigO1tfbNxxC9bftWWyilnC0JksDadWvQv7KSa9SDB+uwds1qVJRV6MeBmZNmCgDOfT10eZqeIuU+exJPCHHwBjWOh8rNzcWQIUMxZMgQXHrZlVi9ahV+/7vf4OMlH+Hvf3sYxx8/ycqfn5eLw48YicOPGInLr7wKy7/4Aj+/4yfYsGE93n//HYw/9lgQ2F9GmPzdvaAA4XAUDfX6sqqysjKuHZqaGrFu7RpEwmFrjakZNGNAsZ+92RqIXU9sDTG8UVlVhU0bN2Drpk36ud/MZD+RSGDf3r1oam5CUVERwuEIEokEsmMx9OtfiX79K3H27POwc9cO/N/vf4e35s3Fc889jfMv+Aby8/MASnDEESNRXFKGl198AcccMx4rli9H94JCHD9xEt+/kGbus3MyMW3P30qhLPdZk7jk+PvRv/8Vj/ztIRQUFuHuX/xa3w+BAmPHjsf11/8IDz34f/jJ7TfhF7+8z/KTYGhhGcsUWVpahtt+cgeampqM/AZGavtn1KiLvXurccftt6GhoREJmvDN3/v27cUN138Xa9Z8icIeRTjttLMwbMQIdM/vjsbGRmzZshkL5r+FFSv+hwfuvxeJRAKnnHo6QqGQeYiKVX+1+/dh964daGltFRkYGjT9aD4j1NUdwP59+7Fr5zRnOxgRJvdphCASCePTTz/FNVddCoRCCGkhhEMaQpEIIpEwtu/YjuxYjFvjTcT+BP2h2cwZp+Dzz5Zhwfy38Mkn01DZvwqfLfsEIASzZp2Go448iitjfvnIfcJqdMOtWzbhgnPORlNLE+rrDupHG1H9K59QNIxoNIoZM07BuHETjLKa9UBO1pecY04e7Pol3FCwxel9xW3MmSBkY444yvj3XYPxRmoYDim/rzNgUHBfe/qu7v217XxX9sscqW7JxgbBP1O3hFjTWz5ZNYk1Uq1bCZOtsrLSZDHMff01DBxYhfz8AphT6JUrV2LlihUg0JCVFUOR+RmgMfnVp8bGhm0AYG7YRp0WWTcqa3jr9G8f06P5wACY3dDKys7yKWC/I7frSY/TDK3GzUcD88EA2+AEXHFTh2WG3ZiDhwzBnKuvA6EEoYiGWHYOsrPjyMmJo7CgEIWF+vpI80krgXFjtP6ZnVuXd+yECdBCt+Kdt+dj85bNaG1pwQkn6p9pzpg+E2FjUymraxLWedQ1lJWW4YQTpqDuYD1CGkE4HEE4EkY4HEEkEkE8noOiwkIUl5ZigPGWz3Y1qFW/brcZbji47toh669eI9lfO/BPEkWLg2Jwy+wXA5WnpwuDxD4Lg6jDFwZBqwTDiy88i5qaaowbfyyGDB4GECC/oACXXnYlnn7qCTQ1NqK5qRmhUAj79tWCgmLs2PHcJ8WrV6/C2rVfGXZSRi9lrOExsA/tjIqy6s16vMcYnoB+XvCCBW/p63dz9E3lmptb8Ng/HsXBA7U44vAj7LWAxLj5mTooMHbcOPzj0UfwwaJ3sXLFqda6SYBg3759ePON17Fr1y7MmHWKfjwYU3te7dDc3Iz5b83Dli2bMHrMOIwYcTgAgnh2DqZNnY758+Zh/Ya12L9/P3r0KLEeKOzYuQP79u1F9+4FINDf6r3+2iuGDmbcWV2IYt4br2PkyCONiSdBY2MjHvvHPwAAJeVl+hpwpptStDLmmhh0gkqAH9vsUiOR3e1Hr8CWrVvw9oK30NLUjFPPOBOFBfrygQEDB2LsuGPxydKlqKs7gESiFevWrcPCt+ejsKAQEyefiMLCQmhaCMNHjMCECROxYcMGNDU2oqWlBeFwxKBOYt1qKiur0L17PrZu3YKFCxZg4MBB+htHCjQ3N+Hhv/wZdQfrMPKIo/RP0im1LDYnSWzfp6DW57QsPdRU78GXq1fjsMP6oLxCf4A5c+YpWDD/Tbzz3juYMnU6hgwZarX/2rVrcM+v7saB2lr88U8PI5FI4O0Fb2Hv3mpMmjwF/ftXAgQoKSnFCVNOwuLF74MmEqg/eBD5+fkAAXr16o2BAwfh/ffewetzX8W6tWtw0SWXIRJm3Qen854Z3JdG/uaTUsJAQHD06GNw5VXXoGrgQA7DaaefiXg8jtLSMuTl5tm8yPozAob6+np8vPRj1FTvYWyhhoNhOSmgoGhqaEBTS5PhM/nn7zffnIcVq5ZjwrHH4Uc/vgUlxaUO6Keedgbmv/UGbr/tFsyfPw/HT5yEwsIiHgMBjp80GUePOYbZF5cafpBoBMWLLzyHP//p/+yxLrlXmxjKKypwycWXo76hHqFQCFlZ2YjHs5EdjyM/rzuKigpRXFKK995dCNFR18ccL3nAoEG4+dbb8ey//4VtW7fgwIEDOHbCRAwcNAinn3EWuhkbPZoyCLX7vmlbTk43TJx4AvYfqIVGiOEDhREJRxAKh/UHdMUlKC4uRr/+/bm21k8kZ+0U/W8+qJuP66lCEl8PjsZixhLv94ny/I05L18tEAbBdw2KQdaXgmNIlfu6fFc1fyN9GCT2+eU+OQZBq4UB/IleHhjM+ECTcQpInsJRsDuQUUKgUXN/YCc2yyYKUE13Qo4efTQGDR6I1StX4e2352Pzlk0YN248CgoKsXnzJrz/3jvYtm0bQIHRo8egl7GjMiy1rDPDKGF/En0NTgL2s2Xm+0/bIQKVYOCRsPWaMJ5uikcUUSK2huH2C2/CCGWiJG+0nJ3DPLfR7oBVVQP1tXuMnc66t2rKNsscR4QvFQqFcOyxx2HU0aNxoLYWiUQC3brlIicnrhcyuMPWQZAwbh5m5ICBg/Cd7/0ANKEPFi2kQdNC0DRdPojG2GfPRqx2kPKTerQ4q845MHldznqyfnuxENsrXAjZFYNEh/1QQ4WBjVdhsLdPdA8yDLZMdwxq82QYuDXjCgx8Co9h44YNeOrJf+KNN+bim9+8GgMHDcLBg/V44rFHcfDgARx55NHIzctDNBJBz176WuVHHnkIiUQreh92GNavW4cnn3wcmzZuZPTaZojmmRhM3rCgOioiAe47JkKQaGnB3Lmvoqm5GZMnTYamhfDOO2/jtVf/g7z8fEybMQtaiFnCwhA4CFBVNQhTp03Hyy+9gFtuvgGzzzkfQ4eNQP3Bg3j++X/jw8WLkB2L47wLvsEa7JM3gNWrV+Hxxx7Fyy+/iG9967sYOmwYGhoO4qknnsS2bVvQt1+lsZkYMHDwEFBQfP7ZMvz9kb9i2rQZaGhsxLw35uKteXMtTrW4xaJAgsUfvI/77v0VTj55GuLxON595x28/uoriMVimDjpRBQV9WBpGjA22nT2fr53c9xn3wFh3QOMdgCA5sZGvP7qK/jqq9VY/eVqnHPOeajo2ROrVq3E3NdfQaK1BZNPnIJQKAxN0/CXvzyI7GgWVn/5JWbOOgUlJSVY+vESLFw4H5FIGFUDBiI7FkdzS7Oh3t7cMz8/D9d953rcfNOP8PJLz6O+4aC13Oq9997Fyy89j+4FBThr9mzEsrMtG223nRkPemezNhQ10xsbGvH0k0/g5ZdfRO9ePXHfA39Et3gORh8zFtOnz8Rrr72Cn9z2Y5wz+zxUVg3Eho3r8fxzz2L1qhU46aSpyM/Px759e/H2gvn470cf4MOPPsIlF12KAQMHYfOWzXjhuWdwoPYARh51FHMWur67+5FHHoWPPvwATz/1GLKzYzh+4mS4OaPB+Ttd3OeqhpOdHPcx/O0Dg3ylIsXFl16G/fv2618CcikEWVlRTJ9xCkKahjVrvpRiYR9CEUKwf/8+vPjCv7F2zRoMHToc1ssJar9JpEzpvv0qUVZWhuzsbF6uC4ZtWzaDEILKygH6+eWSbzjD4TAmnXAS6G03Y/++/cYml07b9Q3VshzlxZyA/rDQQKrKYoWSklKcNftciUbnQgOKBFeWEiKs09b/r6yswvevvwG1tTqeeLa+gaR+FBzL/7A+d2d15+fn47pvfx8JmtB9IU1DKKSBaCGENE1/OCvhbyvKeHPC+30ulcDFKgYDZdvazCN2ePfxwM0vVM6+zBo33pAGhAa03AAAIABJREFUNwwSv88Hhg7z+2RSu3xX43cG+q4K/ub1sSletksMMP4EmowTrjGIFWsyh/7Ajjm+zBzfjPmmCQkCy9mIx7rhV7+6D/fe+0t8uPhDrFy5EquWr4R+yLuGkAZEolk4/9zzcclll4EQa3Wg9fkTFfsB81OjQIJqoBq1nlzqdjE7bhLN+NKcSjAQBwbA2IDNTEsYT6CNjJSa9yq9fvRoAmLkMR1Xzp90u9cwBsnbgWshiShJp7LmA0aKxQr6JxuxWDays7KVJGtHJ0A0ykWGQiH9zZAUAxdr/SUGPsoLdyp2wmAwgKtUCtFn4GXIhrK0HQiLwejv3O1O0g5uGEQiUGIwCMEx5twweJC+EgMvVY1BaoYRJcHAeTg8Bll/FTGcfc65+OTTj7Hmy9W46aYb9PwU0EJhlJVV4LwLLrSOMZty4slYvOh9rFu7HrffdhMSAMKEYMDgwehfWWXsUE4EXXIMGiWwVyKzvGHm0tgUEEpR3rMX+vXrjzfnvYbXXnnJ4o1oNAvTZ5yKyZNPhPk5HQFAEhrXd7JiMcyZcy22btmCT5d9igd+e6/OYaAgoRC6dy/EnXf9Ct27d3dtBysw7RCNhDF12gws+e9HWPvVatx2648tDg1pGkpLSvCDH/zI2v145Mgj8Y2LLsUzTz2Bp598HE89+ZhuYzSKU047E/9+5ildPRVbDDj7rHPx738/hQXz54MYi1Oi4TCOnzQZs2efa+mQc5WJS/9AU6Ow+o71xRE14tlKMDq3OcHt06cvZsyahb/+5c9YOP9NzH/rDSt3NBLBmHHjcfHFlwEA+verxLXXfhd//euf8cLzz+C55/4FjRIQDQiFoxg9eixmzDoVRLOt5fsuwYTjjsctt/4Ed991B1584Tm89PyzaAVACEEsEsW5sy/AiVOmGkee6QKYPddtmUTvSwn2RgaC5qYmbNq0ATU1e0CRwP69e5GTk4OsaBbmXH0d9uzag48/+S/u+809FrdHQxGMGH44Lr/yahBC0L17Ac459zysXr0Cny/7BNd/8rGlPhIKo2+fPrjxxputM6cBABrB+GOPw2N/fwT79u/H2PHjUVFRYdsblPuEkF7uk6tJH/cFw0AUGLKyYuhRElPcWglCIbs/GB+I2M+aqD3mWMdTowR9+vbDnx76G2+GS2B3/TctVmEYOfIoPPXkY3jvvYU4/viJqBwwEKFwWN9rh1IkEgk01NfjLw89CEIIevfubX0dZNUTMXQw7cDVoXCv1qFT46tUbsCzFSYPAgaznkyfTGPZxxhzvJttC49EIigsLOLF2oBslUbbsHcYCiCew59s4yckAIP7iAIDr8PrPsoGbqdoxu+z8Ml8Jun9XvzB6DCjJWMuqO/qjQGBMKSDN2SS0sd9Xb5rMAy81HT5rir+ZrNJ28EnBvbBQuCjzZQajQkoT1TcHzYriNVYAEgC3bt3xw0//DHeX/Q+Vi5fjpq91WhoaEJOThwlJaUYffRoHDVqFNitfqip17SJmQ9aOom56QmbERYfWPZQHQAlxBcGWBiMLdxIghNKdA/aMpKC+Wtto+6c4DvrycbBanbGmXqpshd2y81DeXkFIuEIW8LWJBRTbV7gNE5TvP30gUHMSyk0lTBF4IaGiEGuSmKcOnhhkIlwawdZMDHoD2z4FC8MshejkmxtjoHTxRQjbv1VZp8QevbshV/+6j7Me2Mu1qxZg/qDB5AVy0LPnr0xefKJGDhosCXkyKNG4e5f3os35r6G7du2IJGgKCkpw2lnnInPPvsUn3/2mf4ZrxHGjBuHgh5FlqPFYpg8ZQoI0R1ndsxlxbIxc9Yp6NOnr4XB5L54PI5rv/09HPfZJHy85L+or69HLCuGUUcfjSlTpnLreUvLy3Dy9GnIy8u3Nm4jVD+T+7bbf4435r6K1atWoqmpCdFoFD179sbJ06YL69HVwXlDIhg4cBB+fd8DeOWlF7B+43o01NcjFovhsMP6YOKkE1BZNYCTMefqa9Gr12H44ovPUbO3Gt3iuRg95hiMGTMW9Qfr0Kdff2QZu6B3LyjACSdMQXV1DS68+BIMHDIEixe9h7qDdYhGojj8iCMxc+ap1kQcAAqLinDClJOxb99ezimgAPr26YPpM2bqb+qZzkugH3dHEwkMGmIfhzZ61GjEsmIoKSkDoO+QfsEFF2PIkOFY+PYC7Nq1A80tLeiel4dhww/HiVNOticLBLjo4sswdOhwLHx7Pnbv3o1EohWFhT0weMgQTJ8x0zgaUn9wMW78BJSVVyCaxe8Af8KJU5DTrRveXbgQNXurQUCQm5eLceMm4LjjJ3KTn4pevXDS1BnIys623SJz7aOmYdr0mYhGYygxdpbOye2GM846BzndcjF8+AiUV/S0eKOsvBw/uvkWzH3tVaxdtwYtzc3Izo6jasAATD5hCnr2tM8pn3DcRPzl4X/gP/95EVu3bkFjYyNyu+Wif2UVpk6djh7F9pp2c1z27dsPs04/EzU1ezB27LHINT7PTSf3Ofk7g7lPdp8JyN9+uC8cDqO0tAy5+fl2fgKIR5KacjasX4e77/wZp4NKr/Tfo8ccg6lTpyMsbCoowzBm3Dicc+6FeOWVF3HttXMwcuSR6NO3L7rldENTSzOq9+zBsmWfYsvmTRg2bAROP3M2unXjdxqXt4MRJakIYmgX9gj2DDIM7J9Ydgyl5RXoZo7/AMLd3Bj9xRC/eIbzJQPeThOct5+c3ycLrj6Tb79PHdLtu8pCh2OQ2ZRODG6qunxXpBMDpytl/pbrdcVAAUJpkJkP+1TLjt25awfCIU0/AxfEsSmRrdZ+7Z+AaBOBtSMbgIMHD6KpqQnZ2XFkZUVdzZFF2rcd/nbkfI3uFOUXg6PiCIFyVsoV0Dd7Mj9V3X/gAPLy8rmjM9zHmjzVEStE7NixHXt270ZlVRUaG5tw+2036eecPvuiUpPaEDvhe9+5Dl9+tRI//eldGD3mGPeiVqQz9eMlH+Gnt9+KQYOH4N77HvCt3zP4keEhzvGARoEhmH5fydJM9qVXaUXOJByDAOZxYefO7cjNzUN2LK7A4F96ayKBxoZ6RCNRhMMRF6KnaGhsBKUU2bEYz7AKxb7GnKIdliz5CDdc/1306tUbv7n/DyguKUFLSwsaGhqQlRU1JuHB26GxqRHNzc2IRqKIMmcB19TU4A+/vx91dQcYQQClxlnfAETuG33MGJx1pv0JZ2trKxobGhDJyuLX/0psam1pRX39QWTFYogIe0a4YWhpaUFjYwPCkQiyolnwM+bagvvMkxxaW1r0I54052fxbNHGhgYkEgnEYjHH20M/GMy6pQBisRj/pjlJDKxsXh4fGo217bFYTN/oz4X7mpua0dTUiFh2tqtMp03p4T5fwQ/3JcXfyekHGE7LjvsTlyR/NzTUY82aNSgsLERpWTmefeZp/PY39+Ceex/AhAnHWfn27N6Np558HDt37ZTKkflcBMCYY8bi5KnTEQqHfXFfQ0M9Pv30E/x3yYdYtXIVqvfsxt69NcjOjqOoqAjlFRUYNWo0Dj98JPr07Qtzs6ZU7kHPPPM0fnvfr3DDDTfjjLPOTgt/79+3D5u3bEJxcSmKiorw29/8Gs8+8zT+8MeHcNSoo9XlPTAsWPAWbrrxB7jxpttw+ulnCp/R+ue+PXt2Y85Vl6OpqQEPPfwoysrKlYX88kagdkjBZ2oL/pYleHafNPh98mIdx33ShC7fNaWQGgZnaG5uQk1NNQoLe+ib4PrEEGgyrhK2c9dORELEWn9kJrGb6ejxxmfaVJTmjpQY/zu2YjPW1Vlny4oiJdYzq0Gt/MS0DYD9DtvMraUNg705CY9h/7465ObnITvGr99yCjKt8tcxJbm5IolEApRSxglTYHDtrfpu15RSaJpm3Xz4Ii4YzOogsD51M9dV+cGgkm/98onB+wbhD4NaehAMQh4fGFRJ7YtBHnbs2IG83Fxkx+MZicFP8BpzS5b8Fz+8/tvo1fsw/Pb+P+hrKgNgUGRUYti6ZSsuuuAc1NXX2YlK7tPDySfPxB133uWpJ5Ux5weD/0xtx30q+YHMS5U32gvDIcV9wfm7I3hj587t6Jabh3i2++fH6cZAqX7f1jQCQjQOA6X2xrDsewHR6+D0ENU6ZHcM5kkFAOwNFYmxcEd4eBWoHSSmWH6BpkFf4ZF+/jZ9IZUOv2OOJqjRPhq3pMXFGmWe1lb9m85QiF8O5SWii7+Zy07OfZmHQciTofztpjdVDOxknH/I6Y4h4Jpx9sK2kIBaxwWBEn39MDXqiLkTECtSlEZsOx1gzf2OE2C/aSBgNg0Dhfm2m7AqLK32MnwCatlEiHlIGbU06baYGISJvhKDid0HBgE3NVqb38hHqBsrljAxZrLYU+zyztysFOd6MbsdDBkcPFWPJyCauXjAxiCuQ1FiYO7ChIDZFIUtqcbgtMnGQBwY7PK8OPlQDYZBlE+t/hocAxQYFKxA4diUpGMwCMHEwJ7z4IFBJkSGwfrNlvOJQbjleZlvt4Ol1olBIwSRcBSRcFi6yaUXBmc/FezjhiRB94IC3HDTLWhpbuJscbKB/ZixomdvFwwm95n16awX7zGnwiDJI22HNHGfFINf3kgdg+8x54ZB+D8YBp/8nTbuk2BImvuC83fHcJ8bc0CBIXXuI0RffuGoFgIQQqyxrucVMUDSX5PDQAisvXvcxaXK33p7sV9tpJ+/9RcJqWAwo4hGrGMng/GGGHTMtifkjaHT8Lfwv21HGrnPBcOhxH1dvmu6MAghLfztPeZY7gt+tJllgGmkyUKMwRaDUN5slrSMunLYSZ3NYmUQ+qG1JBv2G2/Kl4A5DeZtN/+IvZ01js/ujoF6YBDlE4hn81IQ44QDeasqO47YDoqcProfU1xR/25FuF8BMajaIaAUPosqH5FeOnP7w+DsrQwGpanJYlDUj18Mwn1KiJbraWcMMiHKU0SYcmq3zImB7a9uS4sI/58dHGMO6NO3H354403IiefoR1dxNvnD4BqEPPF4HNOmzdDFuWBQBhVvyLuMU08gDHLZznZIE/dJMeiRnqfIeCWkG4NP7msT/k4b90kwpJ03FOU7jL89cKSJ+7jgm7+Z8i791TP45D53canyt5uqdPG3F/elwt9+uc+1tMS4FPlbrUid2F78LWZDG3CfI8Xdhi7uc5ftzBKM+zwxHEK+KwWsyW0Q7hNfjfoO3CSU1UP5WmOO9GWIgD/PkZ1A2wWJnkI02Dc/ZmLN3g+JsQs6J8I+mkycK5vyKVuAMNJlGFizuDrgMXAD1MLAGmvs6G6qYDqj/CgBGwMVkyFvBz2ztFaVwaorX8F8muGnhA8MrEyoMfjRpCrhjE8PBuLMIb32G9xKKNP8YmCMbXMM7MMs4cGWI6+YSQgsb3hhsKUSRr4f2bxFIgYuh2TMFRUVYerJ0zDhuOONDd8E3vWBwWlH+2LQf6h5Q4rB1TLx7qMec+3FfTJ/MV3clxQGVib8YVBZlXHclwR/+08LjsEyi0lJlvuIsS2sVJNqzCnNSw9/21r88YbKwnTwBhsOBf7Wf7QN96WKwT/3Ic3cl3n8rbIyHfytytte3NeW/G2ZxaR0+a5STR787XPMESrM6bwxJDkZN6etzAQTRN+JXCOcNva9tG0A4X5xnwJYmY1PuhNmN7V1mOUS5v2Qgn/LTm0dhJnwsnkITXCWEcp8Ki7DYP2WBxMDV8kCBhMr1c/p4DDI+yRTy5IqEnKAbRfxvEt1J6OWBDnpyYAbNxlzfbhrn2ceogTEIDJ8Khh43mdulOnGQIVrwUq3we4swZeW1Ib+S8AgF0/AGpc0BuoTAzvWGEISMVitniYMVmLSGPgx5wwy7uMx2DlV8tODQa0kzRgcOggXqeYNgRDNnOKY69Tc1/EY2pf75PydFu5LEYNllicGb/5W+wGOYjwGTprxq4v7nPkyhfuk8oNxX6oYnDpS5W870p37fPK3NGQG97F/WK1fN9/VMssNQ5fvmlbe4PcJ98aQ5GRcUbXU+Uk4fzaksxbMVdugolTC/bFKM63m2KhSFpgbJ/uWXj4tkHcndSdjS/MYKKuDsHEiBmMweivxEQj/iwopUh1eip3tIJYkxKV3czm98ul5gzs6QTEQMSV9GFxMsXpYUm3tHFniL6svecpIAQM5FDHwedOLQZbSPu3glce/YGc7cBgIH8fnlHE6k95mGBzSJL+Ya1+8IWJJB/epZLvbkzwGRXq7cZ/6HprymMso/g4K5OvB323DfU7+9lDiV7AiRYbBH/dx6R3K38x1mv0+K4dv7vMTunxXV/0ZxX1Bw9eU+xymumMIOBmn0p+EjVDWldWcxpWZUbMmrZTNav1OQBZN2fwwP3uXjTpibS4nfhZjP7owK1GFwdTGy7c3c2MwmGOHwyB/kspN2EFduxn/9EveDo7gqA5ZOeqPZ1wyyb9+cJalzs8XnLbAa6wkicHjkVi6MXgZI80uLeqzrZEGDD4UcWNOlt0cQsn0VzgfkkktoCIGRT4rqNyqdGCQ2aGwzdFfg2BQpSgwmFFJtoOTqYw4HxjUTiwUKW3AfS7a1Lyhao/24A0/4dDgby87/HOfmN6xGJz9lfjAkGbuQ2bzty9OOyT52x/38aEj+durXDp5o8t3NX90+a5OvX5Edz7fVWGbC/cFnIwT6U/OEMfDKOeAJQDsj8QTABG2WaN2TnYiLd6sQhZeAs3RYYklS9NaTRMEDKxFFAnhaaX9+IBYeVgNCZiH3DMYzAxMi1JGrxsGN1eQf/qlagd3UuQem5jVA8LdZ/jy1PWXJZWJkmEwFwDIMVDGljbEQIJj4Mep0RNSwSC0teN+LsVAwGOQo0wGA1XkVGtgdTD9VYJBP6lAksGjv8oe8jowEBGDM2dHYpAFWX+1e4sjJ/crKQxoH95wWs1fBcYghMziPonUlLhPLJQ5/C2OuXTyt8h95u/25G8H9xG+jFd/tU4PkfK3yBs2BtaipLjPDYPwq0O4L8P4W2p42vhbZmPn5G+p1EOOvzue+5LC0Al9VzfuyzzfNRn+JmxJG4ML9yW9gZszmGsbmA4HAGDfbBtp3D2MGP1B3lE05sgy8Wgw9k2382kG00BUcoQX84uY1pl2MRioA4Otwq5sGQZbp47BTBMwMP+rRjJh/lcGbnRI5FG+e4m/xb/iFaFsDsFQph1kdrF17AyiDhcMcvfAE4P1HiMgBrGtZdIp5eOkGBQ63GojCAaGYwJhsKyUYuBuHUoMsmCNJyGeOtqUOGuqQzGIbeNnD1cJBmkuO5MKg5DTPwbXMeKNwBWnjDeoU2rmYGhL7nMYmiL3iWIzl/tkGAJxXwZgYGNT5Q3VWJfzBnPOS2fnviQxCDk7hPsctdJZuS8JDBJDXTCIklLkvnb2Xf1wn1xH5vK3THpH+q7mXCkzuE/U6cLfTJwX99GAGJLfTV00jJrKqaiZyU8tWwiBZIG72fkpH03MP0TS4sYTCMIXYX/wlWV0BGLH6ycs+MXA2KTAoP9KgN8qXYGB2OUoEZtSolsIPDYYDy24C65XuN+GXVI42yRD0fEAw7hisqaMwUWOGwZr2CSFAa4YiFivMgwS62St64XBFCm/XZv1RJhSrKEq3SYG6syrxCCjOi8MUGCQSGQeXqkwOGSngMGzXyri3THYv2UYkh9zEgyS+pRIc4+XOQ4q3kgZg1NY+jB0cR+bkhr3uWNoT+4z5csx8NyXDH878qYVQ3q5L538Lcpyw8Cmp4LB75hzXrQt9zn4u7NyXzoxUBkG2ehw0dLluyqlH/q+q4r7DlHfVWYDG6tafuPDdw08GafGf5ZsSrljtamj1glAmWPaqZ2PJNjKoswvjeNEJPTnEglbAUCZGwMl0JgRa8EybgpWZSUAQqguJ6GbbMunFqF4YmB2QNcxULAYYGJIMI0sYqA8BrNO7b7FOxsWBrZeqKSNiZ1mjy47wW43pohVQKxbIuQTOq3Yx1kMtmJ3DGg7DLwwnxggYmCDY3cDbwyOVBkGImAQbePLyDGw9aSwycgrxyDJ7XYDCIKBOMsQ/lMWeVtD1CH+9sBgfILjhcEx5gwMKt2BMLj2VwUGt/6aIgYZf3NiU8GQDG+4YQCLwYX7GAyHFPe1IX/zwnxigE8MQnFfGJiEZLjPHQPPfWr+VnGfPGP6+BupcZ+Q1xd/J8l9bYYhCe5DZ+Q+MfjC0MV9bY4BSWBA22HghSWLgQ0d5btCyhtu/C21iZPjwX2uGJA2DHw+kfuIkC7+dmIIPBlneNaIIIyVMGb5AnjZggACUGsHPbEyE4wIS6hDt51Fn0zbkaY+yiskADUn1YQtT7iOGRyDbAh4YBD6H7e5nGx0WHKY7ufsY+5pwriy0iRG6eYIjMlikNnJ1b1PDG65U8JgEltADK6BCH8DFpcVEjHw5+8pyhCuZwcyQlKozTHIWJ8IO496GSHVJ2AQSdLriALVmAvYDtI0uPdXVwyS/qoMATHI+DtZDFTE4MEbKh1KDJwSF+4T+PuQ4T5F03Ys9/nAoHaB+NxBMfgcc1xUiuSVfHFnfw3K30kZ4Ze/M4H7VOlfZ+5LCkNmcJ9MhgODI/jjvg7nb84KnxjccncYf7taxRVKkTpT4r6kMPjlPl9y2pL7mAcrMh1CpNlf0/KZOjF1U2FSKVrCgksA5ufg4u5y/DMCYcszpg59nRfPLsYXbEsw0ewDgcAY2AmHCoP06QiDQcRC+QvzoY36xD5vglBTjTn4xQQiPNVRSPDTDj4xuIUgGOwNBdsGg5+gag9XDExH4Tc1ZAV477urVtxGGKxxKcNgt42VkiIGqREKxycoBr2Quh2CjDm14hQxqNpPwJAO3lDpceUNLq/Cgcl0DKnwRhL87RYyifuSHLneGJj7qBv3KcxzD2nnPqd97cXfDnkuoTNznxcG27XqQO5Tycp07uPypsDfPrmvy3cF06+7fFe54gzhPg8MyXJf8Mm4dePhtVtr/xOKAsZP6/kPMSfA+tMma/5LifXG3IoC7EoyFHN7DTA/zWdHVjLV7GwJCLlYCymsY9QSXDZvDPqic3cM4tMYCkaQyX8SQAweo6o4k5wNr+6w6g5E+AxWpdtx1DbSocrRGRQ6vDDwNYaUMMg2jvSPQa1DbCbRRgcGtaWKFDs1MAavYBjfJhgI+0PEYI5zNpvQ6gExOIxIGoN6zFm/hHYIMubUilPEoBpzbcAb0iDDwPIGK5UIrogXb2QKhlS4LyCGzOE+H/wtlndcJouBpAmDQnwauU9eZUH5u4v7RDHOS3Un8sJgXnYo96kEZzr3sVIPIe7r8l3VOtLFfeqUINznqUqiOEO4zyd/O+rKA0PwybiiNYgplLtZM++bLafcHi8shoTZloR/i2wZaMqibMvagRr/UePKls9klHoRrJOo8Q4HFTBYQmhyGMBgIExhhTnSKCL8deSQNLZUsKN27GuHt6FQpxoUXgNMgYGwGajTBhUG8YrpalK1ykgXDEpIXhgcoTNgEIMfDCpBKnKSE52y9toIg1O2LGQKBhc9yfAGFfPY18F5g8Ggqs9Oyn1+MBAxQ0AMGckbnZi/VU5fMAyp8YZc6NeV+3xgUGLxiyEN3KcKbcF9aeVvplCGcR8X2+W7dvmuZkKHcZ9Msjf3JX+0GVVeMEqYeKKnWGOB8EmEAyHc6rgBJqthoVIko89KclSwWVY+wPnHI6Z1xKGGANaLdTMXZ4EbBlGQxEJlv1L1fKkU57Uj1qVdlaLEOIU5geYTniPXee15zw2i043Qk5GnjFRj8F9f4jiTq0q6XjxDshgU7EsYKR4Y5JiSQSrHIFgmiUg3Bq8Zq//gKoHjDbdx3sa84ZHeGbjPexykjsH6G4hkFeIV/bU9+TspGJ2Gv/3xhjy0Mfdx4dDgb0dImr8VvKEW7j/4nbxwajKAvzOA+6xYP1Xf5bsGl6eM7Ly+K5AK9/nR5LxOfjIuSjLJQSCuBIh92LxFIJRb/kCJ+A2+Pdish3tUH2zUmE1T9jt1dhYMYm5ZzskyJ8fs+nTu03D2fDrCT+HlGITmIFSY6HtgIKZOoz6kj4KoIE3SPWSNz9YtazaoM10sKMHgyEeZp2BuPdbAILaEPBCHDuunGwaqlig1h7mQlXPYIGCQ5GJC8hjk0rzto5KcchuSxMCaKcPgIc6dRNkekU4MzhR5f3Ufc7yVqoh0Y1CMOaSGwREU41wMct6QYEiJN77u3Ccry+vwx30iBqlIf5wp4b725G//3Oeep03520OcHweyI7hPjcEH90lSM52/HSEQf/vgPoXwdufvDuO+JPlbFtqR+5T83cHcpzKJvehw7qPOfLw0b/vSzxuHtu9KKPW1DZpr2LlrO6dUDYNP4yaqzEM+c4dyQihoAtC43ev0NAqqx0uttwUSClBNUERhfSluxREwmxcmgYFNt9aM66fTUZomDAnjQsRA7AsnBhkWCv05DN+VOPs4DHpX0iBiMCQpMdiBx8CpYTAA5oDyjyFh2ejAYNSxFwa9r7mQs5VLt9eJwTgPklAjzYnBqVuBwagTFoNuuTcGSWeUY2BFB8UgbWu+UogUA49GA2GPo7VTpRj884aJgSYAEggDL9ALg9zetsEgykiJ+/xikAYv7rMxZAZ/++O+5Pg7We5LJ3+7cJ9P/k6d+7z52zf3iRgCcF+78LcH9wXi7y7ua3vuSxaDNPjHkBncFwADm54W7pNgyEDf1TdvcBg4NZ7clzR/Zzz3STD45T4JBjlvSDCwoiUYgnMfXynp5L7Cwh4Ih0Nwtj8c3YKCIuwO31+IZ+cYdhB7rx7mLwX0s9kIAaXUeiNtVpP+Q68owlQEO5wsWczRZCYoa1BQCkqM49kpMeKtgnqaVQkmqdikYx7s7o0BxptyBQbYOlwxwNaRbgyWCclgADgdDgyWTv8YrBK+Mdha5RiMeiRCPblgAKdD3l9VGHTdPjEAINQgB9oxGMC0NVwwwBpzLAYjnwoDmHoCVWMAfLS1P976/cmJAAAHcElEQVRwYoBdTw7eYDHAmzdUGKx86cRgtq0XBnscpIYh3dznwd+wdXTxd1txX/L8nQz3BcKAQ4f75Bj8cp9RRonBkNeG3Mfzt1lPHhjAiUP78rfZtpnGff4wdPmuwbmvy3eVYWg77pNh8M99bcffznpKnb9t7vPJ3xDqqY25T9M0RrEQiHhJUnkzzgwbpuYt2608CmOo8R/h03XCY2pOKM/GeOpSqLd1ZAoGoSXTjsElKDB4GcGSZvtjEFKCYmAGTJtgYAp0NgzeYy4oBss1k2BQFHcdcx2PQSnXNwZ5+XRwn2AEOj/3BcfgZUQX93VyDEyBtsWQBPdlOH+7GmomBeKNZDCo1TNGoOO5LziGLt/VG4OXEV3c54KBKdBx3Nc2GDKd+5KejDP9zl9eyxhnGS6aFazIL5PPl3exgbnowuATg4tNrjqCYpDYJCsPl/zOaGZQthkG45ldmjA4VbcNBoBv66QweOhobwxtOubYuC7e+HpgcLEprRgkNqWEgSnRxX0KG6w8nQNDF/e52MBcdGH4GmFwsclVR5fvqpQPuGM+ZPjbQ0d7Ywg0GZcZKP526g7Qs5Wjhu35voxTavaDwZdwI9par+CV169HF6ShHVdJYABgf9zmldengT6CmzXJ6EgHhvZA514qOQx+e4B8zHlkDgjF9/gX0joMgy/eEGO8uY+hb58YMoP7kuNvj7xJYvDOlmHclxQGvwIyi7/VIUO5L5CNbc19vNd4aPG3X+7zo6D9+JvvXV2+q57S0dyXYRh8hkPbd/U55gKGLt/Vh2UeGALtpk6UVwTqHQQUphHTIDaP8dchith/fKphKVKdTY7BqUKNwZnigUGuQKqGCn/l2VJsB2lKChiE4GmNTEcSH2s429ofBipP4YKnNW2NQZpTrtsVA5eo6Gxsur2jiq+gjznqEwOT1pEYfPGGKIC4pLGxhx73eQrnohUa0oTBRYPkKgn+lqakn78DWdOO/O2HoTqc+wK0g3/+7mjuI1Dhy3z+9st9cvmBMZh/UuI+ImTr8l3lKV2+Kxs6p+/qkzcChi7f1b2EHwyBJuPyJjJiiav7aWflhBAmgUljhVChkKqfCjoEioTZe4NgkObNVAyUx8CKUsm3E9seA5dAJaotHUgaAxEwOAaABIPbPdIVA9oSg53uKKfAoAztiMEcPZ4YRGlthoH6wyDRERiDWEYh35nbhc27uK/tMGQC93FJ7c/fSXNfhvG3MmQi97UbhmS5Lwn+RhtiENLahL+/btwnGtTRGLp81y7f1UVHRvG3KC2NGAKuGad6KeOPEOsS4Uzgssjy+5ChyqMsyqZ2YfChx5+MQBisSE/N/vWnQ4aHOHlbp4rBV7I0k/8WDNBfUwipYfBfMPkx552nizf86+90GDxMVSZ0MAbPkAbukxdLD/cF0ylepsrfyekPmCzNdGjxt8/+6kN6F39nBm90OgwepioTDjHukyZ0+a4phUzxXVPcTZ2kYqVcnFtCkqrU+UQMKbayKwZIEw8dDOpEZ6zffKocbjl94KOAeqeFQwSDaz6/AyHVwUjBnAORpGwxX1DeSAOhpCw7VQwBxcsS2pz7Agr2rejrxt9BeSMIBr/cFywx47gvCH8HHNuBMKSd+xTxnZr70o8huMSvA39nAvcFFN3luyqyZIDveshz36Hnuwb6TJ3/zIAIf+WXdn5nPGWy8AetywVShyq5bPH5AmHFUvZCxOA2iOTx/jEQRYoXBmpb5hODQqJCh18Mtg5vDCQgBr6cOwaBdpQYVG3phYGv1/RiMMePBwZWm7QiVGPOHwbzp22+CwbpeFZhgA8MXrwhx8BK5draE4OTN9ofg1N/W3MfV3u+eEN+eajxt1/uM+PTz99BeSMIBr/cpwodyX0+MYDhbxfuo/ylaJgnho7hPofRvjCwUg897vOBwaGZL5cs93Gyvgbcp7JVFZ9+7jMkdPmukhCEv9vWd00/97WP7xqM+w493zX5N+NOTJ7ZuGPcFOUlVeVLkecRcV7G+cyWKRgsiW2EwV2CSy4ZBq96ShWD7xAMQ6C29gnGTE2+v3pjyMT+yovuDBiCZevC4KGns3Kfl8RDAUOauU+px9Uw+OINVnZb9Ncu/vYlugtDAEVfNwydk/v8W9Dlu3pkM39nSH8NKDppDCl8pp6ElcmUSUZ0moPahNSNS25gJqEHbYeh48MhhkFqrheGDMOYZnP8i8uwemDsSTuGdoOaDDukjqEzcF97YXCxAJk1HjxCp+W+5DFkGLoAoXNzX8plMqBhu7gv08PXm/s6JGSo7xrsM3VBrP1XPdzVgf+cQ5mXqNKoDx1CDqpMUZZ1rz4JBoVQFQaixKco3WYYmP8DYvBrR/AUO4e/vqTGQIW/ydmRSlkmh7QxvDA4P0ZKzg513tQxIOl2IJI88uCTN5TBL0rvMSdyX9oxtAP3efF3ytzngqEzcF97YVCHVDH4tyMtZTOE+4KXbTsM/nlDaVHaSgTj78zkvmT5W5ZHZVym8Ldb2bTwtzK6M3BfEu3gO8XOkRqGzs19wexILq+jRIb6rv8Py9nR9GsWQdAAAAAASUVORK5CYII=)"
      ]
    },
    {
      "cell_type": "code",
      "execution_count": null,
      "metadata": {
        "id": "A23qw5LXYU1M"
      },
      "outputs": [],
      "source": [
        "# 데이터 불러오기 \n",
        "history_df = pd.read_csv(os.path.join(data_path, '/content/drive/MyDrive/Colab Notebooks/LG/LG_datasets/history_data.csv'), encoding='utf-8')\n",
        "profile_df = pd.read_csv(os.path.join(data_path, '/content/drive/MyDrive/Colab Notebooks/LG/LG_datasets/profile_data.csv'), encoding='utf-8')\n",
        "meta_df = pd.read_csv(os.path.join(data_path, '/content/drive/MyDrive/Colab Notebooks/LG/LG_datasets/meta_data.csv'), encoding='utf-8')"
      ]
    },
    {
      "cell_type": "code",
      "execution_count": null,
      "metadata": {
        "id": "8_4ezWgdiDnb"
      },
      "outputs": [],
      "source": [
        "#!gzip -dc '/content/drive/MyDrive/Colab Notebooks/LG/LG_datasets/data.tar.gz' | tar -tvf -"
      ]
    },
    {
      "cell_type": "markdown",
      "metadata": {
        "id": "cRnh1wEiYU1M"
      },
      "source": [
        "### 학습 및 검증 데이터 생성 \n",
        "- train : 시청 이력의 80%를 사용 \n",
        "- valid : 시청 이력의 20%를 사용 "
      ]
    },
    {
      "cell_type": "code",
      "execution_count": null,
      "metadata": {
        "id": "zP8WMIrWgFQu"
      },
      "outputs": [],
      "source": [
        "# 데이터 전처리 (중복 제거) \n",
        "# 참고 : drop_duplicates의 subset을 무엇으로 구성하냐에 따라서 제거되는 항목들이 다름 \n",
        "# ex) 'profile_id', 'album_id' : 중복된 시청이력 모두 제거 / 'profile_id', 'album_id', 'log_time' : 같은 시간에 시청한 이력만 제거 \n",
        "\n",
        "# .sort_values(by='정렬의 기준이 되는 컬럼')\n",
        "# 행 인덱스 초기화 : reset_index() -> 인덱스를 다시 처음부터 재배열 (drop=True옵션을 주면 기존 인덱스를 버리고 재배열)\n",
        "# .drop_duplicates(subset=['중복제거의 대상 컬럼']\n",
        "\n",
        "data = history_df[['profile_id', 'log_time', 'album_id']].drop_duplicates(subset=['profile_id', 'album_id', 'log_time']).sort_values(by = ['profile_id', 'log_time']).reset_index(drop = True)"
      ]
    },
    {
      "cell_type": "code",
      "execution_count": null,
      "metadata": {
        "colab": {
          "base_uri": "https://localhost:8080/",
          "height": 424
        },
        "id": "O0hJ8pZwgJDt",
        "outputId": "c7b0e9af-9396-413b-c721-bde3b5900669"
      },
      "outputs": [
        {
          "output_type": "execute_result",
          "data": {
            "text/plain": [
              "        profile_id        log_time  album_id  rating\n",
              "0                3  20220301115719        15       1\n",
              "1                3  20220301115809        16       1\n",
              "2                3  20220301115958        17       1\n",
              "3                3  20220301120118        18       1\n",
              "4                3  20220301120229        19       1\n",
              "...            ...             ...       ...     ...\n",
              "899247       33032  20220427155668       381       1\n",
              "899248       33032  20220427155680       381       1\n",
              "899249       33032  20220427155810       125       1\n",
              "899250       33032  20220427155838       125       1\n",
              "899251       33032  20220427155891       381       1\n",
              "\n",
              "[899252 rows x 4 columns]"
            ],
            "text/html": [
              "\n",
              "  <div id=\"df-05243fad-75f8-4f85-8f24-2891ec71d18c\">\n",
              "    <div class=\"colab-df-container\">\n",
              "      <div>\n",
              "<style scoped>\n",
              "    .dataframe tbody tr th:only-of-type {\n",
              "        vertical-align: middle;\n",
              "    }\n",
              "\n",
              "    .dataframe tbody tr th {\n",
              "        vertical-align: top;\n",
              "    }\n",
              "\n",
              "    .dataframe thead th {\n",
              "        text-align: right;\n",
              "    }\n",
              "</style>\n",
              "<table border=\"1\" class=\"dataframe\">\n",
              "  <thead>\n",
              "    <tr style=\"text-align: right;\">\n",
              "      <th></th>\n",
              "      <th>profile_id</th>\n",
              "      <th>log_time</th>\n",
              "      <th>album_id</th>\n",
              "      <th>rating</th>\n",
              "    </tr>\n",
              "  </thead>\n",
              "  <tbody>\n",
              "    <tr>\n",
              "      <th>0</th>\n",
              "      <td>3</td>\n",
              "      <td>20220301115719</td>\n",
              "      <td>15</td>\n",
              "      <td>1</td>\n",
              "    </tr>\n",
              "    <tr>\n",
              "      <th>1</th>\n",
              "      <td>3</td>\n",
              "      <td>20220301115809</td>\n",
              "      <td>16</td>\n",
              "      <td>1</td>\n",
              "    </tr>\n",
              "    <tr>\n",
              "      <th>2</th>\n",
              "      <td>3</td>\n",
              "      <td>20220301115958</td>\n",
              "      <td>17</td>\n",
              "      <td>1</td>\n",
              "    </tr>\n",
              "    <tr>\n",
              "      <th>3</th>\n",
              "      <td>3</td>\n",
              "      <td>20220301120118</td>\n",
              "      <td>18</td>\n",
              "      <td>1</td>\n",
              "    </tr>\n",
              "    <tr>\n",
              "      <th>4</th>\n",
              "      <td>3</td>\n",
              "      <td>20220301120229</td>\n",
              "      <td>19</td>\n",
              "      <td>1</td>\n",
              "    </tr>\n",
              "    <tr>\n",
              "      <th>...</th>\n",
              "      <td>...</td>\n",
              "      <td>...</td>\n",
              "      <td>...</td>\n",
              "      <td>...</td>\n",
              "    </tr>\n",
              "    <tr>\n",
              "      <th>899247</th>\n",
              "      <td>33032</td>\n",
              "      <td>20220427155668</td>\n",
              "      <td>381</td>\n",
              "      <td>1</td>\n",
              "    </tr>\n",
              "    <tr>\n",
              "      <th>899248</th>\n",
              "      <td>33032</td>\n",
              "      <td>20220427155680</td>\n",
              "      <td>381</td>\n",
              "      <td>1</td>\n",
              "    </tr>\n",
              "    <tr>\n",
              "      <th>899249</th>\n",
              "      <td>33032</td>\n",
              "      <td>20220427155810</td>\n",
              "      <td>125</td>\n",
              "      <td>1</td>\n",
              "    </tr>\n",
              "    <tr>\n",
              "      <th>899250</th>\n",
              "      <td>33032</td>\n",
              "      <td>20220427155838</td>\n",
              "      <td>125</td>\n",
              "      <td>1</td>\n",
              "    </tr>\n",
              "    <tr>\n",
              "      <th>899251</th>\n",
              "      <td>33032</td>\n",
              "      <td>20220427155891</td>\n",
              "      <td>381</td>\n",
              "      <td>1</td>\n",
              "    </tr>\n",
              "  </tbody>\n",
              "</table>\n",
              "<p>899252 rows × 4 columns</p>\n",
              "</div>\n",
              "      <button class=\"colab-df-convert\" onclick=\"convertToInteractive('df-05243fad-75f8-4f85-8f24-2891ec71d18c')\"\n",
              "              title=\"Convert this dataframe to an interactive table.\"\n",
              "              style=\"display:none;\">\n",
              "        \n",
              "  <svg xmlns=\"http://www.w3.org/2000/svg\" height=\"24px\"viewBox=\"0 0 24 24\"\n",
              "       width=\"24px\">\n",
              "    <path d=\"M0 0h24v24H0V0z\" fill=\"none\"/>\n",
              "    <path d=\"M18.56 5.44l.94 2.06.94-2.06 2.06-.94-2.06-.94-.94-2.06-.94 2.06-2.06.94zm-11 1L8.5 8.5l.94-2.06 2.06-.94-2.06-.94L8.5 2.5l-.94 2.06-2.06.94zm10 10l.94 2.06.94-2.06 2.06-.94-2.06-.94-.94-2.06-.94 2.06-2.06.94z\"/><path d=\"M17.41 7.96l-1.37-1.37c-.4-.4-.92-.59-1.43-.59-.52 0-1.04.2-1.43.59L10.3 9.45l-7.72 7.72c-.78.78-.78 2.05 0 2.83L4 21.41c.39.39.9.59 1.41.59.51 0 1.02-.2 1.41-.59l7.78-7.78 2.81-2.81c.8-.78.8-2.07 0-2.86zM5.41 20L4 18.59l7.72-7.72 1.47 1.35L5.41 20z\"/>\n",
              "  </svg>\n",
              "      </button>\n",
              "      \n",
              "  <style>\n",
              "    .colab-df-container {\n",
              "      display:flex;\n",
              "      flex-wrap:wrap;\n",
              "      gap: 12px;\n",
              "    }\n",
              "\n",
              "    .colab-df-convert {\n",
              "      background-color: #E8F0FE;\n",
              "      border: none;\n",
              "      border-radius: 50%;\n",
              "      cursor: pointer;\n",
              "      display: none;\n",
              "      fill: #1967D2;\n",
              "      height: 32px;\n",
              "      padding: 0 0 0 0;\n",
              "      width: 32px;\n",
              "    }\n",
              "\n",
              "    .colab-df-convert:hover {\n",
              "      background-color: #E2EBFA;\n",
              "      box-shadow: 0px 1px 2px rgba(60, 64, 67, 0.3), 0px 1px 3px 1px rgba(60, 64, 67, 0.15);\n",
              "      fill: #174EA6;\n",
              "    }\n",
              "\n",
              "    [theme=dark] .colab-df-convert {\n",
              "      background-color: #3B4455;\n",
              "      fill: #D2E3FC;\n",
              "    }\n",
              "\n",
              "    [theme=dark] .colab-df-convert:hover {\n",
              "      background-color: #434B5C;\n",
              "      box-shadow: 0px 1px 3px 1px rgba(0, 0, 0, 0.15);\n",
              "      filter: drop-shadow(0px 1px 2px rgba(0, 0, 0, 0.3));\n",
              "      fill: #FFFFFF;\n",
              "    }\n",
              "  </style>\n",
              "\n",
              "      <script>\n",
              "        const buttonEl =\n",
              "          document.querySelector('#df-05243fad-75f8-4f85-8f24-2891ec71d18c button.colab-df-convert');\n",
              "        buttonEl.style.display =\n",
              "          google.colab.kernel.accessAllowed ? 'block' : 'none';\n",
              "\n",
              "        async function convertToInteractive(key) {\n",
              "          const element = document.querySelector('#df-05243fad-75f8-4f85-8f24-2891ec71d18c');\n",
              "          const dataTable =\n",
              "            await google.colab.kernel.invokeFunction('convertToInteractive',\n",
              "                                                     [key], {});\n",
              "          if (!dataTable) return;\n",
              "\n",
              "          const docLinkHtml = 'Like what you see? Visit the ' +\n",
              "            '<a target=\"_blank\" href=https://colab.research.google.com/notebooks/data_table.ipynb>data table notebook</a>'\n",
              "            + ' to learn more about interactive tables.';\n",
              "          element.innerHTML = '';\n",
              "          dataTable['output_type'] = 'display_data';\n",
              "          await google.colab.output.renderOutput(dataTable, element);\n",
              "          const docLink = document.createElement('div');\n",
              "          docLink.innerHTML = docLinkHtml;\n",
              "          element.appendChild(docLink);\n",
              "        }\n",
              "      </script>\n",
              "    </div>\n",
              "  </div>\n",
              "  "
            ]
          },
          "metadata": {},
          "execution_count": 8
        }
      ],
      "source": [
        "data['rating'] = 1\n",
        "\n",
        "data   # gt > label"
      ]
    },
    {
      "cell_type": "code",
      "execution_count": null,
      "metadata": {
        "id": "3nt6Z9EfhIku"
      },
      "outputs": [],
      "source": [
        "# 초기 셋팅값\n",
        "\n",
        "cfg.n_users = data.profile_id.max()+1    # 33033\n",
        "cfg.n_items = data.album_id.max()+1"
      ]
    },
    {
      "cell_type": "code",
      "source": [
        "cfg.n_users"
      ],
      "metadata": {
        "colab": {
          "base_uri": "https://localhost:8080/"
        },
        "id": "vXtK7Pqfh0NR",
        "outputId": "95b60dfd-acbb-46c0-fa34-ca8ec40c6892"
      },
      "execution_count": null,
      "outputs": [
        {
          "output_type": "execute_result",
          "data": {
            "text/plain": [
              "33033"
            ]
          },
          "metadata": {},
          "execution_count": 10
        }
      ]
    },
    {
      "cell_type": "code",
      "execution_count": null,
      "metadata": {
        "colab": {
          "base_uri": "https://localhost:8080/"
        },
        "id": "wzUklEn3fDHY",
        "outputId": "270314b3-dcf3-4561-bb67-dcedb0433ebc"
      },
      "outputs": [
        {
          "output_type": "stream",
          "name": "stdout",
          "text": [
            "학습 데이터 크기: (719401, 4)\n",
            "검증 데이터 크기: (179851, 4)\n"
          ]
        }
      ],
      "source": [
        "# 학습 및 검증 데이터 분리 8:2\n",
        "train, valid = train_test_split(\n",
        "    data, test_size=cfg.test_size, random_state=cfg.seed,\n",
        ")\n",
        "\n",
        "print('학습 데이터 크기:', train.shape)\n",
        "print('검증 데이터 크기:', valid.shape)"
      ]
    },
    {
      "cell_type": "code",
      "execution_count": null,
      "metadata": {
        "colab": {
          "base_uri": "https://localhost:8080/",
          "height": 188,
          "referenced_widgets": [
            "848a054afc9a453daa0bd30cf1bca6a7",
            "bade982dd632419caef7611404c6033f",
            "6fdd77b47aa1437db537187d43da685e",
            "25316b8205604de58becccd641539713",
            "25f1fbf9cee449ff96aab7d314de689c",
            "8d36dcb44bf84e49b1a97c6337947c06",
            "59fadccfcdb7492495502851295c7d88",
            "91087f330f8441939d25b5a1abccc46e",
            "8613a9d5273a4a70b3a21d5f15bcf608",
            "8370ab376da244408de7e5a394c0968e",
            "054dec4f429e42148cd1bd684feaa781"
          ]
        },
        "id": "yUmSAXSufDHY",
        "outputId": "cf000837-6c30-40b9-8f71-8c1b673a8ca4"
      },
      "outputs": [
        {
          "output_type": "display_data",
          "data": {
            "text/plain": [
              "  0%|          | 0/719401 [00:00<?, ?it/s]"
            ],
            "application/vnd.jupyter.widget-view+json": {
              "version_major": 2,
              "version_minor": 0,
              "model_id": "848a054afc9a453daa0bd30cf1bca6a7"
            }
          },
          "metadata": {}
        },
        {
          "output_type": "stream",
          "name": "stdout",
          "text": [
            "train 형태: \n",
            " [[0. 0. 0. ... 0. 0. 0.]\n",
            " [0. 0. 0. ... 0. 0. 0.]\n",
            " [0. 0. 0. ... 0. 0. 0.]\n",
            " ...\n",
            " [0. 0. 0. ... 0. 0. 0.]\n",
            " [0. 0. 0. ... 0. 0. 0.]\n",
            " [0. 0. 0. ... 0. 0. 0.]]\n"
          ]
        }
      ],
      "source": [
        "# Matrix 형태로 변환 \n",
        "\n",
        "# LIL (Linked List Matrix) : row, column 의 array 대신 row 의 수 만큼의 linked list 를 사용하여 행렬을 표현\n",
        "train = train.to_numpy()\n",
        "matrix = sparse.lil_matrix((cfg.n_users, cfg.n_items))   # [cfg.n_users] X [cfg.n_items] 크기의 행렬 생성\n",
        "\n",
        "# tqdm : progress bar > 진행률 확인 가능\n",
        "for (p, _, i, r) in tqdm(train):\n",
        "    matrix[p, i] = r\n",
        "\n",
        "train = sparse.csr_matrix(matrix)   # numpy array를 압축 희소 행렬로 변환\n",
        "train = train.toarray()    # 압축 희소 행렬을 다시 numpy array로 변환\n",
        "print(\"train 형태: \\n\", train)"
      ]
    },
    {
      "cell_type": "markdown",
      "metadata": {
        "id": "3FUrSzzHuXJs"
      },
      "source": [
        "matrix 자료구조 참고 : https://rfriend.tistory.com/551"
      ]
    },
    {
      "cell_type": "code",
      "execution_count": null,
      "metadata": {
        "colab": {
          "base_uri": "https://localhost:8080/"
        },
        "id": "WLTIwkYcfDHY",
        "outputId": "fe4de3c7-2ca6-4ce5-e935-95314a2249d5"
      },
      "outputs": [
        {
          "output_type": "stream",
          "name": "stdout",
          "text": [
            "user_id 3의 age 정보 : 5\n"
          ]
        }
      ],
      "source": [
        "# 유저 특징 정보 추출 \n",
        "profile_df = profile_df.set_index('profile_id')     # 인덱스의 열로 'profile_id' 설정\n",
        "user_features = profile_df[['age']].to_dict()      # 'age'만을 feature로 추출, df -> dictionary로 변환\n",
        "print(\"user_id 3의 age 정보 :\", user_features['age'][3])"
      ]
    },
    {
      "cell_type": "code",
      "execution_count": null,
      "metadata": {
        "colab": {
          "base_uri": "https://localhost:8080/",
          "height": 519
        },
        "id": "YscM8qcaFyKX",
        "outputId": "748cbd6b-f66b-4394-c13a-456b8226748a"
      },
      "outputs": [
        {
          "output_type": "execute_result",
          "data": {
            "text/plain": [
              "           sex  age pr_interest_keyword_cd_1 pr_interest_keyword_cd_2  \\\n",
              "profile_id                                                              \n",
              "3            F    5                      P02                      P04   \n",
              "5            M    5                      P07                      P08   \n",
              "7            F    9                      P05                      P03   \n",
              "12           M    6                      P03                      P06   \n",
              "16           F   12                      P03                      P06   \n",
              "...         ..  ...                      ...                      ...   \n",
              "33022        M    1                      P04                      NaN   \n",
              "33023        M    5                      P06                      P03   \n",
              "33026        F    8                      P01                      P03   \n",
              "33027        F    4                      P04                      P05   \n",
              "33032        F    5                      P03                      P05   \n",
              "\n",
              "           pr_interest_keyword_cd_3 ch_interest_keyword_cd_1  \\\n",
              "profile_id                                                     \n",
              "3                               P07                      K01   \n",
              "5                               P06                      K05   \n",
              "7                               NaN                      K06   \n",
              "12                              P02                      K09   \n",
              "16                              P01                      K01   \n",
              "...                             ...                      ...   \n",
              "33022                           NaN                      K04   \n",
              "33023                           P07                      K08   \n",
              "33026                           P08                      K05   \n",
              "33027                           P06                      K03   \n",
              "33032                           P07                      K01   \n",
              "\n",
              "           ch_interest_keyword_cd_2 ch_interest_keyword_cd_3  \n",
              "profile_id                                                    \n",
              "3                               K03                      K04  \n",
              "5                               K08                      K09  \n",
              "7                               K04                      NaN  \n",
              "12                              K07                      K03  \n",
              "16                              K06                      K04  \n",
              "...                             ...                      ...  \n",
              "33022                           K08                      NaN  \n",
              "33023                           K04                      K05  \n",
              "33026                           K09                      K06  \n",
              "33027                           K01                      K05  \n",
              "33032                           K05                      K09  \n",
              "\n",
              "[8311 rows x 8 columns]"
            ],
            "text/html": [
              "\n",
              "  <div id=\"df-f8bcc56a-25c8-47d5-a3a6-b56b5585a051\">\n",
              "    <div class=\"colab-df-container\">\n",
              "      <div>\n",
              "<style scoped>\n",
              "    .dataframe tbody tr th:only-of-type {\n",
              "        vertical-align: middle;\n",
              "    }\n",
              "\n",
              "    .dataframe tbody tr th {\n",
              "        vertical-align: top;\n",
              "    }\n",
              "\n",
              "    .dataframe thead th {\n",
              "        text-align: right;\n",
              "    }\n",
              "</style>\n",
              "<table border=\"1\" class=\"dataframe\">\n",
              "  <thead>\n",
              "    <tr style=\"text-align: right;\">\n",
              "      <th></th>\n",
              "      <th>sex</th>\n",
              "      <th>age</th>\n",
              "      <th>pr_interest_keyword_cd_1</th>\n",
              "      <th>pr_interest_keyword_cd_2</th>\n",
              "      <th>pr_interest_keyword_cd_3</th>\n",
              "      <th>ch_interest_keyword_cd_1</th>\n",
              "      <th>ch_interest_keyword_cd_2</th>\n",
              "      <th>ch_interest_keyword_cd_3</th>\n",
              "    </tr>\n",
              "    <tr>\n",
              "      <th>profile_id</th>\n",
              "      <th></th>\n",
              "      <th></th>\n",
              "      <th></th>\n",
              "      <th></th>\n",
              "      <th></th>\n",
              "      <th></th>\n",
              "      <th></th>\n",
              "      <th></th>\n",
              "    </tr>\n",
              "  </thead>\n",
              "  <tbody>\n",
              "    <tr>\n",
              "      <th>3</th>\n",
              "      <td>F</td>\n",
              "      <td>5</td>\n",
              "      <td>P02</td>\n",
              "      <td>P04</td>\n",
              "      <td>P07</td>\n",
              "      <td>K01</td>\n",
              "      <td>K03</td>\n",
              "      <td>K04</td>\n",
              "    </tr>\n",
              "    <tr>\n",
              "      <th>5</th>\n",
              "      <td>M</td>\n",
              "      <td>5</td>\n",
              "      <td>P07</td>\n",
              "      <td>P08</td>\n",
              "      <td>P06</td>\n",
              "      <td>K05</td>\n",
              "      <td>K08</td>\n",
              "      <td>K09</td>\n",
              "    </tr>\n",
              "    <tr>\n",
              "      <th>7</th>\n",
              "      <td>F</td>\n",
              "      <td>9</td>\n",
              "      <td>P05</td>\n",
              "      <td>P03</td>\n",
              "      <td>NaN</td>\n",
              "      <td>K06</td>\n",
              "      <td>K04</td>\n",
              "      <td>NaN</td>\n",
              "    </tr>\n",
              "    <tr>\n",
              "      <th>12</th>\n",
              "      <td>M</td>\n",
              "      <td>6</td>\n",
              "      <td>P03</td>\n",
              "      <td>P06</td>\n",
              "      <td>P02</td>\n",
              "      <td>K09</td>\n",
              "      <td>K07</td>\n",
              "      <td>K03</td>\n",
              "    </tr>\n",
              "    <tr>\n",
              "      <th>16</th>\n",
              "      <td>F</td>\n",
              "      <td>12</td>\n",
              "      <td>P03</td>\n",
              "      <td>P06</td>\n",
              "      <td>P01</td>\n",
              "      <td>K01</td>\n",
              "      <td>K06</td>\n",
              "      <td>K04</td>\n",
              "    </tr>\n",
              "    <tr>\n",
              "      <th>...</th>\n",
              "      <td>...</td>\n",
              "      <td>...</td>\n",
              "      <td>...</td>\n",
              "      <td>...</td>\n",
              "      <td>...</td>\n",
              "      <td>...</td>\n",
              "      <td>...</td>\n",
              "      <td>...</td>\n",
              "    </tr>\n",
              "    <tr>\n",
              "      <th>33022</th>\n",
              "      <td>M</td>\n",
              "      <td>1</td>\n",
              "      <td>P04</td>\n",
              "      <td>NaN</td>\n",
              "      <td>NaN</td>\n",
              "      <td>K04</td>\n",
              "      <td>K08</td>\n",
              "      <td>NaN</td>\n",
              "    </tr>\n",
              "    <tr>\n",
              "      <th>33023</th>\n",
              "      <td>M</td>\n",
              "      <td>5</td>\n",
              "      <td>P06</td>\n",
              "      <td>P03</td>\n",
              "      <td>P07</td>\n",
              "      <td>K08</td>\n",
              "      <td>K04</td>\n",
              "      <td>K05</td>\n",
              "    </tr>\n",
              "    <tr>\n",
              "      <th>33026</th>\n",
              "      <td>F</td>\n",
              "      <td>8</td>\n",
              "      <td>P01</td>\n",
              "      <td>P03</td>\n",
              "      <td>P08</td>\n",
              "      <td>K05</td>\n",
              "      <td>K09</td>\n",
              "      <td>K06</td>\n",
              "    </tr>\n",
              "    <tr>\n",
              "      <th>33027</th>\n",
              "      <td>F</td>\n",
              "      <td>4</td>\n",
              "      <td>P04</td>\n",
              "      <td>P05</td>\n",
              "      <td>P06</td>\n",
              "      <td>K03</td>\n",
              "      <td>K01</td>\n",
              "      <td>K05</td>\n",
              "    </tr>\n",
              "    <tr>\n",
              "      <th>33032</th>\n",
              "      <td>F</td>\n",
              "      <td>5</td>\n",
              "      <td>P03</td>\n",
              "      <td>P05</td>\n",
              "      <td>P07</td>\n",
              "      <td>K01</td>\n",
              "      <td>K05</td>\n",
              "      <td>K09</td>\n",
              "    </tr>\n",
              "  </tbody>\n",
              "</table>\n",
              "<p>8311 rows × 8 columns</p>\n",
              "</div>\n",
              "      <button class=\"colab-df-convert\" onclick=\"convertToInteractive('df-f8bcc56a-25c8-47d5-a3a6-b56b5585a051')\"\n",
              "              title=\"Convert this dataframe to an interactive table.\"\n",
              "              style=\"display:none;\">\n",
              "        \n",
              "  <svg xmlns=\"http://www.w3.org/2000/svg\" height=\"24px\"viewBox=\"0 0 24 24\"\n",
              "       width=\"24px\">\n",
              "    <path d=\"M0 0h24v24H0V0z\" fill=\"none\"/>\n",
              "    <path d=\"M18.56 5.44l.94 2.06.94-2.06 2.06-.94-2.06-.94-.94-2.06-.94 2.06-2.06.94zm-11 1L8.5 8.5l.94-2.06 2.06-.94-2.06-.94L8.5 2.5l-.94 2.06-2.06.94zm10 10l.94 2.06.94-2.06 2.06-.94-2.06-.94-.94-2.06-.94 2.06-2.06.94z\"/><path d=\"M17.41 7.96l-1.37-1.37c-.4-.4-.92-.59-1.43-.59-.52 0-1.04.2-1.43.59L10.3 9.45l-7.72 7.72c-.78.78-.78 2.05 0 2.83L4 21.41c.39.39.9.59 1.41.59.51 0 1.02-.2 1.41-.59l7.78-7.78 2.81-2.81c.8-.78.8-2.07 0-2.86zM5.41 20L4 18.59l7.72-7.72 1.47 1.35L5.41 20z\"/>\n",
              "  </svg>\n",
              "      </button>\n",
              "      \n",
              "  <style>\n",
              "    .colab-df-container {\n",
              "      display:flex;\n",
              "      flex-wrap:wrap;\n",
              "      gap: 12px;\n",
              "    }\n",
              "\n",
              "    .colab-df-convert {\n",
              "      background-color: #E8F0FE;\n",
              "      border: none;\n",
              "      border-radius: 50%;\n",
              "      cursor: pointer;\n",
              "      display: none;\n",
              "      fill: #1967D2;\n",
              "      height: 32px;\n",
              "      padding: 0 0 0 0;\n",
              "      width: 32px;\n",
              "    }\n",
              "\n",
              "    .colab-df-convert:hover {\n",
              "      background-color: #E2EBFA;\n",
              "      box-shadow: 0px 1px 2px rgba(60, 64, 67, 0.3), 0px 1px 3px 1px rgba(60, 64, 67, 0.15);\n",
              "      fill: #174EA6;\n",
              "    }\n",
              "\n",
              "    [theme=dark] .colab-df-convert {\n",
              "      background-color: #3B4455;\n",
              "      fill: #D2E3FC;\n",
              "    }\n",
              "\n",
              "    [theme=dark] .colab-df-convert:hover {\n",
              "      background-color: #434B5C;\n",
              "      box-shadow: 0px 1px 3px 1px rgba(0, 0, 0, 0.15);\n",
              "      filter: drop-shadow(0px 1px 2px rgba(0, 0, 0, 0.3));\n",
              "      fill: #FFFFFF;\n",
              "    }\n",
              "  </style>\n",
              "\n",
              "      <script>\n",
              "        const buttonEl =\n",
              "          document.querySelector('#df-f8bcc56a-25c8-47d5-a3a6-b56b5585a051 button.colab-df-convert');\n",
              "        buttonEl.style.display =\n",
              "          google.colab.kernel.accessAllowed ? 'block' : 'none';\n",
              "\n",
              "        async function convertToInteractive(key) {\n",
              "          const element = document.querySelector('#df-f8bcc56a-25c8-47d5-a3a6-b56b5585a051');\n",
              "          const dataTable =\n",
              "            await google.colab.kernel.invokeFunction('convertToInteractive',\n",
              "                                                     [key], {});\n",
              "          if (!dataTable) return;\n",
              "\n",
              "          const docLinkHtml = 'Like what you see? Visit the ' +\n",
              "            '<a target=\"_blank\" href=https://colab.research.google.com/notebooks/data_table.ipynb>data table notebook</a>'\n",
              "            + ' to learn more about interactive tables.';\n",
              "          element.innerHTML = '';\n",
              "          dataTable['output_type'] = 'display_data';\n",
              "          await google.colab.output.renderOutput(dataTable, element);\n",
              "          const docLink = document.createElement('div');\n",
              "          docLink.innerHTML = docLinkHtml;\n",
              "          element.appendChild(docLink);\n",
              "        }\n",
              "      </script>\n",
              "    </div>\n",
              "  </div>\n",
              "  "
            ]
          },
          "metadata": {},
          "execution_count": 34
        }
      ],
      "source": [
        "profile_df"
      ]
    },
    {
      "cell_type": "code",
      "execution_count": null,
      "metadata": {
        "id": "EsyejLMOII1r"
      },
      "outputs": [],
      "source": [
        "user_features  # 나이만."
      ]
    },
    {
      "cell_type": "code",
      "execution_count": null,
      "metadata": {
        "colab": {
          "base_uri": "https://localhost:8080/"
        },
        "id": "0y30RdlWfDHY",
        "outputId": "7958728d-332b-44df-fd74-35dc1bbcc162"
      },
      "outputs": [
        {
          "output_type": "stream",
          "name": "stdout",
          "text": [
            "album_id 749의 genre_mid 정보 : 1\n"
          ]
        }
      ],
      "source": [
        "# 아이템 특징 정보 추출 \n",
        "meta_df = meta_df.set_index('album_id')    # 인덱스의 열로 'album_id' 설정\n",
        "\n",
        "# 범주형 데이터를 수치형 데이터로 변경 \n",
        "le = LabelEncoder()\n",
        "meta_df['genre_mid'] = le.fit_transform(meta_df['genre_mid'])    # genre_mid 중분류 장르 > 수치형 데이터로\n",
        "item_features = meta_df[['genre_mid']].to_dict()\n",
        "print(\"album_id 749의 genre_mid 정보 :\", item_features['genre_mid'][749])"
      ]
    },
    {
      "cell_type": "code",
      "execution_count": null,
      "metadata": {
        "colab": {
          "base_uri": "https://localhost:8080/",
          "height": 1000
        },
        "id": "y-BKpT17IVAP",
        "outputId": "c3c5d18e-458f-4f61-8441-cedc8238897e"
      },
      "outputs": [
        {
          "output_type": "execute_result",
          "data": {
            "text/plain": [
              "                                title   sub_title genre_large  genre_mid  \\\n",
              "album_id                                                                   \n",
              "749                          어둠이 무서워요    꼬마버스 타요1          키즈          1   \n",
              "750                            우리는 친구    꼬마버스 타요1          키즈          1   \n",
              "2131                         타요의 첫 운행    꼬마버스 타요1          키즈          1   \n",
              "2625                          길 잃은 타요    꼬마버스 타요1          키즈          1   \n",
              "2594                    새내기 꼬마 버스의 하루    꼬마버스 타요1          키즈          1   \n",
              "...                               ...         ...         ...        ...   \n",
              "39873     로티프렌즈와 색칠놀이! - 그리피 ＆ 사탕 바구니  로티프렌즈 미술놀이          키즈          5   \n",
              "39874          로티프렌즈와 색칠놀이! - 베블리 ＆ 꽃  로티프렌즈 미술놀이          키즈          5   \n",
              "4779                       손가락을 빨게 돼요        4-5세          키즈         23   \n",
              "4779                       손가락을 빨게 돼요        아이맘콕          키즈         23   \n",
              "11629                          손가락 하나  베이비 타요 동요2          키즈          4   \n",
              "\n",
              "         genre_small country  run_time  onair_date   cast_1 cast_2 cast_3  \\\n",
              "album_id                                                                    \n",
              "749              NaN      한국       660         NaN       타요     로기     라니   \n",
              "750              NaN      한국       660         NaN       타요     로기     라니   \n",
              "2131             NaN      한국       660         NaN       타요     로기     라니   \n",
              "2625             NaN      한국       660         NaN       타요     로기     라니   \n",
              "2594             NaN      한국       660         NaN       타요     로기     라니   \n",
              "...              ...     ...       ...         ...      ...    ...    ...   \n",
              "39873            NaN      한국       477         NaN      NaN    NaN    NaN   \n",
              "39874            NaN      한국       466         NaN      NaN    NaN    NaN   \n",
              "4779             NaN      한국       293         NaN      NaN    NaN    NaN   \n",
              "4779             NaN      한국       293         NaN      NaN    NaN    NaN   \n",
              "11629            NaN      한국        91         NaN  타요와 친구들    NaN    NaN   \n",
              "\n",
              "         cast_4 cast_5 cast_6 cast_7  \n",
              "album_id                              \n",
              "749          가니     시투    NaN    NaN  \n",
              "750          가니     시투    NaN    NaN  \n",
              "2131         가니     시투    NaN    NaN  \n",
              "2625         가니     시투    NaN    NaN  \n",
              "2594         가니     시투    NaN    NaN  \n",
              "...         ...    ...    ...    ...  \n",
              "39873       NaN    NaN    NaN    NaN  \n",
              "39874       NaN    NaN    NaN    NaN  \n",
              "4779        NaN    NaN    NaN    NaN  \n",
              "4779        NaN    NaN    NaN    NaN  \n",
              "11629       NaN    NaN    NaN    NaN  \n",
              "\n",
              "[42602 rows x 15 columns]"
            ],
            "text/html": [
              "\n",
              "  <div id=\"df-b1064b8b-0177-472c-add0-dc9f95f7e997\">\n",
              "    <div class=\"colab-df-container\">\n",
              "      <div>\n",
              "<style scoped>\n",
              "    .dataframe tbody tr th:only-of-type {\n",
              "        vertical-align: middle;\n",
              "    }\n",
              "\n",
              "    .dataframe tbody tr th {\n",
              "        vertical-align: top;\n",
              "    }\n",
              "\n",
              "    .dataframe thead th {\n",
              "        text-align: right;\n",
              "    }\n",
              "</style>\n",
              "<table border=\"1\" class=\"dataframe\">\n",
              "  <thead>\n",
              "    <tr style=\"text-align: right;\">\n",
              "      <th></th>\n",
              "      <th>title</th>\n",
              "      <th>sub_title</th>\n",
              "      <th>genre_large</th>\n",
              "      <th>genre_mid</th>\n",
              "      <th>genre_small</th>\n",
              "      <th>country</th>\n",
              "      <th>run_time</th>\n",
              "      <th>onair_date</th>\n",
              "      <th>cast_1</th>\n",
              "      <th>cast_2</th>\n",
              "      <th>cast_3</th>\n",
              "      <th>cast_4</th>\n",
              "      <th>cast_5</th>\n",
              "      <th>cast_6</th>\n",
              "      <th>cast_7</th>\n",
              "    </tr>\n",
              "    <tr>\n",
              "      <th>album_id</th>\n",
              "      <th></th>\n",
              "      <th></th>\n",
              "      <th></th>\n",
              "      <th></th>\n",
              "      <th></th>\n",
              "      <th></th>\n",
              "      <th></th>\n",
              "      <th></th>\n",
              "      <th></th>\n",
              "      <th></th>\n",
              "      <th></th>\n",
              "      <th></th>\n",
              "      <th></th>\n",
              "      <th></th>\n",
              "      <th></th>\n",
              "    </tr>\n",
              "  </thead>\n",
              "  <tbody>\n",
              "    <tr>\n",
              "      <th>749</th>\n",
              "      <td>어둠이 무서워요</td>\n",
              "      <td>꼬마버스 타요1</td>\n",
              "      <td>키즈</td>\n",
              "      <td>1</td>\n",
              "      <td>NaN</td>\n",
              "      <td>한국</td>\n",
              "      <td>660</td>\n",
              "      <td>NaN</td>\n",
              "      <td>타요</td>\n",
              "      <td>로기</td>\n",
              "      <td>라니</td>\n",
              "      <td>가니</td>\n",
              "      <td>시투</td>\n",
              "      <td>NaN</td>\n",
              "      <td>NaN</td>\n",
              "    </tr>\n",
              "    <tr>\n",
              "      <th>750</th>\n",
              "      <td>우리는 친구</td>\n",
              "      <td>꼬마버스 타요1</td>\n",
              "      <td>키즈</td>\n",
              "      <td>1</td>\n",
              "      <td>NaN</td>\n",
              "      <td>한국</td>\n",
              "      <td>660</td>\n",
              "      <td>NaN</td>\n",
              "      <td>타요</td>\n",
              "      <td>로기</td>\n",
              "      <td>라니</td>\n",
              "      <td>가니</td>\n",
              "      <td>시투</td>\n",
              "      <td>NaN</td>\n",
              "      <td>NaN</td>\n",
              "    </tr>\n",
              "    <tr>\n",
              "      <th>2131</th>\n",
              "      <td>타요의 첫 운행</td>\n",
              "      <td>꼬마버스 타요1</td>\n",
              "      <td>키즈</td>\n",
              "      <td>1</td>\n",
              "      <td>NaN</td>\n",
              "      <td>한국</td>\n",
              "      <td>660</td>\n",
              "      <td>NaN</td>\n",
              "      <td>타요</td>\n",
              "      <td>로기</td>\n",
              "      <td>라니</td>\n",
              "      <td>가니</td>\n",
              "      <td>시투</td>\n",
              "      <td>NaN</td>\n",
              "      <td>NaN</td>\n",
              "    </tr>\n",
              "    <tr>\n",
              "      <th>2625</th>\n",
              "      <td>길 잃은 타요</td>\n",
              "      <td>꼬마버스 타요1</td>\n",
              "      <td>키즈</td>\n",
              "      <td>1</td>\n",
              "      <td>NaN</td>\n",
              "      <td>한국</td>\n",
              "      <td>660</td>\n",
              "      <td>NaN</td>\n",
              "      <td>타요</td>\n",
              "      <td>로기</td>\n",
              "      <td>라니</td>\n",
              "      <td>가니</td>\n",
              "      <td>시투</td>\n",
              "      <td>NaN</td>\n",
              "      <td>NaN</td>\n",
              "    </tr>\n",
              "    <tr>\n",
              "      <th>2594</th>\n",
              "      <td>새내기 꼬마 버스의 하루</td>\n",
              "      <td>꼬마버스 타요1</td>\n",
              "      <td>키즈</td>\n",
              "      <td>1</td>\n",
              "      <td>NaN</td>\n",
              "      <td>한국</td>\n",
              "      <td>660</td>\n",
              "      <td>NaN</td>\n",
              "      <td>타요</td>\n",
              "      <td>로기</td>\n",
              "      <td>라니</td>\n",
              "      <td>가니</td>\n",
              "      <td>시투</td>\n",
              "      <td>NaN</td>\n",
              "      <td>NaN</td>\n",
              "    </tr>\n",
              "    <tr>\n",
              "      <th>...</th>\n",
              "      <td>...</td>\n",
              "      <td>...</td>\n",
              "      <td>...</td>\n",
              "      <td>...</td>\n",
              "      <td>...</td>\n",
              "      <td>...</td>\n",
              "      <td>...</td>\n",
              "      <td>...</td>\n",
              "      <td>...</td>\n",
              "      <td>...</td>\n",
              "      <td>...</td>\n",
              "      <td>...</td>\n",
              "      <td>...</td>\n",
              "      <td>...</td>\n",
              "      <td>...</td>\n",
              "    </tr>\n",
              "    <tr>\n",
              "      <th>39873</th>\n",
              "      <td>로티프렌즈와 색칠놀이! - 그리피 ＆ 사탕 바구니</td>\n",
              "      <td>로티프렌즈 미술놀이</td>\n",
              "      <td>키즈</td>\n",
              "      <td>5</td>\n",
              "      <td>NaN</td>\n",
              "      <td>한국</td>\n",
              "      <td>477</td>\n",
              "      <td>NaN</td>\n",
              "      <td>NaN</td>\n",
              "      <td>NaN</td>\n",
              "      <td>NaN</td>\n",
              "      <td>NaN</td>\n",
              "      <td>NaN</td>\n",
              "      <td>NaN</td>\n",
              "      <td>NaN</td>\n",
              "    </tr>\n",
              "    <tr>\n",
              "      <th>39874</th>\n",
              "      <td>로티프렌즈와 색칠놀이! - 베블리 ＆ 꽃</td>\n",
              "      <td>로티프렌즈 미술놀이</td>\n",
              "      <td>키즈</td>\n",
              "      <td>5</td>\n",
              "      <td>NaN</td>\n",
              "      <td>한국</td>\n",
              "      <td>466</td>\n",
              "      <td>NaN</td>\n",
              "      <td>NaN</td>\n",
              "      <td>NaN</td>\n",
              "      <td>NaN</td>\n",
              "      <td>NaN</td>\n",
              "      <td>NaN</td>\n",
              "      <td>NaN</td>\n",
              "      <td>NaN</td>\n",
              "    </tr>\n",
              "    <tr>\n",
              "      <th>4779</th>\n",
              "      <td>손가락을 빨게 돼요</td>\n",
              "      <td>4-5세</td>\n",
              "      <td>키즈</td>\n",
              "      <td>23</td>\n",
              "      <td>NaN</td>\n",
              "      <td>한국</td>\n",
              "      <td>293</td>\n",
              "      <td>NaN</td>\n",
              "      <td>NaN</td>\n",
              "      <td>NaN</td>\n",
              "      <td>NaN</td>\n",
              "      <td>NaN</td>\n",
              "      <td>NaN</td>\n",
              "      <td>NaN</td>\n",
              "      <td>NaN</td>\n",
              "    </tr>\n",
              "    <tr>\n",
              "      <th>4779</th>\n",
              "      <td>손가락을 빨게 돼요</td>\n",
              "      <td>아이맘콕</td>\n",
              "      <td>키즈</td>\n",
              "      <td>23</td>\n",
              "      <td>NaN</td>\n",
              "      <td>한국</td>\n",
              "      <td>293</td>\n",
              "      <td>NaN</td>\n",
              "      <td>NaN</td>\n",
              "      <td>NaN</td>\n",
              "      <td>NaN</td>\n",
              "      <td>NaN</td>\n",
              "      <td>NaN</td>\n",
              "      <td>NaN</td>\n",
              "      <td>NaN</td>\n",
              "    </tr>\n",
              "    <tr>\n",
              "      <th>11629</th>\n",
              "      <td>손가락 하나</td>\n",
              "      <td>베이비 타요 동요2</td>\n",
              "      <td>키즈</td>\n",
              "      <td>4</td>\n",
              "      <td>NaN</td>\n",
              "      <td>한국</td>\n",
              "      <td>91</td>\n",
              "      <td>NaN</td>\n",
              "      <td>타요와 친구들</td>\n",
              "      <td>NaN</td>\n",
              "      <td>NaN</td>\n",
              "      <td>NaN</td>\n",
              "      <td>NaN</td>\n",
              "      <td>NaN</td>\n",
              "      <td>NaN</td>\n",
              "    </tr>\n",
              "  </tbody>\n",
              "</table>\n",
              "<p>42602 rows × 15 columns</p>\n",
              "</div>\n",
              "      <button class=\"colab-df-convert\" onclick=\"convertToInteractive('df-b1064b8b-0177-472c-add0-dc9f95f7e997')\"\n",
              "              title=\"Convert this dataframe to an interactive table.\"\n",
              "              style=\"display:none;\">\n",
              "        \n",
              "  <svg xmlns=\"http://www.w3.org/2000/svg\" height=\"24px\"viewBox=\"0 0 24 24\"\n",
              "       width=\"24px\">\n",
              "    <path d=\"M0 0h24v24H0V0z\" fill=\"none\"/>\n",
              "    <path d=\"M18.56 5.44l.94 2.06.94-2.06 2.06-.94-2.06-.94-.94-2.06-.94 2.06-2.06.94zm-11 1L8.5 8.5l.94-2.06 2.06-.94-2.06-.94L8.5 2.5l-.94 2.06-2.06.94zm10 10l.94 2.06.94-2.06 2.06-.94-2.06-.94-.94-2.06-.94 2.06-2.06.94z\"/><path d=\"M17.41 7.96l-1.37-1.37c-.4-.4-.92-.59-1.43-.59-.52 0-1.04.2-1.43.59L10.3 9.45l-7.72 7.72c-.78.78-.78 2.05 0 2.83L4 21.41c.39.39.9.59 1.41.59.51 0 1.02-.2 1.41-.59l7.78-7.78 2.81-2.81c.8-.78.8-2.07 0-2.86zM5.41 20L4 18.59l7.72-7.72 1.47 1.35L5.41 20z\"/>\n",
              "  </svg>\n",
              "      </button>\n",
              "      \n",
              "  <style>\n",
              "    .colab-df-container {\n",
              "      display:flex;\n",
              "      flex-wrap:wrap;\n",
              "      gap: 12px;\n",
              "    }\n",
              "\n",
              "    .colab-df-convert {\n",
              "      background-color: #E8F0FE;\n",
              "      border: none;\n",
              "      border-radius: 50%;\n",
              "      cursor: pointer;\n",
              "      display: none;\n",
              "      fill: #1967D2;\n",
              "      height: 32px;\n",
              "      padding: 0 0 0 0;\n",
              "      width: 32px;\n",
              "    }\n",
              "\n",
              "    .colab-df-convert:hover {\n",
              "      background-color: #E2EBFA;\n",
              "      box-shadow: 0px 1px 2px rgba(60, 64, 67, 0.3), 0px 1px 3px 1px rgba(60, 64, 67, 0.15);\n",
              "      fill: #174EA6;\n",
              "    }\n",
              "\n",
              "    [theme=dark] .colab-df-convert {\n",
              "      background-color: #3B4455;\n",
              "      fill: #D2E3FC;\n",
              "    }\n",
              "\n",
              "    [theme=dark] .colab-df-convert:hover {\n",
              "      background-color: #434B5C;\n",
              "      box-shadow: 0px 1px 3px 1px rgba(0, 0, 0, 0.15);\n",
              "      filter: drop-shadow(0px 1px 2px rgba(0, 0, 0, 0.3));\n",
              "      fill: #FFFFFF;\n",
              "    }\n",
              "  </style>\n",
              "\n",
              "      <script>\n",
              "        const buttonEl =\n",
              "          document.querySelector('#df-b1064b8b-0177-472c-add0-dc9f95f7e997 button.colab-df-convert');\n",
              "        buttonEl.style.display =\n",
              "          google.colab.kernel.accessAllowed ? 'block' : 'none';\n",
              "\n",
              "        async function convertToInteractive(key) {\n",
              "          const element = document.querySelector('#df-b1064b8b-0177-472c-add0-dc9f95f7e997');\n",
              "          const dataTable =\n",
              "            await google.colab.kernel.invokeFunction('convertToInteractive',\n",
              "                                                     [key], {});\n",
              "          if (!dataTable) return;\n",
              "\n",
              "          const docLinkHtml = 'Like what you see? Visit the ' +\n",
              "            '<a target=\"_blank\" href=https://colab.research.google.com/notebooks/data_table.ipynb>data table notebook</a>'\n",
              "            + ' to learn more about interactive tables.';\n",
              "          element.innerHTML = '';\n",
              "          dataTable['output_type'] = 'display_data';\n",
              "          await google.colab.output.renderOutput(dataTable, element);\n",
              "          const docLink = document.createElement('div');\n",
              "          docLink.innerHTML = docLinkHtml;\n",
              "          element.appendChild(docLink);\n",
              "        }\n",
              "      </script>\n",
              "    </div>\n",
              "  </div>\n",
              "  "
            ]
          },
          "metadata": {},
          "execution_count": 37
        }
      ],
      "source": [
        "meta_df"
      ]
    },
    {
      "cell_type": "code",
      "execution_count": null,
      "metadata": {
        "id": "Eh4i8qW-fDHZ"
      },
      "outputs": [],
      "source": [
        "# 추출한 특징 정보의 속성을 저장 > side-info selection\n",
        "cfg.n_genres = meta_df['genre_mid'].nunique()   # 중분류 장르\n",
        "cfg.n_continuous_feats = 1    # age"
      ]
    },
    {
      "cell_type": "markdown",
      "metadata": {
        "id": "REzvMyWZYU1S"
      },
      "source": [
        "## NeuMF 구현\n",
        "\n",
        "\n",
        "### 모델 구현 \n",
        "- [Neural Collaborative Filtering(NCF)](https://arxiv.org/pdf/1708.05031.pdf) 논문의 NeuMF를 참고하여 side-information을 결합한 모델을 PyTorch로 구현\n",
        "    - continuous feature (age)와 categorical feature (genre_mid)를 같이 학습할 수 있도록 결합"
      ]
    },
    {
      "cell_type": "markdown",
      "source": [
        "참고 자료 : 신경망을 사용한 Matrix Factorization 모델과 NeuMF(Neural Collaborative Filtering)\\ https://glanceyes.tistory.com/entry/%EC%8B%A0%EA%B2%BD%EB%A7%9D%EC%9D%84-%EC%82%AC%EC%9A%A9%ED%95%9C-Matrix-Factorization-%EB%AA%A8%EB%8D%B8%EA%B3%BC-NeuMF"
      ],
      "metadata": {
        "id": "iBAFrcsvP7K2"
      }
    },
    {
      "cell_type": "markdown",
      "metadata": {
        "id": "QAgGyyJofDHZ"
      },
      "source": [
        "![](http://drive.google.com/uc?export=view&id=1tpajTLipLoFdvLICO-alAxeoKAE8-k61)"
      ]
    },
    {
      "cell_type": "code",
      "execution_count": null,
      "metadata": {
        "id": "hWOt2J5nYU1U"
      },
      "outputs": [],
      "source": [
        "## GMF와 MLP -> 유저와 아이템 간의 임베딩 벡터로 구성\n",
        "\n",
        "class NeuMF(nn.Module):\n",
        "  \"\"\"Neural Matrix Factorization Model\n",
        "        참고 문헌 : https://arxiv.org/abs/1708.05031\n",
        "\n",
        "    예시 :\n",
        "        model = NeuMF(cfg) \n",
        "        output = model.forward(user_ids, item_ids, [feat0, feat1]) \n",
        "    \"\"\"\n",
        "\n",
        "    # **kwargs : 딕셔너리 형태로 값을 저장, 파라미터 명을 같이 보내는 가변인자를 위한 변수\n",
        "    def __init__(self, cfg):\n",
        "    #      def __init__(self, num_factors, num_users, num_items, nums_hiddens, **kwargs):\n",
        "        \"\"\" \n",
        "        Args:\n",
        "            cfg : config 파일로 네트워크 생성에 필요한 정보들을 담고 있음\n",
        "        \"\"\"\n",
        "        super(NeuMF, self).__init__()   # super(NeuMF, self).__init__(**kwargs)\n",
        "        self.n_users = cfg.n_users  #  사용자\n",
        "        self.n_items = cfg.n_items  #  콘텐츠\n",
        "        self.emb_dim = cfg.emb_dim\n",
        "        self.layer_dim = cfg.layer_dim   \n",
        "        self.n_continuous_feats = cfg.n_continuous_feats  # age\n",
        "        self.n_genres = cfg.n_genres    # 중분류\n",
        "        self.dropout = cfg.dropout\n",
        "        self.build_graph()\n",
        "\n",
        "    def build_graph(self):\n",
        "        \"\"\"Neural Matrix Factorization Model 생성\n",
        "            구현된 모습은 위의 그림을 참고 \n",
        "        \"\"\"\n",
        "        # mf: Generalized Matrix Factorization > 유저와 아이템 간의 선형적 관계 파악\n",
        "        self.user_embedding_mf = nn.Embedding(num_embeddings=self.n_users, embedding_dim=self.emb_dim)\n",
        "        self.item_embedding_mf = nn.Embedding(num_embeddings=self.n_items, embedding_dim=self.emb_dim)\n",
        "        \n",
        "        # MLP MF : Multi-Layer Perceptron Matrix Factorization > 유저와 아이템 간의 비선형적 관계 파악\n",
        "        # MF에 layer 여러 개 추가, 각 layer마다 비선형함수 적용\n",
        "        self.user_embedding_mlp = nn.Embedding(num_embeddings=self.n_users, embedding_dim=self.emb_dim)\n",
        "        self.item_embedding_mlp = nn.Embedding(num_embeddings=self.n_items, embedding_dim=self.emb_dim)\n",
        "                \n",
        "        self.genre_embeddig = nn.Embedding(num_embeddings=self.n_genres, embedding_dim=self.n_genres//2)\n",
        "        \n",
        "        # MLP의 구조, (ReLU는 기본 활성화함수)\n",
        "        self.mlp_layers = nn.Sequential(\n",
        "            nn.Linear(2*self.emb_dim + self.n_genres//2 + self.n_continuous_feats, self.layer_dim),  \n",
        "            nn.ReLU(), \n",
        "            nn.Dropout(p=self.dropout), \n",
        "            nn.Linear(self.layer_dim, self.layer_dim//2),  \n",
        "            nn.ReLU(), \n",
        "            nn.Dropout(p=self.dropout)\n",
        "        )\n",
        "        self.affine_output = nn.Linear(self.layer_dim//2 + self.emb_dim, 1)\n",
        "        self.apply(self._init_weights)    # 가중치 초기화 함수 적용\n",
        "        \n",
        "\n",
        "# 가중치 초기화\n",
        "    def _init_weights(self, module): \n",
        "        if isinstance(module, nn.Embedding):\n",
        "            normal_(module.weight.data, mean=0.0, std=0.01)  # 평균이 0이고, 표준편차가 1인 정규 분포의 모든 가중치를 초기화\n",
        "            # std값이 작을 수록 성능이 향상됨. 0.15로 둬볼까..?  \n",
        "        elif isinstance(module, nn.Linear):   \n",
        "            normal_(module.weight.data, 0, 0.01)\n",
        "            if module.bias is not None:\n",
        "                module.bias.data.fill_(0.0)    # 모든 편향을 0으로 초기화\n",
        "    \n",
        "    # forward(self, x, y) = x * y 순전파 > 역전파에 필요한 변수 저장.\n",
        "    def forward(self, user_indices, item_indices, feats):\n",
        "        \"\"\" \n",
        "        Args:\n",
        "            user_indices : 유저의 인덱스 정보 \n",
        "                ex) tensor([ 3100,  3100,  ..., 14195, 14195])\n",
        "            item_indices : 아이템의 인덱스 정보\n",
        "                ex) tensor([   50,    65,   ..., 14960, 11527])\n",
        "            feats : 특징 정보 \n",
        "        Returns: \n",
        "            output : 유저-아이템 쌍에 대한 추천 결과 \n",
        "                ex) tensor([  9.4966,  22.0261, ..., -19.3535, -23.0212])\n",
        "        \"\"\"\n",
        "        user_embedding_mf = self.user_embedding_mf(user_indices)    # 유저의 인덱스 정보 mf에 임베딩\n",
        "        item_embedding_mf = self.item_embedding_mf(item_indices)  # 아이템의 인덱스 정보 mf에 임베딩\n",
        "        mf_output = torch.mul(user_embedding_mf, item_embedding_mf)   # 단순 곱셈 (선형이니까.) > 최종 mf_output\n",
        "        \n",
        "        user_embedding_mlp = self.user_embedding_mlp(user_indices)  # 유저의 인덱스 정보 mlp에 임베딩\n",
        "        item_embedding_mlp = self.item_embedding_mlp(item_indices)  # 아이템의 인덱스 정보 mlp에 임베딩\n",
        "        genre_embedding_mlp = self.genre_embeddig(feats[1]) \n",
        "        # mlp input feature!!! > 멀티 레이어라 mf보다 인풋이 많을 수 밖에\n",
        "        input_feature = torch.cat((user_embedding_mlp, item_embedding_mlp, genre_embedding_mlp, feats[0].unsqueeze(1)), -1)\n",
        "        # 최종 mlp output!!!!\n",
        "        mlp_output = self.mlp_layers(input_feature)\n",
        "        \n",
        "         # mlp와 mf 값의 concatenate. = 최종 output!!!\n",
        "        output = torch.cat([mlp_output, mf_output], dim=-1)   \n",
        "        output = self.affine_output(output).squeeze(-1)  # affine : 순전파 과정에서 수행하는 행렬의 곱\n",
        "        return output"
      ]
    },
    {
      "cell_type": "markdown",
      "metadata": {
        "id": "hE7ZtudJYU1V"
      },
      "source": [
        "### 학습 및 추론 코드 구현\n",
        "\n",
        "- 학습 : Negative sampling(목적 함수)을 활용하여 Binary Classification 진행 \n",
        "    - history 에 있는 album_id는 positive label로 그렇지 않은 album_id는 nagative label로 활용  \n",
        "    - 단, 이때 모든 album_id를 negative label로 활용하는 것이 아닌 일부만 사용 (neg_ratio 값에 따라서 개수 조정)\n",
        "- 추론 : 일부 데이터에 대해 recall, ndcg, coverage 성능 확인"
      ]
    },
    {
      "cell_type": "markdown",
      "source": [
        "# Negative Sampling\n",
        "- 무관한 단어들에 대해서는 weight를 업데이트하지 않아도 된다\n",
        "\n",
        "- 무관한 값 = 0 = negative\n",
        "- 유관한 값 = 1 = positive\n",
        "\n",
        "- n개의 negative 값을 선택하고 이 값들에 대해서만 positive 값과 함께 학습한다. (n은 하이퍼파라미터.)\n",
        "\n",
        "- Sampling할 negative의 갯수인 n은 작은 데이터에서는 5-20, 큰 데이터에서는 2-5라고 논문에서 제시.\n",
        "\n",
        "- 샘플링 될 단어의 빈도수에 따라 weight, 즉 가중치를 부여하는 방식 -> 빈도수가 큰 단어일수록 negative sampling이 될 확률이 높다."
      ],
      "metadata": {
        "id": "4q4rh6CD0MVU"
      }
    },
    {
      "cell_type": "markdown",
      "metadata": {
        "id": "RGTiX3PsYU1V"
      },
      "source": [
        "#### 학습 및 추론에 필요한 데이터 셋 생성 코드 구현"
      ]
    },
    {
      "cell_type": "code",
      "execution_count": null,
      "metadata": {
        "id": "N58Mzes_fDHa"
      },
      "outputs": [],
      "source": [
        "def make_UIdataset(train, neg_ratio):\n",
        "    \"\"\" 유저별 학습에 필요한 딕셔너리 데이터 생성 \n",
        "    Args:\n",
        "        train : 유저-아이템의 상호작용을 담은 행렬 \n",
        "            ex) \n",
        "                array([[0., 0., 0., ..., 0., 0., 0.],\n",
        "                        [0., 0., 0., ..., 0., 0., 0.],\n",
        "                        [0., 0., 0., ..., 0., 0., 0.],\n",
        "                        ...,\n",
        "                        [0., 0., 0., ..., 0., 0., 0.],\n",
        "                        [0., 0., 0., ..., 0., 0., 0.],\n",
        "                        [0., 0., 0., ..., 0., 0., 0.]])\n",
        "        neg_ratio : negative sampling 활용할 비율 \n",
        "            ex) 3 (positive label 1개당 negative label 3개)\n",
        "    Returns: \n",
        "        UIdataset : 유저별 학습에 필요한 정보를 담은 딕셔너리 \n",
        "            ex) {'사용자 ID': [[positive 샘플, negative 샘플], ... , [1, 1, 1, ..., 0, 0]]}\n",
        "                >>> UIdataset[3]\n",
        "                    [array([   16,    17,    18, ...,  9586, 18991,  9442]),\n",
        "                    array([5, 5, 5, ..., 5, 5, 5]),\n",
        "                    array([4, 4, 4, ..., 5, 1, 1]),\n",
        "                    array([1., 1., 1., ..., 0., 0., 0.])]\n",
        "    \"\"\"\n",
        "    UIdataset = {}     # 유저별 학습에 필요한 정보\n",
        "    for user_id, items_by_user in enumerate(train):\n",
        "        UIdataset[user_id] = [] \n",
        "        # positive 샘플 계산 : 유관(1에 가깝)\n",
        "        pos_item_ids = np.where(items_by_user > 0.5)[0] \n",
        "        num_pos_samples = len(pos_item_ids)\n",
        "\n",
        "        # negative 샘플 계산 (random negative sampling) : 무관(0에 가깝)\n",
        "        num_neg_samples = neg_ratio * num_pos_samples  # 비율에 맞는 negative값 활용\n",
        "        neg_items = np.where(items_by_user < 0.5)[0]   # [0]이 의미하는 건 뭐지?\n",
        "        neg_item_ids = np.random.choice(neg_items, min(num_neg_samples, len(neg_items)), replace=False)\n",
        "        UIdataset[user_id].append(np.concatenate([pos_item_ids, neg_item_ids]))\n",
        "\n",
        "        ## np.where : 조건을 만족하는 위치 인덱스 찾기\n",
        "        \n",
        "        # feature 추출 \n",
        "        features = []\n",
        "        for item_id in np.concatenate([pos_item_ids, neg_item_ids]): \n",
        "            features.append(user_features['age'][user_id])        # age를 유저 피처로 append > UIdataset에 넣기\n",
        "        UIdataset[user_id].append(np.array(features))  \n",
        "        \n",
        "        features = []\n",
        "        for item_id in np.concatenate([pos_item_ids, neg_item_ids]): \n",
        "            features.append(item_features['genre_mid'][item_id])   # 중분류를 아이템 피처로 append > UIdataset에 넣기\n",
        "        UIdataset[user_id].append(np.array(features))\n",
        "        \n",
        "        # label 저장  \n",
        "        pos_labels = np.ones(len(pos_item_ids))   # positive 개수 넣기\n",
        "        neg_labels = np.zeros(len(neg_item_ids))   # negative 개수 넣기\n",
        "        UIdataset[user_id].append(np.concatenate([pos_labels, neg_labels]))   #  연산하여 최종 개수 값으로 label 넣기.\n",
        "\n",
        "    return UIdataset"
      ]
    },
    {
      "cell_type": "code",
      "execution_count": null,
      "metadata": {
        "id": "PVgZJkgFfDHa"
      },
      "outputs": [],
      "source": [
        "UIdataset = make_UIdataset(train, neg_ratio=cfg.neg_ratio)"
      ]
    },
    {
      "cell_type": "code",
      "execution_count": null,
      "metadata": {
        "id": "sdntgTqhfDHb"
      },
      "outputs": [],
      "source": [
        "def make_batchdata(user_indices, batch_idx, batch_size):\n",
        "    \"\"\" 배치 데이터로 변환 \n",
        "    Args:\n",
        "        user_indices : 전체 유저의 인덱스 정보 \n",
        "            ex) array([ 3100,  1800, 30098, ...,  2177, 11749, 20962])\n",
        "        batch_idx : 배치 인덱스 (몇번째 배치인지)\n",
        "            ex) 0 \n",
        "        batch_size : 배치 크기 \n",
        "            ex) 256 \n",
        "    Returns \n",
        "        batch_user_ids : 배치내의 유저 인덱스 정보 \n",
        "            ex) [22194, 22194, 22194, 22194, 22194, ...]\n",
        "        batch_item_ids : 배치내의 아이템 인덱스 정보 \n",
        "            ex) [36, 407, 612, 801, 1404, ...]\n",
        "        batch_feat0 : 배치내의 유저-아이템 인덱스 정보에 해당하는 feature0 정보 \n",
        "            ex) [6, 6, 6, 6, 6, ...]\n",
        "        batch_feat1 : 배치내의 유저-아이템 인덱스 정보에 해당하는 feature1 정보 \n",
        "            ex) [4,  4,  4, 23,  4, ...]\n",
        "        batch_labels : 배치내의 유저-아이템 인덱스 정보에 해당하는 label 정보 \n",
        "            ex) [1.0, 1.0, 1.0, 1.0, 1.0, ...]\n",
        "    \"\"\"\n",
        "    batch_user_indices = user_indices[batch_idx*batch_size : (batch_idx+1)*batch_size]\n",
        "    batch_user_ids = []\n",
        "    batch_item_ids = []\n",
        "    batch_feat0 = []\n",
        "    batch_feat1 = []\n",
        "    batch_labels = []\n",
        "    for user_id in batch_user_indices:\n",
        "        item_ids = UIdataset[user_id][0]\n",
        "        feat0 = UIdataset[user_id][1]\n",
        "        feat1 = UIdataset[user_id][2]\n",
        "        labels = UIdataset[user_id][3]\n",
        "        user_ids = np.full(len(item_ids), user_id)\n",
        "        batch_user_ids.extend(user_ids.tolist())\n",
        "        batch_item_ids.extend(item_ids.tolist())\n",
        "        batch_feat0.extend(feat0.tolist())\n",
        "        batch_feat1.extend(feat1.tolist())\n",
        "        batch_labels.extend(labels.tolist())\n",
        "    return batch_user_ids, batch_item_ids, batch_feat0, batch_feat1, batch_labels\n",
        "\n",
        "def update_avg(curr_avg, val, idx):\n",
        "    \"\"\" 현재 epoch 까지의 평균 값을 계산 \n",
        "    \"\"\"\n",
        "    return (curr_avg * idx + val) / (idx + 1)"
      ]
    },
    {
      "cell_type": "markdown",
      "metadata": {
        "id": "lkF4qRcofDHb"
      },
      "source": [
        "#### 학습 및 검증 코드 생성"
      ]
    },
    {
      "cell_type": "code",
      "execution_count": null,
      "metadata": {
        "id": "dS1EPRpeYU1W"
      },
      "outputs": [],
      "source": [
        "def train_epoch(cfg, model, optimizer, criterion): \n",
        "    model.train()\n",
        "    curr_loss_avg = 0.0   \n",
        "\n",
        "    user_indices = np.arange(cfg.n_users)    # 유저 정보\n",
        "    np.random.RandomState(cfg.epoch).shuffle(user_indices)   # 유저 정보 랜덤 셔플\n",
        "    batch_num = int(len(user_indices) / cfg.batch_size) + 1\n",
        "    bar = tqdm(range(batch_num), leave=False)    # 학습 진행률 시각화\n",
        "    for step, batch_idx in enumerate(bar):\n",
        "        user_ids, item_ids, feat0, feat1, labels = make_batchdata(user_indices, batch_idx, cfg.batch_size)\n",
        "        # 배치 사용자 단위로 학습\n",
        "        user_ids = torch.LongTensor(user_ids).to(cfg.device)\n",
        "        item_ids = torch.LongTensor(item_ids).to(cfg.device)\n",
        "        feat0 = torch.FloatTensor(feat0).to(cfg.device)\n",
        "        feat1 = torch.LongTensor(feat1).to(cfg.device)\n",
        "        labels = torch.FloatTensor(labels).to(cfg.device)\n",
        "        labels = labels.view(-1, 1)    \n",
        "\n",
        "        # grad 초기화\n",
        "        optimizer.zero_grad()\n",
        "\n",
        "        # 모델 forward\n",
        "        output = model.forward(user_ids, item_ids, [feat0, feat1])\n",
        "        output = output.view(-1, 1)\n",
        "\n",
        "        loss = criterion(output, labels)\n",
        "\n",
        "        # 역전파\n",
        "        loss.backward()\n",
        "\n",
        "        # 최적화\n",
        "        optimizer.step()    \n",
        "        if torch.isnan(loss):\n",
        "            print('Loss NAN. Train finish.')\n",
        "            break\n",
        "        curr_loss_avg = update_avg(curr_loss_avg, loss, step)\n",
        "        \n",
        "        msg = f\"epoch: {cfg.epoch}, \"\n",
        "        msg += f\"loss: {curr_loss_avg.item():.5f}, \"\n",
        "        msg += f\"lr: {optimizer.param_groups[0]['lr']:.6f}\"\n",
        "        bar.set_description(msg)\n",
        "    rets = {'losses': np.around(curr_loss_avg.item(), 5)}\n",
        "    return rets"
      ]
    },
    {
      "cell_type": "markdown",
      "source": [
        "평가 지표 관련 자료 : https://sungkee-book.tistory.com/11"
      ],
      "metadata": {
        "id": "ZRY7pMMnnCPl"
      }
    },
    {
      "cell_type": "code",
      "execution_count": null,
      "metadata": {
        "id": "wa6AWtb0fDHc"
      },
      "outputs": [],
      "source": [
        "def recallk(actual, predicted, k = 25):\n",
        "    \"\"\" label과 prediction 사이의 recall 평가 함수 \n",
        "    Args:\n",
        "        actual : 실제로 본 상품 리스트\n",
        "        pred : 예측한 상품 리스트\n",
        "        k : 상위 몇개의 데이터를 볼지 (ex : k=5 상위 5개의 상품만 봄)\n",
        "    Returns: \n",
        "        recall_k : recall@k \n",
        "    \"\"\" \n",
        "    set_actual = set(actual)\n",
        "    recall_k = len(set_actual & set(predicted[:k])) / min(k, len(set_actual))\n",
        "    return recall_k\n",
        "\n",
        "def unique(sequence):\n",
        "    # preserves order\n",
        "    seen = set()\n",
        "    return [x for x in sequence if not (x in seen or seen.add(x))]\n",
        "\n",
        "def ndcgk(actual, predicted, k = 25):\n",
        "    set_actual = set(actual)\n",
        "    idcg = sum([1.0 / np.log(i + 2) for i in range(min(k, len(set_actual)))])\n",
        "    dcg = 0.0\n",
        "    unique_predicted = unique(predicted[:k])\n",
        "    for i, r in enumerate(unique_predicted):\n",
        "        if r in set_actual:\n",
        "            dcg += 1.0 / np.log(i + 2)\n",
        "    ndcg_k = dcg / idcg\n",
        "    return ndcg_k\n",
        "\n",
        "def evaluation(gt, pred):\n",
        "    \"\"\" label과 prediction 사이의 recall, coverage, competition metric 평가 함수 \n",
        "    Args:\n",
        "        gt : 데이터 프레임 형태의 정답 데이터 -> 이미 학습 끝난 후의 검증 과정이다.\n",
        "        pred : 데이터 프레임 형태의 예측 데이터 \n",
        "    Returns: \n",
        "        rets : recall, ndcg, coverage, competition metric 결과 \n",
        "            ex) {'recall': 0.123024, 'ndcg': 056809, 'coverage': 0.017455, 'score': 0.106470}\n",
        "    \"\"\"    \n",
        "    gt = gt.groupby('profile_id')['album_id'].unique().to_frame().reset_index()\n",
        "    gt.columns = ['profile_id', 'actual_list']\n",
        "\n",
        "    evaluated_data = pd.merge(pred, gt, how = 'left', on = 'profile_id')\n",
        "\n",
        "# Recall@K :사용자가 관심있는 전체 아이템 가운데 우리가 추천한 아이템의 비율로서 정확도를 측정하기 위해 적용, 전체 점수 중 75% 비중\n",
        "# NDCG@K :추천한 아이템에 대하여 순서에 가중치를 두어 평가하는 지표로서 추천 아이템의 우선순위를 측정하기 위해 적용, 전체 점수 25% 비중\n",
        "\n",
        "\n",
        "    evaluated_data['Recall@25'] = evaluated_data.apply(lambda x: recallk(x.actual_list, x.predicted_list), axis=1)\n",
        "    evaluated_data['NDCG@25'] = evaluated_data.apply(lambda x: ndcgk(x.actual_list, x.predicted_list), axis=1)\n",
        "\n",
        "    recall = evaluated_data['Recall@25'].mean()\n",
        "    ndcg = evaluated_data['NDCG@25'] .mean()\n",
        "    coverage = (evaluated_data['predicted_list'].apply(lambda x: x[:cfg.top_k]).explode().nunique())/meta_df.index.nunique()\n",
        "\n",
        "    score = 0.75*recall + 0.25*ndcg\n",
        "    rets = {\"recall\" :recall, \n",
        "            \"ndcg\" :ndcg, \n",
        "            \"coverage\" :coverage, \n",
        "            \"score\" :score}\n",
        "    return rets"
      ]
    },
    {
      "cell_type": "code",
      "execution_count": null,
      "metadata": {
        "id": "FQgUJbTOYU1X"
      },
      "outputs": [],
      "source": [
        "def valid_epoch(cfg, model, data, mode='valid'):\n",
        "    pred_list = []\n",
        "    model.eval()\n",
        "    \n",
        "    query_user_ids = data['profile_id'].unique() # 추론할 모든 user array 집합\n",
        "    full_item_ids = np.array([c for c in range(cfg.n_items)]) # 추론할 모든 item array 집합 \n",
        "    full_item_ids_feat1 = [item_features['genre_mid'][c] for c in full_item_ids]\n",
        "    for user_id in query_user_ids:\n",
        "        with torch.no_grad():\n",
        "            user_ids = np.full(cfg.n_items, user_id)\n",
        "            \n",
        "            user_ids = torch.LongTensor(user_ids).to(cfg.device)\n",
        "            item_ids = torch.LongTensor(full_item_ids).to(cfg.device)\n",
        "            \n",
        "            feat0 = np.full(cfg.n_items, user_features['age'][user_id])\n",
        "            feat0 = torch.FloatTensor(feat0).to(cfg.device)\n",
        "            feat1 = torch.LongTensor(full_item_ids_feat1).to(cfg.device)\n",
        "            \n",
        "            eval_output = model.forward(user_ids, item_ids, [feat0, feat1]).detach().cpu().numpy()\n",
        "            pred_u_score = eval_output.reshape(-1)   \n",
        "        \n",
        "        pred_u_idx = np.argsort(pred_u_score)[::-1]\n",
        "        pred_u = full_item_ids[pred_u_idx]\n",
        "        pred_list.append(list(pred_u[:cfg.top_k]))\n",
        "        \n",
        "    pred = pd.DataFrame()\n",
        "    pred['profile_id'] = query_user_ids\n",
        "    pred['predicted_list'] = pred_list\n",
        "    \n",
        "    # 모델 성능 확인 \n",
        "    if mode == 'valid':\n",
        "        rets = evaluation(data, pred)\n",
        "        return rets, pred\n",
        "    return pred"
      ]
    },
    {
      "cell_type": "markdown",
      "metadata": {
        "id": "CNizwe-kfDHc"
      },
      "source": [
        "## 모델 학습"
      ]
    },
    {
      "cell_type": "markdown",
      "metadata": {
        "id": "n-D5bJx7YU1X"
      },
      "source": [
        "### 하이퍼파라미터 설정 & 최적화 기법 설정"
      ]
    },
    {
      "cell_type": "code",
      "execution_count": null,
      "metadata": {
        "id": "ftA8t1nZfDHd"
      },
      "outputs": [],
      "source": [
        "# 하이퍼 파라미터 설정 \n",
        "cfg.batch_size = 256\n",
        "cfg.emb_dim = 256\n",
        "cfg.layer_dim = 256\n",
        "cfg.dropout = 0.05\n",
        "cfg.epochs = 25\n",
        "cfg.learning_rate = 0.0025\n",
        "cfg.reg_lambda = 0    # 학습과정에서의 가중치 > 작을수록 가중치 값이 커져서 오버피팅이 될 가능성이 있음.\n",
        "cfg.check_epoch = 1"
      ]
    },
    {
      "cell_type": "code",
      "execution_count": null,
      "metadata": {
        "id": "i-ITDDAvfDHd"
      },
      "outputs": [],
      "source": [
        "# model 생성 및 optimizer, loss 함수 설정 \n",
        "model = NeuMF(cfg).to(cfg.device)\n",
        "optimizer = torch.optim.Adam(model.parameters(), lr=cfg.learning_rate, weight_decay=cfg.reg_lambda)\n",
        "criterion = torch.nn.BCEWithLogitsLoss(reduction='sum')"
      ]
    },
    {
      "cell_type": "markdown",
      "metadata": {
        "id": "Eze0e7vtYU1Y"
      },
      "source": [
        "### 학습 진행"
      ]
    },
    {
      "cell_type": "code",
      "execution_count": null,
      "metadata": {
        "id": "cvhj3hD7YU1Y",
        "scrolled": true
      },
      "outputs": [],
      "source": [
        "total_logs = defaultdict(list)\n",
        "best_scores  = 0\n",
        "for epoch in range(cfg.epochs+1):\n",
        "    cfg.epoch = epoch\n",
        "    train_results = train_epoch(cfg, model, optimizer, criterion)\n",
        "    \n",
        "    # cfg.check_epoch 번의 epoch 마다 성능 확인 \n",
        "    if epoch % cfg.check_epoch == 0: \n",
        "        valid_results, _ = valid_epoch(cfg, model, valid)\n",
        "\n",
        "        logs = {\n",
        "            'Train Loss': train_results['losses'],\n",
        "            f'Valid Recall@{cfg.top_k}': valid_results['recall'],\n",
        "            f'Valid NDCG@{cfg.top_k}': valid_results['ndcg'],\n",
        "            'Valid Coverage': valid_results['coverage'],\n",
        "            'Valid Score': valid_results['score'],\n",
        "            }\n",
        "\n",
        "        # 검증 성능 확인 \n",
        "        for key, value in logs.items():\n",
        "            total_logs[key].append(value)\n",
        "\n",
        "        if epoch == 0:\n",
        "            print(\"Epoch\", end=\",\")\n",
        "            print(\",\".join(logs.keys()))\n",
        "\n",
        "        print(f\"{epoch:02d}  \", end=\"\")\n",
        "        print(\"  \".join([f\"{v:0.6f}\" for v in logs.values()]))\n",
        "        \n",
        "        # 가장 성능이 좋은 가중치 파일을 저장 \n",
        "        if best_scores <= valid_results['score']: \n",
        "            best_scores = valid_results['score']\n",
        "            torch.save(model.state_dict(), os.path.join(saved_path, 'model(best_scores).pth'))"
      ]
    },
    {
      "cell_type": "markdown",
      "metadata": {
        "id": "UNVpn37RYU1Z"
      },
      "source": [
        "### 학습 과정 시각화"
      ]
    },
    {
      "cell_type": "code",
      "execution_count": null,
      "metadata": {
        "id": "AOMbEPksfDHd"
      },
      "outputs": [],
      "source": [
        "train_scores = pd.DataFrame({'Train loss': total_logs['Train Loss']})\n",
        "train_scores['Epoch'] = range(0, cfg.epochs+1, cfg.check_epoch)"
      ]
    },
    {
      "cell_type": "code",
      "execution_count": null,
      "metadata": {
        "id": "AioIWJxafDHe"
      },
      "outputs": [],
      "source": [
        "(\n",
        "    ggplot(train_scores, aes(x='Epoch', y='Train loss'))\n",
        "        + geom_line(color='black') # line plot\n",
        "        + labs(x='Epoch', y='Train Loss')\n",
        "        + theme_light()\n",
        ")"
      ]
    },
    {
      "cell_type": "code",
      "execution_count": null,
      "metadata": {
        "id": "e0Et-ydHfDHe"
      },
      "outputs": [],
      "source": [
        "valid_scores = pd.DataFrame(np.hstack([(range(0, cfg.epochs+1, cfg.check_epoch), total_logs[score], [score for i in range(0, cfg.epochs+1, cfg.check_epoch)]) for score in ['Valid Recall@25', 'Valid NDCG@25', 'Valid Coverage', 'Valid Score']])).T\n",
        "valid_scores.columns = ['Epoch', 'Score', 'Metric']\n",
        "valid_scores['Epoch'] = valid_scores['Epoch'].astype(int)\n",
        "valid_scores['Score'] = valid_scores['Score'].astype(float)"
      ]
    },
    {
      "cell_type": "code",
      "execution_count": null,
      "metadata": {
        "id": "SZZaQdDTfDHe"
      },
      "outputs": [],
      "source": [
        "(\n",
        "ggplot(valid_scores)  # here\n",
        "    + aes(\"Epoch\", \"Score\", color='Metric', group='Metric')\n",
        "    + geom_line()\n",
        "    + scale_y_continuous(breaks=[0.1*c for c in range(1, 10, 1)])\n",
        "    + theme_light()\n",
        "    + labs(x='Epoch', y='Valid Metric')\n",
        ")  "
      ]
    },
    {
      "cell_type": "markdown",
      "metadata": {
        "id": "ZQHU1vdhfDHe"
      },
      "source": [
        "## 제출 \n",
        "### 모든 유저에 대해 추천 결과 생성"
      ]
    },
    {
      "cell_type": "code",
      "execution_count": null,
      "metadata": {
        "id": "BU-LNq47fDHf",
        "scrolled": true
      },
      "outputs": [],
      "source": [
        "model.load_state_dict(torch.load(os.path.join(saved_path, 'model(best_scores).pth')))"
      ]
    },
    {
      "cell_type": "code",
      "execution_count": null,
      "metadata": {
        "id": "uNzsvbxufDHf"
      },
      "outputs": [],
      "source": [
        "submission_path = os.path.join(data_path, 'sample_submission.csv')\n",
        "submission = pd.read_csv(submission_path)\n",
        "submission = valid_epoch(cfg, model, submission, mode='test')"
      ]
    },
    {
      "cell_type": "markdown",
      "metadata": {
        "id": "RILQXh0mfDHg"
      },
      "source": [
        "### 저장"
      ]
    },
    {
      "cell_type": "code",
      "execution_count": null,
      "metadata": {
        "id": "YyGKsfAdfDHg"
      },
      "outputs": [],
      "source": [
        "submission.to_csv(os.path.join(output_path, 'submission.csv'), index = False)"
      ]
    }
  ],
  "metadata": {
    "accelerator": "GPU",
    "colab": {
      "provenance": []
    },
    "kernelspec": {
      "display_name": "Python 3.9.13 ('recsys')",
      "language": "python",
      "name": "python3"
    },
    "language_info": {
      "codemirror_mode": {
        "name": "ipython",
        "version": 3
      },
      "file_extension": ".py",
      "mimetype": "text/x-python",
      "name": "python",
      "nbconvert_exporter": "python",
      "pygments_lexer": "ipython3",
      "version": "3.9.13"
    },
    "vscode": {
      "interpreter": {
        "hash": "f1dbd43fe9b6ac5035e713bc64837ed61b2c8b42edd7497e359f007ee89da5e4"
      }
    },
    "widgets": {
      "application/vnd.jupyter.widget-state+json": {
        "848a054afc9a453daa0bd30cf1bca6a7": {
          "model_module": "@jupyter-widgets/controls",
          "model_name": "HBoxModel",
          "model_module_version": "1.5.0",
          "state": {
            "_dom_classes": [],
            "_model_module": "@jupyter-widgets/controls",
            "_model_module_version": "1.5.0",
            "_model_name": "HBoxModel",
            "_view_count": null,
            "_view_module": "@jupyter-widgets/controls",
            "_view_module_version": "1.5.0",
            "_view_name": "HBoxView",
            "box_style": "",
            "children": [
              "IPY_MODEL_bade982dd632419caef7611404c6033f",
              "IPY_MODEL_6fdd77b47aa1437db537187d43da685e",
              "IPY_MODEL_25316b8205604de58becccd641539713"
            ],
            "layout": "IPY_MODEL_25f1fbf9cee449ff96aab7d314de689c"
          }
        },
        "bade982dd632419caef7611404c6033f": {
          "model_module": "@jupyter-widgets/controls",
          "model_name": "HTMLModel",
          "model_module_version": "1.5.0",
          "state": {
            "_dom_classes": [],
            "_model_module": "@jupyter-widgets/controls",
            "_model_module_version": "1.5.0",
            "_model_name": "HTMLModel",
            "_view_count": null,
            "_view_module": "@jupyter-widgets/controls",
            "_view_module_version": "1.5.0",
            "_view_name": "HTMLView",
            "description": "",
            "description_tooltip": null,
            "layout": "IPY_MODEL_8d36dcb44bf84e49b1a97c6337947c06",
            "placeholder": "​",
            "style": "IPY_MODEL_59fadccfcdb7492495502851295c7d88",
            "value": "100%"
          }
        },
        "6fdd77b47aa1437db537187d43da685e": {
          "model_module": "@jupyter-widgets/controls",
          "model_name": "FloatProgressModel",
          "model_module_version": "1.5.0",
          "state": {
            "_dom_classes": [],
            "_model_module": "@jupyter-widgets/controls",
            "_model_module_version": "1.5.0",
            "_model_name": "FloatProgressModel",
            "_view_count": null,
            "_view_module": "@jupyter-widgets/controls",
            "_view_module_version": "1.5.0",
            "_view_name": "ProgressView",
            "bar_style": "success",
            "description": "",
            "description_tooltip": null,
            "layout": "IPY_MODEL_91087f330f8441939d25b5a1abccc46e",
            "max": 719401,
            "min": 0,
            "orientation": "horizontal",
            "style": "IPY_MODEL_8613a9d5273a4a70b3a21d5f15bcf608",
            "value": 719401
          }
        },
        "25316b8205604de58becccd641539713": {
          "model_module": "@jupyter-widgets/controls",
          "model_name": "HTMLModel",
          "model_module_version": "1.5.0",
          "state": {
            "_dom_classes": [],
            "_model_module": "@jupyter-widgets/controls",
            "_model_module_version": "1.5.0",
            "_model_name": "HTMLModel",
            "_view_count": null,
            "_view_module": "@jupyter-widgets/controls",
            "_view_module_version": "1.5.0",
            "_view_name": "HTMLView",
            "description": "",
            "description_tooltip": null,
            "layout": "IPY_MODEL_8370ab376da244408de7e5a394c0968e",
            "placeholder": "​",
            "style": "IPY_MODEL_054dec4f429e42148cd1bd684feaa781",
            "value": " 719401/719401 [00:03&lt;00:00, 179066.27it/s]"
          }
        },
        "25f1fbf9cee449ff96aab7d314de689c": {
          "model_module": "@jupyter-widgets/base",
          "model_name": "LayoutModel",
          "model_module_version": "1.2.0",
          "state": {
            "_model_module": "@jupyter-widgets/base",
            "_model_module_version": "1.2.0",
            "_model_name": "LayoutModel",
            "_view_count": null,
            "_view_module": "@jupyter-widgets/base",
            "_view_module_version": "1.2.0",
            "_view_name": "LayoutView",
            "align_content": null,
            "align_items": null,
            "align_self": null,
            "border": null,
            "bottom": null,
            "display": null,
            "flex": null,
            "flex_flow": null,
            "grid_area": null,
            "grid_auto_columns": null,
            "grid_auto_flow": null,
            "grid_auto_rows": null,
            "grid_column": null,
            "grid_gap": null,
            "grid_row": null,
            "grid_template_areas": null,
            "grid_template_columns": null,
            "grid_template_rows": null,
            "height": null,
            "justify_content": null,
            "justify_items": null,
            "left": null,
            "margin": null,
            "max_height": null,
            "max_width": null,
            "min_height": null,
            "min_width": null,
            "object_fit": null,
            "object_position": null,
            "order": null,
            "overflow": null,
            "overflow_x": null,
            "overflow_y": null,
            "padding": null,
            "right": null,
            "top": null,
            "visibility": null,
            "width": null
          }
        },
        "8d36dcb44bf84e49b1a97c6337947c06": {
          "model_module": "@jupyter-widgets/base",
          "model_name": "LayoutModel",
          "model_module_version": "1.2.0",
          "state": {
            "_model_module": "@jupyter-widgets/base",
            "_model_module_version": "1.2.0",
            "_model_name": "LayoutModel",
            "_view_count": null,
            "_view_module": "@jupyter-widgets/base",
            "_view_module_version": "1.2.0",
            "_view_name": "LayoutView",
            "align_content": null,
            "align_items": null,
            "align_self": null,
            "border": null,
            "bottom": null,
            "display": null,
            "flex": null,
            "flex_flow": null,
            "grid_area": null,
            "grid_auto_columns": null,
            "grid_auto_flow": null,
            "grid_auto_rows": null,
            "grid_column": null,
            "grid_gap": null,
            "grid_row": null,
            "grid_template_areas": null,
            "grid_template_columns": null,
            "grid_template_rows": null,
            "height": null,
            "justify_content": null,
            "justify_items": null,
            "left": null,
            "margin": null,
            "max_height": null,
            "max_width": null,
            "min_height": null,
            "min_width": null,
            "object_fit": null,
            "object_position": null,
            "order": null,
            "overflow": null,
            "overflow_x": null,
            "overflow_y": null,
            "padding": null,
            "right": null,
            "top": null,
            "visibility": null,
            "width": null
          }
        },
        "59fadccfcdb7492495502851295c7d88": {
          "model_module": "@jupyter-widgets/controls",
          "model_name": "DescriptionStyleModel",
          "model_module_version": "1.5.0",
          "state": {
            "_model_module": "@jupyter-widgets/controls",
            "_model_module_version": "1.5.0",
            "_model_name": "DescriptionStyleModel",
            "_view_count": null,
            "_view_module": "@jupyter-widgets/base",
            "_view_module_version": "1.2.0",
            "_view_name": "StyleView",
            "description_width": ""
          }
        },
        "91087f330f8441939d25b5a1abccc46e": {
          "model_module": "@jupyter-widgets/base",
          "model_name": "LayoutModel",
          "model_module_version": "1.2.0",
          "state": {
            "_model_module": "@jupyter-widgets/base",
            "_model_module_version": "1.2.0",
            "_model_name": "LayoutModel",
            "_view_count": null,
            "_view_module": "@jupyter-widgets/base",
            "_view_module_version": "1.2.0",
            "_view_name": "LayoutView",
            "align_content": null,
            "align_items": null,
            "align_self": null,
            "border": null,
            "bottom": null,
            "display": null,
            "flex": null,
            "flex_flow": null,
            "grid_area": null,
            "grid_auto_columns": null,
            "grid_auto_flow": null,
            "grid_auto_rows": null,
            "grid_column": null,
            "grid_gap": null,
            "grid_row": null,
            "grid_template_areas": null,
            "grid_template_columns": null,
            "grid_template_rows": null,
            "height": null,
            "justify_content": null,
            "justify_items": null,
            "left": null,
            "margin": null,
            "max_height": null,
            "max_width": null,
            "min_height": null,
            "min_width": null,
            "object_fit": null,
            "object_position": null,
            "order": null,
            "overflow": null,
            "overflow_x": null,
            "overflow_y": null,
            "padding": null,
            "right": null,
            "top": null,
            "visibility": null,
            "width": null
          }
        },
        "8613a9d5273a4a70b3a21d5f15bcf608": {
          "model_module": "@jupyter-widgets/controls",
          "model_name": "ProgressStyleModel",
          "model_module_version": "1.5.0",
          "state": {
            "_model_module": "@jupyter-widgets/controls",
            "_model_module_version": "1.5.0",
            "_model_name": "ProgressStyleModel",
            "_view_count": null,
            "_view_module": "@jupyter-widgets/base",
            "_view_module_version": "1.2.0",
            "_view_name": "StyleView",
            "bar_color": null,
            "description_width": ""
          }
        },
        "8370ab376da244408de7e5a394c0968e": {
          "model_module": "@jupyter-widgets/base",
          "model_name": "LayoutModel",
          "model_module_version": "1.2.0",
          "state": {
            "_model_module": "@jupyter-widgets/base",
            "_model_module_version": "1.2.0",
            "_model_name": "LayoutModel",
            "_view_count": null,
            "_view_module": "@jupyter-widgets/base",
            "_view_module_version": "1.2.0",
            "_view_name": "LayoutView",
            "align_content": null,
            "align_items": null,
            "align_self": null,
            "border": null,
            "bottom": null,
            "display": null,
            "flex": null,
            "flex_flow": null,
            "grid_area": null,
            "grid_auto_columns": null,
            "grid_auto_flow": null,
            "grid_auto_rows": null,
            "grid_column": null,
            "grid_gap": null,
            "grid_row": null,
            "grid_template_areas": null,
            "grid_template_columns": null,
            "grid_template_rows": null,
            "height": null,
            "justify_content": null,
            "justify_items": null,
            "left": null,
            "margin": null,
            "max_height": null,
            "max_width": null,
            "min_height": null,
            "min_width": null,
            "object_fit": null,
            "object_position": null,
            "order": null,
            "overflow": null,
            "overflow_x": null,
            "overflow_y": null,
            "padding": null,
            "right": null,
            "top": null,
            "visibility": null,
            "width": null
          }
        },
        "054dec4f429e42148cd1bd684feaa781": {
          "model_module": "@jupyter-widgets/controls",
          "model_name": "DescriptionStyleModel",
          "model_module_version": "1.5.0",
          "state": {
            "_model_module": "@jupyter-widgets/controls",
            "_model_module_version": "1.5.0",
            "_model_name": "DescriptionStyleModel",
            "_view_count": null,
            "_view_module": "@jupyter-widgets/base",
            "_view_module_version": "1.2.0",
            "_view_name": "StyleView",
            "description_width": ""
          }
        }
      }
    }
  },
  "nbformat": 4,
  "nbformat_minor": 0
}